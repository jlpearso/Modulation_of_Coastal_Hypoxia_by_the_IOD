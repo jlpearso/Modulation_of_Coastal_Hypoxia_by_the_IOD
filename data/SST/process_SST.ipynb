{
 "cells": [
  {
   "cell_type": "markdown",
   "metadata": {},
   "source": [
    "# Setup"
   ]
  },
  {
   "cell_type": "code",
   "execution_count": 2,
   "metadata": {},
   "outputs": [
    {
     "data": {
      "text/plain": [
       "<xarray.Dataset>\n",
       "Dimensions:    (bnds: 2, lat: 720, lon: 1440, time: 445)\n",
       "Coordinates:\n",
       "  * lon        (lon) float32 0.125 0.375 0.625 0.875 ... 359.375 359.625 359.875\n",
       "  * lat        (lat) float32 -89.875 -89.625 -89.375 ... 89.375 89.625 89.875\n",
       "  * time       (time) datetime64[ns] 1981-09-15T12:00:00 ... 2018-09-15T12:00:00\n",
       "Dimensions without coordinates: bnds\n",
       "Data variables:\n",
       "    time_bnds  (time, bnds) datetime64[ns] ...\n",
       "    sst        (time, lat, lon) float32 ...\n",
       "Attributes:\n",
       "    CDI:                       Climate Data Interface version 1.8.2 (http://m...\n",
       "    Conventions:               CF-1.6\n",
       "    history:                   Thu Mar 28 17:31:58 2019: cdo monmean allsst.a...\n",
       "    NCO:                       \"4.5.4\"\n",
       "    nco_openmp_thread_number:  1\n",
       "    frequency:                 mon\n",
       "    CDO:                       Climate Data Operators version 1.8.2 (http://m..."
      ]
     },
     "execution_count": 2,
     "metadata": {},
     "output_type": "execute_result"
    }
   ],
   "source": [
    "# Packages -----------------------------------------------#\n",
    "\n",
    "# Data Analysis\n",
    "import xarray as xr\n",
    "import numpy as np\n",
    "import pandas as pd\n",
    "import metpy.calc as mpcalc\n",
    "import matplotlib.dates as dates\n",
    "import matplotlib.pyplot as plt\n",
    "from scipy.interpolate import griddata\n",
    "\n",
    "# Timing Processes and Progress\n",
    "import time\n",
    "from tqdm import tqdm\n",
    "\n",
    "# make sure the figures plot inline rather than at the end\n",
    "%matplotlib inline\n",
    "\n",
    "# get data\n",
    "path = '/home/jennap/projects/LRGROUP/shared_data/sst_OISSTmonthly/'\n",
    "infn = 'allsst.avhrr-only-v2.1981_2018_monthly.nc'\n",
    "\n",
    "ds = xr.open_dataset(path + infn)\n",
    "ds\n"
   ]
  },
  {
   "cell_type": "code",
   "execution_count": 3,
   "metadata": {},
   "outputs": [
    {
     "data": {
      "text/plain": [
       "<xarray.DataArray 'sst' (time: 445, lat: 200, lon: 340)>\n",
       "[30260000 values with dtype=float32]\n",
       "Coordinates:\n",
       "  * lon      (lon) float32 35.125 35.375 35.625 ... 119.375 119.625 119.875\n",
       "  * lat      (lat) float32 -19.875 -19.625 -19.375 ... 29.375 29.625 29.875\n",
       "  * time     (time) datetime64[ns] 1981-09-15T12:00:00 ... 2018-09-15T12:00:00\n",
       "Attributes:\n",
       "    long_name:  Daily sea surface temperature\n",
       "    units:      degrees C"
      ]
     },
     "execution_count": 3,
     "metadata": {},
     "output_type": "execute_result"
    }
   ],
   "source": [
    "# Subset ------------------------------------------------#\n",
    "# Create slice variables to subset domain before finding means\n",
    "lat_slice = slice(-20, 30) # bounds inclusive\n",
    "lon_slice = slice(35, 120) # bounds inclusive\n",
    "\n",
    "# Get data, selecting lat/lon slice\n",
    "mon_sst = ds['sst'].sel(lat=lat_slice,lon=lon_slice)\n",
    "lat = mon_sst.lat.values\n",
    "lon = mon_sst.lon.values\n",
    "mon_sst"
   ]
  },
  {
   "cell_type": "markdown",
   "metadata": {},
   "source": [
    "# 1993-2012 anomaly"
   ]
  },
  {
   "cell_type": "code",
   "execution_count": 4,
   "metadata": {},
   "outputs": [
    {
     "name": "stderr",
     "output_type": "stream",
     "text": [
      "/home/jennap/anaconda3/lib/python3.7/site-packages/xarray/core/nanops.py:161: RuntimeWarning: Mean of empty slice\n",
      "  return np.nanmean(a, axis=axis, dtype=dtype)\n"
     ]
    },
    {
     "data": {
      "text/plain": [
       "<xarray.DataArray 'sst' (time: 445, lat: 200, lon: 340)>\n",
       "array([[[-3.125532, -3.277723, ..., -3.018707, -3.005703],\n",
       "        [      nan, -3.145723, ..., -2.777374, -2.762371],\n",
       "        ...,\n",
       "        [      nan,       nan, ...,       nan,       nan],\n",
       "        [      nan,       nan, ...,       nan,       nan]],\n",
       "\n",
       "       [[-1.163843, -1.516088, ..., -1.59132 , -1.39266 ],\n",
       "        [      nan, -1.405443, ..., -1.464546, -1.262661],\n",
       "        ...,\n",
       "        [      nan,       nan, ...,       nan,       nan],\n",
       "        [      nan,       nan, ...,       nan,       nan]],\n",
       "\n",
       "       ...,\n",
       "\n",
       "       [[-1.945135, -2.184477, ..., -6.888741, -6.78137 ],\n",
       "        [      nan, -2.090282, ..., -6.115837, -6.060402],\n",
       "        ...,\n",
       "        [      nan,       nan, ...,       nan,       nan],\n",
       "        [      nan,       nan, ...,       nan,       nan]],\n",
       "\n",
       "       [[-0.685532, -1.05839 , ..., -5.110041, -5.163036],\n",
       "        [      nan, -1.059723, ..., -4.860041, -4.879036],\n",
       "        ...,\n",
       "        [      nan,       nan, ...,       nan,       nan],\n",
       "        [      nan,       nan, ...,       nan,       nan]]], dtype=float32)\n",
       "Coordinates:\n",
       "  * lon      (lon) float32 35.125 35.375 35.625 ... 119.375 119.625 119.875\n",
       "  * lat      (lat) float32 -19.875 -19.625 -19.375 ... 29.375 29.625 29.875\n",
       "  * time     (time) datetime64[ns] 1981-09-15T12:00:00 ... 2018-09-15T12:00:00"
      ]
     },
     "execution_count": 4,
     "metadata": {},
     "output_type": "execute_result"
    }
   ],
   "source": [
    "time_slice = slice('1993-01-01','2012-12-31')\n",
    "mean_mon_sst = mon_sst.sel(lat=lat_slice,lon=lon_slice, time = time_slice).mean(axis=0,skipna=True)\n",
    "mon_ssta = mon_sst - np. nanmean(mean_mon_sst,0)\n",
    "mon_ssta"
   ]
  },
  {
   "cell_type": "markdown",
   "metadata": {},
   "source": [
    "# Detrend"
   ]
  },
  {
   "cell_type": "code",
   "execution_count": 6,
   "metadata": {},
   "outputs": [
    {
     "name": "stdout",
     "output_type": "stream",
     "text": [
      "CPU times: user 1h 4min 41s, sys: 2min 32s, total: 1h 7min 13s\n",
      "Wall time: 2min 40s\n"
     ]
    }
   ],
   "source": [
    "%%time\n",
    "\n",
    "# stack lat and lon into a single dimension called allpoints\n",
    "stacked = mon_sst.stack(allpoints=['lat','lon'])\n",
    "# set places where there are nans to zero since polyfit can't deal with them\n",
    "stacked_nonan = stacked.fillna(0)\n",
    "\n",
    "# convert date to a number to polyfit can handle it\n",
    "datenum = dates.date2num(stacked_nonan.time)\n",
    "mon_ssta_slope, mon_ssta_intercept = np.polyfit(datenum, stacked_nonan, 1)\n",
    "\n",
    "#reshape the data\n",
    "mon_ssta_slope = np.reshape(mon_ssta_slope, mon_ssta.shape[1:3])\n",
    "mon_ssta_intercept = np.reshape(mon_ssta_intercept, mon_ssta.shape[1:3])\n",
    "\n",
    "# define a function to compute a linear trend of a timeseries\n",
    "def linear_detrend(y):\n",
    "    x = dates.date2num(y.time)\n",
    "    m, b = np.polyfit(x, y, 1)\n",
    "    # we need to return a dataarray or else xarray's groupby won't be happy\n",
    "    return xr.DataArray(y - (m*x + b))\n",
    "\n",
    "# apply the function over allpoints to calculate the trend at each point\n",
    "mon_ssta_dtrnd = stacked_nonan.groupby('allpoints').apply(linear_detrend)\n",
    "# unstack back to lat lon coordinates\n",
    "mon_ssta_dtrnd = mon_ssta_dtrnd.unstack('allpoints')\n",
    "\n",
    "# fill all points we set originally to zero back to nan\n",
    "mon_ssta_dtrnd = mon_ssta_dtrnd.where(~np.isnan(mon_ssta))"
   ]
  },
  {
   "cell_type": "code",
   "execution_count": 7,
   "metadata": {},
   "outputs": [
    {
     "name": "stderr",
     "output_type": "stream",
     "text": [
      "/home/jennap/anaconda3/lib/python3.7/site-packages/pandas/plotting/_converter.py:129: FutureWarning: Using an implicitly registered datetime converter for a matplotlib plotting method. The converter was registered by pandas on import. Future versions of pandas will require you to explicitly register matplotlib converters.\n",
      "\n",
      "To register the converters:\n",
      "\t>>> from pandas.plotting import register_matplotlib_converters\n",
      "\t>>> register_matplotlib_converters()\n",
      "  warnings.warn(msg, FutureWarning)\n"
     ]
    },
    {
     "data": {
      "text/plain": [
       "<function matplotlib.pyplot.legend(*args, **kwargs)>"
      ]
     },
     "execution_count": 7,
     "metadata": {},
     "output_type": "execute_result"
    },
    {
     "data": {
      "image/png": "[encoded data removed]",
      "text/plain": [
       "<Figure size 432x288 with 1 Axes>"
      ]
     },
     "metadata": {
      "needs_background": "light"
     },
     "output_type": "display_data"
    }
   ],
   "source": [
    "# find global means for comparison\n",
    "stacked = mon_ssta.stack(allpoints=['lat','lon'])\n",
    "global_mean = stacked.mean(dim='allpoints',skipna=True)\n",
    "global_mean.plot()\n",
    "\n",
    "# find global means for comparison\n",
    "stacked = mon_ssta_dtrnd.stack(allpoints=['lat','lon'])\n",
    "global_mean_dtrnd = stacked.mean(dim='allpoints',skipna=True)\n",
    "global_mean_dtrnd.plot()\n",
    "plt.legend"
   ]
  },
  {
   "cell_type": "markdown",
   "metadata": {},
   "source": [
    "# Downsample to Monthly and Seasonal Temporal Resolution"
   ]
  },
  {
   "cell_type": "code",
   "execution_count": 14,
   "metadata": {},
   "outputs": [
    {
     "name": "stderr",
     "output_type": "stream",
     "text": [
      "/home/jennap/anaconda3/lib/python3.7/site-packages/xarray/core/nanops.py:161: RuntimeWarning: Mean of empty slice\n",
      "  return np.nanmean(a, axis=axis, dtype=dtype)\n"
     ]
    },
    {
     "name": "stdout",
     "output_type": "stream",
     "text": [
      "CPU times: user 802 ms, sys: 54.8 ms, total: 857 ms\n",
      "Wall time: 745 ms\n"
     ]
    }
   ],
   "source": [
    "%%time\n",
    "# monthly\n",
    "# mon_chla_dtrnd = daily_chla_dtrnd.resample(time='1MS').mean(dim=\"time\")\n",
    "# seasonal\n",
    "seas_ssta_dtrnd = mon_ssta_dtrnd.resample(time='QS-DEC').mean(dim=\"time\")"
   ]
  },
  {
   "cell_type": "markdown",
   "metadata": {},
   "source": [
    "# Find Climatologies \n",
    "Resources: [link](http://xarray.pydata.org/en/stable/examples/monthly-means.html)"
   ]
  },
  {
   "cell_type": "code",
   "execution_count": 15,
   "metadata": {},
   "outputs": [
    {
     "name": "stderr",
     "output_type": "stream",
     "text": [
      "/home/jennap/anaconda3/lib/python3.7/site-packages/xarray/core/nanops.py:161: RuntimeWarning: Mean of empty slice\n",
      "  return np.nanmean(a, axis=axis, dtype=dtype)\n"
     ]
    },
    {
     "name": "stdout",
     "output_type": "stream",
     "text": [
      "CPU times: user 10 s, sys: 417 ms, total: 10.5 s\n",
      "Wall time: 616 ms\n"
     ]
    }
   ],
   "source": [
    "%%time\n",
    "# -------------------------------------------\n",
    "# weighted seasonal\n",
    "# -------------------------------------------\n",
    "\n",
    "# get months\n",
    "month_length = mon_ssta_dtrnd.time.dt.days_in_month\n",
    "\n",
    "# calculate the weights by grouping by 'time.season'.\n",
    "weights = month_length.groupby('time.season') / month_length.groupby('time.season').sum()\n",
    "\n",
    "# calculate the weighted average\n",
    "ssta_seas_clim = (mon_ssta_dtrnd * weights).groupby('time.season').sum(dim='time')   \n",
    "\n",
    "# set the places that are now zero from the weights to nans\n",
    "ssta_seas_clim = ssta_seas_clim.where(ssta_seas_clim != 0,np.nan) # for some reason .where sets the locations not in the condition to nan by default\n",
    "\n",
    "# -------------------------------------------\n",
    "# monthly\n",
    "# -------------------------------------------\n",
    "\n",
    "ssta_mon_clim = mon_ssta_dtrnd.groupby('time.month').mean('time') "
   ]
  },
  {
   "cell_type": "markdown",
   "metadata": {},
   "source": [
    "# Find Anomalies"
   ]
  },
  {
   "cell_type": "code",
   "execution_count": 17,
   "metadata": {},
   "outputs": [
    {
     "name": "stdout",
     "output_type": "stream",
     "text": [
      "CPU times: user 7.84 s, sys: 691 ms, total: 8.53 s\n",
      "Wall time: 383 ms\n"
     ]
    }
   ],
   "source": [
    "%%time\n",
    "# monthly avg data - monthly climatology\n",
    "mon_ssta_mon_anom = mon_ssta_dtrnd.groupby('time.month') - ssta_mon_clim\n",
    "\n",
    "# seasonal avg data - seasonal climatology\n",
    "seas_ssta_seas_anom = seas_ssta_dtrnd.groupby('time.season') - ssta_seas_clim"
   ]
  },
  {
   "cell_type": "code",
   "execution_count": 19,
   "metadata": {},
   "outputs": [],
   "source": [
    "# convert to xarray dataset\n",
    "ds=xr.Dataset(coords={'lon': mon_ssta_dtrnd.lon,\n",
    "                    'lat': mon_ssta_dtrnd.lat,\n",
    "                    'time': mon_ssta_dtrnd.time})\n",
    "\n",
    "# add variables to dataset\n",
    "\n",
    "ds[\"mon_ssta\"]=xr.DataArray(mon_ssta_dtrnd,dims = ['time','lat', 'lon'],\n",
    "                     coords =[mon_ssta_dtrnd.time,mon_ssta_dtrnd.lat,mon_ssta_dtrnd.lon])\n",
    "ds[\"seas_ssta\"]=xr.DataArray(seas_ssta_dtrnd,dims = ['season_time','lat', 'lon'],\n",
    "                     coords =[seas_ssta_dtrnd.time,mon_ssta_dtrnd.lat,mon_ssta_dtrnd.lon])\n",
    "\n",
    "# clim\n",
    "ds[\"ssta_mon_clim\"]=xr.DataArray(ssta_mon_clim,dims = ['month','lat', 'lon'],\n",
    "                     coords =[ssta_mon_clim.month,mon_ssta_dtrnd.lat,mon_ssta_dtrnd.lon])\n",
    "ds[\"ssta_seas_clim\"]=xr.DataArray(ssta_seas_clim,dims = ['season','lat', 'lon'],\n",
    "                     coords =[ssta_seas_clim.season,mon_ssta_dtrnd.lat,mon_ssta_dtrnd.lon])\n",
    "\n",
    "\n",
    "# anom\n",
    "ds[\"mon_ssta_mon_anom\"]=xr.DataArray(mon_ssta_mon_anom,dims = ['time','lat', 'lon'],\n",
    "                     coords =[mon_ssta_mon_anom.time,mon_ssta_dtrnd.lat,mon_ssta_dtrnd.lon])\n",
    "ds[\"seas_ssta_seas_anom\"]=xr.DataArray(seas_ssta_seas_anom,dims = ['season_time','lat', 'lon'],\n",
    "                     coords =[seas_ssta_seas_anom.time,mon_ssta_dtrnd.lat,mon_ssta_dtrnd.lon])\n"
   ]
  },
  {
   "cell_type": "code",
   "execution_count": 20,
   "metadata": {},
   "outputs": [
    {
     "data": {
      "text/plain": [
       "<xarray.Dataset>\n",
       "Dimensions:              (lat: 200, lon: 340, month: 12, season: 4, season_time: 149, time: 445)\n",
       "Coordinates:\n",
       "  * lon                  (lon) float64 35.12 35.38 35.62 ... 119.4 119.6 119.9\n",
       "  * lat                  (lat) float64 -19.88 -19.62 -19.38 ... 29.62 29.88\n",
       "  * time                 (time) datetime64[ns] 1981-09-15T12:00:00 ... 2018-09-15T12:00:00\n",
       "  * season_time          (season_time) datetime64[ns] 1981-09-01 ... 2018-09-01\n",
       "  * month                (month) int64 1 2 3 4 5 6 7 8 9 10 11 12\n",
       "  * season               (season) object 'DJF' 'JJA' 'MAM' 'SON'\n",
       "Data variables:\n",
       "    mon_ssta             (time, lat, lon) float64 -3.523 -3.414 ... nan nan\n",
       "    seas_ssta            (season_time, lat, lon) float64 -1.536 -1.587 ... nan\n",
       "    ssta_mon_clim        (month, lat, lon) float64 2.608 2.434 2.263 ... nan nan\n",
       "    ssta_seas_clim       (season, lat, lon) float64 2.416 2.247 ... nan nan\n",
       "    mon_ssta_mon_anom    (time, lat, lon) float64 -1.392 -1.234 ... nan nan\n",
       "    seas_ssta_seas_anom  (season_time, lat, lon) float64 -0.8668 -0.7964 ... nan"
      ]
     },
     "execution_count": 20,
     "metadata": {},
     "output_type": "execute_result"
    }
   ],
   "source": [
    "import os\n",
    "\n",
    "outfn = 'sst_processed.nc'\n",
    "\n",
    "# delete if already present\n",
    "if os.path.isfile(outfn):\n",
    "    os.remove(outfn)\n",
    "\n",
    "ds.to_netcdf(outfn,mode='w',format = \"NETCDF4\")\n",
    "\n",
    "ds"
   ]
  },
  {
   "cell_type": "code",
   "execution_count": null,
   "metadata": {},
   "outputs": [],
   "source": []
  }
 ],
 "metadata": {
  "kernelspec": {
   "display_name": "Python 3",
   "language": "python",
   "name": "python3"
  },
  "language_info": {
   "codemirror_mode": {
    "name": "ipython",
    "version": 3
   },
   "file_extension": ".py",
   "mimetype": "text/x-python",
   "name": "python",
   "nbconvert_exporter": "python",
   "pygments_lexer": "ipython3",
   "version": "3.7.3"
  }
 },
 "nbformat": 4,
 "nbformat_minor": 2
}
