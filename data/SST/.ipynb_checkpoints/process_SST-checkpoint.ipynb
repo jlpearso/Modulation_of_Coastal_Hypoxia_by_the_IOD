{
 "cells": [
  {
   "cell_type": "markdown",
   "metadata": {},
   "source": [
    "# Setup"
   ]
  },
  {
   "cell_type": "code",
   "execution_count": 22,
   "metadata": {},
   "outputs": [
    {
     "data": {
      "text/plain": [
       "<xarray.Dataset>\n",
       "Dimensions:    (lat: 180, lon: 360, time: 278)\n",
       "Coordinates:\n",
       "  * lat        (lat) float64 -89.5 -88.5 -87.5 -86.5 ... 86.5 87.5 88.5 89.5\n",
       "  * lon        (lon) float64 0.5 1.5 2.5 3.5 4.5 ... 356.5 357.5 358.5 359.5\n",
       "  * time       (time) datetime64[ns] 1997-09-01 1997-10-01 ... 2020-10-01\n",
       "Data variables:\n",
       "    chl1_mean  (time, lat, lon) float64 ...\n",
       "Attributes:\n",
       "    data_source:    http://hermes.acri.fr/index.php?class=archive\n",
       "    creator:        Jenna Pearson\n",
       "    timespan:       1997-2020\n",
       "    creation_date:  27-Nov-2020 13:58:24"
      ]
     },
     "execution_count": 22,
     "metadata": {},
     "output_type": "execute_result"
    }
   ],
   "source": [
    "# Packages -----------------------------------------------#\n",
    "\n",
    "# Data Analysis\n",
    "import xarray as xr\n",
    "import numpy as np\n",
    "import pandas as pd\n",
    "import metpy.calc as mpcalc\n",
    "import matplotlib.dates as dates\n",
    "import matplotlib.pyplot as plt\n",
    "from scipy.interpolate import griddata\n",
    "\n",
    "# Timing Processes and Progress\n",
    "import time\n",
    "from tqdm import tqdm\n",
    "\n",
    "# make sure the figures plot inline rather than at the end\n",
    "%matplotlib inline\n",
    "\n",
    "# get data\n",
    "path = '/home/jennap/projects/LRGROUP/shared_data/chl-globcolor-case-1-and-case-2-waters/concatenated-daily/'\n",
    "chlinfn = 'all_L3m_AV_CHL1_100km_global_monthly_merged_1997_2020.nc'\n",
    "# chlinfn = 'all_L3m_AV_CHL1_100km_global_daily_merged_1997_2020.nc'\n",
    "\n",
    "ds = xr.open_dataset(path + chlinfn)\n",
    "ds\n",
    "# ds.chl1_mean.attrs[\"units\"]\n",
    "# # print(ds.keys())\n"
   ]
  },
  {
   "cell_type": "code",
   "execution_count": 23,
   "metadata": {},
   "outputs": [
    {
     "data": {
      "text/plain": [
       "<xarray.DataArray 'chl1_mean' (time: 278, lat: 50, lon: 85)>\n",
       "[1181500 values with dtype=float64]\n",
       "Coordinates:\n",
       "  * lat      (lat) float64 -19.5 -18.5 -17.5 -16.5 -15.5 ... 26.5 27.5 28.5 29.5\n",
       "  * lon      (lon) float64 35.5 36.5 37.5 38.5 39.5 ... 116.5 117.5 118.5 119.5\n",
       "  * time     (time) datetime64[ns] 1997-09-01 1997-10-01 ... 2020-10-01\n",
       "Attributes:\n",
       "    long_name:      concentration of chlorophyll-a in sea water\n",
       "    units:          mg/m3\n",
       "    cell_methods:   area:mean yh:mean xh:mean time: mean\n",
       "    cell_measures:  area: area_t\n",
       "    time_avg_info:  average_T1,average_T2,average_DT"
      ]
     },
     "execution_count": 23,
     "metadata": {},
     "output_type": "execute_result"
    }
   ],
   "source": [
    "# Subset ------------------------------------------------#\n",
    "# Create slice variables to subset domain before finding means\n",
    "lat_slice = slice(-20, 30) # bounds inclusive\n",
    "lon_slice = slice(35, 120) # bounds inclusive\n",
    "\n",
    "# Get data, selecting lat/lon slice\n",
    "daily_chl = ds['chl1_mean'].sel(lat=lat_slice,lon=lon_slice)\n",
    "lat = daily_chl.lat.values\n",
    "lon = daily_chl.lon.values\n",
    "daily_chl"
   ]
  },
  {
   "cell_type": "markdown",
   "metadata": {},
   "source": [
    "# 1993-2012 anomaly"
   ]
  },
  {
   "cell_type": "code",
   "execution_count": 24,
   "metadata": {},
   "outputs": [
    {
     "name": "stderr",
     "output_type": "stream",
     "text": [
      "/home/jennap/anaconda3/lib/python3.7/site-packages/xarray/core/nanops.py:161: RuntimeWarning: Mean of empty slice\n",
      "  return np.nanmean(a, axis=axis, dtype=dtype)\n",
      "/home/jennap/anaconda3/lib/python3.7/site-packages/ipykernel_launcher.py:3: RuntimeWarning: Mean of empty slice\n",
      "  This is separate from the ipykernel package so we can avoid doing imports until\n"
     ]
    },
    {
     "data": {
      "text/plain": [
       "<xarray.DataArray 'chl1_mean' (time: 278, lat: 50, lon: 85)>\n",
       "array([[[-0.184402,  0.113649, ..., -0.074389, -0.103304],\n",
       "        [      nan, -0.076086, ...,  0.003263,  0.019576],\n",
       "        ...,\n",
       "        [      nan,       nan, ...,       nan,       nan],\n",
       "        [      nan,       nan, ...,       nan,       nan]],\n",
       "\n",
       "       [[-0.17734 ,  0.02708 , ..., -0.095896, -0.068206],\n",
       "        [      nan, -0.099579, ..., -0.00651 , -0.023853],\n",
       "        ...,\n",
       "        [      nan,       nan, ...,       nan,       nan],\n",
       "        [      nan,       nan, ...,       nan,       nan]],\n",
       "\n",
       "       ...,\n",
       "\n",
       "       [[ 0.100655, -0.056048, ..., -0.24532 , -0.295058],\n",
       "        [      nan,       nan, ..., -0.046967, -0.072032],\n",
       "        ...,\n",
       "        [      nan,       nan, ...,       nan,       nan],\n",
       "        [      nan,       nan, ...,       nan,       nan]],\n",
       "\n",
       "       [[-0.206945, -0.129312, ..., -0.177268, -0.183795],\n",
       "        [      nan,       nan, ..., -0.042447, -0.040916],\n",
       "        ...,\n",
       "        [      nan,       nan, ...,       nan,       nan],\n",
       "        [      nan,       nan, ...,       nan,       nan]]])\n",
       "Coordinates:\n",
       "  * lat      (lat) float64 -19.5 -18.5 -17.5 -16.5 -15.5 ... 26.5 27.5 28.5 29.5\n",
       "  * lon      (lon) float64 35.5 36.5 37.5 38.5 39.5 ... 116.5 117.5 118.5 119.5\n",
       "  * time     (time) datetime64[ns] 1997-09-01 1997-10-01 ... 2020-10-01"
      ]
     },
     "execution_count": 24,
     "metadata": {},
     "output_type": "execute_result"
    }
   ],
   "source": [
    "time_slice = slice('1993-01-01','2012-12-31')\n",
    "mchl = daily_chl.sel(lat=lat_slice,lon=lon_slice, time = time_slice).mean(axis=0,skipna=True)\n",
    "daily_chla = daily_chl - np. nanmean(daily_chl,0)\n",
    "daily_chla"
   ]
  },
  {
   "cell_type": "markdown",
   "metadata": {},
   "source": [
    "# Detrend"
   ]
  },
  {
   "cell_type": "code",
   "execution_count": 25,
   "metadata": {},
   "outputs": [
    {
     "name": "stdout",
     "output_type": "stream",
     "text": [
      "CPU times: user 4min 19s, sys: 9.81 s, total: 4min 28s\n",
      "Wall time: 10.7 s\n"
     ]
    }
   ],
   "source": [
    "%%time\n",
    "\n",
    "# stack lat and lon into a single dimension called allpoints\n",
    "stacked = daily_chla.stack(allpoints=['lat','lon'])\n",
    "# set places where there are nans to zero since polyfit can't deal with them\n",
    "stacked_nonan = stacked.fillna(0)\n",
    "\n",
    "# convert date to a number to polyfit can handle it\n",
    "datenum = dates.date2num(stacked_nonan.time)\n",
    "daily_chla_slope, daily_chla_intercept = np.polyfit(datenum, stacked_nonan, 1)\n",
    "\n",
    "#reshape the data\n",
    "daily_chla_slope = np.reshape(daily_chla_slope, daily_chla.shape[1:3])\n",
    "daily_chla_intercept = np.reshape(daily_chla_intercept, daily_chla.shape[1:3])\n",
    "\n",
    "# define a function to compute a linear trend of a timeseries\n",
    "def linear_detrend(y):\n",
    "    x = dates.date2num(y.time)\n",
    "    m, b = np.polyfit(x, y, 1)\n",
    "    # we need to return a dataarray or else xarray's groupby won't be happy\n",
    "    return xr.DataArray(y - (m*x + b))\n",
    "\n",
    "# apply the function over allpoints to calculate the trend at each point\n",
    "daily_chla_dtrnd = stacked_nonan.groupby('allpoints').apply(linear_detrend)\n",
    "# unstack back to lat lon coordinates\n",
    "daily_chla_dtrnd = daily_chla_dtrnd.unstack('allpoints')\n",
    "\n",
    "# fill all points we set originally to zero back to nan\n",
    "daily_chla_dtrnd = daily_chla_dtrnd.where(~np.isnan(daily_chla))"
   ]
  },
  {
   "cell_type": "code",
   "execution_count": 26,
   "metadata": {},
   "outputs": [
    {
     "data": {
      "text/plain": [
       "<function matplotlib.pyplot.legend(*args, **kwargs)>"
      ]
     },
     "execution_count": 26,
     "metadata": {},
     "output_type": "execute_result"
    },
    {
     "data": {
      "image/png": "[encoded data removed]",
      "text/plain": [
       "<Figure size 432x288 with 1 Axes>"
      ]
     },
     "metadata": {
      "needs_background": "light"
     },
     "output_type": "display_data"
    }
   ],
   "source": [
    "# find global means for comparison\n",
    "stacked = daily_chla.stack(allpoints=['lat','lon'])\n",
    "global_mean = stacked.mean(dim='allpoints',skipna=True)\n",
    "global_mean.plot()\n",
    "\n",
    "# find global means for comparison\n",
    "stacked = daily_chla_dtrnd.stack(allpoints=['lat','lon'])\n",
    "global_mean_dtrnd = stacked.mean(dim='allpoints',skipna=True)\n",
    "global_mean_dtrnd.plot()\n",
    "plt.legend"
   ]
  },
  {
   "cell_type": "markdown",
   "metadata": {},
   "source": [
    "# Downsample to Monthly and Seasonal Temporal Resolution"
   ]
  },
  {
   "cell_type": "code",
   "execution_count": 27,
   "metadata": {},
   "outputs": [
    {
     "name": "stdout",
     "output_type": "stream",
     "text": [
      "CPU times: user 950 ms, sys: 48.6 ms, total: 999 ms\n",
      "Wall time: 71.5 ms\n"
     ]
    },
    {
     "name": "stderr",
     "output_type": "stream",
     "text": [
      "/home/jennap/anaconda3/lib/python3.7/site-packages/xarray/core/nanops.py:161: RuntimeWarning: Mean of empty slice\n",
      "  return np.nanmean(a, axis=axis, dtype=dtype)\n"
     ]
    }
   ],
   "source": [
    "%%time\n",
    "# monthly\n",
    "mon_chla_dtrnd = daily_chla_dtrnd.resample(time='1MS').mean(dim=\"time\")\n",
    "# seasonal\n",
    "seas_chla_dtrnd = daily_chla_dtrnd.resample(time='QS-DEC').mean(dim=\"time\")"
   ]
  },
  {
   "cell_type": "markdown",
   "metadata": {},
   "source": [
    "# Find Climatologies \n",
    "Resources: [link](http://xarray.pydata.org/en/stable/examples/monthly-means.html)"
   ]
  },
  {
   "cell_type": "code",
   "execution_count": 28,
   "metadata": {},
   "outputs": [
    {
     "name": "stdout",
     "output_type": "stream",
     "text": [
      "CPU times: user 31.9 ms, sys: 7.01 ms, total: 38.9 ms\n",
      "Wall time: 37.3 ms\n"
     ]
    },
    {
     "name": "stderr",
     "output_type": "stream",
     "text": [
      "/home/jennap/anaconda3/lib/python3.7/site-packages/xarray/core/nanops.py:161: RuntimeWarning: Mean of empty slice\n",
      "  return np.nanmean(a, axis=axis, dtype=dtype)\n"
     ]
    }
   ],
   "source": [
    "%%time\n",
    "# -------------------------------------------\n",
    "# weighted seasonal\n",
    "# -------------------------------------------\n",
    "\n",
    "# get months\n",
    "month_length = mon_chla_dtrnd.time.dt.days_in_month\n",
    "\n",
    "# calculate the weights by grouping by 'time.season'.\n",
    "weights = month_length.groupby('time.season') / month_length.groupby('time.season').sum()\n",
    "\n",
    "# calculate the weighted average\n",
    "chla_seas_clim = (daily_chla_dtrnd * weights).groupby('time.season').sum(dim='time')   \n",
    "\n",
    "# set the places that are now zero from the weights to nans\n",
    "chla_seas_clim = chla_seas_clim.where(chla_seas_clim != 0,np.nan) # for some reason .where sets the locations not in the condition to nan by default\n",
    "\n",
    "# -------------------------------------------\n",
    "# monthly\n",
    "# -------------------------------------------\n",
    "\n",
    "chla_mon_clim = daily_chla_dtrnd.groupby('time.month').mean('time') "
   ]
  },
  {
   "cell_type": "markdown",
   "metadata": {},
   "source": [
    "# Find Anomalies"
   ]
  },
  {
   "cell_type": "code",
   "execution_count": 29,
   "metadata": {},
   "outputs": [
    {
     "name": "stdout",
     "output_type": "stream",
     "text": [
      "CPU times: user 720 ms, sys: 62.4 ms, total: 782 ms\n",
      "Wall time: 68.8 ms\n"
     ]
    }
   ],
   "source": [
    "%%time\n",
    "# monthly avg data - monthly climatology\n",
    "mon_chla_mon_anom = daily_chla_dtrnd.groupby('time.month') - chla_mon_clim\n",
    "\n",
    "# seasonal avg data - seasonal climatology\n",
    "seas_chla_seas_anom = daily_chla_dtrnd.groupby('time.season') - chla_seas_clim"
   ]
  },
  {
   "cell_type": "code",
   "execution_count": 30,
   "metadata": {},
   "outputs": [],
   "source": [
    "# convert to xarray dataset\n",
    "ds=xr.Dataset(coords={'lon': mon_chla_dtrnd.lon,\n",
    "                    'lat': mon_chla_dtrnd.lat,\n",
    "                    'time': mon_chla_dtrnd.time})\n",
    "\n",
    "# add variables to dataset\n",
    "\n",
    "ds[\"mon_chla\"]=xr.DataArray(mon_chla_dtrnd,dims = ['time','lat', 'lon'],\n",
    "                     coords =[mon_chla_dtrnd.time,mon_chla_dtrnd.lat,mon_chla_dtrnd.lon])\n",
    "ds[\"seas_chla\"]=xr.DataArray(seas_chla_dtrnd,dims = ['season_time','lat', 'lon'],\n",
    "                     coords =[seas_chla_dtrnd.time,mon_chla_dtrnd.lat,mon_chla_dtrnd.lon])\n",
    "\n",
    "# clim\n",
    "ds[\"chla_mon_clim\"]=xr.DataArray(chla_mon_clim,dims = ['month','lat', 'lon'],\n",
    "                     coords =[chla_mon_clim.month,mon_chla_dtrnd.lat,mon_chla_dtrnd.lon])\n",
    "ds[\"chla_seas_clim\"]=xr.DataArray(chla_seas_clim,dims = ['season','lat', 'lon'],\n",
    "                     coords =[chla_seas_clim.season,mon_chla_dtrnd.lat,mon_chla_dtrnd.lon])\n",
    "\n",
    "\n",
    "# anom\n",
    "ds[\"mon_chla_mon_anom\"]=xr.DataArray(mon_chla_mon_anom,dims = ['time','lat', 'lon'],\n",
    "                     coords =[mon_chla_mon_anom.time,mon_chla_dtrnd.lat,mon_chla_dtrnd.lon])\n",
    "ds[\"seas_chla_seas_anom\"]=xr.DataArray(seas_chla_seas_anom,dims = ['season_time','lat', 'lon'],\n",
    "                     coords =[seas_chla_seas_anom.time,mon_chla_dtrnd.lat,mon_chla_dtrnd.lon])\n"
   ]
  },
  {
   "cell_type": "code",
   "execution_count": 31,
   "metadata": {},
   "outputs": [
    {
     "data": {
      "text/plain": [
       "<xarray.Dataset>\n",
       "Dimensions:              (lat: 50, lon: 85, month: 12, season: 4, season_time: 93, time: 278)\n",
       "Coordinates:\n",
       "  * season_time          (season_time) datetime64[ns] 1997-09-01 ... 2020-09-01\n",
       "  * lon                  (lon) float64 35.5 36.5 37.5 38.5 ... 117.5 118.5 119.5\n",
       "  * lat                  (lat) float64 -19.5 -18.5 -17.5 ... 27.5 28.5 29.5\n",
       "  * time                 (time) datetime64[ns] 1997-09-01 ... 2020-10-01\n",
       "  * month                (month) int64 1 2 3 4 5 6 7 8 9 10 11 12\n",
       "  * season               (season) object 'DJF' 'JJA' 'MAM' 'SON'\n",
       "Data variables:\n",
       "    mon_chla             (time, lat, lon) float64 -0.1471 0.05359 ... nan nan\n",
       "    seas_chla            (season_time, lat, lon) float64 -0.2274 0.00753 ... nan\n",
       "    chla_mon_clim        (month, lat, lon) float64 0.02386 -0.07869 ... nan nan\n",
       "    chla_seas_clim       (season, lat, lon) float64 -0.06553 -0.06769 ... nan\n",
       "    mon_chla_mon_anom    (time, lat, lon) float64 -0.06631 -0.02149 ... nan nan\n",
       "    seas_chla_seas_anom  (season_time, lat, lon) float64 -0.008042 ... nan"
      ]
     },
     "execution_count": 31,
     "metadata": {},
     "output_type": "execute_result"
    }
   ],
   "source": [
    "import os\n",
    "\n",
    "outfn = 'chl_processed.nc'\n",
    "\n",
    "# delete if already present\n",
    "if os.path.isfile(outfn):\n",
    "    os.remove(outfn)\n",
    "\n",
    "ds.to_netcdf(outfn,mode='w',format = \"NETCDF4\")\n",
    "\n",
    "ds"
   ]
  },
  {
   "cell_type": "code",
   "execution_count": null,
   "metadata": {},
   "outputs": [],
   "source": []
  }
 ],
 "metadata": {
  "kernelspec": {
   "display_name": "Python 3",
   "language": "python",
   "name": "python3"
  },
  "language_info": {
   "codemirror_mode": {
    "name": "ipython",
    "version": 3
   },
   "file_extension": ".py",
   "mimetype": "text/x-python",
   "name": "python",
   "nbconvert_exporter": "python",
   "pygments_lexer": "ipython3",
   "version": "3.7.3"
  }
 },
 "nbformat": 4,
 "nbformat_minor": 2
}
