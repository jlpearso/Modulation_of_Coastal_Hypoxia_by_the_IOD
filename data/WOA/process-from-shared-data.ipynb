{
 "cells": [
  {
   "cell_type": "code",
   "execution_count": 11,
   "metadata": {},
   "outputs": [],
   "source": [
    "from os import listdir\n",
    "import scipy.interpolate as sp\n",
    "import sys\n",
    "import xarray as xr\n",
    "import numpy as np\n",
    "import matplotlib.pyplot as plt\n",
    "import datetime as dt\n",
    "import seawater as sw\n",
    "from tqdm import tqdm\n",
    "from scipy.interpolate import griddata"
   ]
  },
  {
   "cell_type": "code",
   "execution_count": 12,
   "metadata": {},
   "outputs": [
    {
     "name": "stderr",
     "output_type": "stream",
     "text": [
      "100%|██████████| 12/12 [00:01<00:00,  5.89it/s]\n"
     ]
    }
   ],
   "source": [
    "path=\"/tigress/GEOCLIM/LRGROUP/shared_data/woa18/WOA18_0to1500m/\"\n",
    "lonmin,lonmax=35,130\n",
    "latmin,latmax=-30,30\n",
    "for tt in tqdm(range(1,13)):\n",
    "    \n",
    "    if tt == 1:\n",
    "        TEMP = np.zeros((12,57,60,95))\n",
    "        DOXY = np.zeros((12,57,60,95))\n",
    "        PSAL = np.zeros((12,57,60,95))\n",
    "        \n",
    "    if tt < 10:\n",
    "        t='0'+str(tt)\n",
    "    else:\n",
    "        t=str(tt)\n",
    "        \n",
    "    # TEMP\n",
    "    data=xr.open_dataset(path+\"temperature/woa18_decav_t\"+t+\"_01.nc\", decode_times=False)\n",
    "    tmp=data[\"t_an\"][0,:,:,:]\n",
    "    Lat_s=np.logical_and(tmp.lat>latmin,tmp.lat<latmax)\n",
    "    Lon_s=np.logical_and(tmp.lon>lonmin,tmp.lon<lonmax)\n",
    "    tmp=np.array(tmp)[:,Lat_s]\n",
    "    tmp=np.array(tmp)[:,:,Lon_s]\n",
    "    TEMP[tt-1,:,:,:] = tmp\n",
    "    \n",
    "    depth_1500=data.depth\n",
    "    \n",
    "    # PSAL\n",
    "    data=xr.open_dataset(path+\"salinity/woa18_decav_s\"+t+\"_01.nc\", decode_times=False)\n",
    "    tmp=data[\"s_an\"][0,:,:,:]\n",
    "    Lat_s=np.logical_and(tmp.lat>latmin,tmp.lat<latmax)\n",
    "    Lon_s=np.logical_and(tmp.lon>lonmin,tmp.lon<lonmax)\n",
    "    tmp=np.array(tmp)[:,Lat_s]\n",
    "    tmp=np.array(tmp)[:,:,Lon_s]\n",
    "    PSAL[tt-1,:,:,:] = tmp\n",
    "    \n",
    "    # DOXY\n",
    "    data=xr.open_dataset(path+\"oxygen/woa18_all_o\"+t+\"_01.nc\", decode_times=False)\n",
    "    tmp=data[\"o_an\"][0,:,:,:]\n",
    "    Lat_s=np.logical_and(tmp.lat>latmin,tmp.lat<latmax)\n",
    "    Lon_s=np.logical_and(tmp.lon>lonmin,tmp.lon<lonmax)\n",
    "    tmp=np.array(tmp)[:,Lat_s]\n",
    "    tmp=np.array(tmp)[:,:,Lon_s]\n",
    "    DOXY[tt-1,:,:,:] = tmp\n",
    "    \n",
    "\n",
    "LON=np.array(data.lon)[Lon_s]\n",
    "LAT=np.array(data.lat)[Lat_s]\n",
    "DEPTH=np.array(depth_1500)"
   ]
  },
  {
   "cell_type": "markdown",
   "metadata": {},
   "source": [
    "# Interpolation"
   ]
  },
  {
   "cell_type": "code",
   "execution_count": 61,
   "metadata": {},
   "outputs": [
    {
     "data": {
      "text/plain": [
       "<xarray.Dataset>\n",
       "Dimensions:    (lat: 60, lon: 95, pres: 201, time: 12)\n",
       "Coordinates:\n",
       "  * time       (time) int64 1 2 3 4 5 6 7 8 9 10 11 12\n",
       "  * pres       (pres) float64 0.0 5.0 10.0 15.0 20.0 ... 985.0 990.0 995.0 1e+03\n",
       "  * lon        (lon) float32 35.5 36.5 37.5 38.5 ... 126.5 127.5 128.5 129.5\n",
       "  * lat        (lat) float32 -29.5 -28.5 -27.5 -26.5 ... 26.5 27.5 28.5 29.5\n",
       "Data variables:\n",
       "    TEMP_grid  (time, pres, lat, lon) float64 nan nan nan nan ... nan 4.5 nan\n",
       "    PSAL_grid  (time, pres, lat, lon) float64 nan nan nan nan ... nan 34.44 nan\n",
       "    DOXY_grid  (time, pres, lat, lon) float64 nan nan nan nan ... nan 75.65 nan"
      ]
     },
     "execution_count": 61,
     "metadata": {},
     "output_type": "execute_result"
    }
   ],
   "source": [
    "interp_min=0 # min pressure (in dbar)\n",
    "interp_max=1000 # max pressure (in dbar)\n",
    "interp_step=5\n",
    "\n",
    "PRES_i=np.linspace(interp_min,interp_max,1+int((interp_max-interp_min)/interp_step))\n",
    "\n",
    "n = len(LAT)\n",
    "m = len(LON)\n",
    "t = 12\n",
    "with tqdm(total=n * m * t) as pbar:\n",
    "    for tt in range(12):\n",
    "        for ii in range(len(LAT)):\n",
    "            for jj in range(len(LON)):\n",
    "\n",
    "                if tt == 0:\n",
    "                    TEMP_i = np.zeros((12,201,60,95))*np.nan\n",
    "                    DOXY_i = np.zeros((12,201,60,95))*np.nan\n",
    "                    PSAL_i = np.zeros((12,201,60,95))*np.nan\n",
    "\n",
    "                # conversion [m] -> [dbar]:\n",
    "                pres=sw.eos80.pres(DEPTH, [lat for i in range(len(DEPTH))])\n",
    "\n",
    "                # temp,psal,doxy selection\n",
    "                temp,psal,doxy = TEMP[tt,:,ii,jj],PSAL[tt,:,ii,jj],DOXY[tt,:,ii,jj]\n",
    "\n",
    "                # interpolation\n",
    "                ft = sp.interp1d(pres,temp,bounds_error=False,fill_value=np.nan)\n",
    "                TEMP_i[tt,:,ii,jj] = ft(PRES_i)\n",
    "                fo = sp.interp1d(pres,doxy,bounds_error=False,fill_value=np.nan)\n",
    "                DOXY_i[tt,:,ii,jj] = fo(PRES_i)\n",
    "                fs = sp.interp1d(pres,psal,bounds_error=False,fill_value=np.nan)\n",
    "                PSAL_i[tt,:,ii,jj] = fs(PRES_i)\n",
    "                \n",
    "                pbar.update(1)\n",
    "            \n",
    "\n",
    "            \n",
    "ds_i=xr.Dataset(coords={'time': np.arange(1,13),\n",
    "                        'pres': PRES_i,\n",
    "                        'lon': LON,\n",
    "                        'lat': LAT})\n",
    "# add to dataset\n",
    "ds_i['TEMP_grid'] = xr.DataArray(TEMP_i,dims = ['time','pres','lat','lon'],coords =[np.arange(1,13),PRES_i,LAT,LON])\n",
    "ds_i['PSAL_grid'] = xr.DataArray(PSAL_i,dims = ['time','pres','lat','lon'],coords =[np.arange(1,13),PRES_i,LAT,LON])\n",
    "ds_i['DOXY_grid'] = xr.DataArray(DOXY_i,dims = ['time','pres','lat','lon'],coords =[np.arange(1,13),PRES_i,LAT,LON])\n",
    "ds_i          "
   ]
  },
  {
   "cell_type": "code",
   "execution_count": 48,
   "metadata": {},
   "outputs": [
    {
     "data": {
      "text/plain": [
       "<xarray.Dataset>\n",
       "Dimensions:  (pres: 201, time: 306118)\n",
       "Coordinates:\n",
       "    prof     (time) int32 ...\n",
       "  * time     (time) datetime64[ns] 1827-10-30 1836-05-15 ... 2020-02-07\n",
       "  * pres     (pres) int32 0 5 10 15 20 25 30 35 ... 970 975 980 985 990 995 1000\n",
       "Data variables:\n",
       "    temp     (time, pres) float32 ...\n",
       "    psal     (time, pres) float32 ...\n",
       "    doxy     (time, pres) float32 ...\n",
       "    lat      (time) float32 ...\n",
       "    lon      (time) float32 ...\n",
       "    type     (time) int32 ..."
      ]
     },
     "execution_count": 48,
     "metadata": {},
     "output_type": "execute_result"
    }
   ],
   "source": [
    "# get merged data from tigress\n",
    "path_AWG = '../Merged/'\n",
    "infn_AWG = 'Profiles_temp_psal_doxy_processed.nc'\n",
    "\n",
    "ds_AWG = xr.open_dataset(path_AWG + infn_AWG)\n",
    "ds_AWG"
   ]
  },
  {
   "cell_type": "code",
   "execution_count": null,
   "metadata": {},
   "outputs": [
    {
     "name": "stderr",
     "output_type": "stream",
     "text": [
      " 73%|███████▎  | 1750/2412 [07:44<02:53,  3.82it/s]"
     ]
    }
   ],
   "source": [
    "xx,yy = np.meshgrid(ds_i.lon,ds_i.lat)\n",
    "xx = xx.flatten()\n",
    "yy = yy.flatten()\n",
    "\n",
    "lons= np.array(ds_AWG.lon)\n",
    "lats = np.array(ds_AWG.lat)\n",
    "months = np.array(ds_AWG.time.dt.month)\n",
    "\n",
    "TEMP_AWG = np.zeros((len(months),len(PRES_i)))*np.nan\n",
    "DOXY_AWG = np.zeros((len(months),len(PRES_i)))*np.nan\n",
    "PSAL_AWG = np.zeros((len(months),len(PRES_i)))*np.nan\n",
    "lon_AWG = np.zeros(len(months))*np.nan\n",
    "lat_AWG = np.zeros(len(months))*np.nan\n",
    "month_AWG = np.array(months)\n",
    "\n",
    "n = len(ds_i.time)\n",
    "m = len(PRES_i)\n",
    "with tqdm(total=n * m) as pbar:\n",
    "    for tt in range(n):\n",
    "        for dd in range(m):\n",
    "\n",
    "            temp = np.array(ds_i.TEMP_grid[tt,dd,:,:])\n",
    "            psal = np.array(ds_i.PSAL_grid[tt,dd,:,:])\n",
    "            doxy = np.array(ds_i.DOXY_grid[tt,dd,:,:])\n",
    "            indq = months == np.array(ds_i.time[tt])   \n",
    "            lonq = lons[indq]\n",
    "            latq = lats[indq]\n",
    "\n",
    "            # find the lons and lats of TCD vals at this time\n",
    "\n",
    "            points = np.array( (xx,yy) ).T\n",
    "            temp_values = temp.flatten()\n",
    "            psal_values = psal.flatten()\n",
    "            doxy_values = doxy.flatten()\n",
    "\n",
    "            TEMP_AWG[indq,dd] = griddata(points, temp_values, (lonq,latq) ,method='linear')\n",
    "            PSAL_AWG[indq,dd] = griddata(points, psal_values, (lonq,latq) ,method='linear')\n",
    "            DOXY_AWG[indq,dd] = griddata(points, doxy_values, (lonq,latq) ,method='linear')\n",
    "            lon_AWG[indq] = lonq\n",
    "            lat_AWG[indq] = latq\n",
    "            pbar.update(1)"
   ]
  },
  {
   "cell_type": "markdown",
   "metadata": {},
   "source": [
    "# SAVE"
   ]
  },
  {
   "cell_type": "code",
   "execution_count": null,
   "metadata": {},
   "outputs": [],
   "source": [
    "ds=xr.Dataset(coords={'month': month_AWG,\n",
    "                        'pres': PRES_i})\n",
    "# add to dataset\n",
    "ds['temp_AWG'] = xr.DataArray(TEMP_AWG,dims = ['month','pres'],coords =[month_AWG,PRES_i])\n",
    "ds['psal_AWG'] = xr.DataArray(PSAL_AWG,dims = ['month','pres'],coords =[month_AWG,PRES_i])\n",
    "ds['doxy_AWG'] = xr.DataArray(DOXY_AWG,dims = ['month','pres'],coords =[month_AWG,PRES_i])\n",
    "ds['lon_AWG'] = xr.DataArray(lon_AWG,dims = ['month'],coords =[month_AWG])\n",
    "ds['lat_AWG'] = xr.DataArray(lat_AWG,dims = ['month'],coords =[month_AWG])\n",
    "\n",
    "# save_path = '/projects/GEOCLIM/LRGROUP/jennap/Modulation_of_Coastal_Hypoxia_by_the_IOD/data/'\n",
    "save_path = \"\"\n",
    "ds.to_netcdf('woa_awg_processed.nc',mode='w',format = \"NETCDF4\")\n",
    "ds"
   ]
  },
  {
   "cell_type": "code",
   "execution_count": null,
   "metadata": {},
   "outputs": [],
   "source": []
  }
 ],
 "metadata": {
  "kernelspec": {
   "display_name": "Python 3",
   "language": "python",
   "name": "python3"
  },
  "language_info": {
   "codemirror_mode": {
    "name": "ipython",
    "version": 3
   },
   "file_extension": ".py",
   "mimetype": "text/x-python",
   "name": "python",
   "nbconvert_exporter": "python",
   "pygments_lexer": "ipython3",
   "version": "3.7.3"
  }
 },
 "nbformat": 4,
 "nbformat_minor": 2
}
