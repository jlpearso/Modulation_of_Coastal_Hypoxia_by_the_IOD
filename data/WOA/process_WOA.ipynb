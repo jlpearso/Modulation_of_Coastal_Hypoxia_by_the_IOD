{
 "cells": [
  {
   "cell_type": "code",
   "execution_count": 1,
   "metadata": {},
   "outputs": [],
   "source": [
    "from os import listdir\n",
    "import scipy.interpolate as sp\n",
    "import sys\n",
    "import xarray as xr\n",
    "import numpy as np\n",
    "import matplotlib.pyplot as plt\n",
    "import datetime as dt\n",
    "import seawater as sw\n",
    "from tqdm import tqdm\n",
    "from scipy.interpolate import griddata"
   ]
  },
  {
   "cell_type": "code",
   "execution_count": 2,
   "metadata": {},
   "outputs": [
    {
     "name": "stderr",
     "output_type": "stream",
     "text": [
      "100%|██████████| 12/12 [00:03<00:00,  3.60it/s]\n"
     ]
    },
    {
     "data": {
      "text/plain": [
       "<xarray.Dataset>\n",
       "Dimensions:    (depth: 57, lat: 60, lon: 95, month: 12)\n",
       "Coordinates:\n",
       "  * month      (month) int64 1 2 3 4 5 6 7 8 9 10 11 12\n",
       "  * depth      (depth) float32 0.0 5.0 10.0 15.0 ... 1350.0 1400.0 1450.0 1500.0\n",
       "  * lon        (lon) float32 35.5 36.5 37.5 38.5 ... 126.5 127.5 128.5 129.5\n",
       "  * lat        (lat) float32 -29.5 -28.5 -27.5 -26.5 ... 26.5 27.5 28.5 29.5\n",
       "Data variables:\n",
       "    temp_grid  (month, depth, lat, lon) float64 25.52 25.49 25.47 ... nan nan\n",
       "    psal_grid  (month, depth, lat, lon) float64 35.45 35.47 35.47 ... nan nan\n",
       "    doxy_grid  (month, depth, lat, lon) float64 217.1 216.1 214.1 ... nan nan\n",
       "    pres_grid  (depth, lat, lon) float64 0.0 0.0 0.0 ... 1.516e+03 1.516e+03"
      ]
     },
     "execution_count": 2,
     "metadata": {},
     "output_type": "execute_result"
    }
   ],
   "source": [
    "path=\"/tigress/GEOCLIM/LRGROUP/shared_data/woa18/WOA18_0to1500m/\"\n",
    "lonmin,lonmax=35,130\n",
    "latmin,latmax=-30,30\n",
    "for tt in tqdm(range(1,13)):\n",
    "    \n",
    "    if tt == 1:\n",
    "        TEMP = np.zeros((12,57,60,95))\n",
    "        DOXY = np.zeros((12,57,60,95))\n",
    "        PSAL = np.zeros((12,57,60,95))\n",
    "        \n",
    "    if tt < 10:\n",
    "        t='0'+str(tt)\n",
    "    else:\n",
    "        t=str(tt)\n",
    "        \n",
    "    # TEMP\n",
    "    data=xr.open_dataset(path+\"temperature/woa18_decav_t\"+t+\"_01.nc\", decode_times=False)\n",
    "    tmp=data[\"t_an\"][0,:,:,:]\n",
    "    Lat_s=np.logical_and(tmp.lat>latmin,tmp.lat<latmax)\n",
    "    Lon_s=np.logical_and(tmp.lon>lonmin,tmp.lon<lonmax)\n",
    "    tmp=np.array(tmp)[:,Lat_s]\n",
    "    tmp=np.array(tmp)[:,:,Lon_s]\n",
    "    TEMP[tt-1,:,:,:] = tmp\n",
    "    \n",
    "    # PSAL\n",
    "    data=xr.open_dataset(path+\"salinity/woa18_decav_s\"+t+\"_01.nc\", decode_times=False)\n",
    "    tmp=data[\"s_an\"][0,:,:,:]\n",
    "    Lat_s=np.logical_and(tmp.lat>latmin,tmp.lat<latmax)\n",
    "    Lon_s=np.logical_and(tmp.lon>lonmin,tmp.lon<lonmax)\n",
    "    tmp=np.array(tmp)[:,Lat_s]\n",
    "    tmp=np.array(tmp)[:,:,Lon_s]\n",
    "    PSAL[tt-1,:,:,:] = tmp\n",
    "    \n",
    "    # DOXY\n",
    "    data=xr.open_dataset(path+\"oxygen/woa18_all_o\"+t+\"_01.nc\", decode_times=False)\n",
    "    tmp=data[\"o_an\"][0,:,:,:]\n",
    "    Lat_s=np.logical_and(tmp.lat>latmin,tmp.lat<latmax)\n",
    "    Lon_s=np.logical_and(tmp.lon>lonmin,tmp.lon<lonmax)\n",
    "    tmp=np.array(tmp)[:,Lat_s]\n",
    "    tmp=np.array(tmp)[:,:,Lon_s]\n",
    "    DOXY[tt-1,:,:,:] = tmp\n",
    "    \n",
    "    depth_1500 = data.depth\n",
    "    \n",
    "\n",
    "LON=np.array(data.lon)[Lon_s]\n",
    "LAT=np.array(data.lat)[Lat_s]\n",
    "DEPTH=np.array(depth_1500)\n",
    "\n",
    "# DEPTH to PRES\n",
    "PRES = np.zeros((57,60,95))*np.nan\n",
    "n = len(LAT)\n",
    "m = len(LON)\n",
    "\n",
    "for ii,lat in zip(range(len(LAT)),LAT):\n",
    "    for jj in range(len(LON)):\n",
    "        PRES[:,ii,jj]=sw.eos80.pres(DEPTH, [lat for i in range(len(DEPTH))])\n",
    "        \n",
    "ds_grid=xr.Dataset(coords={'month': np.arange(1,13),\n",
    "                        'depth': DEPTH,\n",
    "                        'lon': LON,\n",
    "                        'lat': LAT})\n",
    "# add to dataset\n",
    "ds_grid['temp_grid'] = xr.DataArray(TEMP,dims = ['month','depth','lat','lon'],coords =[np.arange(1,13),DEPTH,LAT,LON])\n",
    "ds_grid['psal_grid'] = xr.DataArray(PSAL,dims = ['month','depth','lat','lon'],coords =[np.arange(1,13),DEPTH,LAT,LON])\n",
    "ds_grid['doxy_grid'] = xr.DataArray(DOXY,dims = ['month','depth','lat','lon'],coords =[np.arange(1,13),DEPTH,LAT,LON])\n",
    "ds_grid['pres_grid'] = xr.DataArray(PRES,dims = ['depth','lat','lon'],coords =[DEPTH,LAT,LON])\n",
    "\n",
    "ds_grid "
   ]
  },
  {
   "cell_type": "code",
   "execution_count": 3,
   "metadata": {},
   "outputs": [
    {
     "data": {
      "text/plain": [
       "<matplotlib.colorbar.Colorbar at 0x7fd39c32d6d8>"
      ]
     },
     "execution_count": 3,
     "metadata": {},
     "output_type": "execute_result"
    },
    {
     "data": {
      "image/png": "[encoded data removed]",
      "text/plain": [
       "<Figure size 432x288 with 2 Axes>"
      ]
     },
     "metadata": {
      "needs_background": "light"
     },
     "output_type": "display_data"
    }
   ],
   "source": [
    "plt.pcolormesh(ds_grid.doxy_grid[0,-30,:,:])\n",
    "plt.colorbar()"
   ]
  },
  {
   "cell_type": "markdown",
   "metadata": {},
   "source": [
    "# Interpolation"
   ]
  },
  {
   "cell_type": "code",
   "execution_count": 4,
   "metadata": {},
   "outputs": [
    {
     "name": "stderr",
     "output_type": "stream",
     "text": [
      "100%|██████████| 68400/68400 [00:14<00:00, 4832.83it/s]\n"
     ]
    },
    {
     "data": {
      "text/plain": [
       "<xarray.Dataset>\n",
       "Dimensions:    (lat: 60, lon: 95, month: 12, pres: 201)\n",
       "Coordinates:\n",
       "  * month      (month) int64 1 2 3 4 5 6 7 8 9 10 11 12\n",
       "  * pres       (pres) float64 0.0 5.0 10.0 15.0 20.0 ... 985.0 990.0 995.0 1e+03\n",
       "  * lon        (lon) float32 35.5 36.5 37.5 38.5 ... 126.5 127.5 128.5 129.5\n",
       "  * lat        (lat) float32 -29.5 -28.5 -27.5 -26.5 ... 26.5 27.5 28.5 29.5\n",
       "Data variables:\n",
       "    temp_grid  (month, pres, lat, lon) float64 25.52 25.49 25.47 ... nan 4.5 nan\n",
       "    psal_grid  (month, pres, lat, lon) float64 35.45 35.47 35.47 ... 34.44 nan\n",
       "    doxy_grid  (month, pres, lat, lon) float64 217.1 216.1 214.1 ... 75.65 nan"
      ]
     },
     "execution_count": 4,
     "metadata": {},
     "output_type": "execute_result"
    }
   ],
   "source": [
    "interp_min=0 # min pressure (in dbar)\n",
    "interp_max=1000 # max pressure (in dbar)\n",
    "interp_step=5\n",
    "\n",
    "PRES_i=np.linspace(interp_min,interp_max,1+int((interp_max-interp_min)/interp_step))\n",
    "\n",
    "n = len(LAT)\n",
    "m = len(LON)\n",
    "t = 12\n",
    "with tqdm(total=n * m * t) as pbar:\n",
    "    for tt in range(12):\n",
    "        \n",
    "        if tt == 0:\n",
    "            TEMP_i = np.zeros((12,201,60,95))*np.nan\n",
    "            DOXY_i = np.zeros((12,201,60,95))*np.nan\n",
    "            PSAL_i = np.zeros((12,201,60,95))*np.nan\n",
    "                    \n",
    "        for ii,lat in zip(range(len(LAT)),LAT):\n",
    "            for jj in range(len(LON)):\n",
    "\n",
    "                # conversion [m] -> [dbar]:\n",
    "                pres=sw.eos80.pres(DEPTH, [lat for i in range(len(DEPTH))])\n",
    "\n",
    "                # temp,psal,doxy selection\n",
    "                temp,psal,doxy = TEMP[tt,:,ii,jj],PSAL[tt,:,ii,jj],DOXY[tt,:,ii,jj]\n",
    "\n",
    "                # interpolation\n",
    "                ft = sp.interp1d(pres,temp,bounds_error=False,fill_value=np.nan)\n",
    "                TEMP_i[tt,:,ii,jj] = ft(PRES_i)\n",
    "                    \n",
    "                fo = sp.interp1d(pres,doxy,bounds_error=False,fill_value=np.nan)\n",
    "                DOXY_i[tt,:,ii,jj] = fo(PRES_i)\n",
    "                fs = sp.interp1d(pres,psal,bounds_error=False,fill_value=np.nan)\n",
    "                PSAL_i[tt,:,ii,jj] = fs(PRES_i)\n",
    "                \n",
    "                pbar.update(1)\n",
    "            \n",
    "\n",
    "            \n",
    "ds_i=xr.Dataset(coords={'month': np.arange(1,13),\n",
    "                        'pres': PRES_i,\n",
    "                        'lon': LON,\n",
    "                        'lat': LAT})\n",
    "# add to dataset\n",
    "ds_i['temp_grid'] = xr.DataArray(TEMP_i,dims = ['month','pres','lat','lon'],coords =[np.arange(1,13),PRES_i,LAT,LON])\n",
    "ds_i['psal_grid'] = xr.DataArray(PSAL_i,dims = ['month','pres','lat','lon'],coords =[np.arange(1,13),PRES_i,LAT,LON])\n",
    "ds_i['doxy_grid'] = xr.DataArray(DOXY_i,dims = ['month','pres','lat','lon'],coords =[np.arange(1,13),PRES_i,LAT,LON])\n",
    "ds_i          "
   ]
  },
  {
   "cell_type": "code",
   "execution_count": 5,
   "metadata": {},
   "outputs": [
    {
     "data": {
      "text/plain": [
       "<xarray.Dataset>\n",
       "Dimensions:  (pres: 201, time: 306118)\n",
       "Coordinates:\n",
       "    prof     (time) int32 ...\n",
       "  * time     (time) datetime64[ns] 1827-10-30 1836-05-15 ... 2020-02-07\n",
       "  * pres     (pres) int32 0 5 10 15 20 25 30 35 ... 970 975 980 985 990 995 1000\n",
       "Data variables:\n",
       "    temp     (time, pres) float32 ...\n",
       "    psal     (time, pres) float32 ...\n",
       "    doxy     (time, pres) float32 ...\n",
       "    lat      (time) float32 ...\n",
       "    lon      (time) float32 ...\n",
       "    type     (time) int32 ..."
      ]
     },
     "execution_count": 5,
     "metadata": {},
     "output_type": "execute_result"
    }
   ],
   "source": [
    "# get merged data from tigress\n",
    "path_AWG = '../Merged/'\n",
    "infn_AWG = 'Profiles_temp_psal_doxy_processed.nc'\n",
    "\n",
    "ds_AWG = xr.open_dataset(path_AWG + infn_AWG)\n",
    "ds_AWG"
   ]
  },
  {
   "cell_type": "code",
   "execution_count": 6,
   "metadata": {},
   "outputs": [
    {
     "name": "stderr",
     "output_type": "stream",
     "text": [
      "100%|██████████| 2412/2412 [10:33<00:00,  3.80it/s]\n"
     ]
    },
    {
     "data": {
      "text/plain": [
       "<xarray.Dataset>\n",
       "Dimensions:  (month: 306118, pres: 201)\n",
       "Coordinates:\n",
       "  * month    (month) int64 10 5 12 2 5 2 2 3 3 3 2 2 ... 2 2 2 2 2 2 2 2 2 2 2 2\n",
       "  * pres     (pres) float64 0.0 5.0 10.0 15.0 20.0 ... 985.0 990.0 995.0 1e+03\n",
       "Data variables:\n",
       "    temp     (month, pres) float64 nan nan nan nan ... 6.755 6.726 6.697 6.668\n",
       "    psal     (month, pres) float64 nan nan nan nan ... 34.95 34.95 34.95 34.94\n",
       "    doxy     (month, pres) float64 nan nan nan nan ... 53.83 54.12 54.41 54.7\n",
       "    lon      (month) float64 119.8 41.0 85.33 98.5 ... 64.74 73.59 53.53 84.37\n",
       "    lat      (month) float64 -18.0 -27.5 -7.9 -26.78 ... 14.39 -3.16 11.25 1.808"
      ]
     },
     "execution_count": 6,
     "metadata": {},
     "output_type": "execute_result"
    }
   ],
   "source": [
    "xx,yy = np.meshgrid(ds_i.lon,ds_i.lat)\n",
    "xx = xx.flatten()\n",
    "yy = yy.flatten()\n",
    "\n",
    "lons= np.array(ds_AWG.lon)\n",
    "lats = np.array(ds_AWG.lat)\n",
    "months = np.array(ds_AWG.time.dt.month)\n",
    "\n",
    "TEMP_AWG = np.zeros((len(months),len(PRES_i)))*np.nan\n",
    "DOXY_AWG = np.zeros((len(months),len(PRES_i)))*np.nan\n",
    "PSAL_AWG = np.zeros((len(months),len(PRES_i)))*np.nan\n",
    "lon_AWG = np.zeros(len(months))*np.nan\n",
    "lat_AWG = np.zeros(len(months))*np.nan\n",
    "month_AWG = np.array(months)\n",
    "\n",
    "n = len(ds_i.month)\n",
    "m = len(PRES_i)\n",
    "with tqdm(total=n * m) as pbar:\n",
    "    for tt in range(n):\n",
    "        for dd in range(m):\n",
    "\n",
    "            temp = np.array(ds_i.temp_grid[tt,dd,:,:])\n",
    "            psal = np.array(ds_i.psal_grid[tt,dd,:,:])\n",
    "            doxy = np.array(ds_i.doxy_grid[tt,dd,:,:])\n",
    "            indq = months == np.array(ds_i.month[tt])   \n",
    "            lonq = lons[indq]\n",
    "            latq = lats[indq]\n",
    "\n",
    "            # find the lons and lats of TCD vals at this time\n",
    "\n",
    "            points = np.array( (xx,yy) ).T\n",
    "            temp_values = temp.flatten()\n",
    "            psal_values = psal.flatten()\n",
    "            doxy_values = doxy.flatten()\n",
    "\n",
    "            TEMP_AWG[indq,dd] = griddata(points, temp_values, (lonq,latq) ,method='linear')\n",
    "            PSAL_AWG[indq,dd] = griddata(points, psal_values, (lonq,latq) ,method='linear')\n",
    "            DOXY_AWG[indq,dd] = griddata(points, doxy_values, (lonq,latq) ,method='linear')\n",
    "            lon_AWG[indq] = lonq\n",
    "            lat_AWG[indq] = latq\n",
    "            pbar.update(1)\n",
    "\n",
    "# set the places that are nans in AWG temp or doxy to nan\n",
    "ind = np.isnan(ds_AWG.temp)\n",
    "TEMP_AWG[ind] = np.nan\n",
    "\n",
    "ind = np.isnan(ds_AWG.doxy)\n",
    "DOXY_AWG[ind] = np.nan\n",
    "\n",
    "ind = np.isnan(ds_AWG.psal)\n",
    "PSAL_AWG[ind] = np.nan\n",
    "\n",
    "ds=xr.Dataset(coords={'month': month_AWG,\n",
    "                        'pres': PRES_i})\n",
    "\n",
    "ds=xr.Dataset(coords={'month': month_AWG,\n",
    "                        'pres': PRES_i})\n",
    "# add to dataset\n",
    "ds['temp'] = xr.DataArray(TEMP_AWG,dims = ['month','pres'],coords =[month_AWG,PRES_i])\n",
    "ds['psal'] = xr.DataArray(PSAL_AWG,dims = ['month','pres'],coords =[month_AWG,PRES_i])\n",
    "ds['doxy'] = xr.DataArray(DOXY_AWG,dims = ['month','pres'],coords =[month_AWG,PRES_i])\n",
    "ds['lon'] = xr.DataArray(lon_AWG,dims = ['month'],coords =[month_AWG])\n",
    "ds['lat'] = xr.DataArray(lat_AWG,dims = ['month'],coords =[month_AWG])\n",
    "ds "
   ]
  },
  {
   "cell_type": "code",
   "execution_count": 7,
   "metadata": {},
   "outputs": [],
   "source": [
    "# # process to correspond to SLA locations\n",
    "\n",
    "# # SLA\n",
    "# path_SLA = '../SLA/'\n",
    "# infn_SLA = 'sla_grid_processed.nc'\n",
    "\n",
    "# ds_SLA = xr.open_dataset(path_SLA + infn_SLA)\n",
    "# ds_SLA"
   ]
  },
  {
   "cell_type": "code",
   "execution_count": 8,
   "metadata": {},
   "outputs": [],
   "source": [
    "# xx,yy = np.meshgrid(ds_i.lon,ds_i.lat)\n",
    "# xx = xx.flatten()\n",
    "# yy = yy.flatten()\n",
    "\n",
    "# xx_SLA,yy_SLA = np.meshgrid(ds_SLA.lon,ds_SLA.lat)\n",
    "\n",
    "# TEMP_SLA = np.zeros((len(ds_grid.month),len(PRES),len(ds_SLA.lat),len(ds_SLA.lon)))*np.nan\n",
    "# DOXY_SLA = np.zeros((len(ds_grid.month),len(PRES),len(ds_SLA.lat),len(ds_SLA.lon)))*np.nan\n",
    "# PSAL_SLA = np.zeros((len(ds_grid.month),len(PRES),len(ds_SLA.lat),len(ds_SLA.lon)))*np.nan\n",
    "# PRES_SLA = np.zeros((len(PRES),len(ds_SLA.lat),len(ds_SLA.lon)))*np.nan\n",
    "\n",
    "# n = len(ds_grid.month)\n",
    "# m = len(DEPTH)\n",
    "# with tqdm(total=n * m) as pbar:\n",
    "#     for tt in range(n):\n",
    "#         for dd in range(m):\n",
    "\n",
    "#             temp = np.array(TEMP[tt,dd,:,:])\n",
    "#             psal = np.array(PSAL[tt,dd,:,:])\n",
    "#             doxy = np.array(DOXY[tt,dd,:,:])\n",
    "#             pres = np.array(PRES[dd,:,:])\n",
    "\n",
    "#             # find the lons and lats of TCD vals at this time\n",
    "\n",
    "#             points = np.array( (xx,yy) ).T\n",
    "#             temp_values = temp.flatten()\n",
    "#             psal_values = psal.flatten()\n",
    "#             doxy_values = doxy.flatten()\n",
    "#             pres_values = pres.flatten()\n",
    "\n",
    "#             TEMP_SLA[tt,dd,:,:] = griddata(points, temp_values, (xx_SLA,yy_SLA) ,method='linear')\n",
    "#             PSAL_SLA[tt,dd,:,:] = griddata(points, psal_values, (xx_SLA,yy_SLA) ,method='linear')\n",
    "#             DOXY_SLA[tt,dd,:,:] = griddata(points, doxy_values, (xx_SLA,yy_SLA) ,method='linear')\n",
    "#             PRES_SLA[dd,:,:] = griddata(points, pres_values, (xx_SLA,yy_SLA) ,method='linear')\n",
    "#             pbar.update(1)\n",
    "            \n",
    "\n",
    "\n",
    "# ds_SLA_grid=xr.Dataset(coords={'month': np.arange(1,13),\n",
    "#                         'depth': DEPTH,\n",
    "#                         'lon': ds_SLA.lon,\n",
    "#                         'lat': ds_SLA.lat})\n",
    "# # add to dataset\n",
    "# ds_SLA_grid['temp_grid'] = xr.DataArray(TEMP_SLA,dims = ['month','depth','lat','lon'],coords =[np.arange(1,13),DEPTH,ds_SLA.lat,ds_SLA.lon])\n",
    "# ds_SLA_grid['psal_grid'] = xr.DataArray(PSAL_SLA,dims = ['month','depth','lat','lon'],coords =[np.arange(1,13),DEPTH,ds_SLA.lat,ds_SLA.lon])\n",
    "# ds_SLA_grid['doxy_grid'] = xr.DataArray(DOXY_SLA,dims = ['month','depth','lat','lon'],coords =[np.arange(1,13),DEPTH,ds_SLA.lat,ds_SLA.lon])\n",
    "# ds_SLA_grid['pres_grid'] = xr.DataArray(PRES_SLA,dims = ['depth','lat','lon'],coords =[DEPTH,ds_SLA.lat,ds_SLA.lon])\n",
    "\n",
    "# # # set places where sla is nan to nan\n",
    "# # ind = np.isnan(np.array(ds_SLA.daily_sla))\n",
    "# # ds_SLA_grid.temp_grid = ds_SLA_grid.temp_grid.where(~ind)\n",
    "# # ds_SLA_grid.temp_grid = ds_SLA_grid.temp_grid.where(~ind)\n",
    "# # ds_SLA_grid.temp_grid = ds_SLA_grid.temp_grid.where(~ind)\n",
    "# # ds_SLA_grid.temp_grid = ds_SLA_grid.temp_grid.where(~ind)\n",
    "\n",
    "# ds_SLA_grid "
   ]
  },
  {
   "cell_type": "markdown",
   "metadata": {},
   "source": [
    "# remove any negative doxy values"
   ]
  },
  {
   "cell_type": "code",
   "execution_count": 9,
   "metadata": {},
   "outputs": [],
   "source": [
    "# set negative oxygen values to nan\n",
    "ds['doxy'] = ds.doxy.where(ds.doxy >= 0)\n",
    "ds_grid['doxy_grid'] = ds_grid.doxy_grid.where(ds_grid.doxy_grid >= 0)\n",
    "ds_i['doxy_grid'] = ds_i.doxy_grid.where(ds_i.doxy_grid >= 0)\n",
    "# ds_SLA_grid['doxy_grid'] = ds_SLA_grid.doxy_grid.where(ds_SLA_grid.doxy_grid >= 0)\n",
    "\n",
    "# plt.plot(ds.doxy.min(dim = 'pres'),'.')\n",
    "# plt.ylim([-1,1])\n",
    "# plt.xlabel('Profile No.')\n",
    "# plt.ylabel('min doxy negs removed')"
   ]
  },
  {
   "cell_type": "markdown",
   "metadata": {},
   "source": [
    "# SAVE"
   ]
  },
  {
   "cell_type": "code",
   "execution_count": 10,
   "metadata": {},
   "outputs": [],
   "source": [
    "# save_path = '/projects/GEOCLIM/LRGROUP/jennap/Modulation_of_Coastal_Hypoxia_by_the_IOD/data/'\n",
    "\n",
    "import os\n",
    "\n",
    "# AWG data\n",
    "outfn = 'woa_awg_processed.nc'\n",
    "\n",
    "# delete if already present\n",
    "if os.path.isfile(outfn):\n",
    "    os.remove(outfn)\n",
    "\n",
    "ds.to_netcdf(outfn,mode='w',format = \"NETCDF4\")\n",
    "\n",
    "# Gridded data\n",
    "\n",
    "outfn = 'woa_grid_processed.nc'\n",
    "\n",
    "# delete if already present\n",
    "if os.path.isfile(outfn):\n",
    "    os.remove(outfn)\n",
    "\n",
    "ds_grid.to_netcdf(outfn,mode='w',format = \"NETCDF4\")\n",
    "\n",
    "# Gridded data\n",
    "\n",
    "# outfn = 'woa_sla_processed.nc'\n",
    "\n",
    "# # delete if already present\n",
    "# if os.path.isfile(outfn):\n",
    "#     os.remove(outfn)\n",
    "\n",
    "# ds_SLA_grid.to_netcdf(outfn,mode='w',format = \"NETCDF4\")"
   ]
  },
  {
   "cell_type": "code",
   "execution_count": null,
   "metadata": {},
   "outputs": [],
   "source": []
  }
 ],
 "metadata": {
  "kernelspec": {
   "display_name": "Python 3",
   "language": "python",
   "name": "python3"
  },
  "language_info": {
   "codemirror_mode": {
    "name": "ipython",
    "version": 3
   },
   "file_extension": ".py",
   "mimetype": "text/x-python",
   "name": "python",
   "nbconvert_exporter": "python",
   "pygments_lexer": "ipython3",
   "version": "3.7.3"
  }
 },
 "nbformat": 4,
 "nbformat_minor": 2
}
