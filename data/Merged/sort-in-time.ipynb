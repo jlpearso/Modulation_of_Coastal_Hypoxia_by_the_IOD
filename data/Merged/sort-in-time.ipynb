{
 "cells": [
  {
   "cell_type": "markdown",
   "metadata": {},
   "source": [
    "# Setup"
   ]
  },
  {
   "cell_type": "code",
   "execution_count": 1,
   "metadata": {},
   "outputs": [],
   "source": [
    "# Packages -----------------------------------------------#\n",
    "\n",
    "# Data Analysis\n",
    "import xarray as xr\n",
    "import numpy as np\n",
    "import pandas as pd\n",
    "import metpy.calc as mpcalc\n",
    "import matplotlib.dates as dates\n",
    "import matplotlib.pyplot as plt\n",
    "from scipy.interpolate import griddata\n",
    "\n",
    "# Timing Processes and Progress\n",
    "import time\n",
    "from tqdm import tqdm\n",
    "\n",
    "# make sure the figures plot inline rather than at the end\n",
    "%matplotlib inline"
   ]
  },
  {
   "cell_type": "code",
   "execution_count": 4,
   "metadata": {},
   "outputs": [
    {
     "data": {
      "text/plain": [
       "<xarray.Dataset>\n",
       "Dimensions:  (pres: 201, time: 306118)\n",
       "Coordinates:\n",
       "    prof     (time) int32 286462 286463 286464 286465 ... 251414 252160 252508\n",
       "  * time     (time) datetime64[ns] 1827-10-30 1836-05-15 ... 2020-02-07\n",
       "  * pres     (pres) int32 0 5 10 15 20 25 30 35 ... 970 975 980 985 990 995 1000\n",
       "Data variables:\n",
       "    temp     (time, pres) float32 nan nan nan nan ... 6.482922 6.45122 6.4202943\n",
       "    psal     (time, pres) float32 nan nan nan ... 34.940956 34.939495 34.937958\n",
       "    doxy     (time, pres) float32 nan nan nan ... 48.04291 48.480473 48.916607\n",
       "    lat      (time) float32 -18.0 -27.5 -7.9 -26.78 ... -3.16 11.251 1.808\n",
       "    lon      (time) float32 119.83 41.0 85.33 98.5 ... 73.594 53.525 84.366\n",
       "    type     (time) int32 2 2 2 2 2 2 2 2 2 2 2 2 2 ... 0 0 0 0 0 0 0 0 0 1 1 1"
      ]
     },
     "execution_count": 4,
     "metadata": {},
     "output_type": "execute_result"
    }
   ],
   "source": [
    "# get merged data from tigress\n",
    "infn = 'Profiles_temp_psal_doxy.nc'\n",
    "\n",
    "ds_AWG = xr.open_dataset(infn)\n",
    "# print(ds.keys())\n",
    "\n",
    "# change time variable ----------------------------------#\n",
    "# set the units to be something xarray can decode\n",
    "ds_AWG.time.attrs['units'] = 'days since 1800-01-01'\n",
    "#re-decode the dataset\n",
    "ds_AWG = xr.decode_cf(ds_AWG)\n",
    "\n",
    "# # add time as a coordinate\n",
    "ds_AWG= ds_AWG.assign_coords(unsorted_time=ds_AWG.time)\n",
    "\n",
    "# reset profile variables to be with respect to time\n",
    "ds_AWG['temp'] = xr.DataArray(ds_AWG.temp,dims = ['unsorted_time','pres'],coords =[ds_AWG.time,ds_AWG.pres])\n",
    "ds_AWG['psal'] = xr.DataArray(ds_AWG.psal,dims = ['unsorted_time','pres'],coords =[ds_AWG.time,ds_AWG.pres])\n",
    "ds_AWG['doxy'] = xr.DataArray(ds_AWG.doxy,dims = ['unsorted_time','pres'],coords =[ds_AWG.time,ds_AWG.pres])\n",
    "ds_AWG['lat'] = xr.DataArray(ds_AWG.lat,dims = ['unsorted_time'],coords =[ds_AWG.time])\n",
    "ds_AWG['lon'] = xr.DataArray(ds_AWG.lon,dims = ['unsorted_time'],coords =[ds_AWG.time])\n",
    "ds_AWG['type'] = xr.DataArray(ds_AWG.type,dims = ['unsorted_time'],coords =[ds_AWG.time])\n",
    "ds_AWG['prof'] = xr.DataArray(ds_AWG.prof,dims = ['unsorted_time'],coords =[ds_AWG.time])\n",
    "# get rid of intial time variable\n",
    "ds_AWG = ds_AWG[['temp','psal','doxy','lat','lon','type','prof']]\n",
    "\n",
    "sorted_time = ds_AWG.unsorted_time.sortby(ds_AWG.unsorted_time)\n",
    "\n",
    "# sort based on time\n",
    "ds_AWG['temp'] = xr.DataArray(ds_AWG.temp.sortby(ds_AWG.unsorted_time),dims = ['time','pres'],coords =[sorted_time,ds_AWG.pres])\n",
    "ds_AWG['psal'] = xr.DataArray(ds_AWG.psal.sortby(ds_AWG.unsorted_time),dims = ['time','pres'],coords =[sorted_time,ds_AWG.pres])\n",
    "ds_AWG['doxy'] = xr.DataArray(ds_AWG.doxy.sortby(ds_AWG.unsorted_time),dims = ['time','pres'],coords =[sorted_time,ds_AWG.pres])\n",
    "ds_AWG['lat'] = xr.DataArray(ds_AWG.lat.sortby(ds_AWG.unsorted_time),dims = ['time'],coords =[sorted_time])\n",
    "ds_AWG['lon'] = xr.DataArray(ds_AWG.lon.sortby(ds_AWG.unsorted_time),dims = ['time'],coords =[sorted_time])\n",
    "ds_AWG['type'] = xr.DataArray(ds_AWG.type.sortby(ds_AWG.unsorted_time),dims = ['time'],coords =[sorted_time])\n",
    "ds_AWG['prof'] = xr.DataArray(ds_AWG.prof.sortby(ds_AWG.unsorted_time),dims = ['time'],coords =[sorted_time])\n",
    "# get rid of intial time variable\n",
    "ds_AWG = ds_AWG[['temp','psal','doxy','lat','lon','type','prof','time']]\n",
    "ds_AWG"
   ]
  },
  {
   "cell_type": "code",
   "execution_count": 3,
   "metadata": {},
   "outputs": [],
   "source": [
    "ds_AWG.to_netcdf(infn[:-3] + '_processed.nc',mode='w',format = \"NETCDF4\")"
   ]
  }
 ],
 "metadata": {
  "kernelspec": {
   "display_name": "Python 3",
   "language": "python",
   "name": "python3"
  },
  "language_info": {
   "codemirror_mode": {
    "name": "ipython",
    "version": 3
   },
   "file_extension": ".py",
   "mimetype": "text/x-python",
   "name": "python",
   "nbconvert_exporter": "python",
   "pygments_lexer": "ipython3",
   "version": "3.7.3"
  }
 },
 "nbformat": 4,
 "nbformat_minor": 2
}
