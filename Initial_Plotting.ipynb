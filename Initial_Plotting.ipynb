{
 "cells": [
  {
   "cell_type": "code",
   "execution_count": 1,
   "metadata": {},
   "outputs": [],
   "source": [
    "import xarray as xr\n",
    "import numpy as np\n",
    "import pandas as pd\n",
    "import cartopy.crs as ccrs\n",
    "from cartopy.feature import LAND\n",
    "import matplotlib.pyplot as plt\n",
    "import matplotlib.animation as animation\n",
    "\n",
    "# make sure the figures plot inline rather than at the end\n",
    "%matplotlib inline\n",
    "\n",
    "# so you can see the animations right away rather than after saving - some reason must do it twice?\n",
    "%matplotlib notebook\n",
    "%matplotlib notebook"
   ]
  },
  {
   "cell_type": "code",
   "execution_count": null,
   "metadata": {},
   "outputs": [],
   "source": [
    "# get data from tigress\n",
    "path = '/tigress/GEOCLIM/LRGROUP/shared_data/Merged_ARGO_WOD_GOSHIP/'\n",
    "infn = 'Profiles_temp_psal_doxy.nc'\n",
    "\n",
    "Writer = animation.writers['ffmpeg']\n",
    "writer = Writer(fps=5, metadata=dict(artist='Me'), bitrate=1800)\n",
    "\n",
    "dset = xr.open_dataset(path + infn)\n",
    "#print(dset)\n",
    "# print(len(dset.pres))\n",
    "\n",
    "fig = plt.figure()\n",
    "# ax = plt.axes(projection=ccrs.PlateCarree())\n",
    "# ax.coastlines()\n",
    "# p = plt.pcolormesh(dset.xq,dset.yh,dset.u[1,1,:,:],cmap = 'coolwarm')\n",
    "ax = plt.axes(projection=ccrs.PlateCarree())\n",
    "ax.add_feature(LAND,color='gray')\n",
    "#ax.add_feature(RIVERS)\n",
    "ax.set_extent([np.min(dset.lon), np.max(dset.lon),np.min(dset.lat),np.max(dset.lat)], crs=ccrs.PlateCarree())\n",
    "p =plt.scatter(dset.lon,dset.lat,5, dset.doxy[:,0])\n",
    "# plt.suptitle('Oxygen')\n",
    "plt.xlabel('Longitude')\n",
    "plt.ylabel('Latitude')\n",
    "cbar = plt.colorbar(p) \n",
    "cbar.ax.set_ylabel('(m/s)', rotation=270);\n",
    "cbar.ax.get_yaxis().labelpad = 15\n",
    "\n",
    "def animate(ii):\n",
    "    p = plt.scatter(dset.lon,dset.lat,5, dset.doxy[:,ii])\n",
    "#     plt.title('Oxygen at pressure ' + str(pres(ii))\n",
    "\n",
    "ani = animation.FuncAnimation(fig, animate, frames=len(dset.pres), repeat=True)\n",
    "\n",
    "# plt.show()\n",
    "\n",
    "ani.save('oxyoverdepth.mp4', writer=writer)"
   ]
  },
  {
   "cell_type": "code",
   "execution_count": null,
   "metadata": {},
   "outputs": [],
   "source": []
  },
  {
   "cell_type": "code",
   "execution_count": null,
   "metadata": {},
   "outputs": [],
   "source": []
  }
 ],
 "metadata": {
  "kernelspec": {
   "display_name": "Python 3",
   "language": "python",
   "name": "python3"
  },
  "language_info": {
   "codemirror_mode": {
    "name": "ipython",
    "version": 3
   },
   "file_extension": ".py",
   "mimetype": "text/x-python",
   "name": "python",
   "nbconvert_exporter": "python",
   "pygments_lexer": "ipython3",
   "version": "3.7.3"
  }
 },
 "nbformat": 4,
 "nbformat_minor": 2
}
