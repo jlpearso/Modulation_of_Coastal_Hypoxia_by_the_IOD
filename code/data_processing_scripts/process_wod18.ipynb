{
 "cells": [
  {
   "cell_type": "markdown",
   "metadata": {},
   "source": [
    "# Setup\n",
    "\n",
    "Note for this one you have to run it without the anomaly and water column average code, then run the woa regridding file which will allow you to get the anomalies when you run this again.\n",
    "\n",
    "See this documentation on ragged arrays: \n",
    "https://www.nodc.noaa.gov/OC5/WOD/netcdf_descr.html"
   ]
  },
  {
   "cell_type": "code",
   "execution_count": 16,
   "metadata": {},
   "outputs": [
    {
     "name": "stdout",
     "output_type": "stream",
     "text": [
      "Default libraries loaded.\n"
     ]
    }
   ],
   "source": [
    "# import your standard packages\n",
    "%run ../pkgs.py\n",
    "\n",
    "# import your local functions\n",
    "sys.path.insert(1, '../')\n",
    "from local_functions import *\n",
    "\n",
    "# make sure the figures plot inline rather than at the end\n",
    "%matplotlib inline"
   ]
  },
  {
   "cell_type": "markdown",
   "metadata": {},
   "source": [
    "# Parameters and Paths"
   ]
  },
  {
   "cell_type": "code",
   "execution_count": 17,
   "metadata": {},
   "outputs": [],
   "source": [
    "inpath = \"/tigress/GEOCLIM/LRGROUP/shared_data/WOD/indian_ocean/concatenated/\"\n",
    "infn = 'all_casts_beginning_to_aug_2020_indian_ocean.nc'\n",
    "outfn = '../../data/wod18_processed.nc'\n",
    "\n",
    "lat_bounds = [-1.5, 33]\n",
    "lon_bounds = [48.5, 102.5]\n",
    "\n",
    "time_slice = slice('1700-01-01', '2019-12-31')"
   ]
  },
  {
   "cell_type": "markdown",
   "metadata": {},
   "source": [
    "# Get Data"
   ]
  },
  {
   "cell_type": "code",
   "execution_count": 18,
   "metadata": {},
   "outputs": [
    {
     "data": {
      "text/plain": [
       "<xarray.Dataset>\n",
       "Dimensions:    (cast: 342256, depth: 57)\n",
       "Coordinates:\n",
       "  * cast       (cast) int64 0 1 2 3 4 5 ... 342251 342252 342253 342254 342255\n",
       "  * depth      (depth) int64 0 5 10 15 20 25 ... 1250 1300 1350 1400 1450 1500\n",
       "Data variables:\n",
       "    time       (cast) datetime64[ns] ...\n",
       "    lat        (cast) float32 ...\n",
       "    lon        (cast) float32 ...\n",
       "    cast_id    (cast) object ...\n",
       "    temp       (cast, depth) float64 ...\n",
       "    sal        (cast, depth) float64 ...\n",
       "    doxy       (cast, depth) float64 ...\n",
       "    nitrate    (cast, depth) float64 ...\n",
       "    phosphate  (cast, depth) float64 ...\n",
       "Attributes:\n",
       "    date_created:           03/23/2021\n",
       "    unmerged_data_url:      https://www.ncei.noaa.gov/access/world-ocean-data...\n",
       "    geospatial_lat_extent:  decimal degrees north (-2.11,48.733334)\n",
       "    geospatial_lon_extent:  decimal degrees east (-163.332,102.5)\n",
       "    help_email:             OCLhelp@noaa.gov\n",
       "    history:                Merged ../latest/*.nc"
      ]
     },
     "execution_count": 18,
     "metadata": {},
     "output_type": "execute_result"
    }
   ],
   "source": [
    "ds_in = xr.open_dataset(inpath + infn)\n",
    "ds_in"
   ]
  },
  {
   "cell_type": "markdown",
   "metadata": {},
   "source": [
    "# Sort by Time"
   ]
  },
  {
   "cell_type": "code",
   "execution_count": 19,
   "metadata": {},
   "outputs": [
    {
     "data": {
      "text/plain": [
       "<xarray.Dataset>\n",
       "Dimensions:    (depth: 57, time: 342256)\n",
       "Coordinates:\n",
       "  * time       (time) datetime64[ns] 1770-01-01 1770-01-01 ... 2020-07-07\n",
       "  * depth      (depth) int64 0 5 10 15 20 25 ... 1250 1300 1350 1400 1450 1500\n",
       "Data variables:\n",
       "    temp       (time, depth) float64 33.11 nan nan nan nan ... nan nan nan nan\n",
       "    sal        (time, depth) float64 nan nan nan nan nan ... nan nan nan nan nan\n",
       "    doxy       (time, depth) float64 nan nan nan nan nan ... nan nan nan nan nan\n",
       "    nitrate    (time, depth) float64 nan nan nan nan nan ... nan nan nan nan nan\n",
       "    phosphate  (time, depth) float64 nan nan nan nan nan ... nan nan nan nan nan\n",
       "    lat        (time) float32 14.366667 14.433333 16.95 ... 12.35 13.299\n",
       "    lon        (time) float32 99.583336 54.083332 64.35 ... 81.21667 92.1 87.454\n",
       "    cast_id    (time) object 'OSD_9540691' 'OSD_9540856' ... 'PFL_19992885'\n",
       "Attributes:\n",
       "    date_created:           03/23/2021\n",
       "    unmerged_data_url:      https://www.ncei.noaa.gov/access/world-ocean-data...\n",
       "    geospatial_lat_extent:  decimal degrees north (-2.11,48.733334)\n",
       "    geospatial_lon_extent:  decimal degrees east (-163.332,102.5)\n",
       "    help_email:             OCLhelp@noaa.gov\n",
       "    history:                Merged ../latest/*.nc"
      ]
     },
     "execution_count": 19,
     "metadata": {},
     "output_type": "execute_result"
    }
   ],
   "source": [
    "# round times to nearest day\n",
    "ds_in[\"time\"] = ds_in.time.dt.floor(\"D\")\n",
    "\n",
    "# # add time as a coordinate\n",
    "ds_in = ds_in.assign_coords(unsorted_time=ds_in.time)\n",
    "\n",
    "# reset profile variables to be with respect to time\n",
    "ds_in['temp'] = xr.DataArray(ds_in.temp,dims = ['unsorted_time','depth'],coords =[ds_in.time,ds_in.depth])\n",
    "ds_in['sal'] = xr.DataArray(ds_in.sal,dims = ['unsorted_time','depth'],coords =[ds_in.time,ds_in.depth])\n",
    "ds_in['doxy'] = xr.DataArray(ds_in.doxy,dims = ['unsorted_time','depth'],coords =[ds_in.time,ds_in.depth])\n",
    "ds_in['nitrate'] = xr.DataArray(ds_in.nitrate,dims = ['unsorted_time','depth'],coords =[ds_in.time,ds_in.depth])\n",
    "ds_in['phosphate'] = xr.DataArray(ds_in.phosphate,dims = ['unsorted_time','depth'],coords =[ds_in.time,ds_in.depth])\n",
    "ds_in['lat'] = xr.DataArray(ds_in.lat,dims = ['unsorted_time'],coords =[ds_in.time])\n",
    "ds_in['lon'] = xr.DataArray(ds_in.lon,dims = ['unsorted_time'],coords =[ds_in.time])\n",
    "ds_in['cast_id'] = xr.DataArray(ds_in.cast_id,dims = ['unsorted_time'],coords =[ds_in.time])\n",
    "# get rid of intial time variable\n",
    "ds_in = ds_in[['temp','sal','doxy','nitrate','phosphate','lat','lon','cast_id']]\n",
    "\n",
    "sorted_time = ds_in.unsorted_time.sortby(ds_in.unsorted_time)\n",
    "\n",
    "# sort based on time\n",
    "ds_in['temp'] = xr.DataArray(ds_in.temp.sortby(ds_in.unsorted_time),dims = ['time','depth'],coords =[sorted_time,ds_in.depth])\n",
    "ds_in['sal'] = xr.DataArray(ds_in.sal.sortby(ds_in.unsorted_time),dims = ['time','depth'],coords =[sorted_time,ds_in.depth])\n",
    "ds_in['doxy'] = xr.DataArray(ds_in.doxy.sortby(ds_in.unsorted_time),dims = ['time','depth'],coords =[sorted_time,ds_in.depth])\n",
    "ds_in['nitrate'] = xr.DataArray(ds_in.nitrate.sortby(ds_in.unsorted_time),dims = ['time','depth'],coords =[sorted_time,ds_in.depth])\n",
    "ds_in['phosphate'] = xr.DataArray(ds_in.phosphate.sortby(ds_in.unsorted_time),dims = ['time','depth'],coords =[sorted_time,ds_in.depth])\n",
    "ds_in['lat'] = xr.DataArray(ds_in.lat.sortby(ds_in.unsorted_time),dims = ['time'],coords =[sorted_time])\n",
    "ds_in['lon'] = xr.DataArray(ds_in.lon.sortby(ds_in.unsorted_time),dims = ['time'],coords =[sorted_time])\n",
    "ds_in['cast_id'] = xr.DataArray(ds_in.cast_id.sortby(ds_in.unsorted_time),dims = ['time'],coords =[sorted_time])\n",
    "ds_in = ds_in[['temp','sal','doxy','nitrate','phosphate','lat','lon','cast_id','time']]\n",
    "ds_in"
   ]
  },
  {
   "cell_type": "code",
   "execution_count": 20,
   "metadata": {},
   "outputs": [
    {
     "data": {
      "image/png": "[encoded data removed]",
      "text/plain": [
       "<Figure size 432x288 with 1 Axes>"
      ]
     },
     "metadata": {
      "needs_background": "light"
     },
     "output_type": "display_data"
    }
   ],
   "source": [
    "for tt in range(1000):\n",
    "    plt.plot(ds_in.temp[tt,:],-1*ds_in.depth)"
   ]
  },
  {
   "cell_type": "markdown",
   "metadata": {},
   "source": [
    "# Linearly interpolate to standard pressure levels"
   ]
  },
  {
   "cell_type": "code",
   "execution_count": 21,
   "metadata": {},
   "outputs": [
    {
     "name": "stderr",
     "output_type": "stream",
     "text": [
      " 78%|███████▊  | 267411/342256 [56:01<15:24, 80.93it/s] IOPub message rate exceeded.\n",
      "The notebook server will temporarily stop sending output\n",
      "to the client in order to avoid crashing it.\n",
      "To change this limit, set the config variable\n",
      "`--NotebookApp.iopub_msg_rate_limit`.\n",
      "\n",
      "Current values:\n",
      "NotebookApp.iopub_msg_rate_limit=1000.0 (msgs/sec)\n",
      "NotebookApp.rate_limit_window=3.0 (secs)\n",
      "\n",
      "100%|██████████| 342256/342256 [1:11:53<00:00, 79.35it/s]\n"
     ]
    },
    {
     "data": {
      "text/plain": [
       "<xarray.Dataset>\n",
       "Dimensions:    (pres: 57, time: 342256)\n",
       "Coordinates:\n",
       "  * time       (time) datetime64[ns] 1770-01-01 1770-01-01 ... 2020-07-07\n",
       "  * pres       (pres) int64 0 5 10 15 20 25 30 ... 1250 1300 1350 1400 1450 1500\n",
       "Data variables:\n",
       "    temp       (time, pres) float64 33.11 nan nan nan nan ... nan nan nan nan\n",
       "    sal        (time, pres) float64 nan nan nan nan nan ... nan nan nan nan nan\n",
       "    doxy       (time, pres) float64 nan nan nan nan nan ... nan nan nan nan nan\n",
       "    nitrate    (time, pres) float64 nan nan nan nan nan ... nan nan nan nan nan\n",
       "    phosphate  (time, pres) float64 nan nan nan nan nan ... nan nan nan nan nan\n",
       "    lat        (time) float32 14.366667 14.433333 16.95 ... 12.35 13.299\n",
       "    lon        (time) float32 99.583336 54.083332 64.35 ... 81.21667 92.1 87.454\n",
       "    cast_id    (time) object 'OSD_9540691' 'OSD_9540856' ... 'PFL_19992885'"
      ]
     },
     "execution_count": 21,
     "metadata": {},
     "output_type": "execute_result"
    }
   ],
   "source": [
    "PRES_i = np.array(ds_in.depth)\n",
    "\n",
    "t = ds_in.time.shape[0]\n",
    "d = ds_in.depth.shape[0]\n",
    "for tt in tqdm(range(t), leave = True):\n",
    "    if tt == 0:\n",
    "        TEMP_i = np.zeros((t,PRES_i.shape[0]))*np.nan\n",
    "        DOXY_i = np.zeros((t,PRES_i.shape[0]))*np.nan\n",
    "        SAL_i = np.zeros((t,PRES_i.shape[0]))*np.nan\n",
    "        NITRATE_i = np.zeros((t,PRES_i.shape[0]))*np.nan\n",
    "        PHOSPHATE_i = np.zeros((t,PRES_i.shape[0]))*np.nan\n",
    "\n",
    "\n",
    "    # conversion [m] -> [dbar]: https://teos-10.github.io/GSW-Python/gsw_flat.html\n",
    "    pres = gsw.p_from_z(-1*ds_in.depth, [ds_in.lat[tt] for i in range(d)])\n",
    "\n",
    "    # temp,psal,doxy selection\n",
    "    temp,sal,doxy = ds_in.temp[tt,:],ds_in.sal[tt,:],ds_in.doxy[tt,:]\n",
    "    nitrate,phosphate = ds_in.nitrate[tt,:],ds_in.phosphate[tt,:]\n",
    "\n",
    "    # interpolation\n",
    "    ft = sp.interp1d(pres,temp,bounds_error=False,fill_value=np.nan)\n",
    "    TEMP_i[tt,:] = ft(PRES_i)\n",
    "\n",
    "    fo = sp.interp1d(pres,doxy,bounds_error=False,fill_value=np.nan)\n",
    "    DOXY_i[tt,:] = fo(PRES_i)\n",
    "\n",
    "    fs = sp.interp1d(pres,sal,bounds_error=False,fill_value=np.nan)\n",
    "    SAL_i[tt,:] = fs(PRES_i)\n",
    "\n",
    "    fn = sp.interp1d(pres,nitrate,bounds_error=False,fill_value=np.nan)\n",
    "    NITRATE_i[tt,:] = fn(PRES_i)\n",
    "\n",
    "    fp = sp.interp1d(pres,phosphate,bounds_error=False,fill_value=np.nan)\n",
    "    PHOSPHATE_i[tt,:] = fp(PRES_i)\n",
    "            \n",
    "            \n",
    "ds_out=xr.Dataset(coords={'time': ds_in.time,\n",
    "                        'pres': PRES_i})\n",
    "# add to dataset\n",
    "ds_out['temp'] = xr.DataArray(TEMP_i,dims = ['time','pres'],coords =[ds_in.time,PRES_i])\n",
    "ds_out['sal'] = xr.DataArray(SAL_i,dims = ['time','pres'],coords =[ds_in.time,PRES_i])\n",
    "ds_out['doxy'] = xr.DataArray(DOXY_i,dims = ['time','pres'],coords =[ds_in.time,PRES_i])\n",
    "ds_out['nitrate'] = xr.DataArray(NITRATE_i,dims = ['time','pres'],coords =[ds_in.time,PRES_i])\n",
    "ds_out['phosphate'] = xr.DataArray(PHOSPHATE_i,dims = ['time','pres'],coords =[ds_in.time,PRES_i])\n",
    "ds_out['lat'] = xr.DataArray(ds_in.lat,dims = ['time'],coords =[ds_in.time])\n",
    "ds_out['lon'] = xr.DataArray(ds_in.lon,dims = ['time'],coords =[ds_in.time])\n",
    "ds_out['cast_id'] = xr.DataArray(ds_in.cast_id,dims = ['time'],coords =[ds_in.time])\n",
    "ds_out         "
   ]
  },
  {
   "cell_type": "code",
   "execution_count": 22,
   "metadata": {},
   "outputs": [
    {
     "data": {
      "image/png": "[encoded data removed]",
      "text/plain": [
       "<Figure size 432x288 with 1 Axes>"
      ]
     },
     "metadata": {
      "needs_background": "light"
     },
     "output_type": "display_data"
    }
   ],
   "source": [
    "for tt in range(1000):\n",
    "    plt.plot(ds_out.temp[tt,:],-1*ds_out.pres)"
   ]
  },
  {
   "cell_type": "markdown",
   "metadata": {},
   "source": [
    "# Subset"
   ]
  },
  {
   "cell_type": "code",
   "execution_count": 23,
   "metadata": {},
   "outputs": [
    {
     "data": {
      "text/plain": [
       "<xarray.Dataset>\n",
       "Dimensions:    (pres: 57, time: 337497)\n",
       "Coordinates:\n",
       "  * time       (time) datetime64[ns] 1770-01-01 1770-01-01 ... 2019-12-31\n",
       "  * pres       (pres) int64 0 5 10 15 20 25 30 ... 1250 1300 1350 1400 1450 1500\n",
       "Data variables:\n",
       "    temp       (time, pres) float64 33.11 nan nan nan nan ... nan nan nan nan\n",
       "    sal        (time, pres) float64 nan nan nan nan nan ... nan nan nan nan nan\n",
       "    doxy       (time, pres) float64 nan nan nan nan nan ... nan nan nan nan nan\n",
       "    nitrate    (time, pres) float64 nan nan nan nan nan ... nan nan nan nan nan\n",
       "    phosphate  (time, pres) float64 nan nan nan nan nan ... nan nan nan nan nan\n",
       "    lat        (time) float32 14.366667 14.433333 16.95 ... 20.110544 19.501572\n",
       "    lon        (time) float32 99.583336 54.083332 64.35 ... 68.08025 64.72873\n",
       "    cast_id    (time) object 'OSD_9540691' 'OSD_9540856' ... 'PFL_19770667'"
      ]
     },
     "execution_count": 23,
     "metadata": {},
     "output_type": "execute_result"
    }
   ],
   "source": [
    "ds_out = ds_out.sel(time = time_slice)\n",
    "ds_out"
   ]
  },
  {
   "cell_type": "code",
   "execution_count": 24,
   "metadata": {},
   "outputs": [
    {
     "data": {
      "text/plain": [
       "<matplotlib.collections.PathCollection at 0x7fe1cfb31128>"
      ]
     },
     "execution_count": 24,
     "metadata": {},
     "output_type": "execute_result"
    },
    {
     "data": {
      "image/png": "[encoded data removed]",
      "text/plain": [
       "<Figure size 432x288 with 1 Axes>"
      ]
     },
     "metadata": {
      "needs_background": "light"
     },
     "output_type": "display_data"
    }
   ],
   "source": [
    "ind = (ds_out.lon < lon_bounds[1]) & (ds_out.lon > lon_bounds[0]) & (ds_out.lat < lat_bounds[1]) & (ds_out.lat > lat_bounds[0])\n",
    "\n",
    "lat = ds_out.lat[ind]\n",
    "lon = ds_out.lon[ind]\n",
    "temp = ds_out.temp[ind,:]\n",
    "sal = ds_out.sal[ind,:]\n",
    "doxy = ds_out.doxy[ind,:]\n",
    "nitrate = ds_out.nitrate[ind,:]\n",
    "phosphate = ds_out.phosphate[ind,:]\n",
    "cast_id = ds_out.cast_id[ind]\n",
    "t = ds_out.time[ind]\n",
    "pres = ds_out.pres\n",
    "\n",
    "# take away outside BoB\n",
    "ind = (lon < 110) & (lon > 99) & (lat < 15) & (lat > 8)\n",
    "\n",
    "lat = lat[~ind]\n",
    "lon = lon[~ind]\n",
    "temp = temp[~ind,:]\n",
    "sal = sal[~ind,:]\n",
    "doxy = doxy[~ind,:]\n",
    "nitrate = nitrate[~ind,:]\n",
    "phosphate = phosphate[~ind,:]\n",
    "cast_id = cast_id[~ind]\n",
    "t = t[~ind]\n",
    "\n",
    "ind = (lon < 110) & (lon > 100) & (lat < 9) & (lat > 5)\n",
    "\n",
    "lat = lat[~ind]\n",
    "lon = lon[~ind]\n",
    "temp = temp[~ind,:]\n",
    "sal = sal[~ind,:]\n",
    "doxy = doxy[~ind,:]\n",
    "nitrate = nitrate[~ind,:]\n",
    "phosphate = phosphate[~ind,:]\n",
    "cast_id = cast_id[~ind]\n",
    "t = t[~ind]\n",
    "\n",
    "ind = (lon < 59) & (lon > 45) & (lat < 30) & (lat > 22)\n",
    "\n",
    "lat = lat[~ind]\n",
    "lon = lon[~ind]\n",
    "temp = temp[~ind,:]\n",
    "sal = sal[~ind,:]\n",
    "doxy = doxy[~ind,:]\n",
    "nitrate = nitrate[~ind,:]\n",
    "phosphate = phosphate[~ind,:]\n",
    "cast_id = cast_id[~ind]\n",
    "t = t[~ind]\n",
    "\n",
    "ind = (lon < 60) & (lon > 45) & (lat < 32) & (lat > 28)\n",
    "\n",
    "lat = lat[~ind]\n",
    "lon = lon[~ind]\n",
    "temp = temp[~ind,:]\n",
    "sal = sal[~ind,:]\n",
    "doxy = doxy[~ind,:]\n",
    "nitrate = nitrate[~ind,:]\n",
    "phosphate = phosphate[~ind,:]\n",
    "cast_id = cast_id[~ind]\n",
    "t = t[~ind]\n",
    "\n",
    "ind = (lon < 82) & (lon > 70) & (lat < 32) & (lat > 21)\n",
    "\n",
    "lat = lat[~ind]\n",
    "lon = lon[~ind]\n",
    "temp = temp[~ind,:]\n",
    "sal = sal[~ind,:]\n",
    "doxy = doxy[~ind,:]\n",
    "nitrate = nitrate[~ind,:]\n",
    "phosphate = phosphate[~ind,:]\n",
    "cast_id = cast_id[~ind]\n",
    "t = t[~ind]\n",
    "\n",
    "ind = (lon < 104) & (lon > 94) & (lat < 32) & (lat > 19)\n",
    "\n",
    "lat = lat[~ind]\n",
    "lon = lon[~ind]\n",
    "temp = temp[~ind,:]\n",
    "sal = sal[~ind,:]\n",
    "doxy = doxy[~ind,:]\n",
    "nitrate = nitrate[~ind,:]\n",
    "phosphate = phosphate[~ind,:]\n",
    "cast_id = cast_id[~ind]\n",
    "t = t[~ind]\n",
    "\n",
    "plt.scatter(lon,lat)"
   ]
  },
  {
   "cell_type": "code",
   "execution_count": 25,
   "metadata": {},
   "outputs": [
    {
     "data": {
      "text/plain": [
       "<xarray.Dataset>\n",
       "Dimensions:    (pres: 57, time: 310791)\n",
       "Coordinates:\n",
       "  * time       (time) datetime64[ns] 1770-01-01 1770-01-01 ... 2019-12-31\n",
       "  * pres       (pres) int64 0 5 10 15 20 25 30 ... 1250 1300 1350 1400 1450 1500\n",
       "Data variables:\n",
       "    temp       (time, pres) float64 28.06 nan nan nan nan ... nan nan nan nan\n",
       "    sal        (time, pres) float64 nan nan nan nan nan ... nan nan nan nan nan\n",
       "    doxy       (time, pres) float64 nan nan nan nan nan ... nan nan nan nan nan\n",
       "    nitrate    (time, pres) float64 nan nan nan nan nan ... nan nan nan nan nan\n",
       "    phosphate  (time, pres) float64 nan nan nan nan nan ... nan nan nan nan nan\n",
       "    lat        (time) float32 14.433333 16.95 21.166666 ... 20.110544 19.501572\n",
       "    lon        (time) float32 54.083332 64.35 90.666664 ... 68.08025 64.72873"
      ]
     },
     "execution_count": 25,
     "metadata": {},
     "output_type": "execute_result"
    }
   ],
   "source": [
    "ds_out=xr.Dataset(coords={'time': t,\n",
    "                        'pres': pres})\n",
    "# add to dataset\n",
    "ds_out['temp'] = xr.DataArray(temp,dims = ['time','pres'],coords =[t,pres])\n",
    "ds_out['sal'] = xr.DataArray(sal,dims = ['time','pres'],coords =[t,pres])\n",
    "ds_out['doxy'] = xr.DataArray(doxy,dims = ['time','pres'],coords =[t,pres])\n",
    "ds_out['nitrate'] = xr.DataArray(nitrate,dims = ['time','pres'],coords =[t,pres])\n",
    "ds_out['phosphate'] = xr.DataArray(phosphate,dims = ['time','pres'],coords =[t,pres])\n",
    "ds_out['lat'] = xr.DataArray(lat,dims = ['time'],coords =[t])\n",
    "ds_out['lon'] = xr.DataArray(lon,dims = ['time'],coords =[t])\n",
    "ds_out "
   ]
  },
  {
   "cell_type": "markdown",
   "metadata": {},
   "source": [
    "# Remove and negative concentration values"
   ]
  },
  {
   "cell_type": "code",
   "execution_count": 26,
   "metadata": {},
   "outputs": [
    {
     "data": {
      "text/plain": [
       "Text(0, 0.5, 'min doxy negs removed')"
      ]
     },
     "execution_count": 26,
     "metadata": {},
     "output_type": "execute_result"
    },
    {
     "data": {
      "image/png": "[encoded data removed]",
      "text/plain": [
       "<Figure size 432x288 with 1 Axes>"
      ]
     },
     "metadata": {
      "needs_background": "light"
     },
     "output_type": "display_data"
    }
   ],
   "source": [
    "plt.plot(ds_out.doxy.min(dim = 'pres'),'.')\n",
    "plt.ylim([-1,1])\n",
    "plt.xlabel('Profile No.')\n",
    "plt.ylabel('min doxy')\n",
    "\n",
    "# set negative oxygen values to nan\n",
    "ds_out['doxy'] = ds_out.doxy.where(ds_out.doxy >= 0)\n",
    "\n",
    "plt.plot(ds_out.doxy.min(dim = 'pres'),'.')\n",
    "plt.ylim([-1,1])\n",
    "plt.xlabel('Profile No.')\n",
    "plt.ylabel('min doxy negs removed')"
   ]
  },
  {
   "cell_type": "markdown",
   "metadata": {},
   "source": [
    "# Find Anomalies"
   ]
  },
  {
   "cell_type": "code",
   "execution_count": 27,
   "metadata": {},
   "outputs": [],
   "source": [
    "# ds_out['temp_anom'] = ds_out.temp - np.array(ds_WOA.temp)\n",
    "# ds_out['doxy_anom'] = ds_out.doxy - np.array(ds_WOA.doxy)\n",
    "# ds_out['sal_anom'] = ds_outpsal - np.array(ds_WOA.sal)\n",
    "# ds_out['nitrate_anom'] = ds_out.nitrate - np.array(ds_WOA.nitrate)\n",
    "# ds_out['phosphate_anom'] = ds_out.phosphate - np.array(ds_WOA.phosphate)"
   ]
  },
  {
   "cell_type": "markdown",
   "metadata": {},
   "source": [
    "# Water Column Averages"
   ]
  },
  {
   "cell_type": "code",
   "execution_count": 28,
   "metadata": {},
   "outputs": [
    {
     "name": "stderr",
     "output_type": "stream",
     "text": [
      "/home/jennap/anaconda3/lib/python3.7/site-packages/ipykernel_launcher.py:4: RuntimeWarning: Mean of empty slice\n",
      "  after removing the cwd from sys.path.\n",
      "/home/jennap/anaconda3/lib/python3.7/site-packages/ipykernel_launcher.py:5: RuntimeWarning: Mean of empty slice\n",
      "  \"\"\"\n",
      "/home/jennap/anaconda3/lib/python3.7/site-packages/ipykernel_launcher.py:6: RuntimeWarning: Mean of empty slice\n",
      "  \n",
      "/home/jennap/anaconda3/lib/python3.7/site-packages/ipykernel_launcher.py:7: RuntimeWarning: Mean of empty slice\n",
      "  import sys\n",
      "/home/jennap/anaconda3/lib/python3.7/site-packages/ipykernel_launcher.py:8: RuntimeWarning: Mean of empty slice\n",
      "  \n",
      "/home/jennap/anaconda3/lib/python3.7/site-packages/ipykernel_launcher.py:18: RuntimeWarning: Mean of empty slice\n",
      "/home/jennap/anaconda3/lib/python3.7/site-packages/ipykernel_launcher.py:19: RuntimeWarning: Mean of empty slice\n",
      "/home/jennap/anaconda3/lib/python3.7/site-packages/ipykernel_launcher.py:20: RuntimeWarning: Mean of empty slice\n",
      "/home/jennap/anaconda3/lib/python3.7/site-packages/ipykernel_launcher.py:21: RuntimeWarning: Mean of empty slice\n",
      "/home/jennap/anaconda3/lib/python3.7/site-packages/ipykernel_launcher.py:22: RuntimeWarning: Mean of empty slice\n",
      "/home/jennap/anaconda3/lib/python3.7/site-packages/ipykernel_launcher.py:32: RuntimeWarning: Mean of empty slice\n",
      "/home/jennap/anaconda3/lib/python3.7/site-packages/ipykernel_launcher.py:33: RuntimeWarning: Mean of empty slice\n",
      "/home/jennap/anaconda3/lib/python3.7/site-packages/ipykernel_launcher.py:34: RuntimeWarning: Mean of empty slice\n",
      "/home/jennap/anaconda3/lib/python3.7/site-packages/ipykernel_launcher.py:35: RuntimeWarning: Mean of empty slice\n",
      "/home/jennap/anaconda3/lib/python3.7/site-packages/ipykernel_launcher.py:36: RuntimeWarning: Mean of empty slice\n"
     ]
    }
   ],
   "source": [
    "# find mean temperature and doxy 40-200dbar\n",
    "ind = (ds_out.pres>= 40) & (ds_out.pres<= 200)\n",
    "\n",
    "doxy_40_200 = np.nanmean(ds_out.doxy[:,ind],1)\n",
    "temp_40_200 = np.nanmean(ds_out.temp[:,ind],1)\n",
    "sal_40_200 = np.nanmean(ds_out.sal[:,ind],1)\n",
    "nitrate_40_200 = np.nanmean(ds_out.nitrate[:,ind],1)\n",
    "phosphate_40_200 = np.nanmean(ds_out.phosphate[:,ind],1)\n",
    "# doxy_anom_40_200 = np.nanmean(ds_out.doxy_anom[:,ind],1)\n",
    "# temp_anom_40_200 = np.nanmean(ds_out.temp_anom[:,ind],1)\n",
    "# sal_anom_40_200 = np.nanmean(ds_out.sal_anom[:,ind],1)\n",
    "# nitrate_anom_40_200 = np.nanmean(ds_out.nitrate_anom[:,ind],1)\n",
    "# phosphate_anom_40_200 = np.nanmean(ds_out.phosphate_anom[:,ind],1)\n",
    "\n",
    "# find mean temperature and doxy 50-200dbar\n",
    "ind = (ds_out.pres>= 50) & (ds_out.pres<= 200)\n",
    "\n",
    "doxy_50_200 = np.nanmean(ds_out.doxy[:,ind],1)\n",
    "temp_50_200 = np.nanmean(ds_out.temp[:,ind],1)\n",
    "sal_50_200 = np.nanmean(ds_out.sal[:,ind],1)\n",
    "nitrate_50_200 = np.nanmean(ds_out.nitrate[:,ind],1)\n",
    "phosphate_50_200 = np.nanmean(ds_out.phosphate[:,ind],1)\n",
    "# doxy_anom_50_200 = np.nanmean(ds_out.doxy_anom[:,ind],1)\n",
    "# temp_anom_50_200 = np.nanmean(ds_out.temp_anom[:,ind],1)\n",
    "# sal_anom_50_200 = np.nanmean(ds_out.sal_anom[:,ind],1)\n",
    "# nitrate_anom_50_200 = np.nanmean(ds_out.nitrate_anom[:,ind],1)\n",
    "# phosphate_anom_50_200 = np.nanmean(ds_out.phosphate_anom[:,ind],1)\n",
    "\n",
    "# find mean temperature and doxy 50-225dbar\n",
    "ind = (ds_out.pres>= 50) & (ds_out.pres<= 225)\n",
    "\n",
    "doxy_50_225 = np.nanmean(ds_out.doxy[:,ind],1)\n",
    "temp_50_225 = np.nanmean(ds_out.temp[:,ind],1)\n",
    "sal_50_225 = np.nanmean(ds_out.sal[:,ind],1)\n",
    "nitrate_50_225 = np.nanmean(ds_out.nitrate[:,ind],1)\n",
    "phosphate_50_225 = np.nanmean(ds_out.phosphate[:,ind],1)\n",
    "# doxy_anom_50_225 = np.nanmean(ds_out.doxy_anom[:,ind],1)\n",
    "# temp_anom_50_225 = np.nanmean(ds_out.temp_anom[:,ind],1)\n",
    "# sal_anom_50_225 = np.nanmean(ds_out.sal_anom[:,ind],1)\n",
    "# nitrate_anom_50_225 = np.nanmean(ds_out.nitrate_anom[:,ind],1)\n",
    "# phosphate_anom_50_225 = np.nanmean(ds_out.phosphate_anom[:,ind],1)\n",
    "\n",
    "# add to dataset\n",
    "ds_out['temp_40_200'] = xr.DataArray(temp_40_200,dims = ['time'],coords =[ds_out.time])\n",
    "ds_out['doxy_40_200'] = xr.DataArray(doxy_40_200,dims = ['time'],coords =[ds_out.time])\n",
    "ds_out['sal_40_200'] = xr.DataArray(sal_40_200,dims = ['time'],coords =[ds_out.time])\n",
    "ds_out['nitrate_40_200'] = xr.DataArray(nitrate_40_200,dims = ['time'],coords =[ds_out.time])\n",
    "ds_out['phosphate_40_200'] = xr.DataArray(phosphate_40_200,dims = ['time'],coords =[ds_out.time])\n",
    "# ds_out['temp_anom_40_200'] = xr.DataArray(temp_anom_40_200,dims = ['time'],coords =[ds_out.time])\n",
    "# ds_out['doxy_anom_40_200'] = xr.DataArray(doxy_anom_40_200,dims = ['time'],coords =[ds_out.time])\n",
    "# ds_out['sal_anom_40_200'] = xr.DataArray(sal_anom_40_200,dims = ['time'],coords =[ds_out.time])\n",
    "# ds_out['nitrate_anom_40_200'] = xr.DataArray(nitrate_anom_40_200,dims = ['time'],coords =[ds_out.time])\n",
    "# ds_out['phosphate_anom_40_200'] = xr.DataArray(phosphate_anom_40_200,dims = ['time'],coords =[ds_out.time])\n",
    "\n",
    "ds_out['temp_50_200'] = xr.DataArray(temp_50_200,dims = ['time'],coords =[ds_out.time])\n",
    "ds_out['doxy_50_200'] = xr.DataArray(doxy_50_200,dims = ['time'],coords =[ds_out.time])\n",
    "ds_out['sal_50_200'] = xr.DataArray(sal_50_200,dims = ['time'],coords =[ds_out.time])\n",
    "ds_out['nitrate_50_200'] = xr.DataArray(nitrate_50_200,dims = ['time'],coords =[ds_out.time])\n",
    "ds_out['phosphate_50_200'] = xr.DataArray(phosphate_50_200,dims = ['time'],coords =[ds_out.time])\n",
    "# ds_out['temp_anom_50_200'] = xr.DataArray(temp_anom_50_200,dims = ['time'],coords =[ds_out.time])\n",
    "# ds_out['doxy_anom_50_200'] = xr.DataArray(doxy_anom_50_200,dims = ['time'],coords =[ds_out.time])\n",
    "# ds_out['sal_anom_50_200'] = xr.DataArray(sal_anom_50_200,dims = ['time'],coords =[ds_out.time])\n",
    "# ds_out['nitrate_anom_50_200'] = xr.DataArray(nitrate_anom_50_200,dims = ['time'],coords =[ds_out.time])\n",
    "# ds_out['phosphate_anom_50_200'] = xr.DataArray(phosphate_anom_50_200,dims = ['time'],coords =[ds_out.time])\n",
    "\n",
    "ds_out['temp_50_225'] = xr.DataArray(temp_50_225,dims = ['time'],coords =[ds_out.time])\n",
    "ds_out['doxy_50_225'] = xr.DataArray(doxy_50_225,dims = ['time'],coords =[ds_out.time])\n",
    "ds_out['sal_50_225'] = xr.DataArray(sal_50_225,dims = ['time'],coords =[ds_out.time])\n",
    "ds_out['nitrate_50_225'] = xr.DataArray(nitrate_50_225,dims = ['time'],coords =[ds_out.time])\n",
    "ds_out['phosphate_50_225'] = xr.DataArray(phosphate_50_225,dims = ['time'],coords =[ds_out.time])\n",
    "# ds_out['temp_anom_50_225'] = xr.DataArray(temp_anom560_225,dims = ['time'],coords =[ds_out.time])\n",
    "# ds_out['doxy_anom_50_225'] = xr.DataArray(doxy_anom_50_225,dims = ['time'],coords =[ds_out.time])\n",
    "# ds_out['sal_anom_50_225'] = xr.DataArray(sal_anom_50_225,dims = ['time'],coords =[ds_out.time])\n",
    "# ds_out['nitrate_anom_50_225'] = xr.DataArray(nitrate_anom_50_225,dims = ['time'],coords =[ds_out.time])\n",
    "# ds_out['phosphate_anom_50_225'] = xr.DataArray(phosphate_anom_50_225,dims = ['time'],coords =[ds_out.time])\n"
   ]
  },
  {
   "cell_type": "markdown",
   "metadata": {},
   "source": [
    "# Find Coastal Mask"
   ]
  },
  {
   "cell_type": "code",
   "execution_count": 29,
   "metadata": {},
   "outputs": [],
   "source": [
    "xx,yy = np.array(ds_out.lon),np.array(ds_out.lat)\n",
    "\n",
    "mask = mask_coast(xx,yy,[lon_bounds[0],lon_bounds[1],lat_bounds[0],lat_bounds[1]])\n",
    "mask.shape\n",
    "mask_xx = xx[mask]\n",
    "mask_yy = yy[mask]\n",
    "\n",
    "ds_out['coastal_mask'] = xr.DataArray(mask,dims = ['coastal_loc'],coords =[np.arange(len(mask))])\n",
    "ds_out['coastal_mask_xx'] = xr.DataArray(mask_xx,dims = ['coastal_pos'],coords =[np.arange(len(mask[mask]))])\n",
    "ds_out['coastal_mask_yy'] = xr.DataArray(mask_yy,dims = ['coastal_pos'],coords =[np.arange(len(mask[mask]))])\n",
    "ds_out['coastal_mask_bounds'] = xr.DataArray([lon_bounds[0],lon_bounds[1],lat_bounds[0],lat_bounds[1]],\n",
    "                                             dims = ['lonmin,lonmax,latmin,latmax'],\n",
    "                                             coords =[np.arange(4)])"
   ]
  },
  {
   "cell_type": "markdown",
   "metadata": {},
   "source": [
    "# Save Data"
   ]
  },
  {
   "cell_type": "code",
   "execution_count": 30,
   "metadata": {},
   "outputs": [
    {
     "data": {
      "text/plain": [
       "<xarray.Dataset>\n",
       "Dimensions:                      (coastal_loc: 310791, coastal_pos: 114356, lonmin,lonmax,latmin,latmax: 4, pres: 57, time: 310791)\n",
       "Coordinates:\n",
       "  * time                         (time) datetime64[ns] 1770-01-01 ... 2019-12-31\n",
       "  * pres                         (pres) int64 0 5 10 15 ... 1350 1400 1450 1500\n",
       "  * coastal_loc                  (coastal_loc) int64 0 1 2 ... 310789 310790\n",
       "  * coastal_pos                  (coastal_pos) int64 0 1 2 ... 114354 114355\n",
       "  * lonmin,lonmax,latmin,latmax  (lonmin,lonmax,latmin,latmax) int64 0 1 2 3\n",
       "Data variables:\n",
       "    temp                         (time, pres) float64 28.06 nan nan ... nan nan\n",
       "    sal                          (time, pres) float64 nan nan nan ... nan nan\n",
       "    doxy                         (time, pres) float64 nan nan nan ... nan nan\n",
       "    nitrate                      (time, pres) float64 nan nan nan ... nan nan\n",
       "    phosphate                    (time, pres) float64 nan nan nan ... nan nan\n",
       "    lat                          (time) float32 14.433333 16.95 ... 19.501572\n",
       "    lon                          (time) float32 54.083332 64.35 ... 64.72873\n",
       "    temp_40_200                  (time) float64 nan nan nan ... 23.15 22.59\n",
       "    doxy_40_200                  (time) float64 nan nan nan ... nan 92.17 88.67\n",
       "    sal_40_200                   (time) float64 nan nan nan ... 36.24 36.23\n",
       "    nitrate_40_200               (time) float64 nan nan nan ... nan 17.29 nan\n",
       "    phosphate_40_200             (time) float64 nan nan nan nan ... nan nan nan\n",
       "    temp_50_200                  (time) float64 nan nan nan ... 22.85 22.22\n",
       "    doxy_50_200                  (time) float64 nan nan nan ... nan 76.72 72.72\n",
       "    sal_50_200                   (time) float64 nan nan nan ... 36.22 36.21\n",
       "    nitrate_50_200               (time) float64 nan nan nan ... nan 18.57 nan\n",
       "    phosphate_50_200             (time) float64 nan nan nan nan ... nan nan nan\n",
       "    temp_50_225                  (time) float64 nan nan nan ... 22.58 21.81\n",
       "    doxy_50_225                  (time) float64 nan nan nan ... nan 72.08 68.32\n",
       "    sal_50_225                   (time) float64 nan nan nan ... 34.59 36.2 36.19\n",
       "    nitrate_50_225               (time) float64 nan nan nan ... nan 18.63 nan\n",
       "    phosphate_50_225             (time) float64 nan nan nan nan ... nan nan nan\n",
       "    coastal_mask                 (coastal_loc) bool True False ... True False\n",
       "    coastal_mask_xx              (coastal_pos) float32 54.083332 ... 68.08025\n",
       "    coastal_mask_yy              (coastal_pos) float32 14.433333 ... 20.110544\n",
       "    coastal_mask_bounds          (lonmin,lonmax,latmin,latmax) float64 48.5 ... 33.0"
      ]
     },
     "execution_count": 30,
     "metadata": {},
     "output_type": "execute_result"
    }
   ],
   "source": [
    "# delete if already present\n",
    "if os.path.isfile(outfn):\n",
    "    os.remove(outfn)\n",
    "\n",
    "ds_out.to_netcdf(outfn,mode='w',format = \"NETCDF4\")\n",
    "ds_out"
   ]
  },
  {
   "cell_type": "code",
   "execution_count": null,
   "metadata": {},
   "outputs": [],
   "source": []
  }
 ],
 "metadata": {
  "kernelspec": {
   "display_name": "Python 3",
   "language": "python",
   "name": "python3"
  },
  "language_info": {
   "codemirror_mode": {
    "name": "ipython",
    "version": 3
   },
   "file_extension": ".py",
   "mimetype": "text/x-python",
   "name": "python",
   "nbconvert_exporter": "python",
   "pygments_lexer": "ipython3",
   "version": "3.7.3"
  }
 },
 "nbformat": 4,
 "nbformat_minor": 2
}
