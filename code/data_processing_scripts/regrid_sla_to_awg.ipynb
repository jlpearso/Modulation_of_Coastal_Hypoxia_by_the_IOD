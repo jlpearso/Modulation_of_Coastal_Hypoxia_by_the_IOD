{
 "cells": [
  {
   "cell_type": "markdown",
   "metadata": {},
   "source": [
    "# Setup"
   ]
  },
  {
   "cell_type": "code",
   "execution_count": 1,
   "metadata": {},
   "outputs": [
    {
     "name": "stdout",
     "output_type": "stream",
     "text": [
      "Default libraries loaded.\n"
     ]
    }
   ],
   "source": [
    "# import your standard packages\n",
    "%run ../../../global_tools/start.py\n",
    "\n",
    "# import your local functions\n",
    "sys.path.insert(1, '../../code/')\n",
    "from local_functions import *\n",
    "\n",
    "# make sure the figures plot inline rather than at the end\n",
    "%matplotlib inline\n",
    "\n"
   ]
  },
  {
   "cell_type": "markdown",
   "metadata": {},
   "source": [
    "# Paths and Parameters"
   ]
  },
  {
   "cell_type": "code",
   "execution_count": 2,
   "metadata": {},
   "outputs": [],
   "source": [
    "outfn = '../../data/sla_to_awg.nc'"
   ]
  },
  {
   "cell_type": "markdown",
   "metadata": {},
   "source": [
    "# Read Data"
   ]
  },
  {
   "cell_type": "code",
   "execution_count": 3,
   "metadata": {},
   "outputs": [
    {
     "data": {
      "text/plain": [
       "<xarray.Dataset>\n",
       "Dimensions:           (day_time: 10013, lat: 138, lon: 216, month: 12, time: 329)\n",
       "Coordinates:\n",
       "  * lon               (lon) float64 48.62 48.88 49.12 ... 101.9 102.1 102.4\n",
       "  * lat               (lat) float64 -1.375 -1.125 -0.875 ... 32.38 32.62 32.88\n",
       "  * time              (time) datetime64[ns] 1993-01-01 1993-02-01 ... 2020-05-01\n",
       "  * day_time          (day_time) datetime64[ns] 1993-01-01 ... 2020-05-31\n",
       "  * month             (month) int64 1 2 3 4 5 6 7 8 9 10 11 12\n",
       "Data variables:\n",
       "    daily_sla         (day_time, lat, lon) float64 ...\n",
       "    mon_sla           (time, lat, lon) float64 ...\n",
       "    mon_sla_mon_clim  (month, lat, lon) float64 ...\n",
       "    mon_sla_mon_anom  (time, lat, lon) float64 ..."
      ]
     },
     "execution_count": 3,
     "metadata": {},
     "output_type": "execute_result"
    }
   ],
   "source": [
    "ds_SLA = xr.open_dataset('../../data/sla_processed.nc')\n",
    "ds_SLA"
   ]
  },
  {
   "cell_type": "code",
   "execution_count": 4,
   "metadata": {},
   "outputs": [
    {
     "data": {
      "text/plain": [
       "<xarray.Dataset>\n",
       "Dimensions:  (pres: 201, time: 146472)\n",
       "Coordinates:\n",
       "    prof     (time) int32 ...\n",
       "  * time     (time) datetime64[ns] 1958-06-01 1958-06-02 ... 2020-02-07\n",
       "  * pres     (pres) int32 0 5 10 15 20 25 30 35 ... 970 975 980 985 990 995 1000\n",
       "Data variables:\n",
       "    temp     (time, pres) float32 ...\n",
       "    psal     (time, pres) float32 ...\n",
       "    doxy     (time, pres) float32 ...\n",
       "    lat      (time) float32 ...\n",
       "    lon      (time) float32 ...\n",
       "    type     (time) int32 ..."
      ]
     },
     "execution_count": 4,
     "metadata": {},
     "output_type": "execute_result"
    }
   ],
   "source": [
    "ds_AWG = xr.open_dataset('../../data/awg_processed.nc')\n",
    "ds_AWG"
   ]
  },
  {
   "cell_type": "markdown",
   "metadata": {},
   "source": [
    "# Regrid"
   ]
  },
  {
   "cell_type": "code",
   "execution_count": 6,
   "metadata": {},
   "outputs": [
    {
     "name": "stderr",
     "output_type": "stream",
     "text": [
      "100%|██████████| 7106/7106 [49:37<00:00,  2.41it/s]\n"
     ]
    }
   ],
   "source": [
    "# find unique time values of awg data\n",
    "time_key = np.unique(ds_AWG.time)\n",
    "\n",
    "# find all the days there are measurements\n",
    "full_ind = np.full((ds_SLA.daily_sla.shape[0]),False)\n",
    "\n",
    "for tt in range(time_key.shape[0]):\n",
    "    ind = ds_SLA.daily_sla.day_time == time_key[tt]\n",
    "    full_ind = full_ind + ind\n",
    "\n",
    "# take only times where awg measurements were made\n",
    "sla = np.array(ds_SLA.daily_sla[full_ind,:,:])\n",
    "sla_time = np.array(ds_SLA.daily_sla.day_time[full_ind])\n",
    "\n",
    "xx,yy = np.meshgrid(ds_SLA.lon,ds_SLA.lat)\n",
    "xx = xx.flatten()\n",
    "yy = yy.flatten()\n",
    "\n",
    "lons= np.array(ds_AWG.lon)\n",
    "lats = np.array(ds_AWG.lat)\n",
    "times = np.array(ds_AWG.time)\n",
    "\n",
    "daily_sla_AWG = np.zeros(len(times))*np.nan\n",
    "lon_AWG = np.zeros(len(times))*np.nan\n",
    "lat_AWG = np.zeros(len(times))*np.nan\n",
    "time_AWG = np.array(ds_AWG.time)\n",
    "\n",
    "for tt in tqdm(range(sla.shape[0])):\n",
    "    \n",
    "    sla_tmp = np.array(sla[tt,:,:])\n",
    "    indq = times == sla_time[tt]\n",
    "    lonq = lons[indq]\n",
    "    latq = lats[indq]\n",
    "\n",
    "    # find the lons and lats of TCD vals at this time\n",
    "\n",
    "    points = np.array( (xx,yy) ).T\n",
    "    values = sla_tmp.flatten()\n",
    "\n",
    "\n",
    "    daily_sla_AWG[indq] = griddata(points, values, (lonq,latq) ,method='linear' )\n",
    "    lon_AWG[indq] = lonq\n",
    "    lat_AWG[indq] = latq\n",
    "\n"
   ]
  },
  {
   "cell_type": "code",
   "execution_count": 10,
   "metadata": {},
   "outputs": [
    {
     "data": {
      "text/plain": [
       "<xarray.Dataset>\n",
       "Dimensions:    (time: 146472)\n",
       "Coordinates:\n",
       "  * time       (time) datetime64[ns] 1958-06-01 1958-06-02 ... 2020-02-07\n",
       "Data variables:\n",
       "    daily_sla  (time) float64 nan nan nan nan ... -0.04217 0.05087 -0.1005\n",
       "    lon        (time) float64 nan nan nan nan nan ... 86.88 64.74 53.53 84.37\n",
       "    lat        (time) float64 nan nan nan nan nan ... 0.7947 14.39 11.25 1.808"
      ]
     },
     "execution_count": 10,
     "metadata": {},
     "output_type": "execute_result"
    }
   ],
   "source": [
    "# convert to xarray dataset\n",
    "ds=xr.Dataset(coords={'time': time_AWG})\n",
    "\n",
    "# add variables to dataset\n",
    "\n",
    "# AWG\n",
    "ds[\"daily_sla\"]=xr.DataArray(daily_sla_AWG,dims = ['time'],\n",
    "                     coords =[time_AWG])\n",
    "ds[\"lon\"]=xr.DataArray(lon_AWG,dims = ['time'],\n",
    "                     coords =[time_AWG])\n",
    "ds[\"lat\"]=xr.DataArray(lat_AWG,dims = ['time'],\n",
    "                     coords =[time_AWG])\n",
    "\n",
    "ds.to_netcdf(outfn,mode='w',format = \"NETCDF4\")\n",
    "\n",
    "ds"
   ]
  },
  {
   "cell_type": "code",
   "execution_count": 30,
   "metadata": {},
   "outputs": [
    {
     "data": {
      "text/plain": [
       "array([ 0.07522321,  0.05941689,  0.05987612, ..., -0.04433869,\n",
       "       -0.06138302,  0.27052401])"
      ]
     },
     "execution_count": 30,
     "metadata": {},
     "output_type": "execute_result"
    }
   ],
   "source": [
    "daily_sla_AWG[~np.isnan(daily_sla_AWG)]"
   ]
  },
  {
   "cell_type": "code",
   "execution_count": null,
   "metadata": {},
   "outputs": [],
   "source": []
  }
 ],
 "metadata": {
  "kernelspec": {
   "display_name": "Python 3",
   "language": "python",
   "name": "python3"
  },
  "language_info": {
   "codemirror_mode": {
    "name": "ipython",
    "version": 3
   },
   "file_extension": ".py",
   "mimetype": "text/x-python",
   "name": "python",
   "nbconvert_exporter": "python",
   "pygments_lexer": "ipython3",
   "version": "3.7.3"
  }
 },
 "nbformat": 4,
 "nbformat_minor": 2
}
