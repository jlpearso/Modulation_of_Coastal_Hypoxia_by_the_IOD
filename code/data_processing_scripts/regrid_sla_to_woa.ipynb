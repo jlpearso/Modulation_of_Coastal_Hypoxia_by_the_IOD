{
 "cells": [
  {
   "cell_type": "markdown",
   "metadata": {},
   "source": [
    "# Setup"
   ]
  },
  {
   "cell_type": "code",
   "execution_count": 27,
   "metadata": {},
   "outputs": [
    {
     "name": "stdout",
     "output_type": "stream",
     "text": [
      "Default libraries loaded.\n"
     ]
    }
   ],
   "source": [
    "# import your standard packages\n",
    "%run ../../../global_tools/start.py\n",
    "\n",
    "# import your local functions\n",
    "sys.path.insert(1, '../../code/')\n",
    "from local_functions import *\n",
    "\n",
    "# make sure the figures plot inline rather than at the end\n",
    "%matplotlib inline\n"
   ]
  },
  {
   "cell_type": "markdown",
   "metadata": {},
   "source": [
    "# Paths and Parameters"
   ]
  },
  {
   "cell_type": "code",
   "execution_count": 28,
   "metadata": {},
   "outputs": [],
   "source": [
    "outfn = '../../data/sla_to_woa.nc'"
   ]
  },
  {
   "cell_type": "markdown",
   "metadata": {},
   "source": [
    "# Read Data"
   ]
  },
  {
   "cell_type": "code",
   "execution_count": 29,
   "metadata": {},
   "outputs": [
    {
     "data": {
      "text/plain": [
       "<xarray.Dataset>\n",
       "Dimensions:           (day_time: 10013, lat: 138, loc_list: 7, lon: 216, month: 12, no_stations: 574, time: 329)\n",
       "Coordinates:\n",
       "  * lon               (lon) float64 48.62 48.88 49.12 ... 101.9 102.1 102.4\n",
       "  * lat               (lat) float64 -1.375 -1.125 -0.875 ... 32.38 32.62 32.88\n",
       "  * time              (time) datetime64[ns] 1993-01-01 1993-02-01 ... 2020-05-01\n",
       "  * day_time          (day_time) datetime64[ns] 1993-01-01 ... 2020-05-31\n",
       "  * month             (month) int64 1 2 3 4 5 6 7 8 9 10 11 12\n",
       "  * no_stations       (no_stations) float64 1.0 2.0 3.0 ... 572.0 573.0 574.0\n",
       "  * loc_list          (loc_list) int64 0 80 201 291 382 491 573\n",
       "Data variables:\n",
       "    daily_sla         (day_time, lat, lon) float64 ...\n",
       "    mon_sla           (time, lat, lon) float64 ...\n",
       "    mon_sla_mon_clim  (month, lat, lon) float64 ...\n",
       "    mon_sla_mon_anom  (time, lat, lon) float64 ...\n",
       "    sta_loninds       (no_stations) int64 ...\n",
       "    sta_latinds       (no_stations) int64 ...\n",
       "    sta_lon           (no_stations) float32 ...\n",
       "    sta_lat           (no_stations) float32 ..."
      ]
     },
     "execution_count": 29,
     "metadata": {},
     "output_type": "execute_result"
    }
   ],
   "source": [
    "# SLA\n",
    "ds_SLA = xr.open_dataset('../../data/sla_processed.nc')\n",
    "ds_SLA"
   ]
  },
  {
   "cell_type": "code",
   "execution_count": 30,
   "metadata": {},
   "outputs": [
    {
     "data": {
      "text/plain": [
       "<xarray.Dataset>\n",
       "Dimensions:                      (coastal_loc: 1925, coastal_pos: 439, depth: 57, lat: 35, lon: 55, lonmin,lonmax,latmin,latmax: 4, month: 12)\n",
       "Coordinates:\n",
       "  * month                        (month) int64 1 2 3 4 5 6 7 8 9 10 11 12\n",
       "  * depth                        (depth) float32 0.0 5.0 10.0 ... 1450.0 1500.0\n",
       "  * lon                          (lon) float32 48.5 49.5 50.5 ... 101.5 102.5\n",
       "  * lat                          (lat) float32 -1.5 -0.5 0.5 ... 30.5 31.5 32.5\n",
       "  * coastal_loc                  (coastal_loc) int64 0 1 2 3 ... 1922 1923 1924\n",
       "  * coastal_pos                  (coastal_pos) int64 0 1 2 3 ... 435 436 437 438\n",
       "  * lonmin,lonmax,latmin,latmax  (lonmin,lonmax,latmin,latmax) int64 0 1 2 3\n",
       "Data variables:\n",
       "    temp                         (month, depth, lat, lon) float64 ...\n",
       "    psal                         (month, depth, lat, lon) float64 ...\n",
       "    doxy                         (month, depth, lat, lon) float64 ...\n",
       "    nitrate                      (month, depth, lat, lon) float64 ...\n",
       "    phosphate                    (month, depth, lat, lon) float64 ...\n",
       "    pres                         (depth, lat, lon) float64 ...\n",
       "    temp_40_200                  (month, lat, lon) float64 ...\n",
       "    doxy_40_200                  (month, lat, lon) float64 ...\n",
       "    psal_40_200                  (month, lat, lon) float64 ...\n",
       "    nitrate_40_200               (month, lat, lon) float64 ...\n",
       "    phosphate_40_200             (month, lat, lon) float64 ...\n",
       "    temp_50_200                  (month, lat, lon) float64 ...\n",
       "    doxy_50_200                  (month, lat, lon) float64 ...\n",
       "    psal_50_200                  (month, lat, lon) float64 ...\n",
       "    nitrate_50_200               (month, lat, lon) float64 ...\n",
       "    phosphate_50_200             (month, lat, lon) float64 ...\n",
       "    temp_60_200                  (month, lat, lon) float64 ...\n",
       "    doxy_60_200                  (month, lat, lon) float64 ...\n",
       "    psal_60_200                  (month, lat, lon) float64 ...\n",
       "    nitrate_60_200               (month, lat, lon) float64 ...\n",
       "    phosphate_60_200             (month, lat, lon) float64 ...\n",
       "    temp_40_200_ann_mean         (lat, lon) float64 ...\n",
       "    doxy_40_200_ann_mean         (lat, lon) float64 ...\n",
       "    psal_40_200_ann_mean         (lat, lon) float64 ...\n",
       "    nitrate_40_200_ann_mean      (lat, lon) float64 ...\n",
       "    phosphate_40_200_ann_mean    (lat, lon) float64 ...\n",
       "    temp_50_200_ann_mean         (lat, lon) float64 ...\n",
       "    doxy_50_200_ann_mean         (lat, lon) float64 ...\n",
       "    psal_50_200_ann_mean         (lat, lon) float64 ...\n",
       "    nitrate_50_200_ann_mean      (lat, lon) float64 ...\n",
       "    phosphate_50_200_ann_mean    (lat, lon) float64 ...\n",
       "    temp_60_200_ann_mean         (lat, lon) float64 ...\n",
       "    doxy_60_200_ann_mean         (lat, lon) float64 ...\n",
       "    psal_60_200_ann_mean         (lat, lon) float64 ...\n",
       "    nitrat_60_200_ann_mean       (lat, lon) float64 ...\n",
       "    phosphate_60_200_ann_mean    (lat, lon) float64 ...\n",
       "    temp_40_200_anom             (month, lat, lon) float64 ...\n",
       "    doxy_40_200_anom             (month, lat, lon) float64 ...\n",
       "    psal_40_200_anom             (month, lat, lon) float64 ...\n",
       "    nitrate_40_200_anom          (month, lat, lon) float64 ...\n",
       "    phosphate_40_200_anom        (month, lat, lon) float64 ...\n",
       "    temp_50_200_anom             (month, lat, lon) float64 ...\n",
       "    doxy_50_200_anom             (month, lat, lon) float64 ...\n",
       "    psal_50_200_anom             (month, lat, lon) float64 ...\n",
       "    nitrate_50_200_anom          (month, lat, lon) float64 ...\n",
       "    phosphate_50_200_anom        (month, lat, lon) float64 ...\n",
       "    temp_60_200_anom             (month, lat, lon) float64 ...\n",
       "    doxy_60_200_anom             (month, lat, lon) float64 ...\n",
       "    psal_60_200_anom             (month, lat, lon) float64 ...\n",
       "    nitrate_60_200_anom          (month, lat, lon) float64 ...\n",
       "    phosphate_60_200_anom        (month, lat, lon) float64 ...\n",
       "    coastal_mask                 (coastal_loc) bool ...\n",
       "    coastal_mask_xx              (coastal_pos) float32 ...\n",
       "    coastal_mask_yy              (coastal_pos) float32 ...\n",
       "    coastal_mask_bounds          (lonmin,lonmax,latmin,latmax) float64 ..."
      ]
     },
     "execution_count": 30,
     "metadata": {},
     "output_type": "execute_result"
    }
   ],
   "source": [
    "# WOA\n",
    "infn_WOA = '../../data/woa_processed.nc'\n",
    "\n",
    "ds_WOA = xr.open_dataset(infn_WOA)\n",
    "ds_WOA"
   ]
  },
  {
   "cell_type": "markdown",
   "metadata": {},
   "source": [
    "# Regrid"
   ]
  },
  {
   "cell_type": "code",
   "execution_count": 31,
   "metadata": {},
   "outputs": [
    {
     "name": "stderr",
     "output_type": "stream",
     "text": [
      "100%|██████████| 329/329 [02:23<00:00,  2.31it/s]\n"
     ]
    }
   ],
   "source": [
    "xx,yy = np.meshgrid(ds_SLA.lon,ds_SLA.lat)\n",
    "xx = xx.flatten()\n",
    "yy = yy.flatten()\n",
    "\n",
    "xx_WOA,yy_WOA = np.meshgrid(ds_WOA.lon,ds_WOA.lat)\n",
    "\n",
    "mon_sla_mon_anom_WOA = np.zeros((len(ds_SLA.time),len(ds_WOA.lat),len(ds_WOA.lon)))*np.nan\n",
    "\n",
    "for tt in tqdm(range(len(ds_SLA.time))):\n",
    "\n",
    "    temp_sla = np.array(ds_SLA.mon_sla_mon_anom[tt,:,:])\n",
    "\n",
    "    # find the lons and lats of TCD vals at this time\n",
    "\n",
    "    points = np.array( (xx,yy) ).T\n",
    "    temp_values = temp_sla.flatten()\n",
    "\n",
    "    mon_sla_mon_anom_WOA[tt,:,:] = griddata(points, temp_values, (xx_WOA,yy_WOA) ,method='linear')\n",
    "\n",
    "ds_out = xr.Dataset(coords={'time': ds_SLA.time,\n",
    "                        'lon': ds_WOA.lon,\n",
    "                        'lat': ds_WOA.lat})\n",
    "coords = [ds_SLA.time,ds_WOA.lat,ds_WOA.lon]\n",
    "dims = ['time','lat','lon']\n",
    "\n",
    "# add to dataset\n",
    "ds_out['mon_sla_mon_anom'] = xr.DataArray(mon_sla_mon_anom_WOA,dims = dims,coords = coords)"
   ]
  },
  {
   "cell_type": "code",
   "execution_count": 32,
   "metadata": {},
   "outputs": [
    {
     "name": "stderr",
     "output_type": "stream",
     "text": [
      "100%|██████████| 12/12 [00:05<00:00,  2.30it/s]\n"
     ]
    }
   ],
   "source": [
    "xx,yy = np.meshgrid(ds_SLA.lon,ds_SLA.lat)\n",
    "xx = xx.flatten()\n",
    "yy = yy.flatten()\n",
    "\n",
    "xx_WOA,yy_WOA = np.meshgrid(ds_WOA.lon,ds_WOA.lat)\n",
    "\n",
    "mon_sla_mon_clim_WOA = np.zeros((len(ds_WOA.month),len(ds_WOA.lat),len(ds_WOA.lon)))*np.nan\n",
    "\n",
    "for tt in tqdm(range(len(ds_WOA.month))):\n",
    "\n",
    "    temp_sla = np.array(ds_SLA.mon_sla_mon_clim[tt,:,:])\n",
    "\n",
    "    # find the lons and lats of TCD vals at this time\n",
    "\n",
    "    points = np.array( (xx,yy) ).T\n",
    "    temp_values = temp_sla.flatten()\n",
    "\n",
    "    mon_sla_mon_clim_WOA[tt,:,:] = griddata(points, temp_values, (xx_WOA,yy_WOA) ,method='linear')\n",
    "\n",
    "# ds_out = xr.Dataset(coords={'month': ds_WOA.month,\n",
    "#                         'lon': ds_WOA.lon,\n",
    "#                         'lat': ds_WOA.lat})\n",
    "coords = [ds_WOA.month,ds_WOA.lat,ds_WOA.lon]\n",
    "dims = ['month','lat','lon']\n",
    "\n",
    "# add to dataset\n",
    "ds_out['mon_sla_mon_clim'] = xr.DataArray(mon_sla_mon_clim_WOA,dims = dims,coords = coords)\n",
    "\n"
   ]
  },
  {
   "cell_type": "markdown",
   "metadata": {},
   "source": [
    "# Sample Plot"
   ]
  },
  {
   "cell_type": "code",
   "execution_count": 33,
   "metadata": {},
   "outputs": [
    {
     "data": {
      "text/plain": [
       "Text(0.5, 1.0, 'Original')"
      ]
     },
     "execution_count": 33,
     "metadata": {},
     "output_type": "execute_result"
    },
    {
     "data": {
      "image/png": "[encoded data removed]",
      "text/plain": [
       "<Figure size 432x288 with 1 Axes>"
      ]
     },
     "metadata": {
      "needs_background": "light"
     },
     "output_type": "display_data"
    }
   ],
   "source": [
    "plt.pcolor(ds_SLA.mon_sla_mon_clim[0,:,:])\n",
    "plt.title('Original')"
   ]
  },
  {
   "cell_type": "code",
   "execution_count": 34,
   "metadata": {},
   "outputs": [
    {
     "data": {
      "text/plain": [
       "Text(0.5, 1.0, 'Regridded')"
      ]
     },
     "execution_count": 34,
     "metadata": {},
     "output_type": "execute_result"
    },
    {
     "data": {
      "image/png": "[encoded data removed]",
      "text/plain": [
       "<Figure size 432x288 with 1 Axes>"
      ]
     },
     "metadata": {
      "needs_background": "light"
     },
     "output_type": "display_data"
    }
   ],
   "source": [
    "plt.pcolor(ds_out.mon_sla_mon_clim[0,:,:])\n",
    "plt.title('Regridded')"
   ]
  },
  {
   "cell_type": "markdown",
   "metadata": {},
   "source": [
    "# SAVE"
   ]
  },
  {
   "cell_type": "code",
   "execution_count": 35,
   "metadata": {},
   "outputs": [
    {
     "data": {
      "text/plain": [
       "<xarray.Dataset>\n",
       "Dimensions:           (lat: 35, lon: 55, month: 12, time: 329)\n",
       "Coordinates:\n",
       "  * time              (time) datetime64[ns] 1993-01-01 1993-02-01 ... 2020-05-01\n",
       "  * lon               (lon) float32 48.5 49.5 50.5 51.5 ... 100.5 101.5 102.5\n",
       "  * lat               (lat) float32 -1.5 -0.5 0.5 1.5 ... 29.5 30.5 31.5 32.5\n",
       "  * month             (month) int64 1 2 3 4 5 6 7 8 9 10 11 12\n",
       "Data variables:\n",
       "    mon_sla_mon_anom  (time, lat, lon) float64 nan nan nan nan ... nan nan nan\n",
       "    mon_sla_mon_clim  (month, lat, lon) float64 nan nan nan nan ... nan nan nan"
      ]
     },
     "execution_count": 35,
     "metadata": {},
     "output_type": "execute_result"
    }
   ],
   "source": [
    "# delete if already present\n",
    "if os.path.isfile(outfn):\n",
    "    os.remove(outfn)\n",
    "\n",
    "ds_out.to_netcdf(outfn,mode='w',format = \"NETCDF4\")\n",
    "ds_out"
   ]
  },
  {
   "cell_type": "code",
   "execution_count": null,
   "metadata": {},
   "outputs": [],
   "source": []
  }
 ],
 "metadata": {
  "kernelspec": {
   "display_name": "Python 3",
   "language": "python",
   "name": "python3"
  },
  "language_info": {
   "codemirror_mode": {
    "name": "ipython",
    "version": 3
   },
   "file_extension": ".py",
   "mimetype": "text/x-python",
   "name": "python",
   "nbconvert_exporter": "python",
   "pygments_lexer": "ipython3",
   "version": "3.7.3"
  }
 },
 "nbformat": 4,
 "nbformat_minor": 2
}
