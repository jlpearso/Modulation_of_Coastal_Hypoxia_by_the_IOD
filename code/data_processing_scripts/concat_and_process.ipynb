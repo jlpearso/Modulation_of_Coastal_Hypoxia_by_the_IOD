{
 "cells": [
  {
   "cell_type": "markdown",
   "metadata": {},
   "source": [
    "# Setup \n",
    "\n",
    "concatenates all profiles into one file with no_profiles x depth (up to 2000m)\n",
    "interpolates to standard depth levels as defined on Noaa: https://www.ncei.noaa.gov/access/world-ocean-database-select/depth_definition.html\n",
    "linear interp chosen based on ease and https://aslopubs.onlinelibrary.wiley.com/doi/abs/10.4319/lom.2013.11.213"
   ]
  },
  {
   "cell_type": "code",
   "execution_count": 1,
   "metadata": {},
   "outputs": [
    {
     "name": "stdout",
     "output_type": "stream",
     "text": [
      "Default libraries loaded.\n"
     ]
    }
   ],
   "source": [
    "# import your standard packages\n",
    "%run ../../../global_tools/start.py\n",
    "\n",
    "# import your local functions\n",
    "sys.path.insert(1, '../')\n",
    "from local_functions import *\n",
    "\n",
    "# make sure the figures plot inline rather than at the end\n",
    "%matplotlib inline\n",
    "\n",
    "# concatenates all profiles into one file with no_profiles x depth (up to 2000m)\n",
    "# interpolates to standard depth levels as defined on Noaa: https://www.ncei.noaa.gov/access/world-ocean-database-select/depth_definition.html\n",
    "# linear interp chosen based on ease and https://aslopubs.onlinelibrary.wiley.com/doi/abs/10.4319/lom.2013.11.213\n",
    "# import xarray as xr\n",
    "# import numpy as np\n",
    "# import pandas as pd\n",
    "# from scipy.interpolate import interp1d\n",
    "# import os\n",
    "# import glob\n",
    "# from tqdm import tqdm"
   ]
  },
  {
   "cell_type": "code",
   "execution_count": 2,
   "metadata": {},
   "outputs": [],
   "source": [
    "varlist = ['OSD','CTD','DRB','MRB','PFL','XBT','MBT','UOR','APB','GLD']\n",
    "DEPTH = np.array([0,5,10,15,20,25,30,35,40,45,50,55,60,65,70,75,80,85,90,95,100,\n",
    "                 125,150,175,200,225,250,275,300,325,350,375,400,425,450,475,500,\n",
    "                 550,600,650,700,750,800,850,900,1000,1050,1100,1150,1200,1250,1300,\n",
    "                 1350,1400,1450,1500,1550,1600,1650,1700,1750,1800,1850,1900,1950,2000])"
   ]
  },
  {
   "cell_type": "code",
   "execution_count": 3,
   "metadata": {},
   "outputs": [],
   "source": [
    "inpath = '/tigress/GEOCLIM/LRGROUP/shared_data/WOD/test/'\n",
    "\n",
    "lat = []\n",
    "lon = []\n",
    "t = []\n",
    "cast_id = []\n",
    "\n",
    "for var in varlist:\n",
    "    # get all the datafiles\n",
    "    fns = glob.glob(inpath + var + '/ocldb*.nc')\n",
    "    for fn in fns:\n",
    "        ds_in = xr.open_dataset(fn)\n",
    "        lat.extend(ds_in.lat)\n",
    "        lon.extend(ds_in.lon)\n",
    "        t.extend(np.array(ds_in.time))\n",
    "        cast_id.extend([var + str(i) for i in np.array(ds_in.cast) ])\n",
    "\n",
    "no_profs = len(cast_id)"
   ]
  },
  {
   "cell_type": "code",
   "execution_count": 6,
   "metadata": {},
   "outputs": [
    {
     "name": "stdout",
     "output_type": "stream",
     "text": [
      "Processing  OSD\n"
     ]
    },
    {
     "name": "stderr",
     "output_type": "stream",
     "text": [
      "100%|██████████| 556/556 [00:13<00:00, 43.11it/s]"
     ]
    },
    {
     "name": "stdout",
     "output_type": "stream",
     "text": [
      "Processing  CTD\n"
     ]
    },
    {
     "name": "stderr",
     "output_type": "stream",
     "text": [
      "\n",
      "100%|██████████| 3687/3687 [01:29<00:00,  7.13it/s]"
     ]
    },
    {
     "name": "stdout",
     "output_type": "stream",
     "text": [
      "Processing  DRB\n"
     ]
    },
    {
     "name": "stderr",
     "output_type": "stream",
     "text": [
      "\n",
      "100%|██████████| 3390/3390 [01:05<00:00, 49.15it/s]"
     ]
    },
    {
     "name": "stdout",
     "output_type": "stream",
     "text": [
      "Processing  MRB\n"
     ]
    },
    {
     "name": "stderr",
     "output_type": "stream",
     "text": [
      "\n",
      "100%|██████████| 6973/6973 [01:57<00:00, 56.15it/s]"
     ]
    },
    {
     "name": "stdout",
     "output_type": "stream",
     "text": [
      "Processing  PFL\n"
     ]
    },
    {
     "name": "stderr",
     "output_type": "stream",
     "text": [
      "\n",
      "100%|██████████| 64063/64063 [31:28<00:00, 33.91it/s]"
     ]
    },
    {
     "name": "stdout",
     "output_type": "stream",
     "text": [
      "Processing  XBT\n"
     ]
    },
    {
     "name": "stderr",
     "output_type": "stream",
     "text": [
      "\n",
      "100%|██████████| 1048/1048 [00:19<00:00, 54.03it/s]"
     ]
    },
    {
     "name": "stdout",
     "output_type": "stream",
     "text": [
      "Processing  MBT\n"
     ]
    },
    {
     "name": "stderr",
     "output_type": "stream",
     "text": [
      "\n",
      "\r",
      "0it [00:00, ?it/s]"
     ]
    },
    {
     "name": "stdout",
     "output_type": "stream",
     "text": [
      "Processing  UOR\n"
     ]
    },
    {
     "name": "stderr",
     "output_type": "stream",
     "text": [
      "\n",
      "\r",
      "0it [00:00, ?it/s]"
     ]
    },
    {
     "name": "stdout",
     "output_type": "stream",
     "text": [
      "Processing  APB\n"
     ]
    },
    {
     "name": "stderr",
     "output_type": "stream",
     "text": [
      "\n",
      "100%|██████████| 16777/16777 [04:37<00:00, 60.36it/s]"
     ]
    },
    {
     "name": "stdout",
     "output_type": "stream",
     "text": [
      "Processing  GLD\n"
     ]
    },
    {
     "name": "stderr",
     "output_type": "stream",
     "text": [
      "\n",
      "100%|██████████| 3434/3434 [01:13<00:00, 46.44it/s]\n"
     ]
    }
   ],
   "source": [
    "# initialize vars\n",
    "lat = []\n",
    "lon = []\n",
    "t = []\n",
    "cast_id = []\n",
    "TEMP = np.full([no_profs,len(DEPTH)],np.nan)\n",
    "DOXY = np.full([no_profs,len(DEPTH)],np.nan)\n",
    "SAL = np.full([no_profs,len(DEPTH)],np.nan)\n",
    "NITRATE = np.full([no_profs,len(DEPTH)],np.nan)\n",
    "PHOSPHATE = np.full([no_profs,len(DEPTH)],np.nan)\n",
    "\n",
    "# loop through all datatypes APB, CTD, DRB, MRB, OSD, PFL, XBT\n",
    "pr = 0 # set profile counter to 0 and add 1 for each loop\n",
    "for vv, var in enumerate(varlist):\n",
    "\n",
    "    print('Processing ',var, flush=True)\n",
    "    \n",
    "\n",
    "    fns = sorted(glob.glob(inpath + '*' + var + '/wod*.nc'))\n",
    "        \n",
    "    # loop through all files of the same dataset\n",
    "    for fn in tqdm(fns):\n",
    "#     for ff in tqdm(range(10)):\n",
    "#         fn = fns[ff]\n",
    "\n",
    "        # read in file\n",
    "        ds_in = xr.open_dataset(fn)\n",
    "        \n",
    "        lat.extend([float(ds_in.lat)])\n",
    "        lon.extend([float(ds_in.lon)])\n",
    "        t.extend([np.array(ds_in.time)])\n",
    "        cast_id.append(var + '_' + str(int(ds_in.wod_unique_cast)))\n",
    "\n",
    "        if \"Temperature\" in ds_in:\n",
    "\n",
    "            #remove 'bad data'\n",
    "            temp = ds_in.Temperature[ds_in.Temperature_WODflag == 0]\n",
    "            z = ds_in.z[ds_in.Temperature_WODflag == 0]\n",
    "\n",
    "            if temp.shape[0] > 3:\n",
    "                \n",
    "                z_int = DEPTH[(DEPTH <= float(z.max())) & (DEPTH >= float(z.min()))]\n",
    "                \n",
    "                # linearly interpolate to standard levels\n",
    "                f = interp1d(z, temp)\n",
    "                temp_int = f(z_int)\n",
    "\n",
    "                # find indicies of DEPTH to fill\n",
    "                z_ind = [i for i, val in enumerate(DEPTH) if val in set(np.array(z_int))]\n",
    "\n",
    "                TEMP[pr,z_ind] = temp_int\n",
    "                \n",
    "        if \"Salinity\" in ds_in:\n",
    "\n",
    "            #remove 'bad data'\n",
    "            sal = ds_in.Salinity[ds_in.Salinity_WODflag == 0]\n",
    "            z = ds_in.z[ds_in.Salinity_WODflag == 0]\n",
    "            \n",
    "            if sal.shape[0] > 3:\n",
    "                \n",
    "                z_int = DEPTH[(DEPTH <= float(z.max())) & (DEPTH >= float(z.min()))]\n",
    "                \n",
    "                # linearly interpolate to standard levels\n",
    "                f = interp1d(z, sal)\n",
    "                sal_int = f(z_int)\n",
    "\n",
    "                # find indicies of DEPTH to fill\n",
    "                z_ind = [i for i, val in enumerate(DEPTH) if val in set(np.array(z_int))]\n",
    "\n",
    "                SAL[pr,z_ind] = sal_int\n",
    "\n",
    "        if \"Oxygen\" in ds_in:\n",
    "\n",
    "            #remove 'bad data'\n",
    "            doxy = ds_in.Oxygen[ds_in.Oxygen_WODflag == 0]\n",
    "            z = ds_in.z[ds_in.Oxygen_WODflag == 0]\n",
    "\n",
    "            if doxy.shape[0] > 3:\n",
    "                \n",
    "                z_int = DEPTH[(DEPTH <= float(z.max())) & (DEPTH >= float(z.min()))]\n",
    "                \n",
    "                # linearly interpolate to standard levels\n",
    "                f = interp1d(z, doxy)\n",
    "                doxy_int = f(z_int)\n",
    "\n",
    "                # find indicies of DEPTH to fill\n",
    "                z_ind = [i for i, val in enumerate(DEPTH) if val in set(np.array(z_int))]\n",
    "\n",
    "                DOXY[pr,z_ind] = doxy_int\n",
    "                \n",
    "        if \"Nitrate\" in ds_in:\n",
    "\n",
    "            #remove 'bad data'\n",
    "            nitrate = ds_in.Nitrate[ds_in.Nitrate_WODflag == 0]\n",
    "            z = ds_in.z[ds_in.Nitrate_WODflag == 0]\n",
    "\n",
    "            if nitrate.shape[0] > 3:\n",
    "                \n",
    "                z_int = DEPTH[(DEPTH <= float(z.max())) & (DEPTH >= float(z.min()))]\n",
    "                \n",
    "                # linearly interpolate to standard levels\n",
    "                f = interp1d(z, nitrate)\n",
    "                nitrate_int = f(z_int)\n",
    "\n",
    "                # find indicies of DEPTH to fill\n",
    "                z_ind = [i for i, val in enumerate(DEPTH) if val in set(np.array(z_int))]\n",
    "\n",
    "                NITRATE[pr,z_ind] = nitrate_int\n",
    "                \n",
    "        if \"Phosphate\" in ds_in:\n",
    "\n",
    "            #remove 'bad data'\n",
    "            phosphate = ds_in.Phosphate[ds_in.Phosphate_WODflag == 0]\n",
    "            z = ds_in.z[ds_in.Phosphate_WODflag == 0]\n",
    "\n",
    "            if phosphate.shape[0] > 3:\n",
    "                \n",
    "                z_int = DEPTH[(DEPTH <= float(z.max())) & (DEPTH >= float(z.min()))]\n",
    "                \n",
    "                # linearly interpolate to standard levels\n",
    "                f = interp1d(z, phosphate)\n",
    "                phosphate_int = f(z_int)\n",
    "\n",
    "                # find indicies of DEPTH to fill\n",
    "                z_ind = [i for i, val in enumerate(DEPTH) if val in set(np.array(z_int))]\n",
    "\n",
    "                PHOSPHATE[pr,z_ind] = phosphate_int\n",
    " \n",
    "        pr = pr +1\n",
    "        "
   ]
  },
  {
   "cell_type": "markdown",
   "metadata": {},
   "source": [
    "# Add to Dataset"
   ]
  },
  {
   "cell_type": "code",
   "execution_count": null,
   "metadata": {},
   "outputs": [],
   "source": [
    "# add to dataset\n",
    "\n",
    "#------------------------------ profiles -------------------------------------#\n",
    "coords = [no_profs,DEPTH]\n",
    "dims = ['no. profs', 'depth']\n",
    "\n",
    "ds_out['temp'] = xr.DataArray(TEMP,dims = dims,coords = coords)\n",
    "ds_out['sal'] = xr.DataArray(SAL,dims = dims,coords = coords)\n",
    "ds_out['doxy'] = xr.DataArray(DOXY,dims = dims,coords = coords)\n",
    "ds_out['nitrate'] = xr.DataArray(NITRATE,dims = dims,coords = coords)\n",
    "ds_out['phosphate'] = xr.DataArray(PHOSPHATE,dims = dims,coords = coords)"
   ]
  },
  {
   "cell_type": "markdown",
   "metadata": {},
   "source": [
    "# Sort in Time"
   ]
  },
  {
   "cell_type": "code",
   "execution_count": null,
   "metadata": {},
   "outputs": [],
   "source": []
  },
  {
   "cell_type": "markdown",
   "metadata": {},
   "source": [
    "# Subset for Indian Ocean"
   ]
  },
  {
   "cell_type": "code",
   "execution_count": null,
   "metadata": {},
   "outputs": [],
   "source": []
  },
  {
   "cell_type": "code",
   "execution_count": null,
   "metadata": {},
   "outputs": [],
   "source": [
    "# def rr_interp(prof, obs_z, target_z):\n",
    "#     '''See FAQ # 6 https://www.nodc.noaa.gov/OC5/WOD/wod-woa-faqs.html\n",
    "#      For less than 3 points = linear interpolation\n",
    "#      For 3 points = lagrangian interpolation\n",
    "#      for 4 points or larger = Reiniger-Ross interpolation\n",
    "     \n",
    "#      https://waves-vagues.dfo-mpo.gc.ca/Library/53761.pdf\n",
    "#      https://github.com/dankelley/oce/blob/develop/src/oce_approx.cpp\n",
    "#      https://rda.ucar.edu/datasets/ds285.0/docs/WOD18-UsersManual_final.pdf\n",
    "     \n",
    "#     '''\n",
    "    \n",
    "#     # remove nans\n",
    "#     y = prof(~np.isnan(prof))\n",
    "#     x = obs_z(~np.isnan(prof))\n",
    "    \n",
    "#     if y.shape < 3: # linear\n",
    "        \n",
    "#     elif y.shape < 4: # lagrangian\n",
    "        \n",
    "#     else: # RR \n",
    "        "
   ]
  }
 ],
 "metadata": {
  "kernelspec": {
   "display_name": "Python 3",
   "language": "python",
   "name": "python3"
  },
  "language_info": {
   "codemirror_mode": {
    "name": "ipython",
    "version": 3
   },
   "file_extension": ".py",
   "mimetype": "text/x-python",
   "name": "python",
   "nbconvert_exporter": "python",
   "pygments_lexer": "ipython3",
   "version": "3.7.3"
  }
 },
 "nbformat": 4,
 "nbformat_minor": 2
}
