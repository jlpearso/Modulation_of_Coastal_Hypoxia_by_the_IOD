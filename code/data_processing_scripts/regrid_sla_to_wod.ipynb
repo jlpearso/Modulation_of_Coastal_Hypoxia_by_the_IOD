{
 "cells": [
  {
   "cell_type": "markdown",
   "metadata": {},
   "source": [
    "# Setup"
   ]
  },
  {
   "cell_type": "code",
   "execution_count": 5,
   "metadata": {},
   "outputs": [
    {
     "name": "stdout",
     "output_type": "stream",
     "text": [
      "Default libraries loaded.\n"
     ]
    }
   ],
   "source": [
    "# import your standard packages\n",
    "%run ../pkgs.py\n",
    "\n",
    "# import your local functions\n",
    "sys.path.insert(1, '../')\n",
    "from local_functions import *\n",
    "\n",
    "# make sure the figures plot inline rather than at the end\n",
    "%matplotlib inline"
   ]
  },
  {
   "cell_type": "markdown",
   "metadata": {},
   "source": [
    "# Paths and Parameters"
   ]
  },
  {
   "cell_type": "code",
   "execution_count": 6,
   "metadata": {},
   "outputs": [],
   "source": [
    "outfn = '../../data/sla_to_wod.nc'"
   ]
  },
  {
   "cell_type": "markdown",
   "metadata": {},
   "source": [
    "# Read Data"
   ]
  },
  {
   "cell_type": "code",
   "execution_count": 7,
   "metadata": {},
   "outputs": [
    {
     "data": {
      "text/plain": [
       "<xarray.Dataset>\n",
       "Dimensions:           (day_time: 10013, lat: 138, loc_list: 5, lon: 216, month: 12, no_stations: 367, time: 329)\n",
       "Coordinates:\n",
       "  * lon               (lon) float64 48.62 48.88 49.12 ... 101.9 102.1 102.4\n",
       "  * lat               (lat) float64 -1.375 -1.125 -0.875 ... 32.38 32.62 32.88\n",
       "  * time              (time) datetime64[ns] 1993-01-01 1993-02-01 ... 2020-05-01\n",
       "  * day_time          (day_time) datetime64[ns] 1993-01-01 ... 2020-05-31\n",
       "  * month             (month) int64 1 2 3 4 5 6 7 8 9 10 11 12\n",
       "  * no_stations       (no_stations) float64 1.0 2.0 3.0 ... 365.0 366.0 367.0\n",
       "  * loc_list          (loc_list) int64 0 75 225 313 366\n",
       "Data variables:\n",
       "    daily_sla         (day_time, lat, lon) float64 ...\n",
       "    mon_sla           (time, lat, lon) float64 ...\n",
       "    mon_sla_mon_clim  (month, lat, lon) float64 ...\n",
       "    mon_sla_mon_anom  (time, lat, lon) float64 ...\n",
       "    sta_loninds       (no_stations) int64 ...\n",
       "    sta_latinds       (no_stations) int64 ...\n",
       "    sta_lon           (no_stations) float32 ...\n",
       "    sta_lat           (no_stations) float32 ..."
      ]
     },
     "execution_count": 7,
     "metadata": {},
     "output_type": "execute_result"
    }
   ],
   "source": [
    "ds_SLA = xr.open_dataset('../../data/sla_processed.nc')\n",
    "ds_SLA"
   ]
  },
  {
   "cell_type": "code",
   "execution_count": 8,
   "metadata": {},
   "outputs": [
    {
     "data": {
      "text/plain": [
       "<xarray.Dataset>\n",
       "Dimensions:                      (coastal_loc: 341437, coastal_pos: 139423, lonmin,lonmax,latmin,latmax: 4, pres: 57, time: 341437)\n",
       "Coordinates:\n",
       "  * time                         (time) datetime64[ns] 1770-01-01 ... 2020-05-31\n",
       "  * pres                         (pres) int64 0 5 10 15 ... 1350 1400 1450 1500\n",
       "  * coastal_loc                  (coastal_loc) int64 0 1 2 ... 341435 341436\n",
       "  * coastal_pos                  (coastal_pos) int64 0 1 2 ... 139421 139422\n",
       "  * lonmin,lonmax,latmin,latmax  (lonmin,lonmax,latmin,latmax) int64 0 1 2 3\n",
       "Data variables:\n",
       "    temp                         (time, pres) float64 ...\n",
       "    sal                          (time, pres) float64 ...\n",
       "    doxy                         (time, pres) float64 ...\n",
       "    nitrate                      (time, pres) float64 ...\n",
       "    phosphate                    (time, pres) float64 ...\n",
       "    lat                          (time) float32 ...\n",
       "    lon                          (time) float32 ...\n",
       "    cast_id                      (time) object ...\n",
       "    temp_40_200                  (time) float64 ...\n",
       "    doxy_40_200                  (time) float64 ...\n",
       "    sal_40_200                   (time) float64 ...\n",
       "    nitrate_40_200               (time) float64 ...\n",
       "    phosphate_40_200             (time) float64 ...\n",
       "    temp_50_200                  (time) float64 ...\n",
       "    doxy_50_200                  (time) float64 ...\n",
       "    sal_50_200                   (time) float64 ...\n",
       "    nitrate_50_200               (time) float64 ...\n",
       "    phosphate_50_200             (time) float64 ...\n",
       "    temp_50_225                  (time) float64 ...\n",
       "    doxy_50_225                  (time) float64 ...\n",
       "    sal_50_225                   (time) float64 ...\n",
       "    nitrate_50_225               (time) float64 ...\n",
       "    phosphate_50_225             (time) float64 ...\n",
       "    coastal_mask                 (coastal_loc) bool ...\n",
       "    coastal_mask_xx              (coastal_pos) float32 ...\n",
       "    coastal_mask_yy              (coastal_pos) float32 ...\n",
       "    coastal_mask_bounds          (lonmin,lonmax,latmin,latmax) float64 ..."
      ]
     },
     "execution_count": 8,
     "metadata": {},
     "output_type": "execute_result"
    }
   ],
   "source": [
    "ds_WOD = xr.open_dataset('../../data/wod_processed.nc')\n",
    "ds_WOD"
   ]
  },
  {
   "cell_type": "markdown",
   "metadata": {},
   "source": [
    "# Regrid"
   ]
  },
  {
   "cell_type": "code",
   "execution_count": 9,
   "metadata": {},
   "outputs": [
    {
     "name": "stderr",
     "output_type": "stream",
     "text": [
      "100%|██████████| 9764/9764 [1:10:44<00:00,  2.33it/s]\n"
     ]
    }
   ],
   "source": [
    "# find unique time values of wod data\n",
    "time_key = np.unique(ds_WOD.time)\n",
    "\n",
    "# find all the days there are measurements\n",
    "full_ind = np.full((ds_SLA.daily_sla.shape[0]),False)\n",
    "\n",
    "for tt in range(time_key.shape[0]):\n",
    "    ind = ds_SLA.daily_sla.day_time == time_key[tt]\n",
    "    full_ind = full_ind + ind\n",
    "\n",
    "# take only times where awg measurements were made\n",
    "sla = np.array(ds_SLA.daily_sla[full_ind,:,:])\n",
    "sla_time = np.array(ds_SLA.daily_sla.day_time[full_ind])\n",
    "\n",
    "xx,yy = np.meshgrid(ds_SLA.lon,ds_SLA.lat)\n",
    "xx = xx.flatten()\n",
    "yy = yy.flatten()\n",
    "\n",
    "lons= np.array(ds_WOD.lon)\n",
    "lats = np.array(ds_WOD.lat)\n",
    "times = np.array(ds_WOD.time)\n",
    "\n",
    "daily_sla_WOD = np.zeros(len(times))*np.nan\n",
    "lon_WOD = np.zeros(len(times))*np.nan\n",
    "lat_WOD = np.zeros(len(times))*np.nan\n",
    "time_WOD = np.array(ds_WOD.time)\n",
    "\n",
    "for tt in tqdm(range(sla.shape[0])):\n",
    "    \n",
    "    sla_tmp = np.array(sla[tt,:,:])\n",
    "    indq = times == sla_time[tt]\n",
    "    lonq = lons[indq]\n",
    "    latq = lats[indq]\n",
    "\n",
    "    # find the lons and lats of TCD vals at this time\n",
    "\n",
    "    points = np.array( (xx,yy) ).T\n",
    "    values = sla_tmp.flatten()\n",
    "\n",
    "\n",
    "    daily_sla_WOD[indq] = griddata(points, values, (lonq,latq) ,method='linear' )\n",
    "    lon_WOD[indq] = lonq\n",
    "    lat_WOD[indq] = latq\n",
    "\n"
   ]
  },
  {
   "cell_type": "code",
   "execution_count": 15,
   "metadata": {},
   "outputs": [
    {
     "data": {
      "text/plain": [
       "<xarray.Dataset>\n",
       "Dimensions:    (time: 341437)\n",
       "Coordinates:\n",
       "  * time       (time) datetime64[ns] 1770-01-01 1770-01-01 ... 2020-05-31\n",
       "Data variables:\n",
       "    daily_sla  (time) float64 nan nan nan nan ... 0.06474 0.05062 0.217 0.1077\n",
       "    lon        (time) float64 nan nan nan nan nan ... 89.98 60.41 57.72 67.64\n",
       "    lat        (time) float64 nan nan nan nan nan ... 3.584 0.153 15.84 13.86"
      ]
     },
     "execution_count": 15,
     "metadata": {},
     "output_type": "execute_result"
    }
   ],
   "source": [
    "# convert to xarray dataset\n",
    "ds=xr.Dataset(coords={'time': time_WOD})\n",
    "\n",
    "# add variables to dataset\n",
    "\n",
    "# WOD\n",
    "ds[\"daily_sla\"]=xr.DataArray(daily_sla_WOD,dims = ['time'],\n",
    "                     coords =[time_WOD])\n",
    "ds[\"lon\"]=xr.DataArray(lon_WOD,dims = ['time'],\n",
    "                     coords =[time_WOD])\n",
    "ds[\"lat\"]=xr.DataArray(lat_WOD,dims = ['time'],\n",
    "                     coords =[time_WOD])\n",
    "\n",
    "# delete if already present\n",
    "if os.path.isfile(outfn):\n",
    "    os.remove(outfn)\n",
    "\n",
    "ds.to_netcdf(outfn,mode='w',format = \"NETCDF4\")\n",
    "\n",
    "ds"
   ]
  },
  {
   "cell_type": "code",
   "execution_count": 16,
   "metadata": {},
   "outputs": [
    {
     "data": {
      "text/plain": [
       "<xarray.DataArray 'daily_sla' (time: 209026)>\n",
       "array([ 0.10777 , -0.069932,  0.051994, ...,  0.050616,  0.217014,  0.107703])\n",
       "Coordinates:\n",
       "  * time     (time) datetime64[ns] 1993-01-01 1993-01-01 ... 2020-05-31"
      ]
     },
     "execution_count": 16,
     "metadata": {},
     "output_type": "execute_result"
    }
   ],
   "source": [
    "ds.daily_sla[~np.isnan(ds.daily_sla)]"
   ]
  }
 ],
 "metadata": {
  "kernelspec": {
   "display_name": "Python 3",
   "language": "python",
   "name": "python3"
  },
  "language_info": {
   "codemirror_mode": {
    "name": "ipython",
    "version": 3
   },
   "file_extension": ".py",
   "mimetype": "text/x-python",
   "name": "python",
   "nbconvert_exporter": "python",
   "pygments_lexer": "ipython3",
   "version": "3.7.3"
  }
 },
 "nbformat": 4,
 "nbformat_minor": 2
}
