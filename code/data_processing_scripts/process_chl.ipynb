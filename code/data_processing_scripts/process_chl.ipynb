{
 "cells": [
  {
   "cell_type": "markdown",
   "metadata": {},
   "source": [
    "# Setup"
   ]
  },
  {
   "cell_type": "code",
   "execution_count": 1,
   "metadata": {},
   "outputs": [
    {
     "name": "stdout",
     "output_type": "stream",
     "text": [
      "Default libraries loaded.\n"
     ]
    }
   ],
   "source": [
    "# import your standard packages\n",
    "%run ../../../global_tools/start.py\n",
    "\n",
    "# import your local functions\n",
    "sys.path.insert(1, '../')\n",
    "from local_functions import *\n",
    "\n",
    "# make sure the figures plot inline rather than at the end\n",
    "%matplotlib inline"
   ]
  },
  {
   "cell_type": "markdown",
   "metadata": {},
   "source": [
    "# Paths and Parameters"
   ]
  },
  {
   "cell_type": "code",
   "execution_count": 2,
   "metadata": {},
   "outputs": [],
   "source": [
    "outfn = '../../data/chl_processed.nc'\n",
    "\n",
    "# get data from tigress\n",
    "inpath = '/home/jennap/projects/LRGROUP/shared_data/chl-oc-cci/concatenated/'\n",
    "infn = 'ESACCI-OC-L3S-CHLOR_A-MERGED-1M_MONTHLY_4km_GEO_PML_OCx-fv5.0_19970904_20200601.nc'\n",
    "\n",
    "lat_bounds = [-1.5, 33]\n",
    "lon_bounds = [48.5, 102.5]\n",
    "time_bounds = ['1997-09-04','2020-05-31']"
   ]
  },
  {
   "cell_type": "markdown",
   "metadata": {},
   "source": [
    "# Get Data and Subset"
   ]
  },
  {
   "cell_type": "code",
   "execution_count": 3,
   "metadata": {},
   "outputs": [],
   "source": [
    "ds = xr.open_dataset(inpath + infn)\n",
    "\n",
    "# Subset ------------------------------------------------#\n",
    "lat_slice = slice(lat_bounds[0], lat_bounds[1])\n",
    "lon_slice = slice(lon_bounds[0], lon_bounds[1])\n",
    "time_slice = slice(time_bounds[0],time_bounds[1])\n",
    "\n",
    "ds = ds.sel(lat=lat_slice,lon=lon_slice, time = time_slice)\n",
    "\n",
    "# Get data, selecting lat/lon slice\n",
    "mon_chl = ds['chlor_a'].sel(lat=lat_slice,lon=lon_slice, time = time_slice)\n",
    "lat = mon_chl.lat.values\n",
    "lon = mon_chl.lon.values"
   ]
  },
  {
   "cell_type": "markdown",
   "metadata": {},
   "source": [
    "# Find Climatologies \n",
    "Resources: [link](http://xarray.pydata.org/en/stable/examples/monthly-means.html)"
   ]
  },
  {
   "cell_type": "code",
   "execution_count": 4,
   "metadata": {},
   "outputs": [
    {
     "name": "stderr",
     "output_type": "stream",
     "text": [
      "/home/jennap/anaconda3/lib/python3.7/site-packages/xarray/core/nanops.py:161: RuntimeWarning: Mean of empty slice\n",
      "  return np.nanmean(a, axis=axis, dtype=dtype)\n"
     ]
    }
   ],
   "source": [
    "mon_chl_mon_clim = monthly_clim(mon_chl)"
   ]
  },
  {
   "cell_type": "markdown",
   "metadata": {},
   "source": [
    "# Find Anomalies"
   ]
  },
  {
   "cell_type": "code",
   "execution_count": 5,
   "metadata": {},
   "outputs": [
    {
     "name": "stdout",
     "output_type": "stream",
     "text": [
      "CPU times: user 12min 29s, sys: 47.6 s, total: 13min 17s\n",
      "Wall time: 26.6 s\n"
     ]
    }
   ],
   "source": [
    "%%time\n",
    "# monthly avg data - monthly climatology\n",
    "mon_chl_mon_anom = mon_chl.groupby('time.month') - mon_chl_mon_clim"
   ]
  },
  {
   "cell_type": "code",
   "execution_count": 7,
   "metadata": {},
   "outputs": [],
   "source": [
    "# convert to xarray dataset\n",
    "ds=xr.Dataset(coords={'lon': mon_chl.lon,\n",
    "                    'lat': mon_chl.lat,\n",
    "                    'time': mon_chl.time})\n",
    "\n",
    "# add variables to dataset\n",
    "ds[\"mon_chl\"]=xr.DataArray(mon_chl,dims = ['time','lat', 'lon'],\n",
    "                     coords =[mon_chl.time,mon_chl.lat,mon_chl.lon])\n",
    "\n",
    "# clim\n",
    "ds[\"mon_chl_mon_clim\"]=xr.DataArray(mon_chl_mon_clim,dims = ['month','lat', 'lon'],\n",
    "                     coords =[mon_chl_mon_clim.month,mon_chl.lat,mon_chl.lon])\n",
    "\n",
    "# anom\n",
    "ds[\"mon_chl_mon_anom\"]=xr.DataArray(mon_chl_mon_anom,dims = ['time','lat', 'lon'],\n",
    "                     coords =[mon_chl_mon_anom.time,mon_chl.lat,mon_chl.lon])\n"
   ]
  },
  {
   "cell_type": "code",
   "execution_count": 8,
   "metadata": {},
   "outputs": [
    {
     "data": {
      "text/plain": [
       "<xarray.Dataset>\n",
       "Dimensions:           (lat: 828, lon: 1296, month: 12, time: 273)\n",
       "Coordinates:\n",
       "  * lon               (lon) float64 48.52 48.56 48.6 48.65 ... 102.4 102.4 102.5\n",
       "  * lat               (lat) float64 -1.479 -1.438 -1.396 ... 32.9 32.94 32.98\n",
       "  * time              (time) datetime64[ns] 1997-09-04 1997-10-01 ... 2020-05-01\n",
       "  * month             (month) int64 1 2 3 4 5 6 7 8 9 10 11 12\n",
       "Data variables:\n",
       "    mon_chl           (time, lat, lon) float64 0.2797 0.2686 0.2979 ... nan nan\n",
       "    mon_chl_mon_clim  (month, lat, lon) float64 0.2109 0.2216 0.221 ... nan nan\n",
       "    mon_chl_mon_anom  (time, lat, lon) float64 -0.1182 -0.1113 ... nan nan"
      ]
     },
     "execution_count": 8,
     "metadata": {},
     "output_type": "execute_result"
    }
   ],
   "source": [
    "# delete if already present\n",
    "if os.path.isfile(outfn):\n",
    "    os.remove(outfn)\n",
    "\n",
    "ds.to_netcdf(outfn,mode='w',format = \"NETCDF4\")\n",
    "\n",
    "ds"
   ]
  },
  {
   "cell_type": "code",
   "execution_count": null,
   "metadata": {},
   "outputs": [],
   "source": []
  }
 ],
 "metadata": {
  "kernelspec": {
   "display_name": "Python 3",
   "language": "python",
   "name": "python3"
  },
  "language_info": {
   "codemirror_mode": {
    "name": "ipython",
    "version": 3
   },
   "file_extension": ".py",
   "mimetype": "text/x-python",
   "name": "python",
   "nbconvert_exporter": "python",
   "pygments_lexer": "ipython3",
   "version": "3.7.3"
  }
 },
 "nbformat": 4,
 "nbformat_minor": 2
}
