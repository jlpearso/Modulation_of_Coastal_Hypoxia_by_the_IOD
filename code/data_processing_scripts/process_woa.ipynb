{
 "cells": [
  {
   "cell_type": "markdown",
   "metadata": {},
   "source": [
    "# Setup"
   ]
  },
  {
   "cell_type": "code",
   "execution_count": 1,
   "metadata": {},
   "outputs": [
    {
     "name": "stdout",
     "output_type": "stream",
     "text": [
      "Default libraries loaded.\n"
     ]
    }
   ],
   "source": [
    "# import your standard packages\n",
    "%run ../../../global_tools/start.py\n",
    "\n",
    "# import your local functions\n",
    "sys.path.insert(1, '../')\n",
    "from local_functions import *\n",
    "\n",
    "# make sure the figures plot inline rather than at the end\n",
    "%matplotlib inline"
   ]
  },
  {
   "cell_type": "markdown",
   "metadata": {},
   "source": [
    "# Parameters and Paths"
   ]
  },
  {
   "cell_type": "code",
   "execution_count": 23,
   "metadata": {},
   "outputs": [],
   "source": [
    "inpath = \"/tigress/GEOCLIM/LRGROUP/shared_data/woa18/\"\n",
    "\n",
    "outfn = '../../data/woa_processed.nc'\n",
    "\n",
    "lat_bounds = [-1.5, 33]\n",
    "lon_bounds = [48.5, 102.5]"
   ]
  },
  {
   "cell_type": "markdown",
   "metadata": {},
   "source": [
    "# Get Data"
   ]
  },
  {
   "cell_type": "code",
   "execution_count": 3,
   "metadata": {},
   "outputs": [
    {
     "name": "stderr",
     "output_type": "stream",
     "text": [
      "100%|██████████| 12/12 [00:05<00:00,  2.22it/s]\n"
     ]
    }
   ],
   "source": [
    "for tt in tqdm(range(1,13)):\n",
    "     \n",
    "    if tt < 10:\n",
    "        t='0'+str(tt)\n",
    "    else:\n",
    "        t=str(tt)\n",
    "        \n",
    "    if tt == 1:\n",
    "        data=xr.open_dataset(inpath+\"temp/1deg/monthly/woa18_decav_t\"+t+\"_01.nc\", decode_times=False)\n",
    "        \n",
    "        depth = data.depth\n",
    "        \n",
    "        \n",
    "        TEMP = np.full([12,data[\"t_an\"].shape[1],data[\"t_an\"].shape[2],data[\"t_an\"].shape[3]],np.nan)\n",
    "        DOXY = np.full([12,data[\"t_an\"].shape[1],data[\"t_an\"].shape[2],data[\"t_an\"].shape[3]],np.nan)\n",
    "        PSAL = np.full([12,data[\"t_an\"].shape[1],data[\"t_an\"].shape[2],data[\"t_an\"].shape[3]],np.nan)\n",
    "        NITRATE = np.full([12,data[\"t_an\"].shape[1],data[\"t_an\"].shape[2],data[\"t_an\"].shape[3]],np.nan)\n",
    "        PHOSPHATE = np.full([12,data[\"t_an\"].shape[1],data[\"t_an\"].shape[2],data[\"t_an\"].shape[3]],np.nan)\n",
    "       \n",
    "        \n",
    "    # TEMP\n",
    "    data=xr.open_dataset(inpath+\"temp/1deg/monthly/woa18_decav_t\"+t+\"_01.nc\", decode_times=False)\n",
    "    TEMP[tt-1,:,:,:] = np.array(data[\"t_an\"][0,:,:,:])\n",
    "    \n",
    "    # PSAL\n",
    "    data=xr.open_dataset(inpath+\"salt/1deg/monthly/woa18_decav_s\"+t+\"_01.nc\", decode_times=False)\n",
    "    PSAL[tt-1,:,:,:] = np.array(data[\"s_an\"][0,:,:,:])\n",
    "    \n",
    "    # DOXY\n",
    "    data=xr.open_dataset(inpath+\"oxygen/monthly/woa18_all_o\"+t+\"_01.nc\", decode_times=False)\n",
    "    DOXY[tt-1,:,:,:] = np.array(data[\"o_an\"][0,:,:,:])\n",
    "    \n",
    "    # Nitrate\n",
    "    data=xr.open_dataset(inpath+\"nitrate/monthly/woa18_all_n\"+t+\"_01.nc\", decode_times=False)\n",
    "    NITRATE[tt-1,:43,:,:] = np.array(data[\"n_an\"][0,:,:,:])\n",
    "    \n",
    "    # Phosphate\n",
    "    data=xr.open_dataset(inpath+\"phosphate/monthly/woa18_all_p\"+t+\"_01.nc\", decode_times=False)\n",
    "    PHOSPHATE[tt-1,:43,:,:] = np.array(data[\"p_an\"][0,:,:,:])\n",
    "    \n",
    "# depth to pressure\n",
    "lat = np.array(data.lat)\n",
    "lon = np.array(data.lon)\n",
    "\n",
    "PRES = np.full([len(depth),len(lat),len(lon)],np.nan)\n",
    "\n",
    "for ii,tmplat in zip(range(len(lat)),lat):\n",
    "    for jj in range(len(lon)):\n",
    "        PRES[:,ii,jj]=sw.eos80.pres(depth, [tmplat for i in range(len(depth))])\n"
   ]
  },
  {
   "cell_type": "markdown",
   "metadata": {},
   "source": [
    "# Subset"
   ]
  },
  {
   "cell_type": "code",
   "execution_count": 4,
   "metadata": {},
   "outputs": [],
   "source": [
    "ds_out = xr.Dataset(coords={'month': np.arange(1,13),\n",
    "                        'depth': depth,\n",
    "                        'lon': lon,\n",
    "                        'lat': lat})\n",
    "coords = [np.arange(1,13),depth,lat,lon]\n",
    "dims = ['month','depth','lat','lon']\n",
    "\n",
    "# add to dataset\n",
    "ds_out['temp'] = xr.DataArray(TEMP,dims = dims,coords = coords)\n",
    "ds_out['psal'] = xr.DataArray(PSAL,dims = dims,coords = coords)\n",
    "ds_out['doxy'] = xr.DataArray(DOXY,dims = dims,coords = coords)\n",
    "ds_out['nitrate'] = xr.DataArray(NITRATE,dims = dims,coords = coords)\n",
    "ds_out['phosphate'] = xr.DataArray(PHOSPHATE,dims = dims,coords = coords)\n",
    "ds_out['pres'] = xr.DataArray(PRES,dims = dims[1:],coords = coords[1:])\n",
    "\n",
    "\n",
    "# subset\n",
    "lat_slice = slice(lat_bounds[0], lat_bounds[1])\n",
    "lon_slice = slice(lon_bounds[0], lon_bounds[1])\n",
    "\n",
    "ds_out = ds_out.sel(lat = lat_slice, lon = lon_slice)"
   ]
  },
  {
   "cell_type": "code",
   "execution_count": 6,
   "metadata": {},
   "outputs": [
    {
     "data": {
      "text/plain": [
       "<xarray.Dataset>\n",
       "Dimensions:    (depth: 57, lat: 35, lon: 55, month: 12)\n",
       "Coordinates:\n",
       "  * month      (month) int64 1 2 3 4 5 6 7 8 9 10 11 12\n",
       "  * depth      (depth) float32 0.0 5.0 10.0 15.0 ... 1350.0 1400.0 1450.0 1500.0\n",
       "  * lon        (lon) float32 48.5 49.5 50.5 51.5 52.5 ... 99.5 100.5 101.5 102.5\n",
       "  * lat        (lat) float32 -1.5 -0.5 0.5 1.5 2.5 ... 28.5 29.5 30.5 31.5 32.5\n",
       "Data variables:\n",
       "    temp       (month, depth, lat, lon) float64 27.04 27.16 27.28 ... nan nan\n",
       "    psal       (month, depth, lat, lon) float64 35.32 35.32 35.32 ... nan nan\n",
       "    doxy       (month, depth, lat, lon) float64 208.9 209.1 208.3 ... nan nan\n",
       "    nitrate    (month, depth, lat, lon) float64 0.7416 0.4686 0.202 ... nan nan\n",
       "    phosphate  (month, depth, lat, lon) float64 0.1886 0.2047 0.2121 ... nan nan\n",
       "    pres       (depth, lat, lon) float64 0.0 0.0 0.0 ... 1.516e+03 1.516e+03"
      ]
     },
     "execution_count": 6,
     "metadata": {},
     "output_type": "execute_result"
    }
   ],
   "source": [
    "ds_out"
   ]
  },
  {
   "cell_type": "markdown",
   "metadata": {},
   "source": [
    "# Remove any negative concentration values"
   ]
  },
  {
   "cell_type": "code",
   "execution_count": 5,
   "metadata": {},
   "outputs": [],
   "source": [
    "# set negative oxygen values to nan\n",
    "ds_out['doxy'] = ds_out.doxy.where(ds_out.doxy >= 0)\n",
    "ds_out['nitrate'] = ds_out.nitrate.where(ds_out.nitrate >= 0)\n",
    "ds_out['phosphate'] = ds_out.phosphate.where(ds_out.phosphate >= 0)"
   ]
  },
  {
   "cell_type": "code",
   "execution_count": 17,
   "metadata": {},
   "outputs": [
    {
     "name": "stderr",
     "output_type": "stream",
     "text": [
      "/home/jennap/anaconda3/lib/python3.7/site-packages/ipykernel_launcher.py:2: RuntimeWarning: Mean of empty slice\n",
      "  \n"
     ]
    },
    {
     "data": {
      "text/plain": [
       "(12, 35, 55)"
      ]
     },
     "execution_count": 17,
     "metadata": {},
     "output_type": "execute_result"
    }
   ],
   "source": [
    "ind = (ds_out.depth >= 40) & (ds_out.depth <= 200)\n",
    "tmp = np.nanmean(ds_out.doxy[:,ind,:,:] - np.nanmean(ds_out.doxy,0)[ind,:,:],1)\n",
    "tmp.shape\n"
   ]
  },
  {
   "cell_type": "code",
   "execution_count": 19,
   "metadata": {},
   "outputs": [
    {
     "data": {
      "text/plain": [
       "<matplotlib.collections.PolyCollection at 0x7f2279d26e80>"
      ]
     },
     "execution_count": 19,
     "metadata": {},
     "output_type": "execute_result"
    },
    {
     "data": {
      "image/png": "[encoded data removed]",
      "text/plain": [
       "<Figure size 432x288 with 1 Axes>"
      ]
     },
     "metadata": {
      "needs_background": "light"
     },
     "output_type": "display_data"
    }
   ],
   "source": [
    "plt.pcolor(tmp[0,:,:])"
   ]
  },
  {
   "cell_type": "code",
   "execution_count": 21,
   "metadata": {},
   "outputs": [
    {
     "name": "stderr",
     "output_type": "stream",
     "text": [
      "/home/jennap/anaconda3/lib/python3.7/site-packages/ipykernel_launcher.py:1: RuntimeWarning: Mean of empty slice\n",
      "  \"\"\"Entry point for launching an IPython kernel.\n"
     ]
    },
    {
     "data": {
      "text/plain": [
       "<matplotlib.collections.PolyCollection at 0x7f227837deb8>"
      ]
     },
     "execution_count": 21,
     "metadata": {},
     "output_type": "execute_result"
    },
    {
     "data": {
      "image/png": "[encoded data removed]",
      "text/plain": [
       "<Figure size 432x288 with 1 Axes>"
      ]
     },
     "metadata": {
      "needs_background": "light"
     },
     "output_type": "display_data"
    }
   ],
   "source": [
    "plt.pcolor(np.nanmean(ds_out.doxy[0,ind,:,:] - np.nanmean(ds_out.doxy,0)[ind,:,:],0))"
   ]
  },
  {
   "cell_type": "markdown",
   "metadata": {},
   "source": [
    "# Find Water Column Averages"
   ]
  },
  {
   "cell_type": "code",
   "execution_count": 22,
   "metadata": {},
   "outputs": [
    {
     "name": "stderr",
     "output_type": "stream",
     "text": [
      "/home/jennap/anaconda3/lib/python3.7/site-packages/ipykernel_launcher.py:3: RuntimeWarning: Mean of empty slice\n",
      "  This is separate from the ipykernel package so we can avoid doing imports until\n",
      "/home/jennap/anaconda3/lib/python3.7/site-packages/ipykernel_launcher.py:4: RuntimeWarning: Mean of empty slice\n",
      "  after removing the cwd from sys.path.\n",
      "/home/jennap/anaconda3/lib/python3.7/site-packages/ipykernel_launcher.py:5: RuntimeWarning: Mean of empty slice\n",
      "  \"\"\"\n",
      "/home/jennap/anaconda3/lib/python3.7/site-packages/ipykernel_launcher.py:6: RuntimeWarning: Mean of empty slice\n",
      "  \n",
      "/home/jennap/anaconda3/lib/python3.7/site-packages/ipykernel_launcher.py:7: RuntimeWarning: Mean of empty slice\n",
      "  import sys\n",
      "/home/jennap/anaconda3/lib/python3.7/site-packages/ipykernel_launcher.py:10: RuntimeWarning: Mean of empty slice\n",
      "  # Remove the CWD from sys.path while we load stuff.\n",
      "/home/jennap/anaconda3/lib/python3.7/site-packages/ipykernel_launcher.py:11: RuntimeWarning: Mean of empty slice\n",
      "  # This is added back by InteractiveShellApp.init_path()\n",
      "/home/jennap/anaconda3/lib/python3.7/site-packages/ipykernel_launcher.py:12: RuntimeWarning: Mean of empty slice\n",
      "  if sys.path[0] == '':\n",
      "/home/jennap/anaconda3/lib/python3.7/site-packages/ipykernel_launcher.py:13: RuntimeWarning: Mean of empty slice\n",
      "  del sys.path[0]\n",
      "/home/jennap/anaconda3/lib/python3.7/site-packages/ipykernel_launcher.py:14: RuntimeWarning: Mean of empty slice\n",
      "  \n",
      "/home/jennap/anaconda3/lib/python3.7/site-packages/ipykernel_launcher.py:17: RuntimeWarning: Mean of empty slice\n",
      "/home/jennap/anaconda3/lib/python3.7/site-packages/ipykernel_launcher.py:18: RuntimeWarning: Mean of empty slice\n",
      "/home/jennap/anaconda3/lib/python3.7/site-packages/ipykernel_launcher.py:19: RuntimeWarning: Mean of empty slice\n",
      "/home/jennap/anaconda3/lib/python3.7/site-packages/ipykernel_launcher.py:20: RuntimeWarning: Mean of empty slice\n",
      "/home/jennap/anaconda3/lib/python3.7/site-packages/ipykernel_launcher.py:21: RuntimeWarning: Mean of empty slice\n",
      "/home/jennap/anaconda3/lib/python3.7/site-packages/ipykernel_launcher.py:25: RuntimeWarning: Mean of empty slice\n",
      "/home/jennap/anaconda3/lib/python3.7/site-packages/ipykernel_launcher.py:26: RuntimeWarning: Mean of empty slice\n",
      "/home/jennap/anaconda3/lib/python3.7/site-packages/ipykernel_launcher.py:27: RuntimeWarning: Mean of empty slice\n",
      "/home/jennap/anaconda3/lib/python3.7/site-packages/ipykernel_launcher.py:28: RuntimeWarning: Mean of empty slice\n",
      "/home/jennap/anaconda3/lib/python3.7/site-packages/ipykernel_launcher.py:29: RuntimeWarning: Mean of empty slice\n",
      "/home/jennap/anaconda3/lib/python3.7/site-packages/ipykernel_launcher.py:32: RuntimeWarning: Mean of empty slice\n",
      "/home/jennap/anaconda3/lib/python3.7/site-packages/ipykernel_launcher.py:33: RuntimeWarning: Mean of empty slice\n",
      "/home/jennap/anaconda3/lib/python3.7/site-packages/ipykernel_launcher.py:34: RuntimeWarning: Mean of empty slice\n",
      "/home/jennap/anaconda3/lib/python3.7/site-packages/ipykernel_launcher.py:35: RuntimeWarning: Mean of empty slice\n",
      "/home/jennap/anaconda3/lib/python3.7/site-packages/ipykernel_launcher.py:36: RuntimeWarning: Mean of empty slice\n",
      "/home/jennap/anaconda3/lib/python3.7/site-packages/ipykernel_launcher.py:39: RuntimeWarning: Mean of empty slice\n",
      "/home/jennap/anaconda3/lib/python3.7/site-packages/ipykernel_launcher.py:40: RuntimeWarning: Mean of empty slice\n",
      "/home/jennap/anaconda3/lib/python3.7/site-packages/ipykernel_launcher.py:41: RuntimeWarning: Mean of empty slice\n",
      "/home/jennap/anaconda3/lib/python3.7/site-packages/ipykernel_launcher.py:42: RuntimeWarning: Mean of empty slice\n",
      "/home/jennap/anaconda3/lib/python3.7/site-packages/ipykernel_launcher.py:43: RuntimeWarning: Mean of empty slice\n",
      "/home/jennap/anaconda3/lib/python3.7/site-packages/ipykernel_launcher.py:47: RuntimeWarning: Mean of empty slice\n",
      "/home/jennap/anaconda3/lib/python3.7/site-packages/ipykernel_launcher.py:48: RuntimeWarning: Mean of empty slice\n",
      "/home/jennap/anaconda3/lib/python3.7/site-packages/ipykernel_launcher.py:49: RuntimeWarning: Mean of empty slice\n",
      "/home/jennap/anaconda3/lib/python3.7/site-packages/ipykernel_launcher.py:50: RuntimeWarning: Mean of empty slice\n",
      "/home/jennap/anaconda3/lib/python3.7/site-packages/ipykernel_launcher.py:51: RuntimeWarning: Mean of empty slice\n",
      "/home/jennap/anaconda3/lib/python3.7/site-packages/ipykernel_launcher.py:54: RuntimeWarning: Mean of empty slice\n",
      "/home/jennap/anaconda3/lib/python3.7/site-packages/ipykernel_launcher.py:55: RuntimeWarning: Mean of empty slice\n",
      "/home/jennap/anaconda3/lib/python3.7/site-packages/ipykernel_launcher.py:56: RuntimeWarning: Mean of empty slice\n",
      "/home/jennap/anaconda3/lib/python3.7/site-packages/ipykernel_launcher.py:57: RuntimeWarning: Mean of empty slice\n",
      "/home/jennap/anaconda3/lib/python3.7/site-packages/ipykernel_launcher.py:58: RuntimeWarning: Mean of empty slice\n",
      "/home/jennap/anaconda3/lib/python3.7/site-packages/ipykernel_launcher.py:61: RuntimeWarning: Mean of empty slice\n",
      "/home/jennap/anaconda3/lib/python3.7/site-packages/ipykernel_launcher.py:62: RuntimeWarning: Mean of empty slice\n",
      "/home/jennap/anaconda3/lib/python3.7/site-packages/ipykernel_launcher.py:63: RuntimeWarning: Mean of empty slice\n",
      "/home/jennap/anaconda3/lib/python3.7/site-packages/ipykernel_launcher.py:64: RuntimeWarning: Mean of empty slice\n",
      "/home/jennap/anaconda3/lib/python3.7/site-packages/ipykernel_launcher.py:65: RuntimeWarning: Mean of empty slice\n"
     ]
    }
   ],
   "source": [
    "# mean values to 200 dbar\n",
    "ind = (ds_out.depth >= 40) & (ds_out.depth <= 200)\n",
    "doxy_40_200 = np.nanmean(ds_out.doxy[:,ind,:,:],1)\n",
    "temp_40_200 = np.nanmean(ds_out.temp[:,ind,:,:],1)\n",
    "psal_40_200 = np.nanmean(ds_out.psal[:,ind,:,:],1)\n",
    "nitrate_40_200 = np.nanmean(ds_out.nitrate[:,ind,:,:],1)\n",
    "phosphate_40_200 = np.nanmean(ds_out.phosphate[:,ind,:,:],1)\n",
    "\n",
    "ind = (ds_out.depth >= 50) & (ds_out.depth <= 200)\n",
    "doxy_50_200 = np.nanmean(ds_out.doxy[:,ind,:,:],1)\n",
    "temp_50_200 = np.nanmean(ds_out.temp[:,ind,:,:],1)\n",
    "psal_50_200 = np.nanmean(ds_out.psal[:,ind,:,:],1)\n",
    "nitrate_50_200 = np.nanmean(ds_out.nitrate[:,ind,:,:],1)\n",
    "phosphate_50_200 = np.nanmean(ds_out.phosphate[:,ind,:,:],1)\n",
    "\n",
    "ind = (ds_out.depth >= 60) & (ds_out.depth <= 200)\n",
    "doxy_60_200 = np.nanmean(ds_out.doxy[:,ind,:,:],1)\n",
    "temp_60_200 = np.nanmean(ds_out.temp[:,ind,:,:],1)\n",
    "psal_60_200 = np.nanmean(ds_out.psal[:,ind,:,:],1)\n",
    "nitrate_60_200 = np.nanmean(ds_out.nitrate[:,ind,:,:],1)\n",
    "phosphate_60_200 = np.nanmean(ds_out.phosphate[:,ind,:,:],1)\n",
    "\n",
    "# annual mean to 200m\n",
    "ind = (ds_out.depth >= 40) & (ds_out.depth <= 200)\n",
    "doxy_40_200_ann_mean = np.nanmean(np.nanmean(ds_out.doxy,0)[ind,:,:],0)\n",
    "temp_40_200_ann_mean  = np.nanmean(np.nanmean(ds_out.temp,0)[ind,:,:],0)\n",
    "psal_40_200_ann_mean  = np.nanmean(np.nanmean(ds_out.psal,0)[ind,:,:],0)\n",
    "nitrate_40_200_ann_mean  = np.nanmean(np.nanmean(ds_out.nitrate,0)[ind,:,:],0)\n",
    "phosphate_40_200_ann_mean  = np.nanmean(np.nanmean(ds_out.phosphate,0)[ind,:,:],0)\n",
    "\n",
    "ind = (ds_out.depth >= 50) & (ds_out.depth <= 200)\n",
    "doxy_50_200_ann_mean  = np.nanmean(np.nanmean(ds_out.doxy,0)[ind,:,:],0)\n",
    "temp_50_200_ann_mean  = np.nanmean(np.nanmean(ds_out.temp,0)[ind,:,:],0)\n",
    "psal_50_200_ann_mean  = np.nanmean(np.nanmean(ds_out.psal,0)[ind,:,:],0)\n",
    "nitrate_50_200_ann_mean  = np.nanmean(np.nanmean(ds_out.nitrate,0)[ind,:,:],0)\n",
    "phosphate_50_200_ann_mean  = np.nanmean(np.nanmean(ds_out.phosphate,0)[ind,:,:],0)\n",
    "\n",
    "ind = (ds_out.depth >= 60) & (ds_out.depth <= 200)\n",
    "doxy_60_200_ann_mean  = np.nanmean(np.nanmean(ds_out.doxy,0)[ind,:,:],0)\n",
    "temp_60_200_ann_mean  = np.nanmean(np.nanmean(ds_out.temp,0)[ind,:,:],0)\n",
    "psal_60_200_ann_mean  = np.nanmean(np.nanmean(ds_out.psal,0)[ind,:,:],0)\n",
    "nitrate_60_200_ann_mean  = np.nanmean(np.nanmean(ds_out.nitrate,0)[ind,:,:],0)\n",
    "phosphate_60_200_ann_mean  = np.nanmean(np.nanmean(ds_out.phosphate,0)[ind,:,:],0)\n",
    "\n",
    "# mean anomaly to 200dbar\n",
    "ind = (ds_out.depth >= 40) & (ds_out.depth <= 200)\n",
    "doxy_40_200_anom = np.nanmean(ds_out.doxy[:,ind,:,:] - np.nanmean(ds_out.doxy,0)[ind,:,:],1)\n",
    "temp_40_200_anom = np.nanmean(ds_out.temp[:,ind,:,:] - np.nanmean(ds_out.temp,0)[ind,:,:],1)\n",
    "psal_40_200_anom = np.nanmean(ds_out.psal[:,ind,:,:] - np.nanmean(ds_out.psal,0)[ind,:,:],1)\n",
    "nitrate_40_200_anom = np.nanmean(ds_out.nitrate[:,ind,:,:] - np.nanmean(ds_out.nitrate,0)[ind,:,:],1)\n",
    "phosphate_40_200_anom = np.nanmean(ds_out.phosphate[:,ind,:,:] - np.nanmean(ds_out.phosphate,0)[ind,:,:],1)\n",
    "\n",
    "ind = (ds_out.depth >= 50) & (ds_out.depth <= 200)\n",
    "doxy_50_200_anom = np.nanmean(ds_out.doxy[:,ind,:,:] - np.nanmean(ds_out.doxy,0)[ind,:,:],1)\n",
    "temp_50_200_anom = np.nanmean(ds_out.temp[:,ind,:,:] - np.nanmean(ds_out.temp,0)[ind,:,:],1)\n",
    "psal_50_200_anom = np.nanmean(ds_out.psal[:,ind,:,:] - np.nanmean(ds_out.psal,0)[ind,:,:],1)\n",
    "nitrate_50_200_anom = np.nanmean(ds_out.nitrate[:,ind,:,:] - np.nanmean(ds_out.nitrate,0)[ind,:,:],1)\n",
    "phosphate_50_200_anom = np.nanmean(ds_out.phosphate[:,ind,:,:] - np.nanmean(ds_out.phosphate,0)[ind,:,:],1)\n",
    "\n",
    "ind = (ds_out.depth >= 60) & (ds_out.depth <= 200)\n",
    "doxy_60_200_anom = np.nanmean(ds_out.doxy[:,ind,:,:] - np.nanmean(ds_out.doxy,0)[ind,:,:],1)\n",
    "temp_60_200_anom = np.nanmean(ds_out.temp[:,ind,:,:] - np.nanmean(ds_out.temp,0)[ind,:,:],1)\n",
    "psal_60_200_anom = np.nanmean(ds_out.psal[:,ind,:,:] - np.nanmean(ds_out.psal,0)[ind,:,:],1)\n",
    "nitrate_60_200_anom = np.nanmean(ds_out.nitrate[:,ind,:,:] - np.nanmean(ds_out.nitrate,0)[ind,:,:],1)\n",
    "phosphate_60_200_anom = np.nanmean(ds_out.phosphate[:,ind,:,:] - np.nanmean(ds_out.phosphate,0)[ind,:,:],1)\n"
   ]
  },
  {
   "cell_type": "code",
   "execution_count": 24,
   "metadata": {},
   "outputs": [
    {
     "data": {
      "text/plain": [
       "<xarray.Dataset>\n",
       "Dimensions:                    (depth: 57, lat: 35, lon: 55, month: 12)\n",
       "Coordinates:\n",
       "  * month                      (month) int64 1 2 3 4 5 6 7 8 9 10 11 12\n",
       "  * depth                      (depth) float32 0.0 5.0 10.0 ... 1450.0 1500.0\n",
       "  * lon                        (lon) float32 48.5 49.5 50.5 ... 101.5 102.5\n",
       "  * lat                        (lat) float32 -1.5 -0.5 0.5 ... 30.5 31.5 32.5\n",
       "Data variables:\n",
       "    temp                       (month, depth, lat, lon) float64 27.04 ... nan\n",
       "    psal                       (month, depth, lat, lon) float64 35.32 ... nan\n",
       "    doxy                       (month, depth, lat, lon) float64 208.9 ... nan\n",
       "    nitrate                    (month, depth, lat, lon) float64 0.7416 ... nan\n",
       "    phosphate                  (month, depth, lat, lon) float64 0.1886 ... nan\n",
       "    pres                       (depth, lat, lon) float64 0.0 0.0 ... 1.516e+03\n",
       "    temp_40_200                (month, lat, lon) float64 22.3 22.01 ... nan nan\n",
       "    doxy_40_200                (month, lat, lon) float64 167.6 165.0 ... nan nan\n",
       "    psal_40_200                (month, lat, lon) float64 35.32 35.31 ... nan nan\n",
       "    nitrate_40_200             (month, lat, lon) float64 7.312 7.898 ... nan nan\n",
       "    phosphate_40_200           (month, lat, lon) float64 0.4416 0.4802 ... nan\n",
       "    temp_50_200                (month, lat, lon) float64 21.73 21.4 ... nan nan\n",
       "    doxy_50_200                (month, lat, lon) float64 163.2 160.1 ... nan nan\n",
       "    psal_50_200                (month, lat, lon) float64 35.31 35.3 ... nan nan\n",
       "    nitrate_50_200             (month, lat, lon) float64 8.174 8.847 ... nan nan\n",
       "    phosphate_50_200           (month, lat, lon) float64 0.469 0.5088 ... nan\n",
       "    temp_60_200                (month, lat, lon) float64 21.04 20.68 ... nan nan\n",
       "    doxy_60_200                (month, lat, lon) float64 158.3 154.7 ... nan nan\n",
       "    psal_60_200                (month, lat, lon) float64 35.3 35.29 ... nan nan\n",
       "    nitrate_60_200             (month, lat, lon) float64 9.154 9.94 ... nan nan\n",
       "    phosphate_60_200           (month, lat, lon) float64 0.5025 0.543 ... nan\n",
       "    temp_40_200_ann_mean       (lat, lon) float64 22.18 22.18 22.18 ... nan nan\n",
       "    doxy_40_200_ann_mean       (lat, lon) float64 162.8 161.3 159.9 ... nan nan\n",
       "    psal_40_200_ann_mean       (lat, lon) float64 35.3 35.3 35.31 ... nan nan\n",
       "    nitrate_40_200_ann_mean    (lat, lon) float64 8.028 8.347 8.556 ... nan nan\n",
       "    phosphate_40_200_ann_mean  (lat, lon) float64 0.637 0.6469 0.657 ... nan nan\n",
       "    temp_50_200_ann_mean       (lat, lon) float64 21.63 21.61 21.6 ... nan nan\n",
       "    doxy_50_200_ann_mean       (lat, lon) float64 158.4 156.7 155.2 ... nan nan\n",
       "    psal_50_200_ann_mean       (lat, lon) float64 35.29 35.29 35.3 ... nan nan\n",
       "    nitrate_50_200_ann_mean    (lat, lon) float64 8.948 9.296 9.528 ... nan nan\n",
       "    phosphate_50_200_ann_mean  (lat, lon) float64 0.683 0.6943 ... nan nan\n",
       "    temp_60_200_ann_mean       (lat, lon) float64 20.99 20.97 20.94 ... nan nan\n",
       "    doxy_60_200_ann_mean       (lat, lon) float64 153.7 151.7 149.8 ... nan nan\n",
       "    psal_60_200_ann_mean       (lat, lon) float64 35.28 35.29 35.29 ... nan nan\n",
       "    nitrat_60_200_ann_mean     (lat, lon) float64 9.98 10.37 10.64 ... nan nan\n",
       "    phosphate_60_200_ann_mean  (lat, lon) float64 0.7363 0.7496 ... nan nan\n",
       "    temp_40_200_anom           (month, lat, lon) float64 0.1186 -0.1678 ... nan\n",
       "    doxy_40_200_anom           (month, lat, lon) float64 4.851 3.725 ... nan nan\n",
       "    psal_40_200_anom           (month, lat, lon) float64 0.0196 0.006622 ... nan\n",
       "    nitrate_40_200_anom        (month, lat, lon) float64 -0.716 -0.4486 ... nan\n",
       "    phosphate_40_200_anom      (month, lat, lon) float64 -0.1954 -0.1668 ... nan\n",
       "    temp_50_200_anom           (month, lat, lon) float64 0.09981 -0.2093 ... nan\n",
       "    doxy_50_200_anom           (month, lat, lon) float64 4.76 3.409 ... nan nan\n",
       "    psal_50_200_anom           (month, lat, lon) float64 0.01813 ... nan\n",
       "    nitrate_50_200_anom        (month, lat, lon) float64 -0.7743 -0.4492 ... nan\n",
       "    phosphate_50_200_anom      (month, lat, lon) float64 -0.2141 -0.1855 ... nan\n",
       "    temp_60_200_anom           (month, lat, lon) float64 0.04219 -0.2829 ... nan\n",
       "    doxy_60_200_anom           (month, lat, lon) float64 4.653 3.004 ... nan nan\n",
       "    psal_60_200_anom           (month, lat, lon) float64 0.01523 ... nan\n",
       "    nitrate_60_200_anom        (month, lat, lon) float64 -0.8266 -0.4257 ... nan\n",
       "    phosphate_60_200_anom      (month, lat, lon) float64 -0.2338 -0.2065 ... nan"
      ]
     },
     "execution_count": 24,
     "metadata": {},
     "output_type": "execute_result"
    }
   ],
   "source": [
    "# add to dataset\n",
    "\n",
    "#------------------------------ profiles -------------------------------------#\n",
    "coords = [ds_out.month,ds_out.lat,ds_out.lon]\n",
    "dims = ['month','lat', 'lon']\n",
    "\n",
    "ds_out['temp_40_200'] = xr.DataArray(temp_40_200,dims = dims,coords = coords)\n",
    "ds_out['doxy_40_200'] = xr.DataArray(doxy_40_200,dims = dims,coords = coords)\n",
    "ds_out['psal_40_200'] = xr.DataArray(psal_40_200,dims = dims,coords = coords)\n",
    "ds_out['nitrate_40_200'] = xr.DataArray(nitrate_40_200,dims = dims,coords = coords)\n",
    "ds_out['phosphate_40_200'] = xr.DataArray(phosphate_40_200,dims = dims,coords = coords)\n",
    "\n",
    "ds_out['temp_50_200'] = xr.DataArray(temp_50_200,dims = dims,coords = coords)\n",
    "ds_out['doxy_50_200'] = xr.DataArray(doxy_50_200,dims = dims,coords = coords)\n",
    "ds_out['psal_50_200'] = xr.DataArray(psal_50_200,dims = dims,coords = coords)\n",
    "ds_out['nitrate_50_200'] = xr.DataArray(nitrate_50_200,dims = dims,coords = coords)\n",
    "ds_out['phosphate_50_200'] = xr.DataArray(phosphate_50_200,dims = dims,coords = coords)\n",
    "\n",
    "ds_out['temp_60_200'] = xr.DataArray(temp_60_200,dims = dims,coords = coords)\n",
    "ds_out['doxy_60_200'] = xr.DataArray(doxy_60_200,dims = dims,coords = coords)\n",
    "ds_out['psal_60_200'] = xr.DataArray(psal_60_200,dims = dims,coords = coords)\n",
    "ds_out['nitrate_60_200'] = xr.DataArray(nitrate_60_200,dims = dims,coords = coords)\n",
    "ds_out['phosphate_60_200'] = xr.DataArray(phosphate_60_200,dims = dims,coords = coords)\n",
    "\n",
    "#------------------------------ annual mean -----------------------------------#\n",
    "coords = [ds_out.lat,ds_out.lon]\n",
    "dims = ['lat', 'lon']\n",
    "\n",
    "ds_out['temp_40_200_ann_mean'] = xr.DataArray(temp_40_200_ann_mean,dims = dims,coords = coords)\n",
    "ds_out['doxy_40_200_ann_mean'] = xr.DataArray(doxy_40_200_ann_mean,dims = dims,coords = coords)\n",
    "ds_out['psal_40_200_ann_mean'] = xr.DataArray(psal_40_200_ann_mean,dims = dims,coords = coords)\n",
    "ds_out['nitrate_40_200_ann_mean'] = xr.DataArray(nitrate_40_200_ann_mean,dims = dims,coords = coords)\n",
    "ds_out['phosphate_40_200_ann_mean'] = xr.DataArray(phosphate_40_200_ann_mean,dims = dims,coords = coords)\n",
    "\n",
    "ds_out['temp_50_200_ann_mean'] = xr.DataArray(temp_50_200_ann_mean,dims = dims,coords = coords)\n",
    "ds_out['doxy_50_200_ann_mean'] = xr.DataArray(doxy_50_200_ann_mean,dims = dims,coords = coords)\n",
    "ds_out['psal_50_200_ann_mean'] = xr.DataArray(psal_50_200_ann_mean,dims = dims,coords = coords)\n",
    "ds_out['nitrate_50_200_ann_mean'] = xr.DataArray(nitrate_50_200_ann_mean,dims = dims,coords = coords)\n",
    "ds_out['phosphate_50_200_ann_mean'] = xr.DataArray(phosphate_50_200_ann_mean,dims = dims,coords = coords)\n",
    "\n",
    "ds_out['temp_60_200_ann_mean'] = xr.DataArray(temp_60_200_ann_mean,dims = dims,coords = coords)\n",
    "ds_out['doxy_60_200_ann_mean'] = xr.DataArray(doxy_60_200_ann_mean,dims = dims,coords = coords)\n",
    "ds_out['psal_60_200_ann_mean'] = xr.DataArray(psal_60_200_ann_mean,dims = dims,coords = coords)\n",
    "ds_out['nitrat_60_200_ann_mean'] = xr.DataArray(nitrate_60_200_ann_mean,dims = dims,coords = coords)\n",
    "ds_out['phosphate_60_200_ann_mean'] = xr.DataArray(phosphate_60_200_ann_mean,dims = dims,coords = coords)\n",
    "\n",
    "#---------------------------- monthly anomaly ---------------------------------#\n",
    "coords = [ds_out.month,ds_out.lat,ds_out.lon]\n",
    "dims = ['month','lat', 'lon']\n",
    "\n",
    "ds_out['temp_40_200_anom'] = xr.DataArray(temp_40_200_anom,dims = dims,coords = coords)\n",
    "ds_out['doxy_40_200_anom'] = xr.DataArray(doxy_40_200_anom,dims = dims,coords = coords)\n",
    "ds_out['psal_40_200_anom'] = xr.DataArray(psal_40_200_anom,dims = dims,coords = coords)\n",
    "ds_out['nitrate_40_200_anom'] = xr.DataArray(nitrate_40_200_anom,dims = dims,coords = coords)\n",
    "ds_out['phosphate_40_200_anom'] = xr.DataArray(phosphate_40_200_anom,dims = dims,coords = coords)\n",
    "\n",
    "ds_out['temp_50_200_anom'] = xr.DataArray(temp_50_200_anom,dims = dims,coords = coords)\n",
    "ds_out['doxy_50_200_anom'] = xr.DataArray(doxy_50_200_anom,dims = dims,coords = coords)\n",
    "ds_out['psal_50_200_anom'] = xr.DataArray(psal_50_200_anom,dims = dims,coords = coords)\n",
    "ds_out['nitrate_50_200_anom'] = xr.DataArray(nitrate_50_200_anom,dims = dims,coords = coords)\n",
    "ds_out['phosphate_50_200_anom'] = xr.DataArray(phosphate_50_200_anom,dims = dims,coords = coords)\n",
    "\n",
    "ds_out['temp_60_200_anom'] = xr.DataArray(temp_60_200_anom,dims = dims,coords = coords)\n",
    "ds_out['doxy_60_200_anom'] = xr.DataArray(doxy_60_200_anom,dims = dims,coords = coords)\n",
    "ds_out['psal_60_200_anom'] = xr.DataArray(psal_60_200_anom,dims = dims,coords = coords)\n",
    "ds_out['nitrate_60_200_anom'] = xr.DataArray(nitrate_60_200_anom,dims = dims,coords = coords)\n",
    "ds_out['phosphate_60_200_anom'] = xr.DataArray(phosphate_60_200_anom,dims = dims,coords = coords)\n",
    "\n",
    "ds_out"
   ]
  },
  {
   "cell_type": "markdown",
   "metadata": {},
   "source": [
    "# Find Coastal Mask"
   ]
  },
  {
   "cell_type": "code",
   "execution_count": 25,
   "metadata": {},
   "outputs": [
    {
     "data": {
      "text/plain": [
       "<xarray.Dataset>\n",
       "Dimensions:                      (coastal_loc: 1925, coastal_pos: 439, depth: 57, lat: 35, lon: 55, lonmin,lonmax,latmin,latmax: 4, month: 12)\n",
       "Coordinates:\n",
       "  * month                        (month) int64 1 2 3 4 5 6 7 8 9 10 11 12\n",
       "  * depth                        (depth) float32 0.0 5.0 10.0 ... 1450.0 1500.0\n",
       "  * lon                          (lon) float32 48.5 49.5 50.5 ... 101.5 102.5\n",
       "  * lat                          (lat) float32 -1.5 -0.5 0.5 ... 30.5 31.5 32.5\n",
       "  * coastal_loc                  (coastal_loc) int64 0 1 2 3 ... 1922 1923 1924\n",
       "  * coastal_pos                  (coastal_pos) int64 0 1 2 3 ... 435 436 437 438\n",
       "  * lonmin,lonmax,latmin,latmax  (lonmin,lonmax,latmin,latmax) int64 0 1 2 3\n",
       "Data variables:\n",
       "    temp                         (month, depth, lat, lon) float64 27.04 ... nan\n",
       "    psal                         (month, depth, lat, lon) float64 35.32 ... nan\n",
       "    doxy                         (month, depth, lat, lon) float64 208.9 ... nan\n",
       "    nitrate                      (month, depth, lat, lon) float64 0.7416 ... nan\n",
       "    phosphate                    (month, depth, lat, lon) float64 0.1886 ... nan\n",
       "    pres                         (depth, lat, lon) float64 0.0 0.0 ... 1.516e+03\n",
       "    temp_40_200                  (month, lat, lon) float64 22.3 22.01 ... nan\n",
       "    doxy_40_200                  (month, lat, lon) float64 167.6 165.0 ... nan\n",
       "    psal_40_200                  (month, lat, lon) float64 35.32 35.31 ... nan\n",
       "    nitrate_40_200               (month, lat, lon) float64 7.312 7.898 ... nan\n",
       "    phosphate_40_200             (month, lat, lon) float64 0.4416 0.4802 ... nan\n",
       "    temp_50_200                  (month, lat, lon) float64 21.73 21.4 ... nan\n",
       "    doxy_50_200                  (month, lat, lon) float64 163.2 160.1 ... nan\n",
       "    psal_50_200                  (month, lat, lon) float64 35.31 35.3 ... nan\n",
       "    nitrate_50_200               (month, lat, lon) float64 8.174 8.847 ... nan\n",
       "    phosphate_50_200             (month, lat, lon) float64 0.469 0.5088 ... nan\n",
       "    temp_60_200                  (month, lat, lon) float64 21.04 20.68 ... nan\n",
       "    doxy_60_200                  (month, lat, lon) float64 158.3 154.7 ... nan\n",
       "    psal_60_200                  (month, lat, lon) float64 35.3 35.29 ... nan\n",
       "    nitrate_60_200               (month, lat, lon) float64 9.154 9.94 ... nan\n",
       "    phosphate_60_200             (month, lat, lon) float64 0.5025 0.543 ... nan\n",
       "    temp_40_200_ann_mean         (lat, lon) float64 22.18 22.18 ... nan nan\n",
       "    doxy_40_200_ann_mean         (lat, lon) float64 162.8 161.3 ... nan nan\n",
       "    psal_40_200_ann_mean         (lat, lon) float64 35.3 35.3 35.31 ... nan nan\n",
       "    nitrate_40_200_ann_mean      (lat, lon) float64 8.028 8.347 ... nan nan\n",
       "    phosphate_40_200_ann_mean    (lat, lon) float64 0.637 0.6469 ... nan nan\n",
       "    temp_50_200_ann_mean         (lat, lon) float64 21.63 21.61 21.6 ... nan nan\n",
       "    doxy_50_200_ann_mean         (lat, lon) float64 158.4 156.7 ... nan nan\n",
       "    psal_50_200_ann_mean         (lat, lon) float64 35.29 35.29 35.3 ... nan nan\n",
       "    nitrate_50_200_ann_mean      (lat, lon) float64 8.948 9.296 ... nan nan\n",
       "    phosphate_50_200_ann_mean    (lat, lon) float64 0.683 0.6943 ... nan nan\n",
       "    temp_60_200_ann_mean         (lat, lon) float64 20.99 20.97 ... nan nan\n",
       "    doxy_60_200_ann_mean         (lat, lon) float64 153.7 151.7 ... nan nan\n",
       "    psal_60_200_ann_mean         (lat, lon) float64 35.28 35.29 ... nan nan\n",
       "    nitrat_60_200_ann_mean       (lat, lon) float64 9.98 10.37 10.64 ... nan nan\n",
       "    phosphate_60_200_ann_mean    (lat, lon) float64 0.7363 0.7496 ... nan nan\n",
       "    temp_40_200_anom             (month, lat, lon) float64 0.1186 ... nan\n",
       "    doxy_40_200_anom             (month, lat, lon) float64 4.851 3.725 ... nan\n",
       "    psal_40_200_anom             (month, lat, lon) float64 0.0196 ... nan\n",
       "    nitrate_40_200_anom          (month, lat, lon) float64 -0.716 ... nan\n",
       "    phosphate_40_200_anom        (month, lat, lon) float64 -0.1954 ... nan\n",
       "    temp_50_200_anom             (month, lat, lon) float64 0.09981 ... nan\n",
       "    doxy_50_200_anom             (month, lat, lon) float64 4.76 3.409 ... nan\n",
       "    psal_50_200_anom             (month, lat, lon) float64 0.01813 ... nan\n",
       "    nitrate_50_200_anom          (month, lat, lon) float64 -0.7743 ... nan\n",
       "    phosphate_50_200_anom        (month, lat, lon) float64 -0.2141 ... nan\n",
       "    temp_60_200_anom             (month, lat, lon) float64 0.04219 ... nan\n",
       "    doxy_60_200_anom             (month, lat, lon) float64 4.653 3.004 ... nan\n",
       "    psal_60_200_anom             (month, lat, lon) float64 0.01523 ... nan\n",
       "    nitrate_60_200_anom          (month, lat, lon) float64 -0.8266 ... nan\n",
       "    phosphate_60_200_anom        (month, lat, lon) float64 -0.2338 ... nan\n",
       "    coastal_mask                 (coastal_loc) bool False False ... False False\n",
       "    coastal_mask_xx              (coastal_pos) float32 96.5 97.5 ... 49.5 50.5\n",
       "    coastal_mask_yy              (coastal_pos) float32 -0.5 -0.5 ... 29.5 29.5\n",
       "    coastal_mask_bounds          (lonmin,lonmax,latmin,latmax) float64 48.5 ... 33.0"
      ]
     },
     "execution_count": 25,
     "metadata": {},
     "output_type": "execute_result"
    }
   ],
   "source": [
    "xx,yy = np.meshgrid(np.array(ds_out.lon),np.array(ds_out.lat))\n",
    "\n",
    "xx,yy = xx.flatten(), yy.flatten()\n",
    "\n",
    "mask = mask_coast(xx,yy,[lon_bounds[0],lon_bounds[1],lat_bounds[0],lat_bounds[1]])\n",
    "mask.shape\n",
    "mask_xx = xx[mask]\n",
    "mask_yy = yy[mask]\n",
    "\n",
    "ds_out['coastal_mask'] = xr.DataArray(mask,dims = ['coastal_loc'],coords =[np.arange(len(mask))])\n",
    "ds_out['coastal_mask_xx'] = xr.DataArray(mask_xx,dims = ['coastal_pos'],coords =[np.arange(len(mask[mask]))])\n",
    "ds_out['coastal_mask_yy'] = xr.DataArray(mask_yy,dims = ['coastal_pos'],coords =[np.arange(len(mask[mask]))])\n",
    "ds_out['coastal_mask_bounds'] = xr.DataArray([lon_bounds[0],lon_bounds[1],lat_bounds[0],lat_bounds[1]],\n",
    "                                             dims = ['lonmin,lonmax,latmin,latmax'],\n",
    "                                             coords =[np.arange(4)])\n",
    "\n",
    "\n",
    "ds_out"
   ]
  },
  {
   "cell_type": "markdown",
   "metadata": {},
   "source": [
    "# SAVE"
   ]
  },
  {
   "cell_type": "code",
   "execution_count": 26,
   "metadata": {},
   "outputs": [],
   "source": [
    "# delete if already present\n",
    "if os.path.isfile(outfn):\n",
    "    os.remove(outfn)\n",
    "\n",
    "ds_out.to_netcdf(outfn,mode='w',format = \"NETCDF4\")"
   ]
  },
  {
   "cell_type": "code",
   "execution_count": null,
   "metadata": {},
   "outputs": [],
   "source": []
  }
 ],
 "metadata": {
  "kernelspec": {
   "display_name": "Python 3",
   "language": "python",
   "name": "python3"
  },
  "language_info": {
   "codemirror_mode": {
    "name": "ipython",
    "version": 3
   },
   "file_extension": ".py",
   "mimetype": "text/x-python",
   "name": "python",
   "nbconvert_exporter": "python",
   "pygments_lexer": "ipython3",
   "version": "3.7.3"
  }
 },
 "nbformat": 4,
 "nbformat_minor": 2
}
