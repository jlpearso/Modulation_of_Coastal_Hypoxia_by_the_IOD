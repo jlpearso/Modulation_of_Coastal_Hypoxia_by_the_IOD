{
 "cells": [
  {
   "cell_type": "markdown",
   "metadata": {},
   "source": [
    "# Setup\n",
    "\n",
    "Note for this one you have to run it without the anomaly and water column average code, then run the woa regridding file which will allow you to get the anomalies when you run this again.\n",
    "\n",
    "See this documentation on ragged arrays: \n",
    "https://www.nodc.noaa.gov/OC5/WOD/netcdf_descr.html"
   ]
  },
  {
   "cell_type": "code",
   "execution_count": 1,
   "metadata": {},
   "outputs": [
    {
     "name": "stdout",
     "output_type": "stream",
     "text": [
      "Default libraries loaded.\n"
     ]
    }
   ],
   "source": [
    "# import your standard packages\n",
    "%run ../../../global_tools/start.py\n",
    "\n",
    "# import your local functions\n",
    "sys.path.insert(1, '../')\n",
    "from local_functions import *\n",
    "\n",
    "# make sure the figures plot inline rather than at the end\n",
    "%matplotlib inline"
   ]
  },
  {
   "cell_type": "markdown",
   "metadata": {},
   "source": [
    "# Parameters and Paths"
   ]
  },
  {
   "cell_type": "code",
   "execution_count": 2,
   "metadata": {},
   "outputs": [],
   "source": [
    "inpath = \"/tigress/GEOCLIM/LRGROUP/shared_data/WOD/latest/\"\n",
    "outfn = '../../data/wod_processed.nc'\n",
    "\n",
    "lat_bounds = [-1.5, 33]\n",
    "lon_bounds = [48.5, 102.5]"
   ]
  },
  {
   "cell_type": "markdown",
   "metadata": {},
   "source": [
    "# Get Data"
   ]
  },
  {
   "cell_type": "code",
   "execution_count": 77,
   "metadata": {},
   "outputs": [
    {
     "data": {
      "text/plain": [
       "['/tigress/GEOCLIM/LRGROUP/shared_data/WOD/latest/ocldb1614048463.15476_APB.nc']"
      ]
     },
     "execution_count": 77,
     "metadata": {},
     "output_type": "execute_result"
    }
   ],
   "source": [
    "fns = sorted(glob.glob(inpath + '*APB.nc')) # sorted() makes sure the files are sorted in time\n",
    "fns"
   ]
  },
  {
   "cell_type": "code",
   "execution_count": 98,
   "metadata": {},
   "outputs": [
    {
     "data": {
      "text/plain": [
       "(16244, array([   0.,    5.,   10.,   15.,   20.,   25.,   30.,   35.,   40.,\n",
       "          45.,   50.,   55.,   60.,   65.,   70.,   75.,   80.,   85.,\n",
       "          90.,   95.,  100.,  125.,  150.,  175.,  200.,  225.,  250.,\n",
       "         275.,  300.,  325.,  350.,  375.,  400.,  425.,  450.,  475.,\n",
       "         500.,  550.,  600.,  650.,  700.,  750.,  800.,  850.,  900.,\n",
       "         950., 1000., 1050., 1100., 1150., 1200., 1250., 1300., 1350.,\n",
       "        1400., 1450., 1500., 1550., 1600., 1650., 1700., 1750., 1800.,\n",
       "        1850., 1900., 1950.], dtype=float32))"
      ]
     },
     "execution_count": 98,
     "metadata": {},
     "output_type": "execute_result"
    }
   ],
   "source": [
    "DEPTH = []\n",
    "total_obs_cnt = 0\n",
    "\n",
    "for ff,fn in enumerate(fns):\n",
    "    ds_in = xr.open_dataset(fn)\n",
    "    DEPTH.extend(np.array(ds_in.z))\n",
    "    total_obs_cnt = total_obs_cnt + len(ds_in.casts)\n",
    "DEPTH = np.unique(DEPTH)\n",
    "total_obs_cnt,DEPTH"
   ]
  },
  {
   "cell_type": "code",
   "execution_count": 84,
   "metadata": {},
   "outputs": [
    {
     "name": "stdout",
     "output_type": "stream",
     "text": [
      "1 / 1 /tigress/GEOCLIM/LRGROUP/shared_data/WOD/latest/ocldb1614048463.15476_APB.nc\n"
     ]
    }
   ],
   "source": [
    "# initialize vars\n",
    "lat = []\n",
    "lon = []\n",
    "dtime = []\n",
    "dtype = []\n",
    "TEMP = []\n",
    "DOXY = []\n",
    "PSAL = []\n",
    "NITRTATE = []\n",
    "PHOSPHATE = []\n",
    "CHL = []\n",
    "\n",
    "# loop through each dataset\n",
    "obs_count = 0\n",
    "for ff,fn in enumerate(fns):\n",
    "    print(ff+1, '/', len(fns),  fn)\n",
    "    \n",
    "    # read in file\n",
    "    ds_in = xr.open_dataset(fn)\n",
    "    \n",
    "    cast_count = 0\n",
    "    for cc in range(len(ds_in.casts)):\n",
    "        \n",
    "        if ff == 0: # APB -> TEMP,PSAL\n",
    "            \n",
    "            cast_no_end = int(ds_in.Temperature_row_size[cc])\n",
    "            # extract cast\n",
    "            temp = ds_in.Temperature[cast_count:cast_no_end]\n",
    "            z = ds_in.z[cast_count:cast_no_end]\n",
    "        \n",
    "                \n",
    "#         elif ff == 2:# CTD -> TEMP,PSAL,DO,CHL\n",
    "            \n",
    "#         elif ff == 3:# DRB -> TEMP,PSAL,DO\n",
    "            \n",
    "#         elif ff == 4:# MRB -> TEMP,PSAL,DO,CHL\n",
    "            \n",
    "#         elif ff == 5:# OSD -> TEMP,PSAL,DO,CHL\n",
    "            \n",
    "#         elif ff == 6:# PFL -> TEMP,PSAL,DO\n",
    "            \n",
    "#         elif ff == 7:# XBT -> TEMP\n",
    "        \n",
    "            cast_count = cast_count + int(cast_no_end) + 1"
   ]
  },
  {
   "cell_type": "code",
   "execution_count": 81,
   "metadata": {},
   "outputs": [
    {
     "data": {
      "text/plain": [
       "11"
      ]
     },
     "execution_count": 81,
     "metadata": {},
     "output_type": "execute_result"
    }
   ],
   "source": [
    "len(temp[np.array(ind)]) "
   ]
  },
  {
   "cell_type": "code",
   "execution_count": 85,
   "metadata": {},
   "outputs": [
    {
     "name": "stderr",
     "output_type": "stream",
     "text": [
      "/home/jennap/anaconda3/lib/python3.7/site-packages/ipykernel_launcher.py:1: RuntimeWarning: Mean of empty slice\n",
      "  \"\"\"Entry point for launching an IPython kernel.\n"
     ]
    },
    {
     "data": {
      "text/plain": [
       "nan"
      ]
     },
     "execution_count": 85,
     "metadata": {},
     "output_type": "execute_result"
    }
   ],
   "source": [
    "np.nanmean(temp[np.array(ind)])"
   ]
  },
  {
   "cell_type": "code",
   "execution_count": 86,
   "metadata": {},
   "outputs": [
    {
     "data": {
      "text/plain": [
       "[6.0838156]"
      ]
     },
     "execution_count": 86,
     "metadata": {},
     "output_type": "execute_result"
    }
   ],
   "source": [
    "temp_50_200m"
   ]
  },
  {
   "cell_type": "code",
   "execution_count": 80,
   "metadata": {},
   "outputs": [
    {
     "data": {
      "text/plain": [
       "[]"
      ]
     },
     "execution_count": 80,
     "metadata": {},
     "output_type": "execute_result"
    }
   ],
   "source": [
    "doxy_50_200m"
   ]
  },
  {
   "cell_type": "code",
   "execution_count": 74,
   "metadata": {},
   "outputs": [],
   "source": [
    "doxy_50_200m.append(np.nan)"
   ]
  },
  {
   "cell_type": "code",
   "execution_count": 63,
   "metadata": {},
   "outputs": [
    {
     "data": {
      "text/plain": [
       "<xarray.DataArray 'z' (z_obs: 21)>\n",
       "array([  0.,   5.,  10.,  15.,  20.,  25.,  30.,  35.,  40.,  45.,  50.,  55.,\n",
       "        60.,  65.,  70.,  75.,  80.,  85.,  90.,  95., 100.], dtype=float32)\n",
       "Coordinates:\n",
       "    z        (z_obs) float32 ...\n",
       "Dimensions without coordinates: z_obs\n",
       "Attributes:\n",
       "    standard_name:        depth\n",
       "    long_name:            depth_below_sea_surface\n",
       "    units:                m\n",
       "    positive:             down\n",
       "    ancillary_variables:  z_sigfigs z_WODflag"
      ]
     },
     "execution_count": 63,
     "metadata": {},
     "output_type": "execute_result"
    }
   ],
   "source": [
    "z"
   ]
  },
  {
   "cell_type": "code",
   "execution_count": 100,
   "metadata": {},
   "outputs": [
    {
     "data": {
      "text/plain": [
       "<xarray.Dataset>\n",
       "Dimensions:                        (Temperature_obs: 494767, casts: 16244, z_obs: 494767)\n",
       "Coordinates:\n",
       "    lat                            (casts) float32 ...\n",
       "    lon                            (casts) float32 ...\n",
       "    time                           (casts) datetime64[ns] ...\n",
       "    z                              (z_obs) float32 0.0 5.0 10.0 ... 125.0 150.0\n",
       "Dimensions without coordinates: Temperature_obs, casts, z_obs\n",
       "Data variables:\n",
       "    country                        (casts) |S40 ...\n",
       "    WOD_cruise_identifier          (casts) |S40 ...\n",
       "    originators_cruise_identifier  (casts) |S40 ...\n",
       "    wod_unique_cast                (casts) int32 ...\n",
       "    date                           (casts) int32 ...\n",
       "    GMT_time                       (casts) timedelta64[ns] ...\n",
       "    Access_no                      (casts) float64 ...\n",
       "    Platform                       (casts) |S170 ...\n",
       "    Orig_Stat_Num                  (casts) float64 ...\n",
       "    dataset                        (casts) |S170 ...\n",
       "    real_time                      (casts) |S170 ...\n",
       "    Ocean_Vehicle                  (casts) |S170 ...\n",
       "    dbase_orig                     (casts) |S170 ...\n",
       "    z_WODflag                      (z_obs) int8 ...\n",
       "    z_row_size                     (casts) float64 ...\n",
       "    Temperature                    (Temperature_obs) float32 ...\n",
       "    Temperature_sigfigs            (Temperature_obs) int8 ...\n",
       "    Temperature_row_size           (casts) float64 ...\n",
       "    Temperature_WODflag            (Temperature_obs) int8 ...\n",
       "    Temperature_WODprofileflag     (casts) int8 ...\n",
       "    crs                            int32 ...\n",
       "Attributes:\n",
       "    institution:                   National Centers for Environmental Informa...\n",
       "    source:                        World Ocean Database\n",
       "    references:                    World Ocean Database 2018. URL:http://data...\n",
       "    title:                         World Ocean Database - Multi-cast file\n",
       "    summary:                       Data for multiple casts from the World Oce...\n",
       "    id:                            /wod/select/online/outgoing/ocldb161404846...\n",
       "    naming_authority:              gov.noaa.nodc\n",
       "    geospatial_lat_min:            -78.01\n",
       "    geospatial_lat_max:            70.59\n",
       "    geospatial_lat_resolution:     point\n",
       "    geospatial_lon_min:            163.68\n",
       "    geospatial_lon_max:            149.62\n",
       "    geospatial_lon_resolution:     point\n",
       "    time_coverage_start:           2020-04-01\n",
       "    time_coverage_end:             2020-06-25\n",
       "    geospatial_vertical_min:       0.0\n",
       "    geospatial_vertical_max:       1950.0\n",
       "    geospatial_vertical_positive:  down\n",
       "    geospatial_vertical_units:     meters\n",
       "    creator_name:                  Ocean Climate Lab/NCEI\n",
       "    creator_email:                 OCLhelp@noaa.gov\n",
       "    creator_url:                   http://www.nodc.noaa.gov\n",
       "    project:                       World Ocean Database\n",
       "    acknowledgements:              \n",
       "    processing_level:              \n",
       "    keywords:                      \n",
       "    keywords_vocabulary:           \n",
       "    date_created:                  2021-02-23\n",
       "    date_modified:                 2021-02-23\n",
       "    publisher_name:                US DOC; NESDIS; NATIONAL CENTERS FOR ENVIR...\n",
       "    publisher_url:                 http://www.nodc.noaa.gov\n",
       "    publisher_email:               NODC.Services@noaa.gov\n",
       "    history:                       \n",
       "    license:                       \n",
       "    standard_name_vocabulary:      CF Standard Name Table v41\n",
       "    featureType:                   Profile\n",
       "    cdm_data_type:                 Profile\n",
       "    Conventions:                   CF-1.6"
      ]
     },
     "execution_count": 100,
     "metadata": {},
     "output_type": "execute_result"
    }
   ],
   "source": [
    "ds_in"
   ]
  },
  {
   "cell_type": "code",
   "execution_count": 56,
   "metadata": {},
   "outputs": [
    {
     "data": {
      "text/plain": [
       "<xarray.DataArray 'z' (z_obs: 20)>\n",
       "array([  5.,  10.,  15.,  20.,  25.,  30.,  35.,  40.,  45.,  50.,  55.,  60.,\n",
       "        65.,  70.,  75.,  80.,  85.,  90.,  95., 100.], dtype=float32)\n",
       "Coordinates:\n",
       "    z        (z_obs) float32 5.0 10.0 15.0 20.0 25.0 ... 85.0 90.0 95.0 100.0\n",
       "Dimensions without coordinates: z_obs\n",
       "Attributes:\n",
       "    standard_name:        depth\n",
       "    long_name:            depth_below_sea_surface\n",
       "    units:                m\n",
       "    positive:             down\n",
       "    ancillary_variables:  z_sigfigs z_WODflag"
      ]
     },
     "execution_count": 56,
     "metadata": {},
     "output_type": "execute_result"
    }
   ],
   "source": [
    "ds_in.z[1:int(ds_in.z_row_size[0])]"
   ]
  },
  {
   "cell_type": "code",
   "execution_count": 99,
   "metadata": {},
   "outputs": [
    {
     "ename": "AttributeError",
     "evalue": "'Dataset' object has no attribute 'Oxygen_row_size'",
     "output_type": "error",
     "traceback": [
      "\u001b[0;31m---------------------------------------------------------------------------\u001b[0m",
      "\u001b[0;31mAttributeError\u001b[0m                            Traceback (most recent call last)",
      "\u001b[0;32m<ipython-input-99-1d892fdea9f8>\u001b[0m in \u001b[0;36m<module>\u001b[0;34m\u001b[0m\n\u001b[0;32m----> 1\u001b[0;31m \u001b[0mds_in\u001b[0m\u001b[0;34m.\u001b[0m\u001b[0mOxygen_row_size\u001b[0m\u001b[0;34m\u001b[0m\u001b[0;34m\u001b[0m\u001b[0m\n\u001b[0m",
      "\u001b[0;32m~/anaconda3/lib/python3.7/site-packages/xarray/core/common.py\u001b[0m in \u001b[0;36m__getattr__\u001b[0;34m(self, name)\u001b[0m\n\u001b[1;32m    177\u001b[0m                     \u001b[0;32mreturn\u001b[0m \u001b[0msource\u001b[0m\u001b[0;34m[\u001b[0m\u001b[0mname\u001b[0m\u001b[0;34m]\u001b[0m\u001b[0;34m\u001b[0m\u001b[0;34m\u001b[0m\u001b[0m\n\u001b[1;32m    178\u001b[0m         raise AttributeError(\"%r object has no attribute %r\" %\n\u001b[0;32m--> 179\u001b[0;31m                              (type(self).__name__, name))\n\u001b[0m\u001b[1;32m    180\u001b[0m \u001b[0;34m\u001b[0m\u001b[0m\n\u001b[1;32m    181\u001b[0m     \u001b[0;32mdef\u001b[0m \u001b[0m__setattr__\u001b[0m\u001b[0;34m(\u001b[0m\u001b[0mself\u001b[0m\u001b[0;34m,\u001b[0m \u001b[0mname\u001b[0m\u001b[0;34m,\u001b[0m \u001b[0mvalue\u001b[0m\u001b[0;34m)\u001b[0m\u001b[0;34m:\u001b[0m\u001b[0;34m\u001b[0m\u001b[0;34m\u001b[0m\u001b[0m\n",
      "\u001b[0;31mAttributeError\u001b[0m: 'Dataset' object has no attribute 'Oxygen_row_size'"
     ]
    }
   ],
   "source": [
    "ds_in.Oxygen_row_size"
   ]
  },
  {
   "cell_type": "code",
   "execution_count": 12,
   "metadata": {},
   "outputs": [
    {
     "data": {
      "text/plain": [
       "<xarray.Dataset>\n",
       "Dimensions:   (Pres: 179, n_profil: 95405)\n",
       "Coordinates:\n",
       "  * Pres      (Pres) float64 10.0 15.0 20.0 25.0 ... 885.0 890.0 895.0 900.0\n",
       "  * n_profil  (n_profil) object 'D1900050_001' 'D1900050_002' ... 'W18531826'\n",
       "Data variables:\n",
       "    Lon       (n_profil) float64 ...\n",
       "    Lat       (n_profil) float64 ...\n",
       "    Time      (n_profil) datetime64[ns] ...\n",
       "    Temp      (n_profil, Pres) float64 ...\n",
       "    Psal      (n_profil, Pres) float64 ...\n",
       "    Doxy      (n_profil, Pres) float64 ...\n",
       "Attributes:\n",
       "    Author:       Mathieu POUPON\n",
       "    Description:  "
      ]
     },
     "execution_count": 12,
     "metadata": {},
     "output_type": "execute_result"
    }
   ],
   "source": [
    "# get merged data from tigress\n",
    "ds_AW = xr.open_dataset(inpath + 'Indian_Ocean_data.nc')\n",
    "ds_AW"
   ]
  },
  {
   "cell_type": "markdown",
   "metadata": {},
   "source": [
    "# Sort by Time"
   ]
  },
  {
   "cell_type": "code",
   "execution_count": 5,
   "metadata": {},
   "outputs": [
    {
     "data": {
      "text/plain": [
       "<xarray.Dataset>\n",
       "Dimensions:  (pres: 201, time: 306118)\n",
       "Coordinates:\n",
       "    prof     (time) int32 286462 286463 286464 286465 ... 251414 252160 252508\n",
       "  * time     (time) datetime64[ns] 1827-10-30 1836-05-15 ... 2020-02-07\n",
       "  * pres     (pres) int32 0 5 10 15 20 25 30 35 ... 970 975 980 985 990 995 1000\n",
       "Data variables:\n",
       "    temp     (time, pres) float32 nan nan nan nan ... 6.482922 6.45122 6.4202943\n",
       "    psal     (time, pres) float32 nan nan nan ... 34.940956 34.939495 34.937958\n",
       "    doxy     (time, pres) float32 nan nan nan ... 48.04291 48.480473 48.916607\n",
       "    lat      (time) float32 -18.0 -27.5 -7.9 -26.78 ... -3.16 11.251 1.808\n",
       "    lon      (time) float32 119.83 41.0 85.33 98.5 ... 73.594 53.525 84.366\n",
       "    type     (time) int32 2 2 2 2 2 2 2 2 2 2 2 2 2 ... 0 0 0 0 0 0 0 0 0 1 1 1"
      ]
     },
     "execution_count": 5,
     "metadata": {},
     "output_type": "execute_result"
    }
   ],
   "source": [
    "# # add time as a coordinate\n",
    "ds_AW= ds_AW.assign_coords(unsorted_time=ds_AW.Time)\n",
    "\n",
    "# reset profile variables to be with respect to time\n",
    "ds_AW['temp'] = xr.DataArray(ds_AW.Temp,dims = ['unsorted_time','pres'],coords =[ds_AW.time,ds_AW.pres])\n",
    "ds_AW['psal'] = xr.DataArray(ds_AW.Psal,dims = ['unsorted_time','pres'],coords =[ds_AW.time,ds_AW.pres])\n",
    "ds_AW['doxy'] = xr.DataArray(ds_AW.Doxy,dims = ['unsorted_time','pres'],coords =[ds_AW.time,ds_AW.pres])\n",
    "ds_AW['lat'] = xr.DataArray(ds_AW.Lat,dims = ['unsorted_time'],coords =[ds_AW.time])\n",
    "ds_AW['lon'] = xr.DataArray(ds_AW.Lon,dims = ['unsorted_time'],coords =[ds_AW.time])\n",
    "ds_AW['type'] = xr.DataArray(ds_AW.type,dims = ['unsorted_time'],coords =[ds_AW.time])\n",
    "ds_AW['prof'] = xr.DataArray(ds_AW.prof,dims = ['unsorted_time'],coords =[ds_AW.time])\n",
    "# get rid of intial time variable\n",
    "ds_AWG = ds_AWG[['temp','psal','doxy','lat','lon','type','prof']]\n",
    "\n",
    "sorted_time = ds_AWG.unsorted_time.sortby(ds_AWG.unsorted_time)\n",
    "\n",
    "# sort based on time\n",
    "ds_AWG['temp'] = xr.DataArray(ds_AWG.temp.sortby(ds_AWG.unsorted_time),dims = ['time','pres'],coords =[sorted_time,ds_AWG.pres])\n",
    "ds_AWG['psal'] = xr.DataArray(ds_AWG.psal.sortby(ds_AWG.unsorted_time),dims = ['time','pres'],coords =[sorted_time,ds_AWG.pres])\n",
    "ds_AWG['doxy'] = xr.DataArray(ds_AWG.doxy.sortby(ds_AWG.unsorted_time),dims = ['time','pres'],coords =[sorted_time,ds_AWG.pres])\n",
    "ds_AWG['lat'] = xr.DataArray(ds_AWG.lat.sortby(ds_AWG.unsorted_time),dims = ['time'],coords =[sorted_time])\n",
    "ds_AWG['lon'] = xr.DataArray(ds_AWG.lon.sortby(ds_AWG.unsorted_time),dims = ['time'],coords =[sorted_time])\n",
    "ds_AWG['type'] = xr.DataArray(ds_AWG.type.sortby(ds_AWG.unsorted_time),dims = ['time'],coords =[sorted_time])\n",
    "ds_AWG['prof'] = xr.DataArray(ds_AWG.prof.sortby(ds_AWG.unsorted_time),dims = ['time'],coords =[sorted_time])\n",
    "# get rid of intial time variable\n",
    "ds_AWG = ds_AWG[['temp','psal','doxy','lat','lon','type','prof','time']]\n",
    "ds_AWG"
   ]
  },
  {
   "cell_type": "markdown",
   "metadata": {},
   "source": [
    "# Subset"
   ]
  },
  {
   "cell_type": "code",
   "execution_count": 6,
   "metadata": {},
   "outputs": [
    {
     "data": {
      "text/plain": [
       "<xarray.Dataset>\n",
       "Dimensions:  (pres: 201, time: 146472)\n",
       "Coordinates:\n",
       "    prof     (time) int32 254193 254194 254195 254196 ... 229606 252160 252508\n",
       "  * time     (time) datetime64[ns] 1958-06-01 1958-06-02 ... 2020-02-07\n",
       "  * pres     (pres) int32 0 5 10 15 20 25 30 35 ... 970 975 980 985 990 995 1000\n",
       "Data variables:\n",
       "    temp     (time, pres) float32 nan nan nan nan ... 6.482922 6.45122 6.4202943\n",
       "    psal     (time, pres) float32 nan nan 36.13 ... 34.939495 34.937958\n",
       "    doxy     (time, pres) float32 nan nan 174.98756 ... 48.480473 48.916607\n",
       "    lat      (time) float32 13.27 13.38 13.97 12.88 ... 14.392 11.251 1.808\n",
       "    lon      (time) float32 55.0 53.52 50.6 49.2 ... 64.739 53.525 84.366\n",
       "    type     (time) int32 2 2 2 2 2 2 2 2 2 2 2 2 2 ... 0 0 0 0 0 0 0 0 0 0 1 1"
      ]
     },
     "execution_count": 6,
     "metadata": {},
     "output_type": "execute_result"
    }
   ],
   "source": [
    "ind = (ds_AWG.lat > lat_bounds[0]) & (ds_AWG.lat < lat_bounds[1]) & (ds_AWG.lon < lon_bounds[1]) & (ds_AWG.lon > lon_bounds[0])\n",
    "\n",
    "time = ds_AWG.time[ind]\n",
    "\n",
    "ds_out = xr.Dataset(coords={'time': time,\n",
    "                           'pres': ds_AWG.pres})\n",
    "\n",
    "ds_out['temp'] = xr.DataArray(ds_AWG.temp[ind],dims = ['time','pres'],coords = [time,ds_AWG.pres])\n",
    "ds_out['psal'] = xr.DataArray(ds_AWG.psal[ind],dims = ['time','pres'],coords = [time,ds_AWG.pres])\n",
    "ds_out['doxy'] = xr.DataArray(ds_AWG.doxy[ind],dims = ['time','pres'],coords = [time,ds_AWG.pres])\n",
    "ds_out['lat'] = xr.DataArray(ds_AWG.lat[ind],dims = ['time'],coords = [time])\n",
    "ds_out['lon'] = xr.DataArray(ds_AWG.lon[ind],dims = ['time'],coords = [time])\n",
    "ds_out['type'] = xr.DataArray(ds_AWG.type[ind],dims = ['time'],coords = [time])\n",
    "\n",
    "time_slice = slice('1958-06-01', '2020-05-31')\n",
    "ds_out = ds_out.sel(time = time_slice)\n",
    "ds_out"
   ]
  },
  {
   "cell_type": "markdown",
   "metadata": {},
   "source": [
    "# Make New type variable that has the letters"
   ]
  },
  {
   "cell_type": "code",
   "execution_count": null,
   "metadata": {},
   "outputs": [],
   "source": []
  },
  {
   "cell_type": "markdown",
   "metadata": {},
   "source": [
    "# Remove and negative concentration values"
   ]
  },
  {
   "cell_type": "code",
   "execution_count": 7,
   "metadata": {},
   "outputs": [
    {
     "data": {
      "text/plain": [
       "Text(0, 0.5, 'min doxy negs removed')"
      ]
     },
     "execution_count": 7,
     "metadata": {},
     "output_type": "execute_result"
    },
    {
     "data": {
      "image/png": "[encoded data removed]",
      "text/plain": [
       "<Figure size 432x288 with 1 Axes>"
      ]
     },
     "metadata": {
      "needs_background": "light"
     },
     "output_type": "display_data"
    }
   ],
   "source": [
    "plt.plot(ds_AWG.doxy.min(dim = 'pres'),'.')\n",
    "plt.ylim([-1,1])\n",
    "plt.xlabel('Profile No.')\n",
    "plt.ylabel('min doxy')\n",
    "\n",
    "# set negative oxygen values to nan\n",
    "ds_out['doxy'] = ds_out.doxy.where(ds_out.doxy >= 0)\n",
    "\n",
    "plt.plot(ds_out.doxy.min(dim = 'pres'),'.')\n",
    "plt.ylim([-1,1])\n",
    "plt.xlabel('Profile No.')\n",
    "plt.ylabel('min doxy negs removed')"
   ]
  },
  {
   "cell_type": "markdown",
   "metadata": {},
   "source": [
    "# Find Anomalies"
   ]
  },
  {
   "cell_type": "code",
   "execution_count": 8,
   "metadata": {},
   "outputs": [],
   "source": [
    "ds_out['temp_anom'] = ds_out.temp - np.array(ds_WOA.temp)\n",
    "ds_out['doxy_anom'] = ds_out.doxy - np.array(ds_WOA.doxy)\n",
    "ds_out['psal_anom'] = ds_out.psal - np.array(ds_WOA.psal)"
   ]
  },
  {
   "cell_type": "markdown",
   "metadata": {},
   "source": [
    "# Water Column Averages"
   ]
  },
  {
   "cell_type": "code",
   "execution_count": 9,
   "metadata": {},
   "outputs": [
    {
     "name": "stderr",
     "output_type": "stream",
     "text": [
      "/home/jennap/anaconda3/lib/python3.7/site-packages/ipykernel_launcher.py:4: RuntimeWarning: Mean of empty slice\n",
      "  after removing the cwd from sys.path.\n",
      "/home/jennap/anaconda3/lib/python3.7/site-packages/ipykernel_launcher.py:5: RuntimeWarning: Mean of empty slice\n",
      "  \"\"\"\n",
      "/home/jennap/anaconda3/lib/python3.7/site-packages/ipykernel_launcher.py:6: RuntimeWarning: Mean of empty slice\n",
      "  \n",
      "/home/jennap/anaconda3/lib/python3.7/site-packages/ipykernel_launcher.py:7: RuntimeWarning: Mean of empty slice\n",
      "  import sys\n",
      "/home/jennap/anaconda3/lib/python3.7/site-packages/ipykernel_launcher.py:8: RuntimeWarning: Mean of empty slice\n",
      "  \n",
      "/home/jennap/anaconda3/lib/python3.7/site-packages/ipykernel_launcher.py:9: RuntimeWarning: Mean of empty slice\n",
      "  if __name__ == '__main__':\n",
      "/home/jennap/anaconda3/lib/python3.7/site-packages/ipykernel_launcher.py:14: RuntimeWarning: Mean of empty slice\n",
      "  \n",
      "/home/jennap/anaconda3/lib/python3.7/site-packages/ipykernel_launcher.py:15: RuntimeWarning: Mean of empty slice\n",
      "  from ipykernel import kernelapp as app\n",
      "/home/jennap/anaconda3/lib/python3.7/site-packages/ipykernel_launcher.py:16: RuntimeWarning: Mean of empty slice\n",
      "  app.launch_new_instance()\n",
      "/home/jennap/anaconda3/lib/python3.7/site-packages/ipykernel_launcher.py:17: RuntimeWarning: Mean of empty slice\n",
      "/home/jennap/anaconda3/lib/python3.7/site-packages/ipykernel_launcher.py:18: RuntimeWarning: Mean of empty slice\n",
      "/home/jennap/anaconda3/lib/python3.7/site-packages/ipykernel_launcher.py:19: RuntimeWarning: Mean of empty slice\n",
      "/home/jennap/anaconda3/lib/python3.7/site-packages/ipykernel_launcher.py:24: RuntimeWarning: Mean of empty slice\n",
      "/home/jennap/anaconda3/lib/python3.7/site-packages/ipykernel_launcher.py:25: RuntimeWarning: Mean of empty slice\n",
      "/home/jennap/anaconda3/lib/python3.7/site-packages/ipykernel_launcher.py:26: RuntimeWarning: Mean of empty slice\n",
      "/home/jennap/anaconda3/lib/python3.7/site-packages/ipykernel_launcher.py:27: RuntimeWarning: Mean of empty slice\n",
      "/home/jennap/anaconda3/lib/python3.7/site-packages/ipykernel_launcher.py:28: RuntimeWarning: Mean of empty slice\n",
      "/home/jennap/anaconda3/lib/python3.7/site-packages/ipykernel_launcher.py:29: RuntimeWarning: Mean of empty slice\n"
     ]
    }
   ],
   "source": [
    "# find mean temperature and doxy 50-200dbar\n",
    "ind = (ds_out.pres>= 40) & (ds_out.pres<= 200)\n",
    "\n",
    "doxy_40_200 = np.nanmean(ds_out.doxy[:,ind],1)\n",
    "temp_40_200 = np.nanmean(ds_out.temp[:,ind],1)\n",
    "psal_40_200 = np.nanmean(ds_out.psal[:,ind],1)\n",
    "doxy_anom_40_200 = np.nanmean(ds_out.doxy_anom[:,ind],1)\n",
    "temp_anom_40_200 = np.nanmean(ds_out.temp_anom[:,ind],1)\n",
    "psal_anom_40_200 = np.nanmean(ds_out.psal_anom[:,ind],1)\n",
    "\n",
    "# find mean temperature and doxy 50-200dbar\n",
    "ind = (ds_out.pres>= 50) & (ds_out.pres<= 200)\n",
    "\n",
    "doxy_50_200 = np.nanmean(ds_out.doxy[:,ind],1)\n",
    "temp_50_200 = np.nanmean(ds_out.temp[:,ind],1)\n",
    "psal_50_200 = np.nanmean(ds_out.psal[:,ind],1)\n",
    "doxy_anom_50_200 = np.nanmean(ds_out.doxy_anom[:,ind],1)\n",
    "temp_anom_50_200 = np.nanmean(ds_out.temp_anom[:,ind],1)\n",
    "psal_anom_50_200 = np.nanmean(ds_out.psal_anom[:,ind],1)\n",
    "\n",
    "# find mean temperature and doxy 50-200dbar\n",
    "ind = (ds_out.pres>= 60) & (ds_out.pres<= 200)\n",
    "\n",
    "doxy_60_200 = np.nanmean(ds_out.doxy[:,ind],1)\n",
    "temp_60_200 = np.nanmean(ds_out.temp[:,ind],1)\n",
    "psal_60_200 = np.nanmean(ds_out.psal[:,ind],1)\n",
    "doxy_anom_60_200 = np.nanmean(ds_out.doxy_anom[:,ind],1)\n",
    "temp_anom_60_200 = np.nanmean(ds_out.temp_anom[:,ind],1)\n",
    "psal_anom_60_200 = np.nanmean(ds_out.psal_anom[:,ind],1)\n",
    "\n",
    "# add to dataset\n",
    "ds_out['temp_40_200'] = xr.DataArray(temp_40_200,dims = ['time'],coords =[ds_out.time])\n",
    "ds_out['doxy_40_200'] = xr.DataArray(doxy_40_200,dims = ['time'],coords =[ds_out.time])\n",
    "ds_out['psal_40_200'] = xr.DataArray(psal_40_200,dims = ['time'],coords =[ds_out.time])\n",
    "ds_out['temp_anom_40_200'] = xr.DataArray(temp_anom_40_200,dims = ['time'],coords =[ds_out.time])\n",
    "ds_out['doxy_anom_40_200'] = xr.DataArray(doxy_anom_40_200,dims = ['time'],coords =[ds_out.time])\n",
    "ds_out['psal_anom_40_200'] = xr.DataArray(psal_anom_40_200,dims = ['time'],coords =[ds_out.time])\n",
    "\n",
    "ds_out['temp_50_200'] = xr.DataArray(temp_50_200,dims = ['time'],coords =[ds_out.time])\n",
    "ds_out['doxy_50_200'] = xr.DataArray(doxy_50_200,dims = ['time'],coords =[ds_out.time])\n",
    "ds_out['psal_50_200'] = xr.DataArray(psal_50_200,dims = ['time'],coords =[ds_out.time])\n",
    "ds_out['temp_anom_50_200'] = xr.DataArray(temp_anom_50_200,dims = ['time'],coords =[ds_out.time])\n",
    "ds_out['doxy_anom_50_200'] = xr.DataArray(doxy_anom_50_200,dims = ['time'],coords =[ds_out.time])\n",
    "ds_out['psal_anom_50_200'] = xr.DataArray(psal_anom_50_200,dims = ['time'],coords =[ds_out.time])\n",
    "\n",
    "ds_out['temp_60_200'] = xr.DataArray(temp_60_200,dims = ['time'],coords =[ds_out.time])\n",
    "ds_out['doxy_60_200'] = xr.DataArray(doxy_60_200,dims = ['time'],coords =[ds_out.time])\n",
    "ds_out['psal_60_200'] = xr.DataArray(psal_60_200,dims = ['time'],coords =[ds_out.time])\n",
    "ds_out['temp_anom_60_200'] = xr.DataArray(temp_anom_60_200,dims = ['time'],coords =[ds_out.time])\n",
    "ds_out['doxy_anom_60_200'] = xr.DataArray(doxy_anom_60_200,dims = ['time'],coords =[ds_out.time])\n",
    "ds_out['psal_anom_60_200'] = xr.DataArray(psal_anom_60_200,dims = ['time'],coords =[ds_out.time])"
   ]
  },
  {
   "cell_type": "markdown",
   "metadata": {},
   "source": [
    "# Find Coastal Mask"
   ]
  },
  {
   "cell_type": "code",
   "execution_count": 10,
   "metadata": {},
   "outputs": [],
   "source": [
    "xx,yy = np.array(ds_out.lon),np.array(ds_out.lat)\n",
    "\n",
    "mask = mask_coast(xx,yy,[lon_bounds[0],lon_bounds[1],lat_bounds[0],lat_bounds[1]])\n",
    "mask.shape\n",
    "mask_xx = xx[mask]\n",
    "mask_yy = yy[mask]\n",
    "\n",
    "ds_out['coastal_mask'] = xr.DataArray(mask,dims = ['coastal_loc'],coords =[np.arange(len(mask))])\n",
    "ds_out['coastal_mask_xx'] = xr.DataArray(mask_xx,dims = ['coastal_pos'],coords =[np.arange(len(mask[mask]))])\n",
    "ds_out['coastal_mask_yy'] = xr.DataArray(mask_yy,dims = ['coastal_pos'],coords =[np.arange(len(mask[mask]))])\n",
    "ds_out['coastal_mask_bounds'] = xr.DataArray([lon_bounds[0],lon_bounds[1],lat_bounds[0],lat_bounds[1]],\n",
    "                                             dims = ['lonmin,lonmax,latmin,latmax'],\n",
    "                                             coords =[np.arange(4)])"
   ]
  },
  {
   "cell_type": "markdown",
   "metadata": {},
   "source": [
    "# Save Data"
   ]
  },
  {
   "cell_type": "code",
   "execution_count": 11,
   "metadata": {},
   "outputs": [
    {
     "data": {
      "text/plain": [
       "<xarray.Dataset>\n",
       "Dimensions:                      (coastal_loc: 146472, coastal_pos: 44325, lonmin,lonmax,latmin,latmax: 4, pres: 201, time: 146472)\n",
       "Coordinates:\n",
       "    prof                         (time) int32 254193 254194 ... 252160 252508\n",
       "  * time                         (time) datetime64[ns] 1958-06-01 ... 2020-02-07\n",
       "  * pres                         (pres) int32 0 5 10 15 20 ... 985 990 995 1000\n",
       "  * coastal_loc                  (coastal_loc) int64 0 1 2 ... 146470 146471\n",
       "  * coastal_pos                  (coastal_pos) int64 0 1 2 ... 44322 44323 44324\n",
       "  * lonmin,lonmax,latmin,latmax  (lonmin,lonmax,latmin,latmax) int64 0 1 2 3\n",
       "Data variables:\n",
       "    temp                         (time, pres) float32 nan nan ... 6.4202943\n",
       "    psal                         (time, pres) float32 nan nan ... 34.937958\n",
       "    doxy                         (time, pres) float32 nan nan ... 48.916607\n",
       "    lat                          (time) float32 13.27 13.38 ... 11.251 1.808\n",
       "    lon                          (time) float32 55.0 53.52 ... 53.525 84.366\n",
       "    type                         (time) int32 2 2 2 2 2 2 2 2 ... 0 0 0 0 0 1 1\n",
       "    temp_anom                    (time, pres) float64 nan nan ... -0.2476\n",
       "    doxy_anom                    (time, pres) float64 nan nan ... -5.91 -5.764\n",
       "    psal_anom                    (time, pres) float64 nan nan ... -0.006061\n",
       "    temp_40_200                  (time) float32 nan 24.16536 nan ... nan nan\n",
       "    doxy_40_200                  (time) float32 104.82891 134.12967 ... nan nan\n",
       "    psal_40_200                  (time) float32 35.888805 35.780567 ... nan nan\n",
       "    temp_anom_40_200             (time) float64 nan 2.981 nan ... 0.5801 nan nan\n",
       "    doxy_anom_40_200             (time) float64 nan 31.75 nan ... nan nan nan\n",
       "    psal_anom_40_200             (time) float64 nan -0.01444 nan ... nan nan\n",
       "    temp_50_200                  (time) float32 nan 23.8662 nan ... nan nan\n",
       "    doxy_50_200                  (time) float32 100.24251 130.5016 ... nan nan\n",
       "    psal_50_200                  (time) float32 35.87457 35.78286 ... nan nan\n",
       "    temp_anom_50_200             (time) float64 nan 3.003 nan ... 0.5728 nan nan\n",
       "    doxy_anom_50_200             (time) float64 nan 33.39 nan ... nan nan nan\n",
       "    psal_anom_50_200             (time) float64 nan 0.0008053 nan ... nan nan\n",
       "    temp_60_200                  (time) float32 nan 23.561945 nan ... nan nan\n",
       "    doxy_60_200                  (time) float32 94.32355 125.931625 ... nan nan\n",
       "    psal_60_200                  (time) float32 35.85532 35.78579 ... nan nan\n",
       "    temp_anom_60_200             (time) float64 nan 3.018 nan ... 0.5604 nan nan\n",
       "    doxy_anom_60_200             (time) float64 nan 34.29 nan ... nan nan nan\n",
       "    psal_anom_60_200             (time) float64 nan 0.0167 nan ... nan nan\n",
       "    coastal_mask                 (coastal_loc) bool False True ... True False\n",
       "    coastal_mask_xx              (coastal_pos) float32 53.52 50.6 ... 53.525\n",
       "    coastal_mask_yy              (coastal_pos) float32 13.38 13.97 ... 11.251\n",
       "    coastal_mask_bounds          (lonmin,lonmax,latmin,latmax) float64 48.5 ... 33.0"
      ]
     },
     "execution_count": 11,
     "metadata": {},
     "output_type": "execute_result"
    }
   ],
   "source": [
    "# delete if already present\n",
    "if os.path.isfile(outfn):\n",
    "    os.remove(outfn)\n",
    "\n",
    "ds_out.to_netcdf(outfn,mode='w',format = \"NETCDF4\")\n",
    "ds_out"
   ]
  },
  {
   "cell_type": "code",
   "execution_count": 12,
   "metadata": {},
   "outputs": [
    {
     "data": {
      "text/plain": [
       "(44325,)"
      ]
     },
     "execution_count": 12,
     "metadata": {},
     "output_type": "execute_result"
    }
   ],
   "source": [
    "ds_out.coastal_mask_xx.shape"
   ]
  },
  {
   "cell_type": "code",
   "execution_count": null,
   "metadata": {},
   "outputs": [],
   "source": []
  },
  {
   "cell_type": "code",
   "execution_count": null,
   "metadata": {},
   "outputs": [],
   "source": []
  }
 ],
 "metadata": {
  "kernelspec": {
   "display_name": "Python 3",
   "language": "python",
   "name": "python3"
  },
  "language_info": {
   "codemirror_mode": {
    "name": "ipython",
    "version": 3
   },
   "file_extension": ".py",
   "mimetype": "text/x-python",
   "name": "python",
   "nbconvert_exporter": "python",
   "pygments_lexer": "ipython3",
   "version": "3.7.3"
  }
 },
 "nbformat": 4,
 "nbformat_minor": 2
}
