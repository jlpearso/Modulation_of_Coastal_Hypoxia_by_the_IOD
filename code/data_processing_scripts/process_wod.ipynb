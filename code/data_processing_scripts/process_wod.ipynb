{
 "cells": [
  {
   "cell_type": "markdown",
   "metadata": {},
   "source": [
    "# Setup\n",
    "\n",
    "Note for this one you have to run it without the anomaly and water column average code, then run the woa regridding file which will allow you to get the anomalies when you run this again.\n",
    "\n",
    "See this documentation on ragged arrays: \n",
    "https://www.nodc.noaa.gov/OC5/WOD/netcdf_descr.html"
   ]
  },
  {
   "cell_type": "code",
   "execution_count": 1,
   "metadata": {},
   "outputs": [
    {
     "name": "stdout",
     "output_type": "stream",
     "text": [
      "Default libraries loaded.\n"
     ]
    }
   ],
   "source": [
    "# import your standard packages\n",
    "%run ../pkgs.py\n",
    "\n",
    "# import your local functions\n",
    "sys.path.insert(1, '../')\n",
    "from local_functions import *\n",
    "\n",
    "# make sure the figures plot inline rather than at the end\n",
    "%matplotlib inline"
   ]
  },
  {
   "cell_type": "markdown",
   "metadata": {},
   "source": [
    "# Parameters and Paths"
   ]
  },
  {
   "cell_type": "code",
   "execution_count": 2,
   "metadata": {},
   "outputs": [],
   "source": [
    "inpath = \"/tigress/GEOCLIM/LRGROUP/shared_data/WOD/indian_ocean/concatenated/\"\n",
    "infn = 'all_casts_beginning_to_aug_2020_indian_ocean.nc'\n",
    "outfn = '../../data/wod_processed.nc'\n",
    "\n",
    "# total\n",
    "lat_bounds = [-1.5, 33]\n",
    "lon_bounds = [48.5, 102.5]\n",
    "\n",
    "# regional \n",
    "bounds_wAS = [51.125,66,12.5,28]\n",
    "bounds_eAS = [66,79,3,28]\n",
    "bounds_wBoB = [79,87,2,28]\n",
    "bounds_eBoB = [87,103,0,28]"
   ]
  },
  {
   "cell_type": "markdown",
   "metadata": {},
   "source": [
    "# Get Data"
   ]
  },
  {
   "cell_type": "code",
   "execution_count": 3,
   "metadata": {},
   "outputs": [
    {
     "data": {
      "text/plain": [
       "<xarray.Dataset>\n",
       "Dimensions:    (cast: 342256, depth: 57)\n",
       "Coordinates:\n",
       "  * cast       (cast) int64 0 1 2 3 4 5 ... 342251 342252 342253 342254 342255\n",
       "  * depth      (depth) int64 0 5 10 15 20 25 ... 1250 1300 1350 1400 1450 1500\n",
       "Data variables:\n",
       "    time       (cast) datetime64[ns] ...\n",
       "    lat        (cast) float32 ...\n",
       "    lon        (cast) float32 ...\n",
       "    cast_id    (cast) object ...\n",
       "    temp       (cast, depth) float64 ...\n",
       "    sal        (cast, depth) float64 ...\n",
       "    doxy       (cast, depth) float64 ...\n",
       "    nitrate    (cast, depth) float64 ...\n",
       "    phosphate  (cast, depth) float64 ...\n",
       "Attributes:\n",
       "    date_created:           03/23/2021\n",
       "    unmerged_data_url:      https://www.ncei.noaa.gov/access/world-ocean-data...\n",
       "    geospatial_lat_extent:  decimal degrees north (-2.11,48.733334)\n",
       "    geospatial_lon_extent:  decimal degrees east (-163.332,102.5)\n",
       "    help_email:             OCLhelp@noaa.gov\n",
       "    history:                Merged ../latest/*.nc"
      ]
     },
     "execution_count": 3,
     "metadata": {},
     "output_type": "execute_result"
    }
   ],
   "source": [
    "ds_in = xr.open_dataset(inpath + infn)\n",
    "ds_in"
   ]
  },
  {
   "cell_type": "code",
   "execution_count": 4,
   "metadata": {},
   "outputs": [
    {
     "data": {
      "text/plain": [
       "<xarray.Dataset>\n",
       "Dimensions:    (month: 314731, pres: 57)\n",
       "Coordinates:\n",
       "  * month      (month) int64 1 1 1 1 1 1 1 1 1 1 1 1 ... 5 5 5 5 5 5 5 5 5 5 5 5\n",
       "  * pres       (pres) float32 0.0 5.0 10.0 15.0 ... 1350.0 1400.0 1450.0 1500.0\n",
       "Data variables:\n",
       "    temp       (month, pres) float64 ...\n",
       "    sal        (month, pres) float64 ...\n",
       "    doxy       (month, pres) float64 ...\n",
       "    nitrate    (month, pres) float64 ...\n",
       "    phosphate  (month, pres) float64 ...\n",
       "    lon        (month) float64 ...\n",
       "    lat        (month) float64 ..."
      ]
     },
     "execution_count": 4,
     "metadata": {},
     "output_type": "execute_result"
    }
   ],
   "source": [
    "ds_WOA = xr.open_dataset('../../data/woa_to_wod.nc')\n",
    "ds_WOA"
   ]
  },
  {
   "cell_type": "markdown",
   "metadata": {},
   "source": [
    "# Sort by Time"
   ]
  },
  {
   "cell_type": "code",
   "execution_count": 5,
   "metadata": {},
   "outputs": [
    {
     "data": {
      "text/plain": [
       "<xarray.Dataset>\n",
       "Dimensions:    (depth: 57, time: 342256)\n",
       "Coordinates:\n",
       "  * time       (time) datetime64[ns] 1770-01-01 1770-01-01 ... 2020-07-07\n",
       "  * depth      (depth) int64 0 5 10 15 20 25 ... 1250 1300 1350 1400 1450 1500\n",
       "Data variables:\n",
       "    temp       (time, depth) float64 33.11 nan nan nan nan ... nan nan nan nan\n",
       "    sal        (time, depth) float64 nan nan nan nan nan ... nan nan nan nan nan\n",
       "    doxy       (time, depth) float64 nan nan nan nan nan ... nan nan nan nan nan\n",
       "    nitrate    (time, depth) float64 nan nan nan nan nan ... nan nan nan nan nan\n",
       "    phosphate  (time, depth) float64 nan nan nan nan nan ... nan nan nan nan nan\n",
       "    lat        (time) float32 14.366667 14.433333 16.95 ... 12.35 13.299\n",
       "    lon        (time) float32 99.583336 54.083332 64.35 ... 81.21667 92.1 87.454\n",
       "    cast_id    (time) object 'OSD_9540691' 'OSD_9540856' ... 'PFL_19992885'\n",
       "Attributes:\n",
       "    date_created:           03/23/2021\n",
       "    unmerged_data_url:      https://www.ncei.noaa.gov/access/world-ocean-data...\n",
       "    geospatial_lat_extent:  decimal degrees north (-2.11,48.733334)\n",
       "    geospatial_lon_extent:  decimal degrees east (-163.332,102.5)\n",
       "    help_email:             OCLhelp@noaa.gov\n",
       "    history:                Merged ../latest/*.nc"
      ]
     },
     "execution_count": 5,
     "metadata": {},
     "output_type": "execute_result"
    }
   ],
   "source": [
    "# round times to nearest day\n",
    "ds_in[\"time\"] = ds_in.time.dt.floor(\"D\")\n",
    "\n",
    "# # add time as a coordinate\n",
    "ds_in = ds_in.assign_coords(unsorted_time=ds_in.time)\n",
    "\n",
    "# reset profile variables to be with respect to time\n",
    "ds_in['temp'] = xr.DataArray(ds_in.temp,dims = ['unsorted_time','depth'],coords =[ds_in.time,ds_in.depth])\n",
    "ds_in['sal'] = xr.DataArray(ds_in.sal,dims = ['unsorted_time','depth'],coords =[ds_in.time,ds_in.depth])\n",
    "ds_in['doxy'] = xr.DataArray(ds_in.doxy,dims = ['unsorted_time','depth'],coords =[ds_in.time,ds_in.depth])\n",
    "ds_in['nitrate'] = xr.DataArray(ds_in.nitrate,dims = ['unsorted_time','depth'],coords =[ds_in.time,ds_in.depth])\n",
    "ds_in['phosphate'] = xr.DataArray(ds_in.phosphate,dims = ['unsorted_time','depth'],coords =[ds_in.time,ds_in.depth])\n",
    "ds_in['lat'] = xr.DataArray(ds_in.lat,dims = ['unsorted_time'],coords =[ds_in.time])\n",
    "ds_in['lon'] = xr.DataArray(ds_in.lon,dims = ['unsorted_time'],coords =[ds_in.time])\n",
    "ds_in['cast_id'] = xr.DataArray(ds_in.cast_id,dims = ['unsorted_time'],coords =[ds_in.time])\n",
    "# get rid of intial time variable\n",
    "ds_in = ds_in[['temp','sal','doxy','nitrate','phosphate','lat','lon','cast_id']]\n",
    "\n",
    "sorted_time = ds_in.unsorted_time.sortby(ds_in.unsorted_time)\n",
    "\n",
    "# sort based on time\n",
    "ds_in['temp'] = xr.DataArray(ds_in.temp.sortby(ds_in.unsorted_time),dims = ['time','depth'],coords =[sorted_time,ds_in.depth])\n",
    "ds_in['sal'] = xr.DataArray(ds_in.sal.sortby(ds_in.unsorted_time),dims = ['time','depth'],coords =[sorted_time,ds_in.depth])\n",
    "ds_in['doxy'] = xr.DataArray(ds_in.doxy.sortby(ds_in.unsorted_time),dims = ['time','depth'],coords =[sorted_time,ds_in.depth])\n",
    "ds_in['nitrate'] = xr.DataArray(ds_in.nitrate.sortby(ds_in.unsorted_time),dims = ['time','depth'],coords =[sorted_time,ds_in.depth])\n",
    "ds_in['phosphate'] = xr.DataArray(ds_in.phosphate.sortby(ds_in.unsorted_time),dims = ['time','depth'],coords =[sorted_time,ds_in.depth])\n",
    "ds_in['lat'] = xr.DataArray(ds_in.lat.sortby(ds_in.unsorted_time),dims = ['time'],coords =[sorted_time])\n",
    "ds_in['lon'] = xr.DataArray(ds_in.lon.sortby(ds_in.unsorted_time),dims = ['time'],coords =[sorted_time])\n",
    "ds_in['cast_id'] = xr.DataArray(ds_in.cast_id.sortby(ds_in.unsorted_time),dims = ['time'],coords =[sorted_time])\n",
    "ds_in = ds_in[['temp','sal','doxy','nitrate','phosphate','lat','lon','cast_id','time']]\n",
    "ds_in"
   ]
  },
  {
   "cell_type": "code",
   "execution_count": 6,
   "metadata": {},
   "outputs": [
    {
     "data": {
      "image/png": "[encoded data removed]",
      "text/plain": [
       "<Figure size 432x288 with 1 Axes>"
      ]
     },
     "metadata": {
      "needs_background": "light"
     },
     "output_type": "display_data"
    }
   ],
   "source": [
    "for tt in range(1000):\n",
    "    plt.plot(ds_in.temp[tt,:],-1*ds_in.depth)"
   ]
  },
  {
   "cell_type": "markdown",
   "metadata": {},
   "source": [
    "# Linearly interpolate to standard pressure levels"
   ]
  },
  {
   "cell_type": "code",
   "execution_count": 7,
   "metadata": {},
   "outputs": [
    {
     "name": "stderr",
     "output_type": "stream",
     "text": [
      "100%|██████████| 342256/342256 [1:10:52<00:00, 81.02it/s]\n"
     ]
    },
    {
     "data": {
      "text/plain": [
       "<xarray.Dataset>\n",
       "Dimensions:    (pres: 57, time: 342256)\n",
       "Coordinates:\n",
       "  * time       (time) datetime64[ns] 1770-01-01 1770-01-01 ... 2020-07-07\n",
       "  * pres       (pres) int64 0 5 10 15 20 25 30 ... 1250 1300 1350 1400 1450 1500\n",
       "Data variables:\n",
       "    temp       (time, pres) float64 33.11 nan nan nan nan ... nan nan nan nan\n",
       "    sal        (time, pres) float64 nan nan nan nan nan ... nan nan nan nan nan\n",
       "    doxy       (time, pres) float64 nan nan nan nan nan ... nan nan nan nan nan\n",
       "    nitrate    (time, pres) float64 nan nan nan nan nan ... nan nan nan nan nan\n",
       "    phosphate  (time, pres) float64 nan nan nan nan nan ... nan nan nan nan nan\n",
       "    lat        (time) float32 14.366667 14.433333 16.95 ... 12.35 13.299\n",
       "    lon        (time) float32 99.583336 54.083332 64.35 ... 81.21667 92.1 87.454\n",
       "    cast_id    (time) object 'OSD_9540691' 'OSD_9540856' ... 'PFL_19992885'"
      ]
     },
     "execution_count": 7,
     "metadata": {},
     "output_type": "execute_result"
    }
   ],
   "source": [
    "PRES_i = np.array(ds_in.depth)\n",
    "\n",
    "t = ds_in.time.shape[0]\n",
    "d = ds_in.depth.shape[0]\n",
    "for tt in tqdm(range(t), position=0, leave = True):\n",
    "    if tt == 0:\n",
    "        TEMP_i = np.zeros((t,PRES_i.shape[0]))*np.nan\n",
    "        DOXY_i = np.zeros((t,PRES_i.shape[0]))*np.nan\n",
    "        SAL_i = np.zeros((t,PRES_i.shape[0]))*np.nan\n",
    "        NITRATE_i = np.zeros((t,PRES_i.shape[0]))*np.nan\n",
    "        PHOSPHATE_i = np.zeros((t,PRES_i.shape[0]))*np.nan\n",
    "\n",
    "\n",
    "    # conversion [m] -> [dbar]: https://teos-10.github.io/GSW-Python/gsw_flat.html\n",
    "    pres = gsw.p_from_z(-1*ds_in.depth, [ds_in.lat[tt] for i in range(d)])\n",
    "\n",
    "    # temp,psal,doxy selection\n",
    "    temp,sal,doxy = ds_in.temp[tt,:],ds_in.sal[tt,:],ds_in.doxy[tt,:]\n",
    "    nitrate,phosphate = ds_in.nitrate[tt,:],ds_in.phosphate[tt,:]\n",
    "\n",
    "    # interpolation\n",
    "    ft = sp.interp1d(pres,temp,bounds_error=False,fill_value=np.nan)\n",
    "    TEMP_i[tt,:] = ft(PRES_i)\n",
    "\n",
    "    fo = sp.interp1d(pres,doxy,bounds_error=False,fill_value=np.nan)\n",
    "    DOXY_i[tt,:] = fo(PRES_i)\n",
    "\n",
    "    fs = sp.interp1d(pres,sal,bounds_error=False,fill_value=np.nan)\n",
    "    SAL_i[tt,:] = fs(PRES_i)\n",
    "\n",
    "    fn = sp.interp1d(pres,nitrate,bounds_error=False,fill_value=np.nan)\n",
    "    NITRATE_i[tt,:] = fn(PRES_i)\n",
    "\n",
    "    fp = sp.interp1d(pres,phosphate,bounds_error=False,fill_value=np.nan)\n",
    "    PHOSPHATE_i[tt,:] = fp(PRES_i)\n",
    "            \n",
    "            \n",
    "ds_out=xr.Dataset(coords={'time': ds_in.time,\n",
    "                        'pres': PRES_i})\n",
    "# add to dataset\n",
    "ds_out['temp'] = xr.DataArray(TEMP_i,dims = ['time','pres'],coords =[ds_in.time,PRES_i])\n",
    "ds_out['sal'] = xr.DataArray(SAL_i,dims = ['time','pres'],coords =[ds_in.time,PRES_i])\n",
    "ds_out['doxy'] = xr.DataArray(DOXY_i,dims = ['time','pres'],coords =[ds_in.time,PRES_i])\n",
    "ds_out['nitrate'] = xr.DataArray(NITRATE_i,dims = ['time','pres'],coords =[ds_in.time,PRES_i])\n",
    "ds_out['phosphate'] = xr.DataArray(PHOSPHATE_i,dims = ['time','pres'],coords =[ds_in.time,PRES_i])\n",
    "ds_out['lat'] = xr.DataArray(ds_in.lat,dims = ['time'],coords =[ds_in.time])\n",
    "ds_out['lon'] = xr.DataArray(ds_in.lon,dims = ['time'],coords =[ds_in.time])\n",
    "ds_out['cast_id'] = xr.DataArray(ds_in.cast_id,dims = ['time'],coords =[ds_in.time])\n",
    "ds_out         "
   ]
  },
  {
   "cell_type": "code",
   "execution_count": 10,
   "metadata": {},
   "outputs": [
    {
     "data": {
      "image/png": "[encoded data removed]",
      "text/plain": [
       "<Figure size 432x288 with 1 Axes>"
      ]
     },
     "metadata": {
      "needs_background": "light"
     },
     "output_type": "display_data"
    }
   ],
   "source": [
    "for tt in range(1000):\n",
    "    plt.plot(ds_out.temp[tt,:],-1*ds_out.pres)"
   ]
  },
  {
   "cell_type": "markdown",
   "metadata": {},
   "source": [
    "# Subset"
   ]
  },
  {
   "cell_type": "code",
   "execution_count": 11,
   "metadata": {},
   "outputs": [
    {
     "data": {
      "text/plain": [
       "<xarray.Dataset>\n",
       "Dimensions:    (pres: 57, time: 339216)\n",
       "Coordinates:\n",
       "  * time       (time) datetime64[ns] 1948-03-14 1948-03-28 ... 2020-05-31\n",
       "  * pres       (pres) int64 0 5 10 15 20 25 30 ... 1250 1300 1350 1400 1450 1500\n",
       "Data variables:\n",
       "    temp       (time, pres) float64 28.82 28.76 28.71 28.66 ... nan nan nan nan\n",
       "    sal        (time, pres) float64 33.87 33.89 33.92 33.94 ... nan nan nan nan\n",
       "    doxy       (time, pres) float64 198.2 199.3 200.2 200.8 ... nan nan nan nan\n",
       "    nitrate    (time, pres) float64 nan nan nan nan nan ... nan nan nan nan nan\n",
       "    phosphate  (time, pres) float64 nan nan nan nan nan ... nan nan nan nan nan\n",
       "    lat        (time) float32 4.6 4.2 0.06666667 ... 0.153 15.8443 13.862\n",
       "    lon        (time) float32 82.6 77.46667 74.88333 ... 60.407 57.72186 67.64\n",
       "    cast_id    (time) object 'OSD_160413' 'OSD_160678' ... 'PFL_19977773'"
      ]
     },
     "execution_count": 11,
     "metadata": {},
     "output_type": "execute_result"
    }
   ],
   "source": [
    "time_slice = slice('1948-03-14', '2020-05-31')\n",
    "ds_out = ds_out.sel(time = time_slice)\n",
    "ds_out"
   ]
  },
  {
   "cell_type": "code",
   "execution_count": 12,
   "metadata": {},
   "outputs": [
    {
     "data": {
      "text/plain": [
       "<matplotlib.collections.PathCollection at 0x7f46a807c5f8>"
      ]
     },
     "execution_count": 12,
     "metadata": {},
     "output_type": "execute_result"
    },
    {
     "data": {
      "image/png": "[encoded data removed]",
      "text/plain": [
       "<Figure size 432x288 with 1 Axes>"
      ]
     },
     "metadata": {
      "needs_background": "light"
     },
     "output_type": "display_data"
    }
   ],
   "source": [
    "plt.scatter(ds_out.lon,ds_out.lat)"
   ]
  },
  {
   "cell_type": "code",
   "execution_count": 14,
   "metadata": {},
   "outputs": [
    {
     "data": {
      "text/plain": [
       "<matplotlib.collections.PathCollection at 0x7f46841bba58>"
      ]
     },
     "execution_count": 14,
     "metadata": {},
     "output_type": "execute_result"
    },
    {
     "data": {
      "image/png": "[encoded data removed]",
      "text/plain": [
       "<Figure size 432x288 with 1 Axes>"
      ]
     },
     "metadata": {
      "needs_background": "light"
     },
     "output_type": "display_data"
    }
   ],
   "source": [
    "ind = (ds_out.lon < lon_bounds[1]) & (ds_out.lon > lon_bounds[0]) & (ds_out.lat < lat_bounds[1]) & (ds_out.lat > lat_bounds[0])\n",
    "\n",
    "lat = ds_out.lat[ind]\n",
    "lon = ds_out.lon[ind]\n",
    "temp = ds_out.temp[ind,:]\n",
    "sal = ds_out.sal[ind,:]\n",
    "doxy = ds_out.doxy[ind,:]\n",
    "nitrate = ds_out.nitrate[ind,:]\n",
    "phosphate = ds_out.phosphate[ind,:]\n",
    "cast_id = ds_out.cast_id[ind]\n",
    "t = ds_out.time[ind]\n",
    "pres = ds_out.pres\n",
    "\n",
    "# take away outside BoB\n",
    "ind = (lon < 110) & (lon > 99) & (lat < 15) & (lat > 8)\n",
    "\n",
    "lat = lat[~ind]\n",
    "lon = lon[~ind]\n",
    "temp = temp[~ind,:]\n",
    "sal = sal[~ind,:]\n",
    "doxy = doxy[~ind,:]\n",
    "nitrate = nitrate[~ind,:]\n",
    "phosphate = phosphate[~ind,:]\n",
    "cast_id = cast_id[~ind]\n",
    "t = t[~ind]\n",
    "\n",
    "ind = (lon < 110) & (lon > 100) & (lat < 9) & (lat > 5)\n",
    "\n",
    "lat = lat[~ind]\n",
    "lon = lon[~ind]\n",
    "temp = temp[~ind,:]\n",
    "sal = sal[~ind,:]\n",
    "doxy = doxy[~ind,:]\n",
    "nitrate = nitrate[~ind,:]\n",
    "phosphate = phosphate[~ind,:]\n",
    "cast_id = cast_id[~ind]\n",
    "t = t[~ind]\n",
    "\n",
    "ind = (lon < 57.5) & (lon > 45) & (lat < 30) & (lat > 22)\n",
    "\n",
    "lat = lat[~ind]\n",
    "lon = lon[~ind]\n",
    "temp = temp[~ind,:]\n",
    "sal = sal[~ind,:]\n",
    "doxy = doxy[~ind,:]\n",
    "nitrate = nitrate[~ind,:]\n",
    "phosphate = phosphate[~ind,:]\n",
    "cast_id = cast_id[~ind]\n",
    "t = t[~ind]\n",
    "\n",
    "ind = (lon < 60) & (lon > 45) & (lat < 32) & (lat > 28)\n",
    "\n",
    "lat = lat[~ind]\n",
    "lon = lon[~ind]\n",
    "temp = temp[~ind,:]\n",
    "sal = sal[~ind,:]\n",
    "doxy = doxy[~ind,:]\n",
    "nitrate = nitrate[~ind,:]\n",
    "phosphate = phosphate[~ind,:]\n",
    "cast_id = cast_id[~ind]\n",
    "t = t[~ind]\n",
    "\n",
    "ind = (lon < 82) & (lon > 70) & (lat < 32) & (lat > 21)\n",
    "\n",
    "lat = lat[~ind]\n",
    "lon = lon[~ind]\n",
    "temp = temp[~ind,:]\n",
    "sal = sal[~ind,:]\n",
    "doxy = doxy[~ind,:]\n",
    "nitrate = nitrate[~ind,:]\n",
    "phosphate = phosphate[~ind,:]\n",
    "cast_id = cast_id[~ind]\n",
    "t = t[~ind]\n",
    "\n",
    "ind = (lon < 104) & (lon > 94) & (lat < 32) & (lat > 19)\n",
    "\n",
    "lat = lat[~ind]\n",
    "lon = lon[~ind]\n",
    "temp = temp[~ind,:]\n",
    "sal = sal[~ind,:]\n",
    "doxy = doxy[~ind,:]\n",
    "nitrate = nitrate[~ind,:]\n",
    "phosphate = phosphate[~ind,:]\n",
    "cast_id = cast_id[~ind]\n",
    "t = t[~ind]\n",
    "\n",
    "plt.scatter(lon,lat)"
   ]
  },
  {
   "cell_type": "code",
   "execution_count": 15,
   "metadata": {},
   "outputs": [
    {
     "data": {
      "text/plain": [
       "<xarray.Dataset>\n",
       "Dimensions:    (pres: 57, time: 319845)\n",
       "Coordinates:\n",
       "  * time       (time) datetime64[ns] 1948-03-14 1948-03-28 ... 2020-05-31\n",
       "  * pres       (pres) int64 0 5 10 15 20 25 30 ... 1250 1300 1350 1400 1450 1500\n",
       "Data variables:\n",
       "    temp       (time, pres) float64 28.82 28.76 28.71 28.66 ... nan nan nan nan\n",
       "    sal        (time, pres) float64 33.87 33.89 33.92 33.94 ... nan nan nan nan\n",
       "    doxy       (time, pres) float64 198.2 199.3 200.2 200.8 ... nan nan nan nan\n",
       "    nitrate    (time, pres) float64 nan nan nan nan nan ... nan nan nan nan nan\n",
       "    phosphate  (time, pres) float64 nan nan nan nan nan ... nan nan nan nan nan\n",
       "    lat        (time) float32 4.6 4.2 0.06666667 ... 0.153 15.8443 13.862\n",
       "    lon        (time) float32 82.6 77.46667 74.88333 ... 60.407 57.72186 67.64\n",
       "    cast_id    (time) object 'OSD_160413' 'OSD_160678' ... 'PFL_19977773'"
      ]
     },
     "execution_count": 15,
     "metadata": {},
     "output_type": "execute_result"
    }
   ],
   "source": [
    "ds_out=xr.Dataset(coords={'time': t,\n",
    "                        'pres': pres})\n",
    "# add to dataset\n",
    "ds_out['temp'] = xr.DataArray(temp,dims = ['time','pres'],coords =[t,pres])\n",
    "ds_out['sal'] = xr.DataArray(sal,dims = ['time','pres'],coords =[t,pres])\n",
    "ds_out['doxy'] = xr.DataArray(doxy,dims = ['time','pres'],coords =[t,pres])\n",
    "ds_out['nitrate'] = xr.DataArray(nitrate,dims = ['time','pres'],coords =[t,pres])\n",
    "ds_out['phosphate'] = xr.DataArray(phosphate,dims = ['time','pres'],coords =[t,pres])\n",
    "ds_out['lat'] = xr.DataArray(lat,dims = ['time'],coords =[t])\n",
    "ds_out['lon'] = xr.DataArray(lon,dims = ['time'],coords =[t])\n",
    "ds_out['cast_id'] = xr.DataArray(cast_id,dims = ['time'],coords =[t])\n",
    "ds_out "
   ]
  },
  {
   "cell_type": "markdown",
   "metadata": {},
   "source": [
    "# Remove and negative concentration values"
   ]
  },
  {
   "cell_type": "code",
   "execution_count": 16,
   "metadata": {},
   "outputs": [
    {
     "data": {
      "text/plain": [
       "Text(0, 0.5, 'min doxy negs removed')"
      ]
     },
     "execution_count": 16,
     "metadata": {},
     "output_type": "execute_result"
    },
    {
     "data": {
      "image/png": "[encoded data removed]",
      "text/plain": [
       "<Figure size 432x288 with 1 Axes>"
      ]
     },
     "metadata": {
      "needs_background": "light"
     },
     "output_type": "display_data"
    }
   ],
   "source": [
    "plt.plot(ds_out.doxy.min(dim = 'pres'),'.')\n",
    "plt.ylim([-1,1])\n",
    "plt.xlabel('Profile No.')\n",
    "plt.ylabel('min doxy')\n",
    "\n",
    "\n",
    "\n",
    "# set negative oxygen values to nan\n",
    "ds_out['doxy'] = ds_out.doxy.where(ds_out.doxy >= 0)\n",
    "\n",
    "plt.plot(ds_out.doxy.min(dim = 'pres'),'.')\n",
    "plt.ylim([-1,1])\n",
    "plt.xlabel('Profile No.')\n",
    "plt.ylabel('min doxy negs removed')"
   ]
  },
  {
   "cell_type": "markdown",
   "metadata": {},
   "source": [
    "# Find Anomalies"
   ]
  },
  {
   "cell_type": "code",
   "execution_count": 17,
   "metadata": {},
   "outputs": [],
   "source": [
    "# ds_out['temp_anom'] = ds_out.temp - np.array(ds_WOA.temp)\n",
    "# ds_out['doxy_anom'] = ds_out.doxy - np.array(ds_WOA.doxy)\n",
    "# ds_out['sal_anom'] = ds_out.sal - np.array(ds_WOA.sal)\n",
    "# ds_out['nitrate_anom'] = ds_out.nitrate - np.array(ds_WOA.nitrate)\n",
    "# ds_out['phosphate_anom'] = ds_out.phosphate - np.array(ds_WOA.phosphate)"
   ]
  },
  {
   "cell_type": "markdown",
   "metadata": {},
   "source": [
    "# Water Column Averages"
   ]
  },
  {
   "cell_type": "code",
   "execution_count": 19,
   "metadata": {},
   "outputs": [
    {
     "name": "stderr",
     "output_type": "stream",
     "text": [
      "/home/jennap/anaconda3/lib/python3.7/site-packages/ipykernel_launcher.py:4: RuntimeWarning: Mean of empty slice\n",
      "  after removing the cwd from sys.path.\n",
      "/home/jennap/anaconda3/lib/python3.7/site-packages/ipykernel_launcher.py:5: RuntimeWarning: Mean of empty slice\n",
      "  \"\"\"\n",
      "/home/jennap/anaconda3/lib/python3.7/site-packages/ipykernel_launcher.py:6: RuntimeWarning: Mean of empty slice\n",
      "  \n",
      "/home/jennap/anaconda3/lib/python3.7/site-packages/ipykernel_launcher.py:7: RuntimeWarning: Mean of empty slice\n",
      "  import sys\n",
      "/home/jennap/anaconda3/lib/python3.7/site-packages/ipykernel_launcher.py:8: RuntimeWarning: Mean of empty slice\n",
      "  \n",
      "/home/jennap/anaconda3/lib/python3.7/site-packages/ipykernel_launcher.py:18: RuntimeWarning: Mean of empty slice\n",
      "/home/jennap/anaconda3/lib/python3.7/site-packages/ipykernel_launcher.py:19: RuntimeWarning: Mean of empty slice\n",
      "/home/jennap/anaconda3/lib/python3.7/site-packages/ipykernel_launcher.py:20: RuntimeWarning: Mean of empty slice\n",
      "/home/jennap/anaconda3/lib/python3.7/site-packages/ipykernel_launcher.py:21: RuntimeWarning: Mean of empty slice\n",
      "/home/jennap/anaconda3/lib/python3.7/site-packages/ipykernel_launcher.py:22: RuntimeWarning: Mean of empty slice\n",
      "/home/jennap/anaconda3/lib/python3.7/site-packages/ipykernel_launcher.py:32: RuntimeWarning: Mean of empty slice\n",
      "/home/jennap/anaconda3/lib/python3.7/site-packages/ipykernel_launcher.py:33: RuntimeWarning: Mean of empty slice\n",
      "/home/jennap/anaconda3/lib/python3.7/site-packages/ipykernel_launcher.py:34: RuntimeWarning: Mean of empty slice\n",
      "/home/jennap/anaconda3/lib/python3.7/site-packages/ipykernel_launcher.py:35: RuntimeWarning: Mean of empty slice\n",
      "/home/jennap/anaconda3/lib/python3.7/site-packages/ipykernel_launcher.py:36: RuntimeWarning: Mean of empty slice\n"
     ]
    }
   ],
   "source": [
    "# find mean temperature and doxy 40-200dbar\n",
    "ind = (ds_out.pres>= 40) & (ds_out.pres<= 200)\n",
    "\n",
    "doxy_40_200 = np.nanmean(ds_out.doxy[:,ind],1)\n",
    "temp_40_200 = np.nanmean(ds_out.temp[:,ind],1)\n",
    "sal_40_200 = np.nanmean(ds_out.sal[:,ind],1)\n",
    "nitrate_40_200 = np.nanmean(ds_out.nitrate[:,ind],1)\n",
    "phosphate_40_200 = np.nanmean(ds_out.phosphate[:,ind],1)\n",
    "# doxy_anom_40_200 = np.nanmean(ds_out.doxy_anom[:,ind],1)\n",
    "# temp_anom_40_200 = np.nanmean(ds_out.temp_anom[:,ind],1)\n",
    "# sal_anom_40_200 = np.nanmean(ds_out.sal_anom[:,ind],1)\n",
    "# nitrate_anom_40_200 = np.nanmean(ds_out.nitrate_anom[:,ind],1)\n",
    "# phosphate_anom_40_200 = np.nanmean(ds_out.phosphate_anom[:,ind],1)\n",
    "\n",
    "# find mean temperature and doxy 50-200dbar\n",
    "ind = (ds_out.pres>= 50) & (ds_out.pres<= 200)\n",
    "\n",
    "doxy_50_200 = np.nanmean(ds_out.doxy[:,ind],1)\n",
    "temp_50_200 = np.nanmean(ds_out.temp[:,ind],1)\n",
    "sal_50_200 = np.nanmean(ds_out.sal[:,ind],1)\n",
    "nitrate_50_200 = np.nanmean(ds_out.nitrate[:,ind],1)\n",
    "phosphate_50_200 = np.nanmean(ds_out.phosphate[:,ind],1)\n",
    "# doxy_anom_50_200 = np.nanmean(ds_out.doxy_anom[:,ind],1)\n",
    "# temp_anom_50_200 = np.nanmean(ds_out.temp_anom[:,ind],1)\n",
    "# sal_anom_50_200 = np.nanmean(ds_out.sal_anom[:,ind],1)\n",
    "# nitrate_anom_50_200 = np.nanmean(ds_out.nitrate_anom[:,ind],1)\n",
    "# phosphate_anom_50_200 = np.nanmean(ds_out.phosphate_anom[:,ind],1)\n",
    "\n",
    "# find mean temperature and doxy 50-225dbar\n",
    "ind = (ds_out.pres>= 50) & (ds_out.pres<= 225)\n",
    "\n",
    "doxy_50_225 = np.nanmean(ds_out.doxy[:,ind],1)\n",
    "temp_50_225 = np.nanmean(ds_out.temp[:,ind],1)\n",
    "sal_50_225 = np.nanmean(ds_out.sal[:,ind],1)\n",
    "nitrate_50_225 = np.nanmean(ds_out.nitrate[:,ind],1)\n",
    "phosphate_50_225 = np.nanmean(ds_out.phosphate[:,ind],1)\n",
    "# doxy_anom_50_225 = np.nanmean(ds_out.doxy_anom[:,ind],1)\n",
    "# temp_anom_50_225 = np.nanmean(ds_out.temp_anom[:,ind],1)\n",
    "# sal_anom_50_225 = np.nanmean(ds_out.sal_anom[:,ind],1)\n",
    "# nitrate_anom_50_225 = np.nanmean(ds_out.nitrate_anom[:,ind],1)\n",
    "# phosphate_anom_50_225 = np.nanmean(ds_out.phosphate_anom[:,ind],1)\n",
    "\n",
    "# add to dataset\n",
    "ds_out['temp_40_200'] = xr.DataArray(temp_40_200,dims = ['time'],coords =[ds_out.time])\n",
    "ds_out['doxy_40_200'] = xr.DataArray(doxy_40_200,dims = ['time'],coords =[ds_out.time])\n",
    "ds_out['sal_40_200'] = xr.DataArray(sal_40_200,dims = ['time'],coords =[ds_out.time])\n",
    "ds_out['nitrate_40_200'] = xr.DataArray(nitrate_40_200,dims = ['time'],coords =[ds_out.time])\n",
    "ds_out['phosphate_40_200'] = xr.DataArray(phosphate_40_200,dims = ['time'],coords =[ds_out.time])\n",
    "# ds_out['temp_anom_40_200'] = xr.DataArray(temp_anom_40_200,dims = ['time'],coords =[ds_out.time])\n",
    "# ds_out['doxy_anom_40_200'] = xr.DataArray(doxy_anom_40_200,dims = ['time'],coords =[ds_out.time])\n",
    "# ds_out['sal_anom_40_200'] = xr.DataArray(sal_anom_40_200,dims = ['time'],coords =[ds_out.time])\n",
    "# ds_out['nitrate_anom_40_200'] = xr.DataArray(nitrate_anom_40_200,dims = ['time'],coords =[ds_out.time])\n",
    "# ds_out['phosphate_anom_40_200'] = xr.DataArray(phosphate_anom_40_200,dims = ['time'],coords =[ds_out.time])\n",
    "\n",
    "ds_out['temp_50_200'] = xr.DataArray(temp_50_200,dims = ['time'],coords =[ds_out.time])\n",
    "ds_out['doxy_50_200'] = xr.DataArray(doxy_50_200,dims = ['time'],coords =[ds_out.time])\n",
    "ds_out['sal_50_200'] = xr.DataArray(sal_50_200,dims = ['time'],coords =[ds_out.time])\n",
    "ds_out['nitrate_50_200'] = xr.DataArray(nitrate_50_200,dims = ['time'],coords =[ds_out.time])\n",
    "ds_out['phosphate_50_200'] = xr.DataArray(phosphate_50_200,dims = ['time'],coords =[ds_out.time])\n",
    "# ds_out['temp_anom_50_200'] = xr.DataArray(temp_anom_50_200,dims = ['time'],coords =[ds_out.time])\n",
    "# ds_out['doxy_anom_50_200'] = xr.DataArray(doxy_anom_50_200,dims = ['time'],coords =[ds_out.time])\n",
    "# ds_out['sal_anom_50_200'] = xr.DataArray(sal_anom_50_200,dims = ['time'],coords =[ds_out.time])\n",
    "# ds_out['nitrate_anom_50_200'] = xr.DataArray(nitrate_anom_50_200,dims = ['time'],coords =[ds_out.time])\n",
    "# ds_out['phosphate_anom_50_200'] = xr.DataArray(phosphate_anom_50_200,dims = ['time'],coords =[ds_out.time])\n",
    "\n",
    "ds_out['temp_50_225'] = xr.DataArray(temp_50_225,dims = ['time'],coords =[ds_out.time])\n",
    "ds_out['doxy_50_225'] = xr.DataArray(doxy_50_225,dims = ['time'],coords =[ds_out.time])\n",
    "ds_out['sal_50_225'] = xr.DataArray(sal_50_225,dims = ['time'],coords =[ds_out.time])\n",
    "ds_out['nitrate_50_225'] = xr.DataArray(nitrate_50_225,dims = ['time'],coords =[ds_out.time])\n",
    "ds_out['phosphate_50_225'] = xr.DataArray(phosphate_50_225,dims = ['time'],coords =[ds_out.time])\n",
    "# ds_out['temp_anom_50_225'] = xr.DataArray(temp_anom_50_225,dims = ['time'],coords =[ds_out.time])\n",
    "# ds_out['doxy_anom_50_225'] = xr.DataArray(doxy_anom_50_225,dims = ['time'],coords =[ds_out.time])\n",
    "# ds_out['sal_anom_50_225'] = xr.DataArray(sal_anom_50_225,dims = ['time'],coords =[ds_out.time])\n",
    "# ds_out['nitrate_anom_50_225'] = xr.DataArray(nitrate_anom_50_225,dims = ['time'],coords =[ds_out.time])\n",
    "# ds_out['phosphate_anom_50_225'] = xr.DataArray(phosphate_anom_50_225,dims = ['time'],coords =[ds_out.time])\n"
   ]
  },
  {
   "cell_type": "markdown",
   "metadata": {},
   "source": [
    "# Save Data"
   ]
  },
  {
   "cell_type": "code",
   "execution_count": 20,
   "metadata": {},
   "outputs": [
    {
     "data": {
      "text/plain": [
       "<xarray.Dataset>\n",
       "Dimensions:           (pres: 57, time: 319845)\n",
       "Coordinates:\n",
       "  * time              (time) datetime64[ns] 1948-03-14 1948-03-28 ... 2020-05-31\n",
       "  * pres              (pres) int64 0 5 10 15 20 25 ... 1300 1350 1400 1450 1500\n",
       "Data variables:\n",
       "    temp              (time, pres) float64 28.82 28.76 28.71 ... nan nan nan\n",
       "    sal               (time, pres) float64 33.87 33.89 33.92 ... nan nan nan\n",
       "    doxy              (time, pres) float64 198.2 199.3 200.2 ... nan nan nan\n",
       "    nitrate           (time, pres) float64 nan nan nan nan ... nan nan nan nan\n",
       "    phosphate         (time, pres) float64 nan nan nan nan ... nan nan nan nan\n",
       "    lat               (time) float32 4.6 4.2 0.06666667 ... 0.153 15.8443 13.862\n",
       "    lon               (time) float32 82.6 77.46667 74.88333 ... 57.72186 67.64\n",
       "    cast_id           (time) object 'OSD_160413' 'OSD_160678' ... 'PFL_19977773'\n",
       "    temp_40_200       (time) float64 23.96 nan 23.67 23.55 ... 24.36 23.99 25.45\n",
       "    doxy_40_200       (time) float64 129.1 nan 155.0 nan ... nan nan nan 121.0\n",
       "    sal_40_200        (time) float64 35.06 35.09 35.3 ... 35.15 36.06 36.13\n",
       "    nitrate_40_200    (time) float64 nan nan nan nan nan ... nan nan nan nan nan\n",
       "    phosphate_40_200  (time) float64 nan nan nan nan nan ... nan nan nan nan nan\n",
       "    temp_50_200       (time) float64 23.3 nan 22.88 22.85 ... 23.53 23.58 24.93\n",
       "    doxy_50_200       (time) float64 119.1 nan 148.6 nan ... nan nan nan 111.9\n",
       "    sal_50_200        (time) float64 35.12 35.1 35.32 ... 35.17 36.07 36.12\n",
       "    nitrate_50_200    (time) float64 nan nan nan nan nan ... nan nan nan nan nan\n",
       "    phosphate_50_200  (time) float64 nan nan nan nan nan ... nan nan nan nan nan\n",
       "    temp_50_225       (time) float64 23.3 nan 22.88 22.85 ... 22.86 23.17 24.36\n",
       "    doxy_50_225       (time) float64 119.1 nan 148.6 nan ... nan nan nan 105.0\n",
       "    sal_50_225        (time) float64 35.12 35.1 35.32 ... 35.17 36.06 36.09\n",
       "    nitrate_50_225    (time) float64 nan nan nan nan nan ... nan nan nan nan nan\n",
       "    phosphate_50_225  (time) float64 nan nan nan nan nan ... nan nan nan nan nan"
      ]
     },
     "execution_count": 20,
     "metadata": {},
     "output_type": "execute_result"
    }
   ],
   "source": [
    "# delete if already present\n",
    "if os.path.isfile(outfn):\n",
    "    os.remove(outfn)\n",
    "\n",
    "ds_out.to_netcdf(outfn,mode='w',format = \"NETCDF4\")\n",
    "ds_out"
   ]
  },
  {
   "cell_type": "code",
   "execution_count": 21,
   "metadata": {},
   "outputs": [
    {
     "data": {
      "text/plain": [
       "<matplotlib.collections.PathCollection at 0x7f468405a2e8>"
      ]
     },
     "execution_count": 21,
     "metadata": {},
     "output_type": "execute_result"
    },
    {
     "data": {
      "image/png": "[encoded data removed]",
      "text/plain": [
       "<Figure size 432x288 with 1 Axes>"
      ]
     },
     "metadata": {
      "needs_background": "light"
     },
     "output_type": "display_data"
    }
   ],
   "source": [
    "plt.scatter(ds_out.lon,ds_out.lat, s = 1)"
   ]
  },
  {
   "cell_type": "code",
   "execution_count": null,
   "metadata": {},
   "outputs": [],
   "source": []
  },
  {
   "cell_type": "code",
   "execution_count": null,
   "metadata": {},
   "outputs": [],
   "source": []
  }
 ],
 "metadata": {
  "kernelspec": {
   "display_name": "Python 3",
   "language": "python",
   "name": "python3"
  },
  "language_info": {
   "codemirror_mode": {
    "name": "ipython",
    "version": 3
   },
   "file_extension": ".py",
   "mimetype": "text/x-python",
   "name": "python",
   "nbconvert_exporter": "python",
   "pygments_lexer": "ipython3",
   "version": "3.7.3"
  }
 },
 "nbformat": 4,
 "nbformat_minor": 2
}
