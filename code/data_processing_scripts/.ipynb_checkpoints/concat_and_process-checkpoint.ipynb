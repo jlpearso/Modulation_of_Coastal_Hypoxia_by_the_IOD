{
 "cells": [
  {
   "cell_type": "code",
   "execution_count": 1,
   "metadata": {},
   "outputs": [
    {
     "name": "stdout",
     "output_type": "stream",
     "text": [
      "Default libraries loaded.\n"
     ]
    }
   ],
   "source": [
    "# import your standard packages\n",
    "%run ../../../global_tools/start.py\n",
    "\n",
    "# import your local functions\n",
    "sys.path.insert(1, '../')\n",
    "from local_functions import *\n",
    "\n",
    "# make sure the figures plot inline rather than at the end\n",
    "%matplotlib inline\n",
    "\n",
    "# concatenates all profiles into one file with no_profiles x depth (up to 2000m)\n",
    "# interpolates to standard depth levels as defined on Noaa: https://www.ncei.noaa.gov/access/world-ocean-database-select/depth_definition.html\n",
    "# linear interp chosen based on ease and https://aslopubs.onlinelibrary.wiley.com/doi/abs/10.4319/lom.2013.11.213\n",
    "# import xarray as xr\n",
    "# import numpy as np\n",
    "# import pandas as pd\n",
    "# from scipy.interpolate import interp1d\n",
    "# import os\n",
    "# import glob\n",
    "# from tqdm import tqdm"
   ]
  },
  {
   "cell_type": "code",
   "execution_count": 2,
   "metadata": {},
   "outputs": [],
   "source": [
    "varlist = ['OSD','CTD','DRB','MRB','PFL','XBT','MBT','UOR','APB','GLD']\n",
    "DEPTH = np.array([0,5,10,15,20,25,30,35,40,45,50,55,60,65,70,75,80,85,90,95,100,\n",
    "                 125,150,175,200,225,250,275,300,325,350,375,400,425,450,475,500,\n",
    "                 550,600,650,700,750,800,850,900,1000,1050,1100,1150,1200,1250,1300,\n",
    "                 1350,1400,1450,1500,1550,1600,1650,1700,1750,1800,1850,1900,1950,2000])"
   ]
  },
  {
   "cell_type": "code",
   "execution_count": 3,
   "metadata": {},
   "outputs": [],
   "source": [
    "inpath = '/tigress/GEOCLIM/LRGROUP/shared_data/WOD/test/'\n",
    "\n",
    "lat = []\n",
    "lon = []\n",
    "t = []\n",
    "cast_id = []\n",
    "\n",
    "for var in varlist:\n",
    "    # get all the datafiles\n",
    "    fns = glob.glob(inpath + var + '/ocldb*.nc')\n",
    "    for fn in fns:\n",
    "        ds_in = xr.open_dataset(fn)\n",
    "        lat.extend(ds_in.lat)\n",
    "        lon.extend(ds_in.lon)\n",
    "        t.extend(np.array(ds_in.time))\n",
    "        cast_id.extend([var + str(i) for i in np.array(ds_in.cast) ])\n",
    "\n",
    "no_profs = len(cast_id)"
   ]
  },
  {
   "cell_type": "code",
   "execution_count": 5,
   "metadata": {},
   "outputs": [
    {
     "name": "stdout",
     "output_type": "stream",
     "text": [
      "Processing  OSD\n"
     ]
    },
    {
     "name": "stderr",
     "output_type": "stream",
     "text": [
      " 13%|█▎        | 75/556 [00:01<00:12, 40.04it/s]\n"
     ]
    },
    {
     "ename": "ValueError",
     "evalue": "numpy.nanmax raises on a.size==0 and axis=None; So Bottleneck too.",
     "output_type": "error",
     "traceback": [
      "\u001b[0;31m---------------------------------------------------------------------------\u001b[0m",
      "\u001b[0;31mValueError\u001b[0m                                Traceback (most recent call last)",
      "\u001b[0;32m<ipython-input-5-05fc73646bf7>\u001b[0m in \u001b[0;36m<module>\u001b[0;34m\u001b[0m\n\u001b[1;32m     92\u001b[0m             \u001b[0mz\u001b[0m \u001b[0;34m=\u001b[0m \u001b[0mds_in\u001b[0m\u001b[0;34m.\u001b[0m\u001b[0mz\u001b[0m\u001b[0;34m[\u001b[0m\u001b[0mds_in\u001b[0m\u001b[0;34m.\u001b[0m\u001b[0mNitrate_WODflag\u001b[0m \u001b[0;34m==\u001b[0m \u001b[0;36m0\u001b[0m\u001b[0;34m]\u001b[0m\u001b[0;34m\u001b[0m\u001b[0;34m\u001b[0m\u001b[0m\n\u001b[1;32m     93\u001b[0m \u001b[0;34m\u001b[0m\u001b[0m\n\u001b[0;32m---> 94\u001b[0;31m             \u001b[0mz_int\u001b[0m \u001b[0;34m=\u001b[0m \u001b[0mDEPTH\u001b[0m\u001b[0;34m[\u001b[0m\u001b[0;34m(\u001b[0m\u001b[0mDEPTH\u001b[0m \u001b[0;34m<=\u001b[0m \u001b[0mfloat\u001b[0m\u001b[0;34m(\u001b[0m\u001b[0mz\u001b[0m\u001b[0;34m.\u001b[0m\u001b[0mmax\u001b[0m\u001b[0;34m(\u001b[0m\u001b[0;34m)\u001b[0m\u001b[0;34m)\u001b[0m\u001b[0;34m)\u001b[0m \u001b[0;34m&\u001b[0m \u001b[0;34m(\u001b[0m\u001b[0mDEPTH\u001b[0m \u001b[0;34m>=\u001b[0m \u001b[0mfloat\u001b[0m\u001b[0;34m(\u001b[0m\u001b[0mz\u001b[0m\u001b[0;34m.\u001b[0m\u001b[0mmin\u001b[0m\u001b[0;34m(\u001b[0m\u001b[0;34m)\u001b[0m\u001b[0;34m)\u001b[0m\u001b[0;34m)\u001b[0m\u001b[0;34m]\u001b[0m\u001b[0;34m\u001b[0m\u001b[0;34m\u001b[0m\u001b[0m\n\u001b[0m\u001b[1;32m     95\u001b[0m \u001b[0;34m\u001b[0m\u001b[0m\n\u001b[1;32m     96\u001b[0m             \u001b[0;32mif\u001b[0m \u001b[0mnitrate\u001b[0m\u001b[0;34m.\u001b[0m\u001b[0mshape\u001b[0m\u001b[0;34m[\u001b[0m\u001b[0;36m0\u001b[0m\u001b[0;34m]\u001b[0m \u001b[0;34m>\u001b[0m \u001b[0;36m3\u001b[0m\u001b[0;34m:\u001b[0m\u001b[0;34m\u001b[0m\u001b[0;34m\u001b[0m\u001b[0m\n",
      "\u001b[0;32m~/anaconda3/lib/python3.7/site-packages/xarray/core/common.py\u001b[0m in \u001b[0;36mwrapped_func\u001b[0;34m(self, dim, axis, skipna, **kwargs)\u001b[0m\n\u001b[1;32m     23\u001b[0m                              **kwargs):\n\u001b[1;32m     24\u001b[0m                 return self.reduce(func, dim, axis,\n\u001b[0;32m---> 25\u001b[0;31m                                    skipna=skipna, allow_lazy=True, **kwargs)\n\u001b[0m\u001b[1;32m     26\u001b[0m         \u001b[0;32melse\u001b[0m\u001b[0;34m:\u001b[0m\u001b[0;34m\u001b[0m\u001b[0;34m\u001b[0m\u001b[0m\n\u001b[1;32m     27\u001b[0m             def wrapped_func(self, dim=None, axis=None,\n",
      "\u001b[0;32m~/anaconda3/lib/python3.7/site-packages/xarray/core/dataarray.py\u001b[0m in \u001b[0;36mreduce\u001b[0;34m(self, func, dim, axis, keep_attrs, **kwargs)\u001b[0m\n\u001b[1;32m   1595\u001b[0m         \"\"\"\n\u001b[1;32m   1596\u001b[0m \u001b[0;34m\u001b[0m\u001b[0m\n\u001b[0;32m-> 1597\u001b[0;31m         \u001b[0mvar\u001b[0m \u001b[0;34m=\u001b[0m \u001b[0mself\u001b[0m\u001b[0;34m.\u001b[0m\u001b[0mvariable\u001b[0m\u001b[0;34m.\u001b[0m\u001b[0mreduce\u001b[0m\u001b[0;34m(\u001b[0m\u001b[0mfunc\u001b[0m\u001b[0;34m,\u001b[0m \u001b[0mdim\u001b[0m\u001b[0;34m,\u001b[0m \u001b[0maxis\u001b[0m\u001b[0;34m,\u001b[0m \u001b[0mkeep_attrs\u001b[0m\u001b[0;34m,\u001b[0m \u001b[0;34m**\u001b[0m\u001b[0mkwargs\u001b[0m\u001b[0;34m)\u001b[0m\u001b[0;34m\u001b[0m\u001b[0;34m\u001b[0m\u001b[0m\n\u001b[0m\u001b[1;32m   1598\u001b[0m         \u001b[0;32mreturn\u001b[0m \u001b[0mself\u001b[0m\u001b[0;34m.\u001b[0m\u001b[0m_replace_maybe_drop_dims\u001b[0m\u001b[0;34m(\u001b[0m\u001b[0mvar\u001b[0m\u001b[0;34m)\u001b[0m\u001b[0;34m\u001b[0m\u001b[0;34m\u001b[0m\u001b[0m\n\u001b[1;32m   1599\u001b[0m \u001b[0;34m\u001b[0m\u001b[0m\n",
      "\u001b[0;32m~/anaconda3/lib/python3.7/site-packages/xarray/core/variable.py\u001b[0m in \u001b[0;36mreduce\u001b[0;34m(self, func, dim, axis, keep_attrs, allow_lazy, **kwargs)\u001b[0m\n\u001b[1;32m   1352\u001b[0m             \u001b[0maxis\u001b[0m \u001b[0;34m=\u001b[0m \u001b[0mself\u001b[0m\u001b[0;34m.\u001b[0m\u001b[0mget_axis_num\u001b[0m\u001b[0;34m(\u001b[0m\u001b[0mdim\u001b[0m\u001b[0;34m)\u001b[0m\u001b[0;34m\u001b[0m\u001b[0;34m\u001b[0m\u001b[0m\n\u001b[1;32m   1353\u001b[0m         data = func(self.data if allow_lazy else self.values,\n\u001b[0;32m-> 1354\u001b[0;31m                     axis=axis, **kwargs)\n\u001b[0m\u001b[1;32m   1355\u001b[0m \u001b[0;34m\u001b[0m\u001b[0m\n\u001b[1;32m   1356\u001b[0m         \u001b[0;32mif\u001b[0m \u001b[0mgetattr\u001b[0m\u001b[0;34m(\u001b[0m\u001b[0mdata\u001b[0m\u001b[0;34m,\u001b[0m \u001b[0;34m'shape'\u001b[0m\u001b[0;34m,\u001b[0m \u001b[0;34m(\u001b[0m\u001b[0;34m)\u001b[0m\u001b[0;34m)\u001b[0m \u001b[0;34m==\u001b[0m \u001b[0mself\u001b[0m\u001b[0;34m.\u001b[0m\u001b[0mshape\u001b[0m\u001b[0;34m:\u001b[0m\u001b[0;34m\u001b[0m\u001b[0;34m\u001b[0m\u001b[0m\n",
      "\u001b[0;32m~/anaconda3/lib/python3.7/site-packages/xarray/core/duck_array_ops.py\u001b[0m in \u001b[0;36mf\u001b[0;34m(values, axis, skipna, **kwargs)\u001b[0m\n\u001b[1;32m    234\u001b[0m \u001b[0;34m\u001b[0m\u001b[0m\n\u001b[1;32m    235\u001b[0m         \u001b[0;32mtry\u001b[0m\u001b[0;34m:\u001b[0m\u001b[0;34m\u001b[0m\u001b[0;34m\u001b[0m\u001b[0m\n\u001b[0;32m--> 236\u001b[0;31m             \u001b[0;32mreturn\u001b[0m \u001b[0mfunc\u001b[0m\u001b[0;34m(\u001b[0m\u001b[0mvalues\u001b[0m\u001b[0;34m,\u001b[0m \u001b[0maxis\u001b[0m\u001b[0;34m=\u001b[0m\u001b[0maxis\u001b[0m\u001b[0;34m,\u001b[0m \u001b[0;34m**\u001b[0m\u001b[0mkwargs\u001b[0m\u001b[0;34m)\u001b[0m\u001b[0;34m\u001b[0m\u001b[0;34m\u001b[0m\u001b[0m\n\u001b[0m\u001b[1;32m    237\u001b[0m         \u001b[0;32mexcept\u001b[0m \u001b[0mAttributeError\u001b[0m\u001b[0;34m:\u001b[0m\u001b[0;34m\u001b[0m\u001b[0;34m\u001b[0m\u001b[0m\n\u001b[1;32m    238\u001b[0m             \u001b[0;32mif\u001b[0m \u001b[0misinstance\u001b[0m\u001b[0;34m(\u001b[0m\u001b[0mvalues\u001b[0m\u001b[0;34m,\u001b[0m \u001b[0mdask_array_type\u001b[0m\u001b[0;34m)\u001b[0m\u001b[0;34m:\u001b[0m\u001b[0;34m\u001b[0m\u001b[0;34m\u001b[0m\u001b[0m\n",
      "\u001b[0;32m~/anaconda3/lib/python3.7/site-packages/xarray/core/nanops.py\u001b[0m in \u001b[0;36mnanmax\u001b[0;34m(a, axis, out)\u001b[0m\n\u001b[1;32m     87\u001b[0m \u001b[0;34m\u001b[0m\u001b[0m\n\u001b[1;32m     88\u001b[0m     \u001b[0mmodule\u001b[0m \u001b[0;34m=\u001b[0m \u001b[0mdask_array\u001b[0m \u001b[0;32mif\u001b[0m \u001b[0misinstance\u001b[0m\u001b[0;34m(\u001b[0m\u001b[0ma\u001b[0m\u001b[0;34m,\u001b[0m \u001b[0mdask_array_type\u001b[0m\u001b[0;34m)\u001b[0m \u001b[0;32melse\u001b[0m \u001b[0mnputils\u001b[0m\u001b[0;34m\u001b[0m\u001b[0;34m\u001b[0m\u001b[0m\n\u001b[0;32m---> 89\u001b[0;31m     \u001b[0;32mreturn\u001b[0m \u001b[0mmodule\u001b[0m\u001b[0;34m.\u001b[0m\u001b[0mnanmax\u001b[0m\u001b[0;34m(\u001b[0m\u001b[0ma\u001b[0m\u001b[0;34m,\u001b[0m \u001b[0maxis\u001b[0m\u001b[0;34m=\u001b[0m\u001b[0maxis\u001b[0m\u001b[0;34m)\u001b[0m\u001b[0;34m\u001b[0m\u001b[0;34m\u001b[0m\u001b[0m\n\u001b[0m\u001b[1;32m     90\u001b[0m \u001b[0;34m\u001b[0m\u001b[0m\n\u001b[1;32m     91\u001b[0m \u001b[0;34m\u001b[0m\u001b[0m\n",
      "\u001b[0;32m~/anaconda3/lib/python3.7/site-packages/xarray/core/nputils.py\u001b[0m in \u001b[0;36mf\u001b[0;34m(values, axis, **kwds)\u001b[0m\n\u001b[1;32m    218\u001b[0m             \u001b[0;31m# bottleneck does not take care dtype, min_count\u001b[0m\u001b[0;34m\u001b[0m\u001b[0;34m\u001b[0m\u001b[0;34m\u001b[0m\u001b[0m\n\u001b[1;32m    219\u001b[0m             \u001b[0mkwds\u001b[0m\u001b[0;34m.\u001b[0m\u001b[0mpop\u001b[0m\u001b[0;34m(\u001b[0m\u001b[0;34m'dtype'\u001b[0m\u001b[0;34m,\u001b[0m \u001b[0;32mNone\u001b[0m\u001b[0;34m)\u001b[0m\u001b[0;34m\u001b[0m\u001b[0;34m\u001b[0m\u001b[0m\n\u001b[0;32m--> 220\u001b[0;31m             \u001b[0mresult\u001b[0m \u001b[0;34m=\u001b[0m \u001b[0mbn_func\u001b[0m\u001b[0;34m(\u001b[0m\u001b[0mvalues\u001b[0m\u001b[0;34m,\u001b[0m \u001b[0maxis\u001b[0m\u001b[0;34m=\u001b[0m\u001b[0maxis\u001b[0m\u001b[0;34m,\u001b[0m \u001b[0;34m**\u001b[0m\u001b[0mkwds\u001b[0m\u001b[0;34m)\u001b[0m\u001b[0;34m\u001b[0m\u001b[0;34m\u001b[0m\u001b[0m\n\u001b[0m\u001b[1;32m    221\u001b[0m         \u001b[0;32melse\u001b[0m\u001b[0;34m:\u001b[0m\u001b[0;34m\u001b[0m\u001b[0;34m\u001b[0m\u001b[0m\n\u001b[1;32m    222\u001b[0m             \u001b[0mresult\u001b[0m \u001b[0;34m=\u001b[0m \u001b[0mgetattr\u001b[0m\u001b[0;34m(\u001b[0m\u001b[0mnpmodule\u001b[0m\u001b[0;34m,\u001b[0m \u001b[0mname\u001b[0m\u001b[0;34m)\u001b[0m\u001b[0;34m(\u001b[0m\u001b[0mvalues\u001b[0m\u001b[0;34m,\u001b[0m \u001b[0maxis\u001b[0m\u001b[0;34m=\u001b[0m\u001b[0maxis\u001b[0m\u001b[0;34m,\u001b[0m \u001b[0;34m**\u001b[0m\u001b[0mkwds\u001b[0m\u001b[0;34m)\u001b[0m\u001b[0;34m\u001b[0m\u001b[0;34m\u001b[0m\u001b[0m\n",
      "\u001b[0;31mValueError\u001b[0m: numpy.nanmax raises on a.size==0 and axis=None; So Bottleneck too."
     ]
    }
   ],
   "source": [
    "# initialize vars\n",
    "lat = []\n",
    "lon = []\n",
    "t = []\n",
    "cast_id = []\n",
    "TEMP = np.full([no_profs,len(DEPTH)],np.nan)\n",
    "DOXY = np.full([no_profs,len(DEPTH)],np.nan)\n",
    "SAL = np.full([no_profs,len(DEPTH)],np.nan)\n",
    "NITRATE = np.full([no_profs,len(DEPTH)],np.nan)\n",
    "PHOSPHATE = np.full([no_profs,len(DEPTH)],np.nan)\n",
    "\n",
    "# loop through all datatypes APB, CTD, DRB, MRB, OSD, PFL, XBT\n",
    "pr = 0 # set profile counter to 0 and add 1 for each loop\n",
    "for vv, var in enumerate(varlist):\n",
    "\n",
    "    print('Processing ',var, flush=True)\n",
    "    \n",
    "\n",
    "    fns = sorted(glob.glob(inpath + '*' + var + '/wod*.nc'))\n",
    "        \n",
    "    # loop through all files of the same dataset\n",
    "    for fn in tqdm(fns):\n",
    "#     for ff in tqdm(range(10)):\n",
    "#         fn = fns[ff]\n",
    "\n",
    "        # read in file\n",
    "        ds_in = xr.open_dataset(fn)\n",
    "        \n",
    "        lat.extend([float(ds_in.lat)])\n",
    "        lon.extend([float(ds_in.lon)])\n",
    "        t.extend([np.array(ds_in.time)])\n",
    "        cast_id.append(var + '_' + str(int(ds_in.wod_unique_cast)))\n",
    "\n",
    "        if \"Temperature\" in ds_in:\n",
    "\n",
    "            #remove 'bad data'\n",
    "            temp = ds_in.Temperature[ds_in.Temperature_WODflag == 0]\n",
    "            z = ds_in.z[ds_in.Temperature_WODflag == 0]\n",
    "\n",
    "            if temp.shape[0] > 3:\n",
    "                \n",
    "                z_int = DEPTH[(DEPTH <= float(z.max())) & (DEPTH >= float(z.min()))]\n",
    "                \n",
    "                # linearly interpolate to standard levels\n",
    "                f = interp1d(z, temp)\n",
    "                temp_int = f(z_int)\n",
    "\n",
    "                # find indicies of DEPTH to fill\n",
    "                z_ind = [i for i, val in enumerate(DEPTH) if val in set(np.array(z_int))]\n",
    "\n",
    "                TEMP[pr,z_ind] = temp_int\n",
    "                \n",
    "        if \"Salinity\" in ds_in:\n",
    "\n",
    "            #remove 'bad data'\n",
    "            sal = ds_in.Salinity[ds_in.Salinity_WODflag == 0]\n",
    "            z = ds_in.z[ds_in.Salinity_WODflag == 0]\n",
    "            \n",
    "            if sal.shape[0] > 3:\n",
    "                \n",
    "                z_int = DEPTH[(DEPTH <= float(z.max())) & (DEPTH >= float(z.min()))]\n",
    "                \n",
    "                # linearly interpolate to standard levels\n",
    "                f = interp1d(z, sal)\n",
    "                sal_int = f(z_int)\n",
    "\n",
    "                # find indicies of DEPTH to fill\n",
    "                z_ind = [i for i, val in enumerate(DEPTH) if val in set(np.array(z_int))]\n",
    "\n",
    "                SAL[pr,z_ind] = sal_int\n",
    "\n",
    "        if \"Oxygen\" in ds_in:\n",
    "\n",
    "            #remove 'bad data'\n",
    "            doxy = ds_in.Oxygen[ds_in.Oxygen_WODflag == 0]\n",
    "            z = ds_in.z[ds_in.Oxygen_WODflag == 0]\n",
    "\n",
    "            if doxy.shape[0] > 3:\n",
    "                \n",
    "                z_int = DEPTH[(DEPTH <= float(z.max())) & (DEPTH >= float(z.min()))]\n",
    "                \n",
    "                # linearly interpolate to standard levels\n",
    "                f = interp1d(z, doxy)\n",
    "                doxy_int = f(z_int)\n",
    "\n",
    "                # find indicies of DEPTH to fill\n",
    "                z_ind = [i for i, val in enumerate(DEPTH) if val in set(np.array(z_int))]\n",
    "\n",
    "                DOXY[pr,z_ind] = doxy_int\n",
    "                \n",
    "        if \"Nitrate\" in ds_in:\n",
    "\n",
    "            #remove 'bad data'\n",
    "            nitrate = ds_in.Nitrate[ds_in.Nitrate_WODflag == 0]\n",
    "            z = ds_in.z[ds_in.Nitrate_WODflag == 0]\n",
    "\n",
    "            if nitrate.shape[0] > 3:\n",
    "                \n",
    "                z_int = DEPTH[(DEPTH <= float(z.max())) & (DEPTH >= float(z.min()))]\n",
    "                \n",
    "                # linearly interpolate to standard levels\n",
    "                f = interp1d(z, nitrate)\n",
    "                nitrate_int = f(z_int)\n",
    "\n",
    "                # find indicies of DEPTH to fill\n",
    "                z_ind = [i for i, val in enumerate(DEPTH) if val in set(np.array(z_int))]\n",
    "\n",
    "                NITRATE[pr,z_ind] = nitrate_int\n",
    "                \n",
    "        if \"Phosphate\" in ds_in:\n",
    "\n",
    "            #remove 'bad data'\n",
    "            phosphate = ds_in.Phosphate[ds_in.Phosphate_WODflag == 0]\n",
    "            z = ds_in.z[ds_in.Phosphate_WODflag == 0]\n",
    "\n",
    "            if phosphate.shape[0] > 3:\n",
    "                \n",
    "                z_int = DEPTH[(DEPTH <= float(z.max())) & (DEPTH >= float(z.min()))]\n",
    "                \n",
    "                # linearly interpolate to standard levels\n",
    "                f = interp1d(z, phosphate)\n",
    "                phosphate_int = f(z_int)\n",
    "\n",
    "                # find indicies of DEPTH to fill\n",
    "                z_ind = [i for i, val in enumerate(DEPTH) if val in set(np.array(z_int))]\n",
    "\n",
    "                PHOSPHATE[pr,z_ind] = phosphate_int\n",
    " \n",
    "        pr = pr +1\n",
    "        "
   ]
  },
  {
   "cell_type": "markdown",
   "metadata": {},
   "source": [
    "# Add to Dataset"
   ]
  },
  {
   "cell_type": "code",
   "execution_count": null,
   "metadata": {},
   "outputs": [],
   "source": [
    "# add to dataset\n",
    "\n",
    "#------------------------------ profiles -------------------------------------#\n",
    "coords = [no_profs,DEPTH]\n",
    "dims = ['no. profs', 'depth']\n",
    "\n",
    "ds_out['temp'] = xr.DataArray(TEMP,dims = dims,coords = coords)\n",
    "ds_out['sal'] = xr.DataArray(SAL,dims = dims,coords = coords)\n",
    "ds_out['doxy'] = xr.DataArray(DOXY,dims = dims,coords = coords)\n",
    "ds_out['nitrate'] = xr.DataArray(NITRATE,dims = dims,coords = coords)\n",
    "ds_out['phosphate'] = xr.DataArray(PHOSPHATE,dims = dims,coords = coords)"
   ]
  },
  {
   "cell_type": "markdown",
   "metadata": {},
   "source": [
    "# Sort in Time"
   ]
  },
  {
   "cell_type": "code",
   "execution_count": null,
   "metadata": {},
   "outputs": [],
   "source": []
  },
  {
   "cell_type": "markdown",
   "metadata": {},
   "source": [
    "# Subset for Indian Ocean"
   ]
  },
  {
   "cell_type": "code",
   "execution_count": null,
   "metadata": {},
   "outputs": [],
   "source": []
  },
  {
   "cell_type": "code",
   "execution_count": null,
   "metadata": {},
   "outputs": [],
   "source": [
    "# def rr_interp(prof, obs_z, target_z):\n",
    "#     '''See FAQ # 6 https://www.nodc.noaa.gov/OC5/WOD/wod-woa-faqs.html\n",
    "#      For less than 3 points = linear interpolation\n",
    "#      For 3 points = lagrangian interpolation\n",
    "#      for 4 points or larger = Reiniger-Ross interpolation\n",
    "     \n",
    "#      https://waves-vagues.dfo-mpo.gc.ca/Library/53761.pdf\n",
    "#      https://github.com/dankelley/oce/blob/develop/src/oce_approx.cpp\n",
    "#      https://rda.ucar.edu/datasets/ds285.0/docs/WOD18-UsersManual_final.pdf\n",
    "     \n",
    "#     '''\n",
    "    \n",
    "#     # remove nans\n",
    "#     y = prof(~np.isnan(prof))\n",
    "#     x = obs_z(~np.isnan(prof))\n",
    "    \n",
    "#     if y.shape < 3: # linear\n",
    "        \n",
    "#     elif y.shape < 4: # lagrangian\n",
    "        \n",
    "#     else: # RR \n",
    "        "
   ]
  }
 ],
 "metadata": {
  "kernelspec": {
   "display_name": "Python 3",
   "language": "python",
   "name": "python3"
  },
  "language_info": {
   "codemirror_mode": {
    "name": "ipython",
    "version": 3
   },
   "file_extension": ".py",
   "mimetype": "text/x-python",
   "name": "python",
   "nbconvert_exporter": "python",
   "pygments_lexer": "ipython3",
   "version": "3.7.3"
  }
 },
 "nbformat": 4,
 "nbformat_minor": 2
}
