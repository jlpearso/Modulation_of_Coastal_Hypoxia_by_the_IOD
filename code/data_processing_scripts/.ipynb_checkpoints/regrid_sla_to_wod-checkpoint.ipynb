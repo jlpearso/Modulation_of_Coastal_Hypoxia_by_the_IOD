{
 "cells": [
  {
   "cell_type": "markdown",
   "metadata": {},
   "source": [
    "# Setup"
   ]
  },
  {
   "cell_type": "code",
   "execution_count": 1,
   "metadata": {},
   "outputs": [
    {
     "name": "stdout",
     "output_type": "stream",
     "text": [
      "Default libraries loaded.\n"
     ]
    }
   ],
   "source": [
    "# import your standard packages\n",
    "%run ../pkgs.py\n",
    "%run ../pars.py\n",
    "\n",
    "# import your local functions\n",
    "sys.path.insert(1, '../')\n",
    "from local_functions import *\n",
    "\n",
    "# make sure the figures plot inline rather than at the end\n",
    "%matplotlib inline"
   ]
  },
  {
   "cell_type": "markdown",
   "metadata": {},
   "source": [
    "# Paths and Parameters"
   ]
  },
  {
   "cell_type": "code",
   "execution_count": 2,
   "metadata": {},
   "outputs": [],
   "source": [
    "outfn = '../../data/sla_to_wod.nc'\n",
    "\n",
    "\n",
    "ds_out = xr.Dataset()"
   ]
  },
  {
   "cell_type": "markdown",
   "metadata": {},
   "source": [
    "# Read Data"
   ]
  },
  {
   "cell_type": "code",
   "execution_count": 3,
   "metadata": {},
   "outputs": [
    {
     "data": {
      "text/plain": [
       "<xarray.Dataset>\n",
       "Dimensions:             (day_time: 10013, lat: 138, loc_list: 6, lon: 216, month: 12, no_stations: 495, time: 329)\n",
       "Coordinates:\n",
       "  * lon                 (lon) float64 48.62 48.88 49.12 ... 101.9 102.1 102.4\n",
       "  * lat                 (lat) float64 -1.375 -1.125 -0.875 ... 32.38 32.62 32.88\n",
       "  * time                (time) datetime64[ns] 1993-01-01 ... 2020-05-01\n",
       "  * day_time            (day_time) datetime64[ns] 1993-01-01 ... 2020-05-31\n",
       "  * month               (month) int64 1 2 3 4 5 6 7 8 9 10 11 12\n",
       "  * no_stations         (no_stations) float64 1.0 2.0 3.0 ... 493.0 494.0 495.0\n",
       "  * loc_list            (loc_list) int64 0 75 225 294 415 494\n",
       "Data variables:\n",
       "    daily_sla           (day_time, lat, lon) float64 ...\n",
       "    mon_sla             (time, lat, lon) float64 ...\n",
       "    mon_sla_mon_clim    (month, lat, lon) float64 ...\n",
       "    mon_sla_mon_anom    (time, lat, lon) float64 ...\n",
       "    daily_sla_mon_anom  (day_time, lat, lon) float64 ...\n",
       "    sta_loninds         (no_stations) int64 ...\n",
       "    sta_latinds         (no_stations) int64 ...\n",
       "    sta_lon             (no_stations) float32 ...\n",
       "    sta_lat             (no_stations) float32 ..."
      ]
     },
     "execution_count": 3,
     "metadata": {},
     "output_type": "execute_result"
    }
   ],
   "source": [
    "ds_SLA = xr.open_dataset('../../data/sla_processed.nc')\n",
    "ds_SLA"
   ]
  },
  {
   "cell_type": "code",
   "execution_count": 4,
   "metadata": {},
   "outputs": [
    {
     "data": {
      "text/plain": [
       "<xarray.Dataset>\n",
       "Dimensions:                (pres: 57, time: 314731)\n",
       "Coordinates:\n",
       "  * time                   (time) datetime64[ns] 1770-01-01 ... 2020-05-31\n",
       "  * pres                   (pres) int64 0 5 10 15 20 ... 1350 1400 1450 1500\n",
       "Data variables:\n",
       "    temp                   (time, pres) float64 ...\n",
       "    sal                    (time, pres) float64 ...\n",
       "    doxy                   (time, pres) float64 ...\n",
       "    nitrate                (time, pres) float64 ...\n",
       "    phosphate              (time, pres) float64 ...\n",
       "    lat                    (time) float32 ...\n",
       "    lon                    (time) float32 ...\n",
       "    temp_anom              (time, pres) float64 ...\n",
       "    doxy_anom              (time, pres) float64 ...\n",
       "    sal_anom               (time, pres) float64 ...\n",
       "    nitrate_anom           (time, pres) float64 ...\n",
       "    phosphate_anom         (time, pres) float64 ...\n",
       "    temp_40_200            (time) float64 ...\n",
       "    doxy_40_200            (time) float64 ...\n",
       "    sal_40_200             (time) float64 ...\n",
       "    nitrate_40_200         (time) float64 ...\n",
       "    phosphate_40_200       (time) float64 ...\n",
       "    temp_anom_40_200       (time) float64 ...\n",
       "    doxy_anom_40_200       (time) float64 ...\n",
       "    sal_anom_40_200        (time) float64 ...\n",
       "    nitrate_anom_40_200    (time) float64 ...\n",
       "    phosphate_anom_40_200  (time) float64 ...\n",
       "    temp_50_200            (time) float64 ...\n",
       "    doxy_50_200            (time) float64 ...\n",
       "    sal_50_200             (time) float64 ...\n",
       "    nitrate_50_200         (time) float64 ...\n",
       "    phosphate_50_200       (time) float64 ...\n",
       "    temp_anom_50_200       (time) float64 ...\n",
       "    doxy_anom_50_200       (time) float64 ...\n",
       "    sal_anom_50_200        (time) float64 ...\n",
       "    nitrate_anom_50_200    (time) float64 ...\n",
       "    phosphate_anom_50_200  (time) float64 ...\n",
       "    temp_50_225            (time) float64 ...\n",
       "    doxy_50_225            (time) float64 ...\n",
       "    sal_50_225             (time) float64 ...\n",
       "    nitrate_50_225         (time) float64 ...\n",
       "    phosphate_50_225       (time) float64 ...\n",
       "    temp_anom_50_225       (time) float64 ...\n",
       "    doxy_anom_50_225       (time) float64 ...\n",
       "    sal_anom_50_225        (time) float64 ...\n",
       "    nitrate_anom_50_225    (time) float64 ...\n",
       "    phosphate_anom_50_225  (time) float64 ..."
      ]
     },
     "execution_count": 4,
     "metadata": {},
     "output_type": "execute_result"
    }
   ],
   "source": [
    "ds_WOD = xr.open_dataset('../../data/wod_processed.nc')\n",
    "ds_WOD"
   ]
  },
  {
   "cell_type": "code",
   "execution_count": 5,
   "metadata": {},
   "outputs": [
    {
     "data": {
      "text/plain": [
       "<xarray.Dataset>\n",
       "Dimensions:         (lat: 138, lat_ro: 138, lat_woa: 35, loc_wod: 314731, loc_wod18: 301299, lon: 226, lon_ro: 216, lon_woa: 55)\n",
       "Coordinates:\n",
       "  * lat             (lat) float64 -1.5 -1.25 -1.0 -0.75 ... 32.25 32.5 32.75\n",
       "  * lon             (lon) float64 48.5 48.75 49.0 49.25 ... 104.2 104.5 104.8\n",
       "  * lat_ro          (lat_ro) float64 -1.375 -1.125 -0.875 ... 32.38 32.62 32.88\n",
       "  * lon_ro          (lon_ro) float64 48.62 48.88 49.12 ... 101.9 102.1 102.4\n",
       "  * lat_woa         (lat_woa) float32 -1.5 -0.5 0.5 1.5 ... 29.5 30.5 31.5 32.5\n",
       "  * lon_woa         (lon_woa) float32 48.5 49.5 50.5 51.5 ... 100.5 101.5 102.5\n",
       "  * loc_wod         (loc_wod) int64 0 1 2 3 4 ... 314727 314728 314729 314730\n",
       "  * loc_wod18       (loc_wod18) int64 0 1 2 3 4 ... 301295 301296 301297 301298\n",
       "Data variables:\n",
       "    maskw           (lat, lon) float64 ...\n",
       "    maskw_ro        (lat_ro, lon_ro) int64 ...\n",
       "    maskn           (lat, lon) float64 ...\n",
       "    maskw_woa       (lat_woa, lon_woa) bool ...\n",
       "    maskw_ro_woa    (lat_woa, lon_woa) bool ...\n",
       "    maskn_woa       (lat_woa, lon_woa) bool ...\n",
       "    maskw_wod       (loc_wod) bool ...\n",
       "    maskw_ro_wod    (loc_wod) bool ...\n",
       "    maskn_wod       (loc_wod) bool ...\n",
       "    maskw_wod118    (loc_wod18) bool ...\n",
       "    maskw_ro_wod18  (loc_wod18) bool ...\n",
       "    maskn_wod18     (loc_wod18) bool ..."
      ]
     },
     "execution_count": 5,
     "metadata": {},
     "output_type": "execute_result"
    }
   ],
   "source": [
    "ds_mask = xr.open_dataset('../../data/coastal_mask.nc')\n",
    "ds_mask"
   ]
  },
  {
   "cell_type": "markdown",
   "metadata": {},
   "source": [
    "# Regrid"
   ]
  },
  {
   "cell_type": "code",
   "execution_count": 6,
   "metadata": {},
   "outputs": [
    {
     "name": "stderr",
     "output_type": "stream",
     "text": [
      "100%|██████████| 9661/9661 [1:12:37<00:00,  2.08it/s]\n"
     ]
    }
   ],
   "source": [
    "# find unique time values of wod data\n",
    "time_key = np.unique(ds_WOD.time)\n",
    "\n",
    "# find all the days there are measurements\n",
    "full_ind = np.full((ds_SLA.daily_sla.shape[0]),False)\n",
    "\n",
    "for tt in range(time_key.shape[0]):\n",
    "    ind = ds_SLA.daily_sla.day_time == time_key[tt]\n",
    "    full_ind = full_ind + ind\n",
    "\n",
    "# take only times where awg measurements were made\n",
    "sla = np.array(ds_SLA.daily_sla[full_ind,:,:])\n",
    "sla_time = np.array(ds_SLA.daily_sla.day_time[full_ind])\n",
    "\n",
    "xx,yy = np.meshgrid(ds_SLA.lon,ds_SLA.lat)\n",
    "xx = xx.flatten()\n",
    "yy = yy.flatten()\n",
    "\n",
    "lons= np.array(ds_WOD.lon)\n",
    "lats = np.array(ds_WOD.lat)\n",
    "times = np.array(ds_WOD.time)\n",
    "\n",
    "daily_sla_WOD = np.zeros(len(times))*np.nan\n",
    "lon_WOD = np.zeros(len(times))*np.nan\n",
    "lat_WOD = np.zeros(len(times))*np.nan\n",
    "time_WOD = np.array(ds_WOD.time)\n",
    "\n",
    "for tt in tqdm(range(sla.shape[0])):\n",
    "    \n",
    "    sla_tmp = np.array(sla[tt,:,:])\n",
    "    indq = times == sla_time[tt]\n",
    "    lonq = lons[indq]\n",
    "    latq = lats[indq]\n",
    "\n",
    "    # find the lons and lats of TCD vals at this time\n",
    "\n",
    "    points = np.array( (xx,yy) ).T\n",
    "    values = sla_tmp.flatten()\n",
    "\n",
    "\n",
    "    daily_sla_WOD[indq] = griddata(points, values, (lonq,latq) ,method='linear' )\n",
    "    lon_WOD[indq] = lonq\n",
    "    lat_WOD[indq] = latq\n",
    "\n"
   ]
  },
  {
   "cell_type": "code",
   "execution_count": 7,
   "metadata": {},
   "outputs": [
    {
     "name": "stderr",
     "output_type": "stream",
     "text": [
      "ERROR:root:Internal Python error in the inspect module.\n",
      "Below is the traceback from this internal error.\n",
      "\n"
     ]
    },
    {
     "name": "stdout",
     "output_type": "stream",
     "text": [
      "Traceback (most recent call last):\n",
      "  File \"/home/jennap/anaconda3/lib/python3.7/site-packages/IPython/core/interactiveshell.py\", line 3325, in run_code\n",
      "    exec(code_obj, self.user_global_ns, self.user_ns)\n",
      "  File \"<ipython-input-7-75f9a4cd7d12>\", line 5, in <module>\n",
      "    full_ind = np.full((ds_SLA.daily_mon_sla_anom.shape[0]),False)\n",
      "  File \"/home/jennap/anaconda3/lib/python3.7/site-packages/xarray/core/common.py\", line 179, in __getattr__\n",
      "    (type(self).__name__, name))\n",
      "AttributeError: 'Dataset' object has no attribute 'daily_mon_sla_anom'\n",
      "\n",
      "During handling of the above exception, another exception occurred:\n",
      "\n",
      "Traceback (most recent call last):\n",
      "  File \"/home/jennap/anaconda3/lib/python3.7/site-packages/IPython/core/interactiveshell.py\", line 2039, in showtraceback\n",
      "    stb = value._render_traceback_()\n",
      "AttributeError: 'AttributeError' object has no attribute '_render_traceback_'\n",
      "\n",
      "During handling of the above exception, another exception occurred:\n",
      "\n",
      "Traceback (most recent call last):\n",
      "  File \"/home/jennap/anaconda3/lib/python3.7/site-packages/IPython/core/ultratb.py\", line 1101, in get_records\n",
      "    return _fixed_getinnerframes(etb, number_of_lines_of_context, tb_offset)\n",
      "  File \"/home/jennap/anaconda3/lib/python3.7/site-packages/IPython/core/ultratb.py\", line 319, in wrapped\n",
      "    return f(*args, **kwargs)\n",
      "  File \"/home/jennap/anaconda3/lib/python3.7/site-packages/IPython/core/ultratb.py\", line 353, in _fixed_getinnerframes\n",
      "    records = fix_frame_records_filenames(inspect.getinnerframes(etb, context))\n",
      "  File \"/home/jennap/anaconda3/lib/python3.7/inspect.py\", line 1502, in getinnerframes\n",
      "    frameinfo = (tb.tb_frame,) + getframeinfo(tb, context)\n",
      "  File \"/home/jennap/anaconda3/lib/python3.7/inspect.py\", line 1460, in getframeinfo\n",
      "    filename = getsourcefile(frame) or getfile(frame)\n",
      "  File \"/home/jennap/anaconda3/lib/python3.7/inspect.py\", line 696, in getsourcefile\n",
      "    if getattr(getmodule(object, filename), '__loader__', None) is not None:\n",
      "  File \"/home/jennap/anaconda3/lib/python3.7/inspect.py\", line 742, in getmodule\n",
      "    os.path.realpath(f)] = module.__name__\n",
      "AttributeError: module has no attribute '__name__'\n"
     ]
    },
    {
     "ename": "AttributeError",
     "evalue": "'Dataset' object has no attribute 'daily_mon_sla_anom'",
     "output_type": "error",
     "traceback": [
      "\u001b[0;31m---------------------------------------------------------------------------\u001b[0m"
     ]
    }
   ],
   "source": [
    "# # find unique time values of wod data\n",
    "# time_key = np.unique(ds_WOD.time)\n",
    "\n",
    "# # find all the days there are measurements\n",
    "# full_ind = np.full((ds_SLA.daily_mon_sla_anom.shape[0]),False)\n",
    "\n",
    "# for tt in range(time_key.shape[0]):\n",
    "#     ind = ds_SLA.daily_mon_sla_anom.day_time == time_key[tt]\n",
    "#     full_ind = full_ind + ind\n",
    "\n",
    "# # take only times where awg measurements were made\n",
    "# sla = np.array(ds_SLA.daily_mon_sla_anom[full_ind,:,:])\n",
    "# sla_time = np.array(ds_SLA.daily_sla.day_time[full_ind])\n",
    "\n",
    "# xx,yy = np.meshgrid(ds_SLA.lon,ds_SLA.lat)\n",
    "# xx = xx.flatten()\n",
    "# yy = yy.flatten()\n",
    "\n",
    "# lons= np.array(ds_WOD.lon)\n",
    "# lats = np.array(ds_WOD.lat)\n",
    "# times = np.array(ds_WOD.time)\n",
    "\n",
    "# daily_mon_sla_anom_WOD = np.zeros(len(times))*np.nan\n",
    "# lon_WOD = np.zeros(len(times))*np.nan\n",
    "# lat_WOD = np.zeros(len(times))*np.nan\n",
    "# time_WOD = np.array(ds_WOD.time)\n",
    "\n",
    "# for tt in tqdm(range(sla.shape[0])):\n",
    "    \n",
    "#     sla_tmp = np.array(sla[tt,:,:])\n",
    "#     indq = times == sla_time[tt]\n",
    "#     lonq = lons[indq]\n",
    "#     latq = lats[indq]\n",
    "\n",
    "#     # find the lons and lats of TCD vals at this time\n",
    "\n",
    "#     points = np.array( (xx,yy) ).T\n",
    "#     values = sla_tmp.flatten()\n",
    "\n",
    "\n",
    "#     daily_mon_sla_anom_WOD[indq] = griddata(points, values, (lonq,latq) ,method='linear' )\n",
    "#     lon_WOD[indq] = lonq\n",
    "#     lat_WOD[indq] = latq\n",
    "\n"
   ]
  },
  {
   "cell_type": "code",
   "execution_count": null,
   "metadata": {},
   "outputs": [],
   "source": [
    "# add variables to dataset\n",
    "\n",
    "# WOD\n",
    "ds_out[\"daily_sla\"]=xr.DataArray(daily_sla_WOD,dims = ['time'],\n",
    "                     coords =[time_WOD])\n",
    "ds_out[\"mon_sla_mon_anom\"]=xr.DataArray(daily_sla_WOD,dims = ['time'],\n",
    "                     coords =[time_WOD])\n",
    "ds_out[\"lon\"]=xr.DataArray(lon_WOD,dims = ['time'],\n",
    "                     coords =[time_WOD])\n",
    "ds_out[\"lat\"]=xr.DataArray(lat_WOD,dims = ['time'],\n",
    "                     coords =[time_WOD])"
   ]
  },
  {
   "cell_type": "markdown",
   "metadata": {},
   "source": [
    "# Convert to Coastal"
   ]
  },
  {
   "cell_type": "code",
   "execution_count": null,
   "metadata": {},
   "outputs": [],
   "source": [
    "#############################################################\n",
    "#----------------- Western Arabian Sea ---------------------#\n",
    "#############################################################\n",
    "\n",
    "ind_wAS = ((ds_WOD.lon <= bounds_wAS[1]) & (ds_WOD.lon >= bounds_wAS[0]) & \n",
    "              (ds_WOD.lat <= bounds_wAS[3]) & (ds_WOD.lat >= bounds_wAS[2]))\n",
    "\n",
    "#subset gridded data\n",
    "sla_wAS = ds_out.daily_sla[ind_wAS]\n",
    "lat_wAS = ds_WOD.lat[ind_wAS]\n",
    "lon_wAS = ds_WOD.lon[ind_wAS]\n",
    "time_wAS = ds_WOD.time[ind_wAS]\n",
    "mask_wAS = np.array(ds_mask.maskn_wod)[ind_wAS]\n",
    "    \n",
    "# convert to coastal\n",
    "sla_wAS = sla_wAS[mask_wAS]\n",
    "lat_wAS = lat_wAS[mask_wAS]\n",
    "lon_wAS = lon_wAS[mask_wAS]\n",
    "time_wAS = time_wAS[mask_wAS]\n",
    "\n",
    "#############################################################\n",
    "#----------------- Eastern Arabian Sea ---------------------#\n",
    "#############################################################\n",
    "\n",
    "ind_eAS = ((ds_WOD.lon <= bounds_eAS[1]) & (ds_WOD.lon >= bounds_eAS[0]) & \n",
    "              (ds_WOD.lat <= bounds_eAS[3]) & (ds_WOD.lat >= bounds_eAS[2])) \n",
    "ind_eAS_SL = ((ds_WOD.lon < bounds_eAS_SL[1]) & (ds_WOD.lon > bounds_eAS_SL[0]) & \n",
    "              (ds_WOD.lat < bounds_eAS_SL[3]) & (ds_WOD.lat > bounds_eAS_SL[2])) \n",
    "\n",
    "#subset gridded data\n",
    "sla_eAS = xr.concat((ds_out.daily_sla[ind_eAS],ds_out.daily_sla[ind_eAS_SL]), dim = 'time')\n",
    "lat_eAS = xr.concat((ds_WOD.lat[ind_eAS],ds_WOD.lat[ind_eAS_SL]), dim = 'time')\n",
    "lon_eAS = xr.concat((ds_WOD.lon[ind_eAS],ds_WOD.lon[ind_eAS_SL]), dim = 'time')\n",
    "time_eAS = sla_eAS.time\n",
    "mask_eAS = np.array(ds_mask.maskw_ro_wod)\n",
    "mask_eAS = np.concatenate((mask_eAS[ind_eAS],mask_eAS[ind_eAS_SL]),0)\n",
    "\n",
    "# convert to coastal\n",
    "sla_eAS = sla_eAS[mask_eAS]\n",
    "lat_eAS = lat_eAS[mask_eAS]\n",
    "lon_eAS = lon_eAS[mask_eAS]\n",
    "time_eAS = time_eAS[mask_eAS]\n",
    "\n",
    "# sort by time\n",
    "sla_eAS = sla_eAS.sortby(time_eAS)\n",
    "lat_eAS = lat_eAS.sortby(time_eAS)\n",
    "lon_eAS = lon_eAS.sortby(time_eAS)\n",
    "time_eAS = time_eAS.sortby(time_eAS)\n",
    "\n",
    "#############################################################\n",
    "#---------------- Western Bay of Bengal --------------------#\n",
    "#############################################################\n",
    "\n",
    "ind_wBoB = ((ds_WOD.lon <= bounds_wBoB[1]) & (ds_WOD.lon >= bounds_wBoB[0]) & \n",
    "               (ds_WOD.lat <= bounds_wBoB[3]) & (ds_WOD.lat >= bounds_wBoB[2])) \n",
    "ind_wBoB_SL = ((ds_WOD.lon < bounds_wBoB_SL[1]) & (ds_WOD.lon > bounds_wBoB_SL[0]) & \n",
    "              (ds_WOD.lat < bounds_wBoB_SL[3]) & (ds_WOD.lat > bounds_wBoB_SL[2])) \n",
    "\n",
    "#subset gridded data\n",
    "sla_wBoB = xr.concat((ds_out.daily_sla[ind_wBoB],ds_out.daily_sla[ind_wBoB_SL]), dim = 'time')\n",
    "lat_wBoB = xr.concat((ds_WOD.lat[ind_wBoB],ds_WOD.lat[ind_wBoB_SL]), dim = 'time')\n",
    "lon_wBoB = xr.concat((ds_WOD.lon[ind_wBoB],ds_WOD.lon[ind_wBoB_SL]), dim = 'time')\n",
    "time_wBoB = sla_wBoB.time\n",
    "mask_wBoB = np.array(ds_mask.maskn_wod)\n",
    "mask_wBoB = np.concatenate((mask_wBoB[ind_wBoB],mask_wBoB[ind_wBoB_SL]),0)\n",
    "    \n",
    "# convert to coastal\n",
    "sla_wBoB = sla_wBoB[mask_wBoB]\n",
    "lat_wBoB = lat_wBoB[mask_wBoB]\n",
    "lon_wBoB = lon_wBoB[mask_wBoB]\n",
    "time_wBoB = time_wBoB[mask_wBoB]\n",
    "\n",
    "# sort by time\n",
    "sla_wBoB = sla_wBoB.sortby(time_wBoB)\n",
    "lat_wBoB = lat_wBoB.sortby(time_wBoB)\n",
    "lon_wBoB = lon_wBoB.sortby(time_wBoB)\n",
    "time_wBoB = time_wBoB.sortby(time_wBoB)\n",
    "\n",
    "#############################################################\n",
    "#---------------- Eastern Bay of Bengal --------------------#\n",
    "#############################################################\n",
    "\n",
    "ind_eBoB = ((ds_WOD.lon <= bounds_eBoB[1]) & (ds_WOD.lon >= bounds_eBoB[0]) & \n",
    "               (ds_WOD.lat <= bounds_eBoB[3]) & (ds_WOD.lat >= bounds_eBoB[2])) \n",
    "\n",
    "#subset gridded data\n",
    "sla_eBoB = ds_out.daily_sla[ind_eBoB]\n",
    "lat_eBoB = ds_WOD.lat[ind_eBoB]\n",
    "lon_eBoB = ds_WOD.lon[ind_eBoB]\n",
    "time_eBoB = ds_WOD.time[ind_eBoB]\n",
    "mask_eBoB = np.array(ds_mask.maskw_ro_wod)[ind_eBoB]\n",
    "\n",
    "# convert to coastal\n",
    "sla_eBoB = sla_eBoB[mask_eBoB]\n",
    "lat_eBoB = lat_eBoB[mask_eBoB]\n",
    "lon_eBoB = lon_eBoB[mask_eBoB]\n",
    "time_eBoB = time_eBoB[mask_eBoB]\n",
    "\n",
    "plt.scatter(lon_eBoB,lat_eBoB,color = 'k', s = 1)\n",
    "plt.scatter(lon_wBoB,lat_wBoB,color = 'b', s = 1)\n",
    "plt.scatter(lon_eAS,lat_eAS,color = 'r', s = 1)\n",
    "plt.scatter(lon_wAS,lat_wAS,color = 'g', s = 1)\n",
    "\n",
    "#############################################################\n",
    "#---------------------- Save Data --------------------------#\n",
    "#############################################################\n",
    "ds_out['lat_wAS'] = xr.DataArray(lat_wAS,dims = ['time_wAS'],coords =[time_wAS])\n",
    "ds_out['lon_wAS'] = xr.DataArray(lon_wAS,dims = ['time_wAS'],coords =[time_wAS])\n",
    "ds_out['lat_eAS'] = xr.DataArray(lat_eAS,dims = ['time_eAS'],coords =[time_eAS])\n",
    "ds_out['lon_eAS'] = xr.DataArray(lon_eAS,dims = ['time_eAS'],coords =[time_eAS])\n",
    "ds_out['lat_wBoB'] = xr.DataArray(lat_wBoB,dims = ['time_wBoB'],coords =[time_wBoB])\n",
    "ds_out['lon_wBoB'] = xr.DataArray(lon_wBoB,dims = ['time_wBoB'],coords =[time_wBoB])\n",
    "ds_out['lat_eBoB'] = xr.DataArray(lat_eBoB,dims = ['time_eBoB'],coords =[time_eBoB])\n",
    "ds_out['lon_eBoB'] = xr.DataArray(lon_eBoB,dims = ['time_eBoB'],coords =[time_eBoB])\n",
    "\n",
    "# Western Arabian Sea\n",
    "ds_out['sla_wAS'] = xr.DataArray(sla_wAS,dims = ['time_wAS'],coords =[time_wAS])\n",
    "\n",
    "# Eastern Arabian Sea\n",
    "ds_out['sla_eAS'] = xr.DataArray(sla_eAS,dims = ['time_eAS'],coords =[time_eAS])\n",
    "\n",
    "# Western Bay of Bengal\n",
    "ds_out['sla_wBoB'] = xr.DataArray(sla_wBoB,dims = ['time_wBoB'],coords =[time_wBoB])\n",
    "\n",
    "# Eastern Bay of Bengal\n",
    "ds_out['sla_eBoB'] = xr.DataArray(sla_eBoB,dims = ['time_eBoB'],coords =[time_eBoB])\n",
    "\n"
   ]
  },
  {
   "cell_type": "code",
   "execution_count": null,
   "metadata": {},
   "outputs": [],
   "source": [
    "# delete if already present\n",
    "if os.path.isfile(outfn):\n",
    "    os.remove(outfn)\n",
    "\n",
    "ds_out.to_netcdf(outfn,mode='w',format = \"NETCDF4\")\n",
    "\n",
    "ds_out"
   ]
  },
  {
   "cell_type": "code",
   "execution_count": null,
   "metadata": {},
   "outputs": [],
   "source": []
  }
 ],
 "metadata": {
  "kernelspec": {
   "display_name": "Python 3",
   "language": "python",
   "name": "python3"
  },
  "language_info": {
   "codemirror_mode": {
    "name": "ipython",
    "version": 3
   },
   "file_extension": ".py",
   "mimetype": "text/x-python",
   "name": "python",
   "nbconvert_exporter": "python",
   "pygments_lexer": "ipython3",
   "version": "3.7.3"
  }
 },
 "nbformat": 4,
 "nbformat_minor": 2
}
