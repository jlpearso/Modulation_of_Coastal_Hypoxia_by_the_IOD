{
 "cells": [
  {
   "cell_type": "markdown",
   "metadata": {},
   "source": [
    "# Setup"
   ]
  },
  {
   "cell_type": "code",
   "execution_count": 1,
   "metadata": {},
   "outputs": [
    {
     "name": "stdout",
     "output_type": "stream",
     "text": [
      "Default libraries loaded.\n"
     ]
    }
   ],
   "source": [
    "# import your standard packages\n",
    "%run ../../../global-tools/start.py\n",
    "\n",
    "# import your local functions\n",
    "sys.path.insert(1, '../')\n",
    "from local_functions import *\n",
    "\n",
    "# make sure the figures plot inline rather than at the end\n",
    "%matplotlib inline"
   ]
  },
  {
   "cell_type": "markdown",
   "metadata": {},
   "source": [
    "# Parameters and Paths"
   ]
  },
  {
   "cell_type": "code",
   "execution_count": 2,
   "metadata": {},
   "outputs": [],
   "source": [
    "outfn = '../../data/sla_processed.nc'\n",
    "\n",
    "# get data from tigress\n",
    "inpath = '/home/jennap/projects/LRGROUP/shared_data/ssh-CCCS/concatenated/'\n",
    "infn = 'all_dt_global_twosat_phy_l4__vDT2018_19930101_to_20200603.nc'\n",
    "\n",
    "lat_bounds = [-1.5, 33]\n",
    "lon_bounds = [48.5, 102.5]\n",
    "time_bounds = ['1993-01-01','2020-05-31']"
   ]
  },
  {
   "cell_type": "markdown",
   "metadata": {},
   "source": [
    "# Get Data and Subset"
   ]
  },
  {
   "cell_type": "code",
   "execution_count": 3,
   "metadata": {},
   "outputs": [
    {
     "data": {
      "text/plain": [
       "<xarray.Dataset>\n",
       "Dimensions:  (lat: 138, lon: 216, time: 10013)\n",
       "Coordinates:\n",
       "  * time     (time) datetime64[ns] 1993-01-01 1993-01-02 ... 2020-05-31\n",
       "  * lat      (lat) float32 -1.375 -1.125 -0.875 -0.625 ... 32.375 32.625 32.875\n",
       "  * lon      (lon) float32 48.625 48.875 49.125 ... 101.875 102.125 102.375\n",
       "Data variables:\n",
       "    sla      (time, lat, lon) float64 ...\n",
       "Attributes:\n",
       "    date_created:               01/21/2021\n",
       "    unmerged_data_url:          https://cds.climate.copernicus.eu/cdsapp#!/da...\n",
       "    geospatial_lat_units:       decimal degrees north (-90,90)\n",
       "    geospatial_lon_units:       decimal degrees east (0,360)\n",
       "    geospatial_lat_resolution:  0.25\n",
       "    geospatial_lon_resolution:  0.25\n",
       "    sensors:                    The reference mission used for the altimeter ...\n",
       "    product_version:            vJul2020\n",
       "    processing_level:           L4\n",
       "    software_version:           6.4_DUACS_DT2018_baseline\n",
       "    platform:                   Jason-3, Sentinel-3A\n",
       "    history:                    Merged individual/*.nc\n",
       "    summary:                    SSALTO/DUACS Delayed-Time Level-4 sea surface..."
      ]
     },
     "execution_count": 3,
     "metadata": {},
     "output_type": "execute_result"
    }
   ],
   "source": [
    "ds = xr.open_dataset(inpath + infn)\n",
    "\n",
    "# Subset ------------------------------------------------#\n",
    "lat_slice = slice(lat_bounds[0], lat_bounds[1])\n",
    "lon_slice = slice(lon_bounds[0], lon_bounds[1])\n",
    "time_slice = slice(time_bounds[0],time_bounds[1])\n",
    "\n",
    "ds = ds.sel(lat=lat_slice,lon=lon_slice, time = time_slice)\n",
    "\n",
    "# Get data, selecting lat/lon slice\n",
    "daily_sla = ds['sla'].sel(lat=lat_slice,lon=lon_slice, time = time_slice)\n",
    "lat = daily_sla.lat.values\n",
    "lon = daily_sla.lon.values\n",
    "ds"
   ]
  },
  {
   "cell_type": "markdown",
   "metadata": {},
   "source": [
    "# Detrend SLA\n",
    "\n",
    "Resources: [link](https://ecco-v4-python-tutorial.readthedocs.io/ECCO_v4_Example_calculations_with_scalar_quantities.html), [link](https://groups.google.com/g/xarray/c/fz7HHgpgwk0), [link](https://stackoverflow.com/questions/28647172/numpy-polyfit-doesnt-handle-nan-values), [link](https://stackoverflow.com/questions/28647172/numpy-polyfit-doesnt-handle-nan-values), [link](https://stackoverflow.com/questions/17638137/curve-fitting-to-a-time-series-in-the-format-datetime)\n",
    "\n"
   ]
  },
  {
   "cell_type": "code",
   "execution_count": 7,
   "metadata": {},
   "outputs": [
    {
     "name": "stdout",
     "output_type": "stream",
     "text": [
      "CPU times: user 57min 20s, sys: 2min 24s, total: 59min 44s\n",
      "Wall time: 4min 20s\n"
     ]
    }
   ],
   "source": [
    "%%time\n",
    "\n",
    "# stack lat and lon into a single dimension called allpoints\n",
    "stacked = daily_sla.stack(allpoints=['lat','lon'])\n",
    "\n",
    "# set places where there are nans to zero since polyfit can't deal with them\n",
    "stacked_nonan = stacked.fillna(0)\n",
    "\n",
    "# convert date to a number to polyfit can handle it\n",
    "datenum = dates.date2num(stacked_nonan.time)\n",
    "daily_sla_slope, daily_sla_intercept = np.polyfit(datenum, stacked_nonan, 1)\n",
    "\n",
    "#reshape the data\n",
    "daily_sla_slope = np.reshape(daily_sla_slope, daily_sla.shape[1:3])\n",
    "daily_sla_intercept = np.reshape(daily_sla_intercept, daily_sla.shape[1:3])\n",
    "\n",
    "# define a function to compute a linear trend of a timeseries\n",
    "def linear_detrend(y):\n",
    "    x = dates.date2num(y.time)\n",
    "    m, b = np.polyfit(x, y, 1)\n",
    "    # we need to return a dataarray or else xarray's groupby won't be happy\n",
    "    return xr.DataArray(y - (m*x + b))\n",
    "\n",
    "# apply the function over allpoints to calculate the trend at each point\n",
    "daily_sla_dtrnd = stacked_nonan.groupby('allpoints').apply(linear_detrend)\n",
    "# unstack back to lat lon coordinates\n",
    "daily_sla_dtrnd = daily_sla_dtrnd.unstack('allpoints')\n",
    "\n",
    "# fill all points we set originally to zero back to nan\n",
    "daily_sla_dtrnd = daily_sla_dtrnd.where(~np.isnan(daily_sla))"
   ]
  },
  {
   "cell_type": "code",
   "execution_count": 8,
   "metadata": {},
   "outputs": [],
   "source": [
    "# make this plot better for SI info!"
   ]
  },
  {
   "cell_type": "code",
   "execution_count": 10,
   "metadata": {},
   "outputs": [
    {
     "name": "stderr",
     "output_type": "stream",
     "text": [
      "/home/jennap/anaconda3/lib/python3.7/site-packages/pandas/plotting/_converter.py:129: FutureWarning: Using an implicitly registered datetime converter for a matplotlib plotting method. The converter was registered by pandas on import. Future versions of pandas will require you to explicitly register matplotlib converters.\n",
      "\n",
      "To register the converters:\n",
      "\t>>> from pandas.plotting import register_matplotlib_converters\n",
      "\t>>> register_matplotlib_converters()\n",
      "  warnings.warn(msg, FutureWarning)\n"
     ]
    },
    {
     "data": {
      "text/plain": [
       "<function matplotlib.pyplot.legend(*args, **kwargs)>"
      ]
     },
     "execution_count": 10,
     "metadata": {},
     "output_type": "execute_result"
    },
    {
     "data": {
      "image/png": "[encoded data removed]",
      "text/plain": [
       "<Figure size 432x288 with 1 Axes>"
      ]
     },
     "metadata": {
      "needs_background": "light"
     },
     "output_type": "display_data"
    }
   ],
   "source": [
    "# find global means for comparison\n",
    "stacked = daily_sla.stack(allpoints=['lat','lon'])\n",
    "global_mean = stacked.mean(dim='allpoints',skipna=True)\n",
    "global_mean.plot()\n",
    "\n",
    "# find global means for comparison \n",
    "stacked = daily_sla_dtrnd.stack(allpoints=['lat','lon'])\n",
    "global_mean_dtrnd = stacked.mean(dim='allpoints',skipna=True)\n",
    "global_mean_dtrnd.plot()\n",
    "plt.legend"
   ]
  },
  {
   "cell_type": "markdown",
   "metadata": {},
   "source": [
    "# Downsample to Monthly and Seasonal Temporal Resolution"
   ]
  },
  {
   "cell_type": "code",
   "execution_count": 11,
   "metadata": {},
   "outputs": [
    {
     "name": "stderr",
     "output_type": "stream",
     "text": [
      "/home/jennap/anaconda3/lib/python3.7/site-packages/xarray/core/nanops.py:161: RuntimeWarning: Mean of empty slice\n",
      "  return np.nanmean(a, axis=axis, dtype=dtype)\n"
     ]
    }
   ],
   "source": [
    "# monthly\n",
    "mon_sla_dtrnd = daily_sla_dtrnd.resample(time='1MS').mean(dim=\"time\")"
   ]
  },
  {
   "cell_type": "markdown",
   "metadata": {},
   "source": [
    "# Find Monthly Climatology and Anomaly\n",
    "Resources: [link](http://xarray.pydata.org/en/stable/examples/monthly-means.html)"
   ]
  },
  {
   "cell_type": "code",
   "execution_count": 14,
   "metadata": {},
   "outputs": [
    {
     "name": "stderr",
     "output_type": "stream",
     "text": [
      "/home/jennap/anaconda3/lib/python3.7/site-packages/xarray/core/nanops.py:161: RuntimeWarning: Mean of empty slice\n",
      "  return np.nanmean(a, axis=axis, dtype=dtype)\n"
     ]
    }
   ],
   "source": [
    "# monthly clim\n",
    "mon_sla_mon_clim_dtrnd = monthly_clim(daily_sla_dtrnd)\n",
    "\n",
    "# monthly anom = monthly avg data - monthly climatology\n",
    "mon_sla_mon_anom_dtrnd = mon_sla_dtrnd.groupby('time.month') - mon_sla_mon_clim_dtrnd\n"
   ]
  },
  {
   "cell_type": "code",
   "execution_count": 17,
   "metadata": {},
   "outputs": [
    {
     "data": {
      "text/plain": [
       "<xarray.Dataset>\n",
       "Dimensions:           (lat: 138, lon: 216, month: 12, time: 329)\n",
       "Coordinates:\n",
       "  * lon               (lon) float64 48.62 48.88 49.12 ... 101.9 102.1 102.4\n",
       "  * lat               (lat) float64 -1.375 -1.125 -0.875 ... 32.38 32.62 32.88\n",
       "  * time              (time) datetime64[ns] 1993-01-01 1993-02-01 ... 2020-05-01\n",
       "  * month             (month) int64 1 2 3 4 5 6 7 8 9 10 11 12\n",
       "Data variables:\n",
       "    mon_sla           (time, lat, lon) float64 -0.006239 -0.007742 ... nan nan\n",
       "    mon_sla_mon_clim  (month, lat, lon) float64 -0.04307 -0.04316 ... nan nan\n",
       "    mon_sla_mon_anom  (time, lat, lon) float64 0.03683 0.03542 ... nan nan"
      ]
     },
     "execution_count": 17,
     "metadata": {},
     "output_type": "execute_result"
    }
   ],
   "source": [
    "# convert to xarray dataset\n",
    "ds_out = xr.Dataset(coords={'lon': mon_sla_dtrnd.lon,\n",
    "                    'lat': mon_sla_dtrnd.lat,\n",
    "                    'time': mon_sla_dtrnd.time})\n",
    "\n",
    "# add variables to dataset\n",
    "\n",
    "ds_out[\"mon_sla\"]=xr.DataArray(mon_sla_dtrnd,dims = ['time','lat', 'lon'],\n",
    "                     coords =[mon_sla_dtrnd.time,daily_sla_dtrnd.lat,daily_sla_dtrnd.lon])\n",
    "\n",
    "# clim\n",
    "ds_out[\"mon_sla_mon_clim\"]=xr.DataArray(mon_sla_mon_clim_dtrnd,dims = ['month','lat', 'lon'],\n",
    "                     coords =[mon_sla_mon_clim_dtrnd.month,daily_sla_dtrnd.lat,daily_sla_dtrnd.lon])\n",
    "\n",
    "# anom\n",
    "ds_out[\"mon_sla_mon_anom\"]=xr.DataArray(mon_sla_mon_anom_dtrnd,dims = ['time','lat', 'lon'],\n",
    "                   coords =[mon_sla_mon_anom_dtrnd.time,daily_sla_dtrnd.lat,daily_sla_dtrnd.lon])\n",
    "\n",
    "# delete if already present\n",
    "if os.path.isfile(outfn):\n",
    "    os.remove(outfn)\n",
    "\n",
    "ds_out.to_netcdf(outfn,mode='w',format = \"NETCDF4\")\n",
    "ds_out"
   ]
  },
  {
   "cell_type": "code",
   "execution_count": null,
   "metadata": {},
   "outputs": [],
   "source": []
  },
  {
   "cell_type": "code",
   "execution_count": null,
   "metadata": {},
   "outputs": [],
   "source": []
  },
  {
   "cell_type": "code",
   "execution_count": null,
   "metadata": {},
   "outputs": [],
   "source": []
  },
  {
   "cell_type": "code",
   "execution_count": null,
   "metadata": {},
   "outputs": [],
   "source": []
  }
 ],
 "metadata": {
  "kernelspec": {
   "display_name": "Python 3",
   "language": "python",
   "name": "python3"
  },
  "language_info": {
   "codemirror_mode": {
    "name": "ipython",
    "version": 3
   },
   "file_extension": ".py",
   "mimetype": "text/x-python",
   "name": "python",
   "nbconvert_exporter": "python",
   "pygments_lexer": "ipython3",
   "version": "3.7.3"
  }
 },
 "nbformat": 4,
 "nbformat_minor": 2
}
