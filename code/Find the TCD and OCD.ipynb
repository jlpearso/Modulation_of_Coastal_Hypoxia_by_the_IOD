{
 "cells": [
  {
   "cell_type": "markdown",
   "metadata": {},
   "source": [
    "## Load and Subset Data"
   ]
  },
  {
   "cell_type": "code",
   "execution_count": 565,
   "metadata": {},
   "outputs": [
    {
     "name": "stdout",
     "output_type": "stream",
     "text": [
      "KeysView(<xarray.Dataset>\n",
      "Dimensions:  (pres: 201, prof: 306118)\n",
      "Coordinates:\n",
      "  * pres     (pres) int32 0 5 10 15 20 25 30 35 ... 970 975 980 985 990 995 1000\n",
      "  * prof     (prof) int32 1 2 3 4 5 6 ... 306114 306115 306116 306117 306118\n",
      "Data variables:\n",
      "    type     (prof) int32 ...\n",
      "    lat      (prof) float32 ...\n",
      "    lon      (prof) float32 ...\n",
      "    time     (prof) float32 ...\n",
      "    temp     (prof, pres) float32 ...\n",
      "    psal     (prof, pres) float32 ...\n",
      "    doxy     (prof, pres) float32 ...)\n"
     ]
    }
   ],
   "source": [
    "# Packages -----------------------------------------------#\n",
    "\n",
    "# Data Analysis\n",
    "import xarray as xr\n",
    "import numpy as np\n",
    "import pandas as pd\n",
    "\n",
    "# Plotting\n",
    "import cartopy.crs as ccrs\n",
    "from cartopy.feature import LAND\n",
    "import cartopy.feature as cfeature\n",
    "import matplotlib.gridspec as gridspec\n",
    "import matplotlib.pyplot as plt\n",
    "\n",
    "# Timing Processes\n",
    "import time\n",
    "\n",
    "# make sure the figures plot inline rather than at the end\n",
    "%matplotlib inline\n",
    "\n",
    "# Get Data ----------------------------------------------#\n",
    "\n",
    "# get data from tigress - currently this is Liao's\n",
    "path = '/home/jennap/projects/LRGROUP/shared_data/Merged_ARGO_WOD_GOSHIP/'\n",
    "infn = 'Profiles_temp_psal_doxy.nc'\n",
    "\n",
    "ds = xr.open_dataset(path + infn)\n",
    "print(ds.keys())\n",
    "\n",
    "# change time variable ----------------------------------#\n",
    "# set the units to be something xarray can decode\n",
    "ds.time.attrs['units'] = 'days since 01-01-1800'\n",
    "#re-decode the dataset\n",
    "ds = xr.decode_cf(ds)"
   ]
  },
  {
   "cell_type": "code",
   "execution_count": 566,
   "metadata": {},
   "outputs": [],
   "source": [
    "# Quality Control ------------------------------------#\n",
    "\n",
    "upper_temp = ds.temp[:,ds.pres<=450]\n",
    "upper_doxy = ds.doxy[:,ds.pres<=450]\n",
    "\n",
    "# set profiles with less than 5 points or if no data above 450dbars to nans\n",
    "temp_qc = ds.temp\n",
    "temp_ind = (np.sum(~np.isnan(upper_temp),1) <5)\n",
    "temp_qc[temp_ind,:] = np.nan\n",
    "\n",
    "doxy_qc = ds.doxy\n",
    "doxy_ind = (np.sum(~np.isnan(upper_doxy),1) <5)\n",
    "doxy_qc[doxy_ind,:] = np.nan\n",
    "\n",
    "# add in the time, lat and lon values here later\n",
    "\n",
    "\n",
    "#add to dataset\n",
    "ds['temp_qc'] = temp_qc\n",
    "ds['doxy_qc'] = doxy_qc"
   ]
  },
  {
   "cell_type": "code",
   "execution_count": 576,
   "metadata": {},
   "outputs": [],
   "source": [
    "# Find one-sided dT/dp and dO/dp\n",
    "temp_grad = temp_qc.diff(\"pres\")/ds.pres.diff(\"pres\")\n",
    "doxy_grad = doxy_qc.diff(\"pres\")/ds.pres.diff(\"pres\")\n",
    "\n",
    "# average pressures\n",
    "pres_grad = (np.array(ds.pres[1:]) + np.array(ds.pres[:-1]))/2\n",
    "\n",
    "#add to dataset\n",
    "ds['temp_grad'] = xr.DataArray(temp_grad,dims = ['prof','pres_grad'],coords =[ds.prof,grad_pres])\n",
    "ds['doxy_grad'] = xr.DataArray(doxy_grad,dims = ['prof','pres_grad'],coords =[ds.prof,grad_pres])"
   ]
  },
  {
   "cell_type": "code",
   "execution_count": 577,
   "metadata": {},
   "outputs": [],
   "source": [
    "# lightly smooth profiles\n"
   ]
  },
  {
   "cell_type": "code",
   "execution_count": 589,
   "metadata": {},
   "outputs": [
    {
     "name": "stderr",
     "output_type": "stream",
     "text": [
      "/home/jennap/anaconda3/lib/python3.7/site-packages/ipykernel_launcher.py:20: RuntimeWarning: invalid value encountered in greater\n",
      "/home/jennap/anaconda3/lib/python3.7/site-packages/ipykernel_launcher.py:21: RuntimeWarning: invalid value encountered in greater\n"
     ]
    },
    {
     "data": {
      "text/plain": [
       "nan"
      ]
     },
     "execution_count": 589,
     "metadata": {},
     "output_type": "execute_result"
    }
   ],
   "source": [
    "#mask the nans in the arrays so that the functions work as expected \n",
    "temp_grad = np.ma.masked_array(ds.temp_grad, np.isnan(ds.temp_grad))\n",
    "doxy_grad = np.ma.masked_array(ds.doxy_grad, np.isnan(ds.doxy_grad))\n",
    "\n",
    "# find maximum negative gradients (min grad)\n",
    "temp_grad_min_ind = np.argmin(temp_grad,1)\n",
    "doxy_grad_min_ind = np.argmin(doxy_grad,1)\n",
    "\n",
    "# take the pressure value at the min index\n",
    "TCD = pres_grad[temp_grad_min_ind]\n",
    "OCD = pres_grad[doxy_grad_min_ind]\n",
    "TCD\n",
    "\n",
    "#set places where profiles were all nans to nan\n",
    "TCD[np.sum(~np.isnan(temp_qc),1) <1] = np.nan\n",
    "OCD[np.sum(~np.isnan(doxy_qc),1) <1] = np.nan\n",
    "\n",
    "# set all values that are lower than 450dbar to nan\n",
    "TCD[TCD > 450] = np.nan\n",
    "OCD[OCD > 450] = np.nan\n",
    "\n",
    "#add to dataset\n",
    "ds['TCD'] = xr.DataArray(TCD,dims = ['prof'],coords =[ds.prof])\n",
    "ds['OCD'] = xr.DataArray(OCD,dims = ['prof'],coords =[ds.prof])\n",
    "ds"
   ]
  },
  {
   "cell_type": "code",
   "execution_count": 579,
   "metadata": {},
   "outputs": [
    {
     "data": {
      "text/plain": [
       "[<matplotlib.lines.Line2D at 0x7f1ce434a278>]"
      ]
     },
     "execution_count": 579,
     "metadata": {},
     "output_type": "execute_result"
    },
    {
     "data": {
      "image/png": "[encoded data removed]",
      "text/plain": [
       "<Figure size 432x288 with 1 Axes>"
      ]
     },
     "metadata": {
      "needs_background": "light"
     },
     "output_type": "display_data"
    }
   ],
   "source": [
    "plt.plot(ds.doxy_grad[306113,:],-1*ds.pres_grad)"
   ]
  },
  {
   "cell_type": "code",
   "execution_count": 580,
   "metadata": {},
   "outputs": [
    {
     "data": {
      "text/plain": [
       "[<matplotlib.lines.Line2D at 0x7f1ce429cc50>]"
      ]
     },
     "execution_count": 580,
     "metadata": {},
     "output_type": "execute_result"
    },
    {
     "data": {
      "image/png": "[encoded data removed]",
      "text/plain": [
       "<Figure size 432x288 with 1 Axes>"
      ]
     },
     "metadata": {
      "needs_background": "light"
     },
     "output_type": "display_data"
    }
   ],
   "source": [
    "plt.plot(ds.doxy[306113,:],-1*ds.pres)"
   ]
  },
  {
   "cell_type": "code",
   "execution_count": 587,
   "metadata": {},
   "outputs": [
    {
     "data": {
      "text/plain": [
       "797.5"
      ]
     },
     "execution_count": 587,
     "metadata": {},
     "output_type": "execute_result"
    }
   ],
   "source": []
  },
  {
   "cell_type": "code",
   "execution_count": null,
   "metadata": {},
   "outputs": [],
   "source": []
  },
  {
   "cell_type": "code",
   "execution_count": null,
   "metadata": {},
   "outputs": [],
   "source": []
  },
  {
   "cell_type": "code",
   "execution_count": null,
   "metadata": {},
   "outputs": [],
   "source": []
  },
  {
   "cell_type": "code",
   "execution_count": 573,
   "metadata": {},
   "outputs": [
    {
     "data": {
      "text/plain": [
       "masked_array(\n",
       "  data=[[--, --, --, --, --, --, --, --, --, --],\n",
       "        [0.0, 1.0, 2.0, 3.0, 4.0, 5.0, 6.0, 7.0, 8.0, 9.0],\n",
       "        [11.0, 10.0, 9.0, 8.0, 7.0, 6.0, 5.0, 4.0, 3.0, 2.0]],\n",
       "  mask=[[ True,  True,  True,  True,  True,  True,  True,  True,  True,\n",
       "          True],\n",
       "        [False, False, False, False, False, False, False, False, False,\n",
       "         False],\n",
       "        [False, False, False, False, False, False, False, False, False,\n",
       "         False]],\n",
       "  fill_value=1e+20)"
      ]
     },
     "execution_count": 573,
     "metadata": {},
     "output_type": "execute_result"
    }
   ],
   "source": [
    "a = np.vstack(([np.nan]*10, np.arange(10), np.arange(11, 1, -1)))\n",
    "m = np.ma.masked_array(a, np.isnan(a))\n",
    "m"
   ]
  },
  {
   "cell_type": "code",
   "execution_count": 574,
   "metadata": {},
   "outputs": [
    {
     "data": {
      "text/plain": [
       "array([1, 1, 1, 1, 1, 1, 2, 2, 2, 2])"
      ]
     },
     "execution_count": 574,
     "metadata": {},
     "output_type": "execute_result"
    }
   ],
   "source": [
    "np.argmin(m, axis=0)"
   ]
  },
  {
   "cell_type": "code",
   "execution_count": 575,
   "metadata": {},
   "outputs": [
    {
     "data": {
      "text/plain": [
       "(3, 10)"
      ]
     },
     "execution_count": 575,
     "metadata": {},
     "output_type": "execute_result"
    }
   ],
   "source": [
    "a.shape"
   ]
  },
  {
   "cell_type": "code",
   "execution_count": null,
   "metadata": {},
   "outputs": [],
   "source": []
  }
 ],
 "metadata": {
  "kernelspec": {
   "display_name": "Python 3",
   "language": "python",
   "name": "python3"
  },
  "language_info": {
   "codemirror_mode": {
    "name": "ipython",
    "version": 3
   },
   "file_extension": ".py",
   "mimetype": "text/x-python",
   "name": "python",
   "nbconvert_exporter": "python",
   "pygments_lexer": "ipython3",
   "version": "3.7.3"
  }
 },
 "nbformat": 4,
 "nbformat_minor": 2
}
