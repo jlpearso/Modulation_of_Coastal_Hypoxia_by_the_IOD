{
 "cells": [
  {
   "cell_type": "markdown",
   "metadata": {},
   "source": [
    "# Setup"
   ]
  },
  {
   "cell_type": "code",
   "execution_count": 8,
   "metadata": {},
   "outputs": [
    {
     "name": "stdout",
     "output_type": "stream",
     "text": [
      "Default libraries loaded.\n"
     ]
    }
   ],
   "source": [
    "# import your standard packages\n",
    "%run ../../global_tools/start.py\n",
    "\n",
    "# import your local functions\n",
    "from local_functions import *\n",
    "\n",
    "# make sure the figures plot inline rather than at the end\n",
    "%matplotlib inline"
   ]
  },
  {
   "cell_type": "markdown",
   "metadata": {},
   "source": [
    "# Paths and Parameters"
   ]
  },
  {
   "cell_type": "code",
   "execution_count": 9,
   "metadata": {},
   "outputs": [],
   "source": [
    "# these are for grouping into the IOD years since the effects are \n",
    "# not confined to a single year. You chose this to have an even \n",
    "# number of months around the IOD peak..but now you left it in\n",
    "# line with the SLA plots that start in 06 and end in 05\n",
    "IODyear_begin = '-06-01' # month-day of IOD year\n",
    "IODyear_end = '-05-31' # month-day of year AFTER IOD year\n",
    "\n",
    "bounds_AS = [68,79,3,20]\n",
    "bounds_wBoB = [79,87,2,21]\n",
    "bounds_BoB = [87,100,0,23]\n",
    "\n",
    "#coastal mask bounds \n",
    "cm_bounds = [48.5, 102.5,-1.5, 33]"
   ]
  },
  {
   "cell_type": "markdown",
   "metadata": {},
   "source": [
    "# Get Data"
   ]
  },
  {
   "cell_type": "code",
   "execution_count": 10,
   "metadata": {},
   "outputs": [
    {
     "data": {
      "text/plain": [
       "<xarray.Dataset>\n",
       "Dimensions:           (lat: 138, lon: 216, month: 12, time: 273)\n",
       "Coordinates:\n",
       "  * time              (time) datetime64[ns] 1997-09-04 1997-10-01 ... 2020-05-01\n",
       "  * lon               (lon) float64 48.62 48.88 49.12 ... 101.9 102.1 102.4\n",
       "  * lat               (lat) float64 -1.375 -1.125 -0.875 ... 32.38 32.62 32.88\n",
       "  * month             (month) int64 1 2 3 4 5 6 7 8 9 10 11 12\n",
       "Data variables:\n",
       "    mon_chl_mon_anom  (time, lat, lon) float64 ...\n",
       "    mon_chl_mon_clim  (month, lat, lon) float64 ..."
      ]
     },
     "execution_count": 10,
     "metadata": {},
     "output_type": "execute_result"
    }
   ],
   "source": [
    "ds_CHL = xr.open_dataset('../data/chl_to_sla.nc')\n",
    "ds_CHL"
   ]
  },
  {
   "cell_type": "code",
   "execution_count": 11,
   "metadata": {},
   "outputs": [
    {
     "data": {
      "text/plain": [
       "<xarray.Dataset>\n",
       "Dimensions:           (day_time: 10013, lat: 138, loc_list: 5, lon: 216, month: 12, no_stations: 367, time: 329)\n",
       "Coordinates:\n",
       "  * lon               (lon) float64 48.62 48.88 49.12 ... 101.9 102.1 102.4\n",
       "  * lat               (lat) float64 -1.375 -1.125 -0.875 ... 32.38 32.62 32.88\n",
       "  * time              (time) datetime64[ns] 1993-01-01 1993-02-01 ... 2020-05-01\n",
       "  * day_time          (day_time) datetime64[ns] 1993-01-01 ... 2020-05-31\n",
       "  * month             (month) int64 1 2 3 4 5 6 7 8 9 10 11 12\n",
       "  * no_stations       (no_stations) float64 1.0 2.0 3.0 ... 365.0 366.0 367.0\n",
       "  * loc_list          (loc_list) int64 0 75 225 313 366\n",
       "Data variables:\n",
       "    daily_sla         (day_time, lat, lon) float64 ...\n",
       "    mon_sla           (time, lat, lon) float64 ...\n",
       "    mon_sla_mon_clim  (month, lat, lon) float64 ...\n",
       "    mon_sla_mon_anom  (time, lat, lon) float64 ...\n",
       "    sta_loninds       (no_stations) int64 ...\n",
       "    sta_latinds       (no_stations) int64 ...\n",
       "    sta_lon           (no_stations) float32 ...\n",
       "    sta_lat           (no_stations) float32 ..."
      ]
     },
     "execution_count": 11,
     "metadata": {},
     "output_type": "execute_result"
    }
   ],
   "source": [
    "ds_SLA = xr.open_dataset('../data/sla_processed.nc')\n",
    "ds_SLA"
   ]
  },
  {
   "cell_type": "code",
   "execution_count": 12,
   "metadata": {},
   "outputs": [
    {
     "data": {
      "text/plain": [
       "<xarray.Dataset>\n",
       "Dimensions:          (negyears: 10, neuyears: 40, posyears: 13, snegyears: 6, sposyears: 6, time: 744, wnegyears: 4, wposyears: 7)\n",
       "Coordinates:\n",
       "  * time             (time) datetime64[ns] 1958-06-01 1958-07-01 ... 2020-05-01\n",
       "  * posyears         (posyears) int64 1961 1963 1967 1972 ... 2015 2018 2019\n",
       "  * negyears         (negyears) int64 1960 1964 1970 1971 ... 1998 2010 2016\n",
       "  * neuyears         (neuyears) int64 1958 1959 1962 1965 ... 2014 2017 2020\n",
       "  * sposyears        (sposyears) int64 1961 1972 1994 1997 2006 2019\n",
       "  * snegyears        (snegyears) int64 1960 1964 1970 1996 1998 2016\n",
       "  * wposyears        (wposyears) int64 1963 1967 1977 1982 2012 2015 2018\n",
       "  * wnegyears        (wnegyears) int64 1971 1975 1992 2010\n",
       "Data variables:\n",
       "    dmi              (time) float64 ...\n",
       "    dmi_3mo_runmean  (time) float64 ...\n",
       "    pos_IOD_years    (posyears) int64 1961 1963 1967 1972 ... 2015 2018 2019\n",
       "    neg_IOD_years    (negyears) int64 1960 1964 1970 1971 ... 1998 2010 2016\n",
       "    neu_IOD_years    (neuyears) int64 1958 1959 1962 1965 ... 2014 2017 2020\n",
       "    spos_IOD_years   (sposyears) int64 1961 1972 1994 1997 2006 2019\n",
       "    sneg_IOD_years   (snegyears) int64 1960 1964 1970 1996 1998 2016\n",
       "    wpos_IOD_years   (wposyears) int64 1963 1967 1977 1982 2012 2015 2018\n",
       "    wneg_IOD_years   (wnegyears) int64 1971 1975 1992 2010\n",
       "    std              float64 ..."
      ]
     },
     "execution_count": 12,
     "metadata": {},
     "output_type": "execute_result"
    }
   ],
   "source": [
    "# load DMI data\n",
    "ds_DMI= xr.open_dataset('../data/dmi_processed.nc')\n",
    "\n",
    "# lists of positive iod years for now taken from sources above 1994-2018 unsure after 2016\n",
    "posIODyears = list(np.array(ds_DMI.pos_IOD_years)) #[1994,1997,2006,2012,2015]\n",
    "negIODyears = list(np.array(ds_DMI.neg_IOD_years)) #[1996,1998,2001,2010,2014,2016]\n",
    "neuIODyears = list(np.array(ds_DMI.neu_IOD_years)) # [1995,1999,2000,2002,2003,2004,2005,2007,2008,2009,2011,2012,2013]\n",
    "\n",
    "sposIODyears = list(np.array(ds_DMI.spos_IOD_years)) \n",
    "snegIODyears = list(np.array(ds_DMI.sneg_IOD_years)) \n",
    "\n",
    "wposIODyears = list(np.array(ds_DMI.wpos_IOD_years)) \n",
    "wnegIODyears = list(np.array(ds_DMI.wneg_IOD_years)) \n",
    "\n",
    "ds_DMI"
   ]
  },
  {
   "cell_type": "code",
   "execution_count": 13,
   "metadata": {},
   "outputs": [],
   "source": [
    "xx,yy = np.meshgrid(np.array(ds_CHL.lon),np.array(ds_CHL.lat))\n",
    "xx = xx.flatten()\n",
    "yy = yy.flatten()\n",
    "mask = mask_coast(xx,yy,np.array(cm_bounds))\n",
    "# mask = np.reshape(mask,xx.shape)"
   ]
  },
  {
   "cell_type": "code",
   "execution_count": 14,
   "metadata": {},
   "outputs": [],
   "source": [
    "std_anom = np.array(ds_CHL.mon_chl_mon_anom.std(dim = 'time'))\n",
    "\n",
    "std_clim = np.array(ds_CHL.mon_chl_mon_clim.std(dim = 'month'))"
   ]
  },
  {
   "cell_type": "markdown",
   "metadata": {},
   "source": [
    "# subset and SLA DMI to CHL years 1997+ and by season"
   ]
  },
  {
   "cell_type": "code",
   "execution_count": 15,
   "metadata": {},
   "outputs": [],
   "source": [
    "time_slice = slice('1997-09-01','2020-05-01')\n",
    "\n",
    "dmi = ds_DMI['dmi'].sel(time = time_slice)\n",
    "sla = ds_SLA['mon_sla_mon_anom'].sel(time = time_slice)   "
   ]
  },
  {
   "cell_type": "code",
   "execution_count": 16,
   "metadata": {},
   "outputs": [],
   "source": [
    "season = np.ones(dmi.time.shape)\n",
    "for tt in range(dmi.time.shape[0]):\n",
    "    mm = dmi.time.dt.month[tt]\n",
    "    if (mm == 12) | (mm == 1) | (mm == 2) | (mm == 3) | (mm == 4) | (mm == 5):\n",
    "        season[tt] = 0        "
   ]
  },
  {
   "cell_type": "markdown",
   "metadata": {},
   "source": [
    "# Seasonal Correlation CHL vs DMI"
   ]
  },
  {
   "cell_type": "code",
   "execution_count": 17,
   "metadata": {},
   "outputs": [
    {
     "name": "stderr",
     "output_type": "stream",
     "text": [
      " 23%|██▎       | 6819/29808 [00:05<00:20, 1129.09it/s]/home/jennap/anaconda3/lib/python3.7/site-packages/scipy/stats/_stats_mstats_common.py:130: RuntimeWarning: invalid value encountered in double_scalars\n",
      "  slope = r_num / ssxm\n",
      "/home/jennap/anaconda3/lib/python3.7/site-packages/scipy/stats/_stats_mstats_common.py:140: RuntimeWarning: invalid value encountered in sqrt\n",
      "  t = r * np.sqrt(df / ((1.0 - r + TINY)*(1.0 + r + TINY)))\n",
      "/home/jennap/anaconda3/lib/python3.7/site-packages/scipy/stats/_stats_mstats_common.py:142: RuntimeWarning: invalid value encountered in double_scalars\n",
      "  sterrest = np.sqrt((1 - r**2) * ssym / ssxm / df)\n",
      "100%|██████████| 29808/29808 [00:23<00:00, 1288.79it/s]\n",
      "100%|██████████| 29808/29808 [00:23<00:00, 1289.13it/s]\n"
     ]
    }
   ],
   "source": [
    "n = len(ds_CHL.mon_chl_mon_anom.lat)\n",
    "m = len(ds_CHL.mon_chl_mon_anom.lon)\n",
    "    \n",
    "SLOPE_dmi = np.full([n,m,2],np.nan)\n",
    "INTERCEPT_dmi = np.full([n,m,2],np.nan)\n",
    "R_VALUE_dmi = np.full([n,m,2],np.nan)\n",
    "P_VALUE_dmi = np.full([n,m,2],np.nan)\n",
    "STD_ERR_dmi = np.full([n,m,2],np.nan)\n",
    "\n",
    "for ss in range(2):\n",
    "    with tqdm(total=n * m) as pbar:\n",
    "        for ii,jj in itertools.product(np.arange(n),np.arange(m)):\n",
    "            tempvar1 = np.array(ds_CHL.mon_chl_mon_anom[:,ii,jj])\n",
    "            tempvar2 = np.array(dmi)\n",
    "            \n",
    "            #subset for season\n",
    "            ind = (season == ss)\n",
    "            tempvar1 = tempvar1[ind]\n",
    "            tempvar2 = tempvar2[ind]\n",
    "            \n",
    "            #subset for season\n",
    "            \n",
    "\n",
    "            nanmask = ~np.isnan(tempvar1)\n",
    "\n",
    "            if tempvar1[nanmask].size != 0:\n",
    "                slope, intercept, r_value, p_value, std_err=stats.linregress(tempvar1[nanmask],tempvar2[nanmask])\n",
    "\n",
    "                SLOPE_dmi[ii,jj,ss] = slope\n",
    "                INTERCEPT_dmi[ii,jj,ss] = intercept\n",
    "                R_VALUE_dmi[ii,jj,ss] = r_value\n",
    "                P_VALUE_dmi[ii,jj,ss] = p_value\n",
    "                STD_ERR_dmi[ii,jj,ss] = std_err\n",
    "\n",
    "            pbar.update(1)"
   ]
  },
  {
   "cell_type": "markdown",
   "metadata": {},
   "source": [
    "# Seasonal Correlation SLA vs DMI"
   ]
  },
  {
   "cell_type": "code",
   "execution_count": 18,
   "metadata": {},
   "outputs": [
    {
     "name": "stderr",
     "output_type": "stream",
     "text": [
      "100%|██████████| 29808/29808 [01:38<00:00, 303.61it/s]\n",
      "100%|██████████| 29808/29808 [01:37<00:00, 304.21it/s]\n"
     ]
    }
   ],
   "source": [
    "n = len(sla.lat)\n",
    "m = len(sla.lon)\n",
    "    \n",
    "SLOPE_sla_dmi = np.full([n,m,2],np.nan)\n",
    "INTERCEPT_sla_dmi = np.full([n,m,2],np.nan)\n",
    "R_VALUE_sla_dmi = np.full([n,m,2],np.nan)\n",
    "P_VALUE_sla_dmi = np.full([n,m,2],np.nan)\n",
    "STD_ERR_sla_dmi = np.full([n,m,2],np.nan)\n",
    "\n",
    "for ss in range(2):\n",
    "    with tqdm(total=n * m) as pbar:\n",
    "        for ii,jj in itertools.product(np.arange(n),np.arange(m)):\n",
    "            tempvar1 = np.array(sla[:,ii,jj])\n",
    "            tempvar2 = np.array(dmi)\n",
    "            \n",
    "            #subset for season\n",
    "            ind = (season == ss)\n",
    "            tempvar1 = tempvar1[ind]\n",
    "            tempvar2 = tempvar2[ind]\n",
    "            \n",
    "            #subset for season\n",
    "            \n",
    "\n",
    "            nanmask = ~np.isnan(tempvar1)\n",
    "\n",
    "            if tempvar1[nanmask].size != 0:\n",
    "                slope, intercept, r_value, p_value, std_err=stats.linregress(tempvar1[nanmask],tempvar2[nanmask])\n",
    "\n",
    "                SLOPE_sla_dmi[ii,jj,ss] = slope\n",
    "                INTERCEPT_sla_dmi[ii,jj,ss] = intercept\n",
    "                R_VALUE_sla_dmi[ii,jj,ss] = r_value\n",
    "                P_VALUE_sla_dmi[ii,jj,ss] = p_value\n",
    "                STD_ERR_sla_dmi[ii,jj,ss] = std_err\n",
    "\n",
    "            pbar.update(1)"
   ]
  },
  {
   "cell_type": "markdown",
   "metadata": {},
   "source": [
    "# Seasonal Correlation CHLA vs SLA"
   ]
  },
  {
   "cell_type": "code",
   "execution_count": 19,
   "metadata": {},
   "outputs": [
    {
     "name": "stderr",
     "output_type": "stream",
     "text": [
      "100%|██████████| 29808/29808 [01:49<00:00, 272.07it/s]\n",
      "100%|██████████| 29808/29808 [01:50<00:00, 270.65it/s]\n"
     ]
    }
   ],
   "source": [
    "n = len(ds_CHL.mon_chl_mon_anom.lat)\n",
    "m = len(ds_CHL.mon_chl_mon_anom.lon)\n",
    "    \n",
    "SLOPE_sla = np.full([n,m,2],np.nan)\n",
    "INTERCEPT_sla = np.full([n,m,2],np.nan)\n",
    "R_VALUE_sla = np.full([n,m,2],np.nan)\n",
    "P_VALUE_sla = np.full([n,m,2],np.nan)\n",
    "STD_ERR_sla = np.full([n,m,2],np.nan)\n",
    "\n",
    "for ss in range(2):\n",
    "    with tqdm(total=n * m) as pbar:\n",
    "        for ii,jj in itertools.product(np.arange(n),np.arange(m)):\n",
    "            tempvar1 = np.array(ds_CHL.mon_chl_mon_anom[:,ii,jj])\n",
    "            tempvar2 = np.array(sla[:,ii,jj])\n",
    "            \n",
    "            #subset for season\n",
    "            ind = (season == ss)\n",
    "            tempvar1 = tempvar1[ind]\n",
    "            tempvar2 = tempvar2[ind]\n",
    "            \n",
    "            #subset for season\n",
    "            \n",
    "\n",
    "            nanmask = ~np.isnan(tempvar1)\n",
    "\n",
    "            if tempvar1[nanmask].size != 0:\n",
    "                slope, intercept, r_value, p_value, std_err=stats.linregress(tempvar1[nanmask],tempvar2[nanmask])\n",
    "\n",
    "                SLOPE_sla[ii,jj,ss] = slope\n",
    "                INTERCEPT_sla[ii,jj,ss] = intercept\n",
    "                R_VALUE_sla[ii,jj,ss] = r_value\n",
    "                P_VALUE_sla[ii,jj,ss] = p_value\n",
    "                STD_ERR_sla[ii,jj,ss] = std_err\n",
    "\n",
    "            pbar.update(1)"
   ]
  },
  {
   "cell_type": "markdown",
   "metadata": {},
   "source": [
    "# Plot"
   ]
  },
  {
   "cell_type": "code",
   "execution_count": 20,
   "metadata": {},
   "outputs": [
    {
     "name": "stderr",
     "output_type": "stream",
     "text": [
      "/home/jennap/anaconda3/lib/python3.7/site-packages/ipykernel_launcher.py:25: RuntimeWarning: invalid value encountered in less_equal\n",
      "/home/jennap/anaconda3/lib/python3.7/site-packages/ipykernel_launcher.py:28: RuntimeWarning: invalid value encountered in less_equal\n"
     ]
    },
    {
     "ename": "IndexError",
     "evalue": "boolean index did not match indexed array along dimension 0; dimension is 29808 but corresponding boolean dimension is 6463",
     "output_type": "error",
     "traceback": [
      "\u001b[0;31m---------------------------------------------------------------------------\u001b[0m",
      "\u001b[0;31mIndexError\u001b[0m                                Traceback (most recent call last)",
      "\u001b[0;32m<ipython-input-20-f8a0527994d3>\u001b[0m in \u001b[0;36m<module>\u001b[0;34m\u001b[0m\n\u001b[1;32m     26\u001b[0m \u001b[0;31m# p = ax.scatter(xx,yy,c = tmp,marker='s',s= sz,linewidth=0,\u001b[0m\u001b[0;34m\u001b[0m\u001b[0;34m\u001b[0m\u001b[0;34m\u001b[0m\u001b[0m\n\u001b[1;32m     27\u001b[0m \u001b[0;31m#                       cmap=cmap2,vmin=cmin_corr,vmax=cmax_corr,transform=ccrs.PlateCarree())\u001b[0m\u001b[0;34m\u001b[0m\u001b[0;34m\u001b[0m\u001b[0;34m\u001b[0m\u001b[0m\n\u001b[0;32m---> 28\u001b[0;31m p = ax.scatter(xx[hatch_var <= 0.05],yy[hatch_var <= 0.05],c = tmp[hatch_var <= 0.05],marker='s',s= sz,linewidth=0,\n\u001b[0m\u001b[1;32m     29\u001b[0m                \u001b[0mcmap\u001b[0m\u001b[0;34m=\u001b[0m\u001b[0mcmap2\u001b[0m\u001b[0;34m,\u001b[0m\u001b[0mtransform\u001b[0m\u001b[0;34m=\u001b[0m\u001b[0mccrs\u001b[0m\u001b[0;34m.\u001b[0m\u001b[0mPlateCarree\u001b[0m\u001b[0;34m(\u001b[0m\u001b[0;34m)\u001b[0m\u001b[0;34m,\u001b[0m\u001b[0;34m\u001b[0m\u001b[0;34m\u001b[0m\u001b[0m\n\u001b[1;32m     30\u001b[0m                norm=mpl.colors.SymLogNorm(linthresh=0.1, linscale=1,vmin=cmin_corr,vmax=cmax_corr))\n",
      "\u001b[0;31mIndexError\u001b[0m: boolean index did not match indexed array along dimension 0; dimension is 29808 but corresponding boolean dimension is 6463"
     ]
    },
    {
     "data": {
      "image/png": "[encoded data removed]",
      "text/plain": [
       "<Figure size 2400x1600 with 1 Axes>"
      ]
     },
     "metadata": {
      "needs_background": "light"
     },
     "output_type": "display_data"
    }
   ],
   "source": [
    "fig = plt.figure(figsize=(12,8),dpi=200)\n",
    "sz = 5\n",
    "\n",
    "cmin_corr = -1\n",
    "cmax_corr = 1\n",
    "\n",
    "cmap = get_continuous_cmap(['#000000','#7A378B','#42d4f4','#D3D3D3','#DcDcDc','#F0F0F0'],\n",
    "                           [0,0.4,0.6,0.8,0.9,1])\n",
    "\n",
    "cmap2 = get_continuous_cmap(['#034f84','#92a8d1','#b7d7e8','#f0f0f0','#f7cac9','#f7786b','#c94c4c'])\n",
    "\n",
    "params = {'legend.fontsize': 14,\n",
    "         'axes.labelsize': 16,\n",
    "         'axes.titlesize': 18,\n",
    "         'xtick.labelsize':14,\n",
    "         'ytick.labelsize':14}\n",
    "pylab.rcParams.update(params)\n",
    "\n",
    "##############################################################\n",
    "\n",
    "#--------------------- DMI ---------------------------------\n",
    "ax = fig.add_subplot(221,projection= ccrs.PlateCarree())\n",
    "tmp = R_VALUE_sla[:,:,1].flatten()[mask]\n",
    "hatch_var = P_VALUE_sla[:,:,1].flatten()[mask]\n",
    "hatch_mask = hatch_var <= 0.5\n",
    "# p = ax.scatter(xx,yy,c = tmp,marker='s',s= sz,linewidth=0,\n",
    "#                       cmap=cmap2,vmin=cmin_corr,vmax=cmax_corr,transform=ccrs.PlateCarree())\n",
    "p = ax.scatter(xx[hatch_var <= 0.05],yy[hatch_var <= 0.05],c = tmp[hatch_var <= 0.05],marker='s',s= sz,linewidth=0,\n",
    "               cmap=cmap2,transform=ccrs.PlateCarree(),\n",
    "               norm=mpl.colors.SymLogNorm(linthresh=0.1, linscale=1,vmin=cmin_corr,vmax=cmax_corr))\n",
    "# ax.scatter(xx[hatch_mask],yy[hatch_mask],c = tmp[hatch_mask],marker='s',s= sz,linewidth=0,\n",
    "# ax.scatter(xx[hatch_mask],yy[hatch_mask],c = tmp[hatch_mask],marker='s',s= sz,linewidth=0,\n",
    "#                       cmap=cmap,vmin=cmin,vmax=cmax,transform=ccrs.PlateCarree())\n",
    "ax.set_title('Summer/Fall')\n",
    "ylabel_map(ax,label='CHLAn vs. SLA')\n",
    "g = add_land(ax, countries = True, rivers = True)\n",
    "g.xlocator = mticker.FixedLocator([54,78,102])\n",
    "g.xlabel_style = {'size': 14}\n",
    "g.ylabel_style = {'size': 14}\n",
    "# plt.colorbar(p,ax=ax)\n",
    "\n",
    "ax = fig.add_subplot(222,projection= ccrs.PlateCarree())\n",
    "tmp = R_VALUE_sla[:,:,0].flatten()[mask]\n",
    "hatch_var = P_VALUE_sla[:,:,0].flatten()[mask]\n",
    "hatch_mask = hatch_var <= 0.5\n",
    "# p = ax.scatter(xx,yy,c = tmp,marker='s',s= sz,linewidth=0,\n",
    "#                       cmap=cmap2,vmin=cmin_corr,vmax=cmax_corr,transform=ccrs.PlateCarree())\n",
    "p = ax.scatter(xx[hatch_var <= 0.05],yy[hatch_var <= 0.05],c = tmp[hatch_var <= 0.05],marker='s',s= sz,linewidth=0,\n",
    "               cmap=cmap2,transform=ccrs.PlateCarree(),\n",
    "              norm=mpl.colors.SymLogNorm(linthresh=0.1, linscale=1,vmin=cmin_corr,vmax=cmax_corr))\n",
    "# ax.scatter(xx[hatch_mask],yy[hatch_mask],c = tmp[hatch_mask],marker='s',s= sz,linewidth=0,\n",
    "#                       cmap=cmap,vmin=cmin,vmax=cmax,transform=ccrs.PlateCarree())\n",
    "ax.set_title('Winter/Spring')\n",
    "g = add_land(ax, countries = True, rivers = True)\n",
    "g.xlocator = mticker.FixedLocator([54,78,102])\n",
    "g.xlabel_style = {'size': 14}\n",
    "g.ylabel_style = {'size': 14}\n",
    "add_single_vert_cbar(fig,p,'Correlation Coefficient')\n",
    "\n",
    "\n",
    "#--------------------- SLA ---------------------------------\n",
    "\n",
    "ax = fig.add_subplot(223,projection= ccrs.PlateCarree())\n",
    "tmp = R_VALUE_dmi[:,:,1].flatten()[mask]\n",
    "hatch_var = P_VALUE_dmi[:,:,1].flatten()[mask]\n",
    "hatch_mask = hatch_var <= 0.5\n",
    "p = ax.scatter(xx[hatch_var <= 0.05],yy[hatch_var <= 0.05],c = tmp[hatch_var <= 0.05],marker='s',s= sz,linewidth=0,\n",
    "               cmap=cmap2,transform=ccrs.PlateCarree(),\n",
    "               norm=mpl.colors.SymLogNorm(linthresh=0.1, linscale=1,vmin=cmin_corr,vmax=cmax_corr))\n",
    "ylabel_map(ax,label='CHLAn vs. DMI')\n",
    "g = add_land(ax, countries = True, rivers = True)\n",
    "g.xlocator = mticker.FixedLocator([54,78,102])\n",
    "g.xlabel_style = {'size': 14}\n",
    "g.ylabel_style = {'size': 14}\n",
    "\n",
    "ax = fig.add_subplot(224,projection= ccrs.PlateCarree())\n",
    "tmp = R_VALUE_dmi[:,:,0].flatten()[mask]\n",
    "hatch_var = P_VALUE_dmi[:,:,0].flatten()[mask]\n",
    "hatch_mask = hatch_var <= 0.5\n",
    "p = ax.scatter(xx[hatch_var <= 0.05],yy[hatch_var <= 0.05],c = tmp[hatch_var <= 0.05],marker='s',s= sz,linewidth=0,\n",
    "               cmap=cmap2,transform=ccrs.PlateCarree(),\n",
    "              norm=mpl.colors.SymLogNorm(linthresh=0.1, linscale=1,vmin=cmin_corr,vmax=cmax_corr))\n",
    "g = add_land(ax, countries = True, rivers = True)\n",
    "g.xlocator = mticker.FixedLocator([54,78,102])\n",
    "g.xlabel_style = {'size': 14}\n",
    "g.ylabel_style = {'size': 14}\n",
    "\n",
    "\n",
    "add_single_vert_cbar(fig,p,'Correlation Coefficient')"
   ]
  },
  {
   "cell_type": "code",
   "execution_count": null,
   "metadata": {},
   "outputs": [],
   "source": [
    "fig = plt.figure(figsize=(12,8),dpi=200)\n",
    "sz = 5\n",
    "\n",
    "cmin_corr = -1\n",
    "cmax_corr = 1\n",
    "\n",
    "cmap = get_continuous_cmap(['#000000','#7A378B','#42d4f4','#D3D3D3','#DcDcDc','#F0F0F0'],\n",
    "                           [0,0.4,0.6,0.8,0.9,1])\n",
    "\n",
    "cmap2 = get_continuous_cmap(['#034f84','#92a8d1','#b7d7e8','#f0f0f0','#f7cac9','#f7786b','#c94c4c'])\n",
    "\n",
    "params = {'legend.fontsize': 14,\n",
    "         'axes.labelsize': 16,\n",
    "         'axes.titlesize': 18,\n",
    "         'xtick.labelsize':14,\n",
    "         'ytick.labelsize':14}\n",
    "pylab.rcParams.update(params)\n",
    "\n",
    "##############################################################\n",
    "\n",
    "#--------------------- DMI ---------------------------------\n",
    "ax = fig.add_subplot(221,projection= ccrs.PlateCarree())\n",
    "tmp = R_VALUE_sla[:,:,1].flatten()[mask]\n",
    "hatch_var = P_VALUE_sla[:,:,1].flatten()[mask]\n",
    "hatch_mask = hatch_var <= 0.5\n",
    "# p = ax.scatter(xx,yy,c = tmp,marker='s',s= sz,linewidth=0,\n",
    "#                       cmap=cmap2,vmin=cmin_corr,vmax=cmax_corr,transform=ccrs.PlateCarree())\n",
    "p = ax.scatter(xx[hatch_var <= 0.05],yy[hatch_var <= 0.05],c = tmp[hatch_var <= 0.05],marker='s',s= sz,linewidth=0,\n",
    "               cmap=cmap2,transform=ccrs.PlateCarree(),\n",
    "               norm=mpl.colors.SymLogNorm(linthresh=0.1, linscale=1,vmin=cmin_corr,vmax=cmax_corr))\n",
    "# ax.scatter(xx[hatch_mask],yy[hatch_mask],c = tmp[hatch_mask],marker='s',s= sz,linewidth=0,\n",
    "# ax.scatter(xx[hatch_mask],yy[hatch_mask],c = tmp[hatch_mask],marker='s',s= sz,linewidth=0,\n",
    "#                       cmap=cmap,vmin=cmin,vmax=cmax,transform=ccrs.PlateCarree())\n",
    "ax.set_title('Summer/Fall')\n",
    "ylabel_map(ax,label='CHLAn vs. SLA')\n",
    "g = add_land(ax, countries = True, rivers = True)\n",
    "g.xlocator = mticker.FixedLocator([54,78,102])\n",
    "g.xlabel_style = {'size': 14}\n",
    "g.ylabel_style = {'size': 14}\n",
    "# plt.colorbar(p,ax=ax)\n",
    "\n",
    "ax = fig.add_subplot(222,projection= ccrs.PlateCarree())\n",
    "tmp = R_VALUE_sla[:,:,0].flatten()[mask]\n",
    "hatch_var = P_VALUE_sla[:,:,0].flatten()[mask]\n",
    "hatch_mask = hatch_var <= 0.5\n",
    "# p = ax.scatter(xx,yy,c = tmp,marker='s',s= sz,linewidth=0,\n",
    "#                       cmap=cmap2,vmin=cmin_corr,vmax=cmax_corr,transform=ccrs.PlateCarree())\n",
    "p = ax.scatter(xx[hatch_var <= 0.05],yy[hatch_var <= 0.05],c = tmp[hatch_var <= 0.05],marker='s',s= sz,linewidth=0,\n",
    "               cmap=cmap2,transform=ccrs.PlateCarree(),\n",
    "              norm=mpl.colors.SymLogNorm(linthresh=0.1, linscale=1,vmin=cmin_corr,vmax=cmax_corr))\n",
    "# ax.scatter(xx[hatch_mask],yy[hatch_mask],c = tmp[hatch_mask],marker='s',s= sz,linewidth=0,\n",
    "#                       cmap=cmap,vmin=cmin,vmax=cmax,transform=ccrs.PlateCarree())\n",
    "ax.set_title('Winter/Spring')\n",
    "g = add_land(ax, countries = True, rivers = True)\n",
    "g.xlocator = mticker.FixedLocator([54,78,102])\n",
    "g.xlabel_style = {'size': 14}\n",
    "g.ylabel_style = {'size': 14}\n",
    "add_single_vert_cbar(fig,p,'Correlation Coefficient')\n",
    "\n",
    "\n",
    "#--------------------- SLA ---------------------------------\n",
    "\n",
    "ax = fig.add_subplot(223,projection= ccrs.PlateCarree())\n",
    "tmp = R_VALUE_sla_dmi[:,:,1].flatten()[mask]\n",
    "hatch_var = P_VALUE_sla_dmi[:,:,1].flatten()[mask]\n",
    "hatch_mask = hatch_var <= 0.5\n",
    "p = ax.scatter(xx[hatch_var <= 0.05],yy[hatch_var <= 0.05],c = tmp[hatch_var <= 0.05],marker='s',s= sz,linewidth=0,\n",
    "               cmap=cmap2,transform=ccrs.PlateCarree(),\n",
    "               norm=mpl.colors.SymLogNorm(linthresh=0.1, linscale=1,vmin=cmin_corr,vmax=cmax_corr))\n",
    "ylabel_map(ax,label='CHLAn vs. DMI')\n",
    "g = add_land(ax, countries = True, rivers = True)\n",
    "g.xlocator = mticker.FixedLocator([54,78,102])\n",
    "g.xlabel_style = {'size': 14}\n",
    "g.ylabel_style = {'size': 14}\n",
    "\n",
    "ax = fig.add_subplot(224,projection= ccrs.PlateCarree())\n",
    "tmp = R_VALUE_sla_dmi[:,:,0].flatten()[mask]\n",
    "hatch_var = P_sla_VALUE_dmi[:,:,0].flatten()[mask]\n",
    "hatch_mask = hatch_var <= 0.5\n",
    "p = ax.scatter(xx[hatch_var <= 0.05],yy[hatch_var <= 0.05],c = tmp[hatch_var <= 0.05],marker='s',s= sz,linewidth=0,\n",
    "               cmap=cmap2,transform=ccrs.PlateCarree(),\n",
    "              norm=mpl.colors.SymLogNorm(linthresh=0.1, linscale=1,vmin=cmin_corr,vmax=cmax_corr))\n",
    "g = add_land(ax, countries = True, rivers = True)\n",
    "g.xlocator = mticker.FixedLocator([54,78,102])\n",
    "g.xlabel_style = {'size': 14}\n",
    "g.ylabel_style = {'size': 14}\n",
    "\n",
    "\n",
    "add_single_vert_cbar(fig,p,'Correlation Coefficient')"
   ]
  },
  {
   "cell_type": "code",
   "execution_count": null,
   "metadata": {},
   "outputs": [],
   "source": []
  }
 ],
 "metadata": {
  "kernelspec": {
   "display_name": "Python 3",
   "language": "python",
   "name": "python3"
  },
  "language_info": {
   "codemirror_mode": {
    "name": "ipython",
    "version": 3
   },
   "file_extension": ".py",
   "mimetype": "text/x-python",
   "name": "python",
   "nbconvert_exporter": "python",
   "pygments_lexer": "ipython3",
   "version": "3.7.3"
  }
 },
 "nbformat": 4,
 "nbformat_minor": 2
}
