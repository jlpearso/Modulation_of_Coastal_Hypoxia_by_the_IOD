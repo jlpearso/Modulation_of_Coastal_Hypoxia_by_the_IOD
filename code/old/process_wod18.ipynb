{
 "cells": [
  {
   "cell_type": "markdown",
   "metadata": {},
   "source": [
    "# Setup\n",
    "\n",
    "You are just subsetting the beginning to august 2020 file to be before 2018."
   ]
  },
  {
   "cell_type": "code",
   "execution_count": 1,
   "metadata": {},
   "outputs": [
    {
     "name": "stdout",
     "output_type": "stream",
     "text": [
      "Default libraries loaded.\n"
     ]
    }
   ],
   "source": [
    "# import your standard packages\n",
    "%run ../pkgs.py\n",
    "\n",
    "# import your local functions\n",
    "sys.path.insert(1, '../')\n",
    "from local_functions import *\n",
    "\n",
    "# make sure the figures plot inline rather than at the end\n",
    "%matplotlib inline"
   ]
  },
  {
   "cell_type": "markdown",
   "metadata": {},
   "source": [
    "# Parameters and Paths"
   ]
  },
  {
   "cell_type": "code",
   "execution_count": 2,
   "metadata": {},
   "outputs": [],
   "source": [
    "inpath = \"../../data/wod_processed.nc\"\n",
    "outfn = '../../data/wod18_processed.nc'\n",
    "\n",
    "time_slice = slice('1700-01-01', '2018-12-31')"
   ]
  },
  {
   "cell_type": "markdown",
   "metadata": {},
   "source": [
    "# Get Data"
   ]
  },
  {
   "cell_type": "code",
   "execution_count": 3,
   "metadata": {},
   "outputs": [
    {
     "data": {
      "text/plain": [
       "<xarray.Dataset>\n",
       "Dimensions:           (pres: 57, time: 312726)\n",
       "Coordinates:\n",
       "  * time              (time) datetime64[ns] 1948-03-14 1948-03-28 ... 2020-05-31\n",
       "  * pres              (pres) int64 0 5 10 15 20 25 ... 1300 1350 1400 1450 1500\n",
       "Data variables:\n",
       "    temp              (time, pres) float64 ...\n",
       "    sal               (time, pres) float64 ...\n",
       "    doxy              (time, pres) float64 ...\n",
       "    nitrate           (time, pres) float64 ...\n",
       "    phosphate         (time, pres) float64 ...\n",
       "    lat               (time) float32 ...\n",
       "    lon               (time) float32 ...\n",
       "    cast_id           (time) object ...\n",
       "    temp_40_200       (time) float64 ...\n",
       "    doxy_40_200       (time) float64 ...\n",
       "    sal_40_200        (time) float64 ...\n",
       "    nitrate_40_200    (time) float64 ...\n",
       "    temp_50_200       (time) float64 ...\n",
       "    doxy_50_200       (time) float64 ...\n",
       "    sal_50_200        (time) float64 ...\n",
       "    nitrate_50_200    (time) float64 ...\n",
       "    temp_50_225       (time) float64 ...\n",
       "    doxy_50_225       (time) float64 ...\n",
       "    sal_50_225        (time) float64 ...\n",
       "    nitrate_50_225    (time) float64 ...\n",
       "    phosphate_40_200  (time) float64 ...\n",
       "    phosphate_50_200  (time) float64 ...\n",
       "    phosphate_50_225  (time) float64 ..."
      ]
     },
     "execution_count": 3,
     "metadata": {},
     "output_type": "execute_result"
    }
   ],
   "source": [
    "ds_in = xr.open_dataset(inpath)\n",
    "ds_in"
   ]
  },
  {
   "cell_type": "markdown",
   "metadata": {},
   "source": [
    "# Subset"
   ]
  },
  {
   "cell_type": "code",
   "execution_count": 4,
   "metadata": {},
   "outputs": [
    {
     "data": {
      "text/plain": [
       "<xarray.Dataset>\n",
       "Dimensions:           (pres: 57, time: 299294)\n",
       "Coordinates:\n",
       "  * time              (time) datetime64[ns] 1948-03-14 1948-03-28 ... 2018-12-31\n",
       "  * pres              (pres) int64 0 5 10 15 20 25 ... 1300 1350 1400 1450 1500\n",
       "Data variables:\n",
       "    temp              (time, pres) float64 ...\n",
       "    sal               (time, pres) float64 ...\n",
       "    doxy              (time, pres) float64 ...\n",
       "    nitrate           (time, pres) float64 ...\n",
       "    phosphate         (time, pres) float64 ...\n",
       "    lat               (time) float32 ...\n",
       "    lon               (time) float32 ...\n",
       "    cast_id           (time) object ...\n",
       "    temp_40_200       (time) float64 ...\n",
       "    doxy_40_200       (time) float64 ...\n",
       "    sal_40_200        (time) float64 ...\n",
       "    nitrate_40_200    (time) float64 ...\n",
       "    temp_50_200       (time) float64 ...\n",
       "    doxy_50_200       (time) float64 ...\n",
       "    sal_50_200        (time) float64 ...\n",
       "    nitrate_50_200    (time) float64 ...\n",
       "    temp_50_225       (time) float64 ...\n",
       "    doxy_50_225       (time) float64 ...\n",
       "    sal_50_225        (time) float64 ...\n",
       "    nitrate_50_225    (time) float64 ...\n",
       "    phosphate_40_200  (time) float64 ...\n",
       "    phosphate_50_200  (time) float64 ...\n",
       "    phosphate_50_225  (time) float64 ..."
      ]
     },
     "execution_count": 4,
     "metadata": {},
     "output_type": "execute_result"
    }
   ],
   "source": [
    "ds_out = ds_in.sel(time = time_slice)\n",
    "ds_out"
   ]
  },
  {
   "cell_type": "markdown",
   "metadata": {},
   "source": [
    "# Save Data"
   ]
  },
  {
   "cell_type": "code",
   "execution_count": 5,
   "metadata": {},
   "outputs": [
    {
     "data": {
      "text/plain": [
       "<xarray.Dataset>\n",
       "Dimensions:           (pres: 57, time: 299294)\n",
       "Coordinates:\n",
       "  * time              (time) datetime64[ns] 1948-03-14 1948-03-28 ... 2018-12-31\n",
       "  * pres              (pres) int64 0 5 10 15 20 25 ... 1300 1350 1400 1450 1500\n",
       "Data variables:\n",
       "    temp              (time, pres) float64 ...\n",
       "    sal               (time, pres) float64 ...\n",
       "    doxy              (time, pres) float64 ...\n",
       "    nitrate           (time, pres) float64 ...\n",
       "    phosphate         (time, pres) float64 ...\n",
       "    lat               (time) float32 ...\n",
       "    lon               (time) float32 ...\n",
       "    cast_id           (time) object ...\n",
       "    temp_40_200       (time) float64 ...\n",
       "    doxy_40_200       (time) float64 ...\n",
       "    sal_40_200        (time) float64 ...\n",
       "    nitrate_40_200    (time) float64 ...\n",
       "    temp_50_200       (time) float64 ...\n",
       "    doxy_50_200       (time) float64 ...\n",
       "    sal_50_200        (time) float64 ...\n",
       "    nitrate_50_200    (time) float64 ...\n",
       "    temp_50_225       (time) float64 ...\n",
       "    doxy_50_225       (time) float64 ...\n",
       "    sal_50_225        (time) float64 ...\n",
       "    nitrate_50_225    (time) float64 ...\n",
       "    phosphate_40_200  (time) float64 ...\n",
       "    phosphate_50_200  (time) float64 ...\n",
       "    phosphate_50_225  (time) float64 ..."
      ]
     },
     "execution_count": 5,
     "metadata": {},
     "output_type": "execute_result"
    }
   ],
   "source": [
    "# delete if already present\n",
    "if os.path.isfile(outfn):\n",
    "    os.remove(outfn)\n",
    "\n",
    "ds_out.to_netcdf(outfn,mode='w',format = \"NETCDF4\")\n",
    "ds_out"
   ]
  },
  {
   "cell_type": "code",
   "execution_count": 6,
   "metadata": {},
   "outputs": [
    {
     "data": {
      "text/plain": [
       "<matplotlib.collections.PathCollection at 0x7fe8dc067278>"
      ]
     },
     "execution_count": 6,
     "metadata": {},
     "output_type": "execute_result"
    },
    {
     "data": {
      "image/png": "[encoded data removed]",
      "text/plain": [
       "<Figure size 432x288 with 1 Axes>"
      ]
     },
     "metadata": {
      "needs_background": "light"
     },
     "output_type": "display_data"
    }
   ],
   "source": [
    "plt.scatter(ds_out.lon,ds_out.lat, s = 1)"
   ]
  },
  {
   "cell_type": "code",
   "execution_count": null,
   "metadata": {},
   "outputs": [],
   "source": []
  }
 ],
 "metadata": {
  "kernelspec": {
   "display_name": "Python 3",
   "language": "python",
   "name": "python3"
  },
  "language_info": {
   "codemirror_mode": {
    "name": "ipython",
    "version": 3
   },
   "file_extension": ".py",
   "mimetype": "text/x-python",
   "name": "python",
   "nbconvert_exporter": "python",
   "pygments_lexer": "ipython3",
   "version": "3.7.3"
  }
 },
 "nbformat": 4,
 "nbformat_minor": 2
}
