{
 "cells": [
  {
   "cell_type": "markdown",
   "metadata": {},
   "source": [
    "# Setup"
   ]
  },
  {
   "cell_type": "code",
   "execution_count": 1,
   "metadata": {},
   "outputs": [
    {
     "name": "stdout",
     "output_type": "stream",
     "text": [
      "Default libraries loaded.\n"
     ]
    }
   ],
   "source": [
    "# import your standard packages\n",
    "%run ../../../global_tools/start.py\n",
    "\n",
    "# import your local functions\n",
    "sys.path.insert(1, '../../code/')\n",
    "from local_functions import *\n",
    "\n",
    "# make sure the figures plot inline rather than at the end\n",
    "%matplotlib inline\n"
   ]
  },
  {
   "cell_type": "markdown",
   "metadata": {},
   "source": [
    "# Paths and Parameters"
   ]
  },
  {
   "cell_type": "code",
   "execution_count": 2,
   "metadata": {},
   "outputs": [],
   "source": [
    "outfn = '../../data/chl_to_woa.nc'"
   ]
  },
  {
   "cell_type": "markdown",
   "metadata": {},
   "source": [
    "# Read Data"
   ]
  },
  {
   "cell_type": "code",
   "execution_count": 3,
   "metadata": {},
   "outputs": [
    {
     "data": {
      "text/plain": [
       "<xarray.Dataset>\n",
       "Dimensions:           (lat: 828, lon: 1296, month: 12, time: 273)\n",
       "Coordinates:\n",
       "  * lon               (lon) float64 48.52 48.56 48.6 48.65 ... 102.4 102.4 102.5\n",
       "  * lat               (lat) float64 -1.479 -1.438 -1.396 ... 32.9 32.94 32.98\n",
       "  * time              (time) datetime64[ns] 1997-09-04 1997-10-01 ... 2020-05-01\n",
       "  * month             (month) int64 1 2 3 4 5 6 7 8 9 10 11 12\n",
       "Data variables:\n",
       "    mon_chl           (time, lat, lon) float64 ...\n",
       "    mon_chl_mon_clim  (month, lat, lon) float64 ...\n",
       "    mon_chl_mon_anom  (time, lat, lon) float64 ..."
      ]
     },
     "execution_count": 3,
     "metadata": {},
     "output_type": "execute_result"
    }
   ],
   "source": [
    "# SLA\n",
    "ds_CHL = xr.open_dataset('../../data/chl_processed.nc')\n",
    "ds_CHL"
   ]
  },
  {
   "cell_type": "code",
   "execution_count": 4,
   "metadata": {},
   "outputs": [
    {
     "data": {
      "text/plain": [
       "<xarray.Dataset>\n",
       "Dimensions:                      (coastal_loc: 1925, depth: 57, lat: 35, lon: 55, lonmin,lonmax,latmin,latmax: 4, month: 12)\n",
       "Coordinates:\n",
       "  * month                        (month) int64 1 2 3 4 5 6 7 8 9 10 11 12\n",
       "  * depth                        (depth) float32 0.0 5.0 10.0 ... 1450.0 1500.0\n",
       "  * lon                          (lon) float32 48.5 49.5 50.5 ... 101.5 102.5\n",
       "  * lat                          (lat) float32 -1.5 -0.5 0.5 ... 30.5 31.5 32.5\n",
       "  * coastal_loc                  (coastal_loc) int64 0 1 2 3 ... 1922 1923 1924\n",
       "  * lonmin,lonmax,latmin,latmax  (lonmin,lonmax,latmin,latmax) int64 0 1 2 3\n",
       "Data variables:\n",
       "    temp                         (month, depth, lat, lon) float64 ...\n",
       "    psal                         (month, depth, lat, lon) float64 ...\n",
       "    doxy                         (month, depth, lat, lon) float64 ...\n",
       "    nitrate                      (month, depth, lat, lon) float64 ...\n",
       "    phosphate                    (month, depth, lat, lon) float64 ...\n",
       "    pres                         (depth, lat, lon) float64 ...\n",
       "    temp_40_200                  (month, lat, lon) float64 ...\n",
       "    doxy_40_200                  (month, lat, lon) float64 ...\n",
       "    psal_40_200                  (month, lat, lon) float64 ...\n",
       "    nitrate_40_200               (month, lat, lon) float64 ...\n",
       "    phosphate_40_200             (month, lat, lon) float64 ...\n",
       "    temp_50_200                  (month, lat, lon) float64 ...\n",
       "    doxy_50_200                  (month, lat, lon) float64 ...\n",
       "    psal_50_200                  (month, lat, lon) float64 ...\n",
       "    nitrate_50_200               (month, lat, lon) float64 ...\n",
       "    phosphate_50_200             (month, lat, lon) float64 ...\n",
       "    temp_60_200                  (month, lat, lon) float64 ...\n",
       "    doxy_60_200                  (month, lat, lon) float64 ...\n",
       "    psal_60_200                  (month, lat, lon) float64 ...\n",
       "    nitrate_60_200               (month, lat, lon) float64 ...\n",
       "    phosphate_60_200             (month, lat, lon) float64 ...\n",
       "    temp_40_200_ann_mean         (lat, lon) float64 ...\n",
       "    doxy_40_200_ann_mean         (lat, lon) float64 ...\n",
       "    psal_40_200_ann_mean         (lat, lon) float64 ...\n",
       "    nitrate_40_200_ann_mean      (lat, lon) float64 ...\n",
       "    phosphate_40_200_ann_mean    (lat, lon) float64 ...\n",
       "    temp_50_200_ann_mean         (lat, lon) float64 ...\n",
       "    doxy_50_200_ann_mean         (lat, lon) float64 ...\n",
       "    psal_50_200_ann_mean         (lat, lon) float64 ...\n",
       "    nitrate_50_200_ann_mean      (lat, lon) float64 ...\n",
       "    phosphate_50_200_ann_mean    (lat, lon) float64 ...\n",
       "    temp_60_200_ann_mean         (lat, lon) float64 ...\n",
       "    doxy_60_200_ann_mean         (lat, lon) float64 ...\n",
       "    psal_60_200_ann_mean         (lat, lon) float64 ...\n",
       "    nitrat_60_200_ann_mean       (lat, lon) float64 ...\n",
       "    phosphate_60_200_ann_mean    (lat, lon) float64 ...\n",
       "    temp_40_200_anom             (month, lat, lon) float64 ...\n",
       "    doxy_40_200_anom             (month, lat, lon) float64 ...\n",
       "    psal_40_200_anom             (month, lat, lon) float64 ...\n",
       "    nitrate_40_200_anom          (month, lat, lon) float64 ...\n",
       "    phosphate_40_200_anom        (month, lat, lon) float64 ...\n",
       "    temp_50_200_anom             (month, lat, lon) float64 ...\n",
       "    doxy_50_200_anom             (month, lat, lon) float64 ...\n",
       "    psal_50_200_anom             (month, lat, lon) float64 ...\n",
       "    nitrate_50_200_anom          (month, lat, lon) float64 ...\n",
       "    phosphate_50_200_anom        (month, lat, lon) float64 ...\n",
       "    temp_60_200_anom             (month, lat, lon) float64 ...\n",
       "    doxy_60_200_anom             (month, lat, lon) float64 ...\n",
       "    psal_60_200_anom             (month, lat, lon) float64 ...\n",
       "    nitrate_60_200_anom          (month, lat, lon) float64 ...\n",
       "    phosphate_60_200_anom        (month, lat, lon) float64 ...\n",
       "    coastal_mask                 (coastal_loc) bool ...\n",
       "    coastal_mask_xx              (coastal_loc) float32 ...\n",
       "    coastal_mask_yy              (coastal_loc) float32 ...\n",
       "    coastal_mask_bounds          (lonmin,lonmax,latmin,latmax) float64 ..."
      ]
     },
     "execution_count": 4,
     "metadata": {},
     "output_type": "execute_result"
    }
   ],
   "source": [
    "# WOA\n",
    "infn_WOA = '../../data/woa_processed.nc'\n",
    "\n",
    "ds_WOA = xr.open_dataset(infn_WOA)\n",
    "ds_WOA"
   ]
  },
  {
   "cell_type": "markdown",
   "metadata": {},
   "source": [
    "# Process"
   ]
  },
  {
   "cell_type": "code",
   "execution_count": 5,
   "metadata": {},
   "outputs": [
    {
     "name": "stderr",
     "output_type": "stream",
     "text": [
      "100%|██████████| 12/12 [04:51<00:00, 22.76s/it]\n"
     ]
    }
   ],
   "source": [
    "xx,yy = np.meshgrid(ds_CHL.lon,ds_CHL.lat)\n",
    "xx = xx.flatten()\n",
    "yy = yy.flatten()\n",
    "\n",
    "xx_WOA,yy_WOA = np.meshgrid(ds_WOA.lon,ds_WOA.lat)\n",
    "\n",
    "mon_chl_mon_clim_WOA = np.zeros((len(ds_WOA.month),len(ds_WOA.lat),len(ds_WOA.lon)))*np.nan\n",
    "\n",
    "for tt in tqdm(range(len(ds_WOA.month))):\n",
    "\n",
    "    temp_sla = np.array(ds_CHL.mon_chl_mon_clim[tt,:,:])\n",
    "\n",
    "    # find the lons and lats of TCD vals at this time\n",
    "\n",
    "    points = np.array( (xx,yy) ).T\n",
    "    temp_values = temp_sla.flatten()\n",
    "\n",
    "    mon_chl_mon_clim_WOA[tt,:,:] = griddata(points, temp_values, (xx_WOA,yy_WOA) ,method='linear')\n",
    "\n",
    "ds_out = xr.Dataset(coords={'month': ds_WOA.month,\n",
    "                        'lon': ds_WOA.lon,\n",
    "                        'lat': ds_WOA.lat})\n",
    "coords = [ds_WOA.month,ds_WOA.lat,ds_WOA.lon]\n",
    "dims = ['month','lat','lon']\n",
    "\n",
    "# add to dataset\n",
    "ds_out['mon_chl_mon_clim'] = xr.DataArray(mon_chl_mon_clim_WOA,dims = dims,coords = coords)\n",
    "\n"
   ]
  },
  {
   "cell_type": "markdown",
   "metadata": {},
   "source": [
    "# Sample Plot"
   ]
  },
  {
   "cell_type": "code",
   "execution_count": 6,
   "metadata": {},
   "outputs": [
    {
     "data": {
      "text/plain": [
       "Text(0.5, 1.0, 'Original')"
      ]
     },
     "execution_count": 6,
     "metadata": {},
     "output_type": "execute_result"
    },
    {
     "data": {
      "image/png": "[encoded data removed]",
      "text/plain": [
       "<Figure size 432x288 with 1 Axes>"
      ]
     },
     "metadata": {
      "needs_background": "light"
     },
     "output_type": "display_data"
    }
   ],
   "source": [
    "plt.pcolor(ds_CHL.mon_chl_mon_clim[0,:,:])\n",
    "plt.title('Original')"
   ]
  },
  {
   "cell_type": "code",
   "execution_count": 7,
   "metadata": {},
   "outputs": [
    {
     "data": {
      "text/plain": [
       "Text(0.5, 1.0, 'Regridded')"
      ]
     },
     "execution_count": 7,
     "metadata": {},
     "output_type": "execute_result"
    },
    {
     "data": {
      "image/png": "[encoded data removed]",
      "text/plain": [
       "<Figure size 432x288 with 1 Axes>"
      ]
     },
     "metadata": {
      "needs_background": "light"
     },
     "output_type": "display_data"
    }
   ],
   "source": [
    "plt.pcolor(ds_out.mon_chl_mon_clim[0,:,:])\n",
    "plt.title('Regridded')"
   ]
  },
  {
   "cell_type": "markdown",
   "metadata": {},
   "source": [
    "# SAVE"
   ]
  },
  {
   "cell_type": "code",
   "execution_count": 8,
   "metadata": {},
   "outputs": [
    {
     "data": {
      "text/plain": [
       "<xarray.Dataset>\n",
       "Dimensions:           (lat: 35, lon: 55, month: 12)\n",
       "Coordinates:\n",
       "  * month             (month) int64 1 2 3 4 5 6 7 8 9 10 11 12\n",
       "  * lon               (lon) float32 48.5 49.5 50.5 51.5 ... 100.5 101.5 102.5\n",
       "  * lat               (lat) float32 -1.5 -0.5 0.5 1.5 ... 29.5 30.5 31.5 32.5\n",
       "Data variables:\n",
       "    mon_chl_mon_clim  (month, lat, lon) float64 nan nan nan nan ... nan nan nan"
      ]
     },
     "execution_count": 8,
     "metadata": {},
     "output_type": "execute_result"
    }
   ],
   "source": [
    "# delete if already present\n",
    "if os.path.isfile(outfn):\n",
    "    os.remove(outfn)\n",
    "\n",
    "ds_out.to_netcdf(outfn,mode='w',format = \"NETCDF4\")\n",
    "ds_out"
   ]
  },
  {
   "cell_type": "code",
   "execution_count": null,
   "metadata": {},
   "outputs": [],
   "source": []
  }
 ],
 "metadata": {
  "kernelspec": {
   "display_name": "Python 3",
   "language": "python",
   "name": "python3"
  },
  "language_info": {
   "codemirror_mode": {
    "name": "ipython",
    "version": 3
   },
   "file_extension": ".py",
   "mimetype": "text/x-python",
   "name": "python",
   "nbconvert_exporter": "python",
   "pygments_lexer": "ipython3",
   "version": "3.7.3"
  }
 },
 "nbformat": 4,
 "nbformat_minor": 2
}
