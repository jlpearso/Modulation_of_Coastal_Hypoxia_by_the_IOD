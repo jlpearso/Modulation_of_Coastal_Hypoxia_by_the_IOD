{
 "cells": [
  {
   "cell_type": "markdown",
   "metadata": {},
   "source": [
    "# Setup"
   ]
  },
  {
   "cell_type": "code",
   "execution_count": 1,
   "metadata": {},
   "outputs": [
    {
     "name": "stdout",
     "output_type": "stream",
     "text": [
      "Default libraries loaded.\n"
     ]
    }
   ],
   "source": [
    "# import your standard packages\n",
    "%run ../pkgs.py\n",
    "%run ../pars.py\n",
    "\n",
    "# import your local functions\n",
    "sys.path.insert(1, '../')\n",
    "from local_functions import *\n",
    "\n",
    "# make sure the figures plot inline rather than at the end\n",
    "%matplotlib inline"
   ]
  },
  {
   "cell_type": "markdown",
   "metadata": {},
   "source": [
    "# Paths and Parameters"
   ]
  },
  {
   "cell_type": "code",
   "execution_count": 2,
   "metadata": {},
   "outputs": [],
   "source": [
    "outfn = '../../data/sla_to_wod18.nc'\n",
    "\n",
    "ds_out = xr.Dataset()"
   ]
  },
  {
   "cell_type": "markdown",
   "metadata": {},
   "source": [
    "# Read Data"
   ]
  },
  {
   "cell_type": "code",
   "execution_count": 3,
   "metadata": {},
   "outputs": [
    {
     "data": {
      "text/plain": [
       "<xarray.Dataset>\n",
       "Dimensions:             (day_time: 10013, lat: 138, loc_list: 6, lon: 216, month: 12, no_stations: 495, time: 329)\n",
       "Coordinates:\n",
       "  * lon                 (lon) float64 48.62 48.88 49.12 ... 101.9 102.1 102.4\n",
       "  * lat                 (lat) float64 -1.375 -1.125 -0.875 ... 32.38 32.62 32.88\n",
       "  * time                (time) datetime64[ns] 1993-01-01 ... 2020-05-01\n",
       "  * day_time            (day_time) datetime64[ns] 1993-01-01 ... 2020-05-31\n",
       "  * month               (month) int64 1 2 3 4 5 6 7 8 9 10 11 12\n",
       "  * no_stations         (no_stations) float64 1.0 2.0 3.0 ... 493.0 494.0 495.0\n",
       "  * loc_list            (loc_list) int64 0 75 225 294 415 494\n",
       "Data variables:\n",
       "    daily_sla           (day_time, lat, lon) float64 ...\n",
       "    mon_sla             (time, lat, lon) float64 ...\n",
       "    mon_sla_mon_clim    (month, lat, lon) float64 ...\n",
       "    mon_sla_mon_anom    (time, lat, lon) float64 ...\n",
       "    daily_sla_mon_anom  (day_time, lat, lon) float64 ...\n",
       "    sta_loninds         (no_stations) int64 ...\n",
       "    sta_latinds         (no_stations) int64 ...\n",
       "    sta_lon             (no_stations) float32 ...\n",
       "    sta_lat             (no_stations) float32 ..."
      ]
     },
     "execution_count": 3,
     "metadata": {},
     "output_type": "execute_result"
    }
   ],
   "source": [
    "ds_SLA = xr.open_dataset('../../data/sla_processed.nc')\n",
    "ds_SLA"
   ]
  },
  {
   "cell_type": "code",
   "execution_count": 4,
   "metadata": {},
   "outputs": [
    {
     "data": {
      "text/plain": [
       "<xarray.Dataset>\n",
       "Dimensions:           (pres: 57, time: 299294)\n",
       "Coordinates:\n",
       "  * time              (time) datetime64[ns] 1948-03-14 1948-03-28 ... 2018-12-31\n",
       "  * pres              (pres) int64 0 5 10 15 20 25 ... 1300 1350 1400 1450 1500\n",
       "Data variables:\n",
       "    temp              (time, pres) float64 ...\n",
       "    sal               (time, pres) float64 ...\n",
       "    doxy              (time, pres) float64 ...\n",
       "    nitrate           (time, pres) float64 ...\n",
       "    phosphate         (time, pres) float64 ...\n",
       "    lat               (time) float32 ...\n",
       "    lon               (time) float32 ...\n",
       "    cast_id           (time) object ...\n",
       "    temp_40_200       (time) float64 ...\n",
       "    doxy_40_200       (time) float64 ...\n",
       "    sal_40_200        (time) float64 ...\n",
       "    nitrate_40_200    (time) float64 ...\n",
       "    temp_50_200       (time) float64 ...\n",
       "    doxy_50_200       (time) float64 ...\n",
       "    sal_50_200        (time) float64 ...\n",
       "    nitrate_50_200    (time) float64 ...\n",
       "    temp_50_225       (time) float64 ...\n",
       "    doxy_50_225       (time) float64 ...\n",
       "    sal_50_225        (time) float64 ...\n",
       "    nitrate_50_225    (time) float64 ...\n",
       "    phosphate_40_200  (time) float64 ...\n",
       "    phosphate_50_200  (time) float64 ...\n",
       "    phosphate_50_225  (time) float64 ..."
      ]
     },
     "execution_count": 4,
     "metadata": {},
     "output_type": "execute_result"
    }
   ],
   "source": [
    "ds_WOD = xr.open_dataset('../../data/wod18_processed.nc')\n",
    "ds_WOD"
   ]
  },
  {
   "cell_type": "code",
   "execution_count": 5,
   "metadata": {},
   "outputs": [
    {
     "data": {
      "text/plain": [
       "<xarray.Dataset>\n",
       "Dimensions:         (lat: 138, lat_ro: 138, lat_woa: 35, loc_wod: 312726, loc_wod18: 299294, lon: 226, lon_ro: 216, lon_woa: 55)\n",
       "Coordinates:\n",
       "  * lat             (lat) float64 -1.5 -1.25 -1.0 -0.75 ... 32.25 32.5 32.75\n",
       "  * lon             (lon) float64 48.5 48.75 49.0 49.25 ... 104.2 104.5 104.8\n",
       "  * lat_ro          (lat_ro) float64 -1.375 -1.125 -0.875 ... 32.38 32.62 32.88\n",
       "  * lon_ro          (lon_ro) float64 48.62 48.88 49.12 ... 101.9 102.1 102.4\n",
       "  * lat_woa         (lat_woa) float32 -1.5 -0.5 0.5 1.5 ... 29.5 30.5 31.5 32.5\n",
       "  * lon_woa         (lon_woa) float32 48.5 49.5 50.5 51.5 ... 100.5 101.5 102.5\n",
       "  * loc_wod         (loc_wod) int64 0 1 2 3 4 ... 312722 312723 312724 312725\n",
       "  * loc_wod18       (loc_wod18) int64 0 1 2 3 4 ... 299290 299291 299292 299293\n",
       "Data variables:\n",
       "    maskw           (lat, lon) float64 ...\n",
       "    maskw_ro        (lat_ro, lon_ro) int64 ...\n",
       "    maskn           (lat, lon) float64 ...\n",
       "    maskw_woa       (lat_woa, lon_woa) bool ...\n",
       "    maskw_ro_woa    (lat_woa, lon_woa) bool ...\n",
       "    maskn_woa       (lat_woa, lon_woa) bool ...\n",
       "    maskw_wod       (loc_wod) bool ...\n",
       "    maskw_ro_wod    (loc_wod) bool ...\n",
       "    maskn_wod       (loc_wod) bool ...\n",
       "    maskw_wod118    (loc_wod18) bool ...\n",
       "    maskw_ro_wod18  (loc_wod18) bool ...\n",
       "    maskn_wod18     (loc_wod18) bool ..."
      ]
     },
     "execution_count": 5,
     "metadata": {},
     "output_type": "execute_result"
    }
   ],
   "source": [
    "ds_mask = xr.open_dataset('../../data/coastal_mask.nc')\n",
    "ds_mask"
   ]
  },
  {
   "cell_type": "markdown",
   "metadata": {},
   "source": [
    "# Regrid"
   ]
  },
  {
   "cell_type": "code",
   "execution_count": 6,
   "metadata": {},
   "outputs": [
    {
     "name": "stderr",
     "output_type": "stream",
     "text": [
      "100%|██████████| 9144/9144 [1:15:30<00:00,  2.16it/s]\n"
     ]
    }
   ],
   "source": [
    "# find unique time values of wod data\n",
    "time_key = np.unique(ds_WOD.time)\n",
    "\n",
    "# find all the days there are measurements\n",
    "full_ind = np.full((ds_SLA.daily_sla.shape[0]),False)\n",
    "\n",
    "for tt in range(time_key.shape[0]):\n",
    "    ind = ds_SLA.daily_sla.day_time == time_key[tt]\n",
    "    full_ind = full_ind + ind\n",
    "\n",
    "# take only times where awg measurements were made\n",
    "sla = np.array(ds_SLA.daily_sla[full_ind,:,:])\n",
    "sla_time = np.array(ds_SLA.daily_sla.day_time[full_ind])\n",
    "\n",
    "xx,yy = np.meshgrid(ds_SLA.lon,ds_SLA.lat)\n",
    "xx = xx.flatten()\n",
    "yy = yy.flatten()\n",
    "\n",
    "lons= np.array(ds_WOD.lon)\n",
    "lats = np.array(ds_WOD.lat)\n",
    "times = np.array(ds_WOD.time)\n",
    "\n",
    "daily_sla_WOD = np.zeros(len(times))*np.nan\n",
    "lon_WOD = np.zeros(len(times))*np.nan\n",
    "lat_WOD = np.zeros(len(times))*np.nan\n",
    "time_WOD = np.array(ds_WOD.time)\n",
    "\n",
    "for tt in tqdm(range(sla.shape[0])):\n",
    "    \n",
    "    sla_tmp = np.array(sla[tt,:,:])\n",
    "    indq = times == sla_time[tt]\n",
    "    lonq = lons[indq]\n",
    "    latq = lats[indq]\n",
    "\n",
    "    # find the lons and lats of TCD vals at this time\n",
    "\n",
    "    points = np.array( (xx,yy) ).T\n",
    "    values = sla_tmp.flatten()\n",
    "\n",
    "\n",
    "    daily_sla_WOD[indq] = griddata(points, values, (lonq,latq) ,method='linear' )\n",
    "    lon_WOD[indq] = lonq\n",
    "    lat_WOD[indq] = latq\n",
    "\n"
   ]
  },
  {
   "cell_type": "code",
   "execution_count": 7,
   "metadata": {},
   "outputs": [],
   "source": [
    "# add variables to dataset\n",
    "\n",
    "# WOD\n",
    "ds_out[\"daily_sla\"]=xr.DataArray(daily_sla_WOD,dims = ['time'],\n",
    "                     coords =[time_WOD])\n",
    "ds_out[\"lon\"]=xr.DataArray(lon_WOD,dims = ['time'],\n",
    "                     coords =[time_WOD])\n",
    "ds_out[\"lat\"]=xr.DataArray(lat_WOD,dims = ['time'],\n",
    "                     coords =[time_WOD])"
   ]
  },
  {
   "cell_type": "markdown",
   "metadata": {},
   "source": [
    "# Convert to Coastal"
   ]
  },
  {
   "cell_type": "code",
   "execution_count": 8,
   "metadata": {},
   "outputs": [
    {
     "data": {
      "image/png": "[encoded data removed]",
      "text/plain": [
       "<Figure size 432x288 with 1 Axes>"
      ]
     },
     "metadata": {
      "needs_background": "light"
     },
     "output_type": "display_data"
    }
   ],
   "source": [
    "#############################################################\n",
    "#----------------- Western Arabian Sea ---------------------#\n",
    "#############################################################\n",
    "\n",
    "ind_wAS = ((ds_WOD.lon <= bounds_wAS[1]) & (ds_WOD.lon >= bounds_wAS[0]) & \n",
    "              (ds_WOD.lat <= bounds_wAS[3]) & (ds_WOD.lat >= bounds_wAS[2]))\n",
    "\n",
    "#subset gridded data\n",
    "sla_wAS = ds_out.daily_sla[ind_wAS]\n",
    "lat_wAS = ds_WOD.lat[ind_wAS]\n",
    "lon_wAS = ds_WOD.lon[ind_wAS]\n",
    "time_wAS = ds_WOD.time[ind_wAS]\n",
    "mask_wAS = np.array(ds_mask.maskn_wod18)[ind_wAS]\n",
    "    \n",
    "# convert to coastal\n",
    "sla_wAS = sla_wAS[mask_wAS]\n",
    "lat_wAS = lat_wAS[mask_wAS]\n",
    "lon_wAS = lon_wAS[mask_wAS]\n",
    "time_wAS = time_wAS[mask_wAS]\n",
    "\n",
    "#############################################################\n",
    "#----------------- Eastern Arabian Sea ---------------------#\n",
    "#############################################################\n",
    "\n",
    "ind_eAS = ((ds_WOD.lon <= bounds_eAS[1]) & (ds_WOD.lon >= bounds_eAS[0]) & \n",
    "              (ds_WOD.lat <= bounds_eAS[3]) & (ds_WOD.lat >= bounds_eAS[2])) \n",
    "ind_eAS_SL = ((ds_WOD.lon < bounds_eAS_SL[1]) & (ds_WOD.lon > bounds_eAS_SL[0]) & \n",
    "              (ds_WOD.lat < bounds_eAS_SL[3]) & (ds_WOD.lat > bounds_eAS_SL[2])) \n",
    "\n",
    "#subset gridded data\n",
    "sla_eAS = xr.concat((ds_out.daily_sla[ind_eAS],ds_out.daily_sla[ind_eAS_SL]), dim = 'time')\n",
    "lat_eAS = xr.concat((ds_WOD.lat[ind_eAS],ds_WOD.lat[ind_eAS_SL]), dim = 'time')\n",
    "lon_eAS = xr.concat((ds_WOD.lon[ind_eAS],ds_WOD.lon[ind_eAS_SL]), dim = 'time')\n",
    "time_eAS = sla_eAS.time\n",
    "mask_eAS = np.array(ds_mask.maskw_ro_wod18)\n",
    "mask_eAS = np.concatenate((mask_eAS[ind_eAS],mask_eAS[ind_eAS_SL]),0)\n",
    "\n",
    "# convert to coastal\n",
    "sla_eAS = sla_eAS[mask_eAS]\n",
    "lat_eAS = lat_eAS[mask_eAS]\n",
    "lon_eAS = lon_eAS[mask_eAS]\n",
    "time_eAS = time_eAS[mask_eAS]\n",
    "\n",
    "# sort by time\n",
    "sla_eAS = sla_eAS.sortby(time_eAS)\n",
    "lat_eAS = lat_eAS.sortby(time_eAS)\n",
    "lon_eAS = lon_eAS.sortby(time_eAS)\n",
    "time_eAS = time_eAS.sortby(time_eAS)\n",
    "\n",
    "#############################################################\n",
    "#---------------- Western Bay of Bengal --------------------#\n",
    "#############################################################\n",
    "\n",
    "ind_wBoB = ((ds_WOD.lon <= bounds_wBoB[1]) & (ds_WOD.lon >= bounds_wBoB[0]) & \n",
    "               (ds_WOD.lat <= bounds_wBoB[3]) & (ds_WOD.lat >= bounds_wBoB[2])) \n",
    "ind_wBoB_SL = ((ds_WOD.lon < bounds_wBoB_SL[1]) & (ds_WOD.lon > bounds_wBoB_SL[0]) & \n",
    "              (ds_WOD.lat < bounds_wBoB_SL[3]) & (ds_WOD.lat > bounds_wBoB_SL[2])) \n",
    "\n",
    "#subset gridded data\n",
    "sla_wBoB = xr.concat((ds_out.daily_sla[ind_wBoB],ds_out.daily_sla[ind_wBoB_SL]), dim = 'time')\n",
    "lat_wBoB = xr.concat((ds_WOD.lat[ind_wBoB],ds_WOD.lat[ind_wBoB_SL]), dim = 'time')\n",
    "lon_wBoB = xr.concat((ds_WOD.lon[ind_wBoB],ds_WOD.lon[ind_wBoB_SL]), dim = 'time')\n",
    "time_wBoB = sla_wBoB.time\n",
    "mask_wBoB = np.array(ds_mask.maskn_wod18)\n",
    "mask_wBoB = np.concatenate((mask_wBoB[ind_wBoB],mask_wBoB[ind_wBoB_SL]),0)\n",
    "    \n",
    "# convert to coastal\n",
    "sla_wBoB = sla_wBoB[mask_wBoB]\n",
    "lat_wBoB = lat_wBoB[mask_wBoB]\n",
    "lon_wBoB = lon_wBoB[mask_wBoB]\n",
    "time_wBoB = time_wBoB[mask_wBoB]\n",
    "\n",
    "# sort by time\n",
    "sla_wBoB = sla_wBoB.sortby(time_wBoB)\n",
    "lat_wBoB = lat_wBoB.sortby(time_wBoB)\n",
    "lon_wBoB = lon_wBoB.sortby(time_wBoB)\n",
    "time_wBoB = time_wBoB.sortby(time_wBoB)\n",
    "\n",
    "#############################################################\n",
    "#---------------- Eastern Bay of Bengal --------------------#\n",
    "#############################################################\n",
    "\n",
    "ind_eBoB = ((ds_WOD.lon <= bounds_eBoB[1]) & (ds_WOD.lon >= bounds_eBoB[0]) & \n",
    "               (ds_WOD.lat <= bounds_eBoB[3]) & (ds_WOD.lat >= bounds_eBoB[2])) \n",
    "\n",
    "#subset gridded data\n",
    "sla_eBoB = ds_out.daily_sla[ind_eBoB]\n",
    "lat_eBoB = ds_WOD.lat[ind_eBoB]\n",
    "lon_eBoB = ds_WOD.lon[ind_eBoB]\n",
    "time_eBoB = ds_WOD.time[ind_eBoB]\n",
    "mask_eBoB = np.array(ds_mask.maskw_ro_wod18)[ind_eBoB]\n",
    "\n",
    "# convert to coastal\n",
    "sla_eBoB = sla_eBoB[mask_eBoB]\n",
    "lat_eBoB = lat_eBoB[mask_eBoB]\n",
    "lon_eBoB = lon_eBoB[mask_eBoB]\n",
    "time_eBoB = time_eBoB[mask_eBoB]\n",
    "\n",
    "plt.scatter(lon_eBoB,lat_eBoB,color = 'k', s = 1)\n",
    "plt.scatter(lon_wBoB,lat_wBoB,color = 'b', s = 1)\n",
    "plt.scatter(lon_eAS,lat_eAS,color = 'r', s = 1)\n",
    "plt.scatter(lon_wAS,lat_wAS,color = 'g', s = 1)\n",
    "\n",
    "#############################################################\n",
    "#---------------------- Save Data --------------------------#\n",
    "#############################################################\n",
    "ds_out['lat_wAS'] = xr.DataArray(lat_wAS,dims = ['time_wAS'],coords =[time_wAS])\n",
    "ds_out['lon_wAS'] = xr.DataArray(lon_wAS,dims = ['time_wAS'],coords =[time_wAS])\n",
    "ds_out['lat_eAS'] = xr.DataArray(lat_eAS,dims = ['time_eAS'],coords =[time_eAS])\n",
    "ds_out['lon_eAS'] = xr.DataArray(lon_eAS,dims = ['time_eAS'],coords =[time_eAS])\n",
    "ds_out['lat_wBoB'] = xr.DataArray(lat_wBoB,dims = ['time_wBoB'],coords =[time_wBoB])\n",
    "ds_out['lon_wBoB'] = xr.DataArray(lon_wBoB,dims = ['time_wBoB'],coords =[time_wBoB])\n",
    "ds_out['lat_eBoB'] = xr.DataArray(lat_eBoB,dims = ['time_eBoB'],coords =[time_eBoB])\n",
    "ds_out['lon_eBoB'] = xr.DataArray(lon_eBoB,dims = ['time_eBoB'],coords =[time_eBoB])\n",
    "\n",
    "# Western Arabian Sea\n",
    "ds_out['sla_wAS'] = xr.DataArray(sla_wAS,dims = ['time_wAS'],coords =[time_wAS])\n",
    "\n",
    "# Eastern Arabian Sea\n",
    "ds_out['sla_eAS'] = xr.DataArray(sla_eAS,dims = ['time_eAS'],coords =[time_eAS])\n",
    "\n",
    "# Western Bay of Bengal\n",
    "ds_out['sla_wBoB'] = xr.DataArray(sla_wBoB,dims = ['time_wBoB'],coords =[time_wBoB])\n",
    "\n",
    "# Eastern Bay of Bengal\n",
    "ds_out['sla_eBoB'] = xr.DataArray(sla_eBoB,dims = ['time_eBoB'],coords =[time_eBoB])\n",
    "\n"
   ]
  },
  {
   "cell_type": "code",
   "execution_count": 9,
   "metadata": {},
   "outputs": [
    {
     "data": {
      "text/plain": [
       "<xarray.Dataset>\n",
       "Dimensions:    (time: 299294, time_eAS: 22659, time_eBoB: 20414, time_wAS: 23949, time_wBoB: 2807)\n",
       "Coordinates:\n",
       "  * time       (time) datetime64[ns] 1948-03-14 1948-03-28 ... 2018-12-31\n",
       "  * time_wAS   (time_wAS) datetime64[ns] 1948-06-12 1948-06-12 ... 2018-12-23\n",
       "  * time_eAS   (time_eAS) datetime64[ns] 1948-03-14 1948-06-26 ... 2018-12-30\n",
       "  * time_wBoB  (time_wBoB) datetime64[ns] 1951-04-20 1951-04-24 ... 2018-12-11\n",
       "  * time_eBoB  (time_eBoB) datetime64[ns] 1948-06-29 1948-06-29 ... 2018-12-31\n",
       "Data variables:\n",
       "    daily_sla  (time) float64 nan nan nan nan ... 0.01774 -0.00153 -0.09489\n",
       "    lon        (time) float64 nan nan nan nan nan ... 53.97 90.03 89.21 63.81\n",
       "    lat        (time) float64 nan nan nan nan nan ... 13.89 8.896 10.59 12.74\n",
       "    lat_wAS    (time_wAS) float32 22.3 23.116667 23.333334 ... 17.894 16.499\n",
       "    lon_wAS    (time_wAS) float32 60.666668 59.75 59.466667 ... 58.037 53.281\n",
       "    lat_eAS    (time_eAS) float32 4.6 8.283334 8.0 ... 4.105 5.064 5.064\n",
       "    lon_eAS    (time_eAS) float32 82.6 73.53333 74.5 ... 78.788 79.7 79.7\n",
       "    lat_wBoB   (time_wBoB) float32 7.8333335 17.166666 ... 16.038721 11.065\n",
       "    lon_wBoB   (time_wBoB) float32 81.71667 84.5 83.3 ... 83.38723 80.824\n",
       "    lat_eBoB   (time_eBoB) float32 6.016667 6.1833334 ... 18.55 18.566668\n",
       "    lon_eBoB   (time_eBoB) float32 92.96667 93.416664 94.5 ... 88.53333 88.6\n",
       "    sla_wAS    (time_wAS) float64 nan nan nan nan ... 0.03203 0.04575 0.1644\n",
       "    sla_eAS    (time_eAS) float64 nan nan nan nan ... 0.004232 0.09997 0.09997\n",
       "    sla_wBoB   (time_wBoB) float64 nan nan nan nan ... -0.05308 -0.1826 -0.07581\n",
       "    sla_eBoB   (time_eBoB) float64 nan nan nan nan ... 0.01046 0.1623 0.1729"
      ]
     },
     "execution_count": 9,
     "metadata": {},
     "output_type": "execute_result"
    }
   ],
   "source": [
    "# delete if already present\n",
    "if os.path.isfile(outfn):\n",
    "    os.remove(outfn)\n",
    "\n",
    "ds_out.to_netcdf(outfn,mode='w',format = \"NETCDF4\")\n",
    "\n",
    "ds_out"
   ]
  },
  {
   "cell_type": "code",
   "execution_count": null,
   "metadata": {},
   "outputs": [],
   "source": []
  }
 ],
 "metadata": {
  "kernelspec": {
   "display_name": "Python 3",
   "language": "python",
   "name": "python3"
  },
  "language_info": {
   "codemirror_mode": {
    "name": "ipython",
    "version": 3
   },
   "file_extension": ".py",
   "mimetype": "text/x-python",
   "name": "python",
   "nbconvert_exporter": "python",
   "pygments_lexer": "ipython3",
   "version": "3.7.3"
  }
 },
 "nbformat": 4,
 "nbformat_minor": 2
}
