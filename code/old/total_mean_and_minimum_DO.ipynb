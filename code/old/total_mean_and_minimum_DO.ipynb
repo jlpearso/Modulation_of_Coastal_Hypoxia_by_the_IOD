{
 "cells": [
  {
   "cell_type": "code",
   "execution_count": 2,
   "metadata": {},
   "outputs": [],
   "source": [
    "# Packages -----------------------------------------------#\n",
    "\n",
    "# Data Analysis\n",
    "import xarray as xr\n",
    "import numpy as np\n",
    "import pandas as pd\n",
    "from scipy import stats\n",
    "from scipy.ndimage import gaussian_filter\n",
    "import datetime as dt\n",
    "from scipy.interpolate import griddata\n",
    "\n",
    "# Plotting\n",
    "import cartopy.crs as ccrs\n",
    "from cartopy.feature import LAND\n",
    "import cartopy.feature as cfeature\n",
    "import matplotlib.gridspec as gridspec\n",
    "import matplotlib.pyplot as plt\n",
    "import matplotlib as mpl\n",
    "import cmocean\n",
    "\n",
    "# Timing Processes and Progress\n",
    "import time\n",
    "from tqdm import tqdm\n",
    "import itertools\n",
    "\n",
    "# make sure the figures plot inline rather than at the end\n",
    "%matplotlib inline"
   ]
  },
  {
   "cell_type": "code",
   "execution_count": 3,
   "metadata": {},
   "outputs": [],
   "source": [
    "def add_land(ax,bounds= [45,100,0,30]):\n",
    "    from cartopy.mpl.gridliner import LONGITUDE_FORMATTER, LATITUDE_FORMATTER\n",
    "    ax.add_feature(cfeature.LAND,color='gray',zorder = 1)\n",
    "    ax.background_patch.set_facecolor('k')\n",
    "    ax.coastlines(resolution='110m',zorder = 2)\n",
    "    g = ax.gridlines(draw_labels=True,alpha=0)\n",
    "    g.xlabels_top = False\n",
    "    g.ylabels_right = False\n",
    "    g.xlabel_style = {'size': 15}\n",
    "    g.ylabel_style = {'size': 15}\n",
    "    g.xformatter = LONGITUDE_FORMATTER\n",
    "    g.yformatter = LATITUDE_FORMATTER\n",
    "    ax.axes.axis('tight')\n",
    "    ax.set_extent(bounds, crs=ccrs.PlateCarree())\n",
    "    return None \n",
    "\n",
    "def gaus_filter_nan(img,sigma = 1):\n",
    "    # import required packages\n",
    "    from astropy.convolution import convolve\n",
    "    from astropy.convolution import Gaussian2DKernel\n",
    "    \n",
    "    # create a kernal with std = 1\n",
    "    kernel = Gaussian2DKernel(x_stddev=1)\n",
    "    \n",
    "    #convolve that with the 2d matrix\n",
    "    img_conv = convolve(img, kernel)\n",
    "\n",
    "    # set original nan points back to nans\n",
    "    img_conv[np.isnan(img)] = np.nan\n",
    "\n",
    "    return img_conv\n",
    "\n",
    "# mask coastlines ---------------------------------------------------------------------#\n",
    "def mask_coast(c_lon,c_lat,bounds):\n",
    "    data=xr.open_dataset('/tigress/GEOCLIM/LRGROUP/shared_data/pco2_flux_coastal_Roobaert/mask_ocean.nc')\n",
    "    mask_coast=np.array(data.mask_coastal2).astype(int).T\n",
    "    lat=np.array(data.latitude)\n",
    "    lon=np.array(data.longitude)\n",
    "\n",
    "    mask_lon=np.logical_and(lon>bounds[0],lon<bounds[1])\n",
    "    mask_lat=np.logical_and(lat>bounds[2],lat<bounds[3])\n",
    "\n",
    "    lon=lon[mask_lon]\n",
    "    lat=lat[mask_lat]\n",
    "\n",
    "    mask_coast=mask_coast[mask_lat]\n",
    "    mask_coast=mask_coast[:,mask_lon]\n",
    "\n",
    "    lonlon,latlat=np.meshgrid(lon,lat)\n",
    "\n",
    "    # what are these for? I should probably fix it\n",
    "    lon_dot=np.array([70,70])\n",
    "    lat_dot=np.array([10,19.5])\n",
    "\n",
    "    mask=[]\n",
    "    for lo,la in zip(c_lon,c_lat):\n",
    "        if len(lon[lon<=lo])>0 and len(lat[lat>=la])>0 and len(lon[lon>=lo])>0 and len(lat[lat<=la])>0:\n",
    "            lon_lim=[lon[lon<=lo][-1],lon[lon>=lo][0]]\n",
    "            lat_lim=[lat[lat<=la][-1],lat[lat>=la][0]]\n",
    "            mask_lon=np.logical_or(lon==lon_lim[0],lon==lon_lim[1])\n",
    "            mask_lat=np.logical_or(lat==lat_lim[0],lat==lat_lim[1])\n",
    "            mask_tmp=mask_coast[mask_lat]\n",
    "            mask_tmp=mask_tmp[:,mask_lon]\n",
    "            mask.append(np.mean(mask_tmp)>0)\n",
    "        else:\n",
    "            mask.append(False)\n",
    "    mask=np.array(mask)\n",
    "    return mask\n",
    "\n",
    "# month of min doxy  --------------------------------------------------------------------#\n",
    "def latlonbin_min_doxy(doxy,lat,lon,bounds,binwidth):\n",
    "    import numpy as np\n",
    "    \n",
    "    # create a pandas dataframe\n",
    "    df = pd.DataFrame(dict(\n",
    "            doxy = np.array(doxy),\n",
    "            lat= np.array(lat),\n",
    "            lon= np.array(lon),\n",
    "            month = np.array(doxy.time.dt.month)\n",
    "        ))\n",
    "    \n",
    "    # create 1 degree bins\n",
    "    latedges = np.arange(bounds[2]-(binwidth/2),bounds[3]+(binwidth/2),binwidth)\n",
    "    lat_inds = list(range(len(latedges)-1))\n",
    "\n",
    "    lonedges = np.arange(bounds[0]-(binwidth/2),bounds[1]+(binwidth/2),binwidth)\n",
    "    lon_inds = list(range(len(lonedges)-1))\n",
    "\n",
    "    latbins = latedges[1:]-(binwidth/2)\n",
    "    lonbins = lonedges[1:]-(binwidth/2)\n",
    "\n",
    "    df['latedges'] = pd.cut(lat, latedges)\n",
    "    df['lonedges'] = pd.cut(lon, lonedges)\n",
    "    df['latbins_ind'] = pd.cut(lat, latedges,labels = lat_inds)\n",
    "    df['lonbins_ind'] = pd.cut(lon, lonedges,labels = lon_inds)\n",
    "    df['lat_lon_indx']=df.groupby(['latbins_ind', 'lonbins_ind']).ngroup()\n",
    "    grouped = df.groupby(['latbins_ind', 'lonbins_ind'])\n",
    "\n",
    "    min_doxy = np.zeros((len(latbins),len(lonbins)), dtype=np.ndarray) * np.nan\n",
    "    min_doxy_mon = np.zeros((len(latbins),len(lonbins)), dtype=np.ndarray) * np.nan\n",
    "    min_doxy_seas = np.zeros((len(latbins),len(lonbins)), dtype=np.ndarray) * np.nan\n",
    "\n",
    "\n",
    "    #extract the data for each group\n",
    "    for name, group in grouped:\n",
    "        i = np.array(group.latbins_ind)\n",
    "        j = np.array(group.lonbins_ind)\n",
    "        gpmonth = np.array(group.month)\n",
    "        gpdoxy = np.array(group.doxy)\n",
    "\n",
    "        # find month of minimum OCD\n",
    "        if ~np.isnan(np.nanmin(gpdoxy)):\n",
    "            \n",
    "            min_doxy[i[0],j[0]] = np.nanmin(gpdoxy)\n",
    "            \n",
    "            ind = np.nanargmin(gpdoxy)\n",
    "            min_month = gpmonth[ind]\n",
    "            if len(gpdoxy[gpdoxy == np.nanmin(gpdoxy)])>1:\n",
    "                print('Duplicate Values in Minimum.', len(gpdoxy[gpdoxy == np.nanmin(gpdoxy)]),\n",
    "                      gpmonth[gpdoxy == np.nanmin(gpdoxy)] )\n",
    "            \n",
    "            min_doxy_mon[i[0],j[0]] = min_month\n",
    "            \n",
    "            if (min_month == 3) | (min_month == 4) | (min_month == 5):\n",
    "                min_doxy_seas[i[0],j[0]] = 0\n",
    "            elif (min_month == 6) | (min_month == 7) | (min_month == 8):\n",
    "                min_doxy_seas[i[0],j[0]] = 1\n",
    "            elif (min_month == 9) | (min_month == 10) | (min_month == 11):\n",
    "                min_doxy_seas[i[0],j[0]] = 2\n",
    "            elif (min_month == 12) | (min_month == 1) | (min_month == 2):\n",
    "                min_doxy_seas[i[0],j[0]] = 3\n",
    "  \n",
    "\n",
    "    return(np.array(min_doxy,dtype = float),np.array(min_doxy_mon,dtype = float),\n",
    "           np.array(min_doxy_seas,dtype = float),\n",
    "           latbins,lonbins)\n",
    "\n",
    "# month of max doxy -----------------------------------------------------------------#\n",
    "def latlonbin_max_doxy(doxy,lat,lon,bounds,binwidth):\n",
    "    import numpy as np\n",
    "    \n",
    "    # create a pandas dataframe\n",
    "    df = pd.DataFrame(dict(\n",
    "            doxy = np.array(doxy),\n",
    "            lat= np.array(lat),\n",
    "            lon= np.array(lon),\n",
    "            month = np.array(doxy.time.dt.month)\n",
    "        ))\n",
    "    \n",
    "    # create 1 degree bins\n",
    "    latedges = np.arange(bounds[2]-(binwidth/2),bounds[3]+(binwidth/2),binwidth)\n",
    "    lat_inds = list(range(len(latedges)-1))\n",
    "\n",
    "    lonedges = np.arange(bounds[0]-(binwidth/2),bounds[1]+(binwidth/2),binwidth)\n",
    "    lon_inds = list(range(len(lonedges)-1))\n",
    "\n",
    "    latbins = latedges[1:]-(binwidth/2)\n",
    "    lonbins = lonedges[1:]-(binwidth/2)\n",
    "\n",
    "    df['latedges'] = pd.cut(lat, latedges)\n",
    "    df['lonedges'] = pd.cut(lon, lonedges)\n",
    "    df['latbins_ind'] = pd.cut(lat, latedges,labels = lat_inds)\n",
    "    df['lonbins_ind'] = pd.cut(lon, lonedges,labels = lon_inds)\n",
    "    df['lat_lon_indx']=df.groupby(['latbins_ind', 'lonbins_ind']).ngroup()\n",
    "    grouped = df.groupby(['latbins_ind', 'lonbins_ind'])\n",
    "\n",
    "    max_doxy = np.zeros((len(latbins),len(lonbins)), dtype=np.ndarray) * np.nan\n",
    "    max_doxy_mon = np.zeros((len(latbins),len(lonbins)), dtype=np.ndarray) * np.nan\n",
    "    max_doxy_seas = np.zeros((len(latbins),len(lonbins)), dtype=np.ndarray) * np.nan\n",
    "\n",
    "\n",
    "    #extract the data for each group\n",
    "    for name, group in grouped:\n",
    "        i = np.array(group.latbins_ind)\n",
    "        j = np.array(group.lonbins_ind)\n",
    "        gpmonth = np.array(group.month)\n",
    "        gpdoxy = np.array(group.doxy)\n",
    "\n",
    "        # find month of minimum OCD\n",
    "        if ~np.isnan(np.nanmax(gpdoxy)):\n",
    "            \n",
    "            max_doxy[i[0],j[0]] = np.nanmax(gpdoxy)\n",
    "            \n",
    "            ind = np.nanargmin(gpdoxy)\n",
    "            max_month = gpmonth[ind]\n",
    "            if len(gpdoxy[gpdoxy == np.nanmax(gpdoxy)])>1:\n",
    "                print('Duplicate Values in Maximum.', len(gpdoxy[gpdoxy == np.nanmax(gpdoxy)]),\n",
    "                      gpmonth[gpdoxy == np.nanmax(gpdoxy)] )\n",
    "            \n",
    "            max_doxy_mon[i[0],j[0]] = max_month\n",
    "            \n",
    "            if (max_month == 3) | (max_month == 4) | (max_month == 5):\n",
    "                max_doxy_seas[i[0],j[0]] = 0\n",
    "            elif (max_month == 6) | (max_month == 7) | (max_month == 8):\n",
    "                max_doxy_seas[i[0],j[0]] = 1\n",
    "            elif (max_month == 9) | (max_month == 10) | (max_month == 11):\n",
    "                max_doxy_seas[i[0],j[0]] = 2\n",
    "            elif (max_month == 12) | (max_month == 1) | (max_month == 2):\n",
    "                max_doxy_seas[i[0],j[0]] = 3\n",
    "  \n",
    "\n",
    "    return(np.array(max_doxy,dtype = float),np.array(max_doxy_mon,dtype = float),\n",
    "           np.array(max_doxy_seas,dtype = float),\n",
    "           latbins,lonbins)\n",
    "\n",
    "\n",
    "\n",
    "def IOD_year_group(invar,inlat,inlon,intime,begin,end,IODyears):\n",
    "    data= []\n",
    "    lat = []\n",
    "    lon = []\n",
    "    time = []\n",
    "    for ii,year in enumerate(IODyears):\n",
    "        start_time = str(year) + begin\n",
    "        end_time = str(year+1) + end\n",
    "        time_slice = slice(start_time, end_time)\n",
    "#         print(time_slice)\n",
    "        data.extend(np.array(invar.sel(time=time_slice)))\n",
    "        lat.extend(np.array(inlat.sel(time=time_slice)))\n",
    "        lon.extend(np.array(inlon.sel(time=time_slice)))\n",
    "        time.extend(np.array(intime.sel(time=time_slice)))\n",
    "        \n",
    "    return data,lat,lon,time\n",
    "\n",
    "def IOD_year_group_coast(invar,inlat,inlon,intime,begin,end,IODyears):\n",
    "    data= []\n",
    "    lat = []\n",
    "    lon = []\n",
    "    time = []\n",
    "    for ii,year in enumerate(IODyears):\n",
    "        start_time = str(year) + begin\n",
    "        end_time = str(year+1) + end\n",
    "        time_slice = slice(start_time, end_time)\n",
    "#         print(time_slice)\n",
    "        data.extend(np.array(invar.sel(coast_time=time_slice)))\n",
    "        lat.extend(np.array(inlat.sel(coast_time=time_slice)))\n",
    "        lon.extend(np.array(inlon.sel(coast_time=time_slice)))\n",
    "        time.extend(np.array(intime.sel(coast_time=time_slice)))\n",
    "        \n",
    "    return np.array(data),np.array(lat),np.array(lon),np.array(time)"
   ]
  },
  {
   "cell_type": "code",
   "execution_count": 4,
   "metadata": {},
   "outputs": [
    {
     "data": {
      "text/plain": [
       "<xarray.Dataset>\n",
       "Dimensions:                      (coast_time: 52855, latbins: 50, lonbins: 85, month: 306118, pres: 201, time: 306118, upper_pres: 99)\n",
       "Coordinates:\n",
       "    prof                         (time) int32 ...\n",
       "  * time                         (time) datetime64[ns] 1827-10-30 ... 2020-02-07\n",
       "  * pres                         (pres) int32 0 5 10 15 20 ... 985 990 995 1000\n",
       "  * month                        (month) int64 10 5 12 2 5 2 2 ... 2 2 2 2 2 2 2\n",
       "  * upper_pres                   (upper_pres) int32 10 15 20 25 ... 490 495 500\n",
       "  * latbins                      (latbins) float64 -20.0 -19.0 ... 28.0 29.0\n",
       "  * lonbins                      (lonbins) float64 35.0 36.0 ... 118.0 119.0\n",
       "  * coast_time                   (coast_time) datetime64[ns] 1858-03-01 ... 2020-02-07\n",
       "Data variables:\n",
       "    lon                          (time) float32 ...\n",
       "    lat                          (time) float32 ...\n",
       "    temp_AWG                     (time, pres) float32 ...\n",
       "    doxy_AWG                     (time, pres) float32 ...\n",
       "    psal_AWG                     (time, pres) float32 ...\n",
       "    temp_WOA                     (month, pres) float64 ...\n",
       "    doxy_WOA                     (month, pres) float64 ...\n",
       "    psal_WOA                     (month, pres) float64 ...\n",
       "    temp_anom                    (time, pres) float64 ...\n",
       "    doxy_anom                    (time, pres) float64 ...\n",
       "    psal_anom                    (time, pres) float64 ...\n",
       "    TCP_AWG                      (time) float64 ...\n",
       "    OCP_AWG                      (time) float64 ...\n",
       "    HCP_AWG                      (time) float64 ...\n",
       "    TCP_WOA                      (month) float64 ...\n",
       "    OCP_WOA                      (month) float64 ...\n",
       "    HCP_WOA                      (month) float64 ...\n",
       "    TCP_anom                     (time) float64 ...\n",
       "    OCP_anom                     (time) float64 ...\n",
       "    HCP_anom                     (time) float64 ...\n",
       "    upper_temp_grad_AWG          (time, upper_pres) float32 ...\n",
       "    upper_doxy_grad_AWG          (time, upper_pres) float32 ...\n",
       "    upper_psal_grad_AWG          (time, upper_pres) float32 ...\n",
       "    upper_temp_grad_WOA          (month, upper_pres) float64 ...\n",
       "    upper_doxy_grad_WOA          (month, upper_pres) float64 ...\n",
       "    upper_psal_grad_WOA          (month, upper_pres) float64 ...\n",
       "    TCP_binned_ave_AWG           (latbins, lonbins) float64 ...\n",
       "    OCP_binned_ave_AWG           (latbins, lonbins) float64 ...\n",
       "    TCP_bincounts_AWG            (latbins, lonbins) float64 ...\n",
       "    OCP_bincounts_AWG            (latbins, lonbins) float64 ...\n",
       "    TCP_binned_ave_WOA           (latbins, lonbins) float64 ...\n",
       "    OCP_binned_ave_WOA           (latbins, lonbins) float64 ...\n",
       "    TCP_bincounts_WOA            (latbins, lonbins) float64 ...\n",
       "    OCP_bincounts_WOA            (latbins, lonbins) float64 ...\n",
       "    TCP_anom_binned_ave          (latbins, lonbins) float64 ...\n",
       "    OCP_anom_binned_ave          (latbins, lonbins) float64 ...\n",
       "    TCP_anom_bincounts           (latbins, lonbins) float64 ...\n",
       "    OCP_anom_bincounts           (latbins, lonbins) float64 ...\n",
       "    temp_total_ave               (time) float32 ...\n",
       "    doxy_total_ave               (time) float32 ...\n",
       "    temp_10_200_ave              (time) float32 ...\n",
       "    doxy_10_200_ave              (time) float32 ...\n",
       "    temp_10_50_ave               (time) float32 ...\n",
       "    doxy_10_50_ave               (time) float32 ...\n",
       "    temp_50_200_ave              (time) float32 ...\n",
       "    doxy_50_200_ave              (time) float32 ...\n",
       "    temp_anom_total_ave          (time) float64 ...\n",
       "    doxy_anom_total_ave          (time) float64 ...\n",
       "    temp_anom_10_200_ave         (time) float64 ...\n",
       "    doxy_anom_10_200_ave         (time) float64 ...\n",
       "    temp_anom_10_50_ave          (time) float64 ...\n",
       "    doxy_anom_10_50_ave          (time) float64 ...\n",
       "    temp_anom_50_200_ave         (time) float64 ...\n",
       "    doxy_anom_50_200_ave         (time) float64 ...\n",
       "    temp_WOA_total_ave           (time) float64 ...\n",
       "    doxy_WOA_total_ave           (time) float64 ...\n",
       "    temp_WOA_10_200_ave          (time) float64 ...\n",
       "    doxy_WOA_10_200_ave          (time) float64 ...\n",
       "    temp_WOA_10_50_ave           (time) float64 ...\n",
       "    doxy_WOA_10_50_ave           (time) float64 ...\n",
       "    temp_WOA_50_200_ave          (time) float64 ...\n",
       "    doxy_WOA_50_200_ave          (time) float64 ...\n",
       "    temp_TCP_bot_ave             (time) float64 ...\n",
       "    doxy_TCP_bot_ave             (time) float64 ...\n",
       "    temp_TCP_200_ave             (time) float64 ...\n",
       "    doxy_TCP_200_ave             (time) float64 ...\n",
       "    temp_anom_TCP_bot_ave        (time) float64 ...\n",
       "    doxy_anom_TCP_bot_ave        (time) float64 ...\n",
       "    temp_anom_TCP_200_ave        (time) float64 ...\n",
       "    doxy_anom_TCP_200_ave        (time) float64 ...\n",
       "    temp_WOA_TCP_bot_ave         (time) float64 ...\n",
       "    doxy_WOA_TCP_bot_ave         (time) float64 ...\n",
       "    temp_WOA_TCP_200_ave         (time) float64 ...\n",
       "    doxy_WOA_TCP_200_ave         (time) float64 ...\n",
       "    temp_TCP_200_ave_coast       (coast_time) float64 ...\n",
       "    doxy_TCP_200_ave_coast       (coast_time) float64 ...\n",
       "    temp_WOA_TCP_200_ave_coast   (coast_time) float64 ...\n",
       "    doxy_WOA_TCP_200_ave_coast   (coast_time) float64 ...\n",
       "    temp_anom_TCP_200_ave_coast  (coast_time) float64 ...\n",
       "    doxy_anom_TCP_200_ave_coast  (coast_time) float64 ...\n",
       "    temp_10_200_ave_coast        (coast_time) float32 ...\n",
       "    doxy_10_200_ave_coast        (coast_time) float32 ...\n",
       "    temp_WOA_10_200_ave_coast    (coast_time) float64 ...\n",
       "    doxy_WOA_10_200_ave_coast    (coast_time) float64 ...\n",
       "    temp_anom_10_200_ave_coast   (coast_time) float64 ...\n",
       "    doxy_anom_10_200_ave_coast   (coast_time) float64 ...\n",
       "    temp_10_50_ave_coast         (coast_time) float32 ...\n",
       "    doxy_10_50_ave_coast         (coast_time) float32 ...\n",
       "    temp_WOA_10_50_ave_coast     (coast_time) float64 ...\n",
       "    doxy_WOA_10_50_ave_coast     (coast_time) float64 ...\n",
       "    temp_anom_10_50_ave_coast    (coast_time) float64 ...\n",
       "    doxy_anom_10_50_ave_coast    (coast_time) float64 ...\n",
       "    temp_50_200_ave_coast        (coast_time) float32 ...\n",
       "    doxy_50_200_ave_coast        (coast_time) float32 ...\n",
       "    temp_WOA_50_200_ave_coast    (coast_time) float64 ...\n",
       "    doxy_WOA_50_200_ave_coast    (coast_time) float64 ...\n",
       "    temp_anom_50_200_ave_coast   (coast_time) float64 ...\n",
       "    doxy_anom_50_200_ave_coast   (coast_time) float64 ...\n",
       "    temp_TCP_bot_ave_coast       (coast_time) float64 ...\n",
       "    doxy_TCP_bot_ave_coast       (coast_time) float64 ...\n",
       "    temp_WOA_TCP_bot_ave_coast   (coast_time) float64 ...\n",
       "    doxy_WOA_TCP_bot_ave_coast   (coast_time) float64 ...\n",
       "    temp_anom_TCP_bot_ave_coast  (coast_time) float64 ...\n",
       "    doxy_anom_TCP_bot_ave_coast  (coast_time) float64 ...\n",
       "    temp_total_ave_coast         (coast_time) float32 ...\n",
       "    doxy_total_ave_coast         (coast_time) float32 ...\n",
       "    temp_WOA_total_ave_coast     (coast_time) float64 ...\n",
       "    doxy_WOA_total_ave_coast     (coast_time) float64 ...\n",
       "    temp_anom_total_ave_coast    (coast_time) float64 ...\n",
       "    doxy_anom_total_ave_coast    (coast_time) float64 ...\n",
       "    lon_coast                    (coast_time) float32 ...\n",
       "    lat_coast                    (coast_time) float32 ..."
      ]
     },
     "execution_count": 4,
     "metadata": {},
     "output_type": "execute_result"
    }
   ],
   "source": [
    "# CP\n",
    "path_CD = '../data/CD/'\n",
    "infn_CD = 'awg_cd.nc'\n",
    "\n",
    "ds_CD= xr.open_dataset(path_CD + infn_CD)\n",
    "ds_CD\n"
   ]
  },
  {
   "cell_type": "code",
   "execution_count": 5,
   "metadata": {},
   "outputs": [
    {
     "data": {
      "text/plain": [
       "(306118,)"
      ]
     },
     "execution_count": 5,
     "metadata": {},
     "output_type": "execute_result"
    }
   ],
   "source": [
    "mask = mask_coast(np.array(ds_CD.lon),np.array(ds_CD.lat),[35,120,-20,30])\n",
    "mask.shape"
   ]
  },
  {
   "cell_type": "code",
   "execution_count": 6,
   "metadata": {},
   "outputs": [],
   "source": [
    "# total\n",
    "\n",
    "var = ds_CD.doxy_50_200_ave\n",
    "\n",
    "binwidth = 2\n",
    "bounds = [35,120,-20,30]\n",
    "\n",
    "#######################################################\n",
    "\n",
    "\n"
   ]
  },
  {
   "cell_type": "code",
   "execution_count": 7,
   "metadata": {},
   "outputs": [],
   "source": [
    "# AS\n",
    "\n",
    "ASind = (ds_CD.lat_coast > 8) & (ds_CD.lat_coast <23) & (ds_CD.lon_coast < 78) & (ds_CD.lon_coast >68)\n",
    "\n",
    "temp_AS_10_200 = ds_CD.temp_10_200_ave_coast[ASind]\n",
    "doxy_AS_10_200 = ds_CD.doxy_10_200_ave_coast[ASind]\n",
    "\n",
    "temp_AS_10_50 = ds_CD.temp_10_50_ave_coast[ASind]\n",
    "doxy_AS_10_50 = ds_CD.doxy_10_50_ave_coast[ASind]\n",
    "\n",
    "temp_AS_50_200 = ds_CD.temp_50_200_ave_coast[ASind]\n",
    "doxy_AS_50_200 = ds_CD.doxy_50_200_ave_coast[ASind]\n",
    "\n",
    "lat_AS = ds_CD.lat_coast[ASind]\n",
    "lon_AS = ds_CD.lon_coast[ASind]\n",
    "time_AS = ds_CD.coast_time[ASind]\n",
    "seas_AS = time_AS.dt.season"
   ]
  },
  {
   "cell_type": "code",
   "execution_count": 8,
   "metadata": {},
   "outputs": [],
   "source": [
    "# WBoB\n",
    "\n",
    "wBoBind = (ds_CD.lat_coast > 9) & (ds_CD.lat_coast <23) & (ds_CD.lon_coast < 90) & (ds_CD.lon_coast >78)\n",
    "\n",
    "temp_wBoB_10_200 = ds_CD.temp_10_200_ave_coast[wBoBind]\n",
    "doxy_wBoB_10_200 = ds_CD.doxy_10_200_ave_coast[wBoBind]\n",
    "\n",
    "temp_wBoB_10_50 = ds_CD.temp_10_50_ave_coast[wBoBind]\n",
    "doxy_wBoB_10_50 = ds_CD.doxy_10_50_ave_coast[wBoBind]\n",
    "\n",
    "temp_wBoB_50_200 = ds_CD.temp_50_200_ave_coast[wBoBind]\n",
    "doxy_wBoB_50_200 = ds_CD.doxy_50_200_ave_coast[wBoBind]\n",
    "\n",
    "lat_wBoB = ds_CD.lat_coast[wBoBind]\n",
    "lon_wBoB = ds_CD.lon_coast[wBoBind]\n",
    "time_wBoB = ds_CD.coast_time[wBoBind]\n",
    "seas_wBoB = time_wBoB.dt.season"
   ]
  },
  {
   "cell_type": "code",
   "execution_count": 9,
   "metadata": {},
   "outputs": [],
   "source": [
    "# EBoB\n",
    "\n",
    "eBoBind = (ds_CD.lat_coast > 2) & (ds_CD.lat_coast <21) & (ds_CD.lon_coast < 101) & (ds_CD.lon_coast >90)\n",
    "\n",
    "temp_eBoB_10_200 = ds_CD.temp_10_200_ave_coast[eBoBind]\n",
    "doxy_eBoB_10_200 = ds_CD.doxy_10_200_ave_coast[eBoBind]\n",
    "\n",
    "temp_eBoB_10_50 = ds_CD.temp_10_50_ave_coast[eBoBind]\n",
    "doxy_eBoB_10_50 = ds_CD.doxy_10_50_ave_coast[eBoBind]\n",
    "\n",
    "temp_eBoB_50_200 = ds_CD.temp_50_200_ave_coast[eBoBind]\n",
    "doxy_eBoB_50_200 = ds_CD.doxy_50_200_ave_coast[eBoBind]\n",
    "\n",
    "lat_eBoB = ds_CD.lat_coast[eBoBind]\n",
    "lon_eBoB = ds_CD.lon_coast[eBoBind]\n",
    "time_eBoB = ds_CD.coast_time[eBoBind]\n",
    "\n",
    "ind = (lat_eBoB > 2) & (lat_eBoB <16) & (lon_eBoB < 86) & (lon_eBoB >77)\n",
    "\n",
    "# doxy_eBoB_10_200 = np.where(~ind,doxy_eBoB_10_200,np.nan)\n",
    "# doxy_eBoB_10_50 = np.where(~ind,doxy_eBoB_10_50,np.nan)\n",
    "# doxy_eBoB_50_200 = np.where(~ind,doxy_eBoB_50_200,np.nan)\n",
    "\n",
    "# doxy_eBoB_10_200 = doxy_eBoB_10_200[~ind]\n",
    "# doxy_eBoB_10_50 = doxy_eBoB_10_50[~ind]\n",
    "# doxy_eBoB_50_200 = doxy_eBoB_50_200[~ind]\n",
    "\n",
    "# lat_eBoB = lat_eBoB[~ind]\n",
    "# lon_eBoB = lon_eBoB[~ind]\n",
    "\n",
    "# time_eBoB = time_eBoB[~ind]\n",
    "seas_eBoB = time_eBoB.dt.season\n",
    "#finish rest"
   ]
  },
  {
   "cell_type": "code",
   "execution_count": 10,
   "metadata": {},
   "outputs": [
    {
     "data": {
      "image/png": "[encoded data removed]",
      "text/plain": [
       "<Figure size 432x360 with 1 Axes>"
      ]
     },
     "metadata": {
      "needs_background": "light"
     },
     "output_type": "display_data"
    }
   ],
   "source": [
    "# make a scatter plot with rectangles to outline different locations...don't need in the figure necessairly.\n",
    "\n",
    "    \n",
    "cmin = -0.2\n",
    "cmax = 0.2\n",
    "levels = np.linspace(cmin, cmax, 10)\n",
    "\n",
    "# Start figure\n",
    "fig = plt.figure(figsize=(6, 5))\n",
    "ax = plt.axes(projection=ccrs.PlateCarree())\n",
    "add_land(ax)\n",
    "p =plt.scatter(lon_AS[~np.isnan(doxy_AS_10_50)],lat_AS[~np.isnan(doxy_AS_10_50)],\n",
    "            s = 100,c='white',marker = '.')\n",
    "\n",
    "# p =plt.scatter(lon_wBoB[~np.isnan(doxy_wBoB_10_50)],lat_wBoB[~np.isnan(doxy_wBoB_10_50)],\n",
    "#             s = 100,c='yellow',marker = '.')\n",
    "\n",
    "\n",
    "p =plt.scatter(lon_eBoB[~np.isnan(doxy_eBoB_10_50)],lat_eBoB[~np.isnan(doxy_eBoB_10_50)],\n",
    "            s = 100,c='pink',marker = '.')"
   ]
  },
  {
   "cell_type": "code",
   "execution_count": 11,
   "metadata": {},
   "outputs": [],
   "source": [
    "# group AS into IOD years\n",
    "\n",
    "# load DMI data\n",
    "ds_DMI= xr.open_dataset('../data/DMI/dmi_processed.nc')\n",
    "ds_DMI\n",
    "\n",
    "posIODyears = list(np.array(ds_DMI.pos_IOD_years))\n",
    "negIODyears = list(np.array(ds_DMI.neg_IOD_years))\n",
    "neuIODyears = list(np.array(ds_DMI.neu_IOD_years)) \n",
    "\n",
    "# groupd into IOD years\n",
    "\n",
    "IODyear_begin = '-06-01' # month-day of IOD year\n",
    "IODyear_end = '-05-31' # month-day of year AFTER IOD year"
   ]
  },
  {
   "cell_type": "code",
   "execution_count": 12,
   "metadata": {},
   "outputs": [],
   "source": [
    "# Arabian Sea\n",
    "\n",
    "# 10-200\n",
    "\n",
    "####################################\n",
    "# average over the positive IOD years -------------------------------------------# \n",
    "posIODdata_AS_10_200,posIODlat_AS_10_200,posIODlon_AS_10_200,posIODtime_AS_10_200 = IOD_year_group_coast(doxy_AS_10_200,\n",
    "                                             lat_AS,lon_AS,time_AS,\n",
    "                                             IODyear_begin,IODyear_end,posIODyears)\n",
    "\n",
    "# average over the positive IOD years -------------------------------------------# \n",
    "negIODdata_AS_10_200,negIODlat_AS_10_200,negIODlon_AS_10_200,negIODtime_AS_10_200 = IOD_year_group_coast(doxy_AS_10_200,\n",
    "                                             lat_AS,lon_AS,time_AS,\n",
    "                                             IODyear_begin,IODyear_end,negIODyears)\n",
    "\n",
    "\n",
    "\n",
    "# average over the positive IOD years -------------------------------------------# \n",
    "neuIODdata_AS_10_200,neuIODlat_AS_10_200,neuIODlon_AS_10_200,neuIODtime_AS_10_200 = IOD_year_group_coast(doxy_AS_10_200,\n",
    "                                             lat_AS,lon_AS,time_AS,\n",
    "                                             IODyear_begin,IODyear_end,neuIODyears)\n",
    "\n",
    "\n",
    "\n",
    "# 10-50\n",
    "####################################\n",
    "# average over the positive IOD years -------------------------------------------# \n",
    "posIODdata_AS_10_50,posIODlat_AS_10_50,posIODlon_AS_10_50,posIODtime_AS_10_50 = IOD_year_group_coast(doxy_AS_10_50,\n",
    "                                             lat_AS,lon_AS,time_AS,\n",
    "                                             IODyear_begin,IODyear_end,posIODyears)\n",
    "\n",
    "# average over the positive IOD years -------------------------------------------# \n",
    "negIODdata_AS_10_50,negIODlat_AS_10_50,negIODlon_AS_10_50,negIODtime_AS_10_50 = IOD_year_group_coast(doxy_AS_10_50,\n",
    "                                             lat_AS,lon_AS,time_AS,\n",
    "                                             IODyear_begin,IODyear_end,negIODyears)\n",
    "\n",
    "\n",
    "\n",
    "# average over the positive IOD years -------------------------------------------# \n",
    "neuIODdata_AS_10_50,neuIODlat_AS_10_50,neuIODlon_AS_10_50,neuIODtime_AS_10_50 = IOD_year_group_coast(doxy_AS_10_50,\n",
    "                                             lat_AS,lon_AS,time_AS,\n",
    "                                             IODyear_begin,IODyear_end,neuIODyears)\n",
    "\n",
    "# 50-200\n",
    "####################################\n",
    "# average over the positive IOD years -------------------------------------------# \n",
    "posIODdata_AS_50_200,posIODlat_AS_50_200,posIODlon_AS_50_200,posIODtime_AS_50_200 = IOD_year_group_coast(doxy_AS_50_200,\n",
    "                                             lat_AS,lon_AS,time_AS,\n",
    "                                             IODyear_begin,IODyear_end,posIODyears)\n",
    "\n",
    "# average over the positive IOD years -------------------------------------------# \n",
    "negIODdata_AS_50_200,negIODlat_AS_50_200,negIODlon_AS_50_200,negIODtime_AS_50_200 = IOD_year_group_coast(doxy_AS_50_200,\n",
    "                                             lat_AS,lon_AS,time_AS,\n",
    "                                             IODyear_begin,IODyear_end,negIODyears)\n",
    "\n",
    "\n",
    "\n",
    "# average over the positive IOD years -------------------------------------------# \n",
    "neuIODdata_AS_50_200,neuIODlat_AS_50_200,neuIODlon_AS_50_200,neuIODtime_AS_50_200 = IOD_year_group_coast(doxy_AS_50_200,\n",
    "                                             lat_AS,lon_AS,time_AS,\n",
    "                                             IODyear_begin,IODyear_end,neuIODyears)\n"
   ]
  },
  {
   "cell_type": "code",
   "execution_count": 13,
   "metadata": {},
   "outputs": [],
   "source": [
    "# eBoB\n",
    "\n",
    "# 10-200\n",
    "\n",
    "####################################\n",
    "# average over the positive IOD years -------------------------------------------# \n",
    "posIODdata_eBoB_10_200,posIODlat_eBoB_10_200,posIODlon_eBoB_10_200,posIODtime_eBoB_10_200 = IOD_year_group_coast(doxy_eBoB_10_200,\n",
    "                                             lat_eBoB,lon_eBoB,time_eBoB,\n",
    "                                             IODyear_begin,IODyear_end,posIODyears)\n",
    "\n",
    "# average over the positive IOD years -------------------------------------------# \n",
    "negIODdata_eBoB_10_200,negIODlat_eBoB_10_200,negIODlon_eBoB_10_200,negIODtime_eBoB_10_200 = IOD_year_group_coast(doxy_eBoB_10_200,\n",
    "                                             lat_eBoB,lon_eBoB,time_eBoB,\n",
    "                                             IODyear_begin,IODyear_end,negIODyears)\n",
    "\n",
    "\n",
    "\n",
    "# average over the positive IOD years -------------------------------------------# \n",
    "neuIODdata_eBoB_10_200,neuIODlat_eBoB_10_200,neuIODlon_eBoB_10_200,neuIODtime_eBoB_10_200 = IOD_year_group_coast(doxy_eBoB_10_200,\n",
    "                                             lat_eBoB,lon_eBoB,time_eBoB,\n",
    "                                             IODyear_begin,IODyear_end,neuIODyears)\n",
    "\n",
    "\n",
    "\n",
    "# 10-50\n",
    "####################################\n",
    "# average over the positive IOD years -------------------------------------------# \n",
    "posIODdata_eBoB_10_50,posIODlat_eBoB_10_50,posIODlon_eBoB_10_50,posIODtime_eBoB_10_50 = IOD_year_group_coast(doxy_eBoB_10_50,\n",
    "                                             lat_eBoB,lon_eBoB,time_eBoB,\n",
    "                                             IODyear_begin,IODyear_end,posIODyears)\n",
    "\n",
    "# average over the positive IOD years -------------------------------------------# \n",
    "negIODdata_eBoB_10_50,negIODlat_eBoB_10_50,negIODlon_eBoB_10_50,negIODtime_eBoB_10_50 = IOD_year_group_coast(doxy_eBoB_10_50,\n",
    "                                             lat_eBoB,lon_eBoB,time_eBoB,\n",
    "                                             IODyear_begin,IODyear_end,negIODyears)\n",
    "\n",
    "\n",
    "\n",
    "# average over the positive IOD years -------------------------------------------# \n",
    "neuIODdata_eBoB_10_50,neuIODlat_eBoB_10_50,neuIODlon_eBoB_10_50,neuIODtime_eBoB_10_50 = IOD_year_group_coast(doxy_eBoB_10_50,\n",
    "                                             lat_eBoB,lon_eBoB,time_eBoB,\n",
    "                                             IODyear_begin,IODyear_end,neuIODyears)\n",
    "\n",
    "# 50-200\n",
    "####################################\n",
    "# average over the positive IOD years -------------------------------------------# \n",
    "posIODdata_eBoB_50_200,posIODlat_eBoB_50_200,posIODlon_eBoB_50_200,posIODtime_eBoB_50_200 = IOD_year_group_coast(doxy_eBoB_50_200,\n",
    "                                             lat_eBoB,lon_eBoB,time_eBoB,\n",
    "                                             IODyear_begin,IODyear_end,posIODyears)\n",
    "\n",
    "# average over the positive IOD years -------------------------------------------# \n",
    "negIODdata_eBoB_50_200,negIODlat_eBoB_50_200,negIODlon_eBoB_50_200,negIODtime_eBoB_50_200 = IOD_year_group_coast(doxy_eBoB_50_200,\n",
    "                                             lat_eBoB,lon_eBoB,time_eBoB,\n",
    "                                             IODyear_begin,IODyear_end,negIODyears)\n",
    "\n",
    "\n",
    "\n",
    "# average over the positive IOD years -------------------------------------------# \n",
    "neuIODdata_eBoB_50_200,neuIODlat_eBoB_50_200,neuIODlon_eBoB_50_200,neuIODtime_eBoB_50_200 = IOD_year_group_coast(doxy_eBoB_50_200,\n",
    "                                             lat_eBoB,lon_eBoB,time_eBoB,\n",
    "                                             IODyear_begin,IODyear_end,neuIODyears)\n",
    "\n"
   ]
  },
  {
   "cell_type": "code",
   "execution_count": null,
   "metadata": {},
   "outputs": [],
   "source": []
  },
  {
   "cell_type": "code",
   "execution_count": 14,
   "metadata": {},
   "outputs": [
    {
     "data": {
      "image/png": "[encoded data removed]",
      "text/plain": [
       "<Figure size 1080x720 with 6 Axes>"
      ]
     },
     "metadata": {
      "needs_background": "light"
     },
     "output_type": "display_data"
    }
   ],
   "source": [
    "# Make Histograms \n",
    "binedges = np.linspace(0,250,12)\n",
    "names = ['Positive IOD Years','Negative IOD Years','Neutral IOD Years']\n",
    "colors = ['darkblue','darkorange','purple']\n",
    "\n",
    "fig = plt.figure(figsize=(15, 10))\n",
    "\n",
    "#########################\n",
    "\n",
    "# group data\n",
    "\n",
    "# data_AS_10_200 = [posIODdata_AS_10_200,negIODdata_AS_10_200,neuIODdata_AS_10_200]\n",
    "# data_eBoB_10_200 = [posIODdata_eBoB_10_200,negIODdata_eBoB_10_200,neuIODdata_eBoB_10_200]\n",
    "\n",
    "# data_AS_10_50 = [posIODdata_AS_10_50,negIODdata_AS_10_50,neuIODdata_AS_10_50]\n",
    "# data_AS_10_50 = [posIODdata_eBoB_10_50,negIODdata_eBoB_10_50,neuIODdata_eBoB_10_50]\n",
    "\n",
    "# data_AS_50_200 = [posIODdata_AS_50_200,negIODdata_AS_50_200,neuIODdata_AS_50_200]\n",
    "# data_AS_50_200 =  [posIODdata_eBoB_50_200,negIODdata_eBoB_50_200,neuIODdata_eBoB_50_200]\n",
    "\n",
    "data_AS = [posIODdata_AS_10_200,posIODdata_AS_10_50,posIODdata_AS_50_200,\n",
    "                  negIODdata_AS_10_200,negIODdata_AS_10_50,negIODdata_AS_50_200,\n",
    "                  neuIODdata_AS_10_200,neuIODdata_AS_10_50,neuIODdata_AS_50_200]\n",
    "                                \n",
    "\n",
    "data_eBoB = [posIODdata_eBoB_10_200,posIODdata_eBoB_10_50,posIODdata_eBoB_50_200,\n",
    "             negIODdata_eBoB_10_200,negIODdata_eBoB_10_50,negIODdata_eBoB_50_200,\n",
    "             neuIODdata_eBoB_10_200,neuIODdata_eBoB_10_50,neuIODdata_eBoB_50_200]\n",
    "\n",
    "cnt = 1\n",
    "for pp in range(2):\n",
    "    for cc in range(3):\n",
    "\n",
    "        if cnt < 3:\n",
    "            pdata = data_AS[cc]\n",
    "            ndata = data_AS[cc+3]\n",
    "            nudata = data_AS[cc+6]\n",
    "        else:\n",
    "            pdata = data_eBoB[cc]\n",
    "            ndata = data_eBoB[cc+3]\n",
    "            nudata = data_eBoB[cc+6]\n",
    "\n",
    "        x1 = pdata[~np.isnan(pdata)]\n",
    "        x2 = ndata[~np.isnan(ndata)]\n",
    "        x3 = nudata[~np.isnan(nudata)]\n",
    "\n",
    "        ax = fig.add_subplot(2,3,cnt)\n",
    "        n, bins, patches = plt.hist([x1,x2,x3],bins = binedges,\n",
    "                     density = True,alpha = 0.5,\n",
    "                     color = colors, label=names)\n",
    "        if cnt == 3:\n",
    "            plt.legend()\n",
    "        cnt = cnt + 1\n",
    "    \n",
    "    \n",
    "    "
   ]
  },
  {
   "cell_type": "code",
   "execution_count": 15,
   "metadata": {},
   "outputs": [
    {
     "name": "stdout",
     "output_type": "stream",
     "text": [
      "1\n",
      "4\n",
      "7\n"
     ]
    }
   ],
   "source": [
    "for cc in range(1,9,3):\n",
    "    print(cc)"
   ]
  },
  {
   "cell_type": "code",
   "execution_count": 16,
   "metadata": {},
   "outputs": [],
   "source": [
    "# we want to know when the values of low or higher oxygen occur....\n",
    "\n",
    "# do th 8-12 split so that you can see it more clearly....\n",
    "\n",
    "# maybe show a bar chart with the numbers of months for oxy vals less than seasonal mean?\n",
    "\n",
    "\n",
    "\n"
   ]
  },
  {
   "cell_type": "code",
   "execution_count": null,
   "metadata": {},
   "outputs": [],
   "source": []
  },
  {
   "cell_type": "code",
   "execution_count": null,
   "metadata": {},
   "outputs": [],
   "source": []
  },
  {
   "cell_type": "code",
   "execution_count": 17,
   "metadata": {},
   "outputs": [
    {
     "data": {
      "text/plain": [
       "<matplotlib.legend.Legend at 0x7f890c1249e8>"
      ]
     },
     "execution_count": 17,
     "metadata": {},
     "output_type": "execute_result"
    },
    {
     "data": {
      "image/png": "[encoded data removed]",
      "text/plain": [
       "<Figure size 1080x720 with 1 Axes>"
      ]
     },
     "metadata": {
      "needs_background": "light"
     },
     "output_type": "display_data"
    }
   ],
   "source": [
    "# group into IOD years\n",
    "\n",
    "# load DMI data\n",
    "ds_DMI= xr.open_dataset('../data/DMI/dmi_processed.nc')\n",
    "ds_DMI\n",
    "\n",
    "posIODyears = list(np.array(ds_DMI.pos_IOD_years))\n",
    "negIODyears = list(np.array(ds_DMI.neg_IOD_years))\n",
    "neuIODyears = list(np.array(ds_DMI.neu_IOD_years)) \n",
    "\n",
    "# groupd into IOD years\n",
    "\n",
    "IODyear_begin = '-06-01' # month-day of IOD year\n",
    "IODyear_end = '-05-31' # month-day of year AFTER IOD year\n",
    "\n",
    "\n",
    "# average over the positive IOD years -------------------------------------------# \n",
    "posIODdata,posIODlat,posIODlon,posIODtime = IOD_year_group_coast(doxy_AS_10_200,\n",
    "                                             lat_AS,lon_AS,time_AS,\n",
    "                                             IODyear_begin,IODyear_end,posIODyears)\n",
    "# ds_posIOD = xr.Dataset(coords={'time': posIODtime})\n",
    "# ds_posIOD['posIODdata'] = xr.DataArray(posIODdata,dims = ['time'],coords =[posIODtime])\n",
    "# ds_posIOD['lat'] = xr.DataArray(posIODlat,dims = ['time'],coords =[posIODtime])\n",
    "# ds_posIOD['lon'] = xr.DataArray(posIODlon,dims = ['time'],coords =[posIODtime])\n",
    "# ds_posIOD\n",
    "\n",
    "# average over the positive IOD years -------------------------------------------# \n",
    "negIODdata,negIODlat,negIODlon,negIODtime = IOD_year_group_coast(doxy_AS_10_200,\n",
    "                                             lat_AS,lon_AS,time_AS,\n",
    "                                             IODyear_begin,IODyear_end,negIODyears)\n",
    "# ds_negIOD = xr.Dataset(coords={'time': posIODtime})\n",
    "# ds_negIOD['posIODdata'] = xr.DataArray(posIODdata,dims = ['time'],coords =[posIODtime])\n",
    "# ds_negIOD['lat'] = xr.DataArray(posIODlat,dims = ['time'],coords =[posIODtime])\n",
    "# ds_negIOD['lon'] = xr.DataArray(posIODlon,dims = ['time'],coords =[posIODtime])\n",
    "# ds_posIOD\n",
    "\n",
    "\n",
    "\n",
    "# average over the positive IOD years -------------------------------------------# \n",
    "neuIODdata,neuIODlat,neuIODlon,neuIODtime = IOD_year_group_coast(doxy_AS_10_200,\n",
    "                                             lat_AS,lon_AS,time_AS,\n",
    "                                             IODyear_begin,IODyear_end,neuIODyears)\n",
    "# ds_posIOD = xr.Dataset(coords={'time': posIODtime})\n",
    "# ds_posIOD['posIODdata'] = xr.DataArray(posIODdata,dims = ['time'],coords =[posIODtime])\n",
    "# ds_posIOD['lat'] = xr.DataArray(posIODlat,dims = ['time'],coords =[posIODtime])\n",
    "# ds_posIOD['lon'] = xr.DataArray(posIODlon,dims = ['time'],coords =[posIODtime])\n",
    "# ds_posIOD\n",
    "\n",
    "\n",
    "binedges = np.linspace(0,250,20)\n",
    "names = ['Positive IOD Years','Negative IOD Years','Neutral IOD Years']\n",
    "x1 = posIODdata[~np.isnan(posIODdata)]\n",
    "x2 = negIODdata[~np.isnan(negIODdata)]\n",
    "x3 = neuIODdata[~np.isnan(neuIODdata)]\n",
    "\n",
    "fig = plt.figure(figsize=(15, 10))\n",
    "colors = ['darkblue','darkorange','purple']\n",
    "n, bins, patches = plt.hist([x1,x2,x3],bins = binedges,\n",
    "             density = True,alpha = 0.5,\n",
    "             color = colors, label=names)\n",
    "plt.legend()"
   ]
  },
  {
   "cell_type": "code",
   "execution_count": 18,
   "metadata": {},
   "outputs": [
    {
     "data": {
      "text/plain": [
       "<matplotlib.legend.Legend at 0x7f890c0371d0>"
      ]
     },
     "execution_count": 18,
     "metadata": {},
     "output_type": "execute_result"
    },
    {
     "data": {
      "image/png": "[encoded data removed]",
      "text/plain": [
       "<Figure size 1080x720 with 1 Axes>"
      ]
     },
     "metadata": {
      "needs_background": "light"
     },
     "output_type": "display_data"
    }
   ],
   "source": [
    "# group into IOD years\n",
    "\n",
    "# load DMI data\n",
    "ds_DMI= xr.open_dataset('../data/DMI/dmi_processed.nc')\n",
    "ds_DMI\n",
    "\n",
    "posIODyears = list(np.array(ds_DMI.pos_IOD_years))\n",
    "negIODyears = list(np.array(ds_DMI.neg_IOD_years))\n",
    "neuIODyears = list(np.array(ds_DMI.neu_IOD_years)) \n",
    "\n",
    "# groupd into IOD years\n",
    "\n",
    "IODyear_begin = '-06-01' # month-day of IOD year\n",
    "IODyear_end = '-05-31' # month-day of year AFTER IOD year\n",
    "\n",
    "\n",
    "# average over the positive IOD years -------------------------------------------# \n",
    "posIODdata,posIODlat,posIODlon,posIODtime = IOD_year_group_coast(doxy_eBoB_10_200,\n",
    "                                             lat_eBoB,lon_eBoB,time_eBoB,\n",
    "                                             IODyear_begin,IODyear_end,posIODyears)\n",
    "# ds_posIOD = xr.Dataset(coords={'time': posIODtime})\n",
    "# ds_posIOD['posIODdata'] = xr.DataArray(posIODdata,dims = ['time'],coords =[posIODtime])\n",
    "# ds_posIOD['lat'] = xr.DataArray(posIODlat,dims = ['time'],coords =[posIODtime])\n",
    "# ds_posIOD['lon'] = xr.DataArray(posIODlon,dims = ['time'],coords =[posIODtime])\n",
    "# ds_posIOD\n",
    "\n",
    "# average over the positive IOD years -------------------------------------------# \n",
    "negIODdata,negIODlat,negIODlon,negIODtime = IOD_year_group_coast(doxy_eBoB_10_200,\n",
    "                                             lat_eBoB,lon_eBoB,time_eBoB,\n",
    "                                             IODyear_begin,IODyear_end,negIODyears)\n",
    "# ds_negIOD = xr.Dataset(coords={'time': posIODtime})\n",
    "# ds_negIOD['posIODdata'] = xr.DataArray(posIODdata,dims = ['time'],coords =[posIODtime])\n",
    "# ds_negIOD['lat'] = xr.DataArray(posIODlat,dims = ['time'],coords =[posIODtime])\n",
    "# ds_negIOD['lon'] = xr.DataArray(posIODlon,dims = ['time'],coords =[posIODtime])\n",
    "# ds_posIOD\n",
    "\n",
    "\n",
    "\n",
    "# average over the positive IOD years -------------------------------------------# \n",
    "neuIODdata,neuIODlat,neuIODlon,neuIODtime = IOD_year_group_coast(doxy_eBoB_10_200,\n",
    "                                             lat_eBoB,lon_eBoB,time_eBoB,\n",
    "                                             IODyear_begin,IODyear_end,neuIODyears)\n",
    "# ds_posIOD = xr.Dataset(coords={'time': posIODtime})\n",
    "# ds_posIOD['posIODdata'] = xr.DataArray(posIODdata,dims = ['time'],coords =[posIODtime])\n",
    "# ds_posIOD['lat'] = xr.DataArray(posIODlat,dims = ['time'],coords =[posIODtime])\n",
    "# ds_posIOD['lon'] = xr.DataArray(posIODlon,dims = ['time'],coords =[posIODtime])\n",
    "# ds_posIOD\n",
    "\n",
    "\n",
    "binedges = np.linspace(0,250,20)\n",
    "names = ['Positive IOD Years','Negative IOD Years','Neutral IOD Years']\n",
    "x1 = posIODdata[~np.isnan(posIODdata)]\n",
    "x2 = negIODdata[~np.isnan(negIODdata)]\n",
    "x3 = neuIODdata[~np.isnan(neuIODdata)]\n",
    "\n",
    "fig = plt.figure(figsize=(15, 10))\n",
    "colors = ['darkblue','darkorange','purple']\n",
    "n, bins, patches = plt.hist([x1,x2,x3],bins = binedges,\n",
    "             density = True,alpha = 0.5,\n",
    "             color = colors, label=names)\n",
    "plt.legend()"
   ]
  },
  {
   "cell_type": "code",
   "execution_count": null,
   "metadata": {},
   "outputs": [],
   "source": []
  },
  {
   "cell_type": "code",
   "execution_count": null,
   "metadata": {},
   "outputs": [],
   "source": []
  },
  {
   "cell_type": "code",
   "execution_count": 19,
   "metadata": {},
   "outputs": [],
   "source": [
    "x2 = temp_AS_10_50[~np.isnan(temp_AS_10_50)]\n",
    "x3 = temp_AS_10_50[~np.isnan(temp_AS_50_200)]"
   ]
  },
  {
   "cell_type": "code",
   "execution_count": 20,
   "metadata": {},
   "outputs": [],
   "source": [
    "#end"
   ]
  },
  {
   "cell_type": "code",
   "execution_count": 21,
   "metadata": {},
   "outputs": [
    {
     "name": "stderr",
     "output_type": "stream",
     "text": [
      "/home/jennap/anaconda3/lib/python3.7/site-packages/ipykernel_launcher.py:112: RuntimeWarning: All-NaN slice encountered\n"
     ]
    },
    {
     "name": "stdout",
     "output_type": "stream",
     "text": [
      "Duplicate Values in Minimum. 2 [2 2]\n"
     ]
    },
    {
     "name": "stderr",
     "output_type": "stream",
     "text": [
      "/home/jennap/anaconda3/lib/python3.7/site-packages/ipykernel_launcher.py:112: RuntimeWarning: All-NaN slice encountered\n"
     ]
    },
    {
     "name": "stdout",
     "output_type": "stream",
     "text": [
      "Duplicate Values in Minimum. 2 [3 3]\n"
     ]
    },
    {
     "name": "stderr",
     "output_type": "stream",
     "text": [
      "/home/jennap/anaconda3/lib/python3.7/site-packages/ipykernel_launcher.py:112: RuntimeWarning: All-NaN slice encountered\n"
     ]
    },
    {
     "name": "stdout",
     "output_type": "stream",
     "text": [
      "Duplicate Values in Minimum. 2 [4 4]\n"
     ]
    },
    {
     "name": "stderr",
     "output_type": "stream",
     "text": [
      "/home/jennap/anaconda3/lib/python3.7/site-packages/ipykernel_launcher.py:112: RuntimeWarning: All-NaN slice encountered\n"
     ]
    },
    {
     "name": "stdout",
     "output_type": "stream",
     "text": [
      "Duplicate Values in Minimum. 2 [2 2]\n",
      "Duplicate Values in Minimum. 2 [7 7]\n"
     ]
    }
   ],
   "source": [
    "var = ds_CD.doxy_10_200_ave\n",
    "\n",
    "binwidth = 2\n",
    "bounds = [35,120,-20,30]\n",
    "\n",
    "\n",
    "#######################################################\n",
    "\n",
    "# load DMI data\n",
    "ds_DMI= xr.open_dataset('../data/DMI/dmi_processed.nc')\n",
    "ds_DMI\n",
    "\n",
    "posIODyears = list(np.array(ds_DMI.pos_IOD_years))\n",
    "negIODyears = list(np.array(ds_DMI.neg_IOD_years))\n",
    "neuIODyears = list(np.array(ds_DMI.neu_IOD_years)) \n",
    "\n",
    "# groupd into IOD years\n",
    "\n",
    "IODyear_begin = '-06-01' # month-day of IOD year\n",
    "IODyear_end = '-05-31' # month-day of year AFTER IOD year\n",
    "\n",
    "# average over the positive IOD years -------------------------------------------# \n",
    "posIODdata,posIODlat,posIODlon,posIODtime = IOD_year_group(var,\n",
    "                                             ds_CD.lat,ds_CD.lon,ds_CD.time,\n",
    "                                             IODyear_begin,IODyear_end,posIODyears)\n",
    "ds_posIOD = xr.Dataset(coords={'time': posIODtime})\n",
    "ds_posIOD['posIODdata'] = xr.DataArray(posIODdata,dims = ['time'],coords =[posIODtime])\n",
    "ds_posIOD['lat'] = xr.DataArray(posIODlat,dims = ['time'],coords =[posIODtime])\n",
    "ds_posIOD['lon'] = xr.DataArray(posIODlon,dims = ['time'],coords =[posIODtime])\n",
    "\n",
    "# average over the negative IOD years -------------------------------------------# \n",
    "negIODdata,negIODlat,negIODlon,negIODtime = IOD_year_group(var,\n",
    "                                             ds_CD.lat,ds_CD.lon,ds_CD.time,\n",
    "                                             IODyear_begin,IODyear_end,negIODyears)\n",
    "ds_negIOD = xr.Dataset(coords={'time': negIODtime})\n",
    "ds_negIOD['negIODdata'] = xr.DataArray(negIODdata,dims = ['time'],coords =[negIODtime])\n",
    "ds_negIOD['lat'] = xr.DataArray(negIODlat,dims = ['time'],coords =[negIODtime])\n",
    "ds_negIOD['lon'] = xr.DataArray(negIODlon,dims = ['time'],coords =[negIODtime])\n",
    "\n",
    "# average over the neutral IOD years --------------------------------------------# \n",
    "neuIODdata,neuIODlat,neuIODlon,neuIODtime = IOD_year_group(var,\n",
    "                                             ds_CD.lat,ds_CD.lon,ds_CD.time,\n",
    "                                             IODyear_begin,IODyear_end,neuIODyears)\n",
    "ds_neuIOD = xr.Dataset(coords={'time': neuIODtime})\n",
    "ds_neuIOD['neuIODdata'] = xr.DataArray(neuIODdata,dims = ['time'],coords =[neuIODtime])\n",
    "ds_neuIOD['lat'] = xr.DataArray(neuIODlat,dims = ['time'],coords =[neuIODtime])\n",
    "ds_neuIOD['lon'] = xr.DataArray(neuIODlon,dims = ['time'],coords =[neuIODtime])\n",
    "\n",
    "# #######################################################\n",
    "\n",
    "# get month and season of minimum oxygen\n",
    "\n",
    "# all data ---------------------------------------------------------------------# \n",
    "min_mean,min_mean_mon,min_mean_seas,latbins,lonbins = latlonbin_min_doxy(var,ds_CD.lat,ds_CD.lon,\n",
    "                                                                                      bounds,binwidth)\n",
    "\n",
    "# average over the positive IOD years -------------------------------------------# \n",
    "min_mean_posIOD,min_mean_mon_posIOD,min_mean_seas_posIOD,_,_ = latlonbin_min_doxy(ds_posIOD.posIODdata,\n",
    "                                                                                  ds_posIOD.lat,ds_posIOD.lon,\n",
    "                                                                                  bounds,binwidth)\n",
    "# average over the negative IOD years -------------------------------------------# \n",
    "min_mean_negIOD,min_mean_mon_negIOD,min_mean_seas_negIOD,_,_ = latlonbin_min_doxy(ds_negIOD.negIODdata,\n",
    "                                                                                  ds_negIOD.lat,ds_negIOD.lon,\n",
    "                                                                                  bounds,binwidth)\n",
    "# average over the neutral IOD years --------------------------------------------# \n",
    "min_mean_neuIOD,min_mean_mon_neuIOD,min_mean_seas_neuIOD,_,_ = latlonbin_min_doxy(ds_neuIOD.neuIODdata,\n",
    "                                                                                  ds_neuIOD.lat,ds_neuIOD.lon,\n",
    "                                                                                  bounds,binwidth)\n"
   ]
  },
  {
   "cell_type": "code",
   "execution_count": 22,
   "metadata": {},
   "outputs": [
    {
     "data": {
      "image/png": "[encoded data removed]",
      "text/plain": [
       "<Figure size 432x288 with 2 Axes>"
      ]
     },
     "metadata": {
      "needs_background": "light"
     },
     "output_type": "display_data"
    }
   ],
   "source": [
    "\n",
    "cmap = plt.cm.gist_rainbow\n",
    "plt.pcolormesh(min_mean_mon,cmap=cmap)\n",
    "cbar = plt.colorbar()\n",
    "cbar.set_ticks(np.arange(1,13))\n",
    "cbar.set_ticklabels(np.arange(1,13))\n"
   ]
  },
  {
   "cell_type": "code",
   "execution_count": 23,
   "metadata": {},
   "outputs": [
    {
     "data": {
      "image/png": "[encoded data removed]",
      "text/plain": [
       "<Figure size 432x288 with 2 Axes>"
      ]
     },
     "metadata": {
      "needs_background": "light"
     },
     "output_type": "display_data"
    }
   ],
   "source": [
    "cmap = plt.cm.gist_rainbow\n",
    "plt.pcolormesh(min_mean_seas,cmap=cmap)\n",
    "cbar = plt.colorbar()\n",
    "cbar.set_ticks(np.arange(4))\n",
    "cbar.set_ticklabels(['MAM','JJA','SON','DJF'])"
   ]
  },
  {
   "cell_type": "code",
   "execution_count": 22,
   "metadata": {},
   "outputs": [
    {
     "data": {
      "image/png": "[encoded data removed]",
      "text/plain": [
       "<Figure size 432x288 with 2 Axes>"
      ]
     },
     "metadata": {
      "needs_background": "light"
     },
     "output_type": "display_data"
    }
   ],
   "source": [
    "cmap = plt.cm.gist_rainbow\n",
    "plt.pcolormesh(min_mean_seas_posIOD,cmap=cmap)\n",
    "cbar = plt.colorbar()\n",
    "cbar.set_ticks(np.arange(4))\n",
    "cbar.set_ticklabels(['MAM','JJA','SON','DJF'])"
   ]
  },
  {
   "cell_type": "code",
   "execution_count": 20,
   "metadata": {},
   "outputs": [
    {
     "data": {
      "image/png": "[encoded data removed]",
      "text/plain": [
       "<Figure size 432x288 with 2 Axes>"
      ]
     },
     "metadata": {
      "needs_background": "light"
     },
     "output_type": "display_data"
    }
   ],
   "source": [
    "cmap = plt.cm.gist_rainbow\n",
    "plt.pcolormesh(min_mean_seas_negIOD,cmap=cmap)\n",
    "cbar = plt.colorbar()\n",
    "cbar.set_ticks(np.arange(4))\n",
    "cbar.set_ticklabels(['MAM','JJA','SON','DJF'])"
   ]
  },
  {
   "cell_type": "code",
   "execution_count": 18,
   "metadata": {},
   "outputs": [
    {
     "data": {
      "image/png": "[encoded data removed]",
      "text/plain": [
       "<Figure size 432x288 with 2 Axes>"
      ]
     },
     "metadata": {
      "needs_background": "light"
     },
     "output_type": "display_data"
    }
   ],
   "source": [
    "cmap = plt.cm.gist_rainbow_r\n",
    "plt.pcolormesh(min_mean_posIOD,cmap=cmap)\n",
    "cbar = plt.colorbar()"
   ]
  },
  {
   "cell_type": "code",
   "execution_count": 19,
   "metadata": {},
   "outputs": [
    {
     "data": {
      "image/png": "[encoded data removed]",
      "text/plain": [
       "<Figure size 432x288 with 2 Axes>"
      ]
     },
     "metadata": {
      "needs_background": "light"
     },
     "output_type": "display_data"
    }
   ],
   "source": [
    "cmap = plt.cm.gist_rainbow_r\n",
    "plt.pcolormesh(min_mean_negIOD,cmap=cmap)\n",
    "cbar = plt.colorbar()"
   ]
  },
  {
   "cell_type": "code",
   "execution_count": 14,
   "metadata": {},
   "outputs": [
    {
     "data": {
      "image/png": "[encoded data removed]",
      "text/plain": [
       "<Figure size 432x288 with 2 Axes>"
      ]
     },
     "metadata": {
      "needs_background": "light"
     },
     "output_type": "display_data"
    }
   ],
   "source": [
    "\n",
    "cmap = plt.cm.gist_rainbow\n",
    "plt.pcolormesh(max_mean_seas,cmap=cmap)\n",
    "cbar = plt.colorbar()\n",
    "cbar.set_ticks(np.arange(1,13))\n",
    "cbar.set_ticklabels(np.arange(1,13))\n",
    "\n"
   ]
  },
  {
   "cell_type": "code",
   "execution_count": null,
   "metadata": {},
   "outputs": [],
   "source": [
    "# you left off here on 12.08\n",
    "\n",
    "# - find out why the season plot above isn't going very fast\n",
    "# - make a plot with total, posiod, negiod\n",
    "# - make a separate plot with neuiod"
   ]
  },
  {
   "cell_type": "code",
   "execution_count": null,
   "metadata": {},
   "outputs": [],
   "source": [
    "var1 = min_mean\n",
    "var2 = min_mean_seas\n",
    "\n",
    "coastal = True\n",
    "\n",
    "\n",
    "fig, axes = plt.subplots(nrows = 1, ncols = 2,figsize=(16,6),dpi=200,subplot_kw={'projection': ccrs.PlateCarree()})\n",
    "sz = 60\n",
    "\n",
    "cmin1 = 25\n",
    "cmax1 = 225\n",
    "\n",
    "cmin2 = 1\n",
    "cmax2 = 4\n",
    "\n",
    "cmap1 = plt.cm.rainbow\n",
    "\n",
    "# colors = ['royalblue', 'cyan','yellow', 'orange']\n",
    "colors = ['darkorange','dodgerblue','purple', 'teal']\n",
    "\n",
    "xx,yy = np.meshgrid(ds_CD.lon,ds_CD.lat)\n",
    "xx = xx.flatten()\n",
    "yy = yy.flatten()\n",
    "\n",
    "plt.rcParams.update({'legend.fontsize': 16,\n",
    "                     'legend.handlelength': 2,\n",
    "                     \"legend.markerscale\":2,\n",
    "                     'font.size': 12})\n",
    "\n",
    "title = ['Monthly Minimum','Season of Monthly Minimum']\n",
    "season_title = ['MAM','JJA','SON','DJF']\n",
    "##############################################################\n",
    "if coastal == True:\n",
    "    ax = axes[0]\n",
    "    tmp = var1.flatten()\n",
    "    p = ax.scatter(xx[mask],yy[mask],c = tmp[mask],marker='s',s= sz,\n",
    "                          cmap=cmap1,vmin=cmin1,vmax=cmax1,transform=ccrs.PlateCarree())\n",
    "    ax.set_title(title[0])\n",
    "    add_land(ax)\n",
    "    cbar = plt.colorbar(p, ax = ax,orientation='horizontal')\n",
    "    cbar.set_label('Mean 10-200dbar [$O_2$] ($\\mu mol/ kg$)')\n",
    "\n",
    "    ax = axes[1]\n",
    "    add_land(ax)\n",
    "    tmp = var2.flatten()\n",
    "    tmp = tmp[mask]\n",
    "    xx = xx[mask]\n",
    "    yy = yy[mask]\n",
    "    season = np.arange(1,5)\n",
    "    for ss in range(4):\n",
    "        ind = tmp == (season[ss])\n",
    "        \n",
    "        p = ax.scatter(xx[ind],yy[ind],c = colors[ss],label = season_title[ss],marker='s',s= sz,\n",
    "                          cmap=cmap2,vmin=cmin2,vmax=cmax2,transform=ccrs.PlateCarree())\n",
    "    add_land(ax)\n",
    "    ax.set_title(title[1])\n",
    "    # get first axes height\n",
    "    \n",
    "    box0 = axes[0].get_position()\n",
    "    box = ax.get_position()\n",
    "    ax.set_position([box.x0, box0.y0, box0.width, box0.height])\n",
    "    ax.legend(loc='lower center', bbox_to_anchor=(0.5, -.36),\n",
    "          ncol=4, fancybox=True, shadow=True)\n",
    "\n",
    "else:\n",
    "    ax = axes[0]\n",
    "    tmp = var1.flatten()\n",
    "    p = ax.scatter(xx,yy,c = tmp,marker='s',s= sz,\n",
    "                          cmap=cmap1,vmin=cmin1,vmax=cmax1,transform=ccrs.PlateCarree())\n",
    "    ax.set_title(title[0])\n",
    "    add_land(ax)\n",
    "    cbar = plt.colorbar(p, ax = ax,orientation='horizontal')\n",
    "    cbar.set_label('Mean 10-200dbar [$O_2$] ($\\mu mol/ kg$)')\n",
    "\n",
    "    ax = axes[1]\n",
    "    add_land(ax)\n",
    "    tmp = var2.flatten()\n",
    "    season = np.arange(1,5)\n",
    "    for ss in range(4):\n",
    "        ind = tmp == (season[ss])\n",
    "        p = ax.scatter(xx[ind],yy[ind],c = colors[ss],label = season_title[ss],marker='s',s= sz,\n",
    "                          cmap=cmap2,vmin=cmin2,vmax=cmax2,transform=ccrs.PlateCarree())\n",
    "    add_land(ax)\n",
    "    ax.set_title(title[1])\n",
    "    # get first axes height\n",
    "    \n",
    "    box0 = axes[0].get_position()\n",
    "    box = ax.get_position()\n",
    "    ax.set_position([box.x0, box0.y0, box0.width, box0.height])\n",
    "    ax.legend(loc='lower center', bbox_to_anchor=(0.5, -.36),\n",
    "          ncol=4, fancybox=True, shadow=True)\n"
   ]
  }
 ],
 "metadata": {
  "kernelspec": {
   "display_name": "Python 3",
   "language": "python",
   "name": "python3"
  },
  "language_info": {
   "codemirror_mode": {
    "name": "ipython",
    "version": 3
   },
   "file_extension": ".py",
   "mimetype": "text/x-python",
   "name": "python",
   "nbconvert_exporter": "python",
   "pygments_lexer": "ipython3",
   "version": "3.7.3"
  }
 },
 "nbformat": 4,
 "nbformat_minor": 2
}
