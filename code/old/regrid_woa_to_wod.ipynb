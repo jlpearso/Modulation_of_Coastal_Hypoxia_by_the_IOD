{
 "cells": [
  {
   "cell_type": "markdown",
   "metadata": {},
   "source": [
    "# Setup"
   ]
  },
  {
   "cell_type": "code",
   "execution_count": 1,
   "metadata": {},
   "outputs": [
    {
     "name": "stdout",
     "output_type": "stream",
     "text": [
      "Default libraries loaded.\n"
     ]
    }
   ],
   "source": [
    "# import your standard packages\n",
    "%run ../pkgs.py\n",
    "\n",
    "# import your local functions\n",
    "sys.path.insert(1, '../')\n",
    "from local_functions import *\n",
    "\n",
    "# make sure the figures plot inline rather than at the end\n",
    "%matplotlib inline"
   ]
  },
  {
   "cell_type": "markdown",
   "metadata": {},
   "source": [
    "# Paths and Parameters"
   ]
  },
  {
   "cell_type": "code",
   "execution_count": 2,
   "metadata": {},
   "outputs": [],
   "source": [
    "outfn = '../../data/woa_to_wod.nc'"
   ]
  },
  {
   "cell_type": "markdown",
   "metadata": {},
   "source": [
    "# Read Data"
   ]
  },
  {
   "cell_type": "code",
   "execution_count": 3,
   "metadata": {},
   "outputs": [
    {
     "data": {
      "text/plain": [
       "<xarray.Dataset>\n",
       "Dimensions:                    (lat: 35, lon: 55, month: 12, pres: 57)\n",
       "Coordinates:\n",
       "  * month                      (month) int64 1 2 3 4 5 6 7 8 9 10 11 12\n",
       "  * pres                       (pres) float32 0.0 5.0 10.0 ... 1450.0 1500.0\n",
       "  * lon                        (lon) float32 48.5 49.5 50.5 ... 101.5 102.5\n",
       "  * lat                        (lat) float32 -1.5 -0.5 0.5 ... 30.5 31.5 32.5\n",
       "Data variables:\n",
       "    temp                       (month, pres, lat, lon) float64 ...\n",
       "    sal                        (month, pres, lat, lon) float64 ...\n",
       "    doxy                       (month, pres, lat, lon) float64 ...\n",
       "    nitrate                    (month, pres, lat, lon) float64 ...\n",
       "    phosphate                  (month, pres, lat, lon) float64 ...\n",
       "    temp_40_200                (month, lat, lon) float64 ...\n",
       "    doxy_40_200                (month, lat, lon) float64 ...\n",
       "    sal_40_200                 (month, lat, lon) float64 ...\n",
       "    nitrate_40_200             (month, lat, lon) float64 ...\n",
       "    phosphate_40_200           (month, lat, lon) float64 ...\n",
       "    temp_50_200                (month, lat, lon) float64 ...\n",
       "    doxy_50_200                (month, lat, lon) float64 ...\n",
       "    sal_50_200                 (month, lat, lon) float64 ...\n",
       "    nitrate_50_200             (month, lat, lon) float64 ...\n",
       "    phosphate_50_200           (month, lat, lon) float64 ...\n",
       "    temp_50_225                (month, lat, lon) float64 ...\n",
       "    doxy_50_225                (month, lat, lon) float64 ...\n",
       "    sal_50_225                 (month, lat, lon) float64 ...\n",
       "    nitrate_50_225             (month, lat, lon) float64 ...\n",
       "    phosphate_50_225           (month, lat, lon) float64 ...\n",
       "    temp_40_200_ann_mean       (lat, lon) float64 ...\n",
       "    doxy_40_200_ann_mean       (lat, lon) float64 ...\n",
       "    sal_40_200_ann_mean        (lat, lon) float64 ...\n",
       "    nitrate_40_200_ann_mean    (lat, lon) float64 ...\n",
       "    phosphate_40_200_ann_mean  (lat, lon) float64 ...\n",
       "    temp_50_200_ann_mean       (lat, lon) float64 ...\n",
       "    doxy_50_200_ann_mean       (lat, lon) float64 ...\n",
       "    sal_50_200_ann_mean        (lat, lon) float64 ...\n",
       "    nitrate_50_200_ann_mean    (lat, lon) float64 ...\n",
       "    phosphate_50_200_ann_mean  (lat, lon) float64 ...\n",
       "    temp_50_225_ann_mean       (lat, lon) float64 ...\n",
       "    doxy_50_225_ann_mean       (lat, lon) float64 ...\n",
       "    sal_50_225_ann_mean        (lat, lon) float64 ...\n",
       "    nitrate_50_225_ann_mean    (lat, lon) float64 ...\n",
       "    phosphate_50_225_ann_mean  (lat, lon) float64 ...\n",
       "    temp_40_200_anom           (month, lat, lon) float64 ...\n",
       "    doxy_40_200_anom           (month, lat, lon) float64 ...\n",
       "    sal_40_200_anom            (month, lat, lon) float64 ...\n",
       "    nitrate_40_200_anom        (month, lat, lon) float64 ...\n",
       "    phosphate_40_200_anom      (month, lat, lon) float64 ...\n",
       "    temp_50_200_anom           (month, lat, lon) float64 ...\n",
       "    doxy_50_200_anom           (month, lat, lon) float64 ...\n",
       "    sal_50_200_anom            (month, lat, lon) float64 ...\n",
       "    nitrate_50_200_anom        (month, lat, lon) float64 ...\n",
       "    phosphate_50_200_anom      (month, lat, lon) float64 ...\n",
       "    temp_50_225_anom           (month, lat, lon) float64 ...\n",
       "    doxy_50_225_anom           (month, lat, lon) float64 ...\n",
       "    sal_50_225_anom            (month, lat, lon) float64 ...\n",
       "    nitrate_50_225_anom        (month, lat, lon) float64 ...\n",
       "    phosphate_50_225_anom      (month, lat, lon) float64 ..."
      ]
     },
     "execution_count": 3,
     "metadata": {},
     "output_type": "execute_result"
    }
   ],
   "source": [
    "ds_WOA = xr.open_dataset('../../data/woa_processed.nc')\n",
    "ds_WOA"
   ]
  },
  {
   "cell_type": "code",
   "execution_count": 6,
   "metadata": {},
   "outputs": [
    {
     "data": {
      "text/plain": [
       "<xarray.Dataset>\n",
       "Dimensions:           (pres: 57, time: 314731)\n",
       "Coordinates:\n",
       "  * time              (time) datetime64[ns] 1770-01-01 1770-01-01 ... 2020-05-31\n",
       "  * pres              (pres) int64 0 5 10 15 20 25 ... 1300 1350 1400 1450 1500\n",
       "Data variables:\n",
       "    temp              (time, pres) float64 ...\n",
       "    sal               (time, pres) float64 ...\n",
       "    doxy              (time, pres) float64 ...\n",
       "    nitrate           (time, pres) float64 ...\n",
       "    phosphate         (time, pres) float64 ...\n",
       "    lat               (time) float32 ...\n",
       "    lon               (time) float32 ...\n",
       "    temp_40_200       (time) float64 ...\n",
       "    doxy_40_200       (time) float64 ...\n",
       "    sal_40_200        (time) float64 ...\n",
       "    nitrate_40_200    (time) float64 ...\n",
       "    phosphate_40_200  (time) float64 ...\n",
       "    temp_50_200       (time) float64 ...\n",
       "    doxy_50_200       (time) float64 ...\n",
       "    sal_50_200        (time) float64 ...\n",
       "    nitrate_50_200    (time) float64 ...\n",
       "    phosphate_50_200  (time) float64 ...\n",
       "    temp_50_225       (time) float64 ...\n",
       "    doxy_50_225       (time) float64 ...\n",
       "    sal_50_225        (time) float64 ...\n",
       "    nitrate_50_225    (time) float64 ...\n",
       "    phosphate_50_225  (time) float64 ..."
      ]
     },
     "execution_count": 6,
     "metadata": {},
     "output_type": "execute_result"
    }
   ],
   "source": [
    "ds_WOD = xr.open_dataset('../../data/wod_processed.nc')\n",
    "ds_WOD"
   ]
  },
  {
   "cell_type": "markdown",
   "metadata": {},
   "source": [
    "# Interpolate to WOD profiles"
   ]
  },
  {
   "cell_type": "code",
   "execution_count": 11,
   "metadata": {},
   "outputs": [
    {
     "name": "stderr",
     "output_type": "stream",
     "text": [
      "100%|██████████| 684/684 [02:24<00:00,  4.87it/s]\n"
     ]
    }
   ],
   "source": [
    "xx,yy = np.meshgrid(ds_WOA.lon,ds_WOA.lat)\n",
    "xx = xx.flatten()\n",
    "yy = yy.flatten()\n",
    "\n",
    "lons = np.array(ds_WOD.lon)\n",
    "lats = np.array(ds_WOD.lat)\n",
    "months = np.array(ds_WOD.time.dt.month)\n",
    "\n",
    "TEMP_WOD = np.zeros((len(months),len(ds_WOD.pres)))*np.nan\n",
    "DOXY_WOD = np.zeros((len(months),len(ds_WOD.pres)))*np.nan\n",
    "SAL_WOD = np.zeros((len(months),len(ds_WOD.pres)))*np.nan\n",
    "NITRATE_WOD = np.zeros((len(months),len(ds_WOD.pres)))*np.nan\n",
    "PHOSPHATE_WOD = np.zeros((len(months),len(ds_WOD.pres)))*np.nan\n",
    "lon_WOD = np.zeros(len(months))*np.nan\n",
    "lat_WOD = np.zeros(len(months))*np.nan\n",
    "month_WOD = np.array(months)\n",
    "month_WOA = np.arange(1,13)\n",
    "\n",
    "n = len(month_WOA)\n",
    "m = len(ds_WOA.pres)\n",
    "\n",
    "with tqdm(total=n * m) as pbar:\n",
    "    for tt in range(n):\n",
    "        for dd in range(m):\n",
    "\n",
    "            temp = np.array(ds_WOA.temp[tt,dd,:,:])\n",
    "            sal = np.array(ds_WOA.sal[tt,dd,:,:])\n",
    "            doxy = np.array(ds_WOA.doxy[tt,dd,:,:])\n",
    "            nitrate = np.array(ds_WOA.nitrate[tt,dd,:,:])\n",
    "            phosphate = np.array(ds_WOA.phosphate[tt,dd,:,:])\n",
    "            \n",
    "            \n",
    "            indq = months == np.array(month_WOA[tt])   \n",
    "            lonq = lons[indq]\n",
    "            latq = lats[indq]\n",
    "\n",
    "            # find the lons and lats of TCD vals at this time\n",
    "            points = np.array( (xx,yy) ).T\n",
    "            temp_values = temp.flatten()\n",
    "            sal_values = sal.flatten()\n",
    "            doxy_values = doxy.flatten()\n",
    "            nitrate_values = nitrate.flatten()\n",
    "            phosphate_values = phosphate.flatten()\n",
    "\n",
    "            TEMP_WOD[indq,dd] = griddata(points, temp_values, (lonq,latq) ,method='linear')\n",
    "            SAL_WOD[indq,dd] = griddata(points, sal_values, (lonq,latq) ,method='linear')\n",
    "            DOXY_WOD[indq,dd] = griddata(points, doxy_values, (lonq,latq) ,method='linear')\n",
    "            NITRATE_WOD[indq,dd] = griddata(points, nitrate_values, (lonq,latq) ,method='linear')\n",
    "            PHOSPHATE_WOD[indq,dd] = griddata(points, phosphate_values, (lonq,latq) ,method='linear')\n",
    "            \n",
    "            lon_WOD[indq] = lonq\n",
    "            lat_WOD[indq] = latq\n",
    "            \n",
    "            pbar.update(1)\n",
    "\n",
    "# set the places that are nans in WOD temp or doxy to nan\n",
    "ind = np.isnan(ds_WOD.temp)\n",
    "TEMP_WOD[ind] = np.nan\n",
    "\n",
    "ind = np.isnan(ds_WOD.doxy)\n",
    "DOXY_WOD[ind] = np.nan\n",
    "\n",
    "ind = np.isnan(ds_WOD.sal)\n",
    "SAL_WOD[ind] = np.nan\n",
    "\n",
    "ind = np.isnan(ds_WOD.nitrate)\n",
    "NITRATE_WOD[ind] = np.nan\n",
    "\n",
    "ind = np.isnan(ds_AWG.phosphate)\n",
    "PHOSPHATE_WOD[ind] = np.nan"
   ]
  },
  {
   "cell_type": "markdown",
   "metadata": {},
   "source": [
    "# SAVE"
   ]
  },
  {
   "cell_type": "code",
   "execution_count": 13,
   "metadata": {},
   "outputs": [],
   "source": [
    "ds_out = xr.Dataset(coords={'month': month_WOD,\n",
    "                        'pres': ds_WOA.pres})\n",
    "\n",
    "# add to dataset\n",
    "ds_out['temp'] = xr.DataArray(TEMP_WOD,dims = ['month','pres'],coords =[month_WOD,ds_WOA.pres])\n",
    "ds_out['sal'] = xr.DataArray(PSAL_WOD,dims = ['month','pres'],coords =[month_WOD,ds_WOA.pres])\n",
    "ds_out['doxy'] = xr.DataArray(DOXY_WOD,dims = ['month','pres'],coords =[month_WOD,ds_WOA.pres])\n",
    "ds_out['nitrate'] = xr.DataArray(NITRATE_WOD,dims = ['month','pres'],coords =[month_WOD,ds_WOA.pres])\n",
    "ds_out['phosphate'] = xr.DataArray(PHOSPHATE_WOD,dims = ['month','pres'],coords =[month_WOD,ds_WOA.pres])\n",
    "ds_out['lon'] = xr.DataArray(lon_WOD,dims = ['month'],coords =[month_WOD])\n",
    "ds_out['lat'] = xr.DataArray(lat_WOD,dims = ['month'],coords =[month_WOD])\n",
    "ds_out \n",
    "\n",
    "\n",
    "# delete if already present\n",
    "if os.path.isfile(outfn):\n",
    "    os.remove(outfn)\n",
    "\n",
    "ds_out.to_netcdf(outfn,mode='w',format = \"NETCDF4\")\n"
   ]
  },
  {
   "cell_type": "code",
   "execution_count": null,
   "metadata": {},
   "outputs": [],
   "source": []
  }
 ],
 "metadata": {
  "kernelspec": {
   "display_name": "Python 3",
   "language": "python",
   "name": "python3"
  },
  "language_info": {
   "codemirror_mode": {
    "name": "ipython",
    "version": 3
   },
   "file_extension": ".py",
   "mimetype": "text/x-python",
   "name": "python",
   "nbconvert_exporter": "python",
   "pygments_lexer": "ipython3",
   "version": "3.7.3"
  }
 },
 "nbformat": 4,
 "nbformat_minor": 2
}
