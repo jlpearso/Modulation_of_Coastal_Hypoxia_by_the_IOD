{
 "cells": [
  {
   "cell_type": "markdown",
   "metadata": {},
   "source": [
    "# Setup"
   ]
  },
  {
   "cell_type": "code",
   "execution_count": 1,
   "metadata": {},
   "outputs": [
    {
     "name": "stdout",
     "output_type": "stream",
     "text": [
      "Default libraries loaded.\n"
     ]
    }
   ],
   "source": [
    "# import your standard packages\n",
    "%run ../../../global_tools/start.py\n",
    "\n",
    "# import your local functions\n",
    "sys.path.insert(1, '../../code/')\n",
    "from local_functions import *\n",
    "\n",
    "# make sure the figures plot inline rather than at the end\n",
    "%matplotlib inline\n"
   ]
  },
  {
   "cell_type": "markdown",
   "metadata": {},
   "source": [
    "# Paths and Parameters"
   ]
  },
  {
   "cell_type": "code",
   "execution_count": 2,
   "metadata": {},
   "outputs": [],
   "source": [
    "outfn = '../../data/sla_to_woa.nc'\n",
    "\n",
    "# regional \n",
    "bounds_wAS = [51.125,66,14.5,28]\n",
    "bounds_eAS = [66,79,3,28]\n",
    "bounds_eAS_SL = [79,83,3,7]\n",
    "# bounds_wBoB = [79,87,2,28]\n",
    "bounds_wBoB = [79,87,10,28]\n",
    "bounds_wBoB_SL = [80,87,7,10]\n",
    "bounds_eBoB = [87,103,0,28]\n",
    "\n",
    "ds_out = xr.Dataset()"
   ]
  },
  {
   "cell_type": "markdown",
   "metadata": {},
   "source": [
    "# Read Data"
   ]
  },
  {
   "cell_type": "code",
   "execution_count": 3,
   "metadata": {},
   "outputs": [
    {
     "data": {
      "text/plain": [
       "<xarray.Dataset>\n",
       "Dimensions:           (day_time: 10013, lat: 138, loc_list: 6, lon: 216, month: 12, no_stations: 495, time: 329)\n",
       "Coordinates:\n",
       "  * lon               (lon) float64 48.62 48.88 49.12 ... 101.9 102.1 102.4\n",
       "  * lat               (lat) float64 -1.375 -1.125 -0.875 ... 32.38 32.62 32.88\n",
       "  * time              (time) datetime64[ns] 1993-01-01 1993-02-01 ... 2020-05-01\n",
       "  * day_time          (day_time) datetime64[ns] 1993-01-01 ... 2020-05-31\n",
       "  * month             (month) int64 1 2 3 4 5 6 7 8 9 10 11 12\n",
       "  * no_stations       (no_stations) float64 1.0 2.0 3.0 ... 493.0 494.0 495.0\n",
       "  * loc_list          (loc_list) int64 0 75 225 294 406 494\n",
       "Data variables:\n",
       "    daily_sla         (day_time, lat, lon) float64 ...\n",
       "    mon_sla           (time, lat, lon) float64 ...\n",
       "    mon_sla_mon_clim  (month, lat, lon) float64 ...\n",
       "    mon_sla_mon_anom  (time, lat, lon) float64 ...\n",
       "    sta_loninds       (no_stations) int64 ...\n",
       "    sta_latinds       (no_stations) int64 ...\n",
       "    sta_lon           (no_stations) float32 ...\n",
       "    sta_lat           (no_stations) float32 ..."
      ]
     },
     "execution_count": 3,
     "metadata": {},
     "output_type": "execute_result"
    }
   ],
   "source": [
    "# SLA\n",
    "ds_SLA = xr.open_dataset('../../data/sla_processed.nc')\n",
    "ds_SLA"
   ]
  },
  {
   "cell_type": "code",
   "execution_count": 4,
   "metadata": {},
   "outputs": [],
   "source": [
    "# WOA\n",
    "infn_WOA = '../../data/woa_processed.nc'\n",
    "\n",
    "ds_WOA = xr.open_dataset(infn_WOA)\n",
    "# ds_WOA"
   ]
  },
  {
   "cell_type": "code",
   "execution_count": 5,
   "metadata": {},
   "outputs": [
    {
     "data": {
      "text/plain": [
       "<xarray.Dataset>\n",
       "Dimensions:         (lat: 138, lat_ro: 138, lat_woa: 35, loc_wod: 314731, loc_wod18: 301299, lon: 226, lon_ro: 216, lon_woa: 55)\n",
       "Coordinates:\n",
       "  * lat             (lat) float64 -1.5 -1.25 -1.0 -0.75 ... 32.25 32.5 32.75\n",
       "  * lon             (lon) float64 48.5 48.75 49.0 49.25 ... 104.2 104.5 104.8\n",
       "  * lat_ro          (lat_ro) float64 -1.375 -1.125 -0.875 ... 32.38 32.62 32.88\n",
       "  * lon_ro          (lon_ro) float64 48.62 48.88 49.12 ... 101.9 102.1 102.4\n",
       "  * lat_woa         (lat_woa) float32 -1.5 -0.5 0.5 1.5 ... 29.5 30.5 31.5 32.5\n",
       "  * lon_woa         (lon_woa) float32 48.5 49.5 50.5 51.5 ... 100.5 101.5 102.5\n",
       "  * loc_wod         (loc_wod) int64 0 1 2 3 4 ... 314727 314728 314729 314730\n",
       "  * loc_wod18       (loc_wod18) int64 0 1 2 3 4 ... 301295 301296 301297 301298\n",
       "Data variables:\n",
       "    maskw           (lat, lon) float64 ...\n",
       "    maskw_ro        (lat_ro, lon_ro) int64 ...\n",
       "    maskn           (lat, lon) float64 ...\n",
       "    maskw_woa       (lat_woa, lon_woa) bool ...\n",
       "    maskw_ro_woa    (lat_woa, lon_woa) bool ...\n",
       "    maskn_woa       (lat_woa, lon_woa) bool ...\n",
       "    maskw_wod       (loc_wod) bool ...\n",
       "    maskw_ro_wod    (loc_wod) bool ...\n",
       "    maskn_wod       (loc_wod) bool ...\n",
       "    maskw_wod118    (loc_wod18) bool ...\n",
       "    maskw_ro_wod18  (loc_wod18) bool ...\n",
       "    maskn_wod18     (loc_wod18) bool ..."
      ]
     },
     "execution_count": 5,
     "metadata": {},
     "output_type": "execute_result"
    }
   ],
   "source": [
    "ds_mask = xr.open_dataset('../../data/coastal_mask.nc')\n",
    "ds_mask"
   ]
  },
  {
   "cell_type": "markdown",
   "metadata": {},
   "source": [
    "# Regrid"
   ]
  },
  {
   "cell_type": "code",
   "execution_count": 6,
   "metadata": {},
   "outputs": [
    {
     "name": "stderr",
     "output_type": "stream",
     "text": [
      "100%|██████████| 12/12 [00:06<00:00,  1.90it/s]\n"
     ]
    }
   ],
   "source": [
    "xx,yy = np.meshgrid(ds_SLA.lon,ds_SLA.lat)\n",
    "xx = xx.flatten()\n",
    "yy = yy.flatten()\n",
    "\n",
    "xx_WOA,yy_WOA = np.meshgrid(ds_WOA.lon,ds_WOA.lat)\n",
    "\n",
    "mon_sla_mon_clim_WOA = np.zeros((len(ds_WOA.month),len(ds_WOA.lat),len(ds_WOA.lon)))*np.nan\n",
    "\n",
    "for tt in tqdm(range(len(ds_WOA.month))):\n",
    "\n",
    "    temp_sla = np.array(ds_SLA.mon_sla_mon_clim[tt,:,:])\n",
    "\n",
    "    # find the lons and lats of TCD vals at this time\n",
    "\n",
    "    points = np.array( (xx,yy) ).T\n",
    "    temp_values = temp_sla.flatten()\n",
    "\n",
    "    mon_sla_mon_clim_WOA[tt,:,:] = griddata(points, temp_values, (xx_WOA,yy_WOA) ,method='linear')\n",
    "\n",
    "# ds_out = xr.Dataset(coords={'month': ds_WOA.month,\n",
    "#                         'lon': ds_WOA.lon,\n",
    "#                         'lat': ds_WOA.lat})\n",
    "coords = [ds_WOA.month,ds_WOA.lat,ds_WOA.lon]\n",
    "dims = ['month','lat','lon']\n",
    "\n",
    "# add to dataset\n",
    "ds_out['mon_sla_mon_clim'] = xr.DataArray(mon_sla_mon_clim_WOA,dims = dims,coords = coords)\n",
    "\n"
   ]
  },
  {
   "cell_type": "markdown",
   "metadata": {},
   "source": [
    "# Sample Plot"
   ]
  },
  {
   "cell_type": "code",
   "execution_count": 7,
   "metadata": {},
   "outputs": [
    {
     "data": {
      "text/plain": [
       "Text(0.5, 1.0, 'Original')"
      ]
     },
     "execution_count": 7,
     "metadata": {},
     "output_type": "execute_result"
    },
    {
     "data": {
      "image/png": "[encoded data removed]",
      "text/plain": [
       "<Figure size 432x288 with 1 Axes>"
      ]
     },
     "metadata": {
      "needs_background": "light"
     },
     "output_type": "display_data"
    }
   ],
   "source": [
    "plt.pcolor(ds_SLA.mon_sla_mon_clim[0,:,:])\n",
    "plt.title('Original')"
   ]
  },
  {
   "cell_type": "code",
   "execution_count": 8,
   "metadata": {},
   "outputs": [
    {
     "data": {
      "text/plain": [
       "Text(0.5, 1.0, 'Regridded')"
      ]
     },
     "execution_count": 8,
     "metadata": {},
     "output_type": "execute_result"
    },
    {
     "data": {
      "image/png": "[encoded data removed]",
      "text/plain": [
       "<Figure size 432x288 with 1 Axes>"
      ]
     },
     "metadata": {
      "needs_background": "light"
     },
     "output_type": "display_data"
    }
   ],
   "source": [
    "plt.pcolor(ds_out.mon_sla_mon_clim[0,:,:])\n",
    "plt.title('Regridded')"
   ]
  },
  {
   "cell_type": "markdown",
   "metadata": {},
   "source": [
    "# Convert to Coastal"
   ]
  },
  {
   "cell_type": "code",
   "execution_count": 9,
   "metadata": {},
   "outputs": [
    {
     "data": {
      "text/plain": [
       "<matplotlib.collections.PathCollection at 0x7f45f71daba8>"
      ]
     },
     "execution_count": 9,
     "metadata": {},
     "output_type": "execute_result"
    },
    {
     "data": {
      "image/png": "[encoded data removed]",
      "text/plain": [
       "<Figure size 432x288 with 1 Axes>"
      ]
     },
     "metadata": {
      "needs_background": "light"
     },
     "output_type": "display_data"
    }
   ],
   "source": [
    "sla = ds_out.mon_sla_mon_clim\n",
    "\n",
    "#############################################################\n",
    "#----------------- Western Arabian Sea ---------------------#\n",
    "#############################################################\n",
    "lat_slice_wAS = slice(bounds_wAS[2],bounds_wAS[3]) \n",
    "lon_slice_wAS = slice(bounds_wAS[0],bounds_wAS[1]) \n",
    "\n",
    "#subset gridded data\n",
    "sla_wAS = sla.sel(lat = lat_slice_wAS, lon = lon_slice_wAS)\n",
    "mask_wAS = np.array(ds_mask.maskn_woa.sel(lat_woa = lat_slice_wAS, lon_woa = lon_slice_wAS)).flatten()\n",
    "\n",
    "xx,yy = np.meshgrid(np.array(sla_wAS.lon),np.array(sla_wAS.lat))\n",
    "xx_wAS = xx.flatten()\n",
    "yy_wAS = yy.flatten()\n",
    "\n",
    "sla_wAS = sla_wAS.stack(allpoints=['lat','lon'])[:,mask_wAS]\n",
    "xx_wAS = xx_wAS[mask_wAS]\n",
    "yy_wAS = yy_wAS[mask_wAS]\n",
    "\n",
    "mon_wAS = np.full(sla_wAS.shape,np.nan)\n",
    "lat_wAS = np.full(sla_wAS.shape,np.nan)\n",
    "lon_wAS = np.full(sla_wAS.shape,np.nan)\n",
    "for tt in range(1,13):\n",
    "    mon_wAS[tt-1,:] = np.ones([1,sla_wAS.shape[1]])*tt\n",
    "    lat_wAS[tt-1,:] = yy_wAS\n",
    "    lon_wAS[tt-1,:] = xx_wAS\n",
    "    \n",
    "sla_wAS = np.array(sla_wAS).flatten()\n",
    "mon_wAS = np.array(mon_wAS).flatten()\n",
    "lat_wAS = np.array(lat_wAS).flatten()\n",
    "lon_wAS = np.array(lon_wAS).flatten()\n",
    "\n",
    "#############################################################\n",
    "#----------------- Eastern Arabian Sea ---------------------#\n",
    "#############################################################\n",
    "\n",
    "lat_slice_eAS = slice(bounds_eAS[2],bounds_eAS[3]) \n",
    "lon_slice_eAS = slice(bounds_eAS[0],bounds_eAS[1]) \n",
    "\n",
    "#subset gridded data\n",
    "sla_eAS = sla.sel(lat = lat_slice_eAS, lon = lon_slice_eAS)\n",
    "mask_eAS = np.array(ds_mask.maskw_ro_woa.sel(lat_woa = lat_slice_eAS, lon_woa = lon_slice_eAS)).flatten()\n",
    "\n",
    "# convert to coastal\n",
    "xx,yy = np.meshgrid(np.array(sla_eAS.lon),np.array(sla_eAS.lat))\n",
    "xx_eAS = xx.flatten()\n",
    "yy_eAS = yy.flatten()\n",
    "\n",
    "sla_eAS = sla_eAS.stack(allpoints=['lat','lon'])[:,mask_eAS]\n",
    "xx_eAS = xx_eAS[mask_eAS]\n",
    "yy_eAS = yy_eAS[mask_eAS]\n",
    "\n",
    "mon_eAS = np.full(sla_eAS.shape,np.nan)\n",
    "lat_eAS = np.full(sla_eAS.shape,np.nan)\n",
    "lon_eAS = np.full(sla_eAS.shape,np.nan)\n",
    "for tt in range(1,13):\n",
    "    mon_eAS[tt-1,:] = np.ones([1,sla_eAS.shape[1]])*tt\n",
    "    lat_eAS[tt-1,:] = yy_eAS\n",
    "    lon_eAS[tt-1,:] = xx_eAS\n",
    "    \n",
    "sla_eAS = np.array(sla_eAS).flatten()\n",
    "mon_eAS = np.array(mon_eAS).flatten()\n",
    "lat_eAS = np.array(lat_eAS).flatten()\n",
    "lon_eAS = np.array(lon_eAS).flatten()\n",
    "\n",
    "# SL area --------------------------------------------------#\n",
    "lat_slice_eAS_SL = slice(bounds_eAS_SL[2],bounds_eAS_SL[3]) \n",
    "lon_slice_eAS_SL = slice(bounds_eAS_SL[0],bounds_eAS_SL[1]) \n",
    "\n",
    "#subset gridded data\n",
    "sla_eAS_SL = sla.sel(lat = lat_slice_eAS_SL, lon = lon_slice_eAS_SL)\n",
    "mask_eAS_SL = np.array(ds_mask.maskw_ro_woa.sel(lat_woa = lat_slice_eAS_SL, \n",
    "                                                lon_woa = lon_slice_eAS_SL)).flatten()\n",
    "\n",
    "# convert to coastal\n",
    "xx,yy = np.meshgrid(np.array(sla_eAS_SL.lon),np.array(sla_eAS_SL.lat))\n",
    "xx_eAS_SL = xx.flatten()\n",
    "yy_eAS_SL = yy.flatten()\n",
    "\n",
    "sla_eAS_SL = sla_eAS_SL.stack(allpoints=['lat','lon'])[:,mask_eAS_SL]\n",
    "xx_eAS_SL = xx_eAS_SL[mask_eAS_SL]\n",
    "yy_eAS_SL = yy_eAS_SL[mask_eAS_SL]\n",
    "\n",
    "mon_eAS_SL = np.full(sla_eAS_SL.shape,np.nan)\n",
    "lat_eAS_SL = np.full(sla_eAS_SL.shape,np.nan)\n",
    "lon_eAS_SL = np.full(sla_eAS_SL.shape,np.nan)\n",
    "for tt in range(1,13):\n",
    "    mon_eAS_SL[tt-1,:] = np.ones([1,sla_eAS_SL.shape[1]])*tt\n",
    "    lat_eAS_SL[tt-1,:] = yy_eAS_SL\n",
    "    lon_eAS_SL[tt-1,:] = xx_eAS_SL\n",
    "    \n",
    "sla_eAS_SL = np.array(sla_eAS_SL).flatten()\n",
    "mon_eAS_SL = np.array(mon_eAS_SL).flatten()\n",
    "lat_eAS_SL = np.array(lat_eAS_SL).flatten()\n",
    "lon_eAS_SL = np.array(lon_eAS_SL).flatten()\n",
    "\n",
    "# combine\n",
    "sla_eAS = np.concatenate((sla_eAS,sla_eAS_SL),0)\n",
    "mon_eAS = np.concatenate((mon_eAS,mon_eAS_SL),0)\n",
    "lat_eAS = np.concatenate((lat_eAS,lat_eAS_SL),0)\n",
    "lon_eAS = np.concatenate((lon_eAS,lon_eAS_SL),0)\n",
    "\n",
    "#############################################################\n",
    "#---------------- Western Bay of Bengal --------------------#\n",
    "#############################################################\n",
    "\n",
    "lat_slice_wBoB = slice(bounds_wBoB[2],bounds_wBoB[3])\n",
    "lon_slice_wBoB = slice(bounds_wBoB[0],bounds_wBoB[1])\n",
    "\n",
    "#subset gridded data\n",
    "sla_wBoB = sla.sel(lat = lat_slice_wBoB, lon = lon_slice_wBoB)\n",
    "mask_wBoB = np.array(ds_mask.maskn_woa.sel(lat_woa = lat_slice_wBoB, lon_woa = lon_slice_wBoB)).flatten()\n",
    "\n",
    "# convert to coastal\n",
    "xx,yy = np.meshgrid(np.array(sla_wBoB.lon),np.array(sla_wBoB.lat))\n",
    "xx_wBoB = xx.flatten()\n",
    "yy_wBoB = yy.flatten()\n",
    "\n",
    "sla_wBoB = sla_wBoB.stack(allpoints=['lat','lon'])[:,mask_wBoB]\n",
    "xx_wBoB = xx_wBoB[mask_wBoB]\n",
    "yy_wBoB = yy_wBoB[mask_wBoB]\n",
    "\n",
    "mon_wBoB = np.full(sla_wBoB.shape,np.nan)\n",
    "lat_wBoB = np.full(sla_wBoB.shape,np.nan)\n",
    "lon_wBoB = np.full(sla_wBoB.shape,np.nan)\n",
    "for tt in range(1,13):\n",
    "    mon_wBoB[tt-1,:] = np.ones([1,sla_wBoB.shape[1]])*tt\n",
    "    lat_wBoB[tt-1,:] = yy_wBoB\n",
    "    lon_wBoB[tt-1,:] = xx_wBoB\n",
    "    \n",
    "sla_wBoB = np.array(sla_wBoB).flatten()\n",
    "mon_wBoB = np.array(mon_wBoB).flatten()\n",
    "lat_wBoB = np.array(lat_wBoB).flatten()\n",
    "lon_wBoB = np.array(lon_wBoB).flatten()\n",
    "\n",
    "# SL area --------------------------------------------------#\n",
    "\n",
    "lat_slice_wBoB_SL = slice(bounds_wBoB_SL[2],bounds_wBoB_SL[3])\n",
    "lon_slice_wBoB_SL = slice(bounds_wBoB_SL[0],bounds_wBoB_SL[1])\n",
    "\n",
    "#subset gridded data\n",
    "sla_wBoB_SL = sla.sel(lat = lat_slice_wBoB_SL, lon = lon_slice_wBoB_SL)\n",
    "mask_wBoB_SL = np.array(ds_mask.maskn_woa.sel(lat_woa = lat_slice_wBoB_SL, \n",
    "                                              lon_woa = lon_slice_wBoB_SL)).flatten()\n",
    "\n",
    "# convert to coastal\n",
    "xx,yy = np.meshgrid(np.array(sla_wBoB_SL.lon),np.array(sla_wBoB_SL.lat))\n",
    "xx_wBoB_SL = xx.flatten()\n",
    "yy_wBoB_SL = yy.flatten()\n",
    "\n",
    "sla_wBoB_SL = sla_wBoB_SL.stack(allpoints=['lat','lon'])[:,mask_wBoB_SL]\n",
    "xx_wBoB_SL = xx_wBoB_SL[mask_wBoB_SL]\n",
    "yy_wBoB_SL = yy_wBoB_SL[mask_wBoB_SL]\n",
    "\n",
    "mon_wBoB_SL = np.full(sla_wBoB_SL.shape,np.nan)\n",
    "lat_wBoB_SL = np.full(sla_wBoB_SL.shape,np.nan)\n",
    "lon_wBoB_SL = np.full(sla_wBoB_SL.shape,np.nan)\n",
    "for tt in range(1,13):\n",
    "    mon_wBoB_SL[tt-1,:] = np.ones([1,sla_wBoB_SL.shape[1]])*tt\n",
    "    lat_wBoB_SL[tt-1,:] = yy_wBoB_SL\n",
    "    lon_wBoB_SL[tt-1,:] = xx_wBoB_SL\n",
    "    \n",
    "sla_wBoB_SL = np.array(sla_wBoB_SL).flatten()\n",
    "mon_wBoB_SL = np.array(mon_wBoB_SL).flatten()\n",
    "lat_wBoB_SL = np.array(lat_wBoB_SL).flatten()\n",
    "lon_wBoB_SL = np.array(lon_wBoB_SL).flatten()\n",
    "\n",
    "# combine\n",
    "sla_wBoB = np.concatenate((sla_wBoB,sla_wBoB_SL),0)\n",
    "mon_wBoB = np.concatenate((mon_wBoB,mon_wBoB_SL),0)\n",
    "lat_wBoB = np.concatenate((lat_wBoB,lat_wBoB_SL),0)\n",
    "lon_wBoB = np.concatenate((lon_wBoB,lon_wBoB_SL),0)\n",
    "\n",
    "#############################################################\n",
    "#---------------- Eastern Bay of Bengal --------------------#\n",
    "#############################################################\n",
    "\n",
    "lat_slice_eBoB = slice(bounds_eBoB[2],bounds_eBoB[3])\n",
    "lon_slice_eBoB = slice(bounds_eBoB[0],bounds_eBoB[1])\n",
    "\n",
    "#subset gridded data\n",
    "sla_eBoB = sla.sel(lat = lat_slice_eBoB, lon = lon_slice_eBoB)\n",
    "mask_eBoB = np.array(ds_mask.maskw_ro_woa.sel(lat_woa = lat_slice_eBoB, lon_woa = lon_slice_eBoB)).flatten()\n",
    "\n",
    "# convert to coastal\n",
    "xx,yy = np.meshgrid(np.array(sla_eBoB.lon),np.array(sla_eBoB.lat))\n",
    "xx_eBoB = xx.flatten()\n",
    "yy_eBoB = yy.flatten()\n",
    "\n",
    "sla_eBoB = sla_eBoB.stack(allpoints=['lat','lon'])[:,mask_eBoB]\n",
    "xx_eBoB = xx_eBoB[mask_eBoB]\n",
    "yy_eBoB = yy_eBoB[mask_eBoB]\n",
    "\n",
    "mon_eBoB = np.full(sla_eBoB.shape,np.nan)\n",
    "lat_eBoB = np.full(sla_eBoB.shape,np.nan)\n",
    "lon_eBoB = np.full(sla_eBoB.shape,np.nan)\n",
    "for tt in range(1,13):\n",
    "    mon_eBoB[tt-1,:] = np.ones([1,sla_eBoB.shape[1]])*tt\n",
    "    lat_eBoB[tt-1,:] = yy_eBoB\n",
    "    lon_eBoB[tt-1,:] = xx_eBoB\n",
    "        \n",
    "sla_eBoB = np.array(sla_eBoB).flatten()\n",
    "mon_eBoB = np.array(mon_eBoB).flatten()\n",
    "lat_eBoB = np.array(lat_eBoB).flatten()\n",
    "lon_eBoB = np.array(lon_eBoB).flatten()\n",
    "\n",
    "#############################################################\n",
    "#---------------------- Save Data --------------------------#\n",
    "#############################################################\n",
    "\n",
    "ds_out['lat_wAS'] = xr.DataArray(lat_wAS,dims = ['month_wAS'],coords =[mon_wAS])\n",
    "ds_out['lon_wAS'] = xr.DataArray(lon_wAS,dims = ['month_wAS'],coords =[mon_wAS])\n",
    "ds_out['lat_eAS'] = xr.DataArray(lat_eAS,dims = ['month_eAS'],coords =[mon_eAS])\n",
    "ds_out['lon_eAS'] = xr.DataArray(lon_eAS,dims = ['month_eAS'],coords =[mon_eAS])\n",
    "ds_out['lat_wBoB'] = xr.DataArray(lat_wBoB,dims = ['month_wBoB'],coords =[mon_wBoB])\n",
    "ds_out['lon_wBoB'] = xr.DataArray(lon_wBoB,dims = ['month_wBoB'],coords =[mon_wBoB])\n",
    "ds_out['lat_eBoB'] = xr.DataArray(lat_eBoB,dims = ['month_eBoB'],coords =[mon_eBoB])\n",
    "ds_out['lon_eBoB'] = xr.DataArray(lon_eBoB,dims = ['month_eBoB'],coords =[mon_eBoB])\n",
    "\n",
    "\n",
    "# Western Arabian Sea\n",
    "ds_out['sla_wAS'] = xr.DataArray(sla_wAS,dims = ['month_wAS'],coords =[mon_wAS])\n",
    "\n",
    "# Eastern Arabian Sea\n",
    "ds_out['sla_eAS'] = xr.DataArray(sla_eAS,dims = ['month_eAS'],coords =[mon_eAS])\n",
    "\n",
    "# Western Bay of Bengal\n",
    "ds_out['sla_wBoB'] = xr.DataArray(sla_wBoB,dims = ['month_wBoB'],coords =[mon_wBoB])\n",
    "\n",
    "# Eastern Bay of Bengal\n",
    "ds_out['sla_eBoB'] = xr.DataArray(sla_eBoB,dims = ['month_eBoB'],coords =[mon_eBoB])\n",
    "\n",
    "plt.scatter(lon_eBoB,lat_eBoB,c = sla_eBoB)\n",
    "plt.scatter(lon_wBoB,lat_wBoB,c = sla_wBoB)\n",
    "plt.scatter(lon_eAS,lat_eAS,c = sla_eAS)\n",
    "plt.scatter(lon_wAS,lat_wAS,c = sla_wAS)\n",
    "\n",
    "\n"
   ]
  },
  {
   "cell_type": "code",
   "execution_count": 10,
   "metadata": {},
   "outputs": [
    {
     "data": {
      "text/plain": [
       "<matplotlib.collections.PathCollection at 0x7f45f716ba90>"
      ]
     },
     "execution_count": 10,
     "metadata": {},
     "output_type": "execute_result"
    },
    {
     "data": {
      "image/png": "[encoded data removed]",
      "text/plain": [
       "<Figure size 432x288 with 1 Axes>"
      ]
     },
     "metadata": {
      "needs_background": "light"
     },
     "output_type": "display_data"
    }
   ],
   "source": [
    "plt.scatter(lon_eBoB,lat_eBoB,color = 'k')\n",
    "plt.scatter(lon_wBoB,lat_wBoB,color = 'r')\n",
    "plt.scatter(lon_eAS,lat_eAS,color = 'b')\n",
    "plt.scatter(lon_wAS,lat_wAS,color = 'g')\n",
    "\n"
   ]
  },
  {
   "cell_type": "markdown",
   "metadata": {},
   "source": [
    "# SAVE"
   ]
  },
  {
   "cell_type": "code",
   "execution_count": 11,
   "metadata": {},
   "outputs": [
    {
     "data": {
      "text/plain": [
       "<xarray.Dataset>\n",
       "Dimensions:           (lat: 35, lon: 55, month: 12, month_eAS: 1128, month_eBoB: 1632, month_wAS: 708, month_wBoB: 288)\n",
       "Coordinates:\n",
       "  * month             (month) int64 1 2 3 4 5 6 7 8 9 10 11 12\n",
       "  * lat               (lat) float32 -1.5 -0.5 0.5 1.5 ... 29.5 30.5 31.5 32.5\n",
       "  * lon               (lon) float32 48.5 49.5 50.5 51.5 ... 100.5 101.5 102.5\n",
       "  * month_wAS         (month_wAS) float64 1.0 1.0 1.0 1.0 ... 12.0 12.0 12.0\n",
       "  * month_eAS         (month_eAS) float64 1.0 1.0 1.0 1.0 ... 12.0 12.0 12.0\n",
       "  * month_wBoB        (month_wBoB) float64 1.0 1.0 1.0 1.0 ... 12.0 12.0 12.0\n",
       "  * month_eBoB        (month_eBoB) float64 1.0 1.0 1.0 1.0 ... 12.0 12.0 12.0\n",
       "Data variables:\n",
       "    mon_sla_mon_clim  (month, lat, lon) float64 nan nan nan nan ... nan nan nan\n",
       "    lat_wAS           (month_wAS) float64 14.5 14.5 15.5 15.5 ... 26.5 27.5 27.5\n",
       "    lon_wAS           (month_wAS) float64 51.5 52.5 52.5 53.5 ... 56.5 51.5 52.5\n",
       "    lat_eAS           (month_eAS) float64 4.5 4.5 5.5 5.5 ... 5.5 6.5 6.5 6.5\n",
       "    lon_eAS           (month_eAS) float64 77.5 78.5 77.5 78.5 ... 79.5 81.5 82.5\n",
       "    lat_wBoB          (month_wBoB) float64 10.5 11.5 12.5 12.5 ... 8.5 9.5 9.5\n",
       "    lon_wBoB          (month_wBoB) float64 80.5 80.5 80.5 ... 82.5 80.5 81.5\n",
       "    lat_eBoB          (month_eBoB) float64 0.5 0.5 0.5 0.5 ... 21.5 21.5 22.5\n",
       "    lon_eBoB          (month_eBoB) float64 95.5 96.5 97.5 ... 90.5 91.5 91.5\n",
       "    sla_wAS           (month_wAS) float64 0.05914 0.0285 0.09702 ... 0.04581 nan\n",
       "    sla_eAS           (month_eAS) float64 0.01553 0.01165 ... nan 0.03081\n",
       "    sla_wBoB          (month_wBoB) float64 0.009364 -0.0122 ... 0.1284 0.01518\n",
       "    sla_eBoB          (month_eBoB) float64 -0.04087 -0.03696 ... -0.04612"
      ]
     },
     "execution_count": 11,
     "metadata": {},
     "output_type": "execute_result"
    }
   ],
   "source": [
    "# delete if already present\n",
    "if os.path.isfile(outfn):\n",
    "    os.remove(outfn)\n",
    "\n",
    "ds_out.to_netcdf(outfn,mode='w',format = \"NETCDF4\")\n",
    "ds_out"
   ]
  },
  {
   "cell_type": "code",
   "execution_count": null,
   "metadata": {},
   "outputs": [],
   "source": []
  }
 ],
 "metadata": {
  "kernelspec": {
   "display_name": "Python 3",
   "language": "python",
   "name": "python3"
  },
  "language_info": {
   "codemirror_mode": {
    "name": "ipython",
    "version": 3
   },
   "file_extension": ".py",
   "mimetype": "text/x-python",
   "name": "python",
   "nbconvert_exporter": "python",
   "pygments_lexer": "ipython3",
   "version": "3.7.3"
  }
 },
 "nbformat": 4,
 "nbformat_minor": 2
}
