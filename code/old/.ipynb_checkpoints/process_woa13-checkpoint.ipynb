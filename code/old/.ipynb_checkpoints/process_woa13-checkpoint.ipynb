{
 "cells": [
  {
   "cell_type": "markdown",
   "metadata": {},
   "source": [
    "# Setup"
   ]
  },
  {
   "cell_type": "code",
   "execution_count": 1,
   "metadata": {},
   "outputs": [
    {
     "name": "stdout",
     "output_type": "stream",
     "text": [
      "Default libraries loaded.\n"
     ]
    }
   ],
   "source": [
    "# import your standard packages\n",
    "%run ../pkgs.py\n",
    "\n",
    "# import your local functions\n",
    "sys.path.insert(1, '../')\n",
    "from local_functions import *\n",
    "\n",
    "# make sure the figures plot inline rather than at the end\n",
    "%matplotlib inline"
   ]
  },
  {
   "cell_type": "markdown",
   "metadata": {},
   "source": [
    "# Parameters and Paths"
   ]
  },
  {
   "cell_type": "code",
   "execution_count": 2,
   "metadata": {},
   "outputs": [],
   "source": [
    "inpath = \"/tigress/GEOCLIM/LRGROUP/shared_data/woa18/\"\n",
    "\n",
    "outfn = '../../data/woa_processed.nc'\n",
    "\n",
    "lat_bounds = [-1.5, 33]\n",
    "lon_bounds = [48.5, 102.5]"
   ]
  },
  {
   "cell_type": "markdown",
   "metadata": {},
   "source": [
    "# Get Data"
   ]
  },
  {
   "cell_type": "code",
   "execution_count": 3,
   "metadata": {},
   "outputs": [
    {
     "name": "stderr",
     "output_type": "stream",
     "text": [
      "100%|██████████| 12/12 [02:03<00:00,  2.74s/it]\n"
     ]
    }
   ],
   "source": [
    "for tt in tqdm(range(1,13)):\n",
    "     \n",
    "    if tt < 10:\n",
    "        t='0'+str(tt)\n",
    "    else:\n",
    "        t=str(tt)\n",
    "        \n",
    "    if tt == 1:\n",
    "        data=xr.open_dataset(inpath+\"temp/1deg/monthly/woa18_decav_t\"+t+\"_01.nc\", decode_times=False)\n",
    "        \n",
    "        DEPTH = data.depth\n",
    "        \n",
    "        \n",
    "        TEMP = np.full([12,data[\"t_an\"].shape[1],data[\"t_an\"].shape[2],data[\"t_an\"].shape[3]],np.nan)\n",
    "        DOXY = np.full([12,data[\"t_an\"].shape[1],data[\"t_an\"].shape[2],data[\"t_an\"].shape[3]],np.nan)\n",
    "        PSAL = np.full([12,data[\"t_an\"].shape[1],data[\"t_an\"].shape[2],data[\"t_an\"].shape[3]],np.nan)\n",
    "        NITRATE = np.full([12,data[\"t_an\"].shape[1],data[\"t_an\"].shape[2],data[\"t_an\"].shape[3]],np.nan)\n",
    "        PHOSPHATE = np.full([12,data[\"t_an\"].shape[1],data[\"t_an\"].shape[2],data[\"t_an\"].shape[3]],np.nan)\n",
    "       \n",
    "        \n",
    "    # TEMP\n",
    "    data=xr.open_dataset(inpath+\"temp/1deg/monthly/woa18_decav_t\"+t+\"_01.nc\", decode_times=False)\n",
    "    TEMP[tt-1,:,:,:] = np.array(data[\"t_an\"][0,:,:,:])\n",
    "    \n",
    "    # PSAL\n",
    "    data=xr.open_dataset(inpath+\"salt/1deg/monthly/woa18_decav_s\"+t+\"_01.nc\", decode_times=False)\n",
    "    PSAL[tt-1,:,:,:] = np.array(data[\"s_an\"][0,:,:,:])\n",
    "    \n",
    "    # DOXY\n",
    "    data=xr.open_dataset(inpath+\"oxygen/monthly/woa18_all_o\"+t+\"_01.nc\", decode_times=False)\n",
    "    DOXY[tt-1,:,:,:] = np.array(data[\"o_an\"][0,:,:,:])\n",
    "    \n",
    "    # Nitrate\n",
    "    data=xr.open_dataset(inpath+\"nitrate/monthly/woa18_all_n\"+t+\"_01.nc\", decode_times=False)\n",
    "    NITRATE[tt-1,:43,:,:] = np.array(data[\"n_an\"][0,:,:,:])\n",
    "    \n",
    "    # Phosphate\n",
    "    data=xr.open_dataset(inpath+\"phosphate/monthly/woa18_all_p\"+t+\"_01.nc\", decode_times=False)\n",
    "    PHOSPHATE[tt-1,:43,:,:] = np.array(data[\"p_an\"][0,:,:,:])\n",
    "    \n",
    "# depth to pressure\n",
    "LAT = np.array(data.lat)\n",
    "LON = np.array(data.lon)\n",
    "\n",
    "# PRES = np.full([len(DEPTH),len(LAT),len(LON)],np.nan)\n",
    "\n",
    "# for ii,tmplat in zip(range(len(LAT)),LAT):\n",
    "#     for jj in range(len(lon)):\n",
    "#         PRES[:,ii,jj]=sw.eos80.pres(DEPTH, [tmplat for i in range(len(DEPTH))])\n"
   ]
  },
  {
   "cell_type": "markdown",
   "metadata": {},
   "source": [
    "# Subset"
   ]
  },
  {
   "cell_type": "code",
   "execution_count": 4,
   "metadata": {},
   "outputs": [
    {
     "data": {
      "text/plain": [
       "<xarray.Dataset>\n",
       "Dimensions:    (depth: 57, lat: 35, lon: 55, month: 12)\n",
       "Coordinates:\n",
       "  * month      (month) int64 1 2 3 4 5 6 7 8 9 10 11 12\n",
       "  * depth      (depth) float32 0.0 5.0 10.0 15.0 ... 1350.0 1400.0 1450.0 1500.0\n",
       "  * lon        (lon) float32 48.5 49.5 50.5 51.5 52.5 ... 99.5 100.5 101.5 102.5\n",
       "  * lat        (lat) float32 -1.5 -0.5 0.5 1.5 2.5 ... 28.5 29.5 30.5 31.5 32.5\n",
       "Data variables:\n",
       "    temp       (month, depth, lat, lon) float64 27.04 27.16 27.28 ... nan nan\n",
       "    psal       (month, depth, lat, lon) float64 35.32 35.32 35.32 ... nan nan\n",
       "    doxy       (month, depth, lat, lon) float64 208.9 209.1 208.3 ... nan nan\n",
       "    nitrate    (month, depth, lat, lon) float64 0.7416 0.4686 0.202 ... nan nan\n",
       "    phosphate  (month, depth, lat, lon) float64 0.1886 0.2047 0.2121 ... nan nan"
      ]
     },
     "execution_count": 4,
     "metadata": {},
     "output_type": "execute_result"
    }
   ],
   "source": [
    "ds_full = xr.Dataset(coords={'month': np.arange(1,13),\n",
    "                        'depth': DEPTH,\n",
    "                        'lon': LON,\n",
    "                        'lat': LAT})\n",
    "\n",
    "coords = [np.arange(1,13),DEPTH,LAT,LON]\n",
    "dims = ['month','depth','lat','lon']\n",
    "\n",
    "# add to dataset\n",
    "ds_full['temp'] = xr.DataArray(TEMP,dims = dims,coords = coords)\n",
    "ds_full['psal'] = xr.DataArray(PSAL,dims = dims,coords = coords)\n",
    "ds_full['doxy'] = xr.DataArray(DOXY,dims = dims,coords = coords)\n",
    "ds_full['nitrate'] = xr.DataArray(NITRATE,dims = dims,coords = coords)\n",
    "ds_full['phosphate'] = xr.DataArray(PHOSPHATE,dims = dims,coords = coords)\n",
    "\n",
    "\n",
    "# subset\n",
    "lat_slice = slice(lat_bounds[0], lat_bounds[1])\n",
    "lon_slice = slice(lon_bounds[0], lon_bounds[1])\n",
    "\n",
    "ds_full = ds_full.sel(lat = lat_slice, lon = lon_slice)\n",
    "ds_full"
   ]
  },
  {
   "cell_type": "markdown",
   "metadata": {},
   "source": [
    "# Interpolate to Standard Pressure Levels"
   ]
  },
  {
   "cell_type": "code",
   "execution_count": 5,
   "metadata": {},
   "outputs": [
    {
     "name": "stderr",
     "output_type": "stream",
     "text": [
      "100%|██████████| 23100/23100 [01:44<00:00, 220.29it/s]\n"
     ]
    },
    {
     "data": {
      "text/plain": [
       "<xarray.Dataset>\n",
       "Dimensions:    (lat: 35, lon: 55, month: 12, pres: 57)\n",
       "Coordinates:\n",
       "  * month      (month) int64 1 2 3 4 5 6 7 8 9 10 11 12\n",
       "  * pres       (pres) float32 0.0 5.0 10.0 15.0 ... 1350.0 1400.0 1450.0 1500.0\n",
       "  * lon        (lon) float32 48.5 49.5 50.5 51.5 52.5 ... 99.5 100.5 101.5 102.5\n",
       "  * lat        (lat) float32 -1.5 -0.5 0.5 1.5 2.5 ... 28.5 29.5 30.5 31.5 32.5\n",
       "Data variables:\n",
       "    temp       (month, pres, lat, lon) float64 27.04 27.16 27.28 ... nan nan nan\n",
       "    psal       (month, pres, lat, lon) float64 35.32 35.32 35.32 ... nan nan nan\n",
       "    doxy       (month, pres, lat, lon) float64 208.9 209.1 208.3 ... nan nan nan\n",
       "    nitrate    (month, pres, lat, lon) float64 0.7416 0.4686 0.202 ... nan nan\n",
       "    phosphate  (month, pres, lat, lon) float64 0.1886 0.2047 0.2121 ... nan nan"
      ]
     },
     "execution_count": 5,
     "metadata": {},
     "output_type": "execute_result"
    }
   ],
   "source": [
    "interp_min=0 # min pressure (in dbar)\n",
    "interp_max=1000 # max pressure (in dbar)\n",
    "interp_step=5\n",
    "\n",
    "PRES_i = np.array(ds_full.depth)\n",
    "\n",
    "n = ds_full.lat.shape[0]\n",
    "m = ds_full.lon.shape[0]\n",
    "t = 12\n",
    "d = ds_full.depth.shape[0]\n",
    "with tqdm(total=n * m * t) as pbar:\n",
    "    for tt in range(12):\n",
    "        \n",
    "        if tt == 0:\n",
    "            TEMP_i = np.zeros((12,PRES_i.shape[0],n,m))*np.nan\n",
    "            DOXY_i = np.zeros((12,PRES_i.shape[0],n,m))*np.nan\n",
    "            PSAL_i = np.zeros((12,PRES_i.shape[0],n,m))*np.nan\n",
    "            NITRATE_i = np.zeros((12,PRES_i.shape[0],n,m))*np.nan\n",
    "            PHOSPHATE_i = np.zeros((12,PRES_i.shape[0],n,m))*np.nan\n",
    "                    \n",
    "        for ii,lat in zip(range(n),ds_full.lat):\n",
    "            for jj in range(m):\n",
    "\n",
    "                # conversion [m] -> [dbar]:\n",
    "#                 pres=sw.eos80.pres(ds_full.depth, [lat for i in range(d)])\n",
    "                pres = gsw.p_from_z(-1*ds_full.depth, [lat for i in range(d)])\n",
    "\n",
    "                # temp,psal,doxy selection\n",
    "                temp,psal,doxy = ds_full.temp[tt,:,ii,jj],ds_full.psal[tt,:,ii,jj],ds_full.doxy[tt,:,ii,jj]\n",
    "                nitrate,phosphate = ds_full.nitrate[tt,:,ii,jj],ds_full.phosphate[tt,:,ii,jj]\n",
    "\n",
    "                # interpolation\n",
    "                ft = sp.interp1d(pres,temp,bounds_error=False,fill_value=np.nan)\n",
    "                TEMP_i[tt,:,ii,jj] = ft(PRES_i)\n",
    "                    \n",
    "                fo = sp.interp1d(pres,doxy,bounds_error=False,fill_value=np.nan)\n",
    "                DOXY_i[tt,:,ii,jj] = fo(PRES_i)\n",
    "                \n",
    "                fs = sp.interp1d(pres,psal,bounds_error=False,fill_value=np.nan)\n",
    "                PSAL_i[tt,:,ii,jj] = fs(PRES_i)\n",
    "                \n",
    "                fn = sp.interp1d(pres,nitrate,bounds_error=False,fill_value=np.nan)\n",
    "                NITRATE_i[tt,:,ii,jj] = fn(PRES_i)\n",
    "                \n",
    "                fp = sp.interp1d(pres,phosphate,bounds_error=False,fill_value=np.nan)\n",
    "                PHOSPHATE_i[tt,:,ii,jj] = fp(PRES_i)\n",
    "                \n",
    "                pbar.update(1)\n",
    "            \n",
    "            \n",
    "ds_out=xr.Dataset(coords={'month': np.arange(1,13),\n",
    "                        'pres': PRES_i,\n",
    "                        'lon': ds_full.lon,\n",
    "                        'lat': ds_full.lat})\n",
    "# add to dataset\n",
    "ds_out['temp'] = xr.DataArray(TEMP_i,dims = ['month','pres','lat','lon'],coords =[np.arange(1,13),PRES_i,ds_full.lat,ds_full.lon])\n",
    "ds_out['psal'] = xr.DataArray(PSAL_i,dims = ['month','pres','lat','lon'],coords =[np.arange(1,13),PRES_i,ds_full.lat,ds_full.lon])\n",
    "ds_out['doxy'] = xr.DataArray(DOXY_i,dims = ['month','pres','lat','lon'],coords =[np.arange(1,13),PRES_i,ds_full.lat,ds_full.lon])\n",
    "ds_out['nitrate'] = xr.DataArray(NITRATE_i,dims = ['month','pres','lat','lon'],coords =[np.arange(1,13),PRES_i,ds_full.lat,ds_full.lon])\n",
    "ds_out['phosphate'] = xr.DataArray(PHOSPHATE_i,dims = ['month','pres','lat','lon'],coords =[np.arange(1,13),PRES_i,ds_full.lat,ds_full.lon])\n",
    "ds_out         "
   ]
  },
  {
   "cell_type": "code",
   "execution_count": 6,
   "metadata": {},
   "outputs": [
    {
     "data": {
      "text/plain": [
       "<xarray.Dataset>\n",
       "Dimensions:    (lat: 35, lon: 55, month: 12, pres: 57)\n",
       "Coordinates:\n",
       "  * month      (month) int64 1 2 3 4 5 6 7 8 9 10 11 12\n",
       "  * pres       (pres) float32 0.0 5.0 10.0 15.0 ... 1350.0 1400.0 1450.0 1500.0\n",
       "  * lon        (lon) float32 48.5 49.5 50.5 51.5 52.5 ... 99.5 100.5 101.5 102.5\n",
       "  * lat        (lat) float32 -1.5 -0.5 0.5 1.5 2.5 ... 28.5 29.5 30.5 31.5 32.5\n",
       "Data variables:\n",
       "    temp       (month, pres, lat, lon) float64 27.04 27.16 27.28 ... nan nan nan\n",
       "    psal       (month, pres, lat, lon) float64 35.32 35.32 35.32 ... nan nan nan\n",
       "    doxy       (month, pres, lat, lon) float64 208.9 209.1 208.3 ... nan nan nan\n",
       "    nitrate    (month, pres, lat, lon) float64 0.7416 0.4686 0.202 ... nan nan\n",
       "    phosphate  (month, pres, lat, lon) float64 0.1886 0.2047 0.2121 ... nan nan"
      ]
     },
     "execution_count": 6,
     "metadata": {},
     "output_type": "execute_result"
    }
   ],
   "source": [
    "ds_out"
   ]
  },
  {
   "cell_type": "markdown",
   "metadata": {},
   "source": [
    "# Make sure there aren't any negative concentration values"
   ]
  },
  {
   "cell_type": "code",
   "execution_count": 7,
   "metadata": {},
   "outputs": [
    {
     "name": "stderr",
     "output_type": "stream",
     "text": [
      "/home/jennap/anaconda3/lib/python3.7/site-packages/ipykernel_launcher.py:2: RuntimeWarning: invalid value encountered in less_equal\n",
      "  \n"
     ]
    },
    {
     "data": {
      "text/plain": [
       "0.0"
      ]
     },
     "execution_count": 7,
     "metadata": {},
     "output_type": "execute_result"
    }
   ],
   "source": [
    "tmp = np.array(ds_out.doxy)\n",
    "np.nansum(tmp[tmp <= 0])"
   ]
  },
  {
   "cell_type": "code",
   "execution_count": 8,
   "metadata": {},
   "outputs": [],
   "source": [
    "# set negative oxygen values to nan\n",
    "ds_out['doxy'] = ds_out.doxy.where(ds_out.doxy >= 0)\n",
    "ds_out['nitrate'] = ds_out.nitrate.where(ds_out.nitrate >= 0)\n",
    "ds_out['phosphate'] = ds_out.phosphate.where(ds_out.phosphate >= 0)"
   ]
  },
  {
   "cell_type": "markdown",
   "metadata": {},
   "source": [
    "# Find Water Column Averages"
   ]
  },
  {
   "cell_type": "code",
   "execution_count": 9,
   "metadata": {},
   "outputs": [
    {
     "name": "stderr",
     "output_type": "stream",
     "text": [
      "/home/jennap/anaconda3/lib/python3.7/site-packages/ipykernel_launcher.py:3: RuntimeWarning: Mean of empty slice\n",
      "  This is separate from the ipykernel package so we can avoid doing imports until\n",
      "/home/jennap/anaconda3/lib/python3.7/site-packages/ipykernel_launcher.py:4: RuntimeWarning: Mean of empty slice\n",
      "  after removing the cwd from sys.path.\n",
      "/home/jennap/anaconda3/lib/python3.7/site-packages/ipykernel_launcher.py:5: RuntimeWarning: Mean of empty slice\n",
      "  \"\"\"\n",
      "/home/jennap/anaconda3/lib/python3.7/site-packages/ipykernel_launcher.py:6: RuntimeWarning: Mean of empty slice\n",
      "  \n",
      "/home/jennap/anaconda3/lib/python3.7/site-packages/ipykernel_launcher.py:7: RuntimeWarning: Mean of empty slice\n",
      "  import sys\n",
      "/home/jennap/anaconda3/lib/python3.7/site-packages/ipykernel_launcher.py:10: RuntimeWarning: Mean of empty slice\n",
      "  # Remove the CWD from sys.path while we load stuff.\n",
      "/home/jennap/anaconda3/lib/python3.7/site-packages/ipykernel_launcher.py:11: RuntimeWarning: Mean of empty slice\n",
      "  # This is added back by InteractiveShellApp.init_path()\n",
      "/home/jennap/anaconda3/lib/python3.7/site-packages/ipykernel_launcher.py:12: RuntimeWarning: Mean of empty slice\n",
      "  if sys.path[0] == '':\n",
      "/home/jennap/anaconda3/lib/python3.7/site-packages/ipykernel_launcher.py:13: RuntimeWarning: Mean of empty slice\n",
      "  del sys.path[0]\n",
      "/home/jennap/anaconda3/lib/python3.7/site-packages/ipykernel_launcher.py:14: RuntimeWarning: Mean of empty slice\n",
      "  \n",
      "/home/jennap/anaconda3/lib/python3.7/site-packages/ipykernel_launcher.py:17: RuntimeWarning: Mean of empty slice\n",
      "/home/jennap/anaconda3/lib/python3.7/site-packages/ipykernel_launcher.py:18: RuntimeWarning: Mean of empty slice\n",
      "/home/jennap/anaconda3/lib/python3.7/site-packages/ipykernel_launcher.py:19: RuntimeWarning: Mean of empty slice\n",
      "/home/jennap/anaconda3/lib/python3.7/site-packages/ipykernel_launcher.py:20: RuntimeWarning: Mean of empty slice\n",
      "/home/jennap/anaconda3/lib/python3.7/site-packages/ipykernel_launcher.py:21: RuntimeWarning: Mean of empty slice\n",
      "/home/jennap/anaconda3/lib/python3.7/site-packages/ipykernel_launcher.py:25: RuntimeWarning: Mean of empty slice\n",
      "/home/jennap/anaconda3/lib/python3.7/site-packages/ipykernel_launcher.py:26: RuntimeWarning: Mean of empty slice\n",
      "/home/jennap/anaconda3/lib/python3.7/site-packages/ipykernel_launcher.py:27: RuntimeWarning: Mean of empty slice\n",
      "/home/jennap/anaconda3/lib/python3.7/site-packages/ipykernel_launcher.py:28: RuntimeWarning: Mean of empty slice\n",
      "/home/jennap/anaconda3/lib/python3.7/site-packages/ipykernel_launcher.py:29: RuntimeWarning: Mean of empty slice\n",
      "/home/jennap/anaconda3/lib/python3.7/site-packages/ipykernel_launcher.py:32: RuntimeWarning: Mean of empty slice\n",
      "/home/jennap/anaconda3/lib/python3.7/site-packages/ipykernel_launcher.py:33: RuntimeWarning: Mean of empty slice\n",
      "/home/jennap/anaconda3/lib/python3.7/site-packages/ipykernel_launcher.py:34: RuntimeWarning: Mean of empty slice\n",
      "/home/jennap/anaconda3/lib/python3.7/site-packages/ipykernel_launcher.py:35: RuntimeWarning: Mean of empty slice\n",
      "/home/jennap/anaconda3/lib/python3.7/site-packages/ipykernel_launcher.py:36: RuntimeWarning: Mean of empty slice\n",
      "/home/jennap/anaconda3/lib/python3.7/site-packages/ipykernel_launcher.py:39: RuntimeWarning: Mean of empty slice\n",
      "/home/jennap/anaconda3/lib/python3.7/site-packages/ipykernel_launcher.py:40: RuntimeWarning: Mean of empty slice\n",
      "/home/jennap/anaconda3/lib/python3.7/site-packages/ipykernel_launcher.py:41: RuntimeWarning: Mean of empty slice\n",
      "/home/jennap/anaconda3/lib/python3.7/site-packages/ipykernel_launcher.py:42: RuntimeWarning: Mean of empty slice\n",
      "/home/jennap/anaconda3/lib/python3.7/site-packages/ipykernel_launcher.py:43: RuntimeWarning: Mean of empty slice\n",
      "/home/jennap/anaconda3/lib/python3.7/site-packages/ipykernel_launcher.py:47: RuntimeWarning: Mean of empty slice\n",
      "/home/jennap/anaconda3/lib/python3.7/site-packages/ipykernel_launcher.py:48: RuntimeWarning: Mean of empty slice\n",
      "/home/jennap/anaconda3/lib/python3.7/site-packages/ipykernel_launcher.py:49: RuntimeWarning: Mean of empty slice\n",
      "/home/jennap/anaconda3/lib/python3.7/site-packages/ipykernel_launcher.py:50: RuntimeWarning: Mean of empty slice\n",
      "/home/jennap/anaconda3/lib/python3.7/site-packages/ipykernel_launcher.py:51: RuntimeWarning: Mean of empty slice\n",
      "/home/jennap/anaconda3/lib/python3.7/site-packages/ipykernel_launcher.py:54: RuntimeWarning: Mean of empty slice\n",
      "/home/jennap/anaconda3/lib/python3.7/site-packages/ipykernel_launcher.py:55: RuntimeWarning: Mean of empty slice\n",
      "/home/jennap/anaconda3/lib/python3.7/site-packages/ipykernel_launcher.py:56: RuntimeWarning: Mean of empty slice\n",
      "/home/jennap/anaconda3/lib/python3.7/site-packages/ipykernel_launcher.py:57: RuntimeWarning: Mean of empty slice\n",
      "/home/jennap/anaconda3/lib/python3.7/site-packages/ipykernel_launcher.py:58: RuntimeWarning: Mean of empty slice\n",
      "/home/jennap/anaconda3/lib/python3.7/site-packages/ipykernel_launcher.py:61: RuntimeWarning: Mean of empty slice\n",
      "/home/jennap/anaconda3/lib/python3.7/site-packages/ipykernel_launcher.py:62: RuntimeWarning: Mean of empty slice\n",
      "/home/jennap/anaconda3/lib/python3.7/site-packages/ipykernel_launcher.py:63: RuntimeWarning: Mean of empty slice\n",
      "/home/jennap/anaconda3/lib/python3.7/site-packages/ipykernel_launcher.py:64: RuntimeWarning: Mean of empty slice\n",
      "/home/jennap/anaconda3/lib/python3.7/site-packages/ipykernel_launcher.py:65: RuntimeWarning: Mean of empty slice\n"
     ]
    }
   ],
   "source": [
    "# total mean\n",
    "ind = (ds_out.pres >= 40) & (ds_out.pres <= 200)\n",
    "doxy_40_200 = np.nanmean(ds_out.doxy[:,ind,:,:],1)\n",
    "temp_40_200 = np.nanmean(ds_out.temp[:,ind,:,:],1)\n",
    "psal_40_200 = np.nanmean(ds_out.psal[:,ind,:,:],1)\n",
    "nitrate_40_200 = np.nanmean(ds_out.nitrate[:,ind,:,:],1)\n",
    "phosphate_40_200 = np.nanmean(ds_out.phosphate[:,ind,:,:],1)\n",
    "\n",
    "ind = (ds_out.pres >= 50) & (ds_out.pres <= 200)\n",
    "doxy_50_200 = np.nanmean(ds_out.doxy[:,ind,:,:],1)\n",
    "temp_50_200 = np.nanmean(ds_out.temp[:,ind,:,:],1)\n",
    "psal_50_200 = np.nanmean(ds_out.psal[:,ind,:,:],1)\n",
    "nitrate_50_200 = np.nanmean(ds_out.nitrate[:,ind,:,:],1)\n",
    "phosphate_50_200 = np.nanmean(ds_out.phosphate[:,ind,:,:],1)\n",
    "\n",
    "ind = (ds_out.pres >= 50) & (ds_out.pres <= 225)\n",
    "doxy_50_225 = np.nanmean(ds_out.doxy[:,ind,:,:],1)\n",
    "temp_50_225 = np.nanmean(ds_out.temp[:,ind,:,:],1)\n",
    "psal_50_225 = np.nanmean(ds_out.psal[:,ind,:,:],1)\n",
    "nitrate_50_225 = np.nanmean(ds_out.nitrate[:,ind,:,:],1)\n",
    "phosphate_50_225 = np.nanmean(ds_out.phosphate[:,ind,:,:],1)\n",
    "\n",
    "# annual mean\n",
    "ind = (ds_out.pres >= 40) & (ds_out.pres <= 200)\n",
    "doxy_40_200_ann_mean = np.nanmean(np.nanmean(ds_out.doxy,0)[ind,:,:],0)\n",
    "temp_40_200_ann_mean  = np.nanmean(np.nanmean(ds_out.temp,0)[ind,:,:],0)\n",
    "psal_40_200_ann_mean  = np.nanmean(np.nanmean(ds_out.psal,0)[ind,:,:],0)\n",
    "nitrate_40_200_ann_mean  = np.nanmean(np.nanmean(ds_out.nitrate,0)[ind,:,:],0)\n",
    "phosphate_40_200_ann_mean  = np.nanmean(np.nanmean(ds_out.phosphate,0)[ind,:,:],0)\n",
    "\n",
    "ind = (ds_out.pres >= 50) & (ds_out.pres <= 200)\n",
    "doxy_50_200_ann_mean  = np.nanmean(np.nanmean(ds_out.doxy,0)[ind,:,:],0)\n",
    "temp_50_200_ann_mean  = np.nanmean(np.nanmean(ds_out.temp,0)[ind,:,:],0)\n",
    "psal_50_200_ann_mean  = np.nanmean(np.nanmean(ds_out.psal,0)[ind,:,:],0)\n",
    "nitrate_50_200_ann_mean  = np.nanmean(np.nanmean(ds_out.nitrate,0)[ind,:,:],0)\n",
    "phosphate_50_200_ann_mean  = np.nanmean(np.nanmean(ds_out.phosphate,0)[ind,:,:],0)\n",
    "\n",
    "ind = (ds_out.pres >= 50) & (ds_out.pres <= 225)\n",
    "doxy_50_225_ann_mean  = np.nanmean(np.nanmean(ds_out.doxy,0)[ind,:,:],0)\n",
    "temp_50_225_ann_mean  = np.nanmean(np.nanmean(ds_out.temp,0)[ind,:,:],0)\n",
    "psal_50_225_ann_mean  = np.nanmean(np.nanmean(ds_out.psal,0)[ind,:,:],0)\n",
    "nitrate_50_225_ann_mean  = np.nanmean(np.nanmean(ds_out.nitrate,0)[ind,:,:],0)\n",
    "phosphate_50_225_ann_mean  = np.nanmean(np.nanmean(ds_out.phosphate,0)[ind,:,:],0)\n",
    "\n",
    "# mean anomaly to 200dbar\n",
    "ind = (ds_out.pres >= 40) & (ds_out.pres <= 200)\n",
    "doxy_40_200_anom = np.nanmean(ds_out.doxy[:,ind,:,:] - np.nanmean(ds_out.doxy,0)[ind,:,:],1)\n",
    "temp_40_200_anom = np.nanmean(ds_out.temp[:,ind,:,:] - np.nanmean(ds_out.temp,0)[ind,:,:],1)\n",
    "psal_40_200_anom = np.nanmean(ds_out.psal[:,ind,:,:] - np.nanmean(ds_out.psal,0)[ind,:,:],1)\n",
    "nitrate_40_200_anom = np.nanmean(ds_out.nitrate[:,ind,:,:] - np.nanmean(ds_out.nitrate,0)[ind,:,:],1)\n",
    "phosphate_40_200_anom = np.nanmean(ds_out.phosphate[:,ind,:,:] - np.nanmean(ds_out.phosphate,0)[ind,:,:],1)\n",
    "\n",
    "ind = (ds_out.pres >= 50) & (ds_out.pres <= 200)\n",
    "doxy_50_200_anom = np.nanmean(ds_out.doxy[:,ind,:,:] - np.nanmean(ds_out.doxy,0)[ind,:,:],1)\n",
    "temp_50_200_anom = np.nanmean(ds_out.temp[:,ind,:,:] - np.nanmean(ds_out.temp,0)[ind,:,:],1)\n",
    "psal_50_200_anom = np.nanmean(ds_out.psal[:,ind,:,:] - np.nanmean(ds_out.psal,0)[ind,:,:],1)\n",
    "nitrate_50_200_anom = np.nanmean(ds_out.nitrate[:,ind,:,:] - np.nanmean(ds_out.nitrate,0)[ind,:,:],1)\n",
    "phosphate_50_200_anom = np.nanmean(ds_out.phosphate[:,ind,:,:] - np.nanmean(ds_out.phosphate,0)[ind,:,:],1)\n",
    "\n",
    "ind = (ds_out.pres >= 50) & (ds_out.pres <= 225)\n",
    "doxy_50_225_anom = np.nanmean(ds_out.doxy[:,ind,:,:] - np.nanmean(ds_out.doxy,0)[ind,:,:],1)\n",
    "temp_50_225_anom = np.nanmean(ds_out.temp[:,ind,:,:] - np.nanmean(ds_out.temp,0)[ind,:,:],1)\n",
    "psal_50_225_anom = np.nanmean(ds_out.psal[:,ind,:,:] - np.nanmean(ds_out.psal,0)[ind,:,:],1)\n",
    "nitrate_50_225_anom = np.nanmean(ds_out.nitrate[:,ind,:,:] - np.nanmean(ds_out.nitrate,0)[ind,:,:],1)\n",
    "phosphate_50_225_anom = np.nanmean(ds_out.phosphate[:,ind,:,:] - np.nanmean(ds_out.phosphate,0)[ind,:,:],1)\n"
   ]
  },
  {
   "cell_type": "code",
   "execution_count": 10,
   "metadata": {},
   "outputs": [
    {
     "data": {
      "text/plain": [
       "<xarray.Dataset>\n",
       "Dimensions:                    (lat: 35, lon: 55, month: 12, pres: 57)\n",
       "Coordinates:\n",
       "  * month                      (month) int64 1 2 3 4 5 6 7 8 9 10 11 12\n",
       "  * pres                       (pres) float32 0.0 5.0 10.0 ... 1450.0 1500.0\n",
       "  * lon                        (lon) float32 48.5 49.5 50.5 ... 101.5 102.5\n",
       "  * lat                        (lat) float32 -1.5 -0.5 0.5 ... 30.5 31.5 32.5\n",
       "Data variables:\n",
       "    temp                       (month, pres, lat, lon) float64 27.04 ... nan\n",
       "    psal                       (month, pres, lat, lon) float64 35.32 ... nan\n",
       "    doxy                       (month, pres, lat, lon) float64 208.9 ... nan\n",
       "    nitrate                    (month, pres, lat, lon) float64 0.7416 ... nan\n",
       "    phosphate                  (month, pres, lat, lon) float64 0.1886 ... nan\n",
       "    temp_40_200                (month, lat, lon) float64 22.35 22.06 ... nan nan\n",
       "    doxy_40_200                (month, lat, lon) float64 167.9 165.3 ... nan nan\n",
       "    psal_40_200                (month, lat, lon) float64 35.32 35.31 ... nan nan\n",
       "    nitrate_40_200             (month, lat, lon) float64 7.256 7.838 ... nan nan\n",
       "    phosphate_40_200           (month, lat, lon) float64 0.4394 0.4778 ... nan\n",
       "    temp_50_200                (month, lat, lon) float64 21.78 21.46 ... nan nan\n",
       "    doxy_50_200                (month, lat, lon) float64 163.5 160.5 ... nan nan\n",
       "    psal_50_200                (month, lat, lon) float64 35.31 35.3 ... nan nan\n",
       "    nitrate_50_200             (month, lat, lon) float64 8.111 8.78 ... nan nan\n",
       "    phosphate_50_200           (month, lat, lon) float64 0.4665 0.5061 ... nan\n",
       "    temp_50_225                (month, lat, lon) float64 21.23 20.94 ... nan nan\n",
       "    doxy_50_225                (month, lat, lon) float64 161.2 158.1 ... nan nan\n",
       "    psal_50_225                (month, lat, lon) float64 35.3 35.29 ... nan nan\n",
       "    nitrate_50_225             (month, lat, lon) float64 8.788 9.434 ... nan nan\n",
       "    phosphate_50_225           (month, lat, lon) float64 0.4949 0.5351 ... nan\n",
       "    temp_40_200_ann_mean       (lat, lon) float64 22.23 22.22 22.23 ... nan nan\n",
       "    doxy_40_200_ann_mean       (lat, lon) float64 163.0 161.5 160.2 ... nan nan\n",
       "    psal_40_200_ann_mean       (lat, lon) float64 35.3 35.3 35.31 ... nan nan\n",
       "    nitrate_40_200_ann_mean    (lat, lon) float64 7.963 8.28 8.487 ... nan nan\n",
       "    phosphate_40_200_ann_mean  (lat, lon) float64 0.6336 0.6434 ... nan nan\n",
       "    temp_50_200_ann_mean       (lat, lon) float64 21.68 21.66 21.65 ... nan nan\n",
       "    doxy_50_200_ann_mean       (lat, lon) float64 158.8 157.1 155.5 ... nan nan\n",
       "    psal_50_200_ann_mean       (lat, lon) float64 35.29 35.29 35.3 ... nan nan\n",
       "    nitrate_50_200_ann_mean    (lat, lon) float64 8.875 9.222 9.451 ... nan nan\n",
       "    phosphate_50_200_ann_mean  (lat, lon) float64 0.6792 0.6904 ... nan nan\n",
       "    temp_50_225_ann_mean       (lat, lon) float64 21.14 21.13 21.12 ... nan nan\n",
       "    doxy_50_225_ann_mean       (lat, lon) float64 156.9 155.1 153.5 ... nan nan\n",
       "    psal_50_225_ann_mean       (lat, lon) float64 35.28 35.28 35.29 ... nan nan\n",
       "    nitrat_50_225_ann_mean     (lat, lon) float64 9.53 9.859 10.08 ... nan nan\n",
       "    phosphate_50_225_ann_mean  (lat, lon) float64 0.7201 0.7318 ... nan nan\n",
       "    temp_40_200_anom           (month, lat, lon) float64 0.1197 -0.1654 ... nan\n",
       "    doxy_40_200_anom           (month, lat, lon) float64 4.841 3.729 ... nan nan\n",
       "    psal_40_200_anom           (month, lat, lon) float64 0.01971 ... nan\n",
       "    nitrate_40_200_anom        (month, lat, lon) float64 -0.7067 -0.4413 ... nan\n",
       "    phosphate_40_200_anom      (month, lat, lon) float64 -0.1941 -0.1656 ... nan\n",
       "    temp_50_200_anom           (month, lat, lon) float64 0.1021 -0.2059 ... nan\n",
       "    doxy_50_200_anom           (month, lat, lon) float64 4.757 3.419 ... nan nan\n",
       "    psal_50_200_anom           (month, lat, lon) float64 0.01829 ... nan\n",
       "    nitrate_50_200_anom        (month, lat, lon) float64 -0.7649 -0.442 ... nan\n",
       "    phosphate_50_200_anom      (month, lat, lon) float64 -0.2127 -0.1843 ... nan\n",
       "    temp_50_225_anom           (month, lat, lon) float64 0.09232 -0.1916 ... nan\n",
       "    doxy_50_225_anom           (month, lat, lon) float64 4.304 2.991 ... nan nan\n",
       "    psal_50_225_anom           (month, lat, lon) float64 0.01703 ... nan\n",
       "    nitrate_50_225_anom        (month, lat, lon) float64 -0.7417 -0.425 ... nan\n",
       "    phosphate_50_225_anom      (month, lat, lon) float64 -0.2252 -0.1967 ... nan"
      ]
     },
     "execution_count": 10,
     "metadata": {},
     "output_type": "execute_result"
    }
   ],
   "source": [
    "# add to dataset\n",
    "\n",
    "#------------------------------ profiles -------------------------------------#\n",
    "coords = [ds_out.month,ds_out.lat,ds_out.lon]\n",
    "dims = ['month','lat', 'lon']\n",
    "\n",
    "ds_out['temp_40_200'] = xr.DataArray(temp_40_200,dims = dims,coords = coords)\n",
    "ds_out['doxy_40_200'] = xr.DataArray(doxy_40_200,dims = dims,coords = coords)\n",
    "ds_out['psal_40_200'] = xr.DataArray(psal_40_200,dims = dims,coords = coords)\n",
    "ds_out['nitrate_40_200'] = xr.DataArray(nitrate_40_200,dims = dims,coords = coords)\n",
    "ds_out['phosphate_40_200'] = xr.DataArray(phosphate_40_200,dims = dims,coords = coords)\n",
    "\n",
    "ds_out['temp_50_200'] = xr.DataArray(temp_50_200,dims = dims,coords = coords)\n",
    "ds_out['doxy_50_200'] = xr.DataArray(doxy_50_200,dims = dims,coords = coords)\n",
    "ds_out['psal_50_200'] = xr.DataArray(psal_50_200,dims = dims,coords = coords)\n",
    "ds_out['nitrate_50_200'] = xr.DataArray(nitrate_50_200,dims = dims,coords = coords)\n",
    "ds_out['phosphate_50_200'] = xr.DataArray(phosphate_50_200,dims = dims,coords = coords)\n",
    "\n",
    "ds_out['temp_50_225'] = xr.DataArray(temp_50_225,dims = dims,coords = coords)\n",
    "ds_out['doxy_50_225'] = xr.DataArray(doxy_50_225,dims = dims,coords = coords)\n",
    "ds_out['psal_50_225'] = xr.DataArray(psal_50_225,dims = dims,coords = coords)\n",
    "ds_out['nitrate_50_225'] = xr.DataArray(nitrate_50_225,dims = dims,coords = coords)\n",
    "ds_out['phosphate_50_225'] = xr.DataArray(phosphate_50_225,dims = dims,coords = coords)\n",
    "\n",
    "#------------------------------ annual mean -----------------------------------#\n",
    "coords = [ds_out.lat,ds_out.lon]\n",
    "dims = ['lat', 'lon']\n",
    "\n",
    "ds_out['temp_40_200_ann_mean'] = xr.DataArray(temp_40_200_ann_mean,dims = dims,coords = coords)\n",
    "ds_out['doxy_40_200_ann_mean'] = xr.DataArray(doxy_40_200_ann_mean,dims = dims,coords = coords)\n",
    "ds_out['psal_40_200_ann_mean'] = xr.DataArray(psal_40_200_ann_mean,dims = dims,coords = coords)\n",
    "ds_out['nitrate_40_200_ann_mean'] = xr.DataArray(nitrate_40_200_ann_mean,dims = dims,coords = coords)\n",
    "ds_out['phosphate_40_200_ann_mean'] = xr.DataArray(phosphate_40_200_ann_mean,dims = dims,coords = coords)\n",
    "\n",
    "ds_out['temp_50_200_ann_mean'] = xr.DataArray(temp_50_200_ann_mean,dims = dims,coords = coords)\n",
    "ds_out['doxy_50_200_ann_mean'] = xr.DataArray(doxy_50_200_ann_mean,dims = dims,coords = coords)\n",
    "ds_out['psal_50_200_ann_mean'] = xr.DataArray(psal_50_200_ann_mean,dims = dims,coords = coords)\n",
    "ds_out['nitrate_50_200_ann_mean'] = xr.DataArray(nitrate_50_200_ann_mean,dims = dims,coords = coords)\n",
    "ds_out['phosphate_50_200_ann_mean'] = xr.DataArray(phosphate_50_200_ann_mean,dims = dims,coords = coords)\n",
    "\n",
    "ds_out['temp_50_225_ann_mean'] = xr.DataArray(temp_50_225_ann_mean,dims = dims,coords = coords)\n",
    "ds_out['doxy_50_225_ann_mean'] = xr.DataArray(doxy_50_225_ann_mean,dims = dims,coords = coords)\n",
    "ds_out['psal_50_225_ann_mean'] = xr.DataArray(psal_50_225_ann_mean,dims = dims,coords = coords)\n",
    "ds_out['nitrat_50_225_ann_mean'] = xr.DataArray(nitrate_50_225_ann_mean,dims = dims,coords = coords)\n",
    "ds_out['phosphate_50_225_ann_mean'] = xr.DataArray(phosphate_50_225_ann_mean,dims = dims,coords = coords)\n",
    "\n",
    "#---------------------------- monthly anomaly ---------------------------------#\n",
    "coords = [ds_out.month,ds_out.lat,ds_out.lon]\n",
    "dims = ['month','lat', 'lon']\n",
    "\n",
    "ds_out['temp_40_200_anom'] = xr.DataArray(temp_40_200_anom,dims = dims,coords = coords)\n",
    "ds_out['doxy_40_200_anom'] = xr.DataArray(doxy_40_200_anom,dims = dims,coords = coords)\n",
    "ds_out['psal_40_200_anom'] = xr.DataArray(psal_40_200_anom,dims = dims,coords = coords)\n",
    "ds_out['nitrate_40_200_anom'] = xr.DataArray(nitrate_40_200_anom,dims = dims,coords = coords)\n",
    "ds_out['phosphate_40_200_anom'] = xr.DataArray(phosphate_40_200_anom,dims = dims,coords = coords)\n",
    "\n",
    "ds_out['temp_50_200_anom'] = xr.DataArray(temp_50_200_anom,dims = dims,coords = coords)\n",
    "ds_out['doxy_50_200_anom'] = xr.DataArray(doxy_50_200_anom,dims = dims,coords = coords)\n",
    "ds_out['psal_50_200_anom'] = xr.DataArray(psal_50_200_anom,dims = dims,coords = coords)\n",
    "ds_out['nitrate_50_200_anom'] = xr.DataArray(nitrate_50_200_anom,dims = dims,coords = coords)\n",
    "ds_out['phosphate_50_200_anom'] = xr.DataArray(phosphate_50_200_anom,dims = dims,coords = coords)\n",
    "\n",
    "ds_out['temp_50_225_anom'] = xr.DataArray(temp_50_225_anom,dims = dims,coords = coords)\n",
    "ds_out['doxy_50_225_anom'] = xr.DataArray(doxy_50_225_anom,dims = dims,coords = coords)\n",
    "ds_out['psal_50_225_anom'] = xr.DataArray(psal_50_225_anom,dims = dims,coords = coords)\n",
    "ds_out['nitrate_50_225_anom'] = xr.DataArray(nitrate_50_225_anom,dims = dims,coords = coords)\n",
    "ds_out['phosphate_50_225_anom'] = xr.DataArray(phosphate_50_225_anom,dims = dims,coords = coords)\n",
    "\n",
    "ds_out"
   ]
  },
  {
   "cell_type": "markdown",
   "metadata": {},
   "source": [
    "# Find Coastal Mask"
   ]
  },
  {
   "cell_type": "code",
   "execution_count": 11,
   "metadata": {},
   "outputs": [
    {
     "data": {
      "text/plain": [
       "<xarray.Dataset>\n",
       "Dimensions:                      (coastal_loc: 1925, coastal_pos: 439, lat: 35, lon: 55, lonmin,lonmax,latmin,latmax: 4, month: 12, pres: 57)\n",
       "Coordinates:\n",
       "  * month                        (month) int64 1 2 3 4 5 6 7 8 9 10 11 12\n",
       "  * pres                         (pres) float32 0.0 5.0 10.0 ... 1450.0 1500.0\n",
       "  * lon                          (lon) float32 48.5 49.5 50.5 ... 101.5 102.5\n",
       "  * lat                          (lat) float32 -1.5 -0.5 0.5 ... 30.5 31.5 32.5\n",
       "  * coastal_loc                  (coastal_loc) int64 0 1 2 3 ... 1922 1923 1924\n",
       "  * coastal_pos                  (coastal_pos) int64 0 1 2 3 ... 435 436 437 438\n",
       "  * lonmin,lonmax,latmin,latmax  (lonmin,lonmax,latmin,latmax) int64 0 1 2 3\n",
       "Data variables:\n",
       "    temp                         (month, pres, lat, lon) float64 27.04 ... nan\n",
       "    psal                         (month, pres, lat, lon) float64 35.32 ... nan\n",
       "    doxy                         (month, pres, lat, lon) float64 208.9 ... nan\n",
       "    nitrate                      (month, pres, lat, lon) float64 0.7416 ... nan\n",
       "    phosphate                    (month, pres, lat, lon) float64 0.1886 ... nan\n",
       "    temp_40_200                  (month, lat, lon) float64 22.35 22.06 ... nan\n",
       "    doxy_40_200                  (month, lat, lon) float64 167.9 165.3 ... nan\n",
       "    psal_40_200                  (month, lat, lon) float64 35.32 35.31 ... nan\n",
       "    nitrate_40_200               (month, lat, lon) float64 7.256 7.838 ... nan\n",
       "    phosphate_40_200             (month, lat, lon) float64 0.4394 0.4778 ... nan\n",
       "    temp_50_200                  (month, lat, lon) float64 21.78 21.46 ... nan\n",
       "    doxy_50_200                  (month, lat, lon) float64 163.5 160.5 ... nan\n",
       "    psal_50_200                  (month, lat, lon) float64 35.31 35.3 ... nan\n",
       "    nitrate_50_200               (month, lat, lon) float64 8.111 8.78 ... nan\n",
       "    phosphate_50_200             (month, lat, lon) float64 0.4665 0.5061 ... nan\n",
       "    temp_50_225                  (month, lat, lon) float64 21.23 20.94 ... nan\n",
       "    doxy_50_225                  (month, lat, lon) float64 161.2 158.1 ... nan\n",
       "    psal_50_225                  (month, lat, lon) float64 35.3 35.29 ... nan\n",
       "    nitrate_50_225               (month, lat, lon) float64 8.788 9.434 ... nan\n",
       "    phosphate_50_225             (month, lat, lon) float64 0.4949 0.5351 ... nan\n",
       "    temp_40_200_ann_mean         (lat, lon) float64 22.23 22.22 ... nan nan\n",
       "    doxy_40_200_ann_mean         (lat, lon) float64 163.0 161.5 ... nan nan\n",
       "    psal_40_200_ann_mean         (lat, lon) float64 35.3 35.3 35.31 ... nan nan\n",
       "    nitrate_40_200_ann_mean      (lat, lon) float64 7.963 8.28 8.487 ... nan nan\n",
       "    phosphate_40_200_ann_mean    (lat, lon) float64 0.6336 0.6434 ... nan nan\n",
       "    temp_50_200_ann_mean         (lat, lon) float64 21.68 21.66 ... nan nan\n",
       "    doxy_50_200_ann_mean         (lat, lon) float64 158.8 157.1 ... nan nan\n",
       "    psal_50_200_ann_mean         (lat, lon) float64 35.29 35.29 35.3 ... nan nan\n",
       "    nitrate_50_200_ann_mean      (lat, lon) float64 8.875 9.222 ... nan nan\n",
       "    phosphate_50_200_ann_mean    (lat, lon) float64 0.6792 0.6904 ... nan nan\n",
       "    temp_50_225_ann_mean         (lat, lon) float64 21.14 21.13 ... nan nan\n",
       "    doxy_50_225_ann_mean         (lat, lon) float64 156.9 155.1 ... nan nan\n",
       "    psal_50_225_ann_mean         (lat, lon) float64 35.28 35.28 ... nan nan\n",
       "    nitrat_50_225_ann_mean       (lat, lon) float64 9.53 9.859 10.08 ... nan nan\n",
       "    phosphate_50_225_ann_mean    (lat, lon) float64 0.7201 0.7318 ... nan nan\n",
       "    temp_40_200_anom             (month, lat, lon) float64 0.1197 ... nan\n",
       "    doxy_40_200_anom             (month, lat, lon) float64 4.841 3.729 ... nan\n",
       "    psal_40_200_anom             (month, lat, lon) float64 0.01971 ... nan\n",
       "    nitrate_40_200_anom          (month, lat, lon) float64 -0.7067 ... nan\n",
       "    phosphate_40_200_anom        (month, lat, lon) float64 -0.1941 ... nan\n",
       "    temp_50_200_anom             (month, lat, lon) float64 0.1021 ... nan\n",
       "    doxy_50_200_anom             (month, lat, lon) float64 4.757 3.419 ... nan\n",
       "    psal_50_200_anom             (month, lat, lon) float64 0.01829 ... nan\n",
       "    nitrate_50_200_anom          (month, lat, lon) float64 -0.7649 ... nan\n",
       "    phosphate_50_200_anom        (month, lat, lon) float64 -0.2127 ... nan\n",
       "    temp_50_225_anom             (month, lat, lon) float64 0.09232 ... nan\n",
       "    doxy_50_225_anom             (month, lat, lon) float64 4.304 2.991 ... nan\n",
       "    psal_50_225_anom             (month, lat, lon) float64 0.01703 ... nan\n",
       "    nitrate_50_225_anom          (month, lat, lon) float64 -0.7417 ... nan\n",
       "    phosphate_50_225_anom        (month, lat, lon) float64 -0.2252 ... nan\n",
       "    coastal_mask                 (coastal_loc) bool False False ... False False\n",
       "    coastal_mask_xx              (coastal_pos) float32 96.5 97.5 ... 49.5 50.5\n",
       "    coastal_mask_yy              (coastal_pos) float32 -0.5 -0.5 ... 29.5 29.5\n",
       "    coastal_mask_bounds          (lonmin,lonmax,latmin,latmax) float64 48.5 ... 33.0"
      ]
     },
     "execution_count": 11,
     "metadata": {},
     "output_type": "execute_result"
    }
   ],
   "source": [
    "xx,yy = np.meshgrid(np.array(ds_out.lon),np.array(ds_out.lat))\n",
    "\n",
    "xx,yy = xx.flatten(), yy.flatten()\n",
    "\n",
    "mask = mask_coast(xx,yy,[lon_bounds[0],lon_bounds[1],lat_bounds[0],lat_bounds[1]])\n",
    "mask.shape\n",
    "mask_xx = xx[mask]\n",
    "mask_yy = yy[mask]\n",
    "\n",
    "ds_out['coastal_mask'] = xr.DataArray(mask,dims = ['coastal_loc'],coords =[np.arange(len(mask))])\n",
    "ds_out['coastal_mask_xx'] = xr.DataArray(mask_xx,dims = ['coastal_pos'],coords =[np.arange(len(mask[mask]))])\n",
    "ds_out['coastal_mask_yy'] = xr.DataArray(mask_yy,dims = ['coastal_pos'],coords =[np.arange(len(mask[mask]))])\n",
    "ds_out['coastal_mask_bounds'] = xr.DataArray([lon_bounds[0],lon_bounds[1],lat_bounds[0],lat_bounds[1]],\n",
    "                                             dims = ['lonmin,lonmax,latmin,latmax'],\n",
    "                                             coords =[np.arange(4)])\n",
    "\n",
    "ds_out"
   ]
  },
  {
   "cell_type": "markdown",
   "metadata": {},
   "source": [
    "# SAVE"
   ]
  },
  {
   "cell_type": "code",
   "execution_count": 12,
   "metadata": {},
   "outputs": [],
   "source": [
    "# delete if already present\n",
    "if os.path.isfile(outfn):\n",
    "    os.remove(outfn)\n",
    "\n",
    "ds_out.to_netcdf(outfn,mode='w',format = \"NETCDF4\")"
   ]
  },
  {
   "cell_type": "code",
   "execution_count": null,
   "metadata": {},
   "outputs": [],
   "source": []
  },
  {
   "cell_type": "code",
   "execution_count": null,
   "metadata": {},
   "outputs": [],
   "source": []
  }
 ],
 "metadata": {
  "kernelspec": {
   "display_name": "Python 3",
   "language": "python",
   "name": "python3"
  },
  "language_info": {
   "codemirror_mode": {
    "name": "ipython",
    "version": 3
   },
   "file_extension": ".py",
   "mimetype": "text/x-python",
   "name": "python",
   "nbconvert_exporter": "python",
   "pygments_lexer": "ipython3",
   "version": "3.7.3"
  }
 },
 "nbformat": 4,
 "nbformat_minor": 2
}
