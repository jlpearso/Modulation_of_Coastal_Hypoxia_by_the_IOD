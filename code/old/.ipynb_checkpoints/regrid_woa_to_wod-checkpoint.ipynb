{
 "cells": [
  {
   "cell_type": "markdown",
   "metadata": {},
   "source": [
    "# Setup"
   ]
  },
  {
   "cell_type": "code",
   "execution_count": 4,
   "metadata": {},
   "outputs": [
    {
     "name": "stdout",
     "output_type": "stream",
     "text": [
      "Default libraries loaded.\n"
     ]
    }
   ],
   "source": [
    "# import your standard packages\n",
    "%run ../pkgs.py\n",
    "\n",
    "# import your local functions\n",
    "sys.path.insert(1, '../')\n",
    "from local_functions import *\n",
    "\n",
    "# make sure the figures plot inline rather than at the end\n",
    "%matplotlib inline"
   ]
  },
  {
   "cell_type": "markdown",
   "metadata": {},
   "source": [
    "# Paths and Parameters"
   ]
  },
  {
   "cell_type": "code",
   "execution_count": 11,
   "metadata": {},
   "outputs": [],
   "source": [
    "outfn = '../../data/woa_to_wod.nc'"
   ]
  },
  {
   "cell_type": "markdown",
   "metadata": {},
   "source": [
    "# Read Data"
   ]
  },
  {
   "cell_type": "code",
   "execution_count": 5,
   "metadata": {},
   "outputs": [
    {
     "data": {
      "text/plain": [
       "<xarray.Dataset>\n",
       "Dimensions:                      (coastal_loc: 1925, depth: 57, lat: 35, lon: 55, lonmin,lonmax,latmin,latmax: 4, month: 12)\n",
       "Coordinates:\n",
       "  * month                        (month) int64 1 2 3 4 5 6 7 8 9 10 11 12\n",
       "  * depth                        (depth) float32 0.0 5.0 10.0 ... 1450.0 1500.0\n",
       "  * lon                          (lon) float32 48.5 49.5 50.5 ... 101.5 102.5\n",
       "  * lat                          (lat) float32 -1.5 -0.5 0.5 ... 30.5 31.5 32.5\n",
       "  * coastal_loc                  (coastal_loc) int64 0 1 2 3 ... 1922 1923 1924\n",
       "  * lonmin,lonmax,latmin,latmax  (lonmin,lonmax,latmin,latmax) int64 0 1 2 3\n",
       "Data variables:\n",
       "    temp                         (month, depth, lat, lon) float64 ...\n",
       "    psal                         (month, depth, lat, lon) float64 ...\n",
       "    doxy                         (month, depth, lat, lon) float64 ...\n",
       "    nitrate                      (month, depth, lat, lon) float64 ...\n",
       "    phosphate                    (month, depth, lat, lon) float64 ...\n",
       "    pres                         (depth, lat, lon) float64 ...\n",
       "    temp_40_200                  (month, lat, lon) float64 ...\n",
       "    doxy_40_200                  (month, lat, lon) float64 ...\n",
       "    psal_40_200                  (month, lat, lon) float64 ...\n",
       "    nitrate_40_200               (month, lat, lon) float64 ...\n",
       "    phosphate_40_200             (month, lat, lon) float64 ...\n",
       "    temp_50_200                  (month, lat, lon) float64 ...\n",
       "    doxy_50_200                  (month, lat, lon) float64 ...\n",
       "    psal_50_200                  (month, lat, lon) float64 ...\n",
       "    nitrate_50_200               (month, lat, lon) float64 ...\n",
       "    phosphate_50_200             (month, lat, lon) float64 ...\n",
       "    temp_60_200                  (month, lat, lon) float64 ...\n",
       "    doxy_60_200                  (month, lat, lon) float64 ...\n",
       "    psal_60_200                  (month, lat, lon) float64 ...\n",
       "    nitrate_60_200               (month, lat, lon) float64 ...\n",
       "    phosphate_60_200             (month, lat, lon) float64 ...\n",
       "    temp_40_200_ann_mean         (lat, lon) float64 ...\n",
       "    doxy_40_200_ann_mean         (lat, lon) float64 ...\n",
       "    psal_40_200_ann_mean         (lat, lon) float64 ...\n",
       "    nitrate_40_200_ann_mean      (lat, lon) float64 ...\n",
       "    phosphate_40_200_ann_mean    (lat, lon) float64 ...\n",
       "    temp_50_200_ann_mean         (lat, lon) float64 ...\n",
       "    doxy_50_200_ann_mean         (lat, lon) float64 ...\n",
       "    psal_50_200_ann_mean         (lat, lon) float64 ...\n",
       "    nitrate_50_200_ann_mean      (lat, lon) float64 ...\n",
       "    phosphate_50_200_ann_mean    (lat, lon) float64 ...\n",
       "    temp_60_200_ann_mean         (lat, lon) float64 ...\n",
       "    doxy_60_200_ann_mean         (lat, lon) float64 ...\n",
       "    psal_60_200_ann_mean         (lat, lon) float64 ...\n",
       "    nitrat_60_200_ann_mean       (lat, lon) float64 ...\n",
       "    phosphate_60_200_ann_mean    (lat, lon) float64 ...\n",
       "    temp_40_200_anom             (month, lat, lon) float64 ...\n",
       "    doxy_40_200_anom             (month, lat, lon) float64 ...\n",
       "    psal_40_200_anom             (month, lat, lon) float64 ...\n",
       "    nitrate_40_200_anom          (month, lat, lon) float64 ...\n",
       "    phosphate_40_200_anom        (month, lat, lon) float64 ...\n",
       "    temp_50_200_anom             (month, lat, lon) float64 ...\n",
       "    doxy_50_200_anom             (month, lat, lon) float64 ...\n",
       "    psal_50_200_anom             (month, lat, lon) float64 ...\n",
       "    nitrate_50_200_anom          (month, lat, lon) float64 ...\n",
       "    phosphate_50_200_anom        (month, lat, lon) float64 ...\n",
       "    temp_60_200_anom             (month, lat, lon) float64 ...\n",
       "    doxy_60_200_anom             (month, lat, lon) float64 ...\n",
       "    psal_60_200_anom             (month, lat, lon) float64 ...\n",
       "    nitrate_60_200_anom          (month, lat, lon) float64 ...\n",
       "    phosphate_60_200_anom        (month, lat, lon) float64 ...\n",
       "    coastal_mask                 (coastal_loc) bool ...\n",
       "    coastal_mask_xx              (coastal_loc) float32 ...\n",
       "    coastal_mask_yy              (coastal_loc) float32 ...\n",
       "    coastal_mask_bounds          (lonmin,lonmax,latmin,latmax) float64 ..."
      ]
     },
     "execution_count": 5,
     "metadata": {},
     "output_type": "execute_result"
    }
   ],
   "source": [
    "ds_WOA = xr.open_dataset('../../data/woa_processed.nc')\n",
    "ds_WOA"
   ]
  },
  {
   "cell_type": "code",
   "execution_count": 6,
   "metadata": {},
   "outputs": [
    {
     "data": {
      "text/plain": [
       "<xarray.Dataset>\n",
       "Dimensions:  (pres: 201, time: 146472)\n",
       "Coordinates:\n",
       "    prof     (time) int32 ...\n",
       "  * time     (time) datetime64[ns] 1958-06-01 1958-06-02 ... 2020-02-07\n",
       "  * pres     (pres) int32 0 5 10 15 20 25 30 35 ... 970 975 980 985 990 995 1000\n",
       "Data variables:\n",
       "    temp     (time, pres) float32 ...\n",
       "    psal     (time, pres) float32 ...\n",
       "    doxy     (time, pres) float32 ...\n",
       "    lat      (time) float32 ...\n",
       "    lon      (time) float32 ...\n",
       "    type     (time) int32 ..."
      ]
     },
     "execution_count": 6,
     "metadata": {},
     "output_type": "execute_result"
    }
   ],
   "source": [
    "ds_AWG = xr.open_dataset('../../data/awg_processed.nc')\n",
    "ds_AWG"
   ]
  },
  {
   "cell_type": "markdown",
   "metadata": {},
   "source": [
    "# Interpolate WOA to AWG Pressure Levels"
   ]
  },
  {
   "cell_type": "code",
   "execution_count": 7,
   "metadata": {},
   "outputs": [
    {
     "name": "stderr",
     "output_type": "stream",
     "text": [
      "100%|██████████| 23100/23100 [03:13<00:00, 119.52it/s]\n"
     ]
    }
   ],
   "source": [
    "interp_min=0 # min pressure (in dbar)\n",
    "interp_max=1000 # max pressure (in dbar)\n",
    "interp_step=5\n",
    "\n",
    "PRES_i=np.linspace(interp_min,interp_max,1+int((interp_max-interp_min)/interp_step))\n",
    "p = len(PRES_i)\n",
    "n = len(ds_WOA.lat)\n",
    "m = len(ds_WOA.lon)\n",
    "t = 12\n",
    "with tqdm(total=n * m * t) as pbar:\n",
    "    for tt in range(12):\n",
    "        \n",
    "        if tt == 0:\n",
    "            TEMP_i = np.full((12,p,n,m),np.nan)\n",
    "            DOXY_i = np.full((12,p,n,m),np.nan)\n",
    "            PSAL_i = np.full((12,p,n,m),np.nan)\n",
    "            NITRATE_i = np.full((12,p,n,m),np.nan)\n",
    "            PHOSPHATE_i = np.full((12,p,n,m),np.nan)\n",
    "                    \n",
    "        for ii,lat in zip(range(n),ds_WOA.lat):\n",
    "            for jj in range(m):\n",
    "\n",
    "                # conversion [m] -> [dbar]:\n",
    "                pres=sw.eos80.pres(ds_WOA.depth, [lat for i in range(len(ds_WOA.depth))])\n",
    "\n",
    "                # temp,psal,doxy selection\n",
    "                temp,psal,doxy = ds_WOA.temp[tt,:,ii,jj],ds_WOA.psal[tt,:,ii,jj],ds_WOA.doxy[tt,:,ii,jj]\n",
    "                nitrate,phosphate = ds_WOA.nitrate[tt,:,ii,jj],ds_WOA.phosphate[tt,:,ii,jj]\n",
    "\n",
    "                # interpolation\n",
    "                ft = sp.interp1d(pres,temp,bounds_error=False,fill_value=np.nan)\n",
    "                TEMP_i[tt,:,ii,jj] = ft(PRES_i)\n",
    "                    \n",
    "                fo = sp.interp1d(pres,doxy,bounds_error=False,fill_value=np.nan)\n",
    "                DOXY_i[tt,:,ii,jj] = fo(PRES_i)\n",
    "                \n",
    "                fs = sp.interp1d(pres,psal,bounds_error=False,fill_value=np.nan)\n",
    "                PSAL_i[tt,:,ii,jj] = fs(PRES_i)\n",
    "                \n",
    "                fn = sp.interp1d(pres,nitrate,bounds_error=False,fill_value=np.nan)\n",
    "                NITRATE_i[tt,:,ii,jj] = fn(PRES_i)\n",
    "                \n",
    "                fp = sp.interp1d(pres,phosphate,bounds_error=False,fill_value=np.nan)\n",
    "                PHOSPHATE_i[tt,:,ii,jj] = fp(PRES_i)\n",
    "                \n",
    "                pbar.update(1)         "
   ]
  },
  {
   "cell_type": "markdown",
   "metadata": {},
   "source": [
    "# Interpolate horizontally"
   ]
  },
  {
   "cell_type": "code",
   "execution_count": 13,
   "metadata": {},
   "outputs": [
    {
     "name": "stderr",
     "output_type": "stream",
     "text": [
      "100%|██████████| 2412/2412 [05:45<00:00,  7.10it/s]\n"
     ]
    }
   ],
   "source": [
    "xx,yy = np.meshgrid(ds_WOA.lon,ds_WOA.lat)\n",
    "xx = xx.flatten()\n",
    "yy = yy.flatten()\n",
    "\n",
    "lons = np.array(ds_AWG.lon)\n",
    "lats = np.array(ds_AWG.lat)\n",
    "months = np.array(ds_AWG.time.dt.month)\n",
    "\n",
    "TEMP_AWG = np.zeros((len(months),len(ds_AWG.pres)))*np.nan\n",
    "DOXY_AWG = np.zeros((len(months),len(ds_AWG.pres)))*np.nan\n",
    "PSAL_AWG = np.zeros((len(months),len(ds_AWG.pres)))*np.nan\n",
    "NITRATE_AWG = np.zeros((len(months),len(ds_AWG.pres)))*np.nan\n",
    "PHOSPHATE_AWG = np.zeros((len(months),len(ds_AWG.pres)))*np.nan\n",
    "lon_AWG = np.zeros(len(months))*np.nan\n",
    "lat_AWG = np.zeros(len(months))*np.nan\n",
    "month_AWG = np.array(months)\n",
    "month_WOA = np.arange(1,13)\n",
    "\n",
    "n = len(month_WOA)\n",
    "m = len(PRES_i)\n",
    "\n",
    "with tqdm(total=n * m) as pbar:\n",
    "    for tt in range(n):\n",
    "        for dd in range(m):\n",
    "\n",
    "            temp = np.array(TEMP_i[tt,dd,:,:])\n",
    "            psal = np.array(PSAL_i[tt,dd,:,:])\n",
    "            doxy = np.array(DOXY_i[tt,dd,:,:])\n",
    "            nitrate = np.array(NITRATE_i[tt,dd,:,:])\n",
    "            phosphate = np.array(PHOSPHATE_i[tt,dd,:,:])\n",
    "            \n",
    "            \n",
    "            indq = months == np.array(month_WOA[tt])   \n",
    "            lonq = lons[indq]\n",
    "            latq = lats[indq]\n",
    "\n",
    "            # find the lons and lats of TCD vals at this time\n",
    "            points = np.array( (xx,yy) ).T\n",
    "            temp_values = temp.flatten()\n",
    "            psal_values = psal.flatten()\n",
    "            doxy_values = doxy.flatten()\n",
    "            nitrate_values = nitrate.flatten()\n",
    "            phosphate_values = phosphate.flatten()\n",
    "\n",
    "            TEMP_AWG[indq,dd] = griddata(points, temp_values, (lonq,latq) ,method='linear')\n",
    "            PSAL_AWG[indq,dd] = griddata(points, psal_values, (lonq,latq) ,method='linear')\n",
    "            DOXY_AWG[indq,dd] = griddata(points, doxy_values, (lonq,latq) ,method='linear')\n",
    "            NITRATE_AWG[indq,dd] = griddata(points, nitrate_values, (lonq,latq) ,method='linear')\n",
    "            PHOSPHATE_AWG[indq,dd] = griddata(points, phosphate_values, (lonq,latq) ,method='linear')\n",
    "            \n",
    "            lon_AWG[indq] = lonq\n",
    "            lat_AWG[indq] = latq\n",
    "            \n",
    "            pbar.update(1)\n",
    "\n",
    "# set the places that are nans in AWG temp or doxy to nan\n",
    "ind = np.isnan(ds_AWG.temp)\n",
    "TEMP_AWG[ind] = np.nan\n",
    "\n",
    "ind = np.isnan(ds_AWG.doxy)\n",
    "DOXY_AWG[ind] = np.nan\n",
    "\n",
    "ind = np.isnan(ds_AWG.psal)\n",
    "PSAL_AWG[ind] = np.nan\n",
    "\n",
    "# ind = np.isnan(ds_AWG.nitrate)\n",
    "# NITRATE_AWG[ind] = np.nan\n",
    "\n",
    "# ind = np.isnan(ds_AWG.phosphate)\n",
    "# PHOSPHATE_AWG[ind] = np.nan"
   ]
  },
  {
   "cell_type": "markdown",
   "metadata": {},
   "source": [
    "# SAVE"
   ]
  },
  {
   "cell_type": "code",
   "execution_count": 12,
   "metadata": {},
   "outputs": [],
   "source": [
    "ds_out = xr.Dataset(coords={'month': month_AWG,\n",
    "                        'pres': PRES_i})\n",
    "\n",
    "# add to dataset\n",
    "ds_out['temp'] = xr.DataArray(TEMP_AWG,dims = ['month','pres'],coords =[month_AWG,PRES_i])\n",
    "ds_out['psal'] = xr.DataArray(PSAL_AWG,dims = ['month','pres'],coords =[month_AWG,PRES_i])\n",
    "ds_out['doxy'] = xr.DataArray(DOXY_AWG,dims = ['month','pres'],coords =[month_AWG,PRES_i])\n",
    "ds_out['nitrate'] = xr.DataArray(NITRATE_AWG,dims = ['month','pres'],coords =[month_AWG,PRES_i])\n",
    "ds_out['phosphate'] = xr.DataArray(PHOSPHATE_AWG,dims = ['month','pres'],coords =[month_AWG,PRES_i])\n",
    "ds_out['lon'] = xr.DataArray(lon_AWG,dims = ['month'],coords =[month_AWG])\n",
    "ds_out['lat'] = xr.DataArray(lat_AWG,dims = ['month'],coords =[month_AWG])\n",
    "ds_out \n",
    "\n",
    "\n",
    "# delete if already present\n",
    "if os.path.isfile(outfn):\n",
    "    os.remove(outfn)\n",
    "\n",
    "ds_out.to_netcdf(outfn,mode='w',format = \"NETCDF4\")\n"
   ]
  },
  {
   "cell_type": "code",
   "execution_count": null,
   "metadata": {},
   "outputs": [],
   "source": []
  }
 ],
 "metadata": {
  "kernelspec": {
   "display_name": "Python 3",
   "language": "python",
   "name": "python3"
  },
  "language_info": {
   "codemirror_mode": {
    "name": "ipython",
    "version": 3
   },
   "file_extension": ".py",
   "mimetype": "text/x-python",
   "name": "python",
   "nbconvert_exporter": "python",
   "pygments_lexer": "ipython3",
   "version": "3.7.3"
  }
 },
 "nbformat": 4,
 "nbformat_minor": 2
}
