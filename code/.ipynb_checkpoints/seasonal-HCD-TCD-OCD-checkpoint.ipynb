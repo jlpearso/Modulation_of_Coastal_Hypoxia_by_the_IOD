{
 "cells": [
  {
   "cell_type": "markdown",
   "metadata": {},
   "source": [
    "# <font color='darkblue'>Setup</font> "
   ]
  },
  {
   "cell_type": "markdown",
   "metadata": {},
   "source": [
    "## <font color='orange'>Packages</font> "
   ]
  },
  {
   "cell_type": "code",
   "execution_count": 1,
   "metadata": {},
   "outputs": [],
   "source": [
    "# Packages -----------------------------------------------#\n",
    "\n",
    "# Data Analysis\n",
    "import xarray as xr\n",
    "import numpy as np\n",
    "import pandas as pd\n",
    "from scipy import stats\n",
    "from scipy.ndimage import gaussian_filter\n",
    "import datetime as dt\n",
    "from scipy.interpolate import griddata\n",
    "\n",
    "# Plotting\n",
    "import cartopy.crs as ccrs\n",
    "from cartopy.feature import LAND\n",
    "import cartopy.feature as cfeature\n",
    "import matplotlib.gridspec as gridspec\n",
    "import matplotlib.pyplot as plt\n",
    "import matplotlib.pyplot as mpl\n",
    "import cmocean\n",
    "\n",
    "# Timing Processes and Progress\n",
    "import time\n",
    "from tqdm import tqdm\n",
    "import itertools\n",
    "\n",
    "# make sure the figures plot inline rather than at the end\n",
    "%matplotlib inline"
   ]
  },
  {
   "cell_type": "markdown",
   "metadata": {},
   "source": [
    "## <font color='orange'>Functions</font> "
   ]
  },
  {
   "cell_type": "code",
   "execution_count": 2,
   "metadata": {},
   "outputs": [],
   "source": [
    "# filtering a 2D matrix ---------------------------------------------------------------#\n",
    "def gaus_filter_nan(img,sigma = 1):\n",
    "    # import required packages\n",
    "    from astropy.convolution import convolve\n",
    "    from astropy.convolution import Gaussian2DKernel\n",
    "    \n",
    "    # create a kernal with std = 1\n",
    "    kernel = Gaussian2DKernel(x_stddev=1)\n",
    "    \n",
    "    #convolve that with the 2d matrix\n",
    "    img_conv = convolve(img, kernel)\n",
    "\n",
    "    # set original nan points back to nans\n",
    "    img_conv[np.isnan(img)] = np.nan\n",
    "\n",
    "    return img_conv\n",
    "\n",
    "# put coastlines on map and set xy limits ---------------------------------------------#\n",
    "def add_land(ax,bounds= [35,120,-20,30]):\n",
    "    from cartopy.mpl.gridliner import LONGITUDE_FORMATTER, LATITUDE_FORMATTER\n",
    "    ax.add_feature(cfeature.LAND,color='gray',zorder = 1)\n",
    "    ax.background_patch.set_facecolor('k')\n",
    "    ax.coastlines(resolution='110m',zorder = 2)\n",
    "    g = ax.gridlines(draw_labels=True,alpha=0)\n",
    "    g.xlabels_top = False\n",
    "    g.ylabels_right = False\n",
    "    g.xlabel_style = {'size': 15}\n",
    "    g.ylabel_style = {'size': 15}\n",
    "    g.xformatter = LONGITUDE_FORMATTER\n",
    "    g.yformatter = LATITUDE_FORMATTER\n",
    "    ax.axes.axis('tight')\n",
    "    ax.set_extent(bounds, crs=ccrs.PlateCarree())\n",
    "    return None \n",
    "\n",
    "# mask coastlines ---------------------------------------------------------------------#\n",
    "def mask_coast(c_lon,c_lat,bounds):\n",
    "    data=xr.open_dataset('/tigress/GEOCLIM/LRGROUP/shared_data/pco2_flux_coastal_Roobaert/mask_ocean.nc')\n",
    "    mask_coast=np.array(data.mask_coastal2).astype(int).T\n",
    "    lat=np.array(data.latitude)\n",
    "    lon=np.array(data.longitude)\n",
    "\n",
    "    mask_lon=np.logical_and(lon>bounds[0],lon<bounds[1])\n",
    "    mask_lat=np.logical_and(lat>bounds[2],lat<bounds[3])\n",
    "\n",
    "    lon=lon[mask_lon]\n",
    "    lat=lat[mask_lat]\n",
    "\n",
    "    mask_coast=mask_coast[mask_lat]\n",
    "    mask_coast=mask_coast[:,mask_lon]\n",
    "\n",
    "    lonlon,latlat=np.meshgrid(lon,lat)\n",
    "\n",
    "    # what are these for? I should probably fix it\n",
    "    lon_dot=np.array([70,70])\n",
    "    lat_dot=np.array([10,19.5])\n",
    "\n",
    "    mask=[]\n",
    "    for lo,la in zip(c_lon,c_lat):\n",
    "        if len(lon[lon<=lo])>0 and len(lat[lat>=la])>0 and len(lon[lon>=lo])>0 and len(lat[lat<=la])>0:\n",
    "            lon_lim=[lon[lon<=lo][-1],lon[lon>=lo][0]]\n",
    "            lat_lim=[lat[lat<=la][-1],lat[lat>=la][0]]\n",
    "            mask_lon=np.logical_or(lon==lon_lim[0],lon==lon_lim[1])\n",
    "            mask_lat=np.logical_or(lat==lat_lim[0],lat==lat_lim[1])\n",
    "            mask_tmp=mask_coast[mask_lat]\n",
    "            mask_tmp=mask_tmp[:,mask_lon]\n",
    "            mask.append(np.mean(mask_tmp)>0)\n",
    "        else:\n",
    "            mask.append(False)\n",
    "    mask=np.array(mask)\n",
    "    return mask"
   ]
  },
  {
   "cell_type": "markdown",
   "metadata": {},
   "source": [
    "## <font color='orange'>Read Data</font> "
   ]
  },
  {
   "cell_type": "code",
   "execution_count": 3,
   "metadata": {},
   "outputs": [],
   "source": [
    "# WOA\n",
    "path_WOA = '../data/WOA/'\n",
    "infn_WOA = 'woa_grid_processed.nc'\n",
    "\n",
    "ds_WOA = xr.open_dataset(path_WOA + infn_WOA)"
   ]
  },
  {
   "cell_type": "code",
   "execution_count": 4,
   "metadata": {},
   "outputs": [
    {
     "data": {
      "text/plain": [
       "<matplotlib.colorbar.Colorbar at 0x7f5615c72b70>"
      ]
     },
     "execution_count": 4,
     "metadata": {},
     "output_type": "execute_result"
    },
    {
     "data": {
      "image/png": "[encoded data removed]",
      "text/plain": [
       "<Figure size 432x288 with 2 Axes>"
      ]
     },
     "metadata": {
      "needs_background": "light"
     },
     "output_type": "display_data"
    }
   ],
   "source": [
    "plt.pcolormesh(ds_WOA.doxy_grid[0,-1,:,:])\n",
    "plt.colorbar()"
   ]
  },
  {
   "cell_type": "markdown",
   "metadata": {},
   "source": [
    "# <font color='darkblue'>Find WOA TCD, OCD, HCD</font> "
   ]
  },
  {
   "cell_type": "code",
   "execution_count": 5,
   "metadata": {},
   "outputs": [
    {
     "name": "stderr",
     "output_type": "stream",
     "text": [
      "  0%|          | 66/68400 [00:00<05:15, 216.64it/s]/home/jennap/anaconda3/lib/python3.7/site-packages/ipykernel_launcher.py:82: RuntimeWarning: invalid value encountered in less_equal\n",
      "/home/jennap/anaconda3/lib/python3.7/site-packages/ipykernel_launcher.py:86: RuntimeWarning: invalid value encountered in less_equal\n",
      "/home/jennap/anaconda3/lib/python3.7/site-packages/ipykernel_launcher.py:93: RuntimeWarning: invalid value encountered in less_equal\n",
      "/home/jennap/anaconda3/lib/python3.7/site-packages/ipykernel_launcher.py:97: RuntimeWarning: invalid value encountered in less_equal\n",
      "/home/jennap/anaconda3/lib/python3.7/site-packages/ipykernel_launcher.py:104: RuntimeWarning: invalid value encountered in less_equal\n",
      "/home/jennap/anaconda3/lib/python3.7/site-packages/ipykernel_launcher.py:108: RuntimeWarning: invalid value encountered in less_equal\n",
      "100%|██████████| 68400/68400 [05:00<00:00, 227.26it/s]\n"
     ]
    }
   ],
   "source": [
    "TCP = np.full((ds_WOA.month.shape[0],ds_WOA.lat.shape[0],ds_WOA.lon.shape[0]),np.nan)\n",
    "OCP = np.full((ds_WOA.month.shape[0],ds_WOA.lat.shape[0],ds_WOA.lon.shape[0]),np.nan)\n",
    "HCP = np.full((ds_WOA.month.shape[0],ds_WOA.lat.shape[0],ds_WOA.lon.shape[0]),np.nan)\n",
    "\n",
    "TCP_thresh_20 = np.full((ds_WOA.month.shape[0],ds_WOA.lat.shape[0],ds_WOA.lon.shape[0]),np.nan)\n",
    "OCP_thresh_50 = np.full((ds_WOA.month.shape[0],ds_WOA.lat.shape[0],ds_WOA.lon.shape[0]),np.nan)\n",
    "TCP_thresh_23 = np.full((ds_WOA.month.shape[0],ds_WOA.lat.shape[0],ds_WOA.lon.shape[0]),np.nan)\n",
    "OCP_thresh_100 = np.full((ds_WOA.month.shape[0],ds_WOA.lat.shape[0],ds_WOA.lon.shape[0]),np.nan)\n",
    "TCP_thresh_25 = np.full((ds_WOA.month.shape[0],ds_WOA.lat.shape[0],ds_WOA.lon.shape[0]),np.nan)\n",
    "OCP_thresh_150 = np.full((ds_WOA.month.shape[0],ds_WOA.lat.shape[0],ds_WOA.lon.shape[0]),np.nan)\n",
    "\n",
    "# mean temperature and doxy in water column\n",
    "doxy_mean = np.full((ds_WOA.month.shape[0],ds_WOA.lat.shape[0],ds_WOA.lon.shape[0]),np.nan)\n",
    "temp_mean = np.full((ds_WOA.month.shape[0],ds_WOA.lat.shape[0],ds_WOA.lon.shape[0]),np.nan)\n",
    "\n",
    "doxy_TCP_bot_mean = np.full((ds_WOA.month.shape[0],ds_WOA.lat.shape[0],ds_WOA.lon.shape[0]),np.nan)\n",
    "temp_TCP_bot_mean = np.full((ds_WOA.month.shape[0],ds_WOA.lat.shape[0],ds_WOA.lon.shape[0]),np.nan)\n",
    "\n",
    "doxy_TCP_200_mean = np.full((ds_WOA.month.shape[0],ds_WOA.lat.shape[0],ds_WOA.lon.shape[0]),np.nan)\n",
    "temp_TCP_200_mean = np.full((ds_WOA.month.shape[0],ds_WOA.lat.shape[0],ds_WOA.lon.shape[0]),np.nan)\n",
    "\n",
    "doxy_10_50_mean = np.full((ds_WOA.month.shape[0],ds_WOA.lat.shape[0],ds_WOA.lon.shape[0]),np.nan)\n",
    "temp_10_50_mean = np.full((ds_WOA.month.shape[0],ds_WOA.lat.shape[0],ds_WOA.lon.shape[0]),np.nan)\n",
    "\n",
    "doxy_50_200_mean = np.full((ds_WOA.month.shape[0],ds_WOA.lat.shape[0],ds_WOA.lon.shape[0]),np.nan)\n",
    "temp_50_200_mean = np.full((ds_WOA.month.shape[0],ds_WOA.lat.shape[0],ds_WOA.lon.shape[0]),np.nan)\n",
    "\n",
    "doxy_10_200_mean = np.full((ds_WOA.month.shape[0],ds_WOA.lat.shape[0],ds_WOA.lon.shape[0]),np.nan)\n",
    "temp_10_200_mean = np.full((ds_WOA.month.shape[0],ds_WOA.lat.shape[0],ds_WOA.lon.shape[0]),np.nan)\n",
    "\n",
    "# minimum oxygen and temp values\n",
    "doxy_min = np.full((ds_WOA.month.shape[0],ds_WOA.lat.shape[0],ds_WOA.lon.shape[0]),np.nan)\n",
    "temp_min = np.full((ds_WOA.month.shape[0],ds_WOA.lat.shape[0],ds_WOA.lon.shape[0]),np.nan)\n",
    "\n",
    "# median oxygen and temp values\n",
    "doxy_median = np.full((ds_WOA.month.shape[0],ds_WOA.lat.shape[0],ds_WOA.lon.shape[0]),np.nan)\n",
    "temp_median = np.full((ds_WOA.month.shape[0],ds_WOA.lat.shape[0],ds_WOA.lon.shape[0]),np.nan)\n",
    "\n",
    "n = len(ds_WOA.month)\n",
    "m = len(ds_WOA.lat)\n",
    "p = len(ds_WOA.lon)\n",
    "\n",
    "with tqdm(total=n * m * p) as pbar:\n",
    "    for tt,ii,jj in itertools.product(np.arange(len(ds_WOA.month)),np.arange(len(ds_WOA.lat)),np.arange(len(ds_WOA.lon))):\n",
    "        temp = np.array(ds_WOA.temp_grid[tt,:,ii,jj])\n",
    "        doxy = np.array(ds_WOA.doxy_grid[tt,:,ii,jj])\n",
    "        psal = np.array(ds_WOA.psal_grid[tt,:,ii,jj])\n",
    "        pres = np.array(ds_WOA.pres_grid[:,ii,jj])\n",
    "#         pres = np.array(ds_WOA.pres)\n",
    "#         depth = ds_WOA.depth\n",
    "\n",
    "        # gradient method -----------------------------------------#\n",
    "\n",
    "        # only take upper 10-500dbar of data\n",
    "        ind = (pres>=10) & (pres<=500)\n",
    "        upper_temp = temp[ind]\n",
    "        upper_doxy = doxy[ind]\n",
    "        upper_psal = psal[ind]\n",
    "        upper_pres = pres[ind]\n",
    "\n",
    "        # find gradients, min/max gradient inds, and pressure at min inds\n",
    "        if np.nansum(~np.isnan(upper_temp)) >= 10: \n",
    "            temp_grad = np.gradient(upper_temp,upper_pres)\n",
    "            # note that nanargmin automatically takes the value closest to the surface\n",
    "            temp_grad_max_ind = np.nanargmax(np.abs(temp_grad))\n",
    "            TCP[tt,ii,jj] = upper_pres[temp_grad_max_ind]\n",
    "            \n",
    "        if np.nansum(~np.isnan(upper_doxy)) >= 10: \n",
    "            doxy_grad = np.gradient(upper_doxy,upper_pres)\n",
    "            doxy_grad_max_ind = np.nanargmax(np.abs(doxy_grad))\n",
    "            OCP[tt,ii,jj] = upper_pres[doxy_grad_max_ind]\n",
    "            \n",
    "        if np.nansum(~np.isnan(upper_psal)) >= 10: \n",
    "            psal_grad = np.gradient(upper_psal,upper_pres)\n",
    "            psal_grad_max_ind = np.nanargmax(np.abs(psal_grad)) \n",
    "            HCP[tt,ii,jj] = upper_pres[psal_grad_max_ind]\n",
    "\n",
    "        # threshold method -----------------------------------------#\n",
    "        doxy_thresh = 100\n",
    "        temp_thresh = 23\n",
    "        \n",
    "        temp_ind = temp <= temp_thresh\n",
    "        if len(pres[temp_ind]) > 0: \n",
    "            TCP_thresh_23[tt,ii,jj] = pres[temp_ind][0]\n",
    "            \n",
    "        doxy_ind = doxy <= doxy_thresh\n",
    "        if len(pres[doxy_ind]) > 0: \n",
    "            OCP_thresh_100[tt,ii,jj] = pres[doxy_ind][0]\n",
    "        \n",
    "        doxy_thresh = 50\n",
    "        temp_thresh = 20\n",
    "        \n",
    "        temp_ind = temp <= temp_thresh\n",
    "        if len(pres[temp_ind]) > 0: \n",
    "            TCP_thresh_20[tt,ii,jj] = pres[temp_ind][0]\n",
    "            \n",
    "        doxy_ind = doxy <= doxy_thresh\n",
    "        if len(pres[doxy_ind]) > 0: \n",
    "            OCP_thresh_50[tt,ii,jj] = pres[doxy_ind][0]\n",
    "        \n",
    "        doxy_thresh = 150\n",
    "        temp_thresh = 25\n",
    "        \n",
    "        temp_ind = temp <= temp_thresh\n",
    "        if len(pres[temp_ind]) > 0: \n",
    "            TCP_thresh_25[tt,ii,jj] = pres[temp_ind][0]\n",
    "            \n",
    "        doxy_ind = doxy <= doxy_thresh\n",
    "        if len(pres[doxy_ind]) > 0: \n",
    "            OCP_thresh_150[tt,ii,jj] = pres[doxy_ind][0]\n",
    "\n",
    "        # find water column averages -------------------------------#\n",
    "        \n",
    "        TCPtmp = np.array(TCP[tt,ii,jj])\n",
    "        OCPtmp = np.array(OCP[tt,ii,jj])\n",
    "        \n",
    "        if ~np.isnan(TCPtmp): # if TCP/OCPtmp is a nan it already has less than 10 pts above 500dbar\n",
    "                \n",
    "            if TCPtmp < 200:\n",
    "                # find mean temperature and doxy TCP-200dbar\n",
    "                ind = (pres>= TCPtmp) & (pres<= 200)\n",
    "                temp_TCP_200_mean[tt,ii,jj] = np.nanmean(temp[ind])\n",
    "                doxy_TCP_200_mean[tt,ii,jj] = np.nanmean(doxy[ind])\n",
    "    \n",
    "            # find mean temperature and doxy TCP-bottom\n",
    "            ind = (pres>= TCPtmp)\n",
    "            temp_TCP_bot_mean[tt,ii,jj] = np.nanmean(temp[ind])\n",
    "            doxy_TCP_bot_mean[tt,ii,jj] = np.nanmean(doxy[ind])\n",
    "                \n",
    "            # find mean temperature and doxy top-bottom\n",
    "            temp_mean[tt,ii,jj] = np.nanmean(temp)\n",
    "            doxy_mean[tt,ii,jj] = np.nanmean(doxy)\n",
    "\n",
    "            # find mean temperature and doxy 10-50dbar\n",
    "            ind = (pres>= 10) & (pres<= 50)\n",
    "            temp_10_50_mean[tt,ii,jj] = np.nanmean(temp[ind])\n",
    "            doxy_10_50_mean[tt,ii,jj] = np.nanmean(doxy[ind])\n",
    "\n",
    "            # find mean temperature and doxy 50-200dbar\n",
    "            ind = (pres>= 50) & (pres<= 200)\n",
    "            temp_50_200_mean[tt,ii,jj] = np.nanmean(temp[ind])\n",
    "            doxy_50_200_mean[tt,ii,jj] = np.nanmean(doxy[ind])\n",
    "\n",
    "            # find mean temperature and doxy 10-200dbar\n",
    "            ind = (pres>= 10) & (pres<= 200)\n",
    "            temp_10_200_mean[tt,ii,jj] = np.nanmean(temp[ind])\n",
    "            doxy_10_200_mean[tt,ii,jj] = np.nanmean(doxy[ind])\n",
    "\n",
    "            # find min temperature and doxy \n",
    "            temp_min[tt,ii,jj] = np.nanmin(temp)\n",
    "            doxy_min[tt,ii,jj] = np.nanmin(doxy)\n",
    "\n",
    "            # find min temperature and doxy \n",
    "            temp_median[tt,ii,jj] = np.nanmedian(temp)\n",
    "            doxy_median[tt,ii,jj] = np.nanmedian(doxy)\n",
    "\n",
    "    \n",
    "        pbar.update(1)\n",
    "    "
   ]
  },
  {
   "cell_type": "code",
   "execution_count": 6,
   "metadata": {},
   "outputs": [
    {
     "data": {
      "text/plain": [
       "Text(0.5, 0.98, 'Sal')"
      ]
     },
     "execution_count": 6,
     "metadata": {},
     "output_type": "execute_result"
    },
    {
     "data": {
      "image/png": "[encoded data removed]",
      "text/plain": [
       "<Figure size 432x288 with 2 Axes>"
      ]
     },
     "metadata": {
      "needs_background": "light"
     },
     "output_type": "display_data"
    },
    {
     "data": {
      "image/png": "[encoded data removed]",
      "text/plain": [
       "<Figure size 432x288 with 2 Axes>"
      ]
     },
     "metadata": {
      "needs_background": "light"
     },
     "output_type": "display_data"
    },
    {
     "data": {
      "image/png": "[encoded data removed]",
      "text/plain": [
       "<Figure size 432x288 with 2 Axes>"
      ]
     },
     "metadata": {
      "needs_background": "light"
     },
     "output_type": "display_data"
    }
   ],
   "source": [
    " # Example plot\n",
    "\n",
    "tt,ii,jj = 1,50,25\n",
    "temp = np.array(ds_WOA.temp_grid[tt,:,ii,jj])\n",
    "doxy = np.array(ds_WOA.doxy_grid[tt,:,ii,jj])\n",
    "psal = np.array(ds_WOA.psal_grid[tt,:,ii,jj])\n",
    "pres = np.array(ds_WOA.pres_grid[:,ii,jj])\n",
    "# pres = np.array(ds_WOA.pres)\n",
    "temp_grad = np.gradient(temp,pres)\n",
    "doxy_grad = np.gradient(doxy,pres)\n",
    "psal_grad = np.gradient(psal,pres)\n",
    "\n",
    "upper_temp = temp[pres<=500]\n",
    "upper_psal = temp[psal<=500]\n",
    "upper_pres = pres[pres<=500]\n",
    "\n",
    "f, (ax1,ax2) = plt.subplots(1, 2)\n",
    "ax1.plot(temp,-1*pres)\n",
    "ax2.plot(temp_grad,-1*pres)\n",
    "ax2.plot(temp_grad,-1*np.full(pres.shape,TCP[tt,ii,jj]))\n",
    "ax2.plot(temp_grad,-1*np.full(pres.shape,TCP_thresh_23[tt,ii,jj]))\n",
    "plt.suptitle('Temp')\n",
    "\n",
    "f, (ax1,ax2) = plt.subplots(1, 2)\n",
    "ax1.plot(doxy,-1*pres)\n",
    "ax2.plot(doxy_grad,-1*pres)\n",
    "ax2.plot(doxy_grad,-1*np.full(pres.shape,OCP[tt,ii,jj]))\n",
    "ax2.plot(doxy_grad,-1*np.full(pres.shape,OCP_thresh_100[tt,ii,jj]))\n",
    "plt.suptitle('Doxy')\n",
    "\n",
    "\n",
    "f, (ax1,ax2) = plt.subplots(1, 2)\n",
    "ax1.plot(psal,-1*pres)\n",
    "ax2.plot(psal_grad,-1*pres)\n",
    "ax2.plot(psal_grad,-1*np.full(pres.shape,HCP[tt,ii,jj]))\n",
    "plt.suptitle('Sal')"
   ]
  },
  {
   "cell_type": "code",
   "execution_count": 7,
   "metadata": {},
   "outputs": [
    {
     "name": "stderr",
     "output_type": "stream",
     "text": [
      "/home/jennap/anaconda3/lib/python3.7/site-packages/ipykernel_launcher.py:1: RuntimeWarning: Mean of empty slice\n",
      "  \"\"\"Entry point for launching an IPython kernel.\n"
     ]
    },
    {
     "data": {
      "text/plain": [
       "<matplotlib.colorbar.Colorbar at 0x7f5615121668>"
      ]
     },
     "execution_count": 7,
     "metadata": {},
     "output_type": "execute_result"
    },
    {
     "data": {
      "image/png": "[encoded data removed]",
      "text/plain": [
       "<Figure size 432x288 with 2 Axes>"
      ]
     },
     "metadata": {
      "needs_background": "light"
     },
     "output_type": "display_data"
    }
   ],
   "source": [
    "plt.pcolormesh(np.nanmean(TCP_thresh_23,axis=0))\n",
    "plt.colorbar()"
   ]
  },
  {
   "cell_type": "code",
   "execution_count": 8,
   "metadata": {},
   "outputs": [],
   "source": [
    "# convert to xarray dataset\n",
    "ds=xr.Dataset(coords={'lon': ds_WOA.lon,\n",
    "                    'lat': ds_WOA.lat,\n",
    "                    'month': ds_WOA.month})\n",
    "\n",
    "# add variables to dataset\n",
    "\n",
    "ds[\"TCP\"]=xr.DataArray(TCP,dims = ['month','lat', 'lon'],\n",
    "                     coords =[ds_WOA.month,ds_WOA.lat,ds_WOA.lon])\n",
    "ds[\"OCP\"]=xr.DataArray(OCP,dims = ['month','lat', 'lon'],\n",
    "                     coords =[ds_WOA.month,ds_WOA.lat,ds_WOA.lon])\n",
    "ds[\"HCP\"]=xr.DataArray(HCP,dims = ['month','lat', 'lon'],\n",
    "                     coords =[ds_WOA.month,ds_WOA.lat,ds_WOA.lon])\n",
    "\n",
    "ds[\"TCP_thresh_20\"]=xr.DataArray(TCP_thresh_20,dims = ['month','lat', 'lon'],\n",
    "                     coords =[ds_WOA.month,ds_WOA.lat,ds_WOA.lon])\n",
    "ds[\"OCP_thresh_50\"]=xr.DataArray(OCP_thresh_50,dims = ['month','lat', 'lon'],\n",
    "                     coords =[ds_WOA.month,ds_WOA.lat,ds_WOA.lon])\n",
    "\n",
    "ds[\"TCP_thresh_23\"]=xr.DataArray(TCP_thresh_23,dims = ['month','lat', 'lon'],\n",
    "                     coords =[ds_WOA.month,ds_WOA.lat,ds_WOA.lon])\n",
    "ds[\"OCP_thresh_100\"]=xr.DataArray(OCP_thresh_100,dims = ['month','lat', 'lon'],\n",
    "                     coords =[ds_WOA.month,ds_WOA.lat,ds_WOA.lon])\n",
    "\n",
    "ds[\"TCP_thresh_25\"]=xr.DataArray(TCP_thresh_25,dims = ['month','lat', 'lon'],\n",
    "                     coords =[ds_WOA.month,ds_WOA.lat,ds_WOA.lon])\n",
    "ds[\"OCP_thresh_150\"]=xr.DataArray(OCP_thresh_150,dims = ['month','lat', 'lon'],\n",
    "                     coords =[ds_WOA.month,ds_WOA.lat,ds_WOA.lon])\n",
    "\n",
    "ds['temp_mean'] = xr.DataArray(temp_mean,dims = ['month','lat', 'lon'],\n",
    "                     coords =[ds_WOA.month,ds_WOA.lat,ds_WOA.lon])\n",
    "ds['doxy_mean'] = xr.DataArray(doxy_mean,dims = ['month','lat', 'lon'],\n",
    "                     coords =[ds_WOA.month,ds_WOA.lat,ds_WOA.lon])\n",
    "ds['temp_10_200_mean'] = xr.DataArray(temp_10_200_mean,dims = ['month','lat', 'lon'],\n",
    "                     coords =[ds_WOA.month,ds_WOA.lat,ds_WOA.lon])\n",
    "ds['doxy_10_200_mean'] = xr.DataArray(doxy_10_200_mean,dims = ['month','lat', 'lon'],\n",
    "                     coords =[ds_WOA.month,ds_WOA.lat,ds_WOA.lon])\n",
    "ds['temp_10_50_mean'] = xr.DataArray(temp_10_50_mean,dims = ['month','lat', 'lon'],\n",
    "                     coords =[ds_WOA.month,ds_WOA.lat,ds_WOA.lon])\n",
    "ds['doxy_10_50_mean'] = xr.DataArray(doxy_10_50_mean,dims = ['month','lat', 'lon'],\n",
    "                     coords =[ds_WOA.month,ds_WOA.lat,ds_WOA.lon])\n",
    "ds['temp_50_200_mean'] = xr.DataArray(temp_50_200_mean,dims = ['month','lat', 'lon'],\n",
    "                     coords =[ds_WOA.month,ds_WOA.lat,ds_WOA.lon])\n",
    "ds['doxy_50_200_mean'] = xr.DataArray(doxy_50_200_mean,dims = ['month','lat', 'lon'],\n",
    "                     coords =[ds_WOA.month,ds_WOA.lat,ds_WOA.lon])\n",
    "ds['temp_TCP_200_mean'] = xr.DataArray(temp_TCP_200_mean,dims = ['month','lat', 'lon'],\n",
    "                     coords =[ds_WOA.month,ds_WOA.lat,ds_WOA.lon])\n",
    "ds['doxy_TCP_200_mean'] = xr.DataArray(doxy_TCP_200_mean,dims = ['month','lat', 'lon'],\n",
    "                     coords =[ds_WOA.month,ds_WOA.lat,ds_WOA.lon])\n",
    "ds['temp_TCP_bot_mean'] = xr.DataArray(temp_TCP_bot_mean,dims = ['month','lat', 'lon'],\n",
    "                     coords =[ds_WOA.month,ds_WOA.lat,ds_WOA.lon])\n",
    "ds['doxy_TCP_bot_mean'] = xr.DataArray(doxy_TCP_bot_mean,dims = ['month','lat', 'lon'],\n",
    "                     coords =[ds_WOA.month,ds_WOA.lat,ds_WOA.lon])\n",
    "\n",
    "ds['temp_min'] = xr.DataArray(temp_min,dims = ['month','lat', 'lon'],\n",
    "                     coords =[ds_WOA.month,ds_WOA.lat,ds_WOA.lon])\n",
    "ds['doxy_min'] = xr.DataArray(doxy_min,dims = ['month','lat', 'lon'],\n",
    "                     coords =[ds_WOA.month,ds_WOA.lat,ds_WOA.lon])\n",
    "\n",
    "ds['temp_median'] = xr.DataArray(temp_median,dims = ['month','lat', 'lon'],\n",
    "                     coords =[ds_WOA.month,ds_WOA.lat,ds_WOA.lon])\n",
    "ds['doxy_median'] = xr.DataArray(doxy_median,dims = ['month','lat', 'lon'],\n",
    "                     coords =[ds_WOA.month,ds_WOA.lat,ds_WOA.lon])\n",
    "import os\n",
    "\n",
    "# AWG data\n",
    "outfn = '../data/CD/cd_woa.nc'\n",
    "\n",
    "# delete if already present\n",
    "if os.path.isfile(outfn):\n",
    "    os.remove(outfn)\n",
    "\n",
    "ds.to_netcdf(outfn,mode='w',format = \"NETCDF4\")"
   ]
  },
  {
   "cell_type": "code",
   "execution_count": null,
   "metadata": {},
   "outputs": [],
   "source": []
  }
 ],
 "metadata": {
  "kernelspec": {
   "display_name": "Python 3",
   "language": "python",
   "name": "python3"
  },
  "language_info": {
   "codemirror_mode": {
    "name": "ipython",
    "version": 3
   },
   "file_extension": ".py",
   "mimetype": "text/x-python",
   "name": "python",
   "nbconvert_exporter": "python",
   "pygments_lexer": "ipython3",
   "version": "3.7.3"
  }
 },
 "nbformat": 4,
 "nbformat_minor": 2
}
