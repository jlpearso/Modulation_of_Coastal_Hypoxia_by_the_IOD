{
 "cells": [
  {
   "cell_type": "markdown",
   "metadata": {},
   "source": [
    "## Box Hovmuller Plots"
   ]
  },
  {
   "cell_type": "code",
   "execution_count": 1,
   "metadata": {},
   "outputs": [],
   "source": [
    "# Packages -----------------------------------------------#\n",
    "\n",
    "# Data Analysis\n",
    "import xarray as xr\n",
    "import numpy as np\n",
    "import pandas as pd\n",
    "import metpy.calc as mpcalc\n",
    "\n",
    "# Plotting\n",
    "import cartopy.crs as ccrs\n",
    "import cartopy.feature as cfeature\n",
    "import matplotlib.gridspec as gridspec\n",
    "import matplotlib.pyplot as plt\n",
    "from matplotlib.patches import Rectangle\n",
    "\n",
    "# Timing Processes\n",
    "import time\n",
    "\n",
    "# make sure the figures plot inline rather than at the end\n",
    "%matplotlib inline\n",
    "\n",
    "# Get Data ----------------------------------------------#\n",
    "\n",
    "# get data from tigress - currently this is Liao's\n",
    "path = '/home/jennap/projects/LRGROUP/shared_data/ssh_AVISO/'\n",
    "infn = 'all_adt_sla_global_twosat_phy_l4_vDT2018_daily_1994_2018.nc'\n",
    "\n",
    "ds = xr.open_dataset(path + infn)\n",
    "#print(ds.keys())\n",
    "\n",
    "# Subset ------------------------------------------------#\n",
    "\n",
    "# Create slice variables to subset domain before finding means\n",
    "lat_slice = slice(-20, 30) # bounds inclusive\n",
    "lon_slice = slice(30, 120) # bounds inclusive\n",
    "\n",
    "# Get data, selecting lat/lon slice\n",
    "sla = ds['sla'].sel(latitude=lat_slice,longitude=lon_slice)\n",
    "lat = sla.latitude.values\n",
    "lon = sla.longitude.values\n",
    "\n",
    "# Create Grid -------------------------------------------#\n",
    "\n",
    "# convert to a grid\n",
    "[lon_grid, lat_grid] = np.meshgrid(lon,lat)"
   ]
  },
  {
   "cell_type": "markdown",
   "metadata": {},
   "source": [
    "## Find Boxes"
   ]
  },
  {
   "cell_type": "code",
   "execution_count": null,
   "metadata": {},
   "outputs": [],
   "source": [
    "# [lonmin, lonmax, latmin, latmax]\n",
    "\n",
    "# box 1\n",
    "b1_ll = [95,100,0,5]\n",
    "\n",
    "# box 2\n",
    "b1_ll = [95,100,10,15]\n",
    "\n",
    "# box 3\n",
    "b1_ll = [92.5,97.5,22.5,27.5]\n",
    "\n",
    "# box 4\n",
    "b1_ll = [80,85,10,15]\n",
    "\n",
    "# box 5\n",
    "b1_ll = [75,80,10,15]\n",
    "\n",
    "# box 6\n",
    "b1_ll = [57.5,62.5,20,25]\n",
    "\n",
    "# box 7\n",
    "b1_ll = [50,55,10,15]\n",
    "\n",
    "# plot"
   ]
  },
  {
   "cell_type": "markdown",
   "metadata": {},
   "source": [
    "## Plot Hovmuller Diagrams"
   ]
  },
  {
   "cell_type": "code",
   "execution_count": null,
   "metadata": {},
   "outputs": [],
   "source": [
    "# Start figure\n",
    "fig = plt.figure(figsize=(10, 13))\n",
    "\n",
    "# Use gridspec to help size elements of plot; small top plot and big bottom plot\n",
    "gs = gridspec.GridSpec(nrows=2, ncols=6, height_ratios=[1, 6], hspace=0.03)\n"
   ]
  },
  {
   "cell_type": "code",
   "execution_count": null,
   "metadata": {},
   "outputs": [],
   "source": []
  },
  {
   "cell_type": "code",
   "execution_count": null,
   "metadata": {},
   "outputs": [],
   "source": []
  }
 ],
 "metadata": {
  "kernelspec": {
   "display_name": "Python 3",
   "language": "python",
   "name": "python3"
  },
  "language_info": {
   "codemirror_mode": {
    "name": "ipython",
    "version": 3
   },
   "file_extension": ".py",
   "mimetype": "text/x-python",
   "name": "python",
   "nbconvert_exporter": "python",
   "pygments_lexer": "ipython3",
   "version": "3.7.3"
  }
 },
 "nbformat": 4,
 "nbformat_minor": 2
}
