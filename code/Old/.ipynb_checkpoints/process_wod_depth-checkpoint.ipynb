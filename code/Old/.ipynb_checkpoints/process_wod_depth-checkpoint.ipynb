{
 "cells": [
  {
   "cell_type": "markdown",
   "metadata": {},
   "source": [
    "# Setup\n",
    "\n",
    "Note for this one you have to run it without the anomaly and water column average code, then run the woa regridding file which will allow you to get the anomalies when you run this again.\n",
    "\n",
    "See this documentation on ragged arrays: \n",
    "https://www.nodc.noaa.gov/OC5/WOD/netcdf_descr.html"
   ]
  },
  {
   "cell_type": "code",
   "execution_count": 1,
   "metadata": {},
   "outputs": [
    {
     "name": "stdout",
     "output_type": "stream",
     "text": [
      "Default libraries loaded.\n"
     ]
    }
   ],
   "source": [
    "# import your standard packages\n",
    "%run ../pkgs.py\n",
    "\n",
    "# import your local functions\n",
    "sys.path.insert(1, '../')\n",
    "from local_functions import *\n",
    "\n",
    "# make sure the figures plot inline rather than at the end\n",
    "%matplotlib inline"
   ]
  },
  {
   "cell_type": "markdown",
   "metadata": {},
   "source": [
    "# Parameters and Paths"
   ]
  },
  {
   "cell_type": "code",
   "execution_count": 2,
   "metadata": {},
   "outputs": [],
   "source": [
    "inpath = \"/tigress/GEOCLIM/LRGROUP/shared_data/WOD/indian_ocean/concatenated/\"\n",
    "infn = 'all_casts_beginning_to_aug_2020_indian_ocean.nc'\n",
    "outfn = '../../data/wod_processed_depth.nc'\n",
    "\n",
    "lat_bounds = [-1.5, 33]\n",
    "lon_bounds = [48.5, 102.5]"
   ]
  },
  {
   "cell_type": "markdown",
   "metadata": {},
   "source": [
    "# Get Data"
   ]
  },
  {
   "cell_type": "code",
   "execution_count": 3,
   "metadata": {},
   "outputs": [
    {
     "data": {
      "text/plain": [
       "<xarray.Dataset>\n",
       "Dimensions:    (cast: 342256, depth: 57)\n",
       "Coordinates:\n",
       "  * cast       (cast) int64 0 1 2 3 4 5 ... 342251 342252 342253 342254 342255\n",
       "  * depth      (depth) int64 0 5 10 15 20 25 ... 1250 1300 1350 1400 1450 1500\n",
       "Data variables:\n",
       "    time       (cast) datetime64[ns] ...\n",
       "    lat        (cast) float32 ...\n",
       "    lon        (cast) float32 ...\n",
       "    cast_id    (cast) object ...\n",
       "    temp       (cast, depth) float64 ...\n",
       "    sal        (cast, depth) float64 ...\n",
       "    doxy       (cast, depth) float64 ...\n",
       "    nitrate    (cast, depth) float64 ...\n",
       "    phosphate  (cast, depth) float64 ...\n",
       "Attributes:\n",
       "    date_created:           03/23/2021\n",
       "    unmerged_data_url:      https://www.ncei.noaa.gov/access/world-ocean-data...\n",
       "    geospatial_lat_extent:  decimal degrees north (-2.11,48.733334)\n",
       "    geospatial_lon_extent:  decimal degrees east (-163.332,102.5)\n",
       "    help_email:             OCLhelp@noaa.gov\n",
       "    history:                Merged ../latest/*.nc"
      ]
     },
     "execution_count": 3,
     "metadata": {},
     "output_type": "execute_result"
    }
   ],
   "source": [
    "ds_in = xr.open_dataset(inpath + infn)\n",
    "ds_in"
   ]
  },
  {
   "cell_type": "markdown",
   "metadata": {},
   "source": [
    "# Sort by Time"
   ]
  },
  {
   "cell_type": "code",
   "execution_count": 4,
   "metadata": {},
   "outputs": [
    {
     "data": {
      "text/plain": [
       "<xarray.Dataset>\n",
       "Dimensions:    (depth: 57, time: 342256)\n",
       "Coordinates:\n",
       "  * time       (time) datetime64[ns] 1770-01-01 ... 2020-07-07T05:37:30\n",
       "  * depth      (depth) int64 0 5 10 15 20 25 ... 1250 1300 1350 1400 1450 1500\n",
       "Data variables:\n",
       "    temp       (time, depth) float64 33.11 nan nan nan nan ... nan nan nan nan\n",
       "    sal        (time, depth) float64 nan nan nan nan nan ... nan nan nan nan nan\n",
       "    doxy       (time, depth) float64 nan nan nan nan nan ... nan nan nan nan nan\n",
       "    nitrate    (time, depth) float64 nan nan nan nan nan ... nan nan nan nan nan\n",
       "    phosphate  (time, depth) float64 nan nan nan nan nan ... nan nan nan nan nan\n",
       "    lat        (time) float32 14.366667 14.433333 16.95 ... 14.283334 13.299\n",
       "    lon        (time) float32 99.583336 54.083332 64.35 ... 92.1 81.21667 87.454\n",
       "    cast_id    (time) object 'OSD_9540691' 'OSD_9540856' ... 'PFL_19992885'\n",
       "Attributes:\n",
       "    date_created:           03/23/2021\n",
       "    unmerged_data_url:      https://www.ncei.noaa.gov/access/world-ocean-data...\n",
       "    geospatial_lat_extent:  decimal degrees north (-2.11,48.733334)\n",
       "    geospatial_lon_extent:  decimal degrees east (-163.332,102.5)\n",
       "    help_email:             OCLhelp@noaa.gov\n",
       "    history:                Merged ../latest/*.nc"
      ]
     },
     "execution_count": 4,
     "metadata": {},
     "output_type": "execute_result"
    }
   ],
   "source": [
    "# # add time as a coordinate\n",
    "ds_in = ds_in.assign_coords(unsorted_time=ds_in.time)\n",
    "\n",
    "# reset profile variables to be with respect to time\n",
    "ds_in['temp'] = xr.DataArray(ds_in.temp,dims = ['unsorted_time','depth'],coords =[ds_in.time,ds_in.depth])\n",
    "ds_in['sal'] = xr.DataArray(ds_in.sal,dims = ['unsorted_time','depth'],coords =[ds_in.time,ds_in.depth])\n",
    "ds_in['doxy'] = xr.DataArray(ds_in.doxy,dims = ['unsorted_time','depth'],coords =[ds_in.time,ds_in.depth])\n",
    "ds_in['nitrate'] = xr.DataArray(ds_in.nitrate,dims = ['unsorted_time','depth'],coords =[ds_in.time,ds_in.depth])\n",
    "ds_in['phosphate'] = xr.DataArray(ds_in.phosphate,dims = ['unsorted_time','depth'],coords =[ds_in.time,ds_in.depth])\n",
    "ds_in['lat'] = xr.DataArray(ds_in.lat,dims = ['unsorted_time'],coords =[ds_in.time])\n",
    "ds_in['lon'] = xr.DataArray(ds_in.lon,dims = ['unsorted_time'],coords =[ds_in.time])\n",
    "ds_in['cast_id'] = xr.DataArray(ds_in.cast_id,dims = ['unsorted_time'],coords =[ds_in.time])\n",
    "# get rid of intial time variable\n",
    "ds_in = ds_in[['temp','sal','doxy','nitrate','phosphate','lat','lon','cast_id']]\n",
    "\n",
    "sorted_time = ds_in.unsorted_time.sortby(ds_in.unsorted_time)\n",
    "\n",
    "# sort based on time\n",
    "ds_in['temp'] = xr.DataArray(ds_in.temp.sortby(ds_in.unsorted_time),dims = ['time','depth'],coords =[sorted_time,ds_in.depth])\n",
    "ds_in['sal'] = xr.DataArray(ds_in.sal.sortby(ds_in.unsorted_time),dims = ['time','depth'],coords =[sorted_time,ds_in.depth])\n",
    "ds_in['doxy'] = xr.DataArray(ds_in.doxy.sortby(ds_in.unsorted_time),dims = ['time','depth'],coords =[sorted_time,ds_in.depth])\n",
    "ds_in['nitrate'] = xr.DataArray(ds_in.nitrate.sortby(ds_in.unsorted_time),dims = ['time','depth'],coords =[sorted_time,ds_in.depth])\n",
    "ds_in['phosphate'] = xr.DataArray(ds_in.phosphate.sortby(ds_in.unsorted_time),dims = ['time','depth'],coords =[sorted_time,ds_in.depth])\n",
    "ds_in['lat'] = xr.DataArray(ds_in.lat.sortby(ds_in.unsorted_time),dims = ['time'],coords =[sorted_time])\n",
    "ds_in['lon'] = xr.DataArray(ds_in.lon.sortby(ds_in.unsorted_time),dims = ['time'],coords =[sorted_time])\n",
    "ds_in['cast_id'] = xr.DataArray(ds_in.cast_id.sortby(ds_in.unsorted_time),dims = ['time'],coords =[sorted_time])\n",
    "ds_in = ds_in[['temp','sal','doxy','nitrate','phosphate','lat','lon','cast_id','time']]\n",
    "ds_in"
   ]
  },
  {
   "cell_type": "code",
   "execution_count": 5,
   "metadata": {},
   "outputs": [
    {
     "data": {
      "image/png": "[encoded data removed]",
      "text/plain": [
       "<Figure size 432x288 with 1 Axes>"
      ]
     },
     "metadata": {
      "needs_background": "light"
     },
     "output_type": "display_data"
    }
   ],
   "source": [
    "for tt in range(1000):\n",
    "    plt.plot(ds_in.temp[tt,:],-1*ds_in.depth)"
   ]
  },
  {
   "cell_type": "markdown",
   "metadata": {},
   "source": [
    "# Subset"
   ]
  },
  {
   "cell_type": "code",
   "execution_count": 8,
   "metadata": {},
   "outputs": [
    {
     "data": {
      "text/plain": [
       "<xarray.Dataset>\n",
       "Dimensions:    (depth: 57, time: 333865)\n",
       "Coordinates:\n",
       "  * time       (time) datetime64[ns] 1958-06-01T00:01:00.000001024 ... 2020-05-31T23:03:46.441955328\n",
       "  * depth      (depth) int64 0 5 10 15 20 25 ... 1250 1300 1350 1400 1450 1500\n",
       "Data variables:\n",
       "    temp       (time, depth) float64 29.8 29.7 29.7 29.7 ... nan nan nan nan\n",
       "    sal        (time, depth) float64 nan nan nan nan nan ... nan nan nan nan nan\n",
       "    doxy       (time, depth) float64 nan nan nan nan nan ... nan nan nan nan nan\n",
       "    nitrate    (time, depth) float64 nan nan nan nan nan ... nan nan nan nan nan\n",
       "    phosphate  (time, depth) float64 nan nan nan nan nan ... nan nan nan nan nan\n",
       "    lat        (time) float32 12.183333 12.316667 12.0 ... 0.153 15.8443 13.862\n",
       "    lon        (time) float32 55.6 55.5 55.933334 ... 60.407 57.72186 67.64\n",
       "    cast_id    (time) object 'MBT_1180411' 'MBT_1180418' ... 'PFL_19977773'\n",
       "Attributes:\n",
       "    date_created:           03/23/2021\n",
       "    unmerged_data_url:      https://www.ncei.noaa.gov/access/world-ocean-data...\n",
       "    geospatial_lat_extent:  decimal degrees north (-2.11,48.733334)\n",
       "    geospatial_lon_extent:  decimal degrees east (-163.332,102.5)\n",
       "    help_email:             OCLhelp@noaa.gov\n",
       "    history:                Merged ../latest/*.nc"
      ]
     },
     "execution_count": 8,
     "metadata": {},
     "output_type": "execute_result"
    }
   ],
   "source": [
    "# time_slice = slice('1958-06-01', '2020-05-31')\n",
    "# ds_in = ds_in.sel(time = time_slice)\n",
    "# ds_in"
   ]
  },
  {
   "cell_type": "markdown",
   "metadata": {},
   "source": [
    "# Remove and negative concentration values"
   ]
  },
  {
   "cell_type": "code",
   "execution_count": 9,
   "metadata": {},
   "outputs": [
    {
     "data": {
      "text/plain": [
       "Text(0, 0.5, 'min doxy negs removed')"
      ]
     },
     "execution_count": 9,
     "metadata": {},
     "output_type": "execute_result"
    },
    {
     "data": {
      "image/png": "[encoded data removed]",
      "text/plain": [
       "<Figure size 432x288 with 1 Axes>"
      ]
     },
     "metadata": {
      "needs_background": "light"
     },
     "output_type": "display_data"
    }
   ],
   "source": [
    "plt.plot(ds_in.doxy.min(dim = 'depth'),'.')\n",
    "plt.ylim([-1,1])\n",
    "plt.xlabel('Profile No.')\n",
    "plt.ylabel('min doxy')\n",
    "\n",
    "# set negative oxygen values to nan\n",
    "ds_in['doxy'] = ds_in.doxy.where(ds_in.doxy >= 0)\n",
    "\n",
    "plt.plot(ds_in.doxy.min(dim = 'depth'),'.')\n",
    "plt.ylim([-1,1])\n",
    "plt.xlabel('Profile No.')\n",
    "plt.ylabel('min doxy negs removed')"
   ]
  },
  {
   "cell_type": "markdown",
   "metadata": {},
   "source": [
    "# Find Anomalies"
   ]
  },
  {
   "cell_type": "code",
   "execution_count": null,
   "metadata": {},
   "outputs": [],
   "source": [
    "# ds_out['temp_anom'] = ds_out.temp - np.array(ds_WOA.temp)\n",
    "# ds_out['doxy_anom'] = ds_out.doxy - np.array(ds_WOA.doxy)\n",
    "# ds_out['sal_anom'] = ds_out.sal - np.array(ds_WOA.sal)\n",
    "# ds_out['nitrate_anom'] = ds_out.nitrate - np.array(ds_WOA.nitrate)\n",
    "# ds_out['phosphate_anom'] = ds_out.phosphate - np.array(ds_WOA.phosphate)"
   ]
  },
  {
   "cell_type": "markdown",
   "metadata": {},
   "source": [
    "# Water Column Averages"
   ]
  },
  {
   "cell_type": "code",
   "execution_count": null,
   "metadata": {},
   "outputs": [],
   "source": [
    "# find mean temperature and doxy 40-200dbar\n",
    "ind = (ds_out.pres>= 40) & (ds_out.pres<= 200)\n",
    "\n",
    "doxy_40_200 = np.nanmean(ds_out.doxy[:,ind],1)\n",
    "temp_40_200 = np.nanmean(ds_out.temp[:,ind],1)\n",
    "sal_40_200 = np.nanmean(ds_out.sal[:,ind],1)\n",
    "nitrate_40_200 = np.nanmean(ds_out.nitrate[:,ind],1)\n",
    "phosphate_40_200 = np.nanmean(ds_out.phosphate[:,ind],1)\n",
    "# doxy_anom_40_200 = np.nanmean(ds_out.doxy_anom[:,ind],1)\n",
    "# temp_anom_40_200 = np.nanmean(ds_out.temp_anom[:,ind],1)\n",
    "# sal_anom_40_200 = np.nanmean(ds_out.sal_anom[:,ind],1)\n",
    "# nitrate_anom_40_200 = np.nanmean(ds_out.nitrate_anom[:,ind],1)\n",
    "# phosphate_anom_40_200 = np.nanmean(ds_out.phosphate_anom[:,ind],1)\n",
    "\n",
    "# find mean temperature and doxy 50-200dbar\n",
    "ind = (ds_out.pres>= 50) & (ds_out.pres<= 200)\n",
    "\n",
    "doxy_50_200 = np.nanmean(ds_out.doxy[:,ind],1)\n",
    "temp_50_200 = np.nanmean(ds_out.temp[:,ind],1)\n",
    "sal_50_200 = np.nanmean(ds_out.sal[:,ind],1)\n",
    "nitrate_50_200 = np.nanmean(ds_out.nitrate[:,ind],1)\n",
    "phosphate_50_200 = np.nanmean(ds_out.phosphate[:,ind],1)\n",
    "# doxy_anom_50_200 = np.nanmean(ds_out.doxy_anom[:,ind],1)\n",
    "# temp_anom_50_200 = np.nanmean(ds_out.temp_anom[:,ind],1)\n",
    "# sal_anom_50_200 = np.nanmean(ds_out.sal_anom[:,ind],1)\n",
    "# nitrate_anom_50_200 = np.nanmean(ds_out.nitrate_anom[:,ind],1)\n",
    "# phosphate_anom_50_200 = np.nanmean(ds_out.phosphate_anom[:,ind],1)\n",
    "\n",
    "# find mean temperature and doxy 50-225dbar\n",
    "ind = (ds_out.pres>= 50) & (ds_out.pres<= 225)\n",
    "\n",
    "doxy_50_225 = np.nanmean(ds_out.doxy[:,ind],1)\n",
    "temp_50_225 = np.nanmean(ds_out.temp[:,ind],1)\n",
    "sal_50_225 = np.nanmean(ds_out.sal[:,ind],1)\n",
    "nitrate_50_225 = np.nanmean(ds_out.nitrate[:,ind],1)\n",
    "phosphate_50_225 = np.nanmean(ds_out.phosphate[:,ind],1)\n",
    "# doxy_anom_50_225 = np.nanmean(ds_out.doxy_anom[:,ind],1)\n",
    "# temp_anom_50_225 = np.nanmean(ds_out.temp_anom[:,ind],1)\n",
    "# sal_anom_50_225 = np.nanmean(ds_out.sal_anom[:,ind],1)\n",
    "# nitrate_anom_50_225 = np.nanmean(ds_out.nitrate_anom[:,ind],1)\n",
    "# phosphate_anom_50_225 = np.nanmean(ds_out.phosphate_anom[:,ind],1)\n",
    "\n",
    "# add to dataset\n",
    "ds_out['temp_40_200'] = xr.DataArray(temp_40_200,dims = ['time'],coords =[ds_out.time])\n",
    "ds_out['doxy_40_200'] = xr.DataArray(doxy_40_200,dims = ['time'],coords =[ds_out.time])\n",
    "ds_out['sal_40_200'] = xr.DataArray(sal_40_200,dims = ['time'],coords =[ds_out.time])\n",
    "ds_out['nitrate_40_200'] = xr.DataArray(nitrate_40_200,dims = ['time'],coords =[ds_out.time])\n",
    "ds_out['phosphate_40_200'] = xr.DataArray(phosphate_40_200,dims = ['time'],coords =[ds_out.time])\n",
    "# ds_out['temp_anom_40_200'] = xr.DataArray(temp_anom_40_200,dims = ['time'],coords =[ds_out.time])\n",
    "# ds_out['doxy_anom_40_200'] = xr.DataArray(doxy_anom_40_200,dims = ['time'],coords =[ds_out.time])\n",
    "# ds_out['sal_anom_40_200'] = xr.DataArray(sal_anom_40_200,dims = ['time'],coords =[ds_out.time])\n",
    "# ds_out['nitrate_anom_40_200'] = xr.DataArray(nitrate_anom_40_200,dims = ['time'],coords =[ds_out.time])\n",
    "# ds_out['phosphate_anom_40_200'] = xr.DataArray(phosphate_anom_40_200,dims = ['time'],coords =[ds_out.time])\n",
    "\n",
    "ds_out['temp_50_200'] = xr.DataArray(temp_50_200,dims = ['time'],coords =[ds_out.time])\n",
    "ds_out['doxy_50_200'] = xr.DataArray(doxy_50_200,dims = ['time'],coords =[ds_out.time])\n",
    "ds_out['sal_50_200'] = xr.DataArray(sal_50_200,dims = ['time'],coords =[ds_out.time])\n",
    "ds_out['nitrate_50_200'] = xr.DataArray(nitrate_50_200,dims = ['time'],coords =[ds_out.time])\n",
    "ds_out['phosphate_50_200'] = xr.DataArray(phosphate_50_200,dims = ['time'],coords =[ds_out.time])\n",
    "# ds_out['temp_anom_50_200'] = xr.DataArray(temp_anom_50_200,dims = ['time'],coords =[ds_out.time])\n",
    "# ds_out['doxy_anom_50_200'] = xr.DataArray(doxy_anom_50_200,dims = ['time'],coords =[ds_out.time])\n",
    "# ds_out['sal_anom_50_200'] = xr.DataArray(sal_anom_50_200,dims = ['time'],coords =[ds_out.time])\n",
    "# ds_out['nitrate_anom_50_200'] = xr.DataArray(nitrate_anom_50_200,dims = ['time'],coords =[ds_out.time])\n",
    "# ds_out['phosphate_anom_50_200'] = xr.DataArray(phosphate_anom_50_200,dims = ['time'],coords =[ds_out.time])\n",
    "\n",
    "ds_out['temp_50_225'] = xr.DataArray(temp_50_225,dims = ['time'],coords =[ds_out.time])\n",
    "ds_out['doxy_50_225'] = xr.DataArray(doxy_50_225,dims = ['time'],coords =[ds_out.time])\n",
    "ds_out['sal_50_225'] = xr.DataArray(sal_50_225,dims = ['time'],coords =[ds_out.time])\n",
    "ds_out['nitrate_50_225'] = xr.DataArray(nitrate_50_225,dims = ['time'],coords =[ds_out.time])\n",
    "ds_out['phosphate_50_225'] = xr.DataArray(phosphate_50_225,dims = ['time'],coords =[ds_out.time])\n",
    "# ds_out['temp_anom_50_225'] = xr.DataArray(temp_anom560_225,dims = ['time'],coords =[ds_out.time])\n",
    "# ds_out['doxy_anom_50_225'] = xr.DataArray(doxy_anom_50_225,dims = ['time'],coords =[ds_out.time])\n",
    "# ds_out['sal_anom_50_225'] = xr.DataArray(sal_anom_50_225,dims = ['time'],coords =[ds_out.time])\n",
    "# ds_out['nitrate_anom_50_225'] = xr.DataArray(nitrate_anom_50_225,dims = ['time'],coords =[ds_out.time])\n",
    "# ds_out['phosphate_anom_50_225'] = xr.DataArray(phosphate_anom_50_225,dims = ['time'],coords =[ds_out.time])\n"
   ]
  },
  {
   "cell_type": "markdown",
   "metadata": {},
   "source": [
    "# Find Coastal Mask"
   ]
  },
  {
   "cell_type": "code",
   "execution_count": null,
   "metadata": {},
   "outputs": [],
   "source": [
    "xx,yy = np.array(ds_out.lon),np.array(ds_out.lat)\n",
    "\n",
    "mask = mask_coast(xx,yy,[lon_bounds[0],lon_bounds[1],lat_bounds[0],lat_bounds[1]])\n",
    "mask.shape\n",
    "mask_xx = xx[mask]\n",
    "mask_yy = yy[mask]\n",
    "\n",
    "ds_out['coastal_mask'] = xr.DataArray(mask,dims = ['coastal_loc'],coords =[np.arange(len(mask))])\n",
    "ds_out['coastal_mask_xx'] = xr.DataArray(mask_xx,dims = ['coastal_pos'],coords =[np.arange(len(mask[mask]))])\n",
    "ds_out['coastal_mask_yy'] = xr.DataArray(mask_yy,dims = ['coastal_pos'],coords =[np.arange(len(mask[mask]))])\n",
    "ds_out['coastal_mask_bounds'] = xr.DataArray([lon_bounds[0],lon_bounds[1],lat_bounds[0],lat_bounds[1]],\n",
    "                                             dims = ['lonmin,lonmax,latmin,latmax'],\n",
    "                                             coords =[np.arange(4)])"
   ]
  },
  {
   "cell_type": "markdown",
   "metadata": {},
   "source": [
    "# Save Data"
   ]
  },
  {
   "cell_type": "code",
   "execution_count": null,
   "metadata": {},
   "outputs": [],
   "source": [
    "# delete if already present\n",
    "if os.path.isfile(outfn):\n",
    "    os.remove(outfn)\n",
    "\n",
    "ds_out.to_netcdf(outfn,mode='w',format = \"NETCDF4\")\n",
    "ds_out"
   ]
  }
 ],
 "metadata": {
  "kernelspec": {
   "display_name": "Python 3",
   "language": "python",
   "name": "python3"
  },
  "language_info": {
   "codemirror_mode": {
    "name": "ipython",
    "version": 3
   },
   "file_extension": ".py",
   "mimetype": "text/x-python",
   "name": "python",
   "nbconvert_exporter": "python",
   "pygments_lexer": "ipython3",
   "version": "3.7.3"
  }
 },
 "nbformat": 4,
 "nbformat_minor": 2
}
