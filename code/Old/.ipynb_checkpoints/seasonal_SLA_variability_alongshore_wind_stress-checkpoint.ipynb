{
 "cells": [
  {
   "cell_type": "code",
   "execution_count": 1,
   "metadata": {},
   "outputs": [
    {
     "name": "stdout",
     "output_type": "stream",
     "text": [
      "Default Libraries Loaded.\n"
     ]
    }
   ],
   "source": [
    "%run ../../global-tools/start.py\n",
    "\n",
    "# make sure the figures plot inline rather than at the end\n",
    "%matplotlib inline"
   ]
  },
  {
   "cell_type": "markdown",
   "metadata": {},
   "source": [
    "# Seasonal Ekman Pumping\n",
    "\n",
    "To isolate interior ekman pumping, this code follows https://agupubs.onlinelibrary.wiley.com/doi/epdf/10.1029/2011JC007531\n",
    "\n",
    "Need to still do alongshore wind stress at some point too...need local bathymetry for that...perhaps cartopy has it.\n",
    "\n",
    "https://earthweb.ess.washington.edu/roe/Web_page_514/ESS514/Notes_files/MarshallPlumb_GulfStream.pdf"
   ]
  },
  {
   "cell_type": "code",
   "execution_count": 69,
   "metadata": {},
   "outputs": [],
   "source": [
    "ds_wnd = xr.open_dataset('../data/NCEP_Wind/ncep_wind_processed.nc')\n",
    "\n",
    "# Subset ------------------------------------------------#\n",
    "# Create slice variables to subset domain before finding means\n",
    "lat_slice = slice(-20, 30) # bounds inclusive\n",
    "lon_slice = slice(35, 120) # bounds inclusive\n",
    "time_slice = slice('1994-01-01','2019-5-31')\n",
    "\n",
    "# Get data, selecting lat/lon slice\n",
    "u = ds_wnd['uwnd'].sel(lat=lat_slice,lon=lon_slice, time = time_slice)\n",
    "v = ds_wnd['vwnd'].sel(lat=lat_slice,lon=lon_slice, time = time_slice)\n",
    "lat = u.lat.values\n",
    "lon = u.lon.values"
   ]
  },
  {
   "cell_type": "code",
   "execution_count": 72,
   "metadata": {},
   "outputs": [],
   "source": [
    "# wind stress\n",
    "\n",
    "# air density\n",
    "p_air = 1.225 # kg/m^3\n",
    "p_sea = 1025 # kg/m^3\n",
    "\n",
    "xx,yy = np.meshgrid(ds_wnd.lon,ds_wnd.lat)\n",
    "\n",
    "n = len(ds_wnd.time)\n",
    "m = len(ds_wnd.lat)\n",
    "p = len(ds_wnd.lon)\n",
    "\n",
    "dx,dy = mpcalc.lat_lon_grid_deltas(xx,yy)"
   ]
  },
  {
   "cell_type": "code",
   "execution_count": 76,
   "metadata": {},
   "outputs": [
    {
     "data": {
      "text/plain": [
       "(array([[  0.   ,   1.875,   3.75 , ..., 354.375, 356.25 , 358.125],\n",
       "        [  0.   ,   1.875,   3.75 , ..., 354.375, 356.25 , 358.125],\n",
       "        [  0.   ,   1.875,   3.75 , ..., 354.375, 356.25 , 358.125],\n",
       "        ...,\n",
       "        [  0.   ,   1.875,   3.75 , ..., 354.375, 356.25 , 358.125],\n",
       "        [  0.   ,   1.875,   3.75 , ..., 354.375, 356.25 , 358.125],\n",
       "        [  0.   ,   1.875,   3.75 , ..., 354.375, 356.25 , 358.125]],\n",
       "       dtype=float32),\n",
       " array([[ 88.542 ,  88.542 ,  88.542 , ...,  88.542 ,  88.542 ,  88.542 ],\n",
       "        [ 86.6531,  86.6531,  86.6531, ...,  86.6531,  86.6531,  86.6531],\n",
       "        [ 84.7532,  84.7532,  84.7532, ...,  84.7532,  84.7532,  84.7532],\n",
       "        ...,\n",
       "        [-84.7532, -84.7532, -84.7532, ..., -84.7532, -84.7532, -84.7532],\n",
       "        [-86.6531, -86.6531, -86.6531, ..., -86.6531, -86.6531, -86.6531],\n",
       "        [-88.542 , -88.542 , -88.542 , ..., -88.542 , -88.542 , -88.542 ]],\n",
       "       dtype=float32))"
      ]
     },
     "execution_count": 76,
     "metadata": {},
     "output_type": "execute_result"
    }
   ],
   "source": [
    "xx,yy"
   ]
  },
  {
   "cell_type": "code",
   "execution_count": 73,
   "metadata": {},
   "outputs": [
    {
     "data": {
      "text/plain": [
       "array([[ 5304.62573482,  5304.62573482,  5304.62573482, ...,\n",
       "         5304.62573482,  5304.62573482,  5304.62573482],\n",
       "       [12171.38327401, 12171.38327401, 12171.38327401, ...,\n",
       "        12171.38327401, 12171.38327401, 12171.38327401],\n",
       "       [19064.78089716, 19064.78089716, 19064.78089716, ...,\n",
       "        19064.78089716, 19064.78089716, 19064.78089716],\n",
       "       ...,\n",
       "       [19064.78089716, 19064.78089716, 19064.78089716, ...,\n",
       "        19064.78089716, 19064.78089716, 19064.78089716],\n",
       "       [12171.38327401, 12171.38327401, 12171.38327401, ...,\n",
       "        12171.38327401, 12171.38327401, 12171.38327401],\n",
       "       [ 5304.62573482,  5304.62573482,  5304.62573482, ...,\n",
       "         5304.62573482,  5304.62573482,  5304.62573482]])"
      ]
     },
     "execution_count": 73,
     "metadata": {},
     "output_type": "execute_result"
    }
   ],
   "source": [
    "np.array(dx)"
   ]
  },
  {
   "cell_type": "code",
   "execution_count": 74,
   "metadata": {},
   "outputs": [
    {
     "data": {
      "text/plain": [
       "array([[-210036.08219261, -210036.08219261, -210036.08219261, ...,\n",
       "        -210036.08219261, -210036.08219261, -210036.08219261],\n",
       "       [-211259.40226645, -211259.40226645, -211259.40226645, ...,\n",
       "        -211259.40226645, -211259.40226645, -211259.40226645],\n",
       "       [-211536.81257446, -211536.81257446, -211536.81257446, ...,\n",
       "        -211536.81257446, -211536.81257446, -211536.81257446],\n",
       "       ...,\n",
       "       [-211536.81257446, -211536.81257446, -211536.81257446, ...,\n",
       "        -211536.81257446, -211536.81257446, -211536.81257446],\n",
       "       [-211259.40226645, -211259.40226645, -211259.40226645, ...,\n",
       "        -211259.40226645, -211259.40226645, -211259.40226645],\n",
       "       [-210036.08219261, -210036.08219261, -210036.08219261, ...,\n",
       "        -210036.08219261, -210036.08219261, -210036.08219261]])"
      ]
     },
     "execution_count": 74,
     "metadata": {},
     "output_type": "execute_result"
    }
   ],
   "source": [
    "np.array(dy)"
   ]
  },
  {
   "cell_type": "code",
   "execution_count": 90,
   "metadata": {},
   "outputs": [
    {
     "data": {
      "text/plain": [
       "<xarray.DataArray (dim_0: 94, dim_1: 192)>\n",
       "array([[-2.992144e-07, -2.031831e-07, -1.070430e-07, ..., -5.878587e-07,\n",
       "        -5.389992e-07, -3.715510e-07],\n",
       "       [-2.462297e-06, -2.272675e-06, -2.083016e-06, ..., -3.125783e-06,\n",
       "        -2.888989e-06, -2.675469e-06],\n",
       "       [-1.634513e-06, -1.327118e-06, -1.066974e-06, ..., -2.745786e-06,\n",
       "        -2.343798e-06, -1.965579e-06],\n",
       "       ...,\n",
       "       [-1.865213e-06, -1.652410e-06, -1.463287e-06, ..., -2.314205e-06,\n",
       "        -2.196093e-06, -2.030666e-06],\n",
       "       [ 2.670116e-06,  2.788632e-06,  2.883324e-06, ...,  2.456080e-06,\n",
       "         2.503803e-06,  2.575148e-06],\n",
       "       [ 6.661719e-06,  6.733541e-06,  6.734164e-06, ...,  6.304447e-06,\n",
       "         6.447063e-06,  6.566202e-06]])\n",
       "Dimensions without coordinates: dim_0, dim_1"
      ]
     },
     "execution_count": 90,
     "metadata": {},
     "output_type": "execute_result"
    }
   ],
   "source": [
    "tmpu = ds_wnd.uwnd[0,:,:]\n",
    "dtau_xdx, dtau_xdy = mpcalc.gradient(tmpu,deltas = (dy,dx))\n",
    "xr.DataArray(dtau_xdx)"
   ]
  },
  {
   "cell_type": "code",
   "execution_count": 95,
   "metadata": {},
   "outputs": [
    {
     "data": {
      "text/plain": [
       "<xarray.DataArray (dim_0: 94, dim_1: 192)>\n",
       "array([[-2.992144e-07, -2.031831e-07, -1.070430e-07, ..., -5.878587e-07,\n",
       "        -5.389992e-07, -3.715510e-07],\n",
       "       [-2.462297e-06, -2.272675e-06, -2.083016e-06, ..., -3.125783e-06,\n",
       "        -2.888989e-06, -2.675469e-06],\n",
       "       [-1.634513e-06, -1.327118e-06, -1.066974e-06, ..., -2.745786e-06,\n",
       "        -2.343798e-06, -1.965579e-06],\n",
       "       ...,\n",
       "       [-1.865213e-06, -1.652410e-06, -1.463287e-06, ..., -2.314205e-06,\n",
       "        -2.196093e-06, -2.030666e-06],\n",
       "       [ 2.670116e-06,  2.788632e-06,  2.883324e-06, ...,  2.456080e-06,\n",
       "         2.503803e-06,  2.575148e-06],\n",
       "       [ 6.661719e-06,  6.733541e-06,  6.734164e-06, ...,  6.304447e-06,\n",
       "         6.447063e-06,  6.566202e-06]])\n",
       "Dimensions without coordinates: dim_0, dim_1"
      ]
     },
     "execution_count": 95,
     "metadata": {},
     "output_type": "execute_result"
    }
   ],
   "source": [
    "dtau_xdx, dtau_xdy = mpcalc.gradient(tmpu,deltas = (dy,dx))\n",
    "xr.DataArray(dtau_xdx)"
   ]
  },
  {
   "cell_type": "code",
   "execution_count": 93,
   "metadata": {},
   "outputs": [
    {
     "data": {
      "text/plain": [
       "(94, 192)"
      ]
     },
     "execution_count": 93,
     "metadata": {},
     "output_type": "execute_result"
    }
   ],
   "source": [
    "tmpu.shape"
   ]
  },
  {
   "cell_type": "code",
   "execution_count": 83,
   "metadata": {},
   "outputs": [
    {
     "data": {
      "text/plain": [
       "<xarray.DataArray 'uwnd' (lat: 94, lon: 192)>\n",
       "array([[-1.680008, -1.710007, -1.729996, ..., -1.589996, -1.619995, -1.649994],\n",
       "       [-1.389999, -1.449997, -1.5     , ..., -1.199997, -1.259995, -1.330002],\n",
       "       [-0.639999, -0.75    , -0.850006, ..., -0.270004, -0.399994, -0.520004],\n",
       "       ...,\n",
       "       [ 0.190002,  0.360001,  0.529999, ..., -0.259995, -0.119995,  0.029999],\n",
       "       [ 0.050003,  0.190002,  0.330002, ..., -0.369995, -0.229996, -0.089996],\n",
       "       [-0.930008, -0.809998, -0.680008, ..., -1.290009, -1.169998, -1.050003]],\n",
       "      dtype=float32)\n",
       "Coordinates:\n",
       "  * lon      (lon) float32 0.0 1.875 3.75 5.625 ... 352.5 354.375 356.25 358.125\n",
       "  * lat      (lat) float32 88.542 86.6531 84.7532 ... -84.7532 -86.6531 -88.542\n",
       "    time     datetime64[ns] 1979-01-01"
      ]
     },
     "execution_count": 83,
     "metadata": {},
     "output_type": "execute_result"
    }
   ],
   "source": [
    "tmpu"
   ]
  },
  {
   "cell_type": "code",
   "execution_count": null,
   "metadata": {},
   "outputs": [],
   "source": [
    "C_d = np.full(size(tmplon),np.nan)\n",
    "\n",
    "# n = len(ds_wnd.time)\n",
    "# m = len(ds_wnd.lat)\n",
    "# p = len(ds_wnd.lon)\n",
    "\n",
    "# with tqdm(total=n * m * p) as pbar:\n",
    "#     for tt,ii,jj in itertools.product(np.arange(n),np.arange(m),np.arange(p)):\n",
    "for tt in tqdm(range(len(ds_wnd.time))):\n",
    "    tmpu = ds_wnd.uwnd[tt,:,:]\n",
    "    tmpv = ds_wnd.vwnd[tt,:,:]\n",
    "\n",
    "    # define wind speed\n",
    "    W = np.sqrt(tmpu.^2 + tmpv.^2)\n",
    "\n",
    "    # define drag coeficient matrix \n",
    "    C_d[W < 11] = 0.0012\n",
    "    C_d[W >= 11] = 0.00049 + U*0.000065\n",
    "\n",
    "    # calculate wind stress\n",
    "    tau_x = p_air * C_D * W * tmpu\n",
    "    tau_y = p_air * C_D * W * tmpv\n",
    "\n",
    "    # find wind stress gradients\n",
    "    dtau_x_dx, dtau_x_dy = np.gradient(tau_x, dx,dy)\n",
    "    dtau_y_dx, dtau_y_dy = np.gradient(tau_y, dx,dy)\n",
    "\n",
    "    # find wind stress curl\n",
    "    curl_tau = dtau_y_dx - dtau_x_dy\n",
    "\n",
    "    f = mpcalc.coriolis_parameter(tmplat)\n",
    "\n",
    "    curl_tau = \n",
    "\n",
    "    W_Ek = curl_tau./(p_sea * f)\n",
    "\n",
    "        \n",
    "#         pbar.update(1)"
   ]
  },
  {
   "cell_type": "code",
   "execution_count": null,
   "metadata": {},
   "outputs": [],
   "source": [
    "def latlon_to_xyz(lat,lon):\n",
    "    \"\"\"Convert angluar to cartesian coordiantes\n",
    "\n",
    "    latitude is the 90deg - zenith angle in range [-90;90]\n",
    "    lonitude is the azimuthal angle in range [-180;180] \n",
    "    \"\"\"\n",
    "    r = 6371 # https://en.wikipedia.org/wiki/Earth_radius\n",
    "    theta = math.pi/2 - math.radians(lat) \n",
    "    phi = math.radians(lon)\n",
    "    x = r * math.sin(theta) * math.cos(phi) # bronstein (3.381a)\n",
    "    y = r * math.sin(theta) * math.sin(phi)\n",
    "    z = r * math.cos(theta)\n",
    "    return [x,y,z]"
   ]
  }
 ],
 "metadata": {
  "kernelspec": {
   "display_name": "Python 3",
   "language": "python",
   "name": "python3"
  },
  "language_info": {
   "codemirror_mode": {
    "name": "ipython",
    "version": 3
   },
   "file_extension": ".py",
   "mimetype": "text/x-python",
   "name": "python",
   "nbconvert_exporter": "python",
   "pygments_lexer": "ipython3",
   "version": "3.7.3"
  }
 },
 "nbformat": 4,
 "nbformat_minor": 2
}
