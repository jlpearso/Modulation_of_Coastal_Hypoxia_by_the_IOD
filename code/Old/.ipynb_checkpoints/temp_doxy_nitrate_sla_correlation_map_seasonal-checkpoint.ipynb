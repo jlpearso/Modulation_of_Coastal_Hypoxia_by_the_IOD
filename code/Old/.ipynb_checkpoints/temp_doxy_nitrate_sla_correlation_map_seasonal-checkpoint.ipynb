{
 "cells": [
  {
   "cell_type": "markdown",
   "metadata": {},
   "source": [
    "# Setup "
   ]
  },
  {
   "cell_type": "code",
   "execution_count": 1,
   "metadata": {},
   "outputs": [
    {
     "name": "stdout",
     "output_type": "stream",
     "text": [
      "Default libraries loaded.\n"
     ]
    }
   ],
   "source": [
    "# import your standard packages\n",
    "%run ../../global_tools/start.py\n",
    "\n",
    "# import your local functions\n",
    "# from local_functions import *\n",
    "import local_functions as lf\n",
    "\n",
    "# make sure the figures plot inline rather than at the end\n",
    "%matplotlib inline\n"
   ]
  },
  {
   "cell_type": "markdown",
   "metadata": {},
   "source": [
    "# Paths and Parameters"
   ]
  },
  {
   "cell_type": "code",
   "execution_count": 2,
   "metadata": {},
   "outputs": [],
   "source": []
  },
  {
   "cell_type": "markdown",
   "metadata": {},
   "source": [
    "# Read Data"
   ]
  },
  {
   "cell_type": "code",
   "execution_count": 3,
   "metadata": {},
   "outputs": [],
   "source": [
    "# SLA\n",
    "ds_SLA = xr.open_dataset('../data/sla_to_woa.nc')\n",
    "\n",
    "# WOA\n",
    "ds_WOA = xr.open_dataset('../data/woa_processed.nc')"
   ]
  },
  {
   "cell_type": "markdown",
   "metadata": {},
   "source": [
    "# Correlation Maps"
   ]
  },
  {
   "cell_type": "code",
   "execution_count": 4,
   "metadata": {},
   "outputs": [
    {
     "name": "stderr",
     "output_type": "stream",
     "text": [
      "100%|██████████| 1925/1925 [00:08<00:00, 236.68it/s]\n",
      "100%|██████████| 1925/1925 [00:08<00:00, 240.09it/s]\n",
      "100%|██████████| 1925/1925 [00:08<00:00, 239.59it/s]\n",
      " 79%|███████▉  | 1529/1925 [00:06<00:01, 280.11it/s]/home/jennap/anaconda3/lib/python3.7/site-packages/scipy/stats/_stats_mstats_common.py:130: RuntimeWarning: invalid value encountered in double_scalars\n",
      "  slope = r_num / ssxm\n",
      "/home/jennap/anaconda3/lib/python3.7/site-packages/scipy/stats/_stats_mstats_common.py:142: RuntimeWarning: divide by zero encountered in double_scalars\n",
      "  sterrest = np.sqrt((1 - r**2) * ssym / ssxm / df)\n",
      "/home/jennap/anaconda3/lib/python3.7/site-packages/scipy/stats/_stats_mstats_common.py:130: RuntimeWarning: invalid value encountered in double_scalars\n",
      "  slope = r_num / ssxm\n",
      "/home/jennap/anaconda3/lib/python3.7/site-packages/scipy/stats/_stats_mstats_common.py:142: RuntimeWarning: divide by zero encountered in double_scalars\n",
      "  sterrest = np.sqrt((1 - r**2) * ssym / ssxm / df)\n",
      " 82%|████████▏ | 1588/1925 [00:06<00:01, 284.53it/s]/home/jennap/anaconda3/lib/python3.7/site-packages/scipy/stats/_stats_mstats_common.py:130: RuntimeWarning: invalid value encountered in double_scalars\n",
      "  slope = r_num / ssxm\n",
      "/home/jennap/anaconda3/lib/python3.7/site-packages/scipy/stats/_stats_mstats_common.py:142: RuntimeWarning: divide by zero encountered in double_scalars\n",
      "  sterrest = np.sqrt((1 - r**2) * ssym / ssxm / df)\n",
      " 86%|████████▌ | 1648/1925 [00:07<00:00, 288.84it/s]/home/jennap/anaconda3/lib/python3.7/site-packages/scipy/stats/_stats_mstats_common.py:130: RuntimeWarning: invalid value encountered in double_scalars\n",
      "  slope = r_num / ssxm\n",
      "/home/jennap/anaconda3/lib/python3.7/site-packages/scipy/stats/_stats_mstats_common.py:142: RuntimeWarning: divide by zero encountered in double_scalars\n",
      "  sterrest = np.sqrt((1 - r**2) * ssym / ssxm / df)\n",
      "100%|██████████| 1925/1925 [00:08<00:00, 240.24it/s]\n"
     ]
    }
   ],
   "source": [
    "slope_temp_doxy, intercept_temp_doxy, r_value_temp_doxy, p_value_temp_doxy, std_err_temp_doxy = lf.seasonal_space_correlate(ds_WOA.temp_50_200,\n",
    "                                                                                                     ds_WOA.doxy_50_200)\n",
    "            \n",
    "slope_temp_sla, intercept_temp_sla, r_value_temp_sla, p_value_temp_sla, std_err_temp_sla= lf.seasonal_space_correlate(ds_WOA.temp_50_200,\n",
    "                                                                                                     ds_SLA.mon_sla_mon_clim )\n",
    "\n",
    "slope_doxy_sla, intercept_doxy_sla, r_value_doxy_sla, p_value_doxy_sla, std_err_doxy_sla = lf.seasonal_space_correlate(ds_WOA.doxy_50_200,\n",
    "                                                                                                     ds_SLA.mon_sla_mon_clim )\n",
    "\n",
    "slope_nitrate_sla, intercept_nitrate_sla, r_value_nitrate_sla, p_value_nitrate_sla, std_err_nitrate_sla = lf.seasonal_space_correlate(ds_WOA.nitrate_50_200,\n",
    "                                                                                                     ds_SLA.mon_sla_mon_clim )\n",
    "  "
   ]
  },
  {
   "cell_type": "code",
   "execution_count": 9,
   "metadata": {},
   "outputs": [
    {
     "data": {
      "text/plain": [
       "<xarray.Dataset>\n",
       "Dimensions:                      (coastal_loc: 1925, depth: 57, lat: 35, lon: 55, lonmin,lonmax,latmin,latmax: 4, month: 12)\n",
       "Coordinates:\n",
       "  * month                        (month) int64 1 2 3 4 5 6 7 8 9 10 11 12\n",
       "  * depth                        (depth) float32 0.0 5.0 10.0 ... 1450.0 1500.0\n",
       "  * lon                          (lon) float32 48.5 49.5 50.5 ... 101.5 102.5\n",
       "  * lat                          (lat) float32 -1.5 -0.5 0.5 ... 30.5 31.5 32.5\n",
       "  * coastal_loc                  (coastal_loc) int64 0 1 2 3 ... 1922 1923 1924\n",
       "  * lonmin,lonmax,latmin,latmax  (lonmin,lonmax,latmin,latmax) int64 0 1 2 3\n",
       "Data variables:\n",
       "    temp                         (month, depth, lat, lon) float64 ...\n",
       "    psal                         (month, depth, lat, lon) float64 ...\n",
       "    doxy                         (month, depth, lat, lon) float64 ...\n",
       "    nitrate                      (month, depth, lat, lon) float64 ...\n",
       "    phosphate                    (month, depth, lat, lon) float64 ...\n",
       "    pres                         (depth, lat, lon) float64 ...\n",
       "    temp_40_200                  (month, lat, lon) float64 ...\n",
       "    doxy_40_200                  (month, lat, lon) float64 ...\n",
       "    psal_40_200                  (month, lat, lon) float64 ...\n",
       "    nitrate_40_200               (month, lat, lon) float64 ...\n",
       "    phosphate_40_200             (month, lat, lon) float64 ...\n",
       "    temp_50_200                  (month, lat, lon) float64 ...\n",
       "    doxy_50_200                  (month, lat, lon) float64 ...\n",
       "    psal_50_200                  (month, lat, lon) float64 ...\n",
       "    nitrate_50_200               (month, lat, lon) float64 ...\n",
       "    phosphate_50_200             (month, lat, lon) float64 ...\n",
       "    temp_60_200                  (month, lat, lon) float64 ...\n",
       "    doxy_60_200                  (month, lat, lon) float64 ...\n",
       "    psal_60_200                  (month, lat, lon) float64 ...\n",
       "    nitrate_60_200               (month, lat, lon) float64 ...\n",
       "    phosphate_60_200             (month, lat, lon) float64 ...\n",
       "    temp_40_200_ann_mean         (lat, lon) float64 ...\n",
       "    doxy_40_200_ann_mean         (lat, lon) float64 ...\n",
       "    psal_40_200_ann_mean         (lat, lon) float64 ...\n",
       "    nitrate_40_200_ann_mean      (lat, lon) float64 ...\n",
       "    phosphate_40_200_ann_mean    (lat, lon) float64 ...\n",
       "    temp_50_200_ann_mean         (lat, lon) float64 ...\n",
       "    doxy_50_200_ann_mean         (lat, lon) float64 ...\n",
       "    psal_50_200_ann_mean         (lat, lon) float64 ...\n",
       "    nitrate_50_200_ann_mean      (lat, lon) float64 ...\n",
       "    phosphate_50_200_ann_mean    (lat, lon) float64 ...\n",
       "    temp_60_200_ann_mean         (lat, lon) float64 ...\n",
       "    doxy_60_200_ann_mean         (lat, lon) float64 ...\n",
       "    psal_60_200_ann_mean         (lat, lon) float64 ...\n",
       "    nitrat_60_200_ann_mean       (lat, lon) float64 ...\n",
       "    phosphate_60_200_ann_mean    (lat, lon) float64 ...\n",
       "    temp_40_200_anom             (month, lat, lon) float64 ...\n",
       "    doxy_40_200_anom             (month, lat, lon) float64 ...\n",
       "    psal_40_200_anom             (month, lat, lon) float64 ...\n",
       "    nitrate_40_200_anom          (month, lat, lon) float64 ...\n",
       "    phosphate_40_200_anom        (month, lat, lon) float64 ...\n",
       "    temp_50_200_anom             (month, lat, lon) float64 ...\n",
       "    doxy_50_200_anom             (month, lat, lon) float64 ...\n",
       "    psal_50_200_anom             (month, lat, lon) float64 ...\n",
       "    nitrate_50_200_anom          (month, lat, lon) float64 ...\n",
       "    phosphate_50_200_anom        (month, lat, lon) float64 ...\n",
       "    temp_60_200_anom             (month, lat, lon) float64 ...\n",
       "    doxy_60_200_anom             (month, lat, lon) float64 ...\n",
       "    psal_60_200_anom             (month, lat, lon) float64 ...\n",
       "    nitrate_60_200_anom          (month, lat, lon) float64 ...\n",
       "    phosphate_60_200_anom        (month, lat, lon) float64 ...\n",
       "    coastal_mask                 (coastal_loc) bool ...\n",
       "    coastal_mask_xx              (coastal_loc) float32 ...\n",
       "    coastal_mask_yy              (coastal_loc) float32 ...\n",
       "    coastal_mask_bounds          (lonmin,lonmax,latmin,latmax) float64 ..."
      ]
     },
     "execution_count": 9,
     "metadata": {},
     "output_type": "execute_result"
    }
   ],
   "source": [
    "ds_WOA"
   ]
  },
  {
   "cell_type": "code",
   "execution_count": 14,
   "metadata": {},
   "outputs": [
    {
     "ename": "ValueError",
     "evalue": "'c' argument has 439 elements, which is not acceptable for use with 'x' with size 1925, 'y' with size 1925.",
     "output_type": "error",
     "traceback": [
      "\u001b[0;31m---------------------------------------------------------------------------\u001b[0m",
      "\u001b[0;31mValueError\u001b[0m                                Traceback (most recent call last)",
      "\u001b[0;32m~/anaconda3/lib/python3.7/site-packages/matplotlib/axes/_axes.py\u001b[0m in \u001b[0;36m_parse_scatter_color_args\u001b[0;34m(c, edgecolors, kwargs, xshape, yshape, get_next_color_func)\u001b[0m\n\u001b[1;32m   4283\u001b[0m             \u001b[0;32mtry\u001b[0m\u001b[0;34m:\u001b[0m  \u001b[0;31m# Then is 'c' acceptable as PathCollection facecolors?\u001b[0m\u001b[0;34m\u001b[0m\u001b[0;34m\u001b[0m\u001b[0m\n\u001b[0;32m-> 4284\u001b[0;31m                 \u001b[0mcolors\u001b[0m \u001b[0;34m=\u001b[0m \u001b[0mmcolors\u001b[0m\u001b[0;34m.\u001b[0m\u001b[0mto_rgba_array\u001b[0m\u001b[0;34m(\u001b[0m\u001b[0mc\u001b[0m\u001b[0;34m)\u001b[0m\u001b[0;34m\u001b[0m\u001b[0;34m\u001b[0m\u001b[0m\n\u001b[0m\u001b[1;32m   4285\u001b[0m                 \u001b[0mn_elem\u001b[0m \u001b[0;34m=\u001b[0m \u001b[0mcolors\u001b[0m\u001b[0;34m.\u001b[0m\u001b[0mshape\u001b[0m\u001b[0;34m[\u001b[0m\u001b[0;36m0\u001b[0m\u001b[0;34m]\u001b[0m\u001b[0;34m\u001b[0m\u001b[0;34m\u001b[0m\u001b[0m\n",
      "\u001b[0;32m~/anaconda3/lib/python3.7/site-packages/matplotlib/colors.py\u001b[0m in \u001b[0;36mto_rgba_array\u001b[0;34m(c, alpha)\u001b[0m\n\u001b[1;32m    293\u001b[0m     \u001b[0;32mfor\u001b[0m \u001b[0mi\u001b[0m\u001b[0;34m,\u001b[0m \u001b[0mcc\u001b[0m \u001b[0;32min\u001b[0m \u001b[0menumerate\u001b[0m\u001b[0;34m(\u001b[0m\u001b[0mc\u001b[0m\u001b[0;34m)\u001b[0m\u001b[0;34m:\u001b[0m\u001b[0;34m\u001b[0m\u001b[0;34m\u001b[0m\u001b[0m\n\u001b[0;32m--> 294\u001b[0;31m         \u001b[0mresult\u001b[0m\u001b[0;34m[\u001b[0m\u001b[0mi\u001b[0m\u001b[0;34m]\u001b[0m \u001b[0;34m=\u001b[0m \u001b[0mto_rgba\u001b[0m\u001b[0;34m(\u001b[0m\u001b[0mcc\u001b[0m\u001b[0;34m,\u001b[0m \u001b[0malpha\u001b[0m\u001b[0;34m)\u001b[0m\u001b[0;34m\u001b[0m\u001b[0;34m\u001b[0m\u001b[0m\n\u001b[0m\u001b[1;32m    295\u001b[0m     \u001b[0;32mreturn\u001b[0m \u001b[0mresult\u001b[0m\u001b[0;34m\u001b[0m\u001b[0;34m\u001b[0m\u001b[0m\n",
      "\u001b[0;32m~/anaconda3/lib/python3.7/site-packages/matplotlib/colors.py\u001b[0m in \u001b[0;36mto_rgba\u001b[0;34m(c, alpha)\u001b[0m\n\u001b[1;32m    176\u001b[0m     \u001b[0;32mif\u001b[0m \u001b[0mrgba\u001b[0m \u001b[0;32mis\u001b[0m \u001b[0;32mNone\u001b[0m\u001b[0;34m:\u001b[0m  \u001b[0;31m# Suppress exception chaining of cache lookup failure.\u001b[0m\u001b[0;34m\u001b[0m\u001b[0;34m\u001b[0m\u001b[0m\n\u001b[0;32m--> 177\u001b[0;31m         \u001b[0mrgba\u001b[0m \u001b[0;34m=\u001b[0m \u001b[0m_to_rgba_no_colorcycle\u001b[0m\u001b[0;34m(\u001b[0m\u001b[0mc\u001b[0m\u001b[0;34m,\u001b[0m \u001b[0malpha\u001b[0m\u001b[0;34m)\u001b[0m\u001b[0;34m\u001b[0m\u001b[0;34m\u001b[0m\u001b[0m\n\u001b[0m\u001b[1;32m    178\u001b[0m         \u001b[0;32mtry\u001b[0m\u001b[0;34m:\u001b[0m\u001b[0;34m\u001b[0m\u001b[0;34m\u001b[0m\u001b[0m\n",
      "\u001b[0;32m~/anaconda3/lib/python3.7/site-packages/matplotlib/colors.py\u001b[0m in \u001b[0;36m_to_rgba_no_colorcycle\u001b[0;34m(c, alpha)\u001b[0m\n\u001b[1;32m    239\u001b[0m         \u001b[0;31m# Test dimensionality to reject single floats.\u001b[0m\u001b[0;34m\u001b[0m\u001b[0;34m\u001b[0m\u001b[0;34m\u001b[0m\u001b[0m\n\u001b[0;32m--> 240\u001b[0;31m         \u001b[0;32mraise\u001b[0m \u001b[0mValueError\u001b[0m\u001b[0;34m(\u001b[0m\u001b[0;34m\"Invalid RGBA argument: {!r}\"\u001b[0m\u001b[0;34m.\u001b[0m\u001b[0mformat\u001b[0m\u001b[0;34m(\u001b[0m\u001b[0morig_c\u001b[0m\u001b[0;34m)\u001b[0m\u001b[0;34m)\u001b[0m\u001b[0;34m\u001b[0m\u001b[0;34m\u001b[0m\u001b[0m\n\u001b[0m\u001b[1;32m    241\u001b[0m     \u001b[0;31m# Return a tuple to prevent the cached value from being modified.\u001b[0m\u001b[0;34m\u001b[0m\u001b[0;34m\u001b[0m\u001b[0;34m\u001b[0m\u001b[0m\n",
      "\u001b[0;31mValueError\u001b[0m: Invalid RGBA argument: 0.5523008040350537",
      "\nDuring handling of the above exception, another exception occurred:\n",
      "\u001b[0;31mValueError\u001b[0m                                Traceback (most recent call last)",
      "\u001b[0;32m<ipython-input-14-5ca473104424>\u001b[0m in \u001b[0;36m<module>\u001b[0;34m\u001b[0m\n\u001b[1;32m     11\u001b[0m p = ax.scatter(ds_WOA.coastal_mask_xx,ds_WOA.coastal_mask_yy,c = var[ds_WOA.coastal_mask],\n\u001b[1;32m     12\u001b[0m                \u001b[0mcmap\u001b[0m \u001b[0;34m=\u001b[0m \u001b[0mplt\u001b[0m\u001b[0;34m.\u001b[0m\u001b[0mcm\u001b[0m\u001b[0;34m.\u001b[0m\u001b[0mcoolwarm\u001b[0m\u001b[0;34m,\u001b[0m\u001b[0ms\u001b[0m \u001b[0;34m=\u001b[0m \u001b[0msz\u001b[0m\u001b[0;34m,\u001b[0m\u001b[0mmarker\u001b[0m \u001b[0;34m=\u001b[0m \u001b[0;34m's'\u001b[0m\u001b[0;34m,\u001b[0m\u001b[0mvmin\u001b[0m \u001b[0;34m=\u001b[0m \u001b[0;34m-\u001b[0m\u001b[0;36m1\u001b[0m\u001b[0;34m,\u001b[0m \u001b[0mvmax\u001b[0m \u001b[0;34m=\u001b[0m \u001b[0;36m1\u001b[0m\u001b[0;34m,\u001b[0m\u001b[0;34m\u001b[0m\u001b[0;34m\u001b[0m\u001b[0m\n\u001b[0;32m---> 13\u001b[0;31m                transform=ccrs.PlateCarree())\n\u001b[0m\u001b[1;32m     14\u001b[0m \u001b[0mlf\u001b[0m\u001b[0;34m.\u001b[0m\u001b[0madd_land\u001b[0m\u001b[0;34m(\u001b[0m\u001b[0max\u001b[0m\u001b[0;34m)\u001b[0m\u001b[0;34m\u001b[0m\u001b[0;34m\u001b[0m\u001b[0m\n\u001b[1;32m     15\u001b[0m \u001b[0mlf\u001b[0m\u001b[0;34m.\u001b[0m\u001b[0madd_letter\u001b[0m\u001b[0;34m(\u001b[0m\u001b[0max\u001b[0m\u001b[0;34m,\u001b[0m \u001b[0;34m'a'\u001b[0m\u001b[0;34m)\u001b[0m\u001b[0;34m\u001b[0m\u001b[0;34m\u001b[0m\u001b[0m\n",
      "\u001b[0;32m~/anaconda3/lib/python3.7/site-packages/cartopy/mpl/geoaxes.py\u001b[0m in \u001b[0;36mscatter\u001b[0;34m(self, *args, **kwargs)\u001b[0m\n\u001b[1;32m   1435\u001b[0m                              '(PlateCarree or RotatedPole).')\n\u001b[1;32m   1436\u001b[0m \u001b[0;34m\u001b[0m\u001b[0m\n\u001b[0;32m-> 1437\u001b[0;31m         \u001b[0mresult\u001b[0m \u001b[0;34m=\u001b[0m \u001b[0mmatplotlib\u001b[0m\u001b[0;34m.\u001b[0m\u001b[0maxes\u001b[0m\u001b[0;34m.\u001b[0m\u001b[0mAxes\u001b[0m\u001b[0;34m.\u001b[0m\u001b[0mscatter\u001b[0m\u001b[0;34m(\u001b[0m\u001b[0mself\u001b[0m\u001b[0;34m,\u001b[0m \u001b[0;34m*\u001b[0m\u001b[0margs\u001b[0m\u001b[0;34m,\u001b[0m \u001b[0;34m**\u001b[0m\u001b[0mkwargs\u001b[0m\u001b[0;34m)\u001b[0m\u001b[0;34m\u001b[0m\u001b[0;34m\u001b[0m\u001b[0m\n\u001b[0m\u001b[1;32m   1438\u001b[0m         \u001b[0mself\u001b[0m\u001b[0;34m.\u001b[0m\u001b[0mautoscale_view\u001b[0m\u001b[0;34m(\u001b[0m\u001b[0;34m)\u001b[0m\u001b[0;34m\u001b[0m\u001b[0;34m\u001b[0m\u001b[0m\n\u001b[1;32m   1439\u001b[0m         \u001b[0;32mreturn\u001b[0m \u001b[0mresult\u001b[0m\u001b[0;34m\u001b[0m\u001b[0;34m\u001b[0m\u001b[0m\n",
      "\u001b[0;32m~/anaconda3/lib/python3.7/site-packages/matplotlib/__init__.py\u001b[0m in \u001b[0;36minner\u001b[0;34m(ax, data, *args, **kwargs)\u001b[0m\n\u001b[1;32m   1597\u001b[0m     \u001b[0;32mdef\u001b[0m \u001b[0minner\u001b[0m\u001b[0;34m(\u001b[0m\u001b[0max\u001b[0m\u001b[0;34m,\u001b[0m \u001b[0;34m*\u001b[0m\u001b[0margs\u001b[0m\u001b[0;34m,\u001b[0m \u001b[0mdata\u001b[0m\u001b[0;34m=\u001b[0m\u001b[0;32mNone\u001b[0m\u001b[0;34m,\u001b[0m \u001b[0;34m**\u001b[0m\u001b[0mkwargs\u001b[0m\u001b[0;34m)\u001b[0m\u001b[0;34m:\u001b[0m\u001b[0;34m\u001b[0m\u001b[0;34m\u001b[0m\u001b[0m\n\u001b[1;32m   1598\u001b[0m         \u001b[0;32mif\u001b[0m \u001b[0mdata\u001b[0m \u001b[0;32mis\u001b[0m \u001b[0;32mNone\u001b[0m\u001b[0;34m:\u001b[0m\u001b[0;34m\u001b[0m\u001b[0;34m\u001b[0m\u001b[0m\n\u001b[0;32m-> 1599\u001b[0;31m             \u001b[0;32mreturn\u001b[0m \u001b[0mfunc\u001b[0m\u001b[0;34m(\u001b[0m\u001b[0max\u001b[0m\u001b[0;34m,\u001b[0m \u001b[0;34m*\u001b[0m\u001b[0mmap\u001b[0m\u001b[0;34m(\u001b[0m\u001b[0msanitize_sequence\u001b[0m\u001b[0;34m,\u001b[0m \u001b[0margs\u001b[0m\u001b[0;34m)\u001b[0m\u001b[0;34m,\u001b[0m \u001b[0;34m**\u001b[0m\u001b[0mkwargs\u001b[0m\u001b[0;34m)\u001b[0m\u001b[0;34m\u001b[0m\u001b[0;34m\u001b[0m\u001b[0m\n\u001b[0m\u001b[1;32m   1600\u001b[0m \u001b[0;34m\u001b[0m\u001b[0m\n\u001b[1;32m   1601\u001b[0m         \u001b[0mbound\u001b[0m \u001b[0;34m=\u001b[0m \u001b[0mnew_sig\u001b[0m\u001b[0;34m.\u001b[0m\u001b[0mbind\u001b[0m\u001b[0;34m(\u001b[0m\u001b[0max\u001b[0m\u001b[0;34m,\u001b[0m \u001b[0;34m*\u001b[0m\u001b[0margs\u001b[0m\u001b[0;34m,\u001b[0m \u001b[0;34m**\u001b[0m\u001b[0mkwargs\u001b[0m\u001b[0;34m)\u001b[0m\u001b[0;34m\u001b[0m\u001b[0;34m\u001b[0m\u001b[0m\n",
      "\u001b[0;32m~/anaconda3/lib/python3.7/site-packages/matplotlib/axes/_axes.py\u001b[0m in \u001b[0;36mscatter\u001b[0;34m(self, x, y, s, c, marker, cmap, norm, vmin, vmax, alpha, linewidths, verts, edgecolors, plotnonfinite, **kwargs)\u001b[0m\n\u001b[1;32m   4451\u001b[0m             self._parse_scatter_color_args(\n\u001b[1;32m   4452\u001b[0m                 \u001b[0mc\u001b[0m\u001b[0;34m,\u001b[0m \u001b[0medgecolors\u001b[0m\u001b[0;34m,\u001b[0m \u001b[0mkwargs\u001b[0m\u001b[0;34m,\u001b[0m \u001b[0mxshape\u001b[0m\u001b[0;34m,\u001b[0m \u001b[0myshape\u001b[0m\u001b[0;34m,\u001b[0m\u001b[0;34m\u001b[0m\u001b[0;34m\u001b[0m\u001b[0m\n\u001b[0;32m-> 4453\u001b[0;31m                 get_next_color_func=self._get_patches_for_fill.get_next_color)\n\u001b[0m\u001b[1;32m   4454\u001b[0m \u001b[0;34m\u001b[0m\u001b[0m\n\u001b[1;32m   4455\u001b[0m         \u001b[0;32mif\u001b[0m \u001b[0mplotnonfinite\u001b[0m \u001b[0;32mand\u001b[0m \u001b[0mcolors\u001b[0m \u001b[0;32mis\u001b[0m \u001b[0;32mNone\u001b[0m\u001b[0;34m:\u001b[0m\u001b[0;34m\u001b[0m\u001b[0;34m\u001b[0m\u001b[0m\n",
      "\u001b[0;32m~/anaconda3/lib/python3.7/site-packages/matplotlib/axes/_axes.py\u001b[0m in \u001b[0;36m_parse_scatter_color_args\u001b[0;34m(c, edgecolors, kwargs, xshape, yshape, get_next_color_func)\u001b[0m\n\u001b[1;32m   4295\u001b[0m                         \u001b[0;34m\"acceptable for use with 'x' with size {xs}, \"\u001b[0m\u001b[0;34m\u001b[0m\u001b[0;34m\u001b[0m\u001b[0m\n\u001b[1;32m   4296\u001b[0m                         \u001b[0;34m\"'y' with size {ys}.\"\u001b[0m\u001b[0;34m\u001b[0m\u001b[0;34m\u001b[0m\u001b[0m\n\u001b[0;32m-> 4297\u001b[0;31m                             \u001b[0;34m.\u001b[0m\u001b[0mformat\u001b[0m\u001b[0;34m(\u001b[0m\u001b[0mnc\u001b[0m\u001b[0;34m=\u001b[0m\u001b[0mn_elem\u001b[0m\u001b[0;34m,\u001b[0m \u001b[0mxs\u001b[0m\u001b[0;34m=\u001b[0m\u001b[0mxsize\u001b[0m\u001b[0;34m,\u001b[0m \u001b[0mys\u001b[0m\u001b[0;34m=\u001b[0m\u001b[0mysize\u001b[0m\u001b[0;34m)\u001b[0m\u001b[0;34m\u001b[0m\u001b[0;34m\u001b[0m\u001b[0m\n\u001b[0m\u001b[1;32m   4298\u001b[0m                     )\n\u001b[1;32m   4299\u001b[0m                 \u001b[0;32melse\u001b[0m\u001b[0;34m:\u001b[0m\u001b[0;34m\u001b[0m\u001b[0;34m\u001b[0m\u001b[0m\n",
      "\u001b[0;31mValueError\u001b[0m: 'c' argument has 439 elements, which is not acceptable for use with 'x' with size 1925, 'y' with size 1925."
     ]
    },
    {
     "data": {
      "image/png": "[encoded data removed]",
      "text/plain": [
       "<Figure size 3200x2000 with 1 Axes>"
      ]
     },
     "metadata": {
      "needs_background": "light"
     },
     "output_type": "display_data"
    }
   ],
   "source": [
    "fig = plt.figure(figsize=(16,10),dpi=200)\n",
    "\n",
    "xx,yy = np.meshgrid(ds_WOA.lon,ds_WOA.lat)\n",
    "\n",
    "sz = 40\n",
    "\n",
    "##############################################################\n",
    "\n",
    "ax = fig.add_subplot(221,projection= ccrs.PlateCarree())\n",
    "var = r_value_temp_doxy.flatten()\n",
    "ax.scatter(ds_WOA.coastal_mask_xx,ds_WOA.coastal_mask_yy,c = var[ds_WOA.coastal_mask],\n",
    "               cmap = plt.cm.coolwarm,s = sz,marker = 's',vmin = -1, vmax = 1,\n",
    "               transform=ccrs.PlateCarree())\n",
    "lf.add_land(ax)\n",
    "lf.add_letter(ax, 'a')\n",
    "ax.set_title('temp vs doxy')\n",
    "\n",
    "ax = fig.add_subplot(222,projection= ccrs.PlateCarree())\n",
    "var = r_value_temp_sla.flatten()\n",
    "ax.scatter(ds_WOA.coastal_mask_xx,ds_WOA.coastal_mask_yy,c = var[ds_WOA.coastal_mask],\n",
    "               cmap = plt.cm.coolwarm,s = sz,marker = 's',vmin = -1, vmax = 1,\n",
    "               transform=ccrs.PlateCarree())\n",
    "lf.add_land(ax)\n",
    "lf.add_letter(ax, 'b')\n",
    "ax.set_title('temp vs sla')\n",
    "\n",
    "ax = fig.add_subplot(223,projection= ccrs.PlateCarree())\n",
    "var = r_value_doxy_sla.flatten()\n",
    "ax.scatter(ds_WOA.coastal_mask_xx,ds_WOA.coastal_mask_yy,c = var[ds_WOA.coastal_mask],\n",
    "               cmap = plt.cm.coolwarm,s = sz,marker = 's',vmin = -1, vmax = 1,\n",
    "               transform=ccrs.PlateCarree())\n",
    "lf.add_land(ax)\n",
    "lf.add_letter(ax, 'c')\n",
    "ax.set_title('doxy vs sla')\n",
    "\n",
    "ax = fig.add_subplot(224,projection= ccrs.PlateCarree())\n",
    "var = r_value_nitrate_sla.flatten()\n",
    "p = ax.scatter(ds_WOA.coastal_mask_xx,ds_WOA.coastal_mask_yy,c = var[ds_WOA.coastal_mask],\n",
    "               cmap = plt.cm.coolwarm,s = sz,marker = 's',vmin = -1, vmax = 1,\n",
    "               transform=ccrs.PlateCarree())\n",
    "lf.add_land(ax)\n",
    "lf.add_letter(ax, 'c')\n",
    "ax.set_title('nitrate vs sla')\n",
    "\n",
    "lf.add_single_vert_cbar(fig,p,'Correlation Coefficient')"
   ]
  },
  {
   "cell_type": "markdown",
   "metadata": {},
   "source": [
    "# <font color='darkblue'>Save</font> "
   ]
  },
  {
   "cell_type": "code",
   "execution_count": 6,
   "metadata": {},
   "outputs": [],
   "source": [
    "#redo the tcd/ocd for the woa data as is\n",
    "# make cod to bin the sla and woa into 1 degree bins and save so you can use that since the sla looked really good for the \n",
    "# kelvin waves still"
   ]
  }
 ],
 "metadata": {
  "kernelspec": {
   "display_name": "Python 3",
   "language": "python",
   "name": "python3"
  },
  "language_info": {
   "codemirror_mode": {
    "name": "ipython",
    "version": 3
   },
   "file_extension": ".py",
   "mimetype": "text/x-python",
   "name": "python",
   "nbconvert_exporter": "python",
   "pygments_lexer": "ipython3",
   "version": "3.7.3"
  }
 },
 "nbformat": 4,
 "nbformat_minor": 2
}
