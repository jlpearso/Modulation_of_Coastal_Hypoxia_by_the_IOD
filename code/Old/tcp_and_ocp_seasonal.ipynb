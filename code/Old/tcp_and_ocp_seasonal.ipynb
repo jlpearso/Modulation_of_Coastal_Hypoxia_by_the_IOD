{
 "cells": [
  {
   "cell_type": "markdown",
   "metadata": {},
   "source": [
    "# Setup"
   ]
  },
  {
   "cell_type": "code",
   "execution_count": 7,
   "metadata": {},
   "outputs": [
    {
     "name": "stdout",
     "output_type": "stream",
     "text": [
      "Default libraries loaded.\n"
     ]
    }
   ],
   "source": [
    "# import your standard packages\n",
    "%run ../../global-tools/start.py\n",
    "\n",
    "# import your local functions\n",
    "sys.path.insert(1, '../')\n",
    "from local_functions import *\n",
    "\n",
    "# make sure the figures plot inline rather than at the end\n",
    "%matplotlib inline"
   ]
  },
  {
   "cell_type": "markdown",
   "metadata": {},
   "source": [
    "# Paths and Read Data"
   ]
  },
  {
   "cell_type": "code",
   "execution_count": 8,
   "metadata": {},
   "outputs": [
    {
     "data": {
      "text/plain": [
       "<xarray.Dataset>\n",
       "Dimensions:                      (coastal_loc: 1925, depth: 57, lat: 35, lon: 55, lonmin,lonmax,latmin,latmax: 4, month: 12)\n",
       "Coordinates:\n",
       "  * month                        (month) int64 1 2 3 4 5 6 7 8 9 10 11 12\n",
       "  * depth                        (depth) float32 0.0 5.0 10.0 ... 1450.0 1500.0\n",
       "  * lon                          (lon) float32 48.5 49.5 50.5 ... 101.5 102.5\n",
       "  * lat                          (lat) float32 -1.5 -0.5 0.5 ... 30.5 31.5 32.5\n",
       "  * coastal_loc                  (coastal_loc) int64 0 1 2 3 ... 1922 1923 1924\n",
       "  * lonmin,lonmax,latmin,latmax  (lonmin,lonmax,latmin,latmax) int64 0 1 2 3\n",
       "Data variables:\n",
       "    temp                         (month, depth, lat, lon) float64 ...\n",
       "    psal                         (month, depth, lat, lon) float64 ...\n",
       "    doxy                         (month, depth, lat, lon) float64 ...\n",
       "    nitrate                      (month, depth, lat, lon) float64 ...\n",
       "    phosphate                    (month, depth, lat, lon) float64 ...\n",
       "    pres                         (depth, lat, lon) float64 ...\n",
       "    temp_40_200                  (month, lat, lon) float64 ...\n",
       "    doxy_40_200                  (month, lat, lon) float64 ...\n",
       "    psal_40_200                  (month, lat, lon) float64 ...\n",
       "    nitrate_40_200               (month, lat, lon) float64 ...\n",
       "    phosphate_40_200             (month, lat, lon) float64 ...\n",
       "    temp_50_200                  (month, lat, lon) float64 ...\n",
       "    doxy_50_200                  (month, lat, lon) float64 ...\n",
       "    psal_50_200                  (month, lat, lon) float64 ...\n",
       "    nitrate_50_200               (month, lat, lon) float64 ...\n",
       "    phosphate_50_200             (month, lat, lon) float64 ...\n",
       "    temp_60_200                  (month, lat, lon) float64 ...\n",
       "    doxy_60_200                  (month, lat, lon) float64 ...\n",
       "    psal_60_200                  (month, lat, lon) float64 ...\n",
       "    nitrate_60_200               (month, lat, lon) float64 ...\n",
       "    phosphate_60_200             (month, lat, lon) float64 ...\n",
       "    temp_40_200_ann_mean         (lat, lon) float64 ...\n",
       "    doxy_40_200_ann_mean         (lat, lon) float64 ...\n",
       "    psal_40_200_ann_mean         (lat, lon) float64 ...\n",
       "    nitrate_40_200_ann_mean      (lat, lon) float64 ...\n",
       "    phosphate_40_200_ann_mean    (lat, lon) float64 ...\n",
       "    temp_50_200_ann_mean         (lat, lon) float64 ...\n",
       "    doxy_50_200_ann_mean         (lat, lon) float64 ...\n",
       "    psal_50_200_ann_mean         (lat, lon) float64 ...\n",
       "    nitrate_50_200_ann_mean      (lat, lon) float64 ...\n",
       "    phosphate_50_200_ann_mean    (lat, lon) float64 ...\n",
       "    temp_60_200_ann_mean         (lat, lon) float64 ...\n",
       "    doxy_60_200_ann_mean         (lat, lon) float64 ...\n",
       "    psal_60_200_ann_mean         (lat, lon) float64 ...\n",
       "    nitrat_60_200_ann_mean       (lat, lon) float64 ...\n",
       "    phosphate_60_200_ann_mean    (lat, lon) float64 ...\n",
       "    temp_40_200_anom             (month, lat, lon) float64 ...\n",
       "    doxy_40_200_anom             (month, lat, lon) float64 ...\n",
       "    psal_40_200_anom             (month, lat, lon) float64 ...\n",
       "    nitrate_40_200_anom          (month, lat, lon) float64 ...\n",
       "    phosphate_40_200_anom        (month, lat, lon) float64 ...\n",
       "    temp_50_200_anom             (month, lat, lon) float64 ...\n",
       "    doxy_50_200_anom             (month, lat, lon) float64 ...\n",
       "    psal_50_200_anom             (month, lat, lon) float64 ...\n",
       "    nitrate_50_200_anom          (month, lat, lon) float64 ...\n",
       "    phosphate_50_200_anom        (month, lat, lon) float64 ...\n",
       "    temp_60_200_anom             (month, lat, lon) float64 ...\n",
       "    doxy_60_200_anom             (month, lat, lon) float64 ...\n",
       "    psal_60_200_anom             (month, lat, lon) float64 ...\n",
       "    nitrate_60_200_anom          (month, lat, lon) float64 ...\n",
       "    phosphate_60_200_anom        (month, lat, lon) float64 ...\n",
       "    coastal_mask                 (coastal_loc) bool ...\n",
       "    coastal_mask_xx              (coastal_loc) float32 ...\n",
       "    coastal_mask_yy              (coastal_loc) float32 ...\n",
       "    coastal_mask_bounds          (lonmin,lonmax,latmin,latmax) float64 ..."
      ]
     },
     "execution_count": 8,
     "metadata": {},
     "output_type": "execute_result"
    }
   ],
   "source": [
    "infn = '../data/woa_processed.nc'\n",
    "outfn = '../data/woa_cp.nc'\n",
    "\n",
    "ds = xr.open_dataset(infn)\n",
    "ds"
   ]
  },
  {
   "cell_type": "code",
   "execution_count": 9,
   "metadata": {},
   "outputs": [
    {
     "data": {
      "text/plain": [
       "<xarray.DataArray 'depth' (depth: 57)>\n",
       "array([   0.,    5.,   10.,   15.,   20.,   25.,   30.,   35.,   40.,   45.,\n",
       "         50.,   55.,   60.,   65.,   70.,   75.,   80.,   85.,   90.,   95.,\n",
       "        100.,  125.,  150.,  175.,  200.,  225.,  250.,  275.,  300.,  325.,\n",
       "        350.,  375.,  400.,  425.,  450.,  475.,  500.,  550.,  600.,  650.,\n",
       "        700.,  750.,  800.,  850.,  900.,  950., 1000., 1050., 1100., 1150.,\n",
       "       1200., 1250., 1300., 1350., 1400., 1450., 1500.], dtype=float32)\n",
       "Coordinates:\n",
       "  * depth    (depth) float32 0.0 5.0 10.0 15.0 ... 1350.0 1400.0 1450.0 1500.0\n",
       "Attributes:\n",
       "    standard_name:  depth\n",
       "    bounds:         depth_bnds\n",
       "    positive:       down\n",
       "    units:          meters\n",
       "    axis:           Z"
      ]
     },
     "execution_count": 9,
     "metadata": {},
     "output_type": "execute_result"
    }
   ],
   "source": [
    "ds.depth"
   ]
  },
  {
   "cell_type": "markdown",
   "metadata": {},
   "source": [
    "# Find TCP and OCP with Threshold and Gradient Methods"
   ]
  },
  {
   "cell_type": "code",
   "execution_count": 3,
   "metadata": {},
   "outputs": [
    {
     "name": "stderr",
     "output_type": "stream",
     "text": [
      "  0%|          | 31/23100 [00:00<01:15, 303.94it/s]/home/jennap/anaconda3/lib/python3.7/site-packages/ipykernel_launcher.py:48: RuntimeWarning: invalid value encountered in less_equal\n",
      "/home/jennap/anaconda3/lib/python3.7/site-packages/ipykernel_launcher.py:52: RuntimeWarning: invalid value encountered in less_equal\n",
      "/home/jennap/anaconda3/lib/python3.7/site-packages/ipykernel_launcher.py:59: RuntimeWarning: invalid value encountered in less_equal\n",
      "/home/jennap/anaconda3/lib/python3.7/site-packages/ipykernel_launcher.py:63: RuntimeWarning: invalid value encountered in less_equal\n",
      "/home/jennap/anaconda3/lib/python3.7/site-packages/ipykernel_launcher.py:70: RuntimeWarning: invalid value encountered in less_equal\n",
      "/home/jennap/anaconda3/lib/python3.7/site-packages/ipykernel_launcher.py:74: RuntimeWarning: invalid value encountered in less_equal\n",
      "100%|██████████| 23100/23100 [01:14<00:00, 308.69it/s]\n"
     ]
    }
   ],
   "source": [
    "n = len(ds.month)\n",
    "m = len(ds.lat)\n",
    "p = len(ds.lon)\n",
    "\n",
    "TCP_grad = np.full((n,m,p),np.nan)\n",
    "OCP_grad = np.full((n,m,p),np.nan)\n",
    "\n",
    "TCP_thresh_20 = np.full((n,m,p),np.nan)\n",
    "OCP_thresh_50 = np.full((n,m,p),np.nan)\n",
    "\n",
    "TCP_thresh_23 = np.full((n,m,p),np.nan)\n",
    "OCP_thresh_100 = np.full((n,m,p),np.nan)\n",
    "\n",
    "TCP_thresh_25 = np.full((n,m,p),np.nan)\n",
    "OCP_thresh_150 = np.full((n,m,p),np.nan)\n",
    "\n",
    "with tqdm(total=n * m * p) as pbar:\n",
    "    for tt,ii,jj in itertools.product(np.arange(n),np.arange(m),np.arange(p)):\n",
    "        \n",
    "        temp = np.array(ds.temp[tt,:,ii,jj])\n",
    "        doxy = np.array(ds.doxy[tt,:,ii,jj])\n",
    "        pres = np.array(ds.pres[:,ii,jj])\n",
    "\n",
    "        # gradient method -----------------------------------------#\n",
    "\n",
    "        # only take upper 10-500dbar of data\n",
    "        ind = (pres>=10) & (pres<=500)\n",
    "        upper_temp = temp[ind]\n",
    "        upper_doxy = doxy[ind]\n",
    "        upper_pres = pres[ind]\n",
    "\n",
    "        # find gradients, min/max gradient inds, and pressure at min inds\n",
    "        if np.nansum(~np.isnan(upper_temp)) >= 10: \n",
    "            temp_grad = np.gradient(upper_temp,upper_pres)\n",
    "            # note that nanargmin automatically takes the value closest to the surface\n",
    "            temp_grad_max_ind = np.nanargmax(np.abs(temp_grad))\n",
    "            TCP_grad[tt,ii,jj] = upper_pres[temp_grad_max_ind]\n",
    "            \n",
    "        if np.nansum(~np.isnan(upper_doxy)) >= 10: \n",
    "            doxy_grad = np.gradient(upper_doxy,upper_pres)\n",
    "            doxy_grad_max_ind = np.nanargmax(np.abs(doxy_grad))\n",
    "            OCP_grad[tt,ii,jj] = upper_pres[doxy_grad_max_ind]\n",
    "\n",
    "        # threshold method -----------------------------------------#\n",
    "        doxy_thresh = 100\n",
    "        temp_thresh = 23\n",
    "        \n",
    "        temp_ind = temp <= temp_thresh\n",
    "        if len(pres[temp_ind]) > 0: \n",
    "            TCP_thresh_23[tt,ii,jj] = pres[temp_ind][0]\n",
    "            \n",
    "        doxy_ind = doxy <= doxy_thresh\n",
    "        if len(pres[doxy_ind]) > 0: \n",
    "            OCP_thresh_100[tt,ii,jj] = pres[doxy_ind][0]\n",
    "        \n",
    "        doxy_thresh = 50\n",
    "        temp_thresh = 20\n",
    "        \n",
    "        temp_ind = temp <= temp_thresh\n",
    "        if len(pres[temp_ind]) > 0: \n",
    "            TCP_thresh_20[tt,ii,jj] = pres[temp_ind][0]\n",
    "            \n",
    "        doxy_ind = doxy <= doxy_thresh\n",
    "        if len(pres[doxy_ind]) > 0: \n",
    "            OCP_thresh_50[tt,ii,jj] = pres[doxy_ind][0]\n",
    "        \n",
    "        doxy_thresh = 150\n",
    "        temp_thresh = 25\n",
    "        \n",
    "        temp_ind = temp <= temp_thresh\n",
    "        if len(pres[temp_ind]) > 0: \n",
    "            TCP_thresh_25[tt,ii,jj] = pres[temp_ind][0]\n",
    "            \n",
    "        doxy_ind = doxy <= doxy_thresh\n",
    "        if len(pres[doxy_ind]) > 0: \n",
    "            OCP_thresh_150[tt,ii,jj] = pres[doxy_ind][0]\n",
    "    \n",
    "        pbar.update(1)\n",
    "    "
   ]
  },
  {
   "cell_type": "code",
   "execution_count": 4,
   "metadata": {},
   "outputs": [
    {
     "data": {
      "text/plain": [
       "Text(0.5, 0.98, 'Doxy')"
      ]
     },
     "execution_count": 4,
     "metadata": {},
     "output_type": "execute_result"
    },
    {
     "data": {
      "image/png": "[encoded data removed]",
      "text/plain": [
       "<Figure size 432x288 with 2 Axes>"
      ]
     },
     "metadata": {
      "needs_background": "light"
     },
     "output_type": "display_data"
    },
    {
     "data": {
      "image/png": "[encoded data removed]",
      "text/plain": [
       "<Figure size 432x288 with 2 Axes>"
      ]
     },
     "metadata": {
      "needs_background": "light"
     },
     "output_type": "display_data"
    }
   ],
   "source": [
    " # Example plot\n",
    "\n",
    "tt,ii,jj = 1,15,25\n",
    "temp = np.array(ds.temp[tt,:,ii,jj])\n",
    "doxy = np.array(ds.doxy[tt,:,ii,jj])\n",
    "psal = np.array(ds.psal[tt,:,ii,jj])\n",
    "pres = np.array(ds.pres[:,ii,jj])\n",
    "# pres = np.array(ds_WOA.pres)\n",
    "temp_grad = np.gradient(temp,pres)\n",
    "doxy_grad = np.gradient(doxy,pres)\n",
    "psal_grad = np.gradient(psal,pres)\n",
    "\n",
    "upper_temp = temp[pres<=500]\n",
    "upper_psal = temp[psal<=500]\n",
    "upper_pres = pres[pres<=500]\n",
    "\n",
    "f, (ax1,ax2) = plt.subplots(1, 2)\n",
    "ax1.plot(temp,-1*pres)\n",
    "ax2.plot(temp_grad,-1*pres)\n",
    "ax2.plot(temp_grad,-1*np.full(pres.shape,TCP_grad[tt,ii,jj]))\n",
    "ax2.plot(temp_grad,-1*np.full(pres.shape,TCP_thresh_23[tt,ii,jj]))\n",
    "plt.suptitle('Temp')\n",
    "\n",
    "f, (ax1,ax2) = plt.subplots(1, 2)\n",
    "ax1.plot(doxy,-1*pres)\n",
    "ax2.plot(doxy_grad,-1*pres)\n",
    "ax2.plot(doxy_grad,-1*np.full(pres.shape,OCP_grad[tt,ii,jj]))\n",
    "ax2.plot(doxy_grad,-1*np.full(pres.shape,OCP_thresh_100[tt,ii,jj]))\n",
    "plt.suptitle('Doxy')\n"
   ]
  },
  {
   "cell_type": "code",
   "execution_count": 5,
   "metadata": {},
   "outputs": [
    {
     "name": "stderr",
     "output_type": "stream",
     "text": [
      "/home/jennap/anaconda3/lib/python3.7/site-packages/ipykernel_launcher.py:1: RuntimeWarning: Mean of empty slice\n",
      "  \"\"\"Entry point for launching an IPython kernel.\n"
     ]
    },
    {
     "data": {
      "text/plain": [
       "<matplotlib.colorbar.Colorbar at 0x7fdee38e4b70>"
      ]
     },
     "execution_count": 5,
     "metadata": {},
     "output_type": "execute_result"
    },
    {
     "data": {
      "image/png": "[encoded data removed]",
      "text/plain": [
       "<Figure size 432x288 with 2 Axes>"
      ]
     },
     "metadata": {
      "needs_background": "light"
     },
     "output_type": "display_data"
    }
   ],
   "source": [
    "plt.pcolormesh(np.nanmean(TCP_thresh_23,axis=0))\n",
    "plt.colorbar()"
   ]
  },
  {
   "cell_type": "code",
   "execution_count": 6,
   "metadata": {},
   "outputs": [
    {
     "data": {
      "text/plain": [
       "<xarray.Dataset>\n",
       "Dimensions:                      (coastal_loc: 1925, lat: 35, lon: 55, lonmin,lonmax,latmin,latmax: 4, month: 12)\n",
       "Coordinates:\n",
       "  * lon                          (lon) float32 48.5 49.5 50.5 ... 101.5 102.5\n",
       "  * lat                          (lat) float32 -1.5 -0.5 0.5 ... 30.5 31.5 32.5\n",
       "  * month                        (month) int64 1 2 3 4 5 6 7 8 9 10 11 12\n",
       "  * coastal_loc                  (coastal_loc) int64 0 1 2 3 ... 1922 1923 1924\n",
       "  * lonmin,lonmax,latmin,latmax  (lonmin,lonmax,latmin,latmax) int64 0 1 2 3\n",
       "Data variables:\n",
       "    tcp                          (month, lat, lon) float64 100.6 85.52 ... nan\n",
       "    ocp                          (month, lat, lon) float64 65.39 65.39 ... nan\n",
       "    tcp_thresh_20                (month, lat, lon) float64 125.8 125.8 ... nan\n",
       "    ocp_thresh_50                (month, lat, lon) float64 nan nan ... nan nan\n",
       "    tcp_thresh_23                (month, lat, lon) float64 90.55 85.52 ... nan\n",
       "    ocp_thresh_100               (month, lat, lon) float64 503.5 503.5 ... nan\n",
       "    tcp_thresh_25                (month, lat, lon) float64 70.43 65.39 ... nan\n",
       "    ocp_thresh_150               (month, lat, lon) float64 125.8 125.8 ... nan\n",
       "    coastal_mask                 (coastal_loc) bool ...\n",
       "    coastal_mask_xx              (coastal_loc) float32 ...\n",
       "    coastal_mask_yy              (coastal_loc) float32 ...\n",
       "    coastal_mask_bounds          (lonmin,lonmax,latmin,latmax) float64 ..."
      ]
     },
     "execution_count": 6,
     "metadata": {},
     "output_type": "execute_result"
    }
   ],
   "source": [
    "# convert to xarray dataset\n",
    "ds_out = xr.Dataset(coords={'lon': ds.lon,\n",
    "                    'lat': ds.lat,\n",
    "                    'month': ds.month})\n",
    "\n",
    "coords = [ds.month,ds.lat,ds.lon]\n",
    "dims = ['month','lat', 'lon']\n",
    "\n",
    "# add variables to dataset\n",
    "\n",
    "ds_out[\"tcp\"]=xr.DataArray(TCP_grad,dims = dims,coords = coords)\n",
    "ds_out[\"ocp\"]=xr.DataArray(OCP_grad,dims = dims,coords = coords)\n",
    "\n",
    "ds_out[\"tcp_thresh_20\"]=xr.DataArray(TCP_thresh_20,dims = dims,coords = coords)\n",
    "ds_out[\"ocp_thresh_50\"]=xr.DataArray(OCP_thresh_50,dims = dims,coords = coords)\n",
    "\n",
    "ds_out[\"tcp_thresh_23\"]=xr.DataArray(TCP_thresh_23,dims = dims,coords = coords)\n",
    "ds_out[\"ocp_thresh_100\"]=xr.DataArray(OCP_thresh_100,dims = dims,coords = coords)\n",
    "\n",
    "ds_out[\"tcp_thresh_25\"]=xr.DataArray(TCP_thresh_25,dims = dims,coords = coords)\n",
    "ds_out[\"ocp_thresh_150\"]=xr.DataArray(OCP_thresh_150,dims = dims,coords = coords)\n",
    "\n",
    "ds_out[\"coastal_mask\"] = ds.coastal_mask\n",
    "ds_out[\"coastal_mask_xx\"] = ds.coastal_mask_xx\n",
    "ds_out[\"coastal_mask_yy\"] = ds.coastal_mask_yy\n",
    "ds_out['coastal_mask_bounds'] = ds.coastal_mask_bounds\n",
    "\n",
    "# delete if already present\n",
    "if os.path.isfile(outfn):\n",
    "    os.remove(outfn)\n",
    "\n",
    "ds_out.to_netcdf(outfn,mode='w',format = \"NETCDF4\")\n",
    "ds_out"
   ]
  },
  {
   "cell_type": "code",
   "execution_count": null,
   "metadata": {},
   "outputs": [],
   "source": []
  }
 ],
 "metadata": {
  "kernelspec": {
   "display_name": "Python 3",
   "language": "python",
   "name": "python3"
  },
  "language_info": {
   "codemirror_mode": {
    "name": "ipython",
    "version": 3
   },
   "file_extension": ".py",
   "mimetype": "text/x-python",
   "name": "python",
   "nbconvert_exporter": "python",
   "pygments_lexer": "ipython3",
   "version": "3.7.3"
  }
 },
 "nbformat": 4,
 "nbformat_minor": 2
}
