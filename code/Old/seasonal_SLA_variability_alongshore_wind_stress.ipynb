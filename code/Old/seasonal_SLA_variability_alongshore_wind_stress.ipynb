{
 "cells": [
  {
   "cell_type": "code",
   "execution_count": 1,
   "metadata": {},
   "outputs": [
    {
     "name": "stdout",
     "output_type": "stream",
     "text": [
      "Default Libraries Loaded.\n"
     ]
    }
   ],
   "source": [
    "%run ../../global-tools/start.py\n",
    "\n",
    "# make sure the figures plot inline rather than at the end\n",
    "%matplotlib inline"
   ]
  },
  {
   "cell_type": "markdown",
   "metadata": {},
   "source": [
    "# Seasonal Ekman Pumping\n",
    "\n",
    "To isolate interior ekman pumping, this code follows https://agupubs.onlinelibrary.wiley.com/doi/epdf/10.1029/2011JC007531\n",
    "\n",
    "Need to still do alongshore wind stress at some point too...need local bathymetry for that...perhaps cartopy has it.\n",
    "\n",
    "https://earthweb.ess.washington.edu/roe/Web_page_514/ESS514/Notes_files/MarshallPlumb_GulfStream.pdf"
   ]
  },
  {
   "cell_type": "code",
   "execution_count": 69,
   "metadata": {},
   "outputs": [],
   "source": [
    "ds_wnd = xr.open_dataset('../data/NCEP_Wind/ncep_wind_processed.nc')\n",
    "\n",
    "# Subset ------------------------------------------------#\n",
    "# Create slice variables to subset domain before finding means\n",
    "lat_slice = slice(-20, 30) # bounds inclusive\n",
    "lon_slice = slice(35, 120) # bounds inclusive\n",
    "time_slice = slice('1994-01-01','2019-5-31')\n",
    "\n",
    "# Get data, selecting lat/lon slice\n",
    "u = ds_wnd['uwnd'].sel(lat=lat_slice,lon=lon_slice, time = time_slice)\n",
    "v = ds_wnd['vwnd'].sel(lat=lat_slice,lon=lon_slice, time = time_slice)\n",
    "lat = u.lat.values\n",
    "lon = u.lon.values"
   ]
  },
  {
   "cell_type": "code",
   "execution_count": 72,
   "metadata": {},
   "outputs": [],
   "source": [
    "# wind stress\n",
    "\n",
    "# air density\n",
    "p_air = 1.225 # kg/m^3\n",
    "p_sea = 1025 # kg/m^3\n",
    "\n",
    "xx,yy = np.meshgrid(ds_wnd.lon,ds_wnd.lat)\n",
    "\n",
    "n = len(ds_wnd.time)\n",
    "m = len(ds_wnd.lat)\n",
    "p = len(ds_wnd.lon)\n",
    "\n",
    "dx,dy = mpcalc.lat_lon_grid_deltas(xx,yy)"
   ]
  },
  {
   "cell_type": "code",
   "execution_count": null,
   "metadata": {},
   "outputs": [],
   "source": [
    "C_d = np.full(size(tmplon),np.nan)\n",
    "\n",
    "# n = len(ds_wnd.time)\n",
    "# m = len(ds_wnd.lat)\n",
    "# p = len(ds_wnd.lon)\n",
    "\n",
    "# with tqdm(total=n * m * p) as pbar:\n",
    "#     for tt,ii,jj in itertools.product(np.arange(n),np.arange(m),np.arange(p)):\n",
    "for tt in tqdm(range(len(ds_wnd.time))):\n",
    "    tmpu = ds_wnd.uwnd[tt,:,:]\n",
    "    tmpv = ds_wnd.vwnd[tt,:,:]\n",
    "\n",
    "    # define wind speed\n",
    "    W = np.sqrt(tmpu.^2 + tmpv.^2)\n",
    "\n",
    "    # define drag coeficient matrix \n",
    "    C_d[W < 11] = 0.0012\n",
    "    C_d[W >= 11] = 0.00049 + U*0.000065\n",
    "\n",
    "    # calculate wind stress\n",
    "    tau_x = p_air * C_D * W * tmpu\n",
    "    tau_y = p_air * C_D * W * tmpv\n",
    "\n",
    "    # find wind stress gradients\n",
    "    dtau_x_dx, dtau_x_dy = np.gradient(tau_x, dx,dy)\n",
    "    dtau_y_dx, dtau_y_dy = np.gradient(tau_y, dx,dy)\n",
    "\n",
    "    # find wind stress curl\n",
    "    curl_tau = dtau_y_dx - dtau_x_dy\n",
    "\n",
    "    f = mpcalc.coriolis_parameter(tmplat)\n",
    "\n",
    "    curl_tau = \n",
    "\n",
    "    W_Ek = curl_tau./(p_sea * f)\n",
    "\n",
    "        \n",
    "#         pbar.update(1)"
   ]
  },
  {
   "cell_type": "code",
   "execution_count": null,
   "metadata": {},
   "outputs": [],
   "source": [
    "def latlon_to_xyz(lat,lon):\n",
    "    \"\"\"Convert angluar to cartesian coordiantes\n",
    "\n",
    "    latitude is the 90deg - zenith angle in range [-90;90]\n",
    "    lonitude is the azimuthal angle in range [-180;180] \n",
    "    \"\"\"\n",
    "    r = 6371 # https://en.wikipedia.org/wiki/Earth_radius\n",
    "    theta = math.pi/2 - math.radians(lat) \n",
    "    phi = math.radians(lon)\n",
    "    x = r * math.sin(theta) * math.cos(phi) # bronstein (3.381a)\n",
    "    y = r * math.sin(theta) * math.sin(phi)\n",
    "    z = r * math.cos(theta)\n",
    "    return [x,y,z]"
   ]
  }
 ],
 "metadata": {
  "kernelspec": {
   "display_name": "Python 3",
   "language": "python",
   "name": "python3"
  },
  "language_info": {
   "codemirror_mode": {
    "name": "ipython",
    "version": 3
   },
   "file_extension": ".py",
   "mimetype": "text/x-python",
   "name": "python",
   "nbconvert_exporter": "python",
   "pygments_lexer": "ipython3",
   "version": "3.7.3"
  }
 },
 "nbformat": 4,
 "nbformat_minor": 2
}
