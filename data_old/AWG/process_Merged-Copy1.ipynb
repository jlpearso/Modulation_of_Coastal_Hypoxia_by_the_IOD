{
 "cells": [
  {
   "cell_type": "markdown",
   "metadata": {},
   "source": [
    "# Setup"
   ]
  },
  {
   "cell_type": "code",
   "execution_count": 1,
   "metadata": {},
   "outputs": [
    {
     "name": "stdout",
     "output_type": "stream",
     "text": [
      "Default libraries loaded.\n"
     ]
    }
   ],
   "source": [
    "# import your standard packages\n",
    "%run ../../../global-tools/start.py\n",
    "\n",
    "# import your local functions\n",
    "sys.path.insert(1, '../../code/')\n",
    "from local_functions import *\n",
    "\n",
    "# make sure the figures plot inline rather than at the end\n",
    "%matplotlib inline"
   ]
  },
  {
   "cell_type": "code",
   "execution_count": 2,
   "metadata": {},
   "outputs": [
    {
     "data": {
      "text/plain": [
       "<xarray.Dataset>\n",
       "Dimensions:  (pres: 201, time: 306118)\n",
       "Coordinates:\n",
       "    prof     (time) int32 286462 286463 286464 286465 ... 251414 252160 252508\n",
       "  * time     (time) datetime64[ns] 1827-10-30 1836-05-15 ... 2020-02-07\n",
       "  * pres     (pres) int32 0 5 10 15 20 25 30 35 ... 970 975 980 985 990 995 1000\n",
       "Data variables:\n",
       "    temp     (time, pres) float32 nan nan nan nan ... 6.482922 6.45122 6.4202943\n",
       "    psal     (time, pres) float32 nan nan nan ... 34.940956 34.939495 34.937958\n",
       "    doxy     (time, pres) float32 nan nan nan ... 48.04291 48.480473 48.916607\n",
       "    lat      (time) float32 -18.0 -27.5 -7.9 -26.78 ... -3.16 11.251 1.808\n",
       "    lon      (time) float32 119.83 41.0 85.33 98.5 ... 73.594 53.525 84.366\n",
       "    type     (time) int32 2 2 2 2 2 2 2 2 2 2 2 2 2 ... 0 0 0 0 0 0 0 0 0 1 1 1"
      ]
     },
     "execution_count": 2,
     "metadata": {},
     "output_type": "execute_result"
    }
   ],
   "source": [
    "# get merged data from tigress\n",
    "infn = 'Profiles_temp_psal_doxy.nc'\n",
    "\n",
    "ds_AWG = xr.open_dataset(infn)\n",
    "# print(ds.keys())\n",
    "\n",
    "# change time variable ----------------------------------#\n",
    "# set the units to be something xarray can decode\n",
    "ds_AWG.time.attrs['units'] = 'days since 1800-01-01'\n",
    "#re-decode the dataset\n",
    "ds_AWG = xr.decode_cf(ds_AWG)\n",
    "\n",
    "# # add time as a coordinate\n",
    "ds_AWG= ds_AWG.assign_coords(unsorted_time=ds_AWG.time)\n",
    "\n",
    "# reset profile variables to be with respect to time\n",
    "ds_AWG['temp'] = xr.DataArray(ds_AWG.temp,dims = ['unsorted_time','pres'],coords =[ds_AWG.time,ds_AWG.pres])\n",
    "ds_AWG['psal'] = xr.DataArray(ds_AWG.psal,dims = ['unsorted_time','pres'],coords =[ds_AWG.time,ds_AWG.pres])\n",
    "ds_AWG['doxy'] = xr.DataArray(ds_AWG.doxy,dims = ['unsorted_time','pres'],coords =[ds_AWG.time,ds_AWG.pres])\n",
    "ds_AWG['lat'] = xr.DataArray(ds_AWG.lat,dims = ['unsorted_time'],coords =[ds_AWG.time])\n",
    "ds_AWG['lon'] = xr.DataArray(ds_AWG.lon,dims = ['unsorted_time'],coords =[ds_AWG.time])\n",
    "ds_AWG['type'] = xr.DataArray(ds_AWG.type,dims = ['unsorted_time'],coords =[ds_AWG.time])\n",
    "ds_AWG['prof'] = xr.DataArray(ds_AWG.prof,dims = ['unsorted_time'],coords =[ds_AWG.time])\n",
    "# get rid of intial time variable\n",
    "ds_AWG = ds_AWG[['temp','psal','doxy','lat','lon','type','prof']]\n",
    "\n",
    "sorted_time = ds_AWG.unsorted_time.sortby(ds_AWG.unsorted_time)\n",
    "\n",
    "# sort based on time\n",
    "ds_AWG['temp'] = xr.DataArray(ds_AWG.temp.sortby(ds_AWG.unsorted_time),dims = ['time','pres'],coords =[sorted_time,ds_AWG.pres])\n",
    "ds_AWG['psal'] = xr.DataArray(ds_AWG.psal.sortby(ds_AWG.unsorted_time),dims = ['time','pres'],coords =[sorted_time,ds_AWG.pres])\n",
    "ds_AWG['doxy'] = xr.DataArray(ds_AWG.doxy.sortby(ds_AWG.unsorted_time),dims = ['time','pres'],coords =[sorted_time,ds_AWG.pres])\n",
    "ds_AWG['lat'] = xr.DataArray(ds_AWG.lat.sortby(ds_AWG.unsorted_time),dims = ['time'],coords =[sorted_time])\n",
    "ds_AWG['lon'] = xr.DataArray(ds_AWG.lon.sortby(ds_AWG.unsorted_time),dims = ['time'],coords =[sorted_time])\n",
    "ds_AWG['type'] = xr.DataArray(ds_AWG.type.sortby(ds_AWG.unsorted_time),dims = ['time'],coords =[sorted_time])\n",
    "ds_AWG['prof'] = xr.DataArray(ds_AWG.prof.sortby(ds_AWG.unsorted_time),dims = ['time'],coords =[sorted_time])\n",
    "# get rid of intial time variable\n",
    "ds_AWG = ds_AWG[['temp','psal','doxy','lat','lon','type','prof','time']]\n",
    "ds_AWG\n"
   ]
  },
  {
   "cell_type": "code",
   "execution_count": 3,
   "metadata": {},
   "outputs": [
    {
     "data": {
      "text/plain": [
       "Text(0, 0.5, 'min doxy negs removed')"
      ]
     },
     "execution_count": 3,
     "metadata": {},
     "output_type": "execute_result"
    },
    {
     "data": {
      "image/png": "[encoded data removed]",
      "text/plain": [
       "<Figure size 432x288 with 1 Axes>"
      ]
     },
     "metadata": {
      "needs_background": "light"
     },
     "output_type": "display_data"
    }
   ],
   "source": [
    "plt.plot(ds_AWG.doxy.min(dim = 'pres'),'.')\n",
    "plt.ylim([-1,1])\n",
    "plt.xlabel('Profile No.')\n",
    "plt.ylabel('min doxy')\n",
    "\n",
    "# set negative oxygen values to nan\n",
    "ds_AWG['doxy'] = ds_AWG.doxy.where(ds_AWG.doxy >= 0)\n",
    "\n",
    "plt.plot(ds_AWG.doxy.min(dim = 'pres'),'.')\n",
    "plt.ylim([-1,1])\n",
    "plt.xlabel('Profile No.')\n",
    "plt.ylabel('min doxy negs removed')"
   ]
  },
  {
   "cell_type": "code",
   "execution_count": 4,
   "metadata": {
    "scrolled": true
   },
   "outputs": [
    {
     "data": {
      "text/plain": [
       "<xarray.Dataset>\n",
       "Dimensions:          (negyears: 10, neuyears: 40, posyears: 13, snegyears: 5, sposyears: 6, time: 747, wnegyears: 5, wposyears: 7)\n",
       "Coordinates:\n",
       "  * time             (time) datetime64[ns] 1958-03-01 1958-04-01 ... 2020-05-01\n",
       "  * posyears         (posyears) int64 1961 1963 1967 1972 ... 2015 2018 2019\n",
       "  * negyears         (negyears) int64 1960 1964 1970 1971 ... 1998 2010 2016\n",
       "  * neuyears         (neuyears) int64 1958 1959 1962 1965 ... 2014 2017 2020\n",
       "  * sposyears        (sposyears) int64 1961 1972 1994 1997 2006 2019\n",
       "  * snegyears        (snegyears) int64 1960 1964 1996 1998 2016\n",
       "  * wposyears        (wposyears) int64 1963 1967 1977 1982 2012 2015 2018\n",
       "  * wnegyears        (wnegyears) int64 1970 1971 1975 1992 2010\n",
       "Data variables:\n",
       "    dmi              (time) float64 ...\n",
       "    dmi_3mo_runmean  (time) float64 ...\n",
       "    pos_IOD_years    (posyears) int64 ...\n",
       "    neg_IOD_years    (negyears) int64 ...\n",
       "    neu_IOD_years    (neuyears) int64 ...\n",
       "    spos_IOD_years   (sposyears) int64 ...\n",
       "    sneg_IOD_years   (snegyears) int64 ...\n",
       "    wpos_IOD_years   (wposyears) int64 ...\n",
       "    wneg_IOD_years   (wnegyears) int64 ..."
      ]
     },
     "execution_count": 4,
     "metadata": {},
     "output_type": "execute_result"
    }
   ],
   "source": [
    "# confine to be during the years of the DMI index only\n",
    "\n",
    "ds_DMI= xr.open_dataset('../DMI/dmi_processed.nc')\n",
    "ds_DMI"
   ]
  },
  {
   "cell_type": "code",
   "execution_count": 5,
   "metadata": {},
   "outputs": [
    {
     "data": {
      "text/plain": [
       "<xarray.Dataset>\n",
       "Dimensions:  (pres: 201, time: 303903)\n",
       "Coordinates:\n",
       "    prof     (time) int32 254193 254194 254195 254196 ... 251414 252160 252508\n",
       "  * time     (time) datetime64[ns] 1958-06-01 1958-06-02 ... 2020-02-07\n",
       "  * pres     (pres) int32 0 5 10 15 20 25 30 35 ... 970 975 980 985 990 995 1000\n",
       "Data variables:\n",
       "    temp     (time, pres) float32 nan nan nan nan ... 6.482922 6.45122 6.4202943\n",
       "    psal     (time, pres) float32 nan nan 36.13 ... 34.939495 34.937958\n",
       "    doxy     (time, pres) float32 nan nan 174.98756 ... 48.480473 48.916607\n",
       "    lat      (time) float32 13.27 13.38 13.97 12.88 ... -3.16 11.251 1.808\n",
       "    lon      (time) float32 55.0 53.52 50.6 49.2 ... 64.739 73.594 53.525 84.366\n",
       "    type     (time) int32 2 2 2 2 2 2 2 2 2 2 2 2 2 ... 0 0 0 0 0 0 0 0 0 1 1 1"
      ]
     },
     "execution_count": 5,
     "metadata": {},
     "output_type": "execute_result"
    }
   ],
   "source": [
    "time_slice = slice('1958-06-01', '2020-05-31')\n",
    "ds_AWG = ds_AWG.sel(time = time_slice)\n",
    "ds_AWG"
   ]
  },
  {
   "cell_type": "code",
   "execution_count": 6,
   "metadata": {},
   "outputs": [],
   "source": [
    "import os\n",
    "\n",
    "outfn = infn[:-3] + '_processed.nc'\n",
    "\n",
    "# delete if already present\n",
    "if os.path.isfile(outfn):\n",
    "    os.remove(outfn)\n",
    "\n",
    "ds_AWG.to_netcdf(outfn,mode='w',format = \"NETCDF4\")"
   ]
  },
  {
   "cell_type": "code",
   "execution_count": null,
   "metadata": {},
   "outputs": [],
   "source": []
  }
 ],
 "metadata": {
  "kernelspec": {
   "display_name": "Python 3",
   "language": "python",
   "name": "python3"
  },
  "language_info": {
   "codemirror_mode": {
    "name": "ipython",
    "version": 3
   },
   "file_extension": ".py",
   "mimetype": "text/x-python",
   "name": "python",
   "nbconvert_exporter": "python",
   "pygments_lexer": "ipython3",
   "version": "3.7.3"
  }
 },
 "nbformat": 4,
 "nbformat_minor": 2
}
