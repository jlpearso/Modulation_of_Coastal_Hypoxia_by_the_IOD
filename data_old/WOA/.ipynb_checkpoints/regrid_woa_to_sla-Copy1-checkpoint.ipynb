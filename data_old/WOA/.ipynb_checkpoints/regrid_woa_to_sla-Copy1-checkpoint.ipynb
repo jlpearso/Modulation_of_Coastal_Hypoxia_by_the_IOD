{
 "cells": [
  {
   "cell_type": "code",
   "execution_count": 7,
   "metadata": {},
   "outputs": [
    {
     "name": "stdout",
     "output_type": "stream",
     "text": [
      "Default libraries loaded.\n"
     ]
    }
   ],
   "source": [
    "# import your standard packages\n",
    "%run ../../../global-tools/start.py\n",
    "\n",
    "# import your local functions\n",
    "sys.path.insert(1, '../../code/')\n",
    "from local_functions import *\n",
    "\n",
    "# make sure the figures plot inline rather than at the end\n",
    "%matplotlib inline\n",
    "\n",
    "# from os import listdir\n",
    "# import scipy.interpolate as sp\n",
    "# import sys\n",
    "# import xarray as xr\n",
    "# import numpy as np\n",
    "# import matplotlib.pyplot as plt\n",
    "# import datetime as dt\n",
    "# import seawater as sw\n",
    "# from tqdm import tqdm\n",
    "# from scipy.interpolate import griddata"
   ]
  },
  {
   "cell_type": "code",
   "execution_count": null,
   "metadata": {},
   "outputs": [],
   "source": []
  },
  {
   "cell_type": "code",
   "execution_count": 7,
   "metadata": {},
   "outputs": [],
   "source": [
    "# # process to correspond to SLA locations\n",
    "\n",
    "# # SLA\n",
    "# path_SLA = '../SLA/'\n",
    "# infn_SLA = 'sla_grid_processed.nc'\n",
    "\n",
    "# ds_SLA = xr.open_dataset(path_SLA + infn_SLA)\n",
    "# ds_SLA"
   ]
  },
  {
   "cell_type": "code",
   "execution_count": 8,
   "metadata": {},
   "outputs": [],
   "source": [
    "# xx,yy = np.meshgrid(ds_i.lon,ds_i.lat)\n",
    "# xx = xx.flatten()\n",
    "# yy = yy.flatten()\n",
    "\n",
    "# xx_SLA,yy_SLA = np.meshgrid(ds_SLA.lon,ds_SLA.lat)\n",
    "\n",
    "# TEMP_SLA = np.zeros((len(ds_grid.month),len(PRES),len(ds_SLA.lat),len(ds_SLA.lon)))*np.nan\n",
    "# DOXY_SLA = np.zeros((len(ds_grid.month),len(PRES),len(ds_SLA.lat),len(ds_SLA.lon)))*np.nan\n",
    "# PSAL_SLA = np.zeros((len(ds_grid.month),len(PRES),len(ds_SLA.lat),len(ds_SLA.lon)))*np.nan\n",
    "# PRES_SLA = np.zeros((len(PRES),len(ds_SLA.lat),len(ds_SLA.lon)))*np.nan\n",
    "\n",
    "# n = len(ds_grid.month)\n",
    "# m = len(DEPTH)\n",
    "# with tqdm(total=n * m) as pbar:\n",
    "#     for tt in range(n):\n",
    "#         for dd in range(m):\n",
    "\n",
    "#             temp = np.array(TEMP[tt,dd,:,:])\n",
    "#             psal = np.array(PSAL[tt,dd,:,:])\n",
    "#             doxy = np.array(DOXY[tt,dd,:,:])\n",
    "#             pres = np.array(PRES[dd,:,:])\n",
    "\n",
    "#             # find the lons and lats of TCD vals at this time\n",
    "\n",
    "#             points = np.array( (xx,yy) ).T\n",
    "#             temp_values = temp.flatten()\n",
    "#             psal_values = psal.flatten()\n",
    "#             doxy_values = doxy.flatten()\n",
    "#             pres_values = pres.flatten()\n",
    "\n",
    "#             TEMP_SLA[tt,dd,:,:] = griddata(points, temp_values, (xx_SLA,yy_SLA) ,method='linear')\n",
    "#             PSAL_SLA[tt,dd,:,:] = griddata(points, psal_values, (xx_SLA,yy_SLA) ,method='linear')\n",
    "#             DOXY_SLA[tt,dd,:,:] = griddata(points, doxy_values, (xx_SLA,yy_SLA) ,method='linear')\n",
    "#             PRES_SLA[dd,:,:] = griddata(points, pres_values, (xx_SLA,yy_SLA) ,method='linear')\n",
    "#             pbar.update(1)\n",
    "            \n",
    "\n",
    "\n",
    "# ds_SLA_grid=xr.Dataset(coords={'month': np.arange(1,13),\n",
    "#                         'depth': DEPTH,\n",
    "#                         'lon': ds_SLA.lon,\n",
    "#                         'lat': ds_SLA.lat})\n",
    "# # add to dataset\n",
    "# ds_SLA_grid['temp_grid'] = xr.DataArray(TEMP_SLA,dims = ['month','depth','lat','lon'],coords =[np.arange(1,13),DEPTH,ds_SLA.lat,ds_SLA.lon])\n",
    "# ds_SLA_grid['psal_grid'] = xr.DataArray(PSAL_SLA,dims = ['month','depth','lat','lon'],coords =[np.arange(1,13),DEPTH,ds_SLA.lat,ds_SLA.lon])\n",
    "# ds_SLA_grid['doxy_grid'] = xr.DataArray(DOXY_SLA,dims = ['month','depth','lat','lon'],coords =[np.arange(1,13),DEPTH,ds_SLA.lat,ds_SLA.lon])\n",
    "# ds_SLA_grid['pres_grid'] = xr.DataArray(PRES_SLA,dims = ['depth','lat','lon'],coords =[DEPTH,ds_SLA.lat,ds_SLA.lon])\n",
    "\n",
    "# # # set places where sla is nan to nan\n",
    "# # ind = np.isnan(np.array(ds_SLA.daily_sla))\n",
    "# # ds_SLA_grid.temp_grid = ds_SLA_grid.temp_grid.where(~ind)\n",
    "# # ds_SLA_grid.temp_grid = ds_SLA_grid.temp_grid.where(~ind)\n",
    "# # ds_SLA_grid.temp_grid = ds_SLA_grid.temp_grid.where(~ind)\n",
    "# # ds_SLA_grid.temp_grid = ds_SLA_grid.temp_grid.where(~ind)\n",
    "\n",
    "# ds_SLA_grid "
   ]
  },
  {
   "cell_type": "markdown",
   "metadata": {},
   "source": [
    "# remove any negative doxy values"
   ]
  },
  {
   "cell_type": "code",
   "execution_count": 23,
   "metadata": {},
   "outputs": [],
   "source": [
    "# set negative oxygen values to nan\n",
    "ds['doxy'] = ds.doxy.where(ds.doxy >= 0)\n",
    "ds_grid['doxy_grid'] = ds_grid.doxy_grid.where(ds_grid.doxy_grid >= 0)\n",
    "ds_i['doxy_grid'] = ds_i.doxy_grid.where(ds_i.doxy_grid >= 0)\n",
    "# ds_SLA_grid['doxy_grid'] = ds_SLA_grid.doxy_grid.where(ds_SLA_grid.doxy_grid >= 0)\n",
    "\n",
    "\n",
    "ds_grid['nitrate_grid'] = ds_grid.nitrate_grid.where(ds_grid.nitrate_grid >= 0)\n",
    "ds_i['nitrate_grid'] = ds_i.nitrate_grid.where(ds_i.nitrate_grid >= 0)\n",
    "\n",
    "ds_grid['phosphate_grid'] = ds_grid.phosphate_grid.where(ds_grid.phosphate_grid >= 0)\n",
    "ds_i['phosphate_grid'] = ds_i.phosphate_grid.where(ds_i.phosphate_grid >= 0)\n",
    "\n",
    "\n",
    "# plt.plot(ds.doxy.min(dim = 'pres'),'.')\n",
    "# plt.ylim([-1,1])\n",
    "# plt.xlabel('Profile No.')\n",
    "# plt.ylabel('min doxy negs removed')"
   ]
  },
  {
   "cell_type": "markdown",
   "metadata": {},
   "source": [
    "# SAVE"
   ]
  },
  {
   "cell_type": "code",
   "execution_count": 24,
   "metadata": {},
   "outputs": [],
   "source": [
    "# save_path = '/projects/GEOCLIM/LRGROUP/jennap/Modulation_of_Coastal_Hypoxia_by_the_IOD/data/'\n",
    "\n",
    "import os\n",
    "\n",
    "# AWG data\n",
    "outfn = 'woa_awg_processed.nc'\n",
    "\n",
    "# delete if already present\n",
    "if os.path.isfile(outfn):\n",
    "    os.remove(outfn)\n",
    "\n",
    "ds.to_netcdf(outfn,mode='w',format = \"NETCDF4\")\n",
    "\n",
    "# Gridded data\n",
    "\n",
    "outfn = 'woa_grid_processed.nc'\n",
    "\n",
    "# delete if already present\n",
    "if os.path.isfile(outfn):\n",
    "    os.remove(outfn)\n",
    "\n",
    "ds_grid.to_netcdf(outfn,mode='w',format = \"NETCDF4\")\n",
    "\n",
    "# Gridded data\n",
    "\n",
    "# outfn = 'woa_sla_processed.nc'\n",
    "\n",
    "# # delete if already present\n",
    "# if os.path.isfile(outfn):\n",
    "#     os.remove(outfn)\n",
    "\n",
    "# ds_SLA_grid.to_netcdf(outfn,mode='w',format = \"NETCDF4\")"
   ]
  },
  {
   "cell_type": "code",
   "execution_count": null,
   "metadata": {},
   "outputs": [],
   "source": []
  }
 ],
 "metadata": {
  "kernelspec": {
   "display_name": "Python 3",
   "language": "python",
   "name": "python3"
  },
  "language_info": {
   "codemirror_mode": {
    "name": "ipython",
    "version": 3
   },
   "file_extension": ".py",
   "mimetype": "text/x-python",
   "name": "python",
   "nbconvert_exporter": "python",
   "pygments_lexer": "ipython3",
   "version": "3.7.3"
  }
 },
 "nbformat": 4,
 "nbformat_minor": 2
}
