{
 "cells": [
  {
   "cell_type": "markdown",
   "metadata": {},
   "source": [
    "# Setup"
   ]
  },
  {
   "cell_type": "code",
   "execution_count": 12,
   "metadata": {},
   "outputs": [
    {
     "name": "stdout",
     "output_type": "stream",
     "text": [
      "Default libraries loaded.\n"
     ]
    }
   ],
   "source": [
    "# import your standard packages\n",
    "%run ../../../global-tools/start.py\n",
    "\n",
    "# make sure the figures plot inline rather than at the end\n",
    "%matplotlib inline"
   ]
  },
  {
   "cell_type": "code",
   "execution_count": 13,
   "metadata": {},
   "outputs": [
    {
     "data": {
      "text/plain": [
       "<xarray.Dataset>\n",
       "Dimensions:             (lat: 200, latitude: 200, lon: 340, longitude: 340, month: 12, month_time: 312, season: 4, season_time: 105, time: 9496)\n",
       "Coordinates:\n",
       "  * season_time         (season_time) datetime64[ns] 1993-12-01 ... 2019-12-01\n",
       "  * longitude           (longitude) float64 35.12 35.38 35.62 ... 119.6 119.9\n",
       "  * latitude            (latitude) float64 -19.88 -19.62 -19.38 ... 29.62 29.88\n",
       "  * lon                 (lon) float64 35.12 35.38 35.62 ... 119.4 119.6 119.9\n",
       "  * lat                 (lat) float64 -19.88 -19.62 -19.38 ... 29.38 29.62 29.88\n",
       "  * time                (time) datetime64[ns] 1994-01-01 ... 2019-12-31\n",
       "  * month_time          (month_time) datetime64[ns] 1994-01-01 ... 2019-12-01\n",
       "  * month               (month) int64 1 2 3 4 5 6 7 8 9 10 11 12\n",
       "  * season              (season) object 'DJF' 'JJA' 'MAM' 'SON'\n",
       "Data variables:\n",
       "    daily_sla           (time, lat, lon) float64 ...\n",
       "    mon_sla             (month_time, lat, lon) float64 ...\n",
       "    seas_sla            (season_time, lat, lon) float64 ...\n",
       "    sla_mon_clim        (month, lat, lon) float64 ...\n",
       "    sla_seas_clim       (season, lat, lon) float64 ...\n",
       "    mon_sla_mon_anom    (month_time, lat, lon) float64 ...\n",
       "    seas_sla_seas_anom  (season_time, lat, lon) float64 ..."
      ]
     },
     "execution_count": 13,
     "metadata": {},
     "output_type": "execute_result"
    }
   ],
   "source": [
    "# get data from tigress\n",
    "# path = '/home/jennap/projects/LRGROUP/shared_data/ssh_AVISO/'\n",
    "# slainfn = 'all_adt_sla_global_twosat_phy_l4_vDT2018_daily_1994_2020_03_01_dtrnd.nc'\n",
    "ds = xr.open_dataset('sla_25km_processed.nc')\n",
    "\n",
    "# Get data, selecting lat/lon slice\n",
    "daily_sla = ds['daily_sla']\n",
    "lat = daily_sla.lat.values\n",
    "lon = daily_sla.lon.values\n",
    "ds"
   ]
  },
  {
   "cell_type": "markdown",
   "metadata": {},
   "source": [
    "## AWG regridding"
   ]
  },
  {
   "cell_type": "code",
   "execution_count": 14,
   "metadata": {},
   "outputs": [
    {
     "data": {
      "text/plain": [
       "<xarray.Dataset>\n",
       "Dimensions:  (pres: 201, time: 303903)\n",
       "Coordinates:\n",
       "    prof     (time) int32 ...\n",
       "  * time     (time) datetime64[ns] 1958-06-01 1958-06-02 ... 2020-02-07\n",
       "  * pres     (pres) int32 0 5 10 15 20 25 30 35 ... 970 975 980 985 990 995 1000\n",
       "Data variables:\n",
       "    temp     (time, pres) float32 ...\n",
       "    psal     (time, pres) float32 ...\n",
       "    doxy     (time, pres) float32 ...\n",
       "    lat      (time) float32 ...\n",
       "    lon      (time) float32 ...\n",
       "    type     (time) int32 ..."
      ]
     },
     "execution_count": 14,
     "metadata": {},
     "output_type": "execute_result"
    }
   ],
   "source": [
    "# get merged data from tigress\n",
    "path = '../Merged/'\n",
    "infn = 'Profiles_temp_psal_doxy_processed.nc'\n",
    "\n",
    "ds_AWG = xr.open_dataset(path + infn)\n",
    "ds_AWG"
   ]
  },
  {
   "cell_type": "code",
   "execution_count": 15,
   "metadata": {},
   "outputs": [
    {
     "name": "stderr",
     "output_type": "stream",
     "text": [
      "100%|██████████| 7755/7755 [2:25:13<00:00,  1.10s/it]  \n"
     ]
    }
   ],
   "source": [
    "# find unique time values of TCD\n",
    "time_key = np.unique(ds_AWG.time)\n",
    "\n",
    "# find all the days there are measurements of TCD\n",
    "full_ind = np.full((daily_sla.shape[0]),False)\n",
    "\n",
    "for tt in range(time_key.shape[0]):\n",
    "    ind = daily_sla.time == time_key[tt]\n",
    "    full_ind = full_ind + ind\n",
    "\n",
    "# take only times where TCD measurements were made\n",
    "sla_TCD = np.array(daily_sla[full_ind,:,:])\n",
    "sla_time = np.array(daily_sla.time[full_ind])\n",
    "\n",
    "xx,yy = np.meshgrid(lon,lat)\n",
    "xx = xx.flatten()\n",
    "yy = yy.flatten()\n",
    "\n",
    "lons= np.array(ds_AWG.lon)\n",
    "lats = np.array(ds_AWG.lat)\n",
    "times = np.array(ds_AWG.time)\n",
    "\n",
    "daily_sla_AWG = np.zeros(len(times))*np.nan\n",
    "lon_AWG = np.zeros(len(times))*np.nan\n",
    "lat_AWG = np.zeros(len(times))*np.nan\n",
    "time_AWG = np.array(ds_AWG.time)\n",
    "\n",
    "for tt in tqdm(range(sla_TCD.shape[0])):\n",
    "    \n",
    "    sla = np.array(sla_TCD[tt,:,:])\n",
    "    indq = times == sla_time[tt]\n",
    "    lonq = lons[indq]\n",
    "    latq = lats[indq]\n",
    "\n",
    "    # find the lons and lats of TCD vals at this time\n",
    "\n",
    "    points = np.array( (xx,yy) ).T\n",
    "    values = sla.flatten()\n",
    "\n",
    "\n",
    "    daily_sla_AWG[indq] = griddata(points, values, (lonq,latq) ,method='linear' )\n",
    "    lon_AWG[indq] = lonq\n",
    "    lat_AWG[indq] = latq\n",
    "\n"
   ]
  },
  {
   "cell_type": "code",
   "execution_count": 18,
   "metadata": {},
   "outputs": [
    {
     "data": {
      "text/plain": [
       "<xarray.Dataset>\n",
       "Dimensions:        (lat: 200, lon: 340, time: 9496, time_AWG: 303903)\n",
       "Coordinates:\n",
       "  * lon            (lon) float64 35.12 35.38 35.62 35.88 ... 119.4 119.6 119.9\n",
       "  * lat            (lat) float64 -19.88 -19.62 -19.38 ... 29.38 29.62 29.88\n",
       "  * time           (time) datetime64[ns] 1994-01-01 1994-01-02 ... 2019-12-31\n",
       "  * time_AWG       (time_AWG) datetime64[ns] 1958-06-01 ... 2020-02-07\n",
       "Data variables:\n",
       "    daily_sla_AWG  (time_AWG) float64 nan nan nan nan nan ... nan nan nan nan\n",
       "    lon_AWG        (time_AWG) float64 nan nan nan nan nan ... nan nan nan nan\n",
       "    lat_AWG        (time_AWG) float64 nan nan nan nan nan ... nan nan nan nan"
      ]
     },
     "execution_count": 18,
     "metadata": {},
     "output_type": "execute_result"
    }
   ],
   "source": [
    "# convert to xarray dataset\n",
    "ds=xr.Dataset(coords={'lon': lon,\n",
    "                    'lat': lat,\n",
    "                    'time': daily_sla.time})\n",
    "\n",
    "# add variables to dataset\n",
    "\n",
    "# AWG\n",
    "ds[\"daily_sla_AWG\"]=xr.DataArray(daily_sla_AWG,dims = ['time_AWG'],\n",
    "                     coords =[time_AWG])\n",
    "ds[\"lon_AWG\"]=xr.DataArray(lon_AWG,dims = ['time_AWG'],\n",
    "                     coords =[time_AWG])\n",
    "ds[\"lat_AWG\"]=xr.DataArray(lat_AWG,dims = ['time_AWG'],\n",
    "                     coords =[time_AWG])\n",
    "\n",
    "ds.to_netcdf('_processed.nc',mode='w',format = \"NETCDF4\")\n",
    "\n",
    "ds"
   ]
  },
  {
   "cell_type": "code",
   "execution_count": 30,
   "metadata": {},
   "outputs": [
    {
     "data": {
      "text/plain": [
       "array([ 0.07522321,  0.05941689,  0.05987612, ..., -0.04433869,\n",
       "       -0.06138302,  0.27052401])"
      ]
     },
     "execution_count": 30,
     "metadata": {},
     "output_type": "execute_result"
    }
   ],
   "source": [
    "daily_sla_AWG[~np.isnan(daily_sla_AWG)]"
   ]
  },
  {
   "cell_type": "code",
   "execution_count": null,
   "metadata": {},
   "outputs": [],
   "source": []
  }
 ],
 "metadata": {
  "kernelspec": {
   "display_name": "Python 3",
   "language": "python",
   "name": "python3"
  },
  "language_info": {
   "codemirror_mode": {
    "name": "ipython",
    "version": 3
   },
   "file_extension": ".py",
   "mimetype": "text/x-python",
   "name": "python",
   "nbconvert_exporter": "python",
   "pygments_lexer": "ipython3",
   "version": "3.7.3"
  }
 },
 "nbformat": 4,
 "nbformat_minor": 2
}
