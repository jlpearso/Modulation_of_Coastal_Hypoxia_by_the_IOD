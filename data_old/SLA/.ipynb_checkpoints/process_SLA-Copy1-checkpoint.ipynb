{
 "cells": [
  {
   "cell_type": "markdown",
   "metadata": {},
   "source": [
    "# Setup"
   ]
  },
  {
   "cell_type": "code",
   "execution_count": 1,
   "metadata": {},
   "outputs": [],
   "source": [
    "# Packages -----------------------------------------------#\n",
    "\n",
    "import os\n",
    "\n",
    "# Data Analysis\n",
    "import xarray as xr\n",
    "import numpy as np\n",
    "import pandas as pd\n",
    "import metpy.calc as mpcalc\n",
    "import matplotlib.dates as dates\n",
    "import matplotlib.pyplot as plt\n",
    "from scipy.interpolate import griddata\n",
    "\n",
    "# Timing Processes and Progress\n",
    "import time\n",
    "from tqdm import tqdm\n",
    "\n",
    "# make sure the figures plot inline rather than at the end\n",
    "%matplotlib inline\n",
    "\n",
    "\n",
    "outfn = 'sla_processed.nc'\n",
    "\n",
    "# get data from tigress\n",
    "path = '/home/jennap/projects/LRGROUP/shared_data/ssh_AVISO/'\n",
    "slainfn = 'all_adt_sla_global_twosat_phy_l4_vDT2018_daily_1994_2020_03_01.nc'\n",
    "\n",
    "ds = xr.open_dataset(path + slainfn)\n",
    "ds\n",
    "#print(ds.keys())\n",
    "\n",
    "# Subset ------------------------------------------------#\n",
    "# Create slice variables to subset domain before finding means\n",
    "lat_slice = slice(-20, 30) # bounds inclusive\n",
    "lon_slice = slice(35, 120) # bounds inclusive\n",
    "time_slice = slice('1994-01-01','2019-05-31')\n",
    "\n",
    "# Get data, selecting lat/lon slice\n",
    "daily_sla = ds['sla'].sel(latitude=lat_slice,longitude=lon_slice, time = time_slice)\n",
    "lat = daily_sla.latitude.values\n",
    "lon = daily_sla.longitude.values\n",
    "\n",
    "# del lat_slice, lon_slice"
   ]
  },
  {
   "cell_type": "code",
   "execution_count": 2,
   "metadata": {},
   "outputs": [
    {
     "data": {
      "text/plain": [
       "<xarray.Dataset>\n",
       "Dimensions:         (bnds: 2, latitude: 720, longitude: 1440, time: 9563)\n",
       "Coordinates:\n",
       "  * time            (time) datetime64[ns] 1994-01-01 1994-01-02 ... 2020-03-07\n",
       "  * longitude       (longitude) float32 0.125 0.375 0.625 ... 359.625 359.875\n",
       "  * latitude        (latitude) float32 -89.875 -89.625 -89.375 ... 89.625 89.875\n",
       "Dimensions without coordinates: bnds\n",
       "Data variables:\n",
       "    longitude_bnds  (longitude, bnds) float32 ...\n",
       "    latitude_bnds   (latitude, bnds) float32 ...\n",
       "    crs             int32 ...\n",
       "    adt             (time, latitude, longitude) float64 ...\n",
       "    sla             (time, latitude, longitude) float64 ...\n",
       "Attributes:\n",
       "    CDI:                             Climate Data Interface version 1.9.8 (ht...\n",
       "    Conventions:                     CF-1.6\n",
       "    history:                         Thu Oct 29 16:12:59 2020: cdo copy -sele...\n",
       "    source:                          Altimetry measurements\n",
       "    institution:                     CLS, CNES\n",
       "    Metadata_Conventions:            Unidata Dataset Discovery v1.0\n",
       "    cdm_data_type:                   Grid\n",
       "    comment:                         Sea Surface Height measured by Altimetry...\n",
       "    contact:                         http://climate.copernicus.eu/c3s-user-se...\n",
       "    creator_email:                   http://climate.copernicus.eu/c3s-user-se...\n",
       "    creator_name:                    Copernicus Climate Change Service (C3S)\n",
       "    creator_url:                     http://climate.copernicus.eu\n",
       "    date_created:                    2019-01-24T17:28:21Z\n",
       "    date_issued:                     2019-01-24T17:28:21Z\n",
       "    date_modified:                   2019-01-24T17:28:21Z\n",
       "    geospatial_lat_max:              89.875\n",
       "    geospatial_lat_min:              -89.875\n",
       "    geospatial_lat_resolution:       0.25\n",
       "    geospatial_lat_units:            degrees_north\n",
       "    geospatial_lon_max:              359.875\n",
       "    geospatial_lon_min:              0.125\n",
       "    geospatial_lon_resolution:       0.25\n",
       "    geospatial_lon_units:            degrees_east\n",
       "    geospatial_vertical_max:         0.0\n",
       "    geospatial_vertical_min:         0.0\n",
       "    geospatial_vertical_positive:    down\n",
       "    geospatial_vertical_resolution:  point\n",
       "    geospatial_vertical_units:       m\n",
       "    keywords:                        Oceans > Ocean Topography > Sea Surface ...\n",
       "    keywords_vocabulary:             NetCDF COARDS Climate and Forecast Stand...\n",
       "    license:                         http://climate.copernicus.eu/c3s-user-se...\n",
       "    platform:                        ERS-1, Topex/Poseidon,\n",
       "    processing_level:                L4\n",
       "    product_version:                 2019\n",
       "    project:                         Copernicus Climate Change Service (C3S)\n",
       "    references:                      http://climate.copernicus.eu\n",
       "    software_version:                6.2_DUACS_DT2018_baseline\n",
       "    ssalto_duacs_comment:            The reference mission used for the altim...\n",
       "    standard_name_vocabulary:        NetCDF Climate and Forecast (CF) Metadat...\n",
       "    summary:                         SSALTO/DUACS Delayed-Time Level-4 sea su...\n",
       "    time_coverage_duration:          P1D\n",
       "    time_coverage_end:               1994-01-01T00:00:00Z\n",
       "    time_coverage_resolution:        P1D\n",
       "    time_coverage_start:             1994-01-01T00:00:00Z\n",
       "    title:                           DT merged two satellites Global Ocean Gr...\n",
       "    CDO:                             Climate Data Operators version 1.9.8 (ht..."
      ]
     },
     "execution_count": 2,
     "metadata": {},
     "output_type": "execute_result"
    }
   ],
   "source": [
    "ds"
   ]
  },
  {
   "cell_type": "markdown",
   "metadata": {},
   "source": [
    "# Detrend SLA\n",
    "\n",
    "Resources: [link](https://ecco-v4-python-tutorial.readthedocs.io/ECCO_v4_Example_calculations_with_scalar_quantities.html), [link](https://groups.google.com/g/xarray/c/fz7HHgpgwk0), [link](https://stackoverflow.com/questions/28647172/numpy-polyfit-doesnt-handle-nan-values), [link](https://stackoverflow.com/questions/28647172/numpy-polyfit-doesnt-handle-nan-values), [link](https://stackoverflow.com/questions/17638137/curve-fitting-to-a-time-series-in-the-format-datetime)\n",
    "\n"
   ]
  },
  {
   "cell_type": "code",
   "execution_count": 3,
   "metadata": {},
   "outputs": [
    {
     "name": "stdout",
     "output_type": "stream",
     "text": [
      "CPU times: user 2h 6min 15s, sys: 5min 21s, total: 2h 11min 36s\n",
      "Wall time: 10min 16s\n"
     ]
    }
   ],
   "source": [
    "%%time\n",
    "\n",
    "# stack lat and lon into a single dimension called allpoints\n",
    "stacked = daily_sla.stack(allpoints=['latitude','longitude'])\n",
    "\n",
    "# set places where there are nans to zero since polyfit can't deal with them\n",
    "stacked_nonan = stacked.fillna(0)\n",
    "\n",
    "# convert date to a number to polyfit can handle it\n",
    "datenum = dates.date2num(stacked_nonan.time)\n",
    "daily_sla_slope, daily_sla_intercept = np.polyfit(datenum, stacked_nonan, 1)\n",
    "\n",
    "#reshape the data\n",
    "daily_sla_slope = np.reshape(daily_sla_slope, daily_sla.shape[1:3])\n",
    "daily_sla_intercept = np.reshape(daily_sla_intercept, daily_sla.shape[1:3])\n",
    "\n",
    "# define a function to compute a linear trend of a timeseries\n",
    "def linear_detrend(y):\n",
    "    x = dates.date2num(y.time)\n",
    "    m, b = np.polyfit(x, y, 1)\n",
    "    # we need to return a dataarray or else xarray's groupby won't be happy\n",
    "    return xr.DataArray(y - (m*x + b))\n",
    "\n",
    "# apply the function over allpoints to calculate the trend at each point\n",
    "daily_sla_dtrnd = stacked_nonan.groupby('allpoints').apply(linear_detrend)\n",
    "# unstack back to lat lon coordinates\n",
    "daily_sla_dtrnd = daily_sla_dtrnd.unstack('allpoints')\n",
    "\n",
    "# fill all points we set originally to zero back to nan\n",
    "daily_sla_dtrnd = daily_sla_dtrnd.where(~np.isnan(daily_sla))"
   ]
  },
  {
   "cell_type": "code",
   "execution_count": 4,
   "metadata": {},
   "outputs": [
    {
     "name": "stderr",
     "output_type": "stream",
     "text": [
      "/home/jennap/anaconda3/lib/python3.7/site-packages/pandas/plotting/_converter.py:129: FutureWarning: Using an implicitly registered datetime converter for a matplotlib plotting method. The converter was registered by pandas on import. Future versions of pandas will require you to explicitly register matplotlib converters.\n",
      "\n",
      "To register the converters:\n",
      "\t>>> from pandas.plotting import register_matplotlib_converters\n",
      "\t>>> register_matplotlib_converters()\n",
      "  warnings.warn(msg, FutureWarning)\n"
     ]
    },
    {
     "data": {
      "text/plain": [
       "<function matplotlib.pyplot.legend(*args, **kwargs)>"
      ]
     },
     "execution_count": 4,
     "metadata": {},
     "output_type": "execute_result"
    },
    {
     "data": {
      "image/png": "[encoded data removed]",
      "text/plain": [
       "<Figure size 432x288 with 1 Axes>"
      ]
     },
     "metadata": {
      "needs_background": "light"
     },
     "output_type": "display_data"
    }
   ],
   "source": [
    "# find global means for comparison\n",
    "stacked = daily_sla.stack(allpoints=['latitude','longitude'])\n",
    "global_mean = stacked.mean(dim='allpoints',skipna=True)\n",
    "global_mean.plot()\n",
    "\n",
    "# find global means for comparison\n",
    "stacked = daily_sla_dtrnd.stack(allpoints=['latitude','longitude'])\n",
    "global_mean_dtrnd = stacked.mean(dim='allpoints',skipna=True)\n",
    "global_mean_dtrnd.plot()\n",
    "plt.legend"
   ]
  },
  {
   "cell_type": "markdown",
   "metadata": {},
   "source": [
    "# Downsample to Monthly and Seasonal Temporal Resolution"
   ]
  },
  {
   "cell_type": "code",
   "execution_count": 5,
   "metadata": {},
   "outputs": [
    {
     "name": "stderr",
     "output_type": "stream",
     "text": [
      "/home/jennap/anaconda3/lib/python3.7/site-packages/xarray/core/nanops.py:161: RuntimeWarning: Mean of empty slice\n",
      "  return np.nanmean(a, axis=axis, dtype=dtype)\n"
     ]
    },
    {
     "name": "stdout",
     "output_type": "stream",
     "text": [
      "CPU times: user 5min 32s, sys: 22.8 s, total: 5min 55s\n",
      "Wall time: 11.9 s\n"
     ]
    }
   ],
   "source": [
    "%%time\n",
    "# monthly\n",
    "mon_sla_dtrnd = daily_sla_dtrnd.resample(time='1MS').mean(dim=\"time\")\n",
    "# seasonal\n",
    "seas_sla_dtrnd = daily_sla_dtrnd.resample(time='QS-DEC').mean(dim=\"time\")"
   ]
  },
  {
   "cell_type": "markdown",
   "metadata": {},
   "source": [
    "# Find Climatologies \n",
    "Resources: [link](http://xarray.pydata.org/en/stable/examples/monthly-means.html)"
   ]
  },
  {
   "cell_type": "code",
   "execution_count": 6,
   "metadata": {},
   "outputs": [
    {
     "name": "stderr",
     "output_type": "stream",
     "text": [
      "/home/jennap/anaconda3/lib/python3.7/site-packages/xarray/core/nanops.py:161: RuntimeWarning: Mean of empty slice\n",
      "  return np.nanmean(a, axis=axis, dtype=dtype)\n"
     ]
    },
    {
     "name": "stdout",
     "output_type": "stream",
     "text": [
      "CPU times: user 1min 33s, sys: 11.5 s, total: 1min 44s\n",
      "Wall time: 15.8 s\n"
     ]
    }
   ],
   "source": [
    "%%time\n",
    "# -------------------------------------------\n",
    "# weighted seasonal\n",
    "# -------------------------------------------\n",
    "\n",
    "# get months\n",
    "month_length = daily_sla_dtrnd.time.dt.days_in_month\n",
    "\n",
    "# calculate the weights by grouping by 'time.season'.\n",
    "weights = month_length.groupby('time.season') / month_length.groupby('time.season').sum()\n",
    "\n",
    "# calculate the weighted average\n",
    "sla_seas_clim_dtrnd = (daily_sla_dtrnd * weights).groupby('time.season').sum(dim='time')   \n",
    "\n",
    "# set the places that are now zero from the weights to nans\n",
    "sla_seas_clim_dtrnd = sla_seas_clim_dtrnd.where(sla_seas_clim_dtrnd != 0,np.nan) # for some reason .where sets the locations not in the condition to nan by default\n",
    "\n",
    "# -------------------------------------------\n",
    "# monthly\n",
    "# -------------------------------------------\n",
    "\n",
    "sla_mon_clim_dtrnd = daily_sla_dtrnd.groupby('time.month').mean('time') "
   ]
  },
  {
   "cell_type": "markdown",
   "metadata": {},
   "source": [
    "# Find Anomalies"
   ]
  },
  {
   "cell_type": "code",
   "execution_count": 7,
   "metadata": {},
   "outputs": [
    {
     "name": "stdout",
     "output_type": "stream",
     "text": [
      "CPU times: user 8.82 s, sys: 1.02 s, total: 9.84 s\n",
      "Wall time: 756 ms\n"
     ]
    }
   ],
   "source": [
    "%%time\n",
    "\n",
    "# # daily data - monthly climatology\n",
    "# daily_sla_mon_anom_dtrnd = daily_sla_dtrnd.groupby('time.month') - sla_mon_clim_dtrnd\n",
    "\n",
    "# monthly avg data - monthly climatology\n",
    "mon_sla_mon_anom_dtrnd = mon_sla_dtrnd.groupby('time.month') - sla_mon_clim_dtrnd\n",
    "\n",
    "# # monthly avg data - seasonal climatology\n",
    "# seas_sla_mon_anom_dtrnd = mon_sla_dtrnd.groupby('time.season') - sla_seas_clim_dtrnd\n",
    "\n",
    "# seasonal avg data - seasonal climatology\n",
    "seas_sla_seas_anom_dtrnd = mon_sla_dtrnd.groupby('time.season') - sla_seas_clim_dtrnd"
   ]
  },
  {
   "cell_type": "code",
   "execution_count": 9,
   "metadata": {},
   "outputs": [
    {
     "data": {
      "text/plain": [
       "<xarray.Dataset>\n",
       "Dimensions:           (lat: 200, latitude: 200, lon: 340, longitude: 340, month: 12, time: 305)\n",
       "Coordinates:\n",
       "  * longitude         (longitude) float64 35.12 35.38 35.62 ... 119.6 119.9\n",
       "  * latitude          (latitude) float64 -19.88 -19.62 -19.38 ... 29.62 29.88\n",
       "  * lon               (lon) float64 35.12 35.38 35.62 ... 119.4 119.6 119.9\n",
       "  * lat               (lat) float64 -19.88 -19.62 -19.38 ... 29.38 29.62 29.88\n",
       "  * time              (time) datetime64[ns] 1994-01-01 1994-02-01 ... 2019-05-01\n",
       "  * month             (month) int64 1 2 3 4 5 6 7 8 9 10 11 12\n",
       "Data variables:\n",
       "    mon_sla           (time, lat, lon) float64 0.03066 0.01381 ... nan nan\n",
       "    sla_mon_clim      (month, lat, lon) float64 0.03301 0.02829 ... nan nan\n",
       "    mon_sla_mon_anom  (time, lat, lon) float64 -0.002358 -0.01448 ... nan nan"
      ]
     },
     "execution_count": 9,
     "metadata": {},
     "output_type": "execute_result"
    }
   ],
   "source": [
    "# convert to xarray dataset\n",
    "ds=xr.Dataset(coords={'lon': mon_sla_dtrnd.longitude,\n",
    "                    'lat': mon_sla_dtrnd.latitude,\n",
    "                    'time': mon_sla_dtrnd.time})\n",
    "\n",
    "# add variables to dataset\n",
    "\n",
    "# ds[\"daily_sla\"]=(['time','lat', 'lon'],  daily_sla_dtrnd)\n",
    "ds[\"mon_sla\"]=xr.DataArray(mon_sla_dtrnd,dims = ['time','lat', 'lon'],\n",
    "                     coords =[mon_sla_dtrnd.time,daily_sla_dtrnd.latitude,daily_sla_dtrnd.longitude])\n",
    "# ds[\"seas_sla\"]=xr.DataArray(seas_sla_dtrnd,dims = ['season_time','lat', 'lon'],\n",
    "#                      coords =[seas_sla_dtrnd.time,daily_sla_dtrnd.latitude,daily_sla_dtrnd.longitude])\n",
    "\n",
    "# clim\n",
    "ds[\"sla_mon_clim\"]=xr.DataArray(sla_mon_clim_dtrnd,dims = ['month','lat', 'lon'],\n",
    "                     coords =[sla_mon_clim_dtrnd.month,daily_sla_dtrnd.latitude,daily_sla_dtrnd.longitude])\n",
    "# ds[\"sla_seas_clim\"]=xr.DataArray(sla_seas_clim_dtrnd,dims = ['season','lat', 'lon'],\n",
    "#                      coords =[sla_seas_clim_dtrnd.season,daily_sla_dtrnd.latitude,daily_sla_dtrnd.longitude])\n",
    "\n",
    "# anom\n",
    "ds[\"mon_sla_mon_anom\"]=xr.DataArray(mon_sla_mon_anom_dtrnd,dims = ['time','lat', 'lon'],\n",
    "                     coords =[mon_sla_mon_anom_dtrnd.time,daily_sla_dtrnd.latitude,daily_sla_dtrnd.longitude])\n",
    "# ds[\"seas_sla_seas_anom\"]=xr.DataArray(seas_sla_seas_anom_dtrnd,dims = ['season_time','lat', 'lon'],\n",
    "#                      coords =[seas_sla_seas_anom_dtrnd.time,daily_sla_dtrnd.latitude,daily_sla_dtrnd.longitude])\n",
    "\n",
    "# delete if already present\n",
    "if os.path.isfile(outfn):\n",
    "    os.remove(outfn)\n",
    "\n",
    "ds.to_netcdf(outfn,mode='w',format = \"NETCDF4\")\n",
    "ds"
   ]
  },
  {
   "cell_type": "code",
   "execution_count": null,
   "metadata": {},
   "outputs": [],
   "source": []
  }
 ],
 "metadata": {
  "kernelspec": {
   "display_name": "Python 3",
   "language": "python",
   "name": "python3"
  },
  "language_info": {
   "codemirror_mode": {
    "name": "ipython",
    "version": 3
   },
   "file_extension": ".py",
   "mimetype": "text/x-python",
   "name": "python",
   "nbconvert_exporter": "python",
   "pygments_lexer": "ipython3",
   "version": "3.7.3"
  }
 },
 "nbformat": 4,
 "nbformat_minor": 2
}
