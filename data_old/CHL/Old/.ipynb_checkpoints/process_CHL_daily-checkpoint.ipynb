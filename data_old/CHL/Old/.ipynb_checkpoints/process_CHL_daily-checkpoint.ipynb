{
 "cells": [
  {
   "cell_type": "markdown",
   "metadata": {},
   "source": [
    "# Setup"
   ]
  },
  {
   "cell_type": "code",
   "execution_count": null,
   "metadata": {},
   "outputs": [],
   "source": [
    "# Packages -----------------------------------------------#\n",
    "\n",
    "# Data Analysis\n",
    "import xarray as xr\n",
    "import numpy as np\n",
    "import pandas as pd\n",
    "import metpy.calc as mpcalc\n",
    "import matplotlib.dates as dates\n",
    "import matplotlib.pyplot as plt\n",
    "from scipy.interpolate import griddata\n",
    "\n",
    "# Timing Processes and Progress\n",
    "import time\n",
    "from tqdm import tqdm\n",
    "\n",
    "# make sure the figures plot inline rather than at the end\n",
    "%matplotlib inline\n",
    "\n",
    "# get data\n",
    "path = '/home/jennap/projects/LRGROUP/shared_data/chl-globcolor-100km-case-1-and-case-2-waters/concatenated-monthly/'\n",
    "chlinfn = 'all_L3m_AV_CHL1_100km_global_monthly_merged_1997_2020.nc'\n",
    "\n",
    "ds = xr.open_dataset(path + chlinfn)\n",
    "ds\n",
    "# ds.chl1_mean.attrs[\"units\"]\n",
    "# # print(ds.keys())\n",
    "\n",
    "# Subset ------------------------------------------------#\n",
    "# Create slice variables to subset domain before finding means\n",
    "lat_slice = slice(-20, 30) # bounds inclusive\n",
    "lon_slice = slice(35, 120) # bounds inclusive\n",
    "time_slice = slice('1993-01-01','2012-12-31')\n",
    "\n",
    "# Get data, selecting lat/lon slice\n",
    "daily_chl = ds['chl1_mean'].sel(lat=lat_slice,lon=lon_slice)\n",
    "lat = daily_chl.lat.values\n",
    "lon = daily_chl.lon.values\n",
    "\n",
    "del lat_slice, lon_slice"
   ]
  },
  {
   "cell_type": "markdown",
   "metadata": {},
   "source": [
    "# 1993-2012 anomaly"
   ]
  },
  {
   "cell_type": "code",
   "execution_count": null,
   "metadata": {},
   "outputs": [],
   "source": [
    "mchl = daily_chl.sel(latitude=lat_slice,longitude=lon_slice, time = time_slice).mean(axis=0,skipna=True)\n",
    "mon_chl = mon_chl - np.nanmean(mon_chl,0)"
   ]
  },
  {
   "cell_type": "markdown",
   "metadata": {},
   "source": [
    "# Detrend"
   ]
  },
  {
   "cell_type": "code",
   "execution_count": null,
   "metadata": {},
   "outputs": [],
   "source": [
    "# yearly\n",
    "mon_chl_year_clim = mon_chl.groupby('time.year').mean('time')\n"
   ]
  },
  {
   "cell_type": "code",
   "execution_count": null,
   "metadata": {},
   "outputs": [],
   "source": [
    "%%time\n",
    "\n",
    "# stack lat and lon into a single dimension called allpoints\n",
    "stacked = mon_chl.stack(allpoints=['lat','lon'])\n",
    "\n",
    "# set places where there are nans to zero since polyfit can't deal with them\n",
    "stacked_nonan = stacked.fillna(0)\n",
    "\n",
    "# convert date to a number to polyfit can handle it\n",
    "datenum = dates.date2num(stacked_nonan.time)\n",
    "mon_chl_slope, mon_chl_intercept = np.polyfit(datenum, stacked_nonan, 1)\n",
    "\n",
    "#reshape the data\n",
    "mon_chl_slope = np.reshape(mon_chl_slope, mon_chl.shape[1:3])\n",
    "mon_chl_intercept = np.reshape(mon_chl_intercept, mon_chl.shape[1:3])\n",
    "\n",
    "# define a function to compute a linear trend of a timeseries\n",
    "def linear_detrend(y):\n",
    "    x = dates.date2num(y.time)\n",
    "    m, b = np.polyfit(x, y, 1)\n",
    "    # we need to return a dataarray or else xarray's groupby won't be happy\n",
    "    return xr.DataArray(y - (m*x + b))\n",
    "\n",
    "# apply the function over allpoints to calculate the trend at each point\n",
    "mon_chl_dtrnd = stacked_nonan.groupby('allpoints').apply(linear_detrend)\n",
    "# unstack back to lat lon coordinates\n",
    "mon_chl_dtrnd = mon_chl_dtrnd.unstack('allpoints')\n",
    "\n",
    "# fill all points we set originally to zero back to nan\n",
    "mon_chl_dtrnd = mon_chl_dtrnd.where(~np.isnan(mon_chl))\n",
    "\n",
    "# delete trended data to save on memory\n",
    "del mon_chl,ds, stacked, stacked_nonan"
   ]
  },
  {
   "cell_type": "code",
   "execution_count": null,
   "metadata": {},
   "outputs": [],
   "source": [
    "mon_chl_year_clim_dtrnd = mon_chl_dtrnd.groupby('time.year').mean('time')\n",
    "\n",
    "var = mon_chl_year_clim-mon_chl_year_clim_dtrnd\n",
    "\n",
    "years = list(range(1997,2021))\n",
    "\n",
    "p = var.plot.pcolormesh(x=\"lon\", y=\"lat\", col=\"year\", col_wrap=5,\n",
    "                                        cmap=\"coolwarm\",\n",
    "                                        vmax=0.1,vmin=-0.1, # set colorbar lims\n",
    "                                        extend = 'neither', # make a box colorbar rather than pointed\n",
    "                                        figsize = (14, 12),\n",
    "                                        cbar_kwargs={\"label\": \"Chlorophyll-a Anomaly (mg/m^3)\"},\n",
    "                                        subplot_kws={'facecolor': 'gray'}\n",
    "                                       )\n",
    "\n",
    "for ii, ax in enumerate(p.axes.flat):\n",
    "    if ii < len(years):\n",
    "        ax.set_title(years[ii])\n",
    "        ax.axes.axis('tight')\n",
    "\n",
    "p.set_xlabels('Longitude')\n",
    "p.set_ylabels('Latitude')"
   ]
  },
  {
   "cell_type": "markdown",
   "metadata": {},
   "source": [
    "# Downsample to Monthly and Seasonal Temporal Resolution"
   ]
  },
  {
   "cell_type": "code",
   "execution_count": null,
   "metadata": {},
   "outputs": [],
   "source": [
    "%%time\n",
    "# monthly\n",
    "mon_chl_dtrnd = daily_chl_dtrnd.resample(time='1MS').mean(dim=\"time\")\n",
    "# seasonal\n",
    "seas_chl_dtrnd = mon_chl_dtrnd.resample(time='QS-DEC').mean(dim=\"time\")"
   ]
  },
  {
   "cell_type": "markdown",
   "metadata": {},
   "source": [
    "# Find Climatologies \n",
    "Resources: [link](http://xarray.pydata.org/en/stable/examples/monthly-means.html)"
   ]
  },
  {
   "cell_type": "code",
   "execution_count": null,
   "metadata": {},
   "outputs": [],
   "source": [
    "%%time\n",
    "# -------------------------------------------\n",
    "# weighted seasonal\n",
    "# -------------------------------------------\n",
    "\n",
    "# get months\n",
    "month_length = mon_chl_dtrnd.time.dt.days_in_month\n",
    "\n",
    "# calculate the weights by grouping by 'time.season'.\n",
    "weights = month_length.groupby('time.season') / month_length.groupby('time.season').sum()\n",
    "\n",
    "# calculate the weighted average\n",
    "chl_seas_clim = (mon_chl_dtrnd * weights).groupby('time.season').sum(dim='time')   \n",
    "\n",
    "# set the places that are now zero from the weights to nans\n",
    "chl_seas_clim = chl_seas_clim.where(chl_seas_clim != 0,np.nan) # for some reason .where sets the locations not in the condition to nan by default\n",
    "\n",
    "# -------------------------------------------\n",
    "# monthly\n",
    "# -------------------------------------------\n",
    "\n",
    "chl_mon_clim = mon_chl_dtrnd.groupby('time.month').mean('time') "
   ]
  },
  {
   "cell_type": "markdown",
   "metadata": {},
   "source": [
    "# Find Anomalies"
   ]
  },
  {
   "cell_type": "code",
   "execution_count": null,
   "metadata": {},
   "outputs": [],
   "source": [
    "%%time\n",
    "# monthly avg data - monthly climatology\n",
    "mon_chl_mon_anom = mon_chl_dtrnd.groupby('time.month') - chl_mon_clim\n",
    "\n",
    "# seasonal avg data - seasonal climatology\n",
    "seas_chl_seas_anom = mon_chl_dtrnd.groupby('time.season') - chl_seas_clim"
   ]
  },
  {
   "cell_type": "code",
   "execution_count": null,
   "metadata": {},
   "outputs": [],
   "source": [
    "# convert to xarray dataset\n",
    "ds=xr.Dataset(coords={'lon': mon_chl_dtrnd.lon,\n",
    "                    'lat': mon_chl_dtrnd.lat,\n",
    "                    'time': mon_chl_dtrnd.time})\n",
    "\n",
    "# add variables to dataset\n",
    "\n",
    "ds[\"mon_chl\"]=xr.DataArray(mon_chl_dtrnd,dims = ['time','lat', 'lon'],\n",
    "                     coords =[mon_chl_dtrnd.time,mon_chl_dtrnd.lat,mon_chl_dtrnd.lon])\n",
    "ds[\"seas_chl\"]=xr.DataArray(seas_chl,dims = ['season_time','lat', 'lon'],\n",
    "                     coords =[seas_chl.time,mon_chl_dtrnd.lat,mon_chl_dtrnd.lon])\n",
    "\n",
    "# clim\n",
    "ds[\"chl_mon_clim\"]=xr.DataArray(chl_mon_clim,dims = ['month','lat', 'lon'],\n",
    "                     coords =[chl_mon_clim.month,mon_chl_dtrnd.lat,mon_chl_dtrnd.lon])\n",
    "ds[\"chl_seas_clim\"]=xr.DataArray(chl_seas_clim,dims = ['season','lat', 'lon'],\n",
    "                     coords =[chl_seas_clim.season,mon_chl_dtrnd.lat,mon_chl_dtrnd.lon])\n",
    "\n",
    "\n",
    "# anom\n",
    "ds[\"mon_chl_mon_anom\"]=xr.DataArray(mon_chl_mon_anom,dims = ['time','lat', 'lon'],\n",
    "                     coords =[mon_chl_mon_anom.time,mon_chl_dtrnd.lat,mon_chl_dtrnd.lon])\n",
    "ds[\"seas_chl_seas_anom\"]=xr.DataArray(seas_chl_seas_anom,dims = ['season_time','lat', 'lon'],\n",
    "                     coords =[seas_chl_seas_anom.time,mon_chl_dtrnd.lat,mon_chl_dtrnd.lon])\n"
   ]
  },
  {
   "cell_type": "code",
   "execution_count": null,
   "metadata": {},
   "outputs": [],
   "source": [
    "import os\n",
    "\n",
    "outfn = chlinfn[:-3] + '_processed.nc'\n",
    "\n",
    "# delete if already present\n",
    "if os.path.isfile(outfn):\n",
    "    os.remove(outfn)\n",
    "\n",
    "ds.to_netcdf(outfn,mode='w',format = \"NETCDF4\")\n",
    "\n",
    "ds"
   ]
  },
  {
   "cell_type": "code",
   "execution_count": null,
   "metadata": {},
   "outputs": [],
   "source": []
  }
 ],
 "metadata": {
  "kernelspec": {
   "display_name": "Python 3",
   "language": "python",
   "name": "python3"
  },
  "language_info": {
   "codemirror_mode": {
    "name": "ipython",
    "version": 3
   },
   "file_extension": ".py",
   "mimetype": "text/x-python",
   "name": "python",
   "nbconvert_exporter": "python",
   "pygments_lexer": "ipython3",
   "version": "3.7.3"
  }
 },
 "nbformat": 4,
 "nbformat_minor": 2
}
