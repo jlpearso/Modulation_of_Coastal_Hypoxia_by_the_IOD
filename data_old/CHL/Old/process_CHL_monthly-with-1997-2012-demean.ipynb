{
 "cells": [
  {
   "cell_type": "markdown",
   "metadata": {},
   "source": [
    "# Setup"
   ]
  },
  {
   "cell_type": "code",
   "execution_count": 1,
   "metadata": {},
   "outputs": [
    {
     "data": {
      "text/plain": [
       "<xarray.Dataset>\n",
       "Dimensions:    (lat: 180, lon: 360, time: 278)\n",
       "Coordinates:\n",
       "  * lat        (lat) float64 -89.5 -88.5 -87.5 -86.5 ... 86.5 87.5 88.5 89.5\n",
       "  * lon        (lon) float64 0.5 1.5 2.5 3.5 4.5 ... 356.5 357.5 358.5 359.5\n",
       "  * time       (time) datetime64[ns] 1997-09-01 1997-10-01 ... 2020-10-01\n",
       "Data variables:\n",
       "    chl1_mean  (time, lat, lon) float64 ...\n",
       "Attributes:\n",
       "    data_source:    http://hermes.acri.fr/index.php?class=archive\n",
       "    creator:        Jenna Pearson\n",
       "    timespan:       1997-2020\n",
       "    creation_date:  27-Nov-2020 13:58:24"
      ]
     },
     "execution_count": 1,
     "metadata": {},
     "output_type": "execute_result"
    }
   ],
   "source": [
    "# Packages -----------------------------------------------#\n",
    "\n",
    "# Data Analysis\n",
    "import xarray as xr\n",
    "import numpy as np\n",
    "import pandas as pd\n",
    "import metpy.calc as mpcalc\n",
    "import matplotlib.dates as dates\n",
    "import matplotlib.pyplot as plt\n",
    "from scipy.interpolate import griddata\n",
    "\n",
    "# Timing Processes and Progress\n",
    "import time\n",
    "from tqdm import tqdm\n",
    "\n",
    "# make sure the figures plot inline rather than at the end\n",
    "%matplotlib inline\n",
    "\n",
    "# get data\n",
    "resolution = '100km'\n",
    "path = '/home/jennap/projects/LRGROUP/shared_data/chl-globcolor-case-1-and-case-2-waters/concatenated/Old/'\n",
    "chlinfn = 'all_L3m_AV_CHL1_' + resolution + '_global_monthly_merged_1997_2020.nc'\n",
    "ds = xr.open_dataset(path + chlinfn)\n",
    "ds\n",
    "# ds.chl1_mean.attrs[\"units\"]\n",
    "# # print(ds.keys())\n",
    "\n"
   ]
  },
  {
   "cell_type": "code",
   "execution_count": 2,
   "metadata": {},
   "outputs": [
    {
     "data": {
      "text/plain": [
       "<xarray.DataArray 'chl1_mean' (time: 278, lat: 50, lon: 85)>\n",
       "[1181500 values with dtype=float64]\n",
       "Coordinates:\n",
       "  * lat      (lat) float64 -19.5 -18.5 -17.5 -16.5 -15.5 ... 26.5 27.5 28.5 29.5\n",
       "  * lon      (lon) float64 35.5 36.5 37.5 38.5 39.5 ... 116.5 117.5 118.5 119.5\n",
       "  * time     (time) datetime64[ns] 1997-09-01 1997-10-01 ... 2020-10-01\n",
       "Attributes:\n",
       "    long_name:      concentration of chlorophyll-a in sea water\n",
       "    units:          mg/m3\n",
       "    cell_methods:   area:mean yh:mean xh:mean time: mean\n",
       "    cell_measures:  area: area_t\n",
       "    time_avg_info:  average_T1,average_T2,average_DT"
      ]
     },
     "execution_count": 2,
     "metadata": {},
     "output_type": "execute_result"
    }
   ],
   "source": [
    "# Subset ------------------------------------------------#\n",
    "# Create slice variables to subset domain before finding means\n",
    "lat_slice = slice(-20, 30) # bounds inclusive\n",
    "lon_slice = slice(35, 120) # bounds inclusive\n",
    "\n",
    "# Get data, selecting lat/lon slice\n",
    "mon_chl = ds['chl1_mean'].sel(lat=lat_slice,lon=lon_slice)\n",
    "lat = mon_chl.lat.values\n",
    "lon = mon_chl.lon.values\n",
    "mon_chl"
   ]
  },
  {
   "cell_type": "markdown",
   "metadata": {},
   "source": [
    "# 1993-2012 anomaly"
   ]
  },
  {
   "cell_type": "code",
   "execution_count": 3,
   "metadata": {},
   "outputs": [
    {
     "name": "stderr",
     "output_type": "stream",
     "text": [
      "/home/jennap/anaconda3/lib/python3.7/site-packages/xarray/core/nanops.py:161: RuntimeWarning: Mean of empty slice\n",
      "  return np.nanmean(a, axis=axis, dtype=dtype)\n",
      "/home/jennap/anaconda3/lib/python3.7/site-packages/ipykernel_launcher.py:3: RuntimeWarning: Mean of empty slice\n",
      "  This is separate from the ipykernel package so we can avoid doing imports until\n"
     ]
    }
   ],
   "source": [
    "time_slice = slice('1993-01-01','2012-12-31')\n",
    "mchl = mon_chl.sel(lat=lat_slice,lon=lon_slice, time = time_slice).mean(axis=0,skipna=True)\n",
    "mon_chla = mon_chl - np.nanmean(mon_chl,0)"
   ]
  },
  {
   "cell_type": "markdown",
   "metadata": {},
   "source": [
    "# Detrend"
   ]
  },
  {
   "cell_type": "code",
   "execution_count": 4,
   "metadata": {},
   "outputs": [],
   "source": [
    "# stack lat and lon into a single dimension called allpoints\n",
    "stacked = mon_chl.stack(allpoints=['lat','lon'])\n",
    "# set places where there are nans to zero since polyfit can't deal with them\n",
    "stacked_nonan = stacked.fillna(0)\n",
    "\n",
    "# convert date to a number to polyfit can handle it\n",
    "datenum = dates.date2num(stacked_nonan.time)\n",
    "mon_chl_slope, mon_chl_intercept = np.polyfit(datenum, stacked_nonan, 1)\n",
    "\n",
    "#reshape the data\n",
    "mon_chl_slope = np.reshape(mon_chl_slope, mon_chl.shape[1:3])\n",
    "mon_chl_intercept = np.reshape(mon_chl_intercept, mon_chl.shape[1:3])\n",
    "\n",
    "# define a function to compute a linear trend of a timeseries\n",
    "def linear_detrend(y):\n",
    "    x = dates.date2num(y.time)\n",
    "    m, b = np.polyfit(x, y, 1)\n",
    "    # we need to return a dataarray or else xarray's groupby won't be happy\n",
    "    return xr.DataArray(y - (m*x + b))\n",
    "\n",
    "# apply the function over allpoints to calculate the trend at each point\n",
    "mon_chl_dtrnd = stacked_nonan.groupby('allpoints').apply(linear_detrend)\n",
    "# unstack back to lat lon coordinates\n",
    "mon_chl_dtrnd = mon_chl_dtrnd.unstack('allpoints')\n",
    "\n",
    "# fill all points we set originally to zero back to nan\n",
    "mon_chl_dtrnd = mon_chl_dtrnd.where(~np.isnan(mon_chl))\n",
    "mon_chl_dtrnd = mon_chl"
   ]
  },
  {
   "cell_type": "code",
   "execution_count": 5,
   "metadata": {},
   "outputs": [
    {
     "name": "stdout",
     "output_type": "stream",
     "text": [
      "CPU times: user 4min 2s, sys: 9.49 s, total: 4min 12s\n",
      "Wall time: 9.9 s\n"
     ]
    }
   ],
   "source": [
    "%%time\n",
    "\n",
    "# stack lat and lon into a single dimension called allpoints\n",
    "stacked = mon_chla.stack(allpoints=['lat','lon'])\n",
    "# set places where there are nans to zero since polyfit can't deal with them\n",
    "stacked_nonan = stacked.fillna(0)\n",
    "\n",
    "# convert date to a number to polyfit can handle it\n",
    "datenum = dates.date2num(stacked_nonan.time)\n",
    "mon_chla_slope, mon_chla_intercept = np.polyfit(datenum, stacked_nonan, 1)\n",
    "\n",
    "#reshape the data\n",
    "mon_chla_slope = np.reshape(mon_chla_slope, mon_chla.shape[1:3])\n",
    "mon_chla_intercept = np.reshape(mon_chla_intercept, mon_chla.shape[1:3])\n",
    "\n",
    "# define a function to compute a linear trend of a timeseries\n",
    "def linear_detrend(y):\n",
    "    x = dates.date2num(y.time)\n",
    "    m, b = np.polyfit(x, y, 1)\n",
    "    # we need to return a dataarray or else xarray's groupby won't be happy\n",
    "    return xr.DataArray(y - (m*x + b))\n",
    "\n",
    "# apply the function over allpoints to calculate the trend at each point\n",
    "mon_chla_dtrnd = stacked_nonan.groupby('allpoints').apply(linear_detrend)\n",
    "# unstack back to lat lon coordinates\n",
    "mon_chla_dtrnd = mon_chla_dtrnd.unstack('allpoints')\n",
    "\n",
    "# fill all points we set originally to zero back to nan\n",
    "mon_chla_dtrnd = mon_chla_dtrnd.where(~np.isnan(mon_chla))\n",
    "mon_chla_dtrnd = mon_chla"
   ]
  },
  {
   "cell_type": "code",
   "execution_count": 6,
   "metadata": {},
   "outputs": [
    {
     "name": "stderr",
     "output_type": "stream",
     "text": [
      "/home/jennap/anaconda3/lib/python3.7/site-packages/pandas/plotting/_converter.py:129: FutureWarning: Using an implicitly registered datetime converter for a matplotlib plotting method. The converter was registered by pandas on import. Future versions of pandas will require you to explicitly register matplotlib converters.\n",
      "\n",
      "To register the converters:\n",
      "\t>>> from pandas.plotting import register_matplotlib_converters\n",
      "\t>>> register_matplotlib_converters()\n",
      "  warnings.warn(msg, FutureWarning)\n"
     ]
    },
    {
     "data": {
      "text/plain": [
       "<function matplotlib.pyplot.legend(*args, **kwargs)>"
      ]
     },
     "execution_count": 6,
     "metadata": {},
     "output_type": "execute_result"
    },
    {
     "data": {
      "image/png": "[encoded data removed]",
      "text/plain": [
       "<Figure size 432x288 with 1 Axes>"
      ]
     },
     "metadata": {
      "needs_background": "light"
     },
     "output_type": "display_data"
    }
   ],
   "source": [
    "# find global means for comparison\n",
    "stacked = mon_chla.stack(allpoints=['lat','lon'])\n",
    "global_mean = stacked.mean(dim='allpoints',skipna=True)\n",
    "global_mean.plot()\n",
    "\n",
    "# find global means for comparison\n",
    "stacked = mon_chla_dtrnd.stack(allpoints=['lat','lon'])\n",
    "global_mean_dtrnd = stacked.mean(dim='allpoints',skipna=True)\n",
    "global_mean_dtrnd.plot()\n",
    "plt.legend"
   ]
  },
  {
   "cell_type": "markdown",
   "metadata": {},
   "source": [
    "# Downsample to Monthly and Seasonal Temporal Resolution"
   ]
  },
  {
   "cell_type": "code",
   "execution_count": 7,
   "metadata": {},
   "outputs": [
    {
     "name": "stdout",
     "output_type": "stream",
     "text": [
      "CPU times: user 1.11 s, sys: 46.7 ms, total: 1.15 s\n",
      "Wall time: 28.9 ms\n"
     ]
    },
    {
     "name": "stderr",
     "output_type": "stream",
     "text": [
      "/home/jennap/anaconda3/lib/python3.7/site-packages/xarray/core/nanops.py:161: RuntimeWarning: Mean of empty slice\n",
      "  return np.nanmean(a, axis=axis, dtype=dtype)\n"
     ]
    }
   ],
   "source": [
    "%%time\n",
    "# monthly\n",
    "# mon_chla_dtrnd = daily_chla_dtrnd.resample(time='1MS').mean(dim=\"time\")\n",
    "# seasonal\n",
    "seas_chla_dtrnd = mon_chla_dtrnd.resample(time='QS-DEC').mean(dim=\"time\")"
   ]
  },
  {
   "cell_type": "markdown",
   "metadata": {},
   "source": [
    "# Find Climatologies \n",
    "Resources: [link](http://xarray.pydata.org/en/stable/examples/monthly-means.html)"
   ]
  },
  {
   "cell_type": "code",
   "execution_count": 8,
   "metadata": {},
   "outputs": [
    {
     "name": "stdout",
     "output_type": "stream",
     "text": [
      "CPU times: user 1.26 s, sys: 58.6 ms, total: 1.32 s\n",
      "Wall time: 58.2 ms\n"
     ]
    },
    {
     "name": "stderr",
     "output_type": "stream",
     "text": [
      "/home/jennap/anaconda3/lib/python3.7/site-packages/xarray/core/nanops.py:161: RuntimeWarning: Mean of empty slice\n",
      "  return np.nanmean(a, axis=axis, dtype=dtype)\n"
     ]
    }
   ],
   "source": [
    "%%time\n",
    "# -------------------------------------------\n",
    "# weighted seasonal\n",
    "# -------------------------------------------\n",
    "\n",
    "# get months\n",
    "month_length = mon_chla_dtrnd.time.dt.days_in_month\n",
    "\n",
    "# calculate the weights by grouping by 'time.season'.\n",
    "weights = month_length.groupby('time.season') / month_length.groupby('time.season').sum()\n",
    "\n",
    "# calculate the weighted average\n",
    "chla_seas_clim = (mon_chla_dtrnd * weights).groupby('time.season').sum(dim='time')   \n",
    "\n",
    "# set the places that are now zero from the weights to nans\n",
    "chla_seas_clim = chla_seas_clim.where(chla_seas_clim != 0,np.nan) # for some reason .where sets the locations not in the condition to nan by default\n",
    "\n",
    "# -------------------------------------------\n",
    "# monthly\n",
    "# -------------------------------------------\n",
    "\n",
    "chla_mon_clim = mon_chla_dtrnd.groupby('time.month').mean('time') "
   ]
  },
  {
   "cell_type": "markdown",
   "metadata": {},
   "source": [
    "# Find Anomalies"
   ]
  },
  {
   "cell_type": "code",
   "execution_count": 9,
   "metadata": {},
   "outputs": [
    {
     "name": "stdout",
     "output_type": "stream",
     "text": [
      "CPU times: user 1.81 s, sys: 62 ms, total: 1.87 s\n",
      "Wall time: 71.9 ms\n"
     ]
    }
   ],
   "source": [
    "%%time\n",
    "# monthly avg data - monthly climatology\n",
    "mon_chla_mon_anom = mon_chla_dtrnd.groupby('time.month') - chla_mon_clim\n",
    "\n",
    "# seasonal avg data - seasonal climatology\n",
    "seas_chla_seas_anom = seas_chla_dtrnd.groupby('time.season') - chla_seas_clim"
   ]
  },
  {
   "cell_type": "code",
   "execution_count": 10,
   "metadata": {},
   "outputs": [],
   "source": [
    "# convert to xarray dataset\n",
    "ds=xr.Dataset(coords={'lon': mon_chla_dtrnd.lon,\n",
    "                    'lat': mon_chla_dtrnd.lat,\n",
    "                    'time': mon_chla_dtrnd.time})\n",
    "\n",
    "# add variables to dataset\n",
    "\n",
    "ds[\"mon_chl\"]=xr.DataArray(mon_chl_dtrnd,dims = ['time','lat', 'lon'],\n",
    "                     coords =[mon_chla_dtrnd.time,mon_chla_dtrnd.lat,mon_chla_dtrnd.lon])\n",
    "\n",
    "ds[\"mon_chla\"]=xr.DataArray(mon_chla_dtrnd,dims = ['time','lat', 'lon'],\n",
    "                     coords =[mon_chla_dtrnd.time,mon_chla_dtrnd.lat,mon_chla_dtrnd.lon])\n",
    "ds[\"seas_chla\"]=xr.DataArray(seas_chla_dtrnd,dims = ['season_time','lat', 'lon'],\n",
    "                     coords =[seas_chla_dtrnd.time,mon_chla_dtrnd.lat,mon_chla_dtrnd.lon])\n",
    "\n",
    "# clim\n",
    "ds[\"chla_mon_clim\"]=xr.DataArray(chla_mon_clim,dims = ['month','lat', 'lon'],\n",
    "                     coords =[chla_mon_clim.month,mon_chla_dtrnd.lat,mon_chla_dtrnd.lon])\n",
    "ds[\"chla_seas_clim\"]=xr.DataArray(chla_seas_clim,dims = ['season','lat', 'lon'],\n",
    "                     coords =[chla_seas_clim.season,mon_chla_dtrnd.lat,mon_chla_dtrnd.lon])\n",
    "\n",
    "\n",
    "# anom\n",
    "ds[\"mon_chla_mon_anom\"]=xr.DataArray(mon_chla_mon_anom,dims = ['time','lat', 'lon'],\n",
    "                     coords =[mon_chla_mon_anom.time,mon_chla_dtrnd.lat,mon_chla_dtrnd.lon])\n",
    "ds[\"seas_chla_seas_anom\"]=xr.DataArray(seas_chla_seas_anom,dims = ['season_time','lat', 'lon'],\n",
    "                     coords =[seas_chla_seas_anom.time,mon_chla_dtrnd.lat,mon_chla_dtrnd.lon])\n"
   ]
  },
  {
   "cell_type": "code",
   "execution_count": 11,
   "metadata": {},
   "outputs": [
    {
     "data": {
      "text/plain": [
       "<xarray.Dataset>\n",
       "Dimensions:              (lat: 50, lon: 85, month: 12, season: 4, season_time: 93, time: 278)\n",
       "Coordinates:\n",
       "  * lon                  (lon) float64 35.5 36.5 37.5 38.5 ... 117.5 118.5 119.5\n",
       "  * lat                  (lat) float64 -19.5 -18.5 -17.5 ... 27.5 28.5 29.5\n",
       "  * time                 (time) datetime64[ns] 1997-09-01 ... 2020-10-01\n",
       "  * season_time          (season_time) datetime64[ns] 1997-09-01 ... 2020-09-01\n",
       "  * month                (month) int64 1 2 3 4 5 6 7 8 9 10 11 12\n",
       "  * season               (season) object 'DJF' 'JJA' 'MAM' 'SON'\n",
       "Data variables:\n",
       "    mon_chl              (time, lat, lon) float64 1.329 0.5659 ... nan nan\n",
       "    mon_chla             (time, lat, lon) float64 -0.1844 0.1136 ... nan nan\n",
       "    seas_chla            (season_time, lat, lon) float64 -0.2644 0.06716 ... nan\n",
       "    chla_mon_clim        (month, lat, lon) float64 0.02319 -0.07761 ... nan nan\n",
       "    chla_seas_clim       (season, lat, lon) float64 -0.0662 -0.06662 ... nan nan\n",
       "    mon_chla_mon_anom    (time, lat, lon) float64 -0.1034 0.03836 ... nan nan\n",
       "    seas_chla_seas_anom  (season_time, lat, lon) float64 -0.1253 0.0705 ... nan"
      ]
     },
     "execution_count": 11,
     "metadata": {},
     "output_type": "execute_result"
    }
   ],
   "source": [
    "import os\n",
    "\n",
    "outfn = 'chl_' + resolution + '_monthly_processed.nc'\n",
    "\n",
    "# delete if already present\n",
    "if os.path.isfile(outfn):\n",
    "    os.remove(outfn)\n",
    "\n",
    "ds.to_netcdf(outfn,mode='w',format = \"NETCDF4\")\n",
    "\n",
    "ds"
   ]
  },
  {
   "cell_type": "code",
   "execution_count": 12,
   "metadata": {},
   "outputs": [
    {
     "data": {
      "text/plain": [
       "<xarray.DataArray 'chl1_mean' ()>\n",
       "array(0.018674)"
      ]
     },
     "execution_count": 12,
     "metadata": {},
     "output_type": "execute_result"
    }
   ],
   "source": [
    "mon_chl_dtrnd.min()"
   ]
  },
  {
   "cell_type": "code",
   "execution_count": null,
   "metadata": {},
   "outputs": [],
   "source": []
  }
 ],
 "metadata": {
  "kernelspec": {
   "display_name": "Python 3",
   "language": "python",
   "name": "python3"
  },
  "language_info": {
   "codemirror_mode": {
    "name": "ipython",
    "version": 3
   },
   "file_extension": ".py",
   "mimetype": "text/x-python",
   "name": "python",
   "nbconvert_exporter": "python",
   "pygments_lexer": "ipython3",
   "version": "3.7.3"
  }
 },
 "nbformat": 4,
 "nbformat_minor": 2
}
